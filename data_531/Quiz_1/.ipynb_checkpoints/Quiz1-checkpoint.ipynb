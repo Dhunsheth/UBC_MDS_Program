{
 "cells": [
  {
   "cell_type": "markdown",
   "metadata": {},
   "source": [
    "# Quiz: Programming in Python "
   ]
  },
  {
   "cell_type": "markdown",
   "metadata": {},
   "source": [
    "****\n",
    "**Name**: Dhun Sheth\n",
    "\n",
    "**Date**: Sept, 20, 2023\n",
    "\n",
    "**LLM**: Copilot/ChatGPT/Other\n",
    "****"
   ]
  },
  {
   "cell_type": "markdown",
   "metadata": {},
   "source": [
    "## INSTRUCTIONS.\n",
    "\n",
    "- Read carefully the description and write a python program for each exercise. \n",
    "- Accept the exam in Github classroom and then submit the URL of your repo to CANVAS before 12:00 PM (Sept 20th). As you have done for Lab 1, and Lab 2.\n",
    "- There are a total of **30 marks**\n",
    "- You are allowed to use your course notes and lab notes.\n",
    "- Use either the PEP-8 or scipy style in every function in code to describe what the function does. If the function is very simple, you are allowed to use one-line docstrings. Note that if you have the exercise correct but you have not used PEP-8 or scipy style in your functions, you will not have a full mark. \n",
    "- Follow the PEP 8 style guide when writing your Python programs (e.g., use meaningful variable names, use space when declaring a new variable, etc.)\n",
    "- Write tests for each program."
   ]
  },
  {
   "cell_type": "markdown",
   "metadata": {},
   "source": [
    "\n",
    "### Exercise 1 (11 marks)\n",
    "- Write a function called ``createList`` that takes a number (N) as input and builds a list with that many numbers from 1 to N (2 marks)\n",
    "- Call your function ``createList`` to create a list with 7 numbers and print out the list that it returns (1 mark)\n",
    "- Print the average of all the values in the list using the string formatting (1 mark)\n",
    "- Print the list in reverse order (2 marks)\n",
    "- Then print out every second number in the list. You must create another function for this. The second function should not print anything itself. The printing must be done outside the function. (3 mark)\n",
    "- Test your functions using assertions statements (2 mark)\n",
    "\n",
    "\n",
    "\n",
    "**Sample output**\n",
    "\n",
    "    [1, 2, 3, 4, 5, 6, 7]\n",
    "\n",
    "    Average is 4.0\n",
    "    \n",
    "    [7, 6, 5, 4, 3, 2, 1]\n",
    "    \n",
    "    1\n",
    "    3\n",
    "    5\n",
    "    7"
   ]
  },
  {
   "cell_type": "code",
   "execution_count": 34,
   "metadata": {},
   "outputs": [
    {
     "name": "stdout",
     "output_type": "stream",
     "text": [
      "[1, 2, 3, 4, 5, 6, 7]\n",
      "\n",
      "Average is 4.0\n",
      "\n",
      "\n",
      "[7, 6, 5, 4, 3, 2, 1]\n",
      "\n",
      "1\n",
      "3\n",
      "5\n",
      "7\n"
     ]
    }
   ],
   "source": [
    "## Write your code here\n",
    "def createList(N):\n",
    "    \"\"\"\n",
    "    Returns a list from 1 to N, inclusive of N.\n",
    "    \n",
    "    Creates a list of values from 1 to N and returns this list.\n",
    "    \n",
    "    Parameters\n",
    "    ----------\n",
    "    N: int\n",
    "        Value to create the list from 1 to N, inclusive of N.\n",
    "        \n",
    "    Returns\n",
    "    -------\n",
    "    created_list\n",
    "        The created list of numbers from 1 to N. \n",
    "        \n",
    "    Examples\n",
    "    --------\n",
    "    >>> createList(7)\n",
    "    [1, 2, 3, 4, 5, 6, 7]\n",
    "    \"\"\"\n",
    "    created_list = []\n",
    "    for i in range(1, int(N) + 1,1):\n",
    "        created_list.append(i)\n",
    "    return created_list\n",
    "\n",
    "def second_num_list(lst):\n",
    "    \"\"\"\n",
    "    Returns a list of every 2nd value from 1 to N.\n",
    "    \n",
    "    Parameters\n",
    "    ----------\n",
    "    lst: list\n",
    "        Value to create a list of every 2nd value from 1 to N.\n",
    "        \n",
    "    Returns\n",
    "    -------\n",
    "    new_list\n",
    "        List of every 2nd value from 1 to N. \n",
    "        \n",
    "    Examples\n",
    "    --------\n",
    "    >>> secont_num_list([1, 2, 3, 4, 5, 6, 7])\n",
    "    [1, 3, 5, 7]\n",
    "    \"\"\"\n",
    "    new_list = []\n",
    "    for i in range(lst[0],len(lst)+1,2):\n",
    "        new_list.append(i)\n",
    "    return new_list\n",
    "\n",
    "list_original = createList(7)\n",
    "print(list_original)\n",
    "assert list_original == [1, 2, 3, 4, 5, 6, 7]\n",
    "\n",
    "print()\n",
    "\n",
    "average = float(sum(list_original)/len(list_original))\n",
    "print(f\"Average is {average}\")\n",
    "\n",
    "print()\n",
    "\n",
    "reverse_list = []\n",
    "for i in range(len(list_original), 0, -1):\n",
    "    reverse_list.append(i)\n",
    "print()\n",
    "print(reverse_list)\n",
    "\n",
    "print()\n",
    "\n",
    "new_list = second_num_list(list_original)\n",
    "assert new_list == [1, 3, 5, 7]\n",
    "for i in new_list:\n",
    "    print(i)\n",
    "\n",
    "\n",
    "    "
   ]
  },
  {
   "cell_type": "markdown",
   "metadata": {},
   "source": [
    "### Exercise 1 (8 Marks)\n",
    "\n",
    "Use the ExamQuiz.csv input file, which contains records with people's name, age, gender, height, weight, country, email. \n",
    "\n",
    "1. Read the CSV file using the ``import csv`` and save it into a list called ``data``. Handle errors using try-except. (2 marks)\n",
    "2. Read the CSV file using pandas and save it in a data frame called ``df``(2 mark)\n",
    "3. Print the last 5 rows of ``data``. (1 mark)\n",
    "4. Print the last 5 rows of ``df``. (1 mark)\n",
    "5. Print the average weight of all people over the age of 30. (2 marks)\n",
    "\n",
    "\n",
    "\n",
    "**Sample output**\n",
    "\n",
    "        ['Raphael', '78', 'M', '134', '126', 'Tuvalu', 'turpis@Integeridmagna.net']\n",
    "        ['Leo', '85', 'M', '142', '243', 'Somalia', 'cursus.in.hendrerit@Quisqueliberolacus.ca']\n",
    "        ['Martha', '62', 'F', '93', '227', 'Iceland', 'tristique@etrutrum.org']\n",
    "        ['Cade', '84', 'M', '199', '255', 'Afghanistan', 'ultricies.sem.magna@ametultricies.edu']\n",
    "        ['Hasad', '95', 'M', '75', '265', 'Serbia', 'Nam.ligula.elit@Vestibulum.edu']\n",
    "\n",
    "        Average weight of people over 30: 196.46052631578948"
   ]
  },
  {
   "cell_type": "code",
   "execution_count": 78,
   "metadata": {},
   "outputs": [
    {
     "name": "stdout",
     "output_type": "stream",
     "text": [
      "['Raphael', '78', 'M', '134', '126', 'Tuvalu', 'turpis@Integeridmagna.net']\n",
      "['Leo', '85', 'M', '142', '243', 'Somalia', 'cursus.in.hendrerit@Quisqueliberolacus.ca']\n",
      "['Martha', '62', 'F', '93', '227', 'Iceland', 'tristique@etrutrum.org']\n",
      "['Cade', '84', 'M', '199', '255', 'Afghanistan', 'ultricies.sem.magna@ametultricies.edu']\n",
      "['Hasad', '95', 'M', '75', '265', 'Serbia', 'Nam.ligula.elit@Vestibulum.edu']\n",
      "\n",
      "       name  age gender  height  weight      country  \\\n",
      "95  Raphael   78      M     134     126       Tuvalu   \n",
      "96      Leo   85      M     142     243      Somalia   \n",
      "97   Martha   62      F      93     227      Iceland   \n",
      "98     Cade   84      M     199     255  Afghanistan   \n",
      "99    Hasad   95      M      75     265       Serbia   \n",
      "\n",
      "                                        email  \n",
      "95                  turpis@Integeridmagna.net  \n",
      "96  cursus.in.hendrerit@Quisqueliberolacus.ca  \n",
      "97                     tristique@etrutrum.org  \n",
      "98      ultricies.sem.magna@ametultricies.edu  \n",
      "99             Nam.ligula.elit@Vestibulum.edu  \n",
      "something went wrong with counting sum of weights\n"
     ]
    },
    {
     "ename": "ValueError",
     "evalue": "invalid literal for int() with base 10: 'age'",
     "output_type": "error",
     "traceback": [
      "\u001b[0;31m---------------------------------------------------------------------------\u001b[0m",
      "\u001b[0;31mValueError\u001b[0m                                Traceback (most recent call last)",
      "Cell \u001b[0;32mIn[78], line 30\u001b[0m\n\u001b[1;32m     28\u001b[0m \u001b[38;5;28;01mfor\u001b[39;00m i \u001b[38;5;129;01min\u001b[39;00m csv_file_rows:\n\u001b[1;32m     29\u001b[0m     \u001b[38;5;28;01mif\u001b[39;00m i[\u001b[38;5;241m0\u001b[39m] \u001b[38;5;241m!=\u001b[39m \u001b[38;5;124m\"\u001b[39m\u001b[38;5;124mage\u001b[39m\u001b[38;5;124m\"\u001b[39m:\n\u001b[0;32m---> 30\u001b[0m         \u001b[38;5;28;01mif\u001b[39;00m (\u001b[38;5;28;43mint\u001b[39;49m\u001b[43m(\u001b[49m\u001b[43mi\u001b[49m\u001b[43m[\u001b[49m\u001b[38;5;241;43m1\u001b[39;49m\u001b[43m]\u001b[49m\u001b[43m)\u001b[49m \u001b[38;5;241m>\u001b[39m \u001b[38;5;241m30\u001b[39m):\n\u001b[1;32m     31\u001b[0m             \u001b[38;5;28msum\u001b[39m \u001b[38;5;241m=\u001b[39m \u001b[38;5;28msum\u001b[39m \u001b[38;5;241m+\u001b[39m \u001b[38;5;28mint\u001b[39m(i[\u001b[38;5;241m4\u001b[39m])\n\u001b[1;32m     32\u001b[0m             count \u001b[38;5;241m=\u001b[39m count \u001b[38;5;241m+\u001b[39m \u001b[38;5;241m1\u001b[39m\n",
      "\u001b[0;31mValueError\u001b[0m: invalid literal for int() with base 10: 'age'"
     ]
    }
   ],
   "source": [
    "## Write your code here\n",
    "import csv\n",
    "import pandas as pd\n",
    "\n",
    "try:\n",
    "    \n",
    "    csv_file_rows = []\n",
    "    with open(\"dataQuiz.csv\", \"r\") as infile:\n",
    "    \tcsvfile = csv.reader(infile)\n",
    "    \tfor row in csvfile:\n",
    "    \t\tcsv_file_rows.append(row)\n",
    "except Exception as ex:\n",
    "    print(ex)\n",
    "\n",
    "df = pd.read_csv(\"dataQuiz.csv\",)\n",
    "\n",
    "for i in range(len(csv_file_rows)-5,len(csv_file_rows),1):\n",
    "    print(csv_file_rows[i])\n",
    "    #print(csv_file_rows[-5:len(csv_file_rows)])\n",
    "\n",
    "print()\n",
    "\n",
    "print(df.tail(5))\n",
    "\n",
    "try:\n",
    "    total_weight = 0\n",
    "    count = 0\n",
    "    for i in csv_file_rows:\n",
    "        if i[0] != \"age\":\n",
    "            if (int(i[1]) > 30):\n",
    "                sum = sum + int(i[4])\n",
    "                count = count + 1\n",
    "except:\n",
    "    print(\"something went wrong with counting sum of weights\")\n",
    "    raise\n",
    "\n",
    "        \n",
    "average_weight = sum/count\n",
    "print(average_weight)\n"
   ]
  },
  {
   "cell_type": "markdown",
   "metadata": {},
   "source": [
    "### Exercise 3 (11 marks)\n",
    "Answer the questions below:\n"
   ]
  },
  {
   "cell_type": "markdown",
   "metadata": {},
   "source": [
    "1) How many of the following variable names are valid (1 mark)\n",
    "   * ``if``\n",
    "   * ``a b``\n",
    "   * ``ever4``\n",
    "   * ``under_SCORE_``\n",
    "   * ``NoT``\n",
    "   * ``num2!``"
   ]
  },
  {
   "cell_type": "markdown",
   "metadata": {},
   "source": [
    "Your answer: 3"
   ]
  },
  {
   "cell_type": "code",
   "execution_count": 71,
   "metadata": {},
   "outputs": [],
   "source": []
  },
  {
   "cell_type": "markdown",
   "metadata": {},
   "source": [
    "2) What is the key difference between a list and a tuple in Python? (1 mark)\n",
    "\n",
    "    A) Lists are immutable, while tuples are mutable.\n",
    "\n",
    "    B) Lists are ordered collections, while tuples are unordered.\n",
    "\n",
    "    C) Lists use square brackets, while tuples use parentheses.\n",
    "\n",
    "    D) Lists can only contain integers, while tuples can contain any data type."
   ]
  },
  {
   "cell_type": "markdown",
   "metadata": {},
   "source": [
    "Your answer: C"
   ]
  },
  {
   "cell_type": "markdown",
   "metadata": {},
   "source": [
    "3)  Write a value of the string \"str\" with which we can get the desired output (1 mark)\n",
    "\n",
    "    ```\n",
    "    str = __________\n",
    "    print (str[1:4]+str[-1])\n",
    "    ```\n",
    "> DESIRED OUTPUT: ythn"
   ]
  },
  {
   "cell_type": "markdown",
   "metadata": {},
   "source": [
    "Your answer: str = \"python\""
   ]
  },
  {
   "cell_type": "code",
   "execution_count": 72,
   "metadata": {},
   "outputs": [
    {
     "name": "stdout",
     "output_type": "stream",
     "text": [
      "ythn\n"
     ]
    }
   ],
   "source": [
    "str = \"python\"\n",
    "print(str[1:4]+str[-1])"
   ]
  },
  {
   "cell_type": "markdown",
   "metadata": {},
   "source": [
    "4) In Python, which keyword is used to open a file in write mode, creating the file if it doesn't exist or truncating it if it does? (1 mark)\n",
    "\n",
    "    A) open\n",
    "\n",
    "    B) create\n",
    "\n",
    "    C) write\n",
    "    \n",
    "    D) w"
   ]
  },
  {
   "cell_type": "markdown",
   "metadata": {},
   "source": [
    "Your answer: D"
   ]
  },
  {
   "cell_type": "markdown",
   "metadata": {},
   "source": [
    "5) What is the purpose of the try, except, else, and finally blocks in Python exception handling? Explain it with your own words (1 mark)\n"
   ]
  },
  {
   "cell_type": "markdown",
   "metadata": {},
   "source": [
    "Your answer: to allow your code to fail gracefully and see what it is failing."
   ]
  },
  {
   "cell_type": "markdown",
   "metadata": {},
   "source": [
    "6) Assume the data file mydata.txt file exists and can be successfully opened. It contains 10 lines in total with each line having a number except for the 5th line which contains the word \"missing\". How many lines of output does this code produce? (2 marks)\n",
    "   \n",
    "\t\t```\n",
    "\t\ttry:\n",
    "\t\t\twith open(\"mydata.txt\", \"r\") as infile:\n",
    "\t\t\t\tfor line in infile:\n",
    "\t\t\t\t\tprint(int(line))\n",
    "\t\t\tprint(\"done\")\n",
    "\t\texcept:\n",
    "\t\t\tprint(\"error\")\n",
    "\t\tfinally:\n",
    "\t\t\tprint(\"finally\")\n",
    "\t\tprint(\"done\")\n",
    "\t\t```\n",
    "\n"
   ]
  },
  {
   "cell_type": "markdown",
   "metadata": {},
   "source": [
    "Your answer: prints the first 4 lines"
   ]
  },
  {
   "cell_type": "markdown",
   "metadata": {},
   "source": [
    "7) Explain the following code does: (1 mark)\n",
    "\n",
    "    ```\n",
    "    r = lambda x, y : x * y\n",
    "    print(r(10, 5))\n",
    "\n",
    "    ```"
   ]
  },
  {
   "cell_type": "markdown",
   "metadata": {},
   "source": [
    "Your answer: it is a lamda function which takes 2 values and multiplies them, so this would print 15"
   ]
  },
  {
   "cell_type": "markdown",
   "metadata": {},
   "source": [
    "8) Using list comprehension, construct a list containing the squares of each element in my_list. (1 marks)\n",
    "\n",
    "     ``my_list = [1,2,3,4,5]``"
   ]
  },
  {
   "cell_type": "markdown",
   "metadata": {},
   "source": [
    "Your answer: y = [i**i for i in my_list]"
   ]
  },
  {
   "cell_type": "code",
   "execution_count": 73,
   "metadata": {},
   "outputs": [
    {
     "name": "stdout",
     "output_type": "stream",
     "text": [
      "[1, 4, 27, 256, 3125]\n"
     ]
    }
   ],
   "source": [
    "my_list = [1,2,3,4,5]\n",
    "y  = [i**i for i in my_list]\n",
    "print(y)"
   ]
  },
  {
   "cell_type": "markdown",
   "metadata": {},
   "source": [
    "9. Which of the following is NOT a valid way to create a dictionary in Python? (1 mark)\n",
    "\n",
    "    A) ``my_dict = {}``\n",
    "\n",
    "    B) ``my_dict = dict()``\n",
    "\n",
    "    C) ``my_dict = {1: 'one', 2: 'two'}``\n",
    "\n",
    "    D) ``my_dict = [1, 2, 3]``"
   ]
  },
  {
   "cell_type": "markdown",
   "metadata": {},
   "source": [
    "Your answer: D"
   ]
  },
  {
   "cell_type": "markdown",
   "metadata": {},
   "source": [
    "10. Which of the following is used to create a shallow copy of a list in Python? (1 mark)\n",
    "    \n",
    "    A) copy.deepcopy()\n",
    "\n",
    "    B) list.copy()\n",
    "\n",
    "    C) list()\n",
    "\n",
    "    D) [:]\n"
   ]
  },
  {
   "cell_type": "markdown",
   "metadata": {},
   "source": [
    "Your answer: B"
   ]
  }
 ],
 "metadata": {
  "kernelspec": {
   "display_name": "Python 3 (ipykernel)",
   "language": "python",
   "name": "python3"
  },
  "language_info": {
   "codemirror_mode": {
    "name": "ipython",
    "version": 3
   },
   "file_extension": ".py",
   "mimetype": "text/x-python",
   "name": "python",
   "nbconvert_exporter": "python",
   "pygments_lexer": "ipython3",
   "version": "3.10.12"
  },
  "vscode": {
   "interpreter": {
    "hash": "3826030b10367e6527e470a14e88951c03e8492f806ab718ca32b55fd9372f29"
   }
  }
 },
 "nbformat": 4,
 "nbformat_minor": 4
}
