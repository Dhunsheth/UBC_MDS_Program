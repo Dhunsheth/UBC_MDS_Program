{
 "cells": [
  {
   "cell_type": "markdown",
   "metadata": {},
   "source": [
    "# DATA 531: Lab 4 - Programming with R"
   ]
  },
  {
   "cell_type": "markdown",
   "metadata": {},
   "source": [
    "****\n",
    "**Name**: FirstName LastName\n",
    "\n",
    "**Date**: \n",
    "\n",
    "**LLM**: \n",
    "\n",
    "****"
   ]
  },
  {
   "cell_type": "markdown",
   "metadata": {},
   "source": [
    "## Obejctives:\n",
    "\n",
    "- Familiarity writing functions in R\n",
    "- Reading and analysing data from csv files in R"
   ]
  },
  {
   "cell_type": "markdown",
   "metadata": {},
   "source": [
    "## Question #1 - Creating and Calling Functions (2 marks)\n",
    "You must have solved this question by now in **Python**. Today you will implement the same problem in **R**. In this question you will practice how to create and call functions in **R** as well as add documentation to the function using either docstring or roxygen2.\n",
    "\n",
    "Create a R program that creates and calls a function for calculating the average of a list of values. Details:\n",
    "\n",
    "- Create function with name `avglist` that accepts three parameters: **(0.5 mark)**\n",
    "    - lst - list of numbers\n",
    "    - low - miminum value (not inclusive). Default = 0\n",
    "    - high - maximum value (not inclusive). Default = 100\n",
    "- Function will calculate and return the average of all values in the range (low, high). **(0.5 mark)**\n",
    "- Function should have documentation, print the document **(0.5 mark)**\n",
    "- Generate a *sequence* of 100 random numbers between 1 and 100 and call avglist() with range (30, 100) and print the result. **(0.5 marks)**"
   ]
  },
  {
   "cell_type": "markdown",
   "metadata": {},
   "source": [
    "## Question #2 - Data Analysis using R (2marks)\n",
    "Performa a data analysis using R with data in a CSV file. Use [lab4.csv](sensor.csv) and read the data into a dataframe.\n",
    "\n",
    "- Create a new dataframe with the following information in each row. The column names are the same as the column names from the previous dataframe (lab4) (0.5 mark)\n",
    "    - Diego, 22, M, 129, 50.77, Mexico, diegor@mail.tfr.mx\n",
    "    - Kim, 67, F, 103, 32.11, North Korea, kimlady@gmail.com\n",
    "    - Nelson, 11, M, 100, 22.74, Uganda, nSekitolenko@urj.com\n",
    "-  Combine both dataframes (0.5 mark)\n",
    "-  Create and print a vector that contains the average of all the numeric columns in our dataframe. (1 mark)\n",
    "\n"
   ]
  },
  {
   "cell_type": "markdown",
   "metadata": {},
   "source": [
    "## Question #3 - Data Analysis using R (6 marks)\n",
    "\n",
    "\n",
    "Perform data analysis using R with data in a CSV file. Use [sensor.csv](sensor.csv) file and read the data from the csv into a data frame. The columns from the csv are:\n",
    "\n",
    "    - siteid: the identification of the site. There are 5 different sites\n",
    "    - sensorid: the identifcation of the sensor. There are 3 different sensors\n",
    "    - timestap: the timestamp at which the sensorid id the siteid collected the information\n",
    "    - value: the collected value of the sensorid in the siteid.\n",
    "\n",
    "- From the dataframe, extract the day information into a numeric vector and add that to the dataframe as a new column called day. (1 mark) \n",
    "- From the dataframe, extract the time information into a vector and add that to the dataframe as new column called time. (1 mark)\n",
    "- Create a dataset called ``sensors_clean`` that only contains those observations where the value is between 0 and 100 inclusive. Make sure that the value column are numbers. (1.5 marks)\n",
    "- Create a list called data_summary that contains the following: (1.5 marks)\n",
    "    - count of valid readings (value within bounds described earlier) of the dataframe\n",
    "    - minimum reading of the dataframe\n",
    "    - mean reading of the dataframe\n",
    "    - range of readings of the dataframe\n",
    "    - maximum reading of any sensor at site 2 of the dataframe. \n",
    "    - total number of observations of site 1 sensor 2 of the dataframe\n",
    "- Create a histogram of sensor_clean data values. The histogram should be self-explanatory (0.5 mark)\n",
    "- Create a boxplot that compares the three different sensors. The boxplot should be self-explanatory (0.5 mark)"
   ]
  }
 ],
 "metadata": {
  "kernelspec": {
   "display_name": "Python 3",
   "language": "python",
   "name": "python3"
  },
  "language_info": {
   "codemirror_mode": {
    "name": "ipython",
    "version": 3
   },
   "file_extension": ".py",
   "mimetype": "text/x-python",
   "name": "python",
   "nbconvert_exporter": "python",
   "pygments_lexer": "ipython3",
   "version": "3.8.3"
  }
 },
 "nbformat": 4,
 "nbformat_minor": 4
}
