{
 "cells": [
  {
   "cell_type": "markdown",
   "metadata": {},
   "source": [
    "# DATA 531: Lab 3 - Programming with R"
   ]
  },
  {
   "cell_type": "markdown",
   "metadata": {},
   "source": [
    "****\n",
    "**Name**: FirstName LastName\n",
    "\n",
    "**Date**: \n",
    "\n",
    "**LLM**: None/Copilot/ChatGPT/Other\n",
    "****"
   ]
  },
  {
   "cell_type": "markdown",
   "metadata": {},
   "source": [
    "## Obejctives:\n",
    "\n",
    "- Practice using if statements, for loops, vectors, and data frames. \n",
    "- Familiarity writing functions in R\n",
    "- Raw text formatting and Data Cleaning in R \n",
    "- Reading and analysing data from csv files in R"
   ]
  },
  {
   "cell_type": "markdown",
   "metadata": {},
   "source": [
    "## Question #1 - R Functions, Decisions, and Loops (5 marks)\n",
    "\n",
    "Create a R program that analyzes a vector of data and returns summary statistics. Details:\n",
    "- Create a function called ``analyzeData`` that takes a vector of numbers as input. (0.5 marks)\n",
    "- The function should:\n",
    "    - Print the vector values. (0.5 marks)\n",
    "    - Print the first and last value. (0.5 marks) Note: May use ``paste()`` to combine values into a single string for printing.\n",
    "    - Print the mean, median, variance, and standard deviation. (0.5 mark)\n",
    "    - Return the mean, median, variance, and standard deviation as a vector of values. (0.5 mark)\n",
    "- Call your function with a vector of the numbers 1 to 10 inclusive. (0.5 marks)\n",
    "- Print ``\"Mean larger than median\"`` if mean is greater than median, otherwise print ``\"Mean NOT larger than median\"``. This print must be done outside of function. (1 mark)\n",
    "- Use a for loop to call your function 3 times using random data. To generate a vector of 10 random numbers use ``sample(1:10, 10, replace=TRUE)``. (1 mark) \n",
    "\n",
    "\n",
    "### Sample Output\n",
    "    [1] 1  2  3  4  5  6  7  8  9 10\n",
    "    [1] \"First value: 1 Last value: 10\"\n",
    "    [1] \"Mean: 5.5 Median: 5.5 Var: 9.16666666666667 Sd: 3.02765035409749\"\n",
    "    [1] \"Mean NOT larger than median\"\n",
    "    [1] 7  5  1 10  3  6  7  1  2 10\n",
    "    [1] \"First value: 7 Last value: 10\"\n",
    "    [1] \"Mean: 5.2 Median: 5.5 Var: 11.5111111111111 Sd: 3.39280283999986\"\n",
    "    [1] 5 1 2 5 7 6 9 1 4 8\n",
    "    [1] \"First value: 5 Last value: 8\"\n",
    "    [1] \"Mean: 4.8 Median: 5 Var: 7.95555555555556 Sd: 2.82055944017416\"\n",
    "    [1] 4 7 3 6 1 4 8 7 2 3\n",
    "    [1] \"First value: 4 Last value: 3\"\n",
    "    [1] \"Mean: 4.5 Median: 4 Var: 5.61111111111111 Sd: 2.36877840059198\""
   ]
  }
 ],
 "metadata": {
  "kernelspec": {
   "display_name": "Python 3.8.9 64-bit",
   "language": "python",
   "name": "python3"
  },
  "language_info": {
   "name": "python",
   "version": "3.8.9"
  },
  "orig_nbformat": 4,
  "vscode": {
   "interpreter": {
    "hash": "31f2aee4e71d21fbe5cf8b01ff0e069b9275f58929596ceb00d14d90e3e16cd6"
   }
  }
 },
 "nbformat": 4,
 "nbformat_minor": 2
}
