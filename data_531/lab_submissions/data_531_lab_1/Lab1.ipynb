{
 "cells": [
  {
   "cell_type": "markdown",
   "metadata": {},
   "source": [
    "# DATA 531 Lab 1: Python Lists, and Dictionaries:"
   ]
  },
  {
   "cell_type": "markdown",
   "metadata": {},
   "source": [
    "****\n",
    "**Name**: Dhun Sheth\n",
    "\n",
    "**Date**: September 6th, 2023\n",
    "\n",
    "**LLM**: None\n",
    "****"
   ]
  },
  {
   "cell_type": "markdown",
   "metadata": {},
   "source": [
    "### Exercise #1: Word Count (2 marks)\n",
    "\n",
    "Now it’s time for our first problem! We’re going to use Python to write a little word-count program. We’ll learn how to read input from the user, process the input to solve the problem, and output the result. We’ll also learn how to manipulate text and numbers in our programs, make use of built-in Python operations, and store intermediate results on our way to the solution."
   ]
  },
  {
   "cell_type": "markdown",
   "metadata": {},
   "source": [
    "**The Challenge**\n",
    "\n",
    "Count the number of words provided. For this problem, a word is any sequence of lowercase letters. For example, hello is a word, but so are non-\n",
    "English “words” like bbaabbb.\n",
    "\n",
    "**Input**\n",
    "\n",
    "The input is one line of text, consisting of lowercase letters and spaces. There is exactly one space between each pair of words, and there are no spaces before the first word or after the last word.\n",
    "\n",
    "The maximum length of the line is 80 characters.\n",
    "\n",
    "**Output**\n",
    "\n",
    "Output the number of words in the input line."
   ]
  },
  {
   "cell_type": "code",
   "execution_count": 1,
   "metadata": {},
   "outputs": [
    {
     "name": "stdin",
     "output_type": "stream",
     "text": [
      "Enter a line of text\n",
      "    he@ jajj2454 2 3 @ $ % ^ &* JDJ#! ))(   \n"
     ]
    },
    {
     "name": "stdout",
     "output_type": "stream",
     "text": [
      "3\n"
     ]
    }
   ],
   "source": [
    "#Solution\n",
    "#count = 0\n",
    "#error = False\n",
    "\n",
    "one_line_text = input('Enter a line of text\\n')\n",
    "one_line_text.lower\n",
    "for a in one_line_text:\n",
    "    if a == \" \":\n",
    "        continue\n",
    "    else:\n",
    "        if a.isalnum() == False:\n",
    "            one_line_text = one_line_text.replace(a,'')\n",
    "        if a.isalpha() == False:\n",
    "            one_line_text = one_line_text.replace(a,'')\n",
    "\n",
    "line_list = one_line_text.split()\n",
    "# print(line_list)\n",
    "\n",
    "if len(line_list) <= 0:\n",
    "    print('No words found')\n",
    "else:\n",
    "    print(len(line_list))\n",
    "\n",
    "\n",
    "# for a in line_list:\n",
    "#     if a.isalpha() == False:\n",
    "#         print('The input does not meet the requirements, please try again.')\n",
    "#         error = True\n",
    "#         break\n",
    "#     else:\n",
    "#         count += 1\n",
    "        \n",
    "# if error == False:\n",
    "#     print(count)\n"
   ]
  },
  {
   "cell_type": "markdown",
   "metadata": {},
   "source": [
    "### Exercise #2: Winning Team (3 marks)\n",
    "\n",
    "In this problem, we’ll need to output a message that depends on the outcome of a basketball game. To do that, we’ll learn all about if statements. We’ll also learn how we can store and manipulate true and false values in our programs"
   ]
  },
  {
   "cell_type": "markdown",
   "metadata": {},
   "source": [
    "**The Challenge**\n",
    "\n",
    "In basketball, three plays score points: a three-point shot, a two-point shot, and a one-point free throw.\n",
    "\n",
    "You just watched a basketball game between the Apples and Bananas and recorded the number of successful three-point, two-point, and onepoint\n",
    "plays for each team. Indicate whether the game was won by the Apples, the game was won by the Bananas, or the game was a tie.\n",
    "\n",
    "**Input**\n",
    "\n",
    "There are six lines of input. The first three give the scoring for the Apples, and the latter three give the scoring for the Bananas.\n",
    "\n",
    "- The first line gives the number of successful three-point shots for the Apples.\n",
    "- The second line gives the number of successful two-point shots for the Apples.\n",
    "- The third line gives the number of successful one-point free throws for the Apples.\n",
    "- The fourth line gives the number of successful three-point shots for the Bananas.\n",
    "- The fifth line gives the number of successful two-point shots for the Bananas.\n",
    "- The sixth line gives the number of successful one-point free throws for the Bananas.\n",
    "\n",
    "Each number is an integer between 0 and 100.\n",
    "\n",
    "**Output**\n",
    "\n",
    "The output is a single character.\n",
    "- If the Apples scored more points than the Bananas, output A (A for Apples).\n",
    "- If the Bananas scored more points than the Apples, output B (B for Bananas).\n",
    "- If the Apples and Bananas scored the same number of points, outputT (T for Tie)."
   ]
  },
  {
   "cell_type": "code",
   "execution_count": 4,
   "metadata": {},
   "outputs": [
    {
     "name": "stdout",
     "output_type": "stream",
     "text": [
      "# of 3 point shots scored by the Apples\n",
      "      3    \n",
      "# of 2 point shots scored by the Apples\n",
      "1      \n",
      "# of 1 point shots scored by the Apples\n",
      "      4\n",
      "# of 3 point shots scored by the Banana\n",
      "      4\n",
      "# of 2 point shots scored by the Banana\n",
      "2\n",
      "# of 1 point shots scored by the Banana\n",
      "           1\n",
      "B\n"
     ]
    }
   ],
   "source": [
    "#Solution\n",
    "\n",
    "apple_3 = (input('# of 3 point shots scored by the Apples\\n'))\n",
    "apple_3 = apple_3.strip()\n",
    "if apple_3.isnumeric() == False:\n",
    "    raise SystemExit('Entered a non-numeric value, please try again.')\n",
    "if int(apple_3) < 0 or int(apple_3) > 100:\n",
    "    raise SystemExit('Entered a value less than 0 or greater than 100, please try again.')\n",
    "\n",
    "apple_2 = (input('# of 2 point shots scored by the Apples\\n'))\n",
    "apple_2 = apple_2.strip()\n",
    "if apple_2.isnumeric() == False:\n",
    "    raise SystemExit('Entered a non-numeric value, please try again.')\n",
    "if int(apple_2) < 0 or int(apple_2) > 100:\n",
    "    raise SystemExit('Entered a value less than 0 or greater than 100, please try again.')\n",
    "\n",
    "apple_1 = (input('# of 1 point shots scored by the Apples\\n'))\n",
    "apple_1 = apple_1.strip()\n",
    "if apple_1.isnumeric() == False:\n",
    "    raise SystemExit('Entered a non-numeric value, please try again.')\n",
    "if int(apple_1) < 0 or int(apple_1) > 100:\n",
    "    raise SystemExit('Entered a value less than 0 or greater than 100, please try again.')\n",
    "\n",
    "banana_3 = (input('# of 3 point shots scored by the Banana\\n'))\n",
    "banana_3 = banana_3.strip()\n",
    "if banana_3.isnumeric() == False:\n",
    "    raise SystemExit('Entered a non-numeric value, please try again.')\n",
    "if int(banana_3) < 0 or int(banana_3) > 100:\n",
    "    raise SystemExit('Entered a value less than 0 or greater than 100, please try again.')\n",
    "\n",
    "banana_2 = (input('# of 2 point shots scored by the Banana\\n'))\n",
    "banana_2 = banana_2.strip()\n",
    "if banana_2.isnumeric() == False:\n",
    "    raise SystemExit('Entered a non-numeric value, please try again.')\n",
    "if int(banana_2) < 0 or int(banana_2) > 100:\n",
    "    raise SystemExit('Entered a value less than 0 or greater than 100, please try again.')\n",
    "\n",
    "banana_1 = (input('# of 1 point shots scored by the Banana\\n'))\n",
    "banana_1 = banana_1.strip()\n",
    "if banana_1.isnumeric() == False:\n",
    "    raise SystemExit('Entered a non-numeric value, please try again.')\n",
    "if int(banana_1) < 0 or int(banana_1) > 100:\n",
    "    raise SystemExit('Entered a value less than 0 or greater than 100, please try again.')\n",
    "\n",
    "apple_total = apple_3*3 + apple_2*2 + apple_1\n",
    "banana_total = banana_3*3 + banana_2*2 + banana_1\n",
    "\n",
    "if apple_total > banana_total:\n",
    "    # print(apple_total)\n",
    "    # print(banana_total)\n",
    "    print('A')\n",
    "elif apple_total < banana_total:\n",
    "    # print(apple_total)\n",
    "    # print(banana_total)\n",
    "    print('B')\n",
    "else:\n",
    "    # print(apple_total)\n",
    "    # print(banana_total)\n",
    "    print('T')"
   ]
  }
 ],
 "metadata": {
  "kernelspec": {
   "display_name": "Python 3 (ipykernel)",
   "language": "python",
   "name": "python3"
  },
  "language_info": {
   "codemirror_mode": {
    "name": "ipython",
    "version": 3
   },
   "file_extension": ".py",
   "mimetype": "text/x-python",
   "name": "python",
   "nbconvert_exporter": "python",
   "pygments_lexer": "ipython3",
   "version": "3.10.12"
  }
 },
 "nbformat": 4,
 "nbformat_minor": 4
}
