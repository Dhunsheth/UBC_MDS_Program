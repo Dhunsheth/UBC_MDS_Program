{
 "cells": [
  {
   "cell_type": "markdown",
   "metadata": {},
   "source": [
    "# DATA-531 Lecture 4"
   ]
  },
  {
   "cell_type": "markdown",
   "metadata": {},
   "source": [
    "#### (From previous class) Can labmda return 2 values?\n",
    "\n",
    "- ```lambda x: (x+1, x+2)``` --> tuple\n",
    "- ```lambda x: [x+1, x+2]``` --> list\n",
    "- ```lambda x: x+1, x+2``` --> Error"
   ]
  },
  {
   "cell_type": "markdown",
   "metadata": {},
   "source": [
    "Outline:\n",
    "\n",
    "- Python classes\n",
    "- Python `import`\n",
    "- Importing your own functions  \n",
    "- Intriguing behaviour in Python \n",
    "- References \n",
    "- Function calls and references \n",
    "- `copy` and `deepcopy` \n",
    "- Scoping \n",
    "- Pandas"
   ]
  },
  {
   "cell_type": "code",
   "execution_count": 3,
   "metadata": {},
   "outputs": [],
   "source": [
    "import numpy as np"
   ]
  },
  {
   "cell_type": "markdown",
   "metadata": {},
   "source": [
    "## Python Classes (20 min)"
   ]
  },
  {
   "cell_type": "markdown",
   "metadata": {},
   "source": [
    "- We've seen data types like `dict` (built in to Python) and `np.ndarray` (3rd party library). \n",
    "- Today we'll see how to create our own data types. \n",
    "- These are called **classes** and an instance is called an **object**. (Classes documentation [here](https://docs.python.org/3/tutorial/classes.html).)\n",
    "- For our purposes, a type and a class are the same thing. Some discussion of the differences [here](https://stackoverflow.com/questions/468145/what-is-the-difference-between-type-and-class).\n",
    "- The general approach to programming using classes and objects is called [object-oriented programming](https://en.wikipedia.org/wiki/Object-oriented_programming)."
   ]
  },
  {
   "cell_type": "code",
   "execution_count": 4,
   "metadata": {},
   "outputs": [],
   "source": [
    "d = dict()"
   ]
  },
  {
   "cell_type": "markdown",
   "metadata": {},
   "source": [
    "Here, `d` is an object, whereas `dict` is a type. "
   ]
  },
  {
   "cell_type": "code",
   "execution_count": 5,
   "metadata": {},
   "outputs": [
    {
     "data": {
      "text/plain": [
       "dict"
      ]
     },
     "execution_count": 5,
     "metadata": {},
     "output_type": "execute_result"
    }
   ],
   "source": [
    "type(d)"
   ]
  },
  {
   "cell_type": "code",
   "execution_count": 6,
   "metadata": {},
   "outputs": [
    {
     "data": {
      "text/plain": [
       "type"
      ]
     },
     "execution_count": 6,
     "metadata": {},
     "output_type": "execute_result"
    }
   ],
   "source": [
    "type(dict)"
   ]
  },
  {
   "cell_type": "markdown",
   "metadata": {},
   "source": [
    "We say `d` is an **instance** of type `dict`. Hence"
   ]
  },
  {
   "cell_type": "code",
   "execution_count": 7,
   "metadata": {},
   "outputs": [
    {
     "data": {
      "text/plain": [
       "True"
      ]
     },
     "execution_count": 7,
     "metadata": {},
     "output_type": "execute_result"
    }
   ],
   "source": [
    "isinstance(d, dict)"
   ]
  },
  {
   "cell_type": "markdown",
   "metadata": {},
   "source": [
    "#### Why create your own types/classes?\n",
    "\n",
    "- Example: a circle in 2D space\n",
    "- You want to be able to _change_ the circle in several ways: move it or make it bigger or smaller.\n",
    "- You want to be able to compute properties of the circle: its area, circumference, and its distance to the origin."
   ]
  },
  {
   "cell_type": "code",
   "execution_count": 8,
   "metadata": {},
   "outputs": [],
   "source": [
    "x = 2.0\n",
    "y = 3.0\n",
    "r = 1.0 # radius\n",
    "\n",
    "def area(r):\n",
    "    \"\"\"Compute the area of a circle with radius r.\"\"\"\n",
    "    return np.pi * r**2\n",
    "\n",
    "def circumference(r):\n",
    "    \"\"\"Compute the circumference of a circle with radius r.\"\"\"\n",
    "    return 2.0 * np.pi * r\n",
    "\n",
    "def dist(x, y, r):\n",
    "    \"\"\"Compute the distance to the origin from a circle with centre x, y and radius r.\"\"\"\n",
    "    return np.abs((np.sqrt(x**2 + y**2) - r))"
   ]
  },
  {
   "cell_type": "code",
   "execution_count": 9,
   "metadata": {},
   "outputs": [
    {
     "data": {
      "text/plain": [
       "2.605551275463989"
      ]
     },
     "execution_count": 9,
     "metadata": {},
     "output_type": "execute_result"
    }
   ],
   "source": [
    "dist(x, y, r)"
   ]
  },
  {
   "cell_type": "code",
   "execution_count": 10,
   "metadata": {},
   "outputs": [
    {
     "data": {
      "text/plain": [
       "3.141592653589793"
      ]
     },
     "execution_count": 10,
     "metadata": {},
     "output_type": "execute_result"
    }
   ],
   "source": [
    "area(r)"
   ]
  },
  {
   "cell_type": "markdown",
   "metadata": {},
   "source": [
    "Now let's say you want two circles..."
   ]
  },
  {
   "cell_type": "markdown",
   "metadata": {},
   "source": [
    "This approach is very clunky. What if you accidentally call"
   ]
  },
  {
   "cell_type": "code",
   "execution_count": 11,
   "metadata": {},
   "outputs": [
    {
     "data": {
      "text/plain": [
       "4.0"
      ]
     },
     "execution_count": 11,
     "metadata": {},
     "output_type": "execute_result"
    }
   ],
   "source": [
    "x2= 3.0\n",
    "y2= 4.0\n",
    "r2= 2.0\n",
    "\n",
    "dist(x2, y2, r) # use the radius of the other circle by accident"
   ]
  },
  {
   "cell_type": "markdown",
   "metadata": {},
   "source": [
    "Ok, so maybe you can wrap everything in dictionaries:"
   ]
  },
  {
   "cell_type": "code",
   "execution_count": 13,
   "metadata": {},
   "outputs": [
    {
     "data": {
      "text/plain": [
       "2.605551275463989"
      ]
     },
     "execution_count": 13,
     "metadata": {},
     "output_type": "execute_result"
    }
   ],
   "source": [
    "circle1 = {\"x\" : x,\n",
    "           \"y\" : y,\n",
    "           \"r\" : r}\n",
    "\n",
    "circle2 = {\"x\" : x2,\n",
    "           \"y\" : y2,\n",
    "           \"r\" : r2}\n",
    "\n",
    "#dist(circle1[\"x\"], circle1[\"y\"], circle1[\"r\"])\n",
    "dist(**circle1)# fancy syntax to \"unpack\" a dictionary into the arguments of a function"
   ]
  },
  {
   "cell_type": "markdown",
   "metadata": {},
   "source": [
    "The above is slightly better, but still awkward. For example, you might accidentally do"
   ]
  },
  {
   "cell_type": "code",
   "execution_count": null,
   "metadata": {},
   "outputs": [],
   "source": [
    "circle3 = {\"x\" : 5,\n",
    "           \"z\" : 2,  # now circle3 has different property names by accident\n",
    "           \"r\" : 3}"
   ]
  },
  {
   "cell_type": "code",
   "execution_count": null,
   "metadata": {},
   "outputs": [],
   "source": [
    "dist(**circle3)"
   ]
  },
  {
   "cell_type": "markdown",
   "metadata": {},
   "source": [
    "- Classes allow us to enforce the _structure of our data_.\n",
    "  - That is, a circle contains a $x$, $y$, and $r$.\n",
    "- It also helps writing functions, as you'll see.\n",
    "  - Above, all our functions had to take in the same data and re-explain the arguments."
   ]
  },
  {
   "cell_type": "markdown",
   "metadata": {},
   "source": [
    "#### Making a class"
   ]
  },
  {
   "cell_type": "markdown",
   "metadata": {},
   "source": [
    "- The syntax below creates a class, or type, called `Circle`. \n",
    "- The functions defined inside a class are called **methods**.\n",
    "- The `__init__` method is run when you create a new instance of the class (i.e. a new `Circle` object)."
   ]
  },
  {
   "cell_type": "code",
   "execution_count": 14,
   "metadata": {},
   "outputs": [],
   "source": [
    "class Circle:\n",
    "    \"\"\"A circle with a centre (x,y) and radius r.\"\"\"\n",
    "    \n",
    "    def __init__(self, x, y, r):\n",
    "        self.x = x\n",
    "        self.y = y\n",
    "        self.r = r"
   ]
  },
  {
   "cell_type": "markdown",
   "metadata": {},
   "source": [
    "Let's re-create `circle1`:"
   ]
  },
  {
   "cell_type": "code",
   "execution_count": 15,
   "metadata": {},
   "outputs": [],
   "source": [
    "circle1 = Circle(2.0, 3.0, 1.0)"
   ]
  },
  {
   "cell_type": "code",
   "execution_count": 16,
   "metadata": {},
   "outputs": [
    {
     "data": {
      "text/plain": [
       "__main__.Circle"
      ]
     },
     "execution_count": 16,
     "metadata": {},
     "output_type": "execute_result"
    }
   ],
   "source": [
    "type(circle1)"
   ]
  },
  {
   "cell_type": "code",
   "execution_count": 17,
   "metadata": {},
   "outputs": [
    {
     "data": {
      "text/plain": [
       "2.0"
      ]
     },
     "execution_count": 17,
     "metadata": {},
     "output_type": "execute_result"
    }
   ],
   "source": [
    "circle1.x # retrieve one of the fields"
   ]
  },
  {
   "cell_type": "markdown",
   "metadata": {},
   "source": [
    "Let's now implement the methods:"
   ]
  },
  {
   "cell_type": "code",
   "execution_count": 19,
   "metadata": {},
   "outputs": [],
   "source": [
    "class Circle:\n",
    "    \"\"\"A circle with a centre (x,y) and radius r.\"\"\"\n",
    "    \n",
    "    def __init__(self, x, y, r=1.0):\n",
    "        # For those familiar with a \"constructor\" - this is it!\n",
    "        self.x = x\n",
    "        self.y = y\n",
    "        self.r = r\n",
    "        \n",
    "    def area(self):\n",
    "        \"\"\"Compute the area of a circle with radius r.\"\"\"\n",
    "        return np.pi * self.r**2\n",
    "\n",
    "    def circumference(self):\n",
    "        \"\"\"Compute the circumference of a circle with radius r.\"\"\"\n",
    "        return 2.0 * np.pi * self.r\n",
    "\n",
    "    def dist(self):\n",
    "        \"\"\"Compute the distance to the origin.\"\"\"\n",
    "        return np.abs(np.sqrt(self.x**2 + self.y**2) - self.r)"
   ]
  },
  {
   "cell_type": "markdown",
   "metadata": {},
   "source": [
    "Some things to note:\n",
    "\n",
    "- The inputs to the methods are just `self`. \n",
    "- This `self` object is literally itself; thus, it gives you access to all the data inside the class using `self.x`, etc. \n",
    "- No need to re-explain the arguments each time, just explain the data at the start of the class.\n",
    "  - This makes the code cleaner, more reusable and more modular.\n",
    "- We call the functions with the `.`"
   ]
  },
  {
   "cell_type": "code",
   "execution_count": 20,
   "metadata": {},
   "outputs": [],
   "source": [
    "circle1 = Circle(2.0, 3.0, 1.0)"
   ]
  },
  {
   "cell_type": "code",
   "execution_count": 21,
   "metadata": {},
   "outputs": [
    {
     "data": {
      "text/plain": [
       "3.141592653589793"
      ]
     },
     "execution_count": 21,
     "metadata": {},
     "output_type": "execute_result"
    }
   ],
   "source": [
    "circle1.area()"
   ]
  },
  {
   "cell_type": "code",
   "execution_count": 22,
   "metadata": {},
   "outputs": [
    {
     "data": {
      "text/plain": [
       "2.605551275463989"
      ]
     },
     "execution_count": 22,
     "metadata": {},
     "output_type": "execute_result"
    }
   ],
   "source": [
    "circle1.dist()"
   ]
  },
  {
   "cell_type": "markdown",
   "metadata": {},
   "source": [
    "In fact, we've seen this before:"
   ]
  },
  {
   "cell_type": "code",
   "execution_count": 23,
   "metadata": {},
   "outputs": [],
   "source": [
    "d = dict()\n",
    "\n",
    "for key, val in d.items():\n",
    "    pass"
   ]
  },
  {
   "cell_type": "markdown",
   "metadata": {},
   "source": [
    "This is the same `.` because `items` is a method of the `dict` class."
   ]
  },
  {
   "cell_type": "code",
   "execution_count": 24,
   "metadata": {},
   "outputs": [
    {
     "data": {
      "text/plain": [
       "array([8, 9, 8, 3, 9, 1, 2, 6])"
      ]
     },
     "execution_count": 24,
     "metadata": {},
     "output_type": "execute_result"
    }
   ],
   "source": [
    "a = np.random.randint(10, size=8) # make a numpy array\n",
    "a"
   ]
  },
  {
   "cell_type": "code",
   "execution_count": 25,
   "metadata": {},
   "outputs": [
    {
     "data": {
      "text/plain": [
       "(8,)"
      ]
     },
     "execution_count": 25,
     "metadata": {},
     "output_type": "execute_result"
    }
   ],
   "source": [
    "#property/field of the class numpy\n",
    "a.shape "
   ]
  },
  {
   "cell_type": "code",
   "execution_count": null,
   "metadata": {},
   "outputs": [],
   "source": [
    "#property/field of the class numpy\n",
    "a.size"
   ]
  },
  {
   "cell_type": "markdown",
   "metadata": {},
   "source": [
    "These are fields of the `ndarray` object. Here is a method:"
   ]
  },
  {
   "cell_type": "code",
   "execution_count": null,
   "metadata": {},
   "outputs": [],
   "source": [
    "a.sort()\n",
    "a"
   ]
  },
  {
   "cell_type": "markdown",
   "metadata": {},
   "source": [
    "- Now imagine we also wanted a function to compute the distance between two circles.\n",
    "- This would have been a pain before:"
   ]
  },
  {
   "cell_type": "code",
   "execution_count": null,
   "metadata": {},
   "outputs": [],
   "source": [
    "def dist_between(x1, y1, r1, x2, y2, r2):\n",
    "    \"\"\"\n",
    "    Compute the distance between one circle and another circle.\n",
    "    \n",
    "    Arguments:\n",
    "    x1 -- (float) x-coordinate of the centre of the first circle\n",
    "    y1 -- (float) y-coordinate of the centre of the first circle\n",
    "    r1 -- (float) radius of the first circle\n",
    "    x2 -- (float) x-coordinate of the centre of the second circle\n",
    "    y2 -- (float) y-coordinate of the centre of the second circle\n",
    "    r2 -- (float) radius of the second circle\n",
    "    \"\"\"\n",
    "    return np.sqrt((x1 - x2)**2 + (y1 - y2)**2) - (r1 + r2)\n",
    "\n",
    "dist_between(x, y, r, x2, y2, r2)"
   ]
  },
  {
   "cell_type": "code",
   "execution_count": 26,
   "metadata": {},
   "outputs": [],
   "source": [
    "class Circle:\n",
    "    \"\"\"A circle with a centre (x,y) and radius r.\"\"\"\n",
    "    \n",
    "    def __init__(self, x, y, r):\n",
    "        self.x = x\n",
    "        self.y = y\n",
    "        self.r = r\n",
    "        \n",
    "    def area(self):\n",
    "        \"\"\"Compute the area of a circle with radius r.\"\"\"\n",
    "        return np.pi * self.r**2\n",
    "\n",
    "    def circumference(self):\n",
    "        \"\"\"Compute the circumference of a circle with radius r.\"\"\"\n",
    "        return 2.0 * np.pi * self.r\n",
    "    def dist(self):\n",
    "        \"\"\"Compute the distance to the origin.\"\"\"\n",
    "        return np.abs(np.sqrt(self.x**2 + self.y**2) - self.r)\n",
    "    \n",
    "    def dist_between(self, other):\n",
    "        \"\"\"\n",
    "        Compute the distance between this circle and another circle.\n",
    "        \n",
    "        Parameters\n",
    "        ----------\n",
    "        other : Circle\n",
    "            the other circle.\n",
    "        \"\"\"\n",
    "        if not isinstance(other, Circle):\n",
    "            raise Exception(\"other must be a Circle!!!\")\n",
    "        \n",
    "        return np.sqrt((self.x - other.x)**2 + (self.y - other.y)**2) - (self.r+ other.r)"
   ]
  },
  {
   "cell_type": "code",
   "execution_count": 27,
   "metadata": {},
   "outputs": [],
   "source": [
    "circle1 = Circle(2.0, 3.0, 1.0)\n",
    "circle2 = Circle(8,9,0.1)"
   ]
  },
  {
   "cell_type": "code",
   "execution_count": 28,
   "metadata": {},
   "outputs": [
    {
     "data": {
      "text/plain": [
       "7.38528137423857"
      ]
     },
     "execution_count": 28,
     "metadata": {},
     "output_type": "execute_result"
    }
   ],
   "source": [
    "circle2.dist_between(circle1)"
   ]
  },
  {
   "cell_type": "markdown",
   "metadata": {},
   "source": [
    "#### Changing data in a class\n",
    "\n",
    "- Classes you create are generally mutable.\n",
    "- You can directly change the data like this:"
   ]
  },
  {
   "cell_type": "code",
   "execution_count": null,
   "metadata": {},
   "outputs": [],
   "source": [
    "circle1.circumference()"
   ]
  },
  {
   "cell_type": "code",
   "execution_count": 39,
   "metadata": {},
   "outputs": [
    {
     "data": {
      "text/plain": [
       "62.83185307179586"
      ]
     },
     "execution_count": 39,
     "metadata": {},
     "output_type": "execute_result"
    }
   ],
   "source": [
    "circle1.r = 10\n",
    "circle1.circumference()"
   ]
  },
  {
   "cell_type": "markdown",
   "metadata": {},
   "source": [
    "You can also create methods that allow the user to change the object:"
   ]
  },
  {
   "cell_type": "code",
   "execution_count": 40,
   "metadata": {},
   "outputs": [],
   "source": [
    "class Circle:\n",
    "    \"\"\"A circle with a centre (x,y) and radius r.\"\"\"\n",
    "    \n",
    "    def __init__(self, x, y, r):\n",
    "        self.x = x\n",
    "        self.y = y\n",
    "        self.r = r\n",
    "        \n",
    "    def area(self):\n",
    "        \"\"\"Compute the area of a circle with radius r.\"\"\"\n",
    "        return np.pi * self.r**2\n",
    "\n",
    "    def circumference(self):\n",
    "        \"\"\"Compute the circumference of a circle with radius r.\"\"\"\n",
    "        return 2.0 * np.pi * self.r\n",
    "    def dist(self):\n",
    "        \"\"\"Compute the distance to the origin.\"\"\"\n",
    "        return np.abs(np.sqrt(self.x**2 + self.y**2) - self.r)\n",
    "    \n",
    "    def dist_between(self, other):\n",
    "        \"\"\"\n",
    "        Compute the distance between this circle and another circle.\n",
    "        \n",
    "        Parameters\n",
    "        ----------\n",
    "        other : Circle\n",
    "            the other circle.\n",
    "        \"\"\"\n",
    "        if not isinstance(other, Circle):\n",
    "            raise Exception(\"other must be a Circle!!!\")\n",
    "                 \n",
    "    def translate(self, Δx, Δy):\n",
    "        \"\"\"Move the circle by (Δx, Δy)\"\"\"\n",
    "        self.x += Δx\n",
    "        self.y += Δy\n",
    "        return self # This is not needed, but is sometimes convenient (method cascading)."
   ]
  },
  {
   "cell_type": "code",
   "execution_count": 30,
   "metadata": {},
   "outputs": [],
   "source": [
    "circle1 = Circle(2.0, 3.0, 1.0)"
   ]
  },
  {
   "cell_type": "code",
   "execution_count": 31,
   "metadata": {},
   "outputs": [
    {
     "data": {
      "text/plain": [
       "2.605551275463989"
      ]
     },
     "execution_count": 31,
     "metadata": {},
     "output_type": "execute_result"
    }
   ],
   "source": [
    "circle1.dist()"
   ]
  },
  {
   "cell_type": "code",
   "execution_count": 32,
   "metadata": {},
   "outputs": [
    {
     "data": {
      "text/plain": [
       "16.69180601295413"
      ]
     },
     "execution_count": 32,
     "metadata": {},
     "output_type": "execute_result"
    }
   ],
   "source": [
    "circle1.translate(10, 10)\n",
    "circle1.dist()"
   ]
  },
  {
   "cell_type": "markdown",
   "metadata": {},
   "source": [
    "#### Other special methods"
   ]
  },
  {
   "cell_type": "markdown",
   "metadata": {},
   "source": [
    "- Aside from `__init__`, there are other special methods you might find useful.\n",
    "- For example, what if we want to print our object."
   ]
  },
  {
   "cell_type": "code",
   "execution_count": 41,
   "metadata": {},
   "outputs": [
    {
     "name": "stdout",
     "output_type": "stream",
     "text": [
      "A Circle at (2.0, 3.0) with radius 10.0.\n"
     ]
    }
   ],
   "source": [
    "print(circle1)"
   ]
  },
  {
   "cell_type": "markdown",
   "metadata": {},
   "source": [
    "- This doesn't look very good.\n",
    "- But other objects, like numpy arrays, print out nicely:"
   ]
  },
  {
   "cell_type": "code",
   "execution_count": null,
   "metadata": {},
   "outputs": [],
   "source": [
    "print(a)"
   ]
  },
  {
   "cell_type": "markdown",
   "metadata": {},
   "source": [
    "- To specify how our object is printed, we can define a method called `__str__` ([Python documentation](https://docs.python.org/3/reference/datamodel.html#object.__str__))."
   ]
  },
  {
   "cell_type": "code",
   "execution_count": 47,
   "metadata": {},
   "outputs": [],
   "source": [
    "class Circle:\n",
    "    \"\"\"A circle with a centre (x,y) and radius r.\"\"\"\n",
    "    \n",
    "    def __init__(self, x, y, r):\n",
    "        self.x = x\n",
    "        self.y = y\n",
    "        self.r = r\n",
    "        self.area = np.pi * self.r**2\n",
    "        \n",
    "    def area(self):\n",
    "        \"\"\"Compute the area of a circle with radius r.\"\"\"\n",
    "        return np.pi * self.r**2\n",
    "\n",
    "    def circumference(self):\n",
    "        \"\"\"Compute the circumference of a circle with radius r.\"\"\"\n",
    "        return 2.0 * np.pi * self.r\n",
    "    def dist(self):\n",
    "        \"\"\"Compute the distance to the origin.\"\"\"\n",
    "        return np.abs(np.sqrt(self.x**2 + self.y**2) - self.r)\n",
    "    \n",
    "    def dist_between(self, other):\n",
    "        \"\"\"\n",
    "        Compute the distance between this circle and another circle.\n",
    "        \n",
    "        Parameters\n",
    "        ----------\n",
    "        other : Circle\n",
    "            the other circle.\n",
    "        \"\"\"\n",
    "        if not isinstance(other, Circle):\n",
    "            raise Exception(\"other must be a Circle!!!\")\n",
    "    \n",
    "    def translate(self, Δx, Δy):\n",
    "        \"\"\"Move the circle by (Δx, Δy)\"\"\"\n",
    "        self.x += Δx\n",
    "        self.y += Δy\n",
    "        return self # This is not needed, but is sometimes convenient.\n",
    "        \n",
    "    def __str__(self):\n",
    "        return \"A Circle at (%.1f, %.1f) with radius %.1f.\" % (self.x, self.y, self.r)"
   ]
  },
  {
   "cell_type": "code",
   "execution_count": 48,
   "metadata": {},
   "outputs": [],
   "source": [
    "circle1 = Circle(2.0, 3.0, 1.0)"
   ]
  },
  {
   "cell_type": "code",
   "execution_count": 49,
   "metadata": {},
   "outputs": [
    {
     "name": "stdout",
     "output_type": "stream",
     "text": [
      "A Circle at (2.0, 3.0) with radius 1.0.\n"
     ]
    }
   ],
   "source": [
    "print(circle1)"
   ]
  },
  {
   "cell_type": "markdown",
   "metadata": {},
   "source": [
    "## Python `import` (10 min)"
   ]
  },
  {
   "cell_type": "markdown",
   "metadata": {},
   "source": [
    "- It is often useful to collect a bunch of classes and functions into **modules** or **packages** ([Python package documentation](https://docs.python.org/3/tutorial/modules.html#packages)).\n",
    "  - For example, numpy is a package that contains both classes (e.g. `np.ndarray`) and functions (e.g. `np.sqrt`) and even constants (e.g. `np.pi`).\n",
    "- You will discuss packages in depth in other courses.\n",
    "- For now, we'll just discuss importing packages.\n",
    "- Unfortunately, this is a bit confusing."
   ]
  },
  {
   "cell_type": "markdown",
   "metadata": {},
   "source": [
    "#### Ways of importing things\n",
    "\n",
    "Let's use `numpy` as an example, and import it in various ways.\n"
   ]
  },
  {
   "cell_type": "markdown",
   "metadata": {},
   "source": [
    "Import a package:"
   ]
  },
  {
   "cell_type": "code",
   "execution_count": null,
   "metadata": {},
   "outputs": [],
   "source": [
    "import numpy"
   ]
  },
  {
   "cell_type": "code",
   "execution_count": null,
   "metadata": {},
   "outputs": [],
   "source": [
    "# using the function sqrt that the package numpy is providing\n",
    "# sqrt is not a method of a particular class because numpy is actually a package\n",
    "numpy.sqrt(5) "
   ]
  },
  {
   "cell_type": "markdown",
   "metadata": {},
   "source": [
    "Import a package, but refer to it by a different name:"
   ]
  },
  {
   "cell_type": "code",
   "execution_count": null,
   "metadata": {},
   "outputs": [],
   "source": [
    "import numpy as np"
   ]
  },
  {
   "cell_type": "code",
   "execution_count": null,
   "metadata": {},
   "outputs": [],
   "source": [
    "np.sqrt(5)"
   ]
  },
  {
   "cell_type": "markdown",
   "metadata": {},
   "source": [
    "Import a particular function from a package:"
   ]
  },
  {
   "cell_type": "code",
   "execution_count": null,
   "metadata": {},
   "outputs": [],
   "source": [
    "from numpy.random import randn"
   ]
  },
  {
   "cell_type": "code",
   "execution_count": null,
   "metadata": {},
   "outputs": [],
   "source": [
    "randn() # now I can refer to it without the package/module names\n",
    "# np.random.randn() This is was the code before"
   ]
  },
  {
   "cell_type": "code",
   "execution_count": null,
   "metadata": {},
   "outputs": [],
   "source": [
    "from numpy.random import randn as random_gaussian"
   ]
  },
  {
   "cell_type": "code",
   "execution_count": null,
   "metadata": {},
   "outputs": [],
   "source": [
    "random_gaussian()"
   ]
  },
  {
   "cell_type": "markdown",
   "metadata": {},
   "source": [
    "It's also possible to import everything in a module, though this is generally not recommended:"
   ]
  },
  {
   "cell_type": "code",
   "execution_count": null,
   "metadata": {},
   "outputs": [],
   "source": [
    "from numpy.random import *"
   ]
  },
  {
   "cell_type": "code",
   "execution_count": null,
   "metadata": {},
   "outputs": [],
   "source": [
    "binomial(10, 0.1) #instead of numpy.random.binomial(10, 0.1)"
   ]
  },
  {
   "cell_type": "markdown",
   "metadata": {},
   "source": [
    "#### Some annoying facts of life"
   ]
  },
  {
   "cell_type": "markdown",
   "metadata": {},
   "source": [
    "The module and the function might have the same name:"
   ]
  },
  {
   "cell_type": "code",
   "execution_count": null,
   "metadata": {},
   "outputs": [],
   "source": [
    "import random"
   ]
  },
  {
   "cell_type": "code",
   "execution_count": null,
   "metadata": {},
   "outputs": [],
   "source": [
    "random.random()"
   ]
  },
  {
   "cell_type": "code",
   "execution_count": null,
   "metadata": {},
   "outputs": [],
   "source": [
    "from random import random"
   ]
  },
  {
   "cell_type": "code",
   "execution_count": null,
   "metadata": {},
   "outputs": [],
   "source": [
    "random()"
   ]
  },
  {
   "cell_type": "markdown",
   "metadata": {},
   "source": [
    "Sometimes you may need to explicitly import submodules to use them:"
   ]
  },
  {
   "cell_type": "code",
   "execution_count": null,
   "metadata": {},
   "outputs": [],
   "source": [
    "import scipy"
   ]
  },
  {
   "cell_type": "code",
   "execution_count": null,
   "metadata": {},
   "outputs": [],
   "source": [
    "scipy.stats"
   ]
  },
  {
   "cell_type": "code",
   "execution_count": null,
   "metadata": {},
   "outputs": [],
   "source": [
    "import scipy.stats"
   ]
  },
  {
   "cell_type": "code",
   "execution_count": null,
   "metadata": {},
   "outputs": [],
   "source": [
    "scipy.stats"
   ]
  },
  {
   "cell_type": "markdown",
   "metadata": {},
   "source": [
    "In Python, the import name and the install name do not necessarily match:"
   ]
  },
  {
   "cell_type": "code",
   "execution_count": null,
   "metadata": {},
   "outputs": [],
   "source": [
    "import sklearn"
   ]
  },
  {
   "cell_type": "markdown",
   "metadata": {},
   "source": [
    "To install, run `pip install scikit-learn`. or `conda install -c anaconda scikit-learn`"
   ]
  },
  {
   "cell_type": "markdown",
   "metadata": {},
   "source": [
    "#### `dir`\n",
    "\n",
    "You can use `dir` to look up all the things we can do to that object:"
   ]
  },
  {
   "cell_type": "code",
   "execution_count": 50,
   "metadata": {},
   "outputs": [
    {
     "data": {
      "text/plain": [
       "['__class__',\n",
       " '__delattr__',\n",
       " '__dict__',\n",
       " '__dir__',\n",
       " '__doc__',\n",
       " '__eq__',\n",
       " '__format__',\n",
       " '__ge__',\n",
       " '__getattribute__',\n",
       " '__gt__',\n",
       " '__hash__',\n",
       " '__init__',\n",
       " '__init_subclass__',\n",
       " '__le__',\n",
       " '__lt__',\n",
       " '__module__',\n",
       " '__ne__',\n",
       " '__new__',\n",
       " '__reduce__',\n",
       " '__reduce_ex__',\n",
       " '__repr__',\n",
       " '__setattr__',\n",
       " '__sizeof__',\n",
       " '__str__',\n",
       " '__subclasshook__',\n",
       " '__weakref__',\n",
       " 'area',\n",
       " 'circumference',\n",
       " 'dist',\n",
       " 'dist_between',\n",
       " 'r',\n",
       " 'translate',\n",
       " 'x',\n",
       " 'y']"
      ]
     },
     "execution_count": 50,
     "metadata": {},
     "output_type": "execute_result"
    }
   ],
   "source": [
    "dir(circle1)"
   ]
  },
  {
   "cell_type": "markdown",
   "metadata": {},
   "source": [
    "## Importing your own functions (5 min)\n",
    "\n",
    "- In many MDS courses we only work in Jupyter - it is a great teaching & learning environment.\n",
    "- However, when we write larger pieces of code we will need to move to `.py` files. \n",
    "- Let's restart the kernel so that `Circle` is no longer in the environment."
   ]
  },
  {
   "cell_type": "code",
   "execution_count": 8,
   "metadata": {},
   "outputs": [],
   "source": [
    "circle = Circle(1,2,3)"
   ]
  },
  {
   "cell_type": "markdown",
   "metadata": {},
   "source": [
    "- Luckily, I have a file in this directory named `circle.py` - let's take a look."
   ]
  },
  {
   "cell_type": "code",
   "execution_count": 7,
   "metadata": {},
   "outputs": [],
   "source": [
    "from circle import Circle"
   ]
  },
  {
   "cell_type": "code",
   "execution_count": 10,
   "metadata": {},
   "outputs": [],
   "source": [
    "c = Circle(1,2,3)"
   ]
  },
  {
   "cell_type": "code",
   "execution_count": 4,
   "metadata": {},
   "outputs": [
    {
     "ename": "NameError",
     "evalue": "name 'my_function' is not defined",
     "output_type": "error",
     "traceback": [
      "\u001b[0;31m---------------------------------------------------------------------------\u001b[0m",
      "\u001b[0;31mNameError\u001b[0m                                 Traceback (most recent call last)",
      "Cell \u001b[0;32mIn[4], line 1\u001b[0m\n\u001b[0;32m----> 1\u001b[0m \u001b[43mmy_function\u001b[49m()\n",
      "\u001b[0;31mNameError\u001b[0m: name 'my_function' is not defined"
     ]
    }
   ],
   "source": [
    "my_function()"
   ]
  },
  {
   "cell_type": "code",
   "execution_count": 11,
   "metadata": {},
   "outputs": [],
   "source": [
    "from circle import *"
   ]
  },
  {
   "cell_type": "code",
   "execution_count": 12,
   "metadata": {},
   "outputs": [],
   "source": [
    "my_function()"
   ]
  },
  {
   "cell_type": "code",
   "execution_count": 13,
   "metadata": {},
   "outputs": [
    {
     "data": {
      "text/plain": [
       "5"
      ]
     },
     "execution_count": 13,
     "metadata": {},
     "output_type": "execute_result"
    }
   ],
   "source": [
    "MY_CONSTANT"
   ]
  },
  {
   "cell_type": "markdown",
   "metadata": {},
   "source": [
    "- We imported not only a class, but also a function and a single variable.\n",
    "- It makes sense that we can import all of these, because they are all objects in Python, just with different types:"
   ]
  },
  {
   "cell_type": "code",
   "execution_count": 14,
   "metadata": {},
   "outputs": [
    {
     "data": {
      "text/plain": [
       "type"
      ]
     },
     "execution_count": 14,
     "metadata": {},
     "output_type": "execute_result"
    }
   ],
   "source": [
    "type(Circle)"
   ]
  },
  {
   "cell_type": "code",
   "execution_count": 15,
   "metadata": {},
   "outputs": [
    {
     "data": {
      "text/plain": [
       "function"
      ]
     },
     "execution_count": 15,
     "metadata": {},
     "output_type": "execute_result"
    }
   ],
   "source": [
    "type(my_function)"
   ]
  },
  {
   "cell_type": "code",
   "execution_count": 16,
   "metadata": {},
   "outputs": [
    {
     "data": {
      "text/plain": [
       "int"
      ]
     },
     "execution_count": 16,
     "metadata": {},
     "output_type": "execute_result"
    }
   ],
   "source": [
    "type(MY_CONSTANT)"
   ]
  },
  {
   "cell_type": "markdown",
   "metadata": {},
   "source": [
    "And `c` itself has a type that we defined:"
   ]
  },
  {
   "cell_type": "code",
   "execution_count": null,
   "metadata": {},
   "outputs": [],
   "source": [
    "type(c)"
   ]
  },
  {
   "cell_type": "code",
   "execution_count": 2,
   "metadata": {},
   "outputs": [],
   "source": [
    "import numpy as np"
   ]
  },
  {
   "cell_type": "code",
   "execution_count": 20,
   "metadata": {
    "collapsed": false,
    "jupyter": {
     "outputs_hidden": false
    }
   },
   "outputs": [
    {
     "name": "stdout",
     "output_type": "stream",
     "text": [
      "140392900362512\n",
      "140392900362480\n"
     ]
    }
   ],
   "source": [
    "#What is the value of y?\n",
    "x = 1\n",
    "y = x\n",
    "x = 2\n",
    "y\n",
    "print(id(x))\n",
    "print(id(y))"
   ]
  },
  {
   "cell_type": "markdown",
   "metadata": {},
   "source": [
    "And how about the next one?"
   ]
  },
  {
   "cell_type": "code",
   "execution_count": 22,
   "metadata": {},
   "outputs": [
    {
     "name": "stdout",
     "output_type": "stream",
     "text": [
      "[2]\n",
      "[2]\n",
      "140392554552704\n",
      "140392554552704\n"
     ]
    }
   ],
   "source": [
    "x = [1]\n",
    "y = x\n",
    "x[0] = 2\n",
    "y\n",
    "print(id(x))\n",
    "print(id(y))"
   ]
  },
  {
   "cell_type": "markdown",
   "metadata": {},
   "source": [
    "## References\n",
    "\n",
    "\n",
    "- In Python, a list `x` is a **reference** to some location in the computer's memory. \n",
    "- If you set `y = x` these two variables now refer to the same location in memory - the one that `x` referred to.\n",
    "- Setting `x[0] = 2` goes and modifies that memory. So `x` and `y` are both modified.\n"
   ]
  },
  {
   "cell_type": "markdown",
   "metadata": {},
   "source": [
    "- However, some basic built-in types `int`, `float`, `bool` etc are _exceptions_ to this logic:\n",
    "  - If you set `y = x` it actually copies the value `1`, so `x` and `y` are decoupled.\n",
    "  - This is a \"special\" case. \n",
    "  \n",
    "- Analogy:\n",
    "  - I share a Dropbox folder (or git repo) with you, and you modify it -- I sent you _the location of the stuff_ (this is like the list case)\n",
    "  - I send you an email with a file attached, you download it and modify the file -- I sent you _the stuff itself_ (this is like the integer case)\n",
    "\n"
   ]
  },
  {
   "cell_type": "markdown",
   "metadata": {},
   "source": [
    "And this?"
   ]
  },
  {
   "cell_type": "code",
   "execution_count": 1,
   "metadata": {},
   "outputs": [
    {
     "data": {
      "text/plain": [
       "[1]"
      ]
     },
     "execution_count": 1,
     "metadata": {},
     "output_type": "execute_result"
    }
   ],
   "source": [
    "x = [1]\n",
    "y = x\n",
    "x = [2] # before we had x[0] = 2\n",
    "y"
   ]
  },
  {
   "cell_type": "markdown",
   "metadata": {},
   "source": [
    "<br><br><br>\n",
    "No, here we are not modifying the contents of `x`, we are setting `x` to refer to a new list `[2]`."
   ]
  },
  {
   "cell_type": "markdown",
   "metadata": {},
   "source": [
    "#### Additional weirdness"
   ]
  },
  {
   "cell_type": "code",
   "execution_count": 3,
   "metadata": {},
   "outputs": [
    {
     "data": {
      "text/plain": [
       "array([1, 2, 3, 4, 5])"
      ]
     },
     "execution_count": 3,
     "metadata": {},
     "output_type": "execute_result"
    }
   ],
   "source": [
    "x = np.array([1,2,3,4,5])\n",
    "y = x\n",
    "x = x + 5\n",
    "y"
   ]
  },
  {
   "cell_type": "code",
   "execution_count": 4,
   "metadata": {},
   "outputs": [
    {
     "data": {
      "text/plain": [
       "array([ 6,  7,  8,  9, 10])"
      ]
     },
     "execution_count": 4,
     "metadata": {},
     "output_type": "execute_result"
    }
   ],
   "source": [
    "x = np.array([1,2,3,4,5])\n",
    "y = x\n",
    "x += 5\n",
    "y"
   ]
  },
  {
   "cell_type": "markdown",
   "metadata": {},
   "source": [
    "So, it turns out `x += 5` is not identical `x = x + 5`.\n",
    "\n",
    "- The former modifies the contents of `x`.\n",
    "- The latter first evaluates `x + 5` to a new array of the same size, and then overwrites the name `x` with a reference to this new array."
   ]
  },
  {
   "cell_type": "markdown",
   "metadata": {},
   "source": [
    "## Function calls and references"
   ]
  },
  {
   "cell_type": "markdown",
   "metadata": {},
   "source": [
    "How about these?"
   ]
  },
  {
   "cell_type": "code",
   "execution_count": 8,
   "metadata": {
    "collapsed": false,
    "jupyter": {
     "outputs_hidden": false
    }
   },
   "outputs": [
    {
     "data": {
      "text/plain": [
       "\"I'm outside.\""
      ]
     },
     "execution_count": 8,
     "metadata": {},
     "output_type": "execute_result"
    }
   ],
   "source": [
    "def foo(y):\n",
    "    y = \"Hello from inside foo!\"\n",
    "    return y\n",
    "\n",
    "x = \"I'm outside.\"\n",
    "foo(x)\n",
    "x"
   ]
  },
  {
   "cell_type": "code",
   "execution_count": 6,
   "metadata": {},
   "outputs": [
    {
     "data": {
      "text/plain": [
       "['Hello from inside foo!']"
      ]
     },
     "execution_count": 6,
     "metadata": {},
     "output_type": "execute_result"
    }
   ],
   "source": [
    "def bar(y):\n",
    "    y[0] = \"Hello from inside foo!\"\n",
    "x = [\"I'm outside.\"]\n",
    "bar(x)\n",
    "x"
   ]
  },
  {
   "cell_type": "markdown",
   "metadata": {},
   "source": [
    "- Above: the fact that you called a function is not relevant.\n",
    "- When pass the value of `x` into the function and it becomes `y` in the function, that is basically like `y = x` we had above.\n",
    "- In the latter case, we say the function has a [side effect](https://en.wikipedia.org/wiki/Side_effect_(computer_science))."
   ]
  },
  {
   "cell_type": "code",
   "execution_count": 9,
   "metadata": {
    "collapsed": false,
    "jupyter": {
     "outputs_hidden": false
    }
   },
   "outputs": [
    {
     "data": {
      "text/plain": [
       "'Hello from inside foo!'"
      ]
     },
     "execution_count": 9,
     "metadata": {},
     "output_type": "execute_result"
    }
   ],
   "source": [
    "x = \"I'm outside.\"\n",
    "x = foo(x)\n",
    "x"
   ]
  },
  {
   "cell_type": "markdown",
   "metadata": {},
   "source": [
    "- Above: in this case, `x` is not getting modified inside `foo`.\n",
    "- Rather it's getting overwritten after the function call."
   ]
  },
  {
   "cell_type": "markdown",
   "metadata": {},
   "source": [
    "- (Optional) If you're interested, there is a bunch of terminology you can look up\n",
    "  - pass by value (call by value)\n",
    "  - pass by reference (call by reference)\n",
    "  - copy-on-modify\n",
    "  - lazy copying\n",
    "  - ...\n"
   ]
  },
  {
   "cell_type": "markdown",
   "metadata": {},
   "source": [
    "- Good news: the we don't need to memorize special rules for calling functions. \n",
    "- Copying happens with `int`, `float`, `bool`, probably some other things I'm forgetting; the rest is \"by reference\"\n",
    "- now you see why we care if objects are mutable or immutable... passing around a reference can be dangerous!\n",
    "- **General rule**: if you do `x = ...` then you're not modifying the original, but if you do `x.SOMETHING = y` or `x[SOMETHING] = y` or `x *= y` then you probably are."
   ]
  },
  {
   "cell_type": "markdown",
   "metadata": {},
   "source": [
    "Note: In R, life is simpler - means you're never \"modifying the original\" inside a function."
   ]
  },
  {
   "cell_type": "markdown",
   "metadata": {},
   "source": [
    "## `copy` and `deepcopy` "
   ]
  },
  {
   "cell_type": "code",
   "execution_count": 2,
   "metadata": {
    "collapsed": false,
    "jupyter": {
     "outputs_hidden": false
    }
   },
   "outputs": [
    {
     "data": {
      "text/plain": [
       "[2]"
      ]
     },
     "execution_count": 2,
     "metadata": {},
     "output_type": "execute_result"
    }
   ],
   "source": [
    "import copy\n",
    "\n",
    "x = [1]\n",
    "y = x\n",
    "x[0] = 2\n",
    "y"
   ]
  },
  {
   "cell_type": "code",
   "execution_count": 12,
   "metadata": {},
   "outputs": [
    {
     "data": {
      "text/plain": [
       "[1]"
      ]
     },
     "execution_count": 12,
     "metadata": {},
     "output_type": "execute_result"
    }
   ],
   "source": [
    "x = [1]\n",
    "y = copy.copy(x)\n",
    "x[0] = 2\n",
    "y"
   ]
  },
  {
   "cell_type": "markdown",
   "metadata": {},
   "source": [
    "Ok, so what do you think will happen here?"
   ]
  },
  {
   "cell_type": "code",
   "execution_count": 3,
   "metadata": {
    "collapsed": false,
    "jupyter": {
     "outputs_hidden": false
    }
   },
   "outputs": [
    {
     "name": "stdout",
     "output_type": "stream",
     "text": [
      "[['pikachu'], [2, 99], [3, 'hi']]\n",
      "[['pikachu'], [2, 99], [3, 'hi']]\n"
     ]
    }
   ],
   "source": [
    "x = [[1], [2,99], [3, \"hi\"]] # a list of lists\n",
    "\n",
    "y = copy.copy(x) \n",
    "\n",
    "x[0][0] = \"pikachu\"\n",
    "print(x)\n",
    "print(y)"
   ]
  },
  {
   "cell_type": "markdown",
   "metadata": {},
   "source": [
    "<br><br><br>\n",
    "What happened? \n",
    "\n",
    "- `copy` makes the _containers_ different, i.e. the outer list. \n",
    "- But the outer lists both point to the same data.\n",
    "- This is what happens after `y = copy.copy(x)`:\n",
    "\n",
    "![](listCopySmall.jpg)"
   ]
  },
  {
   "cell_type": "markdown",
   "metadata": {},
   "source": [
    "We can use `is` to tell apart these scenarios."
   ]
  },
  {
   "cell_type": "code",
   "execution_count": 4,
   "metadata": {},
   "outputs": [
    {
     "data": {
      "text/plain": [
       "True"
      ]
     },
     "execution_count": 4,
     "metadata": {},
     "output_type": "execute_result"
    }
   ],
   "source": [
    "x == y       # they are both lists of the same lists"
   ]
  },
  {
   "cell_type": "code",
   "execution_count": 10,
   "metadata": {},
   "outputs": [
    {
     "data": {
      "text/plain": [
       "False"
      ]
     },
     "execution_count": 10,
     "metadata": {},
     "output_type": "execute_result"
    }
   ],
   "source": [
    "x is y   # but they are not the *same* lists of that stuff"
   ]
  },
  {
   "cell_type": "markdown",
   "metadata": {},
   "source": [
    "So, by that logic..."
   ]
  },
  {
   "cell_type": "code",
   "execution_count": 42,
   "metadata": {},
   "outputs": [
    {
     "name": "stdout",
     "output_type": "stream",
     "text": [
      "[['pikachu'], [2, 99], [3, 'hi']]\n",
      "[['pikachu'], [2, 99], [3, 'hi'], 5]\n"
     ]
    }
   ],
   "source": [
    "y.append(5)\n",
    "print(x)\n",
    "print(y)"
   ]
  },
  {
   "cell_type": "code",
   "execution_count": 43,
   "metadata": {},
   "outputs": [
    {
     "data": {
      "text/plain": [
       "False"
      ]
     },
     "execution_count": 43,
     "metadata": {},
     "output_type": "execute_result"
    }
   ],
   "source": [
    "x == y"
   ]
  },
  {
   "cell_type": "markdown",
   "metadata": {},
   "source": [
    "<br><br><br>\n",
    "That makes sense, as weird as it seems. "
   ]
  },
  {
   "cell_type": "markdown",
   "metadata": {},
   "source": [
    "- In short, `copy` copies one level down.\n",
    "- What if we want to copy everything?\n",
    "- Enter our friend `deepcopy`:"
   ]
  },
  {
   "cell_type": "code",
   "execution_count": 44,
   "metadata": {
    "collapsed": false,
    "jupyter": {
     "outputs_hidden": false
    }
   },
   "outputs": [
    {
     "name": "stdout",
     "output_type": "stream",
     "text": [
      "[['pikachu'], [2, 99], [3, 'hi']]\n",
      "[[1], [2, 99], [3, 'hi']]\n"
     ]
    }
   ],
   "source": [
    "x = [[1], [2,99], [3, \"hi\"]] \n",
    "\n",
    "y = copy.deepcopy(x)\n",
    "\n",
    "x[0][0] = \"pikachu\"\n",
    "print(x)\n",
    "print(y)"
   ]
  },
  {
   "cell_type": "markdown",
   "metadata": {},
   "source": [
    "## Scoping\n"
   ]
  },
  {
   "cell_type": "code",
   "execution_count": 45,
   "metadata": {},
   "outputs": [],
   "source": [
    "def f():\n",
    "    x = 10\n",
    "\n",
    "x = 5\n",
    "f()"
   ]
  },
  {
   "cell_type": "code",
   "execution_count": null,
   "metadata": {
    "collapsed": false,
    "jupyter": {
     "outputs_hidden": false
    }
   },
   "outputs": [],
   "source": [
    "def f():\n",
    "    new_variable = 10\n",
    "\n",
    "f()\n",
    "new_variable"
   ]
  },
  {
   "cell_type": "markdown",
   "metadata": {},
   "source": [
    "- It looks like the `x` inside and outside the function are different.\n",
    "- It looks like `new_variable` is defined only for use inside the function.\n",
    "- That is generally a good way of thinking, and is more true in other languages.\n",
    "- This is called **scope** (see [Wikipedia article](https://en.wikipedia.org/wiki/Scope_(computer_science))).\n",
    "- However, in Python things are dangerously loose and permissive, so **be careful**."
   ]
  },
  {
   "cell_type": "code",
   "execution_count": 46,
   "metadata": {
    "collapsed": false,
    "jupyter": {
     "outputs_hidden": false
    }
   },
   "outputs": [
    {
     "name": "stdout",
     "output_type": "stream",
     "text": [
      "hello world\n"
     ]
    }
   ],
   "source": [
    "def bat():\n",
    "    print(s)\n",
    "    \n",
    "s = \"hello world\"\n",
    "bat()"
   ]
  },
  {
   "cell_type": "code",
   "execution_count": 47,
   "metadata": {
    "collapsed": false,
    "jupyter": {
     "outputs_hidden": false
    }
   },
   "outputs": [
    {
     "name": "stdout",
     "output_type": "stream",
     "text": [
      "another string\n"
     ]
    }
   ],
   "source": [
    "def bat(s):\n",
    "    print(s)\n",
    "    \n",
    "s = \"hello world\"    \n",
    "bat(\"another string\")"
   ]
  },
  {
   "cell_type": "markdown",
   "metadata": {},
   "source": [
    "What happened? \n",
    "\n",
    "- In the first case, `s` was not defined, so it was borrowed from the scope outside the function.\n",
    "- In the second case, `s` was passed in directly, so it was used.\n",
    "- This is very worrying, because of the following:"
   ]
  },
  {
   "cell_type": "code",
   "execution_count": 48,
   "metadata": {},
   "outputs": [
    {
     "data": {
      "text/plain": [
       "[99999, 2, 3]"
      ]
     },
     "execution_count": 48,
     "metadata": {},
     "output_type": "execute_result"
    }
   ],
   "source": [
    "def modify_the_stuff():\n",
    "    the_stuff[0] = 99999\n",
    "    \n",
    "the_stuff = [1,2,3]\n",
    "modify_the_stuff()\n",
    "the_stuff"
   ]
  },
  {
   "cell_type": "markdown",
   "metadata": {},
   "source": [
    "- Above: `modify_the_stuff` modified a variable that was not even passed in as an argument!\n",
    "- So functions can really mess with your stuff without you knowing. \n",
    "- Please do not write code like this!\n",
    "  - Safest: functions with no side effects.\n",
    "  - Acceptable: functions with side effects, clearly documented.\n",
    "  - Disaster: functions with undocumented side effects on its arguments.\n",
    "  - Complete disaster: functions modifying stuff that you didn't even pass into the function."
   ]
  },
  {
   "cell_type": "markdown",
   "metadata": {},
   "source": [
    "Some other things to avoid:"
   ]
  },
  {
   "cell_type": "code",
   "execution_count": null,
   "metadata": {},
   "outputs": [],
   "source": [
    "def func(s, len):\n",
    "    print(len(s))\n",
    "    \n",
    "func(\"hello\", 5)"
   ]
  },
  {
   "cell_type": "markdown",
   "metadata": {},
   "source": [
    "- Above: don't do this - inside the function there's a variable called `len` which is overwriting the built-in `len` function.\n",
    "- Below: functions can access other functions if they are all in the global scope:"
   ]
  },
  {
   "cell_type": "code",
   "execution_count": null,
   "metadata": {},
   "outputs": [],
   "source": [
    "def f():\n",
    "    print(\"Hello from f!\")\n",
    "    \n",
    "def g():\n",
    "    f()\n",
    "    \n",
    "g()"
   ]
  },
  {
   "cell_type": "markdown",
   "metadata": {},
   "source": [
    "That is, there's no need to pass the function `f` into `g` to call it, because `f` is \"global\"."
   ]
  },
  {
   "cell_type": "markdown",
   "metadata": {},
   "source": [
    "## Python File Input/Output\n",
    "\n",
    "Open a file for reading: ```infile = open(\"input.txt\", \"r\") ```\n",
    "\n",
    "Open a file for writing: ```outfile = open(\"output.txt\", \"w\")```\n",
    "\n",
    "Open a file for read/write: ```myfile = open(\"data.txt\", \"r+\")```\n"
   ]
  },
  {
   "cell_type": "code",
   "execution_count": 16,
   "metadata": {},
   "outputs": [
    {
     "name": "stdout",
     "output_type": "stream",
     "text": [
      "She should have died hereafter.\n",
      "There would have been a time for such a word.\n",
      "Tomorrow, and tomorrow, and tomorrow,\n",
      "Creeps in this petty pace from day to day\n",
      "To the last syllable of recorded time,\n",
      "And all our yesterdays have lighted fools\n",
      "The way to dusty death. Out, out, brief candle!\n",
      "Life's but a walking shadow, a poor player\n",
      "That struts and frets his hour upon the stage\n",
      "And then is heard no more. It is a tale\n",
      "Told by an idiot, full of sound and fury,\n",
      "Signifying nothing.\n"
     ]
    }
   ],
   "source": [
    "infile = open(\"data.txt\", \"r\")\n",
    "\n",
    "for line in infile:\n",
    "    #print (line)\n",
    "    print (line.strip('\\n'))   \n",
    "    \n",
    "#infile.close()"
   ]
  },
  {
   "cell_type": "code",
   "execution_count": 17,
   "metadata": {},
   "outputs": [
    {
     "name": "stdout",
     "output_type": "stream",
     "text": [
      "She should have died hereafter.\n",
      "There would have been a time for such a word.\n",
      "Tomorrow, and tomorrow, and tomorrow,\n",
      "Creeps in this petty pace from day to day\n",
      "To the last syllable of recorded time,\n",
      "And all our yesterdays have lighted fools\n",
      "The way to dusty death. Out, out, brief candle!\n",
      "Life's but a walking shadow, a poor player\n",
      "That struts and frets his hour upon the stage\n",
      "And then is heard no more. It is a tale\n",
      "Told by an idiot, full of sound and fury,\n",
      "Signifying nothing.\n"
     ]
    }
   ],
   "source": [
    "# To read all file as one string we use .read(). This will read everything including end of line characters.\n",
    "infile = open(\"data.txt\", \"r\")\n",
    "text_string=infile.read()\n",
    "print(text_string)"
   ]
  },
  {
   "cell_type": "code",
   "execution_count": 18,
   "metadata": {},
   "outputs": [
    {
     "name": "stdout",
     "output_type": "stream",
     "text": [
      "False\n"
     ]
    }
   ],
   "source": [
    "infile = open(\"data.txt\", \"r\")\n",
    "print(infile.closed)\t# False\n"
   ]
  },
  {
   "cell_type": "code",
   "execution_count": 19,
   "metadata": {},
   "outputs": [
    {
     "data": {
      "text/plain": [
       "['She should have died hereafter.\\n',\n",
       " 'There would have been a time for such a word.\\n',\n",
       " 'Tomorrow, and tomorrow, and tomorrow,\\n',\n",
       " 'Creeps in this petty pace from day to day\\n',\n",
       " 'To the last syllable of recorded time,\\n',\n",
       " 'And all our yesterdays have lighted fools\\n',\n",
       " 'The way to dusty death. Out, out, brief candle!\\n',\n",
       " \"Life's but a walking shadow, a poor player\\n\",\n",
       " 'That struts and frets his hour upon the stage\\n',\n",
       " 'And then is heard no more. It is a tale\\n',\n",
       " 'Told by an idiot, full of sound and fury,\\n',\n",
       " 'Signifying nothing.']"
      ]
     },
     "execution_count": 19,
     "metadata": {},
     "output_type": "execute_result"
    }
   ],
   "source": [
    "lines = infile.readlines() #Read all lines in the file into a list\n",
    "lines"
   ]
  },
  {
   "cell_type": "code",
   "execution_count": 20,
   "metadata": {},
   "outputs": [
    {
     "name": "stdout",
     "output_type": "stream",
     "text": [
      "True\n"
     ]
    }
   ],
   "source": [
    "infile.close()\n",
    "print(infile.closed)\t# True"
   ]
  },
  {
   "cell_type": "code",
   "execution_count": null,
   "metadata": {},
   "outputs": [],
   "source": [
    "#Writing to a Text File\n",
    "outfile = open(\"output.txt\", \"w\")\n",
    "\n",
    "for n in range(1,11):\n",
    "    outfile.write(str(n) + \"\\n\")\n",
    "\n",
    "outfile.close()\n"
   ]
  },
  {
   "cell_type": "markdown",
   "metadata": {},
   "source": [
    "#### Processing a CSV FIle\n",
    "- Using split\n",
    "- Import csv\n",
    "- Import pandas "
   ]
  },
  {
   "cell_type": "code",
   "execution_count": 55,
   "metadata": {},
   "outputs": [
    {
     "name": "stdout",
     "output_type": "stream",
     "text": [
      "['state', 'pop', 'med_prop_val', 'med_income', 'avg_commute']\n",
      "['Montana', '1042520', '217200', '46608', '16.35']\n",
      "['Alabama', '4863300', '136200', '42917', '23.78']\n",
      "['Arizona', '6931071', '205900', '50036', '23.69']\n",
      "['Arkansas', '2988248', '123300', '41335', '20.49']\n",
      "['California', '39250017', '477500', '61927', '27.67']\n",
      "['Colorado', '5540545', '314200', '61324', '23.02']\n",
      "['Connecticut', '3576452', '274600', '70007', '24.92']\n",
      "['Delaware', '952065', '243400', '59853', '24.97']\n",
      "['District of Columbia', '681170', '576100', '75506', '28.96']\n",
      "['Florida', '20612439', '197700', '47439', '25.8']\n",
      "['Georgia', '10310371', '166800', '49240', '26.91']\n",
      "['Hawaii', '1428557', '592000', '69549', '26.03']\n",
      "['Idaho', '1683140', '189400', '47572', '19.71']\n",
      "['Illinois', '12801539', '186500', '57458', '27.49']\n",
      "['Indiana', '6633053', '134800', '49384', '22.66']\n",
      "['Iowa', '3134693', '142300', '53816', '18.11']\n",
      "['Kansas', '2907289', '144900', '52392', '18.52']\n",
      "['Kentucky', '4436974', '135600', '42914', '22.4']\n",
      "['Louisiana', '4681666', '158000', '44680', '24.24']\n",
      "['Maine', '1331479', '184700', '49381', '22.52']\n",
      "['Maryland', '6016447', '306900', '73851', '31.26']\n",
      "['Massachusetts', '6811779', '366900', '69200', '28.05']\n",
      "['Michigan', '9928300', '147100', '49755', '23.49']\n",
      "['Minnesota', '5519952', '211800', '61473', '22.08']\n",
      "['Mississippi', '2988726', '113900', '39738', '23.77']\n",
      "['Missouri', '6093000', '151400', '48288', '22.45']\n",
      "['Alaska', '741894', '267800', '70898', '17.03']\n",
      "['Nebraska', '1907116', '148100', '52803', '17.78']\n",
      "['Nevada', '2940058', '239500', '51487', '23.07']\n",
      "['New Hampshire', '1334795', '251100', '66469', '25.25']\n",
      "['New Jersey', '8944469', '328200', '71968', '30.28']\n",
      "['New Mexico', '2081015', '167500', '44905', '20.81']\n",
      "['New York', '19745289', '302400', '58771', '31.95']\n",
      "['North Carolina', '10146788', '165400', '46596', '23.07']\n",
      "['North Dakota', '757953', '184100', '60227', '16.5']\n",
      "['Ohio', '11614373', '140100', '49349', '22.43']\n",
      "['Oklahoma', '3923561', '132200', '47524', '20.47']\n",
      "['Oregon', '4093465', '287100', '51088', '22.29']\n",
      "['Pennsylvania', '12784227', '174100', '53224', '25.61']\n",
      "['Rhode Island', '1056426', '247700', '54797', '23.78']\n",
      "['South Carolina', '4961119', '153900', '45337', '23.67']\n",
      "['South Dakota', '865454', '160700', '51059', '15.73']\n",
      "['Tennessee', '6651194', '157700', '44357', '23.9']\n",
      "['Texas', '27862596', '161500', '53067', '25.2']\n",
      "['Utah', '3051217', '250300', '60943', '20.31']\n",
      "['Vermont', '624594', '223700', '54153', '21.49']\n",
      "['Virginia', '8411808', '264000', '64923', '27.03']\n",
      "['Washington', '7288000', '306400', '61358', '26.21']\n",
      "['West Virginia', '1831102', '117900', '41030', '24.36']\n",
      "['Wisconsin', '5778709', '173200', '52632', '20.89']\n",
      "['Wyoming', '585501', '209500', '58291', '15.94']\n",
      "['Puerto Rico', '3411307', '111900', '20078', '28.36']\n"
     ]
    }
   ],
   "source": [
    "with open(\"state_property_vote.csv\", \"r\") as infile:\n",
    "    for line in infile:\n",
    "        line = line.strip(\" \\n\")\n",
    "        fields = line.split(\",\") \n",
    "        for i in range(0,len(fields)):\n",
    "            fields[i] = fields[i].strip()\n",
    "        print(fields)"
   ]
  },
  {
   "cell_type": "code",
   "execution_count": 62,
   "metadata": {},
   "outputs": [
    {
     "name": "stdout",
     "output_type": "stream",
     "text": [
      "state\n",
      "Montana\n",
      "Alabama\n",
      "Arizona\n",
      "Arkansas\n",
      "California\n",
      "Colorado\n",
      "Connecticut\n",
      "Delaware\n",
      "District of Columbia\n",
      "Florida\n",
      "Georgia\n",
      "Hawaii\n",
      "Idaho\n",
      "Illinois\n",
      "Indiana\n",
      "Iowa\n",
      "Kansas\n",
      "Kentucky\n",
      "Louisiana\n",
      "Maine\n",
      "Maryland\n",
      "Massachusetts\n",
      "Michigan\n",
      "Minnesota\n",
      "Mississippi\n",
      "Missouri\n",
      "Alaska\n",
      "Nebraska\n",
      "Nevada\n",
      "New Hampshire\n",
      "New Jersey\n",
      "New Mexico\n",
      "New York\n",
      "North Carolina\n",
      "North Dakota\n",
      "Ohio\n",
      "Oklahoma\n",
      "Oregon\n",
      "Pennsylvania\n",
      "Rhode Island\n",
      "South Carolina\n",
      "South Dakota\n",
      "Tennessee\n",
      "Texas\n",
      "Utah\n",
      "Vermont\n",
      "Virginia\n",
      "Washington\n",
      "West Virginia\n",
      "Wisconsin\n",
      "Wyoming\n",
      "Puerto Rico\n"
     ]
    }
   ],
   "source": [
    "import csv\n",
    "\n",
    "with open(\"state_property_vote.csv\", \"r\") as infile:\n",
    "\tcsvfile = csv.reader(infile)\n",
    "\tfor row in csvfile:\n",
    "\t\tprint (row[0])\n"
   ]
  },
  {
   "cell_type": "markdown",
   "metadata": {},
   "source": [
    "#### Try it: Python Files\n",
    "\n",
    "Write a Python program that writes to the file test.txt the numbers from 20 to 10 in descending order. Then, write another program that reads your newly created test.txt file line by line and only prints out the value if it is even.\n"
   ]
  },
  {
   "cell_type": "code",
   "execution_count": null,
   "metadata": {},
   "outputs": [],
   "source": [
    "## YOUR TURN TO PRACTICE\n"
   ]
  },
  {
   "cell_type": "code",
   "execution_count": 64,
   "metadata": {},
   "outputs": [],
   "source": [
    "import pandas as pd"
   ]
  },
  {
   "cell_type": "markdown",
   "metadata": {},
   "source": [
    "## What is pandas\n",
    "- This tool is essentially your data's home. Using pandas, we explore our datasets. \n",
    "- We use pandas for cleaning, transforming, and analyzing the data.\n",
    "- Panda extracts the data from your dataset (CSV) and transforms it into a DataFrame.\n",
    "- Then, you can:\n",
    "    - Calculate statistics and answer questions about the data (average, meadian, max, min)\n",
    "    - Clean the data by removing missing values\n",
    "    - Visualize the data\n",
    "    - Store the cleaned data\n"
   ]
  },
  {
   "cell_type": "markdown",
   "metadata": {},
   "source": [
    "#### How does pandas fit into the data science toolkit?\n",
    "- Pandas library is normally used in combination with other libraries for data science.\n",
    "- Pandas is built on top of the NumPy package. So, a lot of the structure of NumPy is used or replicated in Pandas.\n",
    "- The core components of pandas are teh ```Series``` and ```Dataframe```\n",
    "- A ```Serie``` is essentially a column, and a ```DataFrame``` is a multi-dimensional table made up of a collection of Series."
   ]
  },
  {
   "cell_type": "code",
   "execution_count": 70,
   "metadata": {},
   "outputs": [
    {
     "name": "stdout",
     "output_type": "stream",
     "text": [
      "                   state       pop  med_prop_val  med_income  avg_commute\n",
      "0                Montana   1042520        217200       46608        16.35\n",
      "1                Alabama   4863300        136200       42917        23.78\n",
      "2                Arizona   6931071        205900       50036        23.69\n",
      "3               Arkansas   2988248        123300       41335        20.49\n",
      "4             California  39250017        477500       61927        27.67\n",
      "5               Colorado   5540545        314200       61324        23.02\n",
      "6            Connecticut   3576452        274600       70007        24.92\n",
      "7               Delaware    952065        243400       59853        24.97\n",
      "8   District of Columbia    681170        576100       75506        28.96\n",
      "9                Florida  20612439        197700       47439        25.80\n",
      "10               Georgia  10310371        166800       49240        26.91\n",
      "11                Hawaii   1428557        592000       69549        26.03\n",
      "12                 Idaho   1683140        189400       47572        19.71\n",
      "13              Illinois  12801539        186500       57458        27.49\n",
      "14               Indiana   6633053        134800       49384        22.66\n",
      "15                  Iowa   3134693        142300       53816        18.11\n",
      "16                Kansas   2907289        144900       52392        18.52\n",
      "17              Kentucky   4436974        135600       42914        22.40\n",
      "18             Louisiana   4681666        158000       44680        24.24\n",
      "19                 Maine   1331479        184700       49381        22.52\n",
      "20              Maryland   6016447        306900       73851        31.26\n",
      "21         Massachusetts   6811779        366900       69200        28.05\n",
      "22              Michigan   9928300        147100       49755        23.49\n",
      "23             Minnesota   5519952        211800       61473        22.08\n",
      "24           Mississippi   2988726        113900       39738        23.77\n",
      "25              Missouri   6093000        151400       48288        22.45\n",
      "26                Alaska    741894        267800       70898        17.03\n",
      "27              Nebraska   1907116        148100       52803        17.78\n",
      "28                Nevada   2940058        239500       51487        23.07\n",
      "29         New Hampshire   1334795        251100       66469        25.25\n",
      "30            New Jersey   8944469        328200       71968        30.28\n",
      "31            New Mexico   2081015        167500       44905        20.81\n",
      "32              New York  19745289        302400       58771        31.95\n",
      "33        North Carolina  10146788        165400       46596        23.07\n",
      "34          North Dakota    757953        184100       60227        16.50\n",
      "35                  Ohio  11614373        140100       49349        22.43\n",
      "36              Oklahoma   3923561        132200       47524        20.47\n",
      "37                Oregon   4093465        287100       51088        22.29\n",
      "38          Pennsylvania  12784227        174100       53224        25.61\n",
      "39          Rhode Island   1056426        247700       54797        23.78\n",
      "40        South Carolina   4961119        153900       45337        23.67\n",
      "41          South Dakota    865454        160700       51059        15.73\n",
      "42             Tennessee   6651194        157700       44357        23.90\n",
      "43                 Texas  27862596        161500       53067        25.20\n",
      "44                  Utah   3051217        250300       60943        20.31\n",
      "45               Vermont    624594        223700       54153        21.49\n",
      "46              Virginia   8411808        264000       64923        27.03\n",
      "47            Washington   7288000        306400       61358        26.21\n",
      "48         West Virginia   1831102        117900       41030        24.36\n",
      "49             Wisconsin   5778709        173200       52632        20.89\n",
      "50               Wyoming    585501        209500       58291        15.94\n",
      "51           Puerto Rico   3411307        111900       20078        28.36\n"
     ]
    }
   ],
   "source": [
    "# Create a dataframe from a CSV file\n",
    "\n",
    "dataframe= pd.read_csv(\"state_property_vote.csv\",)"
   ]
  },
  {
   "cell_type": "code",
   "execution_count": 66,
   "metadata": {},
   "outputs": [
    {
     "name": "stdout",
     "output_type": "stream",
     "text": [
      "<class 'pandas.core.frame.DataFrame'>\n",
      "RangeIndex: 52 entries, 0 to 51\n",
      "Data columns (total 5 columns):\n",
      " #   Column        Non-Null Count  Dtype  \n",
      "---  ------        --------------  -----  \n",
      " 0   state         52 non-null     object \n",
      " 1   pop           52 non-null     int64  \n",
      " 2   med_prop_val  52 non-null     int64  \n",
      " 3   med_income    52 non-null     int64  \n",
      " 4   avg_commute   52 non-null     float64\n",
      "dtypes: float64(1), int64(3), object(1)\n",
      "memory usage: 2.2+ KB\n"
     ]
    }
   ],
   "source": [
    "dataframe.info()"
   ]
  },
  {
   "cell_type": "code",
   "execution_count": 72,
   "metadata": {},
   "outputs": [
    {
     "data": {
      "text/html": [
       "<div>\n",
       "<style scoped>\n",
       "    .dataframe tbody tr th:only-of-type {\n",
       "        vertical-align: middle;\n",
       "    }\n",
       "\n",
       "    .dataframe tbody tr th {\n",
       "        vertical-align: top;\n",
       "    }\n",
       "\n",
       "    .dataframe thead th {\n",
       "        text-align: right;\n",
       "    }\n",
       "</style>\n",
       "<table border=\"1\" class=\"dataframe\">\n",
       "  <thead>\n",
       "    <tr style=\"text-align: right;\">\n",
       "      <th></th>\n",
       "      <th>state</th>\n",
       "      <th>pop</th>\n",
       "      <th>med_prop_val</th>\n",
       "      <th>med_income</th>\n",
       "      <th>avg_commute</th>\n",
       "    </tr>\n",
       "  </thead>\n",
       "  <tbody>\n",
       "    <tr>\n",
       "      <th>0</th>\n",
       "      <td>Montana</td>\n",
       "      <td>1042520</td>\n",
       "      <td>217200</td>\n",
       "      <td>46608</td>\n",
       "      <td>16.35</td>\n",
       "    </tr>\n",
       "    <tr>\n",
       "      <th>1</th>\n",
       "      <td>Alabama</td>\n",
       "      <td>4863300</td>\n",
       "      <td>136200</td>\n",
       "      <td>42917</td>\n",
       "      <td>23.78</td>\n",
       "    </tr>\n",
       "    <tr>\n",
       "      <th>2</th>\n",
       "      <td>Arizona</td>\n",
       "      <td>6931071</td>\n",
       "      <td>205900</td>\n",
       "      <td>50036</td>\n",
       "      <td>23.69</td>\n",
       "    </tr>\n",
       "  </tbody>\n",
       "</table>\n",
       "</div>"
      ],
      "text/plain": [
       "     state      pop  med_prop_val  med_income  avg_commute\n",
       "0  Montana  1042520        217200       46608        16.35\n",
       "1  Alabama  4863300        136200       42917        23.78\n",
       "2  Arizona  6931071        205900       50036        23.69"
      ]
     },
     "execution_count": 72,
     "metadata": {},
     "output_type": "execute_result"
    }
   ],
   "source": [
    "# Viewing the data with .head()\n",
    "dataframe.head(3)"
   ]
  },
  {
   "cell_type": "code",
   "execution_count": 68,
   "metadata": {},
   "outputs": [
    {
     "data": {
      "text/html": [
       "<div>\n",
       "<style scoped>\n",
       "    .dataframe tbody tr th:only-of-type {\n",
       "        vertical-align: middle;\n",
       "    }\n",
       "\n",
       "    .dataframe tbody tr th {\n",
       "        vertical-align: top;\n",
       "    }\n",
       "\n",
       "    .dataframe thead th {\n",
       "        text-align: right;\n",
       "    }\n",
       "</style>\n",
       "<table border=\"1\" class=\"dataframe\">\n",
       "  <thead>\n",
       "    <tr style=\"text-align: right;\">\n",
       "      <th></th>\n",
       "      <th>state</th>\n",
       "      <th>pop</th>\n",
       "      <th>med_prop_val</th>\n",
       "      <th>med_income</th>\n",
       "      <th>avg_commute</th>\n",
       "    </tr>\n",
       "  </thead>\n",
       "  <tbody>\n",
       "    <tr>\n",
       "      <th>49</th>\n",
       "      <td>Wisconsin</td>\n",
       "      <td>5778709</td>\n",
       "      <td>173200</td>\n",
       "      <td>52632</td>\n",
       "      <td>20.89</td>\n",
       "    </tr>\n",
       "    <tr>\n",
       "      <th>50</th>\n",
       "      <td>Wyoming</td>\n",
       "      <td>585501</td>\n",
       "      <td>209500</td>\n",
       "      <td>58291</td>\n",
       "      <td>15.94</td>\n",
       "    </tr>\n",
       "    <tr>\n",
       "      <th>51</th>\n",
       "      <td>Puerto Rico</td>\n",
       "      <td>3411307</td>\n",
       "      <td>111900</td>\n",
       "      <td>20078</td>\n",
       "      <td>28.36</td>\n",
       "    </tr>\n",
       "  </tbody>\n",
       "</table>\n",
       "</div>"
      ],
      "text/plain": [
       "          state      pop  med_prop_val  med_income  avg_commute\n",
       "49    Wisconsin  5778709        173200       52632        20.89\n",
       "50      Wyoming   585501        209500       58291        15.94\n",
       "51  Puerto Rico  3411307        111900       20078        28.36"
      ]
     },
     "execution_count": 68,
     "metadata": {},
     "output_type": "execute_result"
    }
   ],
   "source": [
    "# Viewing the last rows of our data with .tail()\n",
    "dataframe.tail(3)"
   ]
  },
  {
   "cell_type": "code",
   "execution_count": 73,
   "metadata": {},
   "outputs": [
    {
     "data": {
      "text/html": [
       "<div>\n",
       "<style scoped>\n",
       "    .dataframe tbody tr th:only-of-type {\n",
       "        vertical-align: middle;\n",
       "    }\n",
       "\n",
       "    .dataframe tbody tr th {\n",
       "        vertical-align: top;\n",
       "    }\n",
       "\n",
       "    .dataframe thead th {\n",
       "        text-align: right;\n",
       "    }\n",
       "</style>\n",
       "<table border=\"1\" class=\"dataframe\">\n",
       "  <thead>\n",
       "    <tr style=\"text-align: right;\">\n",
       "      <th></th>\n",
       "      <th>state</th>\n",
       "      <th>pop</th>\n",
       "      <th>med_prop_val</th>\n",
       "      <th>med_income</th>\n",
       "      <th>avg_commute</th>\n",
       "    </tr>\n",
       "  </thead>\n",
       "  <tbody>\n",
       "    <tr>\n",
       "      <th>0</th>\n",
       "      <td>Montana</td>\n",
       "      <td>1042520</td>\n",
       "      <td>217200</td>\n",
       "      <td>46608</td>\n",
       "      <td>16.35</td>\n",
       "    </tr>\n",
       "    <tr>\n",
       "      <th>1</th>\n",
       "      <td>Alabama</td>\n",
       "      <td>4863300</td>\n",
       "      <td>136200</td>\n",
       "      <td>42917</td>\n",
       "      <td>23.78</td>\n",
       "    </tr>\n",
       "    <tr>\n",
       "      <th>2</th>\n",
       "      <td>Arizona</td>\n",
       "      <td>6931071</td>\n",
       "      <td>205900</td>\n",
       "      <td>50036</td>\n",
       "      <td>23.69</td>\n",
       "    </tr>\n",
       "    <tr>\n",
       "      <th>3</th>\n",
       "      <td>Arkansas</td>\n",
       "      <td>2988248</td>\n",
       "      <td>123300</td>\n",
       "      <td>41335</td>\n",
       "      <td>20.49</td>\n",
       "    </tr>\n",
       "    <tr>\n",
       "      <th>4</th>\n",
       "      <td>California</td>\n",
       "      <td>39250017</td>\n",
       "      <td>477500</td>\n",
       "      <td>61927</td>\n",
       "      <td>27.67</td>\n",
       "    </tr>\n",
       "    <tr>\n",
       "      <th>5</th>\n",
       "      <td>Colorado</td>\n",
       "      <td>5540545</td>\n",
       "      <td>314200</td>\n",
       "      <td>61324</td>\n",
       "      <td>23.02</td>\n",
       "    </tr>\n",
       "    <tr>\n",
       "      <th>6</th>\n",
       "      <td>Connecticut</td>\n",
       "      <td>3576452</td>\n",
       "      <td>274600</td>\n",
       "      <td>70007</td>\n",
       "      <td>24.92</td>\n",
       "    </tr>\n",
       "    <tr>\n",
       "      <th>7</th>\n",
       "      <td>Delaware</td>\n",
       "      <td>952065</td>\n",
       "      <td>243400</td>\n",
       "      <td>59853</td>\n",
       "      <td>24.97</td>\n",
       "    </tr>\n",
       "    <tr>\n",
       "      <th>8</th>\n",
       "      <td>District of Columbia</td>\n",
       "      <td>681170</td>\n",
       "      <td>576100</td>\n",
       "      <td>75506</td>\n",
       "      <td>28.96</td>\n",
       "    </tr>\n",
       "    <tr>\n",
       "      <th>9</th>\n",
       "      <td>Florida</td>\n",
       "      <td>20612439</td>\n",
       "      <td>197700</td>\n",
       "      <td>47439</td>\n",
       "      <td>25.80</td>\n",
       "    </tr>\n",
       "    <tr>\n",
       "      <th>10</th>\n",
       "      <td>Georgia</td>\n",
       "      <td>10310371</td>\n",
       "      <td>166800</td>\n",
       "      <td>49240</td>\n",
       "      <td>26.91</td>\n",
       "    </tr>\n",
       "    <tr>\n",
       "      <th>11</th>\n",
       "      <td>Hawaii</td>\n",
       "      <td>1428557</td>\n",
       "      <td>592000</td>\n",
       "      <td>69549</td>\n",
       "      <td>26.03</td>\n",
       "    </tr>\n",
       "    <tr>\n",
       "      <th>12</th>\n",
       "      <td>Idaho</td>\n",
       "      <td>1683140</td>\n",
       "      <td>189400</td>\n",
       "      <td>47572</td>\n",
       "      <td>19.71</td>\n",
       "    </tr>\n",
       "    <tr>\n",
       "      <th>13</th>\n",
       "      <td>Illinois</td>\n",
       "      <td>12801539</td>\n",
       "      <td>186500</td>\n",
       "      <td>57458</td>\n",
       "      <td>27.49</td>\n",
       "    </tr>\n",
       "    <tr>\n",
       "      <th>14</th>\n",
       "      <td>Indiana</td>\n",
       "      <td>6633053</td>\n",
       "      <td>134800</td>\n",
       "      <td>49384</td>\n",
       "      <td>22.66</td>\n",
       "    </tr>\n",
       "    <tr>\n",
       "      <th>15</th>\n",
       "      <td>Iowa</td>\n",
       "      <td>3134693</td>\n",
       "      <td>142300</td>\n",
       "      <td>53816</td>\n",
       "      <td>18.11</td>\n",
       "    </tr>\n",
       "    <tr>\n",
       "      <th>16</th>\n",
       "      <td>Kansas</td>\n",
       "      <td>2907289</td>\n",
       "      <td>144900</td>\n",
       "      <td>52392</td>\n",
       "      <td>18.52</td>\n",
       "    </tr>\n",
       "    <tr>\n",
       "      <th>17</th>\n",
       "      <td>Kentucky</td>\n",
       "      <td>4436974</td>\n",
       "      <td>135600</td>\n",
       "      <td>42914</td>\n",
       "      <td>22.40</td>\n",
       "    </tr>\n",
       "    <tr>\n",
       "      <th>18</th>\n",
       "      <td>Louisiana</td>\n",
       "      <td>4681666</td>\n",
       "      <td>158000</td>\n",
       "      <td>44680</td>\n",
       "      <td>24.24</td>\n",
       "    </tr>\n",
       "    <tr>\n",
       "      <th>19</th>\n",
       "      <td>Maine</td>\n",
       "      <td>1331479</td>\n",
       "      <td>184700</td>\n",
       "      <td>49381</td>\n",
       "      <td>22.52</td>\n",
       "    </tr>\n",
       "    <tr>\n",
       "      <th>20</th>\n",
       "      <td>Maryland</td>\n",
       "      <td>6016447</td>\n",
       "      <td>306900</td>\n",
       "      <td>73851</td>\n",
       "      <td>31.26</td>\n",
       "    </tr>\n",
       "    <tr>\n",
       "      <th>21</th>\n",
       "      <td>Massachusetts</td>\n",
       "      <td>6811779</td>\n",
       "      <td>366900</td>\n",
       "      <td>69200</td>\n",
       "      <td>28.05</td>\n",
       "    </tr>\n",
       "    <tr>\n",
       "      <th>22</th>\n",
       "      <td>Michigan</td>\n",
       "      <td>9928300</td>\n",
       "      <td>147100</td>\n",
       "      <td>49755</td>\n",
       "      <td>23.49</td>\n",
       "    </tr>\n",
       "    <tr>\n",
       "      <th>23</th>\n",
       "      <td>Minnesota</td>\n",
       "      <td>5519952</td>\n",
       "      <td>211800</td>\n",
       "      <td>61473</td>\n",
       "      <td>22.08</td>\n",
       "    </tr>\n",
       "    <tr>\n",
       "      <th>24</th>\n",
       "      <td>Mississippi</td>\n",
       "      <td>2988726</td>\n",
       "      <td>113900</td>\n",
       "      <td>39738</td>\n",
       "      <td>23.77</td>\n",
       "    </tr>\n",
       "    <tr>\n",
       "      <th>25</th>\n",
       "      <td>Missouri</td>\n",
       "      <td>6093000</td>\n",
       "      <td>151400</td>\n",
       "      <td>48288</td>\n",
       "      <td>22.45</td>\n",
       "    </tr>\n",
       "    <tr>\n",
       "      <th>26</th>\n",
       "      <td>Alaska</td>\n",
       "      <td>741894</td>\n",
       "      <td>267800</td>\n",
       "      <td>70898</td>\n",
       "      <td>17.03</td>\n",
       "    </tr>\n",
       "    <tr>\n",
       "      <th>27</th>\n",
       "      <td>Nebraska</td>\n",
       "      <td>1907116</td>\n",
       "      <td>148100</td>\n",
       "      <td>52803</td>\n",
       "      <td>17.78</td>\n",
       "    </tr>\n",
       "    <tr>\n",
       "      <th>28</th>\n",
       "      <td>Nevada</td>\n",
       "      <td>2940058</td>\n",
       "      <td>239500</td>\n",
       "      <td>51487</td>\n",
       "      <td>23.07</td>\n",
       "    </tr>\n",
       "    <tr>\n",
       "      <th>29</th>\n",
       "      <td>New Hampshire</td>\n",
       "      <td>1334795</td>\n",
       "      <td>251100</td>\n",
       "      <td>66469</td>\n",
       "      <td>25.25</td>\n",
       "    </tr>\n",
       "    <tr>\n",
       "      <th>30</th>\n",
       "      <td>New Jersey</td>\n",
       "      <td>8944469</td>\n",
       "      <td>328200</td>\n",
       "      <td>71968</td>\n",
       "      <td>30.28</td>\n",
       "    </tr>\n",
       "    <tr>\n",
       "      <th>31</th>\n",
       "      <td>New Mexico</td>\n",
       "      <td>2081015</td>\n",
       "      <td>167500</td>\n",
       "      <td>44905</td>\n",
       "      <td>20.81</td>\n",
       "    </tr>\n",
       "    <tr>\n",
       "      <th>32</th>\n",
       "      <td>New York</td>\n",
       "      <td>19745289</td>\n",
       "      <td>302400</td>\n",
       "      <td>58771</td>\n",
       "      <td>31.95</td>\n",
       "    </tr>\n",
       "    <tr>\n",
       "      <th>33</th>\n",
       "      <td>North Carolina</td>\n",
       "      <td>10146788</td>\n",
       "      <td>165400</td>\n",
       "      <td>46596</td>\n",
       "      <td>23.07</td>\n",
       "    </tr>\n",
       "    <tr>\n",
       "      <th>34</th>\n",
       "      <td>North Dakota</td>\n",
       "      <td>757953</td>\n",
       "      <td>184100</td>\n",
       "      <td>60227</td>\n",
       "      <td>16.50</td>\n",
       "    </tr>\n",
       "    <tr>\n",
       "      <th>35</th>\n",
       "      <td>Ohio</td>\n",
       "      <td>11614373</td>\n",
       "      <td>140100</td>\n",
       "      <td>49349</td>\n",
       "      <td>22.43</td>\n",
       "    </tr>\n",
       "    <tr>\n",
       "      <th>36</th>\n",
       "      <td>Oklahoma</td>\n",
       "      <td>3923561</td>\n",
       "      <td>132200</td>\n",
       "      <td>47524</td>\n",
       "      <td>20.47</td>\n",
       "    </tr>\n",
       "    <tr>\n",
       "      <th>37</th>\n",
       "      <td>Oregon</td>\n",
       "      <td>4093465</td>\n",
       "      <td>287100</td>\n",
       "      <td>51088</td>\n",
       "      <td>22.29</td>\n",
       "    </tr>\n",
       "    <tr>\n",
       "      <th>38</th>\n",
       "      <td>Pennsylvania</td>\n",
       "      <td>12784227</td>\n",
       "      <td>174100</td>\n",
       "      <td>53224</td>\n",
       "      <td>25.61</td>\n",
       "    </tr>\n",
       "    <tr>\n",
       "      <th>39</th>\n",
       "      <td>Rhode Island</td>\n",
       "      <td>1056426</td>\n",
       "      <td>247700</td>\n",
       "      <td>54797</td>\n",
       "      <td>23.78</td>\n",
       "    </tr>\n",
       "    <tr>\n",
       "      <th>40</th>\n",
       "      <td>South Carolina</td>\n",
       "      <td>4961119</td>\n",
       "      <td>153900</td>\n",
       "      <td>45337</td>\n",
       "      <td>23.67</td>\n",
       "    </tr>\n",
       "    <tr>\n",
       "      <th>41</th>\n",
       "      <td>South Dakota</td>\n",
       "      <td>865454</td>\n",
       "      <td>160700</td>\n",
       "      <td>51059</td>\n",
       "      <td>15.73</td>\n",
       "    </tr>\n",
       "    <tr>\n",
       "      <th>42</th>\n",
       "      <td>Tennessee</td>\n",
       "      <td>6651194</td>\n",
       "      <td>157700</td>\n",
       "      <td>44357</td>\n",
       "      <td>23.90</td>\n",
       "    </tr>\n",
       "    <tr>\n",
       "      <th>43</th>\n",
       "      <td>Texas</td>\n",
       "      <td>27862596</td>\n",
       "      <td>161500</td>\n",
       "      <td>53067</td>\n",
       "      <td>25.20</td>\n",
       "    </tr>\n",
       "    <tr>\n",
       "      <th>44</th>\n",
       "      <td>Utah</td>\n",
       "      <td>3051217</td>\n",
       "      <td>250300</td>\n",
       "      <td>60943</td>\n",
       "      <td>20.31</td>\n",
       "    </tr>\n",
       "    <tr>\n",
       "      <th>45</th>\n",
       "      <td>Vermont</td>\n",
       "      <td>624594</td>\n",
       "      <td>223700</td>\n",
       "      <td>54153</td>\n",
       "      <td>21.49</td>\n",
       "    </tr>\n",
       "    <tr>\n",
       "      <th>46</th>\n",
       "      <td>Virginia</td>\n",
       "      <td>8411808</td>\n",
       "      <td>264000</td>\n",
       "      <td>64923</td>\n",
       "      <td>27.03</td>\n",
       "    </tr>\n",
       "    <tr>\n",
       "      <th>47</th>\n",
       "      <td>Washington</td>\n",
       "      <td>7288000</td>\n",
       "      <td>306400</td>\n",
       "      <td>61358</td>\n",
       "      <td>26.21</td>\n",
       "    </tr>\n",
       "    <tr>\n",
       "      <th>48</th>\n",
       "      <td>West Virginia</td>\n",
       "      <td>1831102</td>\n",
       "      <td>117900</td>\n",
       "      <td>41030</td>\n",
       "      <td>24.36</td>\n",
       "    </tr>\n",
       "    <tr>\n",
       "      <th>49</th>\n",
       "      <td>Wisconsin</td>\n",
       "      <td>5778709</td>\n",
       "      <td>173200</td>\n",
       "      <td>52632</td>\n",
       "      <td>20.89</td>\n",
       "    </tr>\n",
       "    <tr>\n",
       "      <th>50</th>\n",
       "      <td>Wyoming</td>\n",
       "      <td>585501</td>\n",
       "      <td>209500</td>\n",
       "      <td>58291</td>\n",
       "      <td>15.94</td>\n",
       "    </tr>\n",
       "    <tr>\n",
       "      <th>51</th>\n",
       "      <td>Puerto Rico</td>\n",
       "      <td>3411307</td>\n",
       "      <td>111900</td>\n",
       "      <td>20078</td>\n",
       "      <td>28.36</td>\n",
       "    </tr>\n",
       "  </tbody>\n",
       "</table>\n",
       "</div>"
      ],
      "text/plain": [
       "                   state       pop  med_prop_val  med_income  avg_commute\n",
       "0                Montana   1042520        217200       46608        16.35\n",
       "1                Alabama   4863300        136200       42917        23.78\n",
       "2                Arizona   6931071        205900       50036        23.69\n",
       "3               Arkansas   2988248        123300       41335        20.49\n",
       "4             California  39250017        477500       61927        27.67\n",
       "5               Colorado   5540545        314200       61324        23.02\n",
       "6            Connecticut   3576452        274600       70007        24.92\n",
       "7               Delaware    952065        243400       59853        24.97\n",
       "8   District of Columbia    681170        576100       75506        28.96\n",
       "9                Florida  20612439        197700       47439        25.80\n",
       "10               Georgia  10310371        166800       49240        26.91\n",
       "11                Hawaii   1428557        592000       69549        26.03\n",
       "12                 Idaho   1683140        189400       47572        19.71\n",
       "13              Illinois  12801539        186500       57458        27.49\n",
       "14               Indiana   6633053        134800       49384        22.66\n",
       "15                  Iowa   3134693        142300       53816        18.11\n",
       "16                Kansas   2907289        144900       52392        18.52\n",
       "17              Kentucky   4436974        135600       42914        22.40\n",
       "18             Louisiana   4681666        158000       44680        24.24\n",
       "19                 Maine   1331479        184700       49381        22.52\n",
       "20              Maryland   6016447        306900       73851        31.26\n",
       "21         Massachusetts   6811779        366900       69200        28.05\n",
       "22              Michigan   9928300        147100       49755        23.49\n",
       "23             Minnesota   5519952        211800       61473        22.08\n",
       "24           Mississippi   2988726        113900       39738        23.77\n",
       "25              Missouri   6093000        151400       48288        22.45\n",
       "26                Alaska    741894        267800       70898        17.03\n",
       "27              Nebraska   1907116        148100       52803        17.78\n",
       "28                Nevada   2940058        239500       51487        23.07\n",
       "29         New Hampshire   1334795        251100       66469        25.25\n",
       "30            New Jersey   8944469        328200       71968        30.28\n",
       "31            New Mexico   2081015        167500       44905        20.81\n",
       "32              New York  19745289        302400       58771        31.95\n",
       "33        North Carolina  10146788        165400       46596        23.07\n",
       "34          North Dakota    757953        184100       60227        16.50\n",
       "35                  Ohio  11614373        140100       49349        22.43\n",
       "36              Oklahoma   3923561        132200       47524        20.47\n",
       "37                Oregon   4093465        287100       51088        22.29\n",
       "38          Pennsylvania  12784227        174100       53224        25.61\n",
       "39          Rhode Island   1056426        247700       54797        23.78\n",
       "40        South Carolina   4961119        153900       45337        23.67\n",
       "41          South Dakota    865454        160700       51059        15.73\n",
       "42             Tennessee   6651194        157700       44357        23.90\n",
       "43                 Texas  27862596        161500       53067        25.20\n",
       "44                  Utah   3051217        250300       60943        20.31\n",
       "45               Vermont    624594        223700       54153        21.49\n",
       "46              Virginia   8411808        264000       64923        27.03\n",
       "47            Washington   7288000        306400       61358        26.21\n",
       "48         West Virginia   1831102        117900       41030        24.36\n",
       "49             Wisconsin   5778709        173200       52632        20.89\n",
       "50               Wyoming    585501        209500       58291        15.94\n",
       "51           Puerto Rico   3411307        111900       20078        28.36"
      ]
     },
     "execution_count": 73,
     "metadata": {},
     "output_type": "execute_result"
    }
   ],
   "source": [
    "#By default, the dropna() method returns a new DataFrame, and will not change the original.\n",
    "\n",
    "new_df = dataframe.dropna()\n",
    "new_df"
   ]
  },
  {
   "cell_type": "code",
   "execution_count": null,
   "metadata": {},
   "outputs": [],
   "source": [
    "#Remove all rows with NULL values:\n",
    "new_df.dropna(inplace = True)\n",
    "new_df\n",
    "\n",
    "#Replace NULL values with the number 1:\n",
    "#new_df.fillna(1, inplace = True)\n",
    "#new_df[\"med_income\"].fillna(1, inplace = True)\n",
    "\n",
    "\n",
    "#x = new_df[\"med_income\"].mean()\n",
    "#new_df[\"med_income\"].fillna(x, inplace = True)"
   ]
  },
  {
   "cell_type": "code",
   "execution_count": null,
   "metadata": {},
   "outputs": [],
   "source": [
    "from datetime import datetime\n",
    "\n",
    "# Get current date\n",
    "datetime.now()"
   ]
  },
  {
   "cell_type": "code",
   "execution_count": null,
   "metadata": {},
   "outputs": [],
   "source": [
    "from datetime import date\n",
    "\n",
    "# Creating a datetime.date type\n",
    "date(2022,9,21)\n"
   ]
  },
  {
   "cell_type": "code",
   "execution_count": null,
   "metadata": {},
   "outputs": [],
   "source": [
    "# Convert row to Convert to date:\n",
    "# df['Date'] = pd.to_datetime(df['Date'])\n"
   ]
  }
 ],
 "metadata": {
  "kernelspec": {
   "display_name": "Python 3 (ipykernel)",
   "language": "python",
   "name": "python3"
  },
  "language_info": {
   "codemirror_mode": {
    "name": "ipython",
    "version": 3
   },
   "file_extension": ".py",
   "mimetype": "text/x-python",
   "name": "python",
   "nbconvert_exporter": "python",
   "pygments_lexer": "ipython3",
   "version": "3.10.12"
  },
  "vscode": {
   "interpreter": {
    "hash": "753d7113537b387b72782a0cc951b2283945434542ede86a4702dfaca059ddf6"
   }
  }
 },
 "nbformat": 4,
 "nbformat_minor": 4
}
