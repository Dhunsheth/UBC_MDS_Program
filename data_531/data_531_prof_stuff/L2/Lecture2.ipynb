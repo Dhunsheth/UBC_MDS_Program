{
 "cells": [
  {
   "cell_type": "markdown",
   "id": "872d84b6",
   "metadata": {},
   "source": [
    "# Lecture 2: Functions in Python"
   ]
  },
  {
   "cell_type": "markdown",
   "id": "7b01ec0e",
   "metadata": {},
   "source": [
    "## Attribution\n",
    "- This lecture has been adapted from:\n",
    "    - The Python lectures delivered by [Mike Gelbart](https://personal.math.ubc.ca/~pwalls/) and are available publicly [here](https://www.youtube.com/watch?v=yBAYduexjuA)."
   ]
  },
  {
   "cell_type": "markdown",
   "id": "39155961",
   "metadata": {},
   "source": [
    "### Lecture 2 Outline:\n",
    "\n",
    "- **Loops** \n",
    "- **Comprehensions** \n",
    "- **Functions intro** \n",
    "- **DRY principle** \n",
    "- <span style=\"color:red\">Exercise 1</span>\n",
    "- **Docstrings** \n",
    "- **Unit tests, corner cases** \n",
    "- **Multiple return values**\n",
    "- <span style=\"color:red\">Exercise 2</span>\n",
    "\n"
   ]
  },
  {
   "cell_type": "markdown",
   "id": "b0de105b",
   "metadata": {},
   "source": [
    "### Loops\n",
    "\n",
    "- Loops allow us to execute a block of code multiple times.\n",
    "- We will focus on [for loops](https://docs.python.org/3/tutorial/controlflow.html#for-statements) "
   ]
  },
  {
   "cell_type": "code",
   "execution_count": 1,
   "id": "7b772e7c",
   "metadata": {},
   "outputs": [],
   "source": [
    "for n in [2, 7, -1, 5]:\n",
    "    # this is inside the loop\n",
    "    print(\"The number is\", n, \"its square is\", n**2)\n",
    "# this is outside the loop"
   ]
  },
  {
   "cell_type": "markdown",
   "id": "5b181296",
   "metadata": {},
   "source": [
    "The main points to notice:\n",
    "\n",
    "- Keyword <span style=\"color:green\">for</span> begins the loop\n",
    "- Colon <span style=\"color:green\">:</span> ends the first line of the loop\n",
    "- We can iterate over any kind of iterable: **list, tuple, range, string**. In this case, we are iterating over the values in a list\n",
    "- Block of code indented is executed for each value in the list \n",
    "- The loop ends after the variable <span style=\"color:green\">n</span> has taken all the values in the list."
   ]
  },
  {
   "cell_type": "code",
   "execution_count": 2,
   "id": "62e21258",
   "metadata": {},
   "outputs": [
    {
     "name": "stdout",
     "output_type": "stream",
     "text": [
      "Gimme a P!\n",
      "Gimme a y!\n",
      "Gimme a t!\n",
      "Gimme a h!\n",
      "Gimme a o!\n",
      "Gimme a n!\n"
     ]
    }
   ],
   "source": [
    "## Exercise: Spell the word: Python using a for loop\n",
    "\n",
    "s = \"Python\"\n",
    "\n",
    "for c in s:\n",
    "    print(\"Gimme a \" + c + \"!\")"
   ]
  },
  {
   "cell_type": "markdown",
   "id": "2b2ba48d",
   "metadata": {},
   "source": [
    "A very common pattern is to use <span style=\"color:green\">for</span> with <span style=\"color:green\">range</span>.\n",
    "\n",
    "<span style=\"color:green\">range</span> gives you a sequence of integers up to some value."
   ]
  },
  {
   "cell_type": "code",
   "execution_count": 3,
   "id": "23baf31c",
   "metadata": {},
   "outputs": [
    {
     "name": "stdout",
     "output_type": "stream",
     "text": [
      "0\n",
      "1\n",
      "2\n",
      "3\n",
      "4\n",
      "5\n",
      "6\n",
      "7\n",
      "8\n",
      "9\n"
     ]
    }
   ],
   "source": [
    "# range(10) sets values 0-9\n",
    "for i in range(10):\n",
    "    print(i)"
   ]
  },
  {
   "cell_type": "markdown",
   "id": "0cebb34d",
   "metadata": {},
   "source": [
    "We can also specify a start value and a skip-by value with <span style=\"color:green\">range</span>:"
   ]
  },
  {
   "cell_type": "code",
   "execution_count": 2,
   "id": "5db39ee4",
   "metadata": {},
   "outputs": [
    {
     "name": "stdout",
     "output_type": "stream",
     "text": [
      "1\n",
      "2\n",
      "3\n",
      "4\n",
      "5\n",
      "6\n",
      "7\n",
      "8\n",
      "9\n"
     ]
    }
   ],
   "source": [
    "#(start,end,increments)\n",
    "for i in range(1,10,1):\n",
    "    print(i)\n"
   ]
  },
  {
   "cell_type": "markdown",
   "id": "209ce502",
   "metadata": {},
   "source": [
    "We can write a loop inside another loop to iterate over multiple dimensions of data. Consider the following loop as enumerating the coordinates in a 3 by 3 grid of points."
   ]
  },
  {
   "cell_type": "code",
   "execution_count": 3,
   "id": "964b921c",
   "metadata": {},
   "outputs": [
    {
     "name": "stdout",
     "output_type": "stream",
     "text": [
      "(1, 'a')\n",
      "(1, 'b')\n",
      "(1, 'c')\n",
      "(2, 'a')\n",
      "(2, 'b')\n",
      "(2, 'c')\n",
      "(3, 'a')\n",
      "(3, 'b')\n",
      "(3, 'c')\n"
     ]
    }
   ],
   "source": [
    "for x in [1,2,3]:\n",
    "    for y in [\"a\",\"b\",\"c\"]:\n",
    "        print((x,y))\n"
   ]
  },
  {
   "cell_type": "markdown",
   "id": "cc24c337",
   "metadata": {},
   "source": [
    "<span style=\"color:green\">.items()</span> is a method that returns a view object that displays a list of dictionary's (key, value) tuple pairs.\n",
    "\n",
    "We can loop through key-value pairs of a dictionary using <span style=\"color:green\">.items()</span>. \n",
    "\n",
    "The general syntax is: \n",
    "```\n",
    "for key, value in dictionary.items()\n",
    "```"
   ]
  },
  {
   "cell_type": "code",
   "execution_count": 21,
   "id": "cd8d1b02",
   "metadata": {},
   "outputs": [
    {
     "name": "stdout",
     "output_type": "stream",
     "text": [
      "<built-in method get of dict object at 0x7fec6c2b05c0>\n"
     ]
    }
   ],
   "source": [
    "courses = {531 : \"Programming for Data Science\",\n",
    "           532 : \"Algorithms and Data Structure\",\n",
    "           533 : \"Collaborative Software Development\"}\n",
    "\n",
    "for course_num, description in courses.items():\n",
    "    print(\"DATA\", course_num, \"is\", description)"
   ]
  },
  {
   "cell_type": "code",
   "execution_count": 16,
   "id": "108a0a46",
   "metadata": {},
   "outputs": [
    {
     "name": "stdout",
     "output_type": "stream",
     "text": [
      "DATA 531 is Programming for Data Science\n",
      "DATA 532 is Algorithms and Data Structure\n",
      "DATA 533 is Collaborative Software Development\n"
     ]
    }
   ],
   "source": [
    "for course_num in courses:\n",
    "    print(\"DATA\", course_num, \"is\", courses[course_num])"
   ]
  },
  {
   "cell_type": "markdown",
   "id": "cc40a685",
   "metadata": {},
   "source": [
    "<span style=\"color:green\">while</span> loops\n",
    "-  We can also use a <span style=\"color:green\">while</span> loop to excute a block of code several times.\n",
    "- Beware! If the conditional expression is always <span style=\"color:green\">TRUE</span>, then you've got an infintite loop!\n",
    "    - (Use the \"Stop\" button in the toolbar above, or Ctrl-C in the terminal, to kill the program if you get an infinite loop.)"
   ]
  },
  {
   "cell_type": "code",
   "execution_count": null,
   "id": "8652de04",
   "metadata": {},
   "outputs": [],
   "source": [
    "n = 1\n",
    "while n < 4:\n",
    "    print(n)\n",
    "    n = n + 1\n",
    "\n",
    "print(\"Smile!\")"
   ]
  },
  {
   "cell_type": "markdown",
   "id": "2ce29078",
   "metadata": {},
   "source": [
    "### Comprehensions\n",
    "\n",
    "Comprehensions allow us to build lists/sets/dictionaries in one convenient, compact line of code.\n",
    "\n",
    "We will use sequences which have been already defined in Python. Currently, there is support for:\n",
    "\n",
    "- List Comprehensions\n",
    "- Dictionary Comprehensions\n",
    "- Set Comprehensions\n"
   ]
  },
  {
   "cell_type": "code",
   "execution_count": 11,
   "id": "9ca5b061",
   "metadata": {},
   "outputs": [
    {
     "data": {
      "text/plain": [
       "['o', 'e', 'e', 'm']"
      ]
     },
     "execution_count": 11,
     "metadata": {},
     "output_type": "execute_result"
    }
   ],
   "source": [
    "#list comprehension\n",
    "words = [\"hello\", \"goodbye\", \"the\", \"antidisestablishmentarianism\"]\n",
    "\n",
    "y = [a[-1] for a in words] \n",
    "y"
   ]
  },
  {
   "cell_type": "code",
   "execution_count": 14,
   "id": "6dcec053",
   "metadata": {},
   "outputs": [
    {
     "data": {
      "text/plain": [
       "{'e', 'm', 'o'}"
      ]
     },
     "execution_count": 14,
     "metadata": {},
     "output_type": "execute_result"
    }
   ],
   "source": [
    "#set comprehension\n",
    "y = {word[-1] for word in words}\n",
    "y"
   ]
  },
  {
   "cell_type": "code",
   "execution_count": 15,
   "id": "7c5872b8",
   "metadata": {},
   "outputs": [
    {
     "data": {
      "text/plain": [
       "{'hello': 'o', 'goodbye': 'e', 'the': 'e', 'antidisestablishmentarianism': 'm'}"
      ]
     },
     "execution_count": 15,
     "metadata": {},
     "output_type": "execute_result"
    }
   ],
   "source": [
    "#dictionary comprehension\n",
    "word_lengths = {word : word[-1] for word in words}\n",
    "word_lengths\n"
   ]
  },
  {
   "cell_type": "code",
   "execution_count": 16,
   "id": "655c33f2",
   "metadata": {},
   "outputs": [
    {
     "name": "stdout",
     "output_type": "stream",
     "text": [
      "<generator object <genexpr> at 0x7f5fcc527840>\n"
     ]
    }
   ],
   "source": [
    "#generators comprehension\n",
    "y = (word[-1] for word in words)  # this is NOT a tuple comprehension - more on generators later -- We will skip this for now\n",
    "print(y)\n",
    "\n",
    "#for value in y:\n",
    "#    print(value)"
   ]
  },
  {
   "cell_type": "markdown",
   "id": "c44e3795",
   "metadata": {},
   "source": [
    "### Functions\n",
    "\n",
    "- Define a function to re-use a block of code with different input parameters, also known as arguments.\n",
    "- Begins with <span style=\"color:green\">def</span> keyword, function name, input parameters and then colon (:)\n",
    "- Function block defined by indentation\n",
    "- Output or \"return\" value of the function is given by the <span style=\"color:green\">return</span> keyword\n"
   ]
  },
  {
   "cell_type": "code",
   "execution_count": null,
   "id": "3bd175de",
   "metadata": {},
   "outputs": [],
   "source": [
    "#For example, define a function called square which takes one input parameter n and returns the square n**2.\n",
    "def square(n):\n",
    "    n_square = n**2\n",
    "    return (n_square)"
   ]
  },
  {
   "cell_type": "code",
   "execution_count": null,
   "id": "da579917",
   "metadata": {},
   "outputs": [],
   "source": [
    "square(2)"
   ]
  },
  {
   "cell_type": "code",
   "execution_count": null,
   "id": "8ae55d7c",
   "metadata": {},
   "outputs": [],
   "source": [
    "square(-7)"
   ]
  },
  {
   "cell_type": "markdown",
   "id": "61009906",
   "metadata": {},
   "source": [
    "#### Side effects\n",
    "If a function changes the variables passed into it, then it is said to have side effects"
   ]
  },
  {
   "cell_type": "code",
   "execution_count": null,
   "id": "e7170086",
   "metadata": {},
   "outputs": [],
   "source": [
    "def silly_sum(lst):\n",
    "    lst.append(0)\n",
    "    return sum(lst)"
   ]
  },
  {
   "cell_type": "code",
   "execution_count": null,
   "id": "c9a6a2ca",
   "metadata": {},
   "outputs": [],
   "source": [
    "silly_sum([1,2,3,4])"
   ]
  },
  {
   "cell_type": "code",
   "execution_count": null,
   "id": "8ef2e618",
   "metadata": {},
   "outputs": [],
   "source": [
    "#Looks good, like it sums the numbers? But wait...\n",
    "lst = [1,2,3,4]\n",
    "silly_sum(lst)\n",
    "\n",
    "lst"
   ]
  },
  {
   "cell_type": "markdown",
   "id": "77765fac",
   "metadata": {},
   "source": [
    "If you function has side effects like this, you must mention it in the documentation (later today).\n",
    "\n",
    "More on how this works in Wednesday's class."
   ]
  },
  {
   "cell_type": "markdown",
   "id": "d0c2e834",
   "metadata": {},
   "source": [
    "#### Null return type\n",
    "If you do not specify a return value, the function returns <span style=\"color:green\">NONE</span> when it terminates:"
   ]
  },
  {
   "cell_type": "code",
   "execution_count": 1,
   "id": "d9ca83ce",
   "metadata": {},
   "outputs": [],
   "source": [
    "def f(x):\n",
    "    x + 1 # no return!\n",
    "    if x == 999:\n",
    "        return"
   ]
  },
  {
   "cell_type": "code",
   "execution_count": 3,
   "id": "82cc48af",
   "metadata": {
    "scrolled": true
   },
   "outputs": [
    {
     "name": "stdout",
     "output_type": "stream",
     "text": [
      "None\n"
     ]
    }
   ],
   "source": [
    "print(f(1))"
   ]
  },
  {
   "cell_type": "markdown",
   "id": "6c61a545",
   "metadata": {},
   "source": [
    "### DRY principle, designing good functions\n",
    "\n",
    "- DRY: Don't Repeat Yourself\n",
    "- See [Wikipedia article](https://en.wikipedia.org/wiki/Don%27t_repeat_yourself)\n"
   ]
  },
  {
   "cell_type": "code",
   "execution_count": 19,
   "id": "8a82a8a4",
   "metadata": {},
   "outputs": [],
   "source": [
    "# Exercise: Turning each element of the following list into a palindrome\n",
    "names = ['mila', 'xia', 'joshua']"
   ]
  },
  {
   "cell_type": "code",
   "execution_count": 17,
   "id": "120803e2",
   "metadata": {},
   "outputs": [
    {
     "data": {
      "text/plain": [
       "'olleh'"
      ]
     },
     "execution_count": 17,
     "metadata": {},
     "output_type": "execute_result"
    }
   ],
   "source": [
    "## HINT!!\n",
    "name = \"hello\"\n",
    "name[::-1] # This is how we can reverse a list in python"
   ]
  },
  {
   "cell_type": "code",
   "execution_count": 20,
   "id": "d8c1eafb",
   "metadata": {},
   "outputs": [
    {
     "data": {
      "text/plain": [
       "['milaalim', 'xiaaix', 'joshuaauhsoj']"
      ]
     },
     "execution_count": 20,
     "metadata": {},
     "output_type": "execute_result"
    }
   ],
   "source": [
    "names_backwards = list()\n",
    "\n",
    "names_backwards.append(names[0]+names[0][::-1])\n",
    "names_backwards.append(names[1]+names[1][::-1])\n",
    "names_backwards.append(names[2]+names[2][::-1])\n",
    "names_backwards\n"
   ]
  },
  {
   "cell_type": "markdown",
   "id": "e3a2eac0",
   "metadata": {},
   "source": [
    "Remember: Just because your code works does not mean it is good.\n",
    "The above code is terrible and has many problems: \n",
    "- Problem 1: It only works for a list with 3 elements\n",
    "- Problem 2: It only works for a list named names\n",
    "- Problem 3: If we want to change its functionality, we need to change 3 similar lines of code (Don't Repeat Yourself!!)\n",
    "- Problem 4: It is hard to understand what it does just by looking at it"
   ]
  },
  {
   "cell_type": "code",
   "execution_count": null,
   "id": "be7a0492",
   "metadata": {},
   "outputs": [],
   "source": [
    "# We can solve problems (1) and (3)\n",
    "names_backwards = list()\n",
    "\n",
    "for name in names:\n",
    "    names_backwards.append(name + name[::-1])\n",
    "    \n",
    "names_backwards"
   ]
  },
  {
   "cell_type": "code",
   "execution_count": null,
   "id": "22dda8c5",
   "metadata": {},
   "outputs": [],
   "source": [
    "# We can solve problems (1), (2), and (3)\n",
    "\n",
    "def make_palindromes(names):\n",
    "    names_backwards = list()\n",
    "    \n",
    "    for name in names:\n",
    "        names_backwards.append(name + name[::-1])\n",
    "    \n",
    "    return names_backwards\n",
    "\n",
    "make_palindromes(names)"
   ]
  },
  {
   "cell_type": "code",
   "execution_count": null,
   "id": "4177d20f",
   "metadata": {},
   "outputs": [],
   "source": [
    "names2 = [\"Trudeau\", \"Scheer\", \"Singh\", \"Blanchet\", \"May\"]\n",
    "names3 = [\"apple\", \"orange\", \"banana\"]"
   ]
  },
  {
   "cell_type": "code",
   "execution_count": null,
   "id": "0cfc3fc4",
   "metadata": {},
   "outputs": [],
   "source": [
    "make_palindromes(names2)"
   ]
  },
  {
   "cell_type": "code",
   "execution_count": null,
   "id": "cb98b414",
   "metadata": {},
   "outputs": [],
   "source": [
    "make_palindromes(names3)"
   ]
  },
  {
   "cell_type": "markdown",
   "id": "deab4f83",
   "metadata": {},
   "source": [
    "- You could get even more fancy, and put the lists of names into a list (so you have a list of lists).\n",
    "\n",
    "- Then you could loop over the list and call the function each time:"
   ]
  },
  {
   "cell_type": "code",
   "execution_count": null,
   "id": "687995f2",
   "metadata": {},
   "outputs": [],
   "source": [
    "for list_of_names in [names, names2, names3]:\n",
    "    print(make_palindromes(list_of_names))"
   ]
  },
  {
   "cell_type": "markdown",
   "id": "add4f173",
   "metadata": {},
   "source": [
    "#### Designing good functions\n",
    "\n",
    "- How far you go with this is sort of a matter of personal style, and how you choose to apply the DRY principle: DON'T REPEAT YOURSELF!\n",
    "- These decisions are often ambiguous. For example:\n",
    "    - Should make_palindromes be a function if I'm only ever doing it once? Twice?\n",
    "    - Should the loop be inside the function, or outside?\n",
    "    - Or should there be TWO functions, one that loops over the other??\n",
    "- Should we print output or produce plots inside or outside functions?\n",
    "    - I would usually say outside, because this is a \"side effect\" of sorts\n",
    "- Should the function do one thing or many things?\n",
    "    - This is a tough one, hard to answer in general\n"
   ]
  },
  {
   "cell_type": "code",
   "execution_count": null,
   "id": "5b46bec1",
   "metadata": {},
   "outputs": [],
   "source": [
    "def make_palindrome(name):\n",
    "    return name + name[::-1]\n",
    "\n",
    "make_palindrome(\"milad\")\n"
   ]
  },
  {
   "cell_type": "markdown",
   "id": "f27b6751",
   "metadata": {},
   "source": [
    "- From here, we want to \"apply make_palindrome to every element of a list\"\n",
    "- It turns out this is an extremely common desire, so Python has built-in functions.\n",
    "- One of these is map, which we'll cover later. But for now, just a comprehension will do:"
   ]
  },
  {
   "cell_type": "code",
   "execution_count": null,
   "id": "57952aa5",
   "metadata": {},
   "outputs": [],
   "source": [
    "[make_palindrome(name) for name in names]"
   ]
  },
  {
   "cell_type": "markdown",
   "id": "6fcf5961",
   "metadata": {},
   "source": [
    "### Exercise 1\n"
   ]
  },
  {
   "cell_type": "markdown",
   "id": "12aa22d1",
   "metadata": {},
   "source": [
    "### Optional & keyword arguments\n",
    "\n",
    "- Sometimes it is convenient to have default values for some arguments in a function.\n",
    "- Because they have default values, these arguments are optional, hence \"optional arguments\"\n"
   ]
  },
  {
   "cell_type": "code",
   "execution_count": 24,
   "id": "863e2499",
   "metadata": {},
   "outputs": [],
   "source": [
    "def repeat_string(s, n=2):\n",
    "    return s*n"
   ]
  },
  {
   "cell_type": "code",
   "execution_count": null,
   "id": "3c154e86",
   "metadata": {},
   "outputs": [],
   "source": [
    "repeat_string(\"mds\", 2)"
   ]
  },
  {
   "cell_type": "code",
   "execution_count": null,
   "id": "0ae200d7",
   "metadata": {},
   "outputs": [],
   "source": [
    "repeat_string(\"mds\", 5)"
   ]
  },
  {
   "cell_type": "code",
   "execution_count": 25,
   "id": "4bf68dc6",
   "metadata": {},
   "outputs": [
    {
     "data": {
      "text/plain": [
       "'mdsmds'"
      ]
     },
     "execution_count": 25,
     "metadata": {},
     "output_type": "execute_result"
    }
   ],
   "source": [
    "repeat_string(\"mds\") # do not specify `n`; it is optional\n"
   ]
  },
  {
   "cell_type": "markdown",
   "id": "5546028b",
   "metadata": {},
   "source": [
    "**Syntax**:\n",
    "\n",
    "- You can have any number of arguments and any number of optional arguments\n",
    "- All the optional arguments must come after the regular arguments\n",
    "- The regular arguments are mapped by the order they appear\n",
    "- The optional arguments can be specified out of order"
   ]
  },
  {
   "cell_type": "code",
   "execution_count": 27,
   "id": "8ae0efd0",
   "metadata": {},
   "outputs": [
    {
     "name": "stdout",
     "output_type": "stream",
     "text": [
      "1.0 2 3 4\n"
     ]
    }
   ],
   "source": [
    "def example(a, b, c=\"DEFAULT\", d=\"DEFAULT\"):\n",
    "    print(a,b,c,d)\n",
    "    \n",
    "example(1.0,2,3,4)"
   ]
  },
  {
   "cell_type": "code",
   "execution_count": null,
   "id": "cc35eb70",
   "metadata": {},
   "outputs": [],
   "source": [
    "example(1,2) #Using the defaults for c and d"
   ]
  },
  {
   "cell_type": "code",
   "execution_count": 27,
   "id": "bfb5ec44",
   "metadata": {},
   "outputs": [
    {
     "name": "stdout",
     "output_type": "stream",
     "text": [
      "1 2 DEFAULT 3\n"
     ]
    }
   ],
   "source": [
    "example(1,2,d=3) #Specifying only one of the optional arguments, by keyword:\n"
   ]
  },
  {
   "cell_type": "code",
   "execution_count": 28,
   "id": "912414e9",
   "metadata": {},
   "outputs": [
    {
     "name": "stdout",
     "output_type": "stream",
     "text": [
      "1 2 3 4\n"
     ]
    }
   ],
   "source": [
    "#Specifying all the arguments as keyword arguments, \n",
    "#even though only c and d are optional\n",
    "example(a=1,b=2,c=3,d=4) "
   ]
  },
  {
   "cell_type": "markdown",
   "id": "71a4ca81",
   "metadata": {},
   "source": [
    "- The positional arguments are the one that does not have any keyword in front of them.\n",
    "- The Keyword arguments are the one that has a keyword in front of them.\n",
    "- The positional and keyword arguments must appear in a specific order; otherwise, the Python interpreter will throw a Syntax error.\n"
   ]
  },
  {
   "cell_type": "code",
   "execution_count": 34,
   "id": "39617830",
   "metadata": {},
   "outputs": [
    {
     "ename": "SyntaxError",
     "evalue": "positional argument follows keyword argument (119059233.py, line 2)",
     "output_type": "error",
     "traceback": [
      "\u001b[0;36m  Cell \u001b[0;32mIn[34], line 2\u001b[0;36m\u001b[0m\n\u001b[0;31m    example(a=1,2,c=3,d=4)\u001b[0m\n\u001b[0m                         ^\u001b[0m\n\u001b[0;31mSyntaxError\u001b[0m\u001b[0;31m:\u001b[0m positional argument follows keyword argument\n"
     ]
    }
   ],
   "source": [
    "#Specifying keyword arguments before non-keyword arguments\n",
    "example(a=1,2,c=3,d=4)"
   ]
  },
  {
   "cell_type": "markdown",
   "id": "82007888",
   "metadata": {},
   "source": [
    "#### Advanced stuff:\n",
    "- You can also call/define functions with *args and \\**kwargs; see, e.g. [here](https://realpython.com/python-kwargs-and-args/)\n",
    "- Do not instantiate objects in the function definition. See [here](https://docs.python-guide.org/writing/gotchas/) under \"Mutable Default Arguments\""
   ]
  },
  {
   "cell_type": "code",
   "execution_count": null,
   "id": "6683b3c9",
   "metadata": {},
   "outputs": [],
   "source": [
    "def example(a, b=[]): # don't do this!\n",
    "    b.append(a)\n",
    "    return b"
   ]
  },
  {
   "cell_type": "code",
   "execution_count": 44,
   "id": "7aab5619",
   "metadata": {},
   "outputs": [
    {
     "name": "stdout",
     "output_type": "stream",
     "text": [
      "<class 'dict'>\n",
      "RealPythonIsGreat!\n"
     ]
    }
   ],
   "source": [
    "example(1)"
   ]
  },
  {
   "cell_type": "code",
   "execution_count": null,
   "id": "def2b7e0",
   "metadata": {},
   "outputs": [],
   "source": [
    "def example(a, b=None): # insted, do this\n",
    "    if b is None:\n",
    "        b = []\n",
    "    return a"
   ]
  },
  {
   "cell_type": "markdown",
   "id": "470e9605",
   "metadata": {},
   "source": [
    "### Docstrings \n",
    "- We got pretty far above, but we never solved problem (4): It is hard to understand what it does just by looking at it\n",
    "- Enter the idea of function documentation (and in particular docstrings)\n",
    "- The [docstring](https://peps.python.org/pep-0257/) goes right after the def line."
   ]
  },
  {
   "cell_type": "code",
   "execution_count": null,
   "id": "a1281880",
   "metadata": {},
   "outputs": [],
   "source": [
    "def make_palindrome(string):\n",
    "    \"\"\"Turns the string into a palindrome by concatenating itself with a reversed version of itself.\"\"\"\n",
    "    \n",
    "    return string + string[::-1]"
   ]
  },
  {
   "cell_type": "markdown",
   "id": "0c7984f9",
   "metadata": {},
   "source": [
    "In IPython/Jupyter, we can use ? to view the documentation string of any function in our environment."
   ]
  },
  {
   "cell_type": "code",
   "execution_count": null,
   "id": "5df84c6a",
   "metadata": {},
   "outputs": [],
   "source": [
    "make_palindrome?"
   ]
  },
  {
   "cell_type": "code",
   "execution_count": null,
   "id": "198e784a",
   "metadata": {},
   "outputs": [],
   "source": [
    "print?"
   ]
  },
  {
   "cell_type": "markdown",
   "id": "2d2f7270",
   "metadata": {},
   "source": [
    "#### Docstring structure\n",
    "\n",
    "- Single-line: If it's short, then just a single line describing the function will do (as above).\n",
    "- PEP-8 style Multi-line description + a list of arguments; see [here](https://www.python.org/dev/peps/pep-0257/).\n",
    "- Scipy style: The most elaborate & informative; see [here](https://numpydoc.readthedocs.io/en/latest/format.html) and [here](https://sphinxcontrib-napoleon.readthedocs.io/en/latest/example_numpy.html)."
   ]
  },
  {
   "cell_type": "code",
   "execution_count": null,
   "id": "2be2907a",
   "metadata": {},
   "outputs": [],
   "source": [
    "#The PEP-8 style is a particular guideline for style python code\n",
    "def make_palindrome(string):\n",
    "    \"\"\"\n",
    "    Turns the string into a palindrome by concatenating itself \n",
    "    with a reversed version of itself.\n",
    "    \n",
    "    Arguments:\n",
    "    string - (str) the string to turn into a palindrome\n",
    "    \"\"\"\n",
    "    return string + string[::-1]"
   ]
  },
  {
   "cell_type": "code",
   "execution_count": null,
   "id": "d8adae56",
   "metadata": {},
   "outputs": [],
   "source": [
    "make_palindrome?\n"
   ]
  },
  {
   "cell_type": "code",
   "execution_count": null,
   "id": "824733f0",
   "metadata": {},
   "outputs": [],
   "source": [
    "# The scipy style:\n",
    "def make_palindrome(string):\n",
    "    \"\"\"\n",
    "    Turn a string into a palindrome.\n",
    "    \n",
    "    Turns the string into a palindrome by concatenating itself \n",
    "    with a reversed version of itself, so that the returned\n",
    "    string is twice as long as the original.\n",
    "    \n",
    "    Parameters\n",
    "    ----------\n",
    "    string : str\n",
    "        The string to turn into a palindrome.\n",
    "        \n",
    "    Returns\n",
    "    -------\n",
    "    str\n",
    "        The new palindrome string. \n",
    "        \n",
    "    Examples\n",
    "    --------\n",
    "    >>> make_palindrome(\"abc\")\n",
    "    \"abccba\"\n",
    "    \"\"\"\n",
    "    return string + string[::-1]"
   ]
  },
  {
   "cell_type": "code",
   "execution_count": null,
   "id": "f0d42369",
   "metadata": {},
   "outputs": [],
   "source": [
    "make_palindrome?\n"
   ]
  },
  {
   "cell_type": "markdown",
   "id": "f979faa2",
   "metadata": {},
   "source": [
    "#### Docstrings in your labs\n",
    "\n",
    "In MDS we will accept:\n",
    "\n",
    "- One-line docstrings for very simple functions.\n",
    "- Either the PEP-8 or scipy style for bigger functions.\n",
    "- But we think the scipy style is more common in the wild so you may want to get into the habit of using it."
   ]
  },
  {
   "cell_type": "markdown",
   "id": "584105da",
   "metadata": {},
   "source": [
    "#### Docstrings with optional arguments\n",
    "\n",
    "When specifying the parameters, we specify the defaults for optional arguments:"
   ]
  },
  {
   "cell_type": "code",
   "execution_count": null,
   "id": "7f236b80",
   "metadata": {},
   "outputs": [],
   "source": [
    "# PEP-8 style\n",
    "def repeat_string(s, n=2):\n",
    "    \"\"\"\n",
    "    Repeat the string s, n times.\n",
    "    \n",
    "    Arguments:\n",
    "    s -- (str) the string\n",
    "    n -- (int) the number of times (default 2)\n",
    "    \"\"\"\n",
    "    return s*n"
   ]
  },
  {
   "cell_type": "code",
   "execution_count": null,
   "id": "4aa1d67e",
   "metadata": {},
   "outputs": [],
   "source": [
    "# scipy style\n",
    "def repeat_string(s, n=2):\n",
    "    \"\"\"\n",
    "    Repeat the string s, n times.\n",
    "    \n",
    "    Parameters\n",
    "    ----------\n",
    "    s : str \n",
    "        the string\n",
    "    n : int, optional (default = 2)\n",
    "        the number of times\n",
    "        \n",
    "    Returns\n",
    "    -------\n",
    "    str\n",
    "        the repeated string\n",
    "        \n",
    "    Examples\n",
    "    --------\n",
    "    >>> repeat_string(\"Blah\", 3)\n",
    "    \"BlahBlahBlah\"\n",
    "    \"\"\"\n",
    "    return s*n"
   ]
  },
  {
   "cell_type": "markdown",
   "id": "c6fff88f",
   "metadata": {},
   "source": [
    "#### Automatically generated documentation\n",
    "\n",
    "- By following the docstring conventions, we can automatically generate documentation using libraries like [sphinx](http://www.sphinx-doc.org/en/master/), [pydoc](https://docs.python.org/3.7/library/pydoc.html) or [Doxygen](http://www.doxygen.nl/).\n",
    "    - For example: compare this [documentation](https://scikit-learn.org/stable/modules/generated/sklearn.neighbors.KNeighborsClassifier.html) with this [code](https://github.com/scikit-learn/scikit-learn/blob/1495f6924/sklearn/neighbors/classification.py#L23).\n",
    "    - Notice the similarities? The webpage was automatically generated because the authors used standard conventions for docstrings!\n",
    "\n",
    "#### What makes good documentation?\n",
    "\n",
    "What do you think about this?"
   ]
  },
  {
   "cell_type": "code",
   "execution_count": null,
   "id": "2cc1c8dd",
   "metadata": {},
   "outputs": [],
   "source": [
    "################################\n",
    "#\n",
    "# NOT RECOMMENDED TO DO THIS!!!\n",
    "#\n",
    "################################\n",
    "\n",
    "def make_palindrome(string):\n",
    "    \"\"\"\n",
    "    Turns the string into a palindrome by concatenating itself \n",
    "    with a reversed version of itself. To do this, it uses the\n",
    "    Python syntax of `[::-1]` to flip the string, and stores\n",
    "    this in a variable called string_reversed. It then uses `+`\n",
    "    to concatenate the two strings and return them to the caller.\n",
    "    \n",
    "    Arguments:\n",
    "    string - (str) the string to turn into a palindrome\n",
    "    \n",
    "    Other variables:\n",
    "    string_reversed - (str) the reversed string\n",
    "    \"\"\"\n",
    "    \n",
    "    string_reversed = string[::-1]\n",
    "    return string + string_reversed"
   ]
  },
  {
   "cell_type": "markdown",
   "id": "718bae38",
   "metadata": {},
   "source": [
    "This is poor documentation! More is not necessarily better!"
   ]
  },
  {
   "cell_type": "markdown",
   "id": "1cbdefa5",
   "metadata": {},
   "source": [
    "### Unit tests, corner cases\n",
    "\n",
    "#### assert statements\n",
    "\n",
    "- assert statements cause your program to fail if the condition is False.\n",
    "- They can be used as sanity checks for your program.\n",
    "- There are more sophisticated way to \"test\" your programs.\n"
   ]
  },
  {
   "cell_type": "markdown",
   "id": "221f01a5",
   "metadata": {},
   "source": [
    "**The syntax is:**\n",
    "\n",
    "```python\n",
    "assert expression ,\"Error message if expression is False or raises an error.\"\n",
    "```"
   ]
  },
  {
   "cell_type": "code",
   "execution_count": 28,
   "id": "5e0f0ea7",
   "metadata": {},
   "outputs": [
    {
     "ename": "AssertionError",
     "evalue": "1 is not equal to 2.",
     "output_type": "error",
     "traceback": [
      "\u001b[0;31m---------------------------------------------------------------------------\u001b[0m",
      "\u001b[0;31mAssertionError\u001b[0m                            Traceback (most recent call last)",
      "Cell \u001b[0;32mIn[28], line 1\u001b[0m\n\u001b[0;32m----> 1\u001b[0m \u001b[38;5;28;01massert\u001b[39;00m \u001b[38;5;241m1\u001b[39m \u001b[38;5;241m==\u001b[39m \u001b[38;5;241m2\u001b[39m , \u001b[38;5;124m\"\u001b[39m\u001b[38;5;124m1 is not equal to 2.\u001b[39m\u001b[38;5;124m\"\u001b[39m\n",
      "\u001b[0;31mAssertionError\u001b[0m: 1 is not equal to 2."
     ]
    }
   ],
   "source": [
    "assert 1 == 2 , \"1 is not equal to 2.\""
   ]
  },
  {
   "cell_type": "markdown",
   "id": "c87e3eab",
   "metadata": {},
   "source": [
    "#### Systematic Program Design\n",
    "A systematic approach to program design is a general set of steps to follow when writing programs. Our approach includes:\n",
    "\n",
    "1. Write a stub: a function that does nothing but accept all input parameters and return the correct datatype.\n",
    "2. Write tests to satisfy the design specifications.\n",
    "3. Outline the program with pseudo-code.\n",
    "4. Write code and test frequently.\n",
    "5. Write documentation.\n",
    "\n",
    "\n",
    "The key point: write tests BEFORE you write code.\n",
    "\n",
    "- You do not have to do this in MDS, but you may find it surprisingly helpful.\n",
    "- Often writing tests helps you think through what you are trying to accomplish.\n",
    "- It's best to have that clear before you write the actual code.\n"
   ]
  },
  {
   "cell_type": "markdown",
   "id": "c9a6359a",
   "metadata": {},
   "source": [
    "#### Testing woes - false positives\n",
    "\n",
    "- **Just because all your tests pass, this does not mean your program is correct!!**\n",
    "- This happens all the time. How to deal with it?\n",
    "    - Write a lot of tests!\n",
    "    - Don't be overconfident, even after writing a lot of tests!"
   ]
  },
  {
   "cell_type": "code",
   "execution_count": null,
   "id": "2acfee1f",
   "metadata": {},
   "outputs": [],
   "source": [
    "def sample_median(x):\n",
    "    \"\"\"Finds the median of a list of numbers.\"\"\"\n",
    "    x_sorted = sorted(x)\n",
    "    #return x_sorted[len(x_sorted)//2]\n",
    "    return sum(x)/len(x)\n",
    "\n",
    "assert sample_median([1,2,3,4,5]) == 3\n",
    "assert sample_median([0,0,0,0]) == 0"
   ]
  },
  {
   "cell_type": "code",
   "execution_count": null,
   "id": "ea0e79ae",
   "metadata": {},
   "outputs": [],
   "source": [
    "assert sample_median([1,2,3,4]) == 2.5"
   ]
  },
  {
   "cell_type": "markdown",
   "id": "9131e413",
   "metadata": {},
   "source": [
    "#### Testing woes - false negatives\n",
    "\n",
    "- It can also happen, though more rarely, that your tests fail but your program is correct.\n",
    "- This means there is something wrong with your test.\n"
   ]
  },
  {
   "cell_type": "markdown",
   "id": "a00b9f7b",
   "metadata": {},
   "source": [
    "#### Corner cases\n",
    "\n",
    "- A corner case is an input that is reasonable but a bit unusual, and may trip up your code.\n",
    "- For example, taking the median of an empty list, or a list with only one element.\n",
    "- Often it is desirable to add test cases to address corner cases."
   ]
  },
  {
   "cell_type": "markdown",
   "id": "1af2f4ce",
   "metadata": {},
   "source": [
    "```python\n",
    "assert sample_median([1]) == 1\n",
    "```"
   ]
  },
  {
   "cell_type": "markdown",
   "id": "50434d65",
   "metadata": {},
   "source": [
    "- In this case the code worked with no extra effort, but sometimes we need if statements to handle the weird cases.\n",
    "- Sometimes we want the code to throw an error (e.g. median of an empty list); more on this later.\n"
   ]
  },
  {
   "cell_type": "markdown",
   "id": "2684ea8f",
   "metadata": {},
   "source": [
    "### Multiple return values\n",
    "\n",
    "- In most (all?) programming languages I’ve seen, functions can only return one thing.\n",
    "- That is technically true in Python, but there is a “workaround”, which is to return a tuple."
   ]
  },
  {
   "cell_type": "code",
   "execution_count": 30,
   "id": "90c90809",
   "metadata": {},
   "outputs": [],
   "source": [
    "# not good from a design perspective!\n",
    "def sum_and_product(x, y):\n",
    "    return [x+y, x*y]"
   ]
  },
  {
   "cell_type": "code",
   "execution_count": 31,
   "id": "e9404e4a",
   "metadata": {},
   "outputs": [
    {
     "data": {
      "text/plain": [
       "[11, 30]"
      ]
     },
     "execution_count": 31,
     "metadata": {},
     "output_type": "execute_result"
    }
   ],
   "source": [
    "sum_and_product(5,6)\n"
   ]
  },
  {
   "cell_type": "markdown",
   "id": "b208d649",
   "metadata": {},
   "source": [
    "In some cases in Python, the parentheses can be omitted:"
   ]
  },
  {
   "cell_type": "code",
   "execution_count": 49,
   "id": "e26fe3e4",
   "metadata": {},
   "outputs": [],
   "source": [
    "def sum_and_product(x, y):\n",
    "    return x+y, x*y"
   ]
  },
  {
   "cell_type": "code",
   "execution_count": 50,
   "id": "cb7c2562",
   "metadata": {},
   "outputs": [
    {
     "data": {
      "text/plain": [
       "(11, 30)"
      ]
     },
     "execution_count": 50,
     "metadata": {},
     "output_type": "execute_result"
    }
   ],
   "source": [
    "sum_and_product(5,6)"
   ]
  },
  {
   "cell_type": "markdown",
   "id": "174349d4",
   "metadata": {},
   "source": [
    "It is common to store these in separate variables, so it really feels like the function is returning multiple values:"
   ]
  },
  {
   "cell_type": "code",
   "execution_count": 52,
   "id": "31104de7",
   "metadata": {},
   "outputs": [
    {
     "data": {
      "text/plain": [
       "11"
      ]
     },
     "execution_count": 52,
     "metadata": {},
     "output_type": "execute_result"
    }
   ],
   "source": [
    "s, p = sum_and_product(5, 6)\n",
    "s"
   ]
  },
  {
   "cell_type": "code",
   "execution_count": null,
   "id": "49782ffd",
   "metadata": {},
   "outputs": [],
   "source": [
    "p"
   ]
  },
  {
   "cell_type": "markdown",
   "id": "81aa4094",
   "metadata": {},
   "source": [
    "- Question: is this good function design.\n",
    "- Answer: usually not, but sometimes.\n",
    "- You will encounter this in some Python packages."
   ]
  },
  {
   "cell_type": "markdown",
   "id": "e520d0c4",
   "metadata": {},
   "source": [
    "Advanced / optional: you can ignore return values you don’t need with _:\n"
   ]
  },
  {
   "cell_type": "code",
   "execution_count": null,
   "id": "3f0202ad",
   "metadata": {},
   "outputs": [],
   "source": [
    "_, s = sum_and_product(5, 6)\n",
    "s"
   ]
  }
 ],
 "metadata": {
  "kernelspec": {
   "display_name": "Python 3 (ipykernel)",
   "language": "python",
   "name": "python3"
  },
  "language_info": {
   "codemirror_mode": {
    "name": "ipython",
    "version": 3
   },
   "file_extension": ".py",
   "mimetype": "text/x-python",
   "name": "python",
   "nbconvert_exporter": "python",
   "pygments_lexer": "ipython3",
   "version": "3.10.12"
  },
  "vscode": {
   "interpreter": {
    "hash": "31f2aee4e71d21fbe5cf8b01ff0e069b9275f58929596ceb00d14d90e3e16cd6"
   }
  }
 },
 "nbformat": 4,
 "nbformat_minor": 5
}
