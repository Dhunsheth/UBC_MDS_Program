{
 "cells": [
  {
   "cell_type": "markdown",
   "id": "8e154d41",
   "metadata": {},
   "source": [
    "# Lecture 1: INTRO TO PYTHON"
   ]
  },
  {
   "cell_type": "markdown",
   "id": "23461b26",
   "metadata": {},
   "source": [
    "## Attribution\n",
    "- This lecture has been adapted from:\n",
    "    - The Python lectures delivered by [Mike Gelbart](https://personal.math.ubc.ca/~pwalls/) and are available publicly [here](https://www.youtube.com/watch?v=yBAYduexjuA).\n"
   ]
  },
  {
   "cell_type": "markdown",
   "id": "ca3f7c1a",
   "metadata": {},
   "source": [
    "## About Lecture 1"
   ]
  },
  {
   "cell_type": "markdown",
   "id": "85dfb720",
   "metadata": {},
   "source": [
    "This course <strong>does not</strong> start from \"no programming knowledge\".\n",
    "- You <strong>should know</strong> what an <code>if statement</code> is.\n",
    "- You <strong>should know</strong> what a <code>for loop</code> is.\n",
    "- You <strong>should know</strong> what a <code>function</code> is.\n",
    "\n",
    "However, not all of you have used <em>Python/R</em>. So, this course is about <em>Python-specific</em> and <em>R-specific</em> syntax/knowledge. We will cover things like loops, but <strong>just the syntax, not the concept</strong> of a loop.\n"
   ]
  },
  {
   "cell_type": "markdown",
   "id": "dba4cc9e",
   "metadata": {},
   "source": [
    "### Lecture 1 Outline:\n",
    "\n",
    "- **Why Python** \n",
    "- **Comments in Python** \n",
    "- **Basic datatypes** \n",
    "- **Lists and tuples**\n",
    "- **String methods**\n",
    "- <span style=\"color:red\">Class Exercise 1</span>\n",
    "- **Dictionaries** \n",
    "- **Conditionals** \n",
    "- <span style=\"color:red\">Class Exercise 2</span>\n"
   ]
  },
  {
   "cell_type": "markdown",
   "id": "08a590ae",
   "metadata": {},
   "source": [
    "### Why Python for the MDS program?\n",
    "- Python is extremely popular in DS (and beyond!)\n",
    "- Python is relatively easy to learn\n",
    "- Python has good documentation and huge user community \n",
    "- There are lots of Stack Overflow and other forums to search for questions\n",
    "- There are lots of useful packages you can use\n"
   ]
  },
  {
   "cell_type": "markdown",
   "id": "9e307db2",
   "metadata": {},
   "source": [
    "### Comments in Python"
   ]
  },
  {
   "cell_type": "code",
   "execution_count": 1,
   "id": "936ce44e",
   "metadata": {},
   "outputs": [
    {
     "name": "stdout",
     "output_type": "stream",
     "text": [
      "Learning how to use comments in Python\n"
     ]
    }
   ],
   "source": [
    "# Use \"#\" to comment in Python code\n",
    "# This is a comment. The computer just ignore this comment.\n",
    "\n",
    "\"\"\" \n",
    "this is a multiline comment. Indeed, it is a string (we will see it later) \n",
    "but does nothing and can be used as a comment.\n",
    "\"\"\"\n",
    "\n",
    "print('Learning how to use comments in Python')\n"
   ]
  },
  {
   "cell_type": "markdown",
   "id": "132a98c5",
   "metadata": {},
   "source": [
    "### Basic datatypes"
   ]
  },
  {
   "cell_type": "markdown",
   "id": "da77a300",
   "metadata": {},
   "source": [
    "\n",
    "- A **value** is a piece of data that a computer program works with such as a number or text.\n",
    "- There are different types of values: <span style=\"color:green\">42</span> is an integer and <span style=\"color:green\">\"Hello!\"</span> is a string.\n",
    "- A **variable** is a name that refers to a value.\n",
    "    - In mathematics and statistics, we usually use variables names like <code>x</code> and <code>y</code>.\n",
    "    - In Python, we can use any word as a variable name (as long as it starts with a letter and is not a reserved word in Python such as <code>for, while, class, lambda</code>, etc.).\n",
    "- And we use the **assignment operator** <span style=\"color:green\">=</span> to assign a value to a variable.\n",
    "\n",
    "See the [Python 3 documentation](https://docs.python.org/3/library/stdtypes.html) for a summary of the standard built-in Python datatypes. See [Think Python (Chapter 2)](https://greenteapress.com/thinkpython/html/thinkpython003.html) for a discussion of variables, expressions and statements in Python.\n"
   ]
  },
  {
   "cell_type": "markdown",
   "id": "ef036071",
   "metadata": {},
   "source": [
    "#### Common built-in Python data types\n",
    "\n",
    "| <span style=\"color:lightBlue\">English name</span>  | <span style=\"color:lightBlue\">Type name</span>  | <span style=\"color:lightBlue\">Description</span>   | <span style=\"color:lightBlue\">Example</span>  |\n",
    "| :---         | :---:     | :---:                           | ---:    |\n",
    "|integer       |**int**        |positive/negative whole numbers   |<span style=\"color:green\">42</span>       |\n",
    "|floating point number|**float** |real number in decimal form     |<span style=\"color:green\">3.14159</span>|\n",
    "|boolean       |**bool**        |true or false                    |<span style=\"color:green\">True</span>|\n",
    "|string        |**str**         |text                             |<span style=\"color:green\">\"I Can Has Cheezburger?\"</span>|\n",
    "|list          |**list**        |a collection of objects - mutable & ordered |<span style=\"color:green\">['Ali','Xinyi','Miriam']</span>|\n",
    "|tuple         |**tuple**       |a collection of objects - immutable & ordered|<span style=\"color:green\">('Thursday',6,9,2018)</span>|\n",
    "|dictionary    |**dict**       |mapping of key-value pairs       |<span style=\"color:green\">{'name':'DSCI','code':511,'credits':2}</span>|\n",
    "|none          |**NoneType**    |represents no value              |<span style=\"color:green\">None</span>|\n",
    "\n"
   ]
  },
  {
   "cell_type": "markdown",
   "id": "77437a2b",
   "metadata": {},
   "source": [
    "#### Numeric Types"
   ]
  },
  {
   "cell_type": "code",
   "execution_count": 1,
   "id": "c120532a",
   "metadata": {},
   "outputs": [],
   "source": [
    "# Integers \n",
    "x = 42"
   ]
  },
  {
   "cell_type": "code",
   "execution_count": 2,
   "id": "70fd4058",
   "metadata": {},
   "outputs": [
    {
     "data": {
      "text/plain": [
       "int"
      ]
     },
     "execution_count": 2,
     "metadata": {},
     "output_type": "execute_result"
    }
   ],
   "source": [
    "# If you are not sure what type, the interpreter will tell you.\n",
    "type(x)"
   ]
  },
  {
   "cell_type": "code",
   "execution_count": null,
   "id": "3a05d73a",
   "metadata": {},
   "outputs": [],
   "source": [
    "# You can get print the value of the variable with print:\n",
    "print(x)"
   ]
  },
  {
   "cell_type": "code",
   "execution_count": null,
   "id": "6ee2f585",
   "metadata": {},
   "outputs": [],
   "source": [
    "# You can get print the value of the variable by writting the variable name: \n",
    "# This will not work in a python script !!\n",
    "x"
   ]
  },
  {
   "cell_type": "code",
   "execution_count": 3,
   "id": "0fa4b50e",
   "metadata": {},
   "outputs": [
    {
     "data": {
      "text/plain": [
       "3.4159"
      ]
     },
     "execution_count": 3,
     "metadata": {},
     "output_type": "execute_result"
    }
   ],
   "source": [
    "# Floats\n",
    "pi = 3.4159\n",
    "pi"
   ]
  },
  {
   "cell_type": "code",
   "execution_count": 4,
   "id": "f933a267",
   "metadata": {},
   "outputs": [
    {
     "data": {
      "text/plain": [
       "float"
      ]
     },
     "execution_count": 4,
     "metadata": {},
     "output_type": "execute_result"
    }
   ],
   "source": [
    "type(pi)"
   ]
  },
  {
   "cell_type": "code",
   "execution_count": null,
   "id": "78a5de2b",
   "metadata": {},
   "outputs": [],
   "source": [
    "λ = 4  #\\lambda\n",
    "σ = 15 #\\sigma"
   ]
  },
  {
   "cell_type": "code",
   "execution_count": null,
   "id": "deda54fd",
   "metadata": {},
   "outputs": [],
   "source": [
    "χ = 4 # this is \\chi not x\n",
    "ϰ = 12 # this is \\varkappa not x"
   ]
  },
  {
   "cell_type": "markdown",
   "id": "586e61c3",
   "metadata": {},
   "source": [
    "#### Arithmetic Operators"
   ]
  },
  {
   "cell_type": "code",
   "execution_count": null,
   "id": "0491acc8",
   "metadata": {},
   "outputs": [],
   "source": [
    "# addition (+)\n",
    "1 + 2 + 3 + 4 + 5"
   ]
  },
  {
   "cell_type": "code",
   "execution_count": null,
   "id": "41bbdfbb",
   "metadata": {},
   "outputs": [],
   "source": [
    "# .1 cannot be represented exactly in a binary floating point representation\n",
    "# There's already a small round-off error in .1\n",
    "0.1 + 0.2\n"
   ]
  },
  {
   "cell_type": "code",
   "execution_count": null,
   "id": "d0fc736d",
   "metadata": {},
   "outputs": [],
   "source": [
    "# subtraction (-)\n",
    "5 - 3"
   ]
  },
  {
   "cell_type": "code",
   "execution_count": null,
   "id": "52ffe699",
   "metadata": {},
   "outputs": [],
   "source": [
    ".5 - .2"
   ]
  },
  {
   "cell_type": "code",
   "execution_count": null,
   "id": "322bdbb1",
   "metadata": {},
   "outputs": [],
   "source": [
    "# multiplication (*)\n",
    "5*3"
   ]
  },
  {
   "cell_type": "code",
   "execution_count": null,
   "id": "ec7e1dd7",
   "metadata": {},
   "outputs": [],
   "source": [
    ".5*2."
   ]
  },
  {
   "cell_type": "code",
   "execution_count": null,
   "id": "056e9447",
   "metadata": {},
   "outputs": [],
   "source": [
    "# division (/) \n",
    "101/ 2 "
   ]
  },
  {
   "cell_type": "code",
   "execution_count": null,
   "id": "4dab537d",
   "metadata": {},
   "outputs": [],
   "source": [
    "#exponentiation (**)\n",
    "4**2"
   ]
  },
  {
   "cell_type": "code",
   "execution_count": 5,
   "id": "17dfa7a4",
   "metadata": {},
   "outputs": [
    {
     "data": {
      "text/plain": [
       "50"
      ]
     },
     "execution_count": 5,
     "metadata": {},
     "output_type": "execute_result"
    }
   ],
   "source": [
    "# integer division (//)  -- always rounds down\n",
    "101 // 2 "
   ]
  },
  {
   "cell_type": "code",
   "execution_count": null,
   "id": "5b1273e6",
   "metadata": {},
   "outputs": [],
   "source": [
    "# modulo (%) -- \"101 mod 2\", or the remainder when 101 is divided by 2\n",
    "101%2"
   ]
  },
  {
   "cell_type": "markdown",
   "id": "4f6f8e14",
   "metadata": {},
   "source": [
    "##### NoneType\n",
    "\n",
    "- **NoneType** is its own type in *Python*.\n",
    "- It only has one possible value, <span style=\"color:green\">None</span>\n",
    "- It is used to define a <span style=\"color:green\">null</span> variable or an objec\n",
    "\n",
    "\n",
    "In *Python*, <span style=\"color:green\">None</span> keyword is an object, and it is a data type of the class **NoneType**. We can assign <span style=\"color:green\">None</span> to any variable, but you can not create other **NoneType** objects"
   ]
  },
  {
   "cell_type": "code",
   "execution_count": null,
   "id": "2907efff",
   "metadata": {},
   "outputs": [],
   "source": [
    "x = None\n",
    "x"
   ]
  },
  {
   "cell_type": "code",
   "execution_count": null,
   "id": "0631aa76",
   "metadata": {},
   "outputs": [],
   "source": [
    "print(x)"
   ]
  },
  {
   "cell_type": "code",
   "execution_count": null,
   "id": "29d20dbf",
   "metadata": {},
   "outputs": [],
   "source": [
    "type(x)"
   ]
  },
  {
   "cell_type": "markdown",
   "id": "d766c744",
   "metadata": {},
   "source": [
    "#### Interesting Facts\n",
    "- <span style=\"color:green\">None</span> is not the same as <span style=\"color:green\">False</span>.\n",
    "- <span style=\"color:green\">None</span> is not <span style=\"color:green\">0</span>.\n",
    "- <span style=\"color:green\">None</span> is not an empty string.\n",
    "- Comparing <span style=\"color:green\">None</span> to anything will always return <span style=\"color:green\">False</span> except <span style=\"color:green\">None</span> itself"
   ]
  },
  {
   "cell_type": "code",
   "execution_count": 2,
   "id": "4a8ebd7f",
   "metadata": {},
   "outputs": [
    {
     "name": "stdout",
     "output_type": "stream",
     "text": [
      "True\n"
     ]
    }
   ],
   "source": [
    "print(None == None )"
   ]
  },
  {
   "cell_type": "code",
   "execution_count": 3,
   "id": "faef62cb",
   "metadata": {},
   "outputs": [
    {
     "name": "stdout",
     "output_type": "stream",
     "text": [
      "False\n"
     ]
    }
   ],
   "source": [
    "print(None == False)"
   ]
  },
  {
   "cell_type": "code",
   "execution_count": 4,
   "id": "a3c02ad3",
   "metadata": {
    "scrolled": true
   },
   "outputs": [
    {
     "name": "stdout",
     "output_type": "stream",
     "text": [
      "False\n"
     ]
    }
   ],
   "source": [
    "string = \"\"\n",
    "print(None == string)"
   ]
  },
  {
   "cell_type": "markdown",
   "id": "53fd68b1",
   "metadata": {},
   "source": [
    "##### Strings\n",
    "\n",
    "- Text is stored as a type called a **string**.\n",
    "- We think of a **string** as a sequence of **characters**.\n",
    "- We write strings as characters enclosed with either:\n",
    "    - single quotes, e.g., <span style=\"color:green\">'Hello'</span>\n",
    "    - double quotes, e.g., <span style=\"color:green\">\"Goodbye\"</span>\n",
    "    - triple single quotes, e.g., <span style=\"color:green\">'''Yesterday'''</span>\n",
    "    - triple double quotes, e.g., <span style=\"color:green\">\"\"\"Tomorrow\"\"\"</span>"
   ]
  },
  {
   "cell_type": "code",
   "execution_count": null,
   "id": "684d8749",
   "metadata": {},
   "outputs": [],
   "source": [
    "course = \"Data 531\"\n",
    "course"
   ]
  },
  {
   "cell_type": "code",
   "execution_count": null,
   "id": "6b2d434e",
   "metadata": {},
   "outputs": [],
   "source": [
    "type(course)"
   ]
  },
  {
   "cell_type": "code",
   "execution_count": null,
   "id": "64e21c44",
   "metadata": {},
   "outputs": [],
   "source": [
    "program = 'MDS'\n",
    "program"
   ]
  },
  {
   "cell_type": "markdown",
   "id": "cc06c401",
   "metadata": {},
   "source": [
    "If the string contains a quotation or apostrophe, we can use double quotes or triple quotes to define the string."
   ]
  },
  {
   "cell_type": "code",
   "execution_count": null,
   "id": "b023a12f",
   "metadata": {},
   "outputs": [],
   "source": [
    "sentence = \"It's a sunny day.\"\n",
    "sentence"
   ]
  },
  {
   "cell_type": "code",
   "execution_count": null,
   "id": "9330dac2",
   "metadata": {},
   "outputs": [],
   "source": [
    "type(sentence)"
   ]
  },
  {
   "cell_type": "code",
   "execution_count": 6,
   "id": "97c3e51c",
   "metadata": {},
   "outputs": [
    {
     "data": {
      "text/plain": [
       "'They say: \\n\"It\\'s a sunny day!'"
      ]
     },
     "execution_count": 6,
     "metadata": {},
     "output_type": "execute_result"
    }
   ],
   "source": [
    "saying = '''They say: \n",
    "\"It's a sunny day!'''\n",
    "\n",
    "saying # jupyter notebook does not give you the desire output. You should use print() here."
   ]
  },
  {
   "cell_type": "code",
   "execution_count": 7,
   "id": "9571480c",
   "metadata": {},
   "outputs": [
    {
     "name": "stdout",
     "output_type": "stream",
     "text": [
      "They say: \n",
      "\"It's a sunny day!\n"
     ]
    }
   ],
   "source": [
    "print(saying)"
   ]
  },
  {
   "cell_type": "markdown",
   "id": "5c5076d5",
   "metadata": {},
   "source": [
    "##### boolean\n",
    "\n",
    "- The **Boolean** (bool) type has two values: <span style=\"color:green\">True</span> and <span style=\"color:green\">False</span>.\n"
   ]
  },
  {
   "cell_type": "code",
   "execution_count": null,
   "id": "bf4d8102",
   "metadata": {},
   "outputs": [],
   "source": [
    "isDATA531= True\n",
    "isDATA531"
   ]
  },
  {
   "cell_type": "code",
   "execution_count": null,
   "id": "96ed03c4",
   "metadata": {},
   "outputs": [],
   "source": [
    "type(isDATA531)"
   ]
  },
  {
   "cell_type": "code",
   "execution_count": null,
   "id": "57be1d91",
   "metadata": {},
   "outputs": [],
   "source": [
    "isSnowing = False\n",
    "isSnowing"
   ]
  },
  {
   "cell_type": "code",
   "execution_count": null,
   "id": "b1b58287",
   "metadata": {},
   "outputs": [],
   "source": [
    "type(isSnowing)"
   ]
  },
  {
   "cell_type": "markdown",
   "id": "9d1c3259",
   "metadata": {},
   "source": [
    "##### Comparison operators\n",
    "\n",
    "Compare objects using comparison operators. The result is a Boolean value.\n",
    "\n",
    "|<span style=\"color:blue\">Operator</span> | <span style=\"color:blue\">Description</span> |\n",
    "| :--- | :--- |\n",
    "|<span style=\"color:green\">x == y</span>|is <span style=\"color:green\">x</span> equal to <span style=\"color:green\">y</span>?|\n",
    "|<span style=\"color:green\">x != y</span>|is <span style=\"color:green\">x</span> not equal to <span style=\"color:green\">y</span>?|\n",
    "|<span style=\"color:green\">x > y</span>|is <span style=\"color:green\">x</span> greater than <span style=\"color:green\">y</span>?|\n",
    "|<span style=\"color:green\">x >= y</span>|is <span style=\"color:green\">x</span> greater than or equal to <span style=\"color:green\">y</span>?|\n",
    "|<span style=\"color:green\">x < y</span>|is <span style=\"color:green\">x</span> less than <span style=\"color:green\">y</span>?|\n",
    "|<span style=\"color:green\">x <= y</span>|is <span style=\"color:green\">x</span> less than or equal to <span style=\"color:green\">y</span>?|\n",
    "|<span style=\"color:green\">x is y</span>|is <span style=\"color:green\">x</span> the same object as <span style=\"color:green\">y</span>?|\n",
    "|<span style=\"color:green\">x and y</span>|are <span style=\"color:green\">x</span> and <span style=\"color:green\">y</span> both true?|\n",
    "|<span style=\"color:green\">x or y</span>| is at least one of <span style=\"color:green\">x</span> and <span style=\"color:green\">y</span> true?|\n",
    "|<span style=\"color:green\">not x</span>| is <span style=\"color:green\">x</span> false? |"
   ]
  },
  {
   "cell_type": "code",
   "execution_count": null,
   "id": "857826ee",
   "metadata": {},
   "outputs": [],
   "source": [
    "# less than\n",
    "2 < 3"
   ]
  },
  {
   "cell_type": "code",
   "execution_count": null,
   "id": "5d0cc362",
   "metadata": {},
   "outputs": [],
   "source": [
    "# not equal to\n",
    "\"Data Science\" != \"Deep Learning\""
   ]
  },
  {
   "cell_type": "code",
   "execution_count": null,
   "id": "c654bf46",
   "metadata": {},
   "outputs": [],
   "source": [
    "# equal to?\n",
    "2 == 2.0"
   ]
  },
  {
   "cell_type": "code",
   "execution_count": null,
   "id": "6c748aef",
   "metadata": {},
   "outputs": [],
   "source": [
    "2 == \"2\""
   ]
  },
  {
   "cell_type": "code",
   "execution_count": null,
   "id": "1cc8b9b5",
   "metadata": {},
   "outputs": [],
   "source": [
    "isMonday= True\n",
    "isSeptember = True\n",
    "\n",
    "# Conjunction: are both variables true?\n",
    "isMonday and isSeptember"
   ]
  },
  {
   "cell_type": "code",
   "execution_count": 9,
   "id": "02b36231",
   "metadata": {},
   "outputs": [
    {
     "data": {
      "text/plain": [
       "False"
      ]
     },
     "execution_count": 9,
     "metadata": {},
     "output_type": "execute_result"
    }
   ],
   "source": [
    "isData531= True\n",
    "isTheBreak = False\n",
    "\n",
    "isData531 and isTheBreak"
   ]
  },
  {
   "cell_type": "code",
   "execution_count": 8,
   "id": "3b546ae3",
   "metadata": {},
   "outputs": [
    {
     "data": {
      "text/plain": [
       "False"
      ]
     },
     "execution_count": 8,
     "metadata": {},
     "output_type": "execute_result"
    }
   ],
   "source": [
    "isWednesday= False\n",
    "IamSleeping = False\n",
    "\n",
    "# Disjunction: at least one variable true?\n",
    "isWednesday or IamSleeping"
   ]
  },
  {
   "cell_type": "code",
   "execution_count": 10,
   "id": "03ef0995",
   "metadata": {},
   "outputs": [
    {
     "data": {
      "text/plain": [
       "True"
      ]
     },
     "execution_count": 10,
     "metadata": {},
     "output_type": "execute_result"
    }
   ],
   "source": [
    "# will return True if the expression is False\n",
    "# Negation\n",
    "not IamSleeping"
   ]
  },
  {
   "cell_type": "code",
   "execution_count": 11,
   "id": "22288ab0",
   "metadata": {},
   "outputs": [
    {
     "data": {
      "text/plain": [
       "False"
      ]
     },
     "execution_count": 11,
     "metadata": {},
     "output_type": "execute_result"
    }
   ],
   "source": [
    "not not IamSleeping"
   ]
  },
  {
   "cell_type": "markdown",
   "id": "2eec67ab",
   "metadata": {},
   "source": [
    "Note: we will discuss <code>is</code> next week."
   ]
  },
  {
   "cell_type": "markdown",
   "id": "bed2d7a3",
   "metadata": {},
   "source": [
    "##### Casting\n",
    "\n",
    "- Sometimes (but rarely) we need to explicitly **cast** a value from one **type** to another.\n",
    "- *Python* tries to do something reasonable, or throws an error if it has no ideas."
   ]
  },
  {
   "cell_type": "code",
   "execution_count": null,
   "id": "fb48fdb3",
   "metadata": {},
   "outputs": [],
   "source": [
    "integer = int(5.0)\n",
    "integer"
   ]
  },
  {
   "cell_type": "code",
   "execution_count": null,
   "id": "7a78c310",
   "metadata": {},
   "outputs": [],
   "source": [
    "type (integer)"
   ]
  },
  {
   "cell_type": "code",
   "execution_count": null,
   "id": "e10bc633",
   "metadata": {},
   "outputs": [],
   "source": [
    "string = str(5)\n",
    "string"
   ]
  },
  {
   "cell_type": "code",
   "execution_count": null,
   "id": "5b437f7c",
   "metadata": {},
   "outputs": [],
   "source": [
    "type(string)"
   ]
  },
  {
   "cell_type": "code",
   "execution_count": null,
   "id": "9500f3c2",
   "metadata": {},
   "outputs": [],
   "source": [
    "integer==string"
   ]
  },
  {
   "cell_type": "code",
   "execution_count": null,
   "id": "8a3f207b",
   "metadata": {},
   "outputs": [],
   "source": [
    "string2=str(integer)\n",
    "string2"
   ]
  },
  {
   "cell_type": "code",
   "execution_count": null,
   "id": "516f4180",
   "metadata": {},
   "outputs": [],
   "source": [
    "string2==string"
   ]
  },
  {
   "cell_type": "code",
   "execution_count": null,
   "id": "d8454ab6",
   "metadata": {},
   "outputs": [],
   "source": [
    "string3=str(float(integer))\n",
    "string3"
   ]
  },
  {
   "cell_type": "code",
   "execution_count": null,
   "id": "9694c535",
   "metadata": {},
   "outputs": [],
   "source": [
    "string3==string"
   ]
  },
  {
   "cell_type": "code",
   "execution_count": null,
   "id": "a9199307",
   "metadata": {},
   "outputs": [],
   "source": [
    "integer2=int(float(string))\n",
    "integer2"
   ]
  },
  {
   "cell_type": "code",
   "execution_count": null,
   "id": "f1e46ded",
   "metadata": {},
   "outputs": [],
   "source": [
    "integer2==integer"
   ]
  },
  {
   "cell_type": "code",
   "execution_count": null,
   "id": "9e261a49",
   "metadata": {},
   "outputs": [],
   "source": [
    "list(5.0) # there is no reasonable thing to do here"
   ]
  },
  {
   "cell_type": "markdown",
   "id": "344370c3",
   "metadata": {},
   "source": [
    "### Lists and Tuples (20 min)\n",
    "- **Lists** and **tuples** allow us to store multiple things (“elements”) in a single object.\n",
    "- The elements are ordered.\n",
    "- **Lists** are mutable objects, we use <code>[]</code> \n",
    "- **Tuples** are immutable objects, we use <code>()</code>"
   ]
  },
  {
   "cell_type": "code",
   "execution_count": null,
   "id": "11e6bc4e",
   "metadata": {},
   "outputs": [],
   "source": [
    "# empty list\n",
    "my_list = []\n",
    "my_list"
   ]
  },
  {
   "cell_type": "code",
   "execution_count": 5,
   "id": "a661733f",
   "metadata": {},
   "outputs": [
    {
     "data": {
      "text/plain": [
       "[1, 2, 'THREE', 4, 0.5]"
      ]
     },
     "execution_count": 5,
     "metadata": {},
     "output_type": "execute_result"
    }
   ],
   "source": [
    "my_list = [1, 2, \"THREE\", 4, 0.5]\n",
    "my_list"
   ]
  },
  {
   "cell_type": "code",
   "execution_count": null,
   "id": "5dbac189",
   "metadata": {},
   "outputs": [],
   "source": [
    "type(my_list)"
   ]
  },
  {
   "cell_type": "code",
   "execution_count": null,
   "id": "83f01a2a",
   "metadata": {},
   "outputs": [],
   "source": [
    "# You can get the length of the list with len:\n",
    "len(my_list)"
   ]
  },
  {
   "cell_type": "code",
   "execution_count": null,
   "id": "9ae621f8",
   "metadata": {},
   "outputs": [],
   "source": [
    "my_list[0]\n"
   ]
  },
  {
   "cell_type": "markdown",
   "id": "f09ed514",
   "metadata": {},
   "source": [
    "A list can also have another list as an item. This is called a nested list."
   ]
  },
  {
   "cell_type": "code",
   "execution_count": null,
   "id": "6c92b9e3",
   "metadata": {},
   "outputs": [],
   "source": [
    "# nested list\n",
    "my_nestedlist = [\"Happy\", [2, 0, 1, 5]]\n",
    "my_nestedlist"
   ]
  },
  {
   "cell_type": "code",
   "execution_count": null,
   "id": "9fd3093b",
   "metadata": {},
   "outputs": [],
   "source": [
    "type(my_nestedlist)"
   ]
  },
  {
   "cell_type": "code",
   "execution_count": 12,
   "id": "1768eaa7",
   "metadata": {},
   "outputs": [
    {
     "data": {
      "text/plain": [
       "(1, 2, 'THREE', 4, 0.5)"
      ]
     },
     "execution_count": 12,
     "metadata": {},
     "output_type": "execute_result"
    }
   ],
   "source": [
    "today = (1, 2, \"THREE\", 4, 0.5)\n",
    "today"
   ]
  },
  {
   "cell_type": "code",
   "execution_count": 13,
   "id": "8e26b0bf",
   "metadata": {},
   "outputs": [
    {
     "data": {
      "text/plain": [
       "tuple"
      ]
     },
     "execution_count": 13,
     "metadata": {},
     "output_type": "execute_result"
    }
   ],
   "source": [
    "type(today)"
   ]
  },
  {
   "cell_type": "code",
   "execution_count": 14,
   "id": "430d9cc6",
   "metadata": {},
   "outputs": [
    {
     "data": {
      "text/plain": [
       "5"
      ]
     },
     "execution_count": 14,
     "metadata": {},
     "output_type": "execute_result"
    }
   ],
   "source": [
    "len(today)"
   ]
  },
  {
   "cell_type": "markdown",
   "id": "8163947a",
   "metadata": {},
   "source": [
    "#### Indexing and Slicing Sequences\n",
    "\n",
    "- We can access values inside a list, tuple, or string using the bracket syntax <code>[]</code>.\n",
    "- *Python* uses **zero-based** indexing, which means the first element of the list is in position **0**, not position **1**.\n",
    "- Sadly, *R* uses **one-based** indexing, so get ready to be confused."
   ]
  },
  {
   "cell_type": "code",
   "execution_count": null,
   "id": "85142a92",
   "metadata": {},
   "outputs": [],
   "source": [
    "my_list"
   ]
  },
  {
   "cell_type": "code",
   "execution_count": null,
   "id": "3060f672",
   "metadata": {},
   "outputs": [],
   "source": [
    "my_list[0]"
   ]
  },
  {
   "cell_type": "code",
   "execution_count": null,
   "id": "3961cfbf",
   "metadata": {},
   "outputs": [],
   "source": [
    "my_list[4]"
   ]
  },
  {
   "cell_type": "code",
   "execution_count": null,
   "id": "33c44ffb",
   "metadata": {},
   "outputs": [],
   "source": [
    "my_list[5]"
   ]
  },
  {
   "cell_type": "code",
   "execution_count": 16,
   "id": "1f6fd19f",
   "metadata": {},
   "outputs": [
    {
     "data": {
      "text/plain": [
       "'a'"
      ]
     },
     "execution_count": 16,
     "metadata": {},
     "output_type": "execute_result"
    }
   ],
   "source": [
    "# Nested indexing\n",
    "my_nestedlist = [\"Happy\", [2, 0, 1, 5]]\n",
    "my_nestedlist[0][1]"
   ]
  },
  {
   "cell_type": "code",
   "execution_count": null,
   "id": "bf4cddda",
   "metadata": {},
   "outputs": [],
   "source": [
    "my_nestedlist[1][3]"
   ]
  },
  {
   "cell_type": "code",
   "execution_count": null,
   "id": "9758ae1e",
   "metadata": {},
   "outputs": [],
   "source": [
    "today[4]"
   ]
  },
  {
   "cell_type": "code",
   "execution_count": 15,
   "id": "3f3d1606",
   "metadata": {},
   "outputs": [
    {
     "ename": "NameError",
     "evalue": "name 'my_list' is not defined",
     "output_type": "error",
     "traceback": [
      "\u001b[0;31m---------------------------------------------------------------------------\u001b[0m",
      "\u001b[0;31mNameError\u001b[0m                                 Traceback (most recent call last)",
      "Cell \u001b[0;32mIn[15], line 2\u001b[0m\n\u001b[1;32m      1\u001b[0m \u001b[38;5;66;03m#We use negative indices to count backwards from the end of the list.\u001b[39;00m\n\u001b[0;32m----> 2\u001b[0m \u001b[43mmy_list\u001b[49m[\u001b[38;5;241m-\u001b[39m\u001b[38;5;241m1\u001b[39m]\n",
      "\u001b[0;31mNameError\u001b[0m: name 'my_list' is not defined"
     ]
    }
   ],
   "source": [
    "#We use negative indices to count backwards from the end of the list.\n",
    "my_list[-1]"
   ]
  },
  {
   "cell_type": "code",
   "execution_count": null,
   "id": "11f2ae88",
   "metadata": {},
   "outputs": [],
   "source": [
    "# We use the colon : to access a subsequence. This is called “slicing”.\n",
    "my_list[1:4]"
   ]
  },
  {
   "cell_type": "markdown",
   "id": "65764c0d",
   "metadata": {},
   "source": [
    "- Above: note that the start is inclusive and the end is exclusive.\n",
    "- So the above code <code>my_list[1:4]</code> fetches elements 1, 2, and 3 but not 4.\n",
    "- In other words, it gets the 2nd, 3rd, and 4th elements in the list.\n"
   ]
  },
  {
   "cell_type": "code",
   "execution_count": 17,
   "id": "9a75fedc",
   "metadata": {},
   "outputs": [
    {
     "ename": "NameError",
     "evalue": "name 'my_list' is not defined",
     "output_type": "error",
     "traceback": [
      "\u001b[0;31m---------------------------------------------------------------------------\u001b[0m",
      "\u001b[0;31mNameError\u001b[0m                                 Traceback (most recent call last)",
      "Cell \u001b[0;32mIn[17], line 2\u001b[0m\n\u001b[1;32m      1\u001b[0m \u001b[38;5;66;03m# We can omit the start, this mean take all values from the start of the list\u001b[39;00m\n\u001b[0;32m----> 2\u001b[0m \u001b[43mmy_list\u001b[49m[:\u001b[38;5;241m3\u001b[39m]\n",
      "\u001b[0;31mNameError\u001b[0m: name 'my_list' is not defined"
     ]
    }
   ],
   "source": [
    "# We can omit the start, this mean take all values from the start of the list\n",
    "my_list[:3]\n"
   ]
  },
  {
   "cell_type": "code",
   "execution_count": null,
   "id": "263684e4",
   "metadata": {},
   "outputs": [],
   "source": [
    "# We can omit the end, this mean take all values until the end of the list\n",
    "my_list[2:]"
   ]
  },
  {
   "cell_type": "code",
   "execution_count": null,
   "id": "74f1a865",
   "metadata": {},
   "outputs": [],
   "source": [
    "# *almost* same as my_list - The [:] makes a shallow copy of the array. We will see this later in the course\n",
    "my_list[:]"
   ]
  },
  {
   "cell_type": "markdown",
   "id": "ffb0d1c3",
   "metadata": {},
   "source": [
    "Strings behave the same as lists and tuples when it comes to indexing and slicing."
   ]
  },
  {
   "cell_type": "code",
   "execution_count": 18,
   "id": "fa98388c",
   "metadata": {},
   "outputs": [
    {
     "data": {
      "text/plain": [
       "'abcdefghijklmnopqrstuvwxyz'"
      ]
     },
     "execution_count": 18,
     "metadata": {},
     "output_type": "execute_result"
    }
   ],
   "source": [
    "alphabet = \"abcdefghijklmnopqrstuvwxyz\"\n",
    "alphabet"
   ]
  },
  {
   "cell_type": "code",
   "execution_count": null,
   "id": "6aa83cf3",
   "metadata": {},
   "outputs": [],
   "source": [
    "alphabet[0]"
   ]
  },
  {
   "cell_type": "code",
   "execution_count": 19,
   "id": "d9100a0e",
   "metadata": {},
   "outputs": [
    {
     "data": {
      "text/plain": [
       "'z'"
      ]
     },
     "execution_count": 19,
     "metadata": {},
     "output_type": "execute_result"
    }
   ],
   "source": [
    "alphabet[-1]"
   ]
  },
  {
   "cell_type": "code",
   "execution_count": 20,
   "id": "1ea5cf66",
   "metadata": {},
   "outputs": [
    {
     "data": {
      "text/plain": [
       "'x'"
      ]
     },
     "execution_count": 20,
     "metadata": {},
     "output_type": "execute_result"
    }
   ],
   "source": [
    "alphabet[-3]"
   ]
  },
  {
   "cell_type": "code",
   "execution_count": 22,
   "id": "2e6ce9b0",
   "metadata": {},
   "outputs": [
    {
     "data": {
      "text/plain": [
       "'fghijklmnopqrstuvwxyz'"
      ]
     },
     "execution_count": 22,
     "metadata": {},
     "output_type": "execute_result"
    }
   ],
   "source": [
    "alphabet[:5]"
   ]
  },
  {
   "cell_type": "markdown",
   "id": "a1afecd7",
   "metadata": {},
   "source": [
    "#### List Methods\n",
    "\n",
    "- A **list** is an object and it has **methods** for interacting with its data.\n",
    "- For example, <code>list.append(item)</code> appends an item to the end of the list.\n",
    "- See the documentation for more [list methods](https://docs.python.org/3/tutorial/datastructures.html#more-on-lists)."
   ]
  },
  {
   "cell_type": "code",
   "execution_count": null,
   "id": "3f43a3c1",
   "metadata": {},
   "outputs": [],
   "source": [
    "# empty list\n",
    "my_list = []\n",
    "my_list"
   ]
  },
  {
   "cell_type": "code",
   "execution_count": 23,
   "id": "40677cc1",
   "metadata": {},
   "outputs": [
    {
     "data": {
      "text/plain": [
       "[2, 3, 5, 7, 11]"
      ]
     },
     "execution_count": 23,
     "metadata": {},
     "output_type": "execute_result"
    }
   ],
   "source": [
    "primes = [2,3,5,7,11]\n",
    "primes"
   ]
  },
  {
   "cell_type": "code",
   "execution_count": null,
   "id": "ec2eeae4",
   "metadata": {},
   "outputs": [],
   "source": [
    "len(primes)"
   ]
  },
  {
   "cell_type": "code",
   "execution_count": null,
   "id": "5980dc8c",
   "metadata": {},
   "outputs": [],
   "source": [
    "#to append an item to the end of the list\n",
    "primes.append(13)\n",
    "primes"
   ]
  },
  {
   "cell_type": "code",
   "execution_count": null,
   "id": "d9823148",
   "metadata": {},
   "outputs": [],
   "source": [
    "primes.append(13)"
   ]
  },
  {
   "cell_type": "code",
   "execution_count": null,
   "id": "7a2c9347",
   "metadata": {},
   "outputs": [],
   "source": [
    "primes"
   ]
  },
  {
   "cell_type": "code",
   "execution_count": 24,
   "id": "f5fdb69b",
   "metadata": {},
   "outputs": [
    {
     "data": {
      "text/plain": [
       "[2, 3, 5, 7, 11, 17, 19, 23, 29]"
      ]
     },
     "execution_count": 24,
     "metadata": {},
     "output_type": "execute_result"
    }
   ],
   "source": [
    "# add several items to the list\n",
    "primes.extend([17, 19, 23, 29])\n",
    "primes"
   ]
  },
  {
   "cell_type": "code",
   "execution_count": null,
   "id": "618aa091",
   "metadata": {},
   "outputs": [],
   "source": [
    "# Return the largest item \n",
    "max(primes)"
   ]
  },
  {
   "cell_type": "code",
   "execution_count": null,
   "id": "a0b68c9a",
   "metadata": {},
   "outputs": [],
   "source": [
    "# Return the smallest item \n",
    "min(primes)"
   ]
  },
  {
   "cell_type": "code",
   "execution_count": 16,
   "id": "891c97ba",
   "metadata": {},
   "outputs": [
    {
     "data": {
      "text/plain": [
       "28"
      ]
     },
     "execution_count": 16,
     "metadata": {},
     "output_type": "execute_result"
    }
   ],
   "source": [
    "# To sum all values\n",
    "sum(primes)"
   ]
  },
  {
   "cell_type": "code",
   "execution_count": 25,
   "id": "4fc702cb",
   "metadata": {},
   "outputs": [
    {
     "data": {
      "text/plain": [
       "[1, 2, 3, 'Hello', 7]"
      ]
     },
     "execution_count": 25,
     "metadata": {},
     "output_type": "execute_result"
    }
   ],
   "source": [
    "# Concatenating lists with '+'\n",
    "[1,2,3] + [\"Hello\", 7]"
   ]
  },
  {
   "cell_type": "code",
   "execution_count": 29,
   "id": "46dc9d8c",
   "metadata": {},
   "outputs": [
    {
     "data": {
      "text/plain": [
       "['re', 're', 're']"
      ]
     },
     "execution_count": 29,
     "metadata": {},
     "output_type": "execute_result"
    }
   ],
   "source": [
    "# Repeating lists\n",
    "[\"re\"] * 3"
   ]
  },
  {
   "cell_type": "markdown",
   "id": "d4f8ee5f",
   "metadata": {},
   "source": [
    "#### Sets\n",
    "\n",
    "- Another built-in *Python* data type is the <code>set</code>, which stores an *un-ordered* **list** of unique items.\n",
    "- More on sets in DATA 532."
   ]
  },
  {
   "cell_type": "code",
   "execution_count": 47,
   "id": "e8da30f9",
   "metadata": {},
   "outputs": [
    {
     "data": {
      "text/plain": [
       "{2, 3, 5, 11}"
      ]
     },
     "execution_count": 47,
     "metadata": {},
     "output_type": "execute_result"
    }
   ],
   "source": [
    "s = {2,3,5,11}\n",
    "s"
   ]
  },
  {
   "cell_type": "code",
   "execution_count": 12,
   "id": "39010105",
   "metadata": {},
   "outputs": [
    {
     "data": {
      "text/plain": [
       "True"
      ]
     },
     "execution_count": 12,
     "metadata": {},
     "output_type": "execute_result"
    }
   ],
   "source": [
    "{1,2,3} == {3,2,1}"
   ]
  },
  {
   "cell_type": "code",
   "execution_count": 17,
   "id": "38458e9f",
   "metadata": {},
   "outputs": [
    {
     "data": {
      "text/plain": [
       "False"
      ]
     },
     "execution_count": 17,
     "metadata": {},
     "output_type": "execute_result"
    }
   ],
   "source": [
    "[1,2,3] == [3,2,1]"
   ]
  },
  {
   "cell_type": "code",
   "execution_count": 32,
   "id": "38b8b280",
   "metadata": {},
   "outputs": [
    {
     "data": {
      "text/plain": [
       "{2, 3, 5, 11}"
      ]
     },
     "execution_count": 32,
     "metadata": {},
     "output_type": "execute_result"
    }
   ],
   "source": [
    "s.add(2) # does nothing\n",
    "s"
   ]
  },
  {
   "cell_type": "code",
   "execution_count": 33,
   "id": "8d2d781c",
   "metadata": {},
   "outputs": [
    {
     "ename": "TypeError",
     "evalue": "'set' object is not subscriptable",
     "output_type": "error",
     "traceback": [
      "\u001b[0;31m---------------------------------------------------------------------------\u001b[0m",
      "\u001b[0;31mTypeError\u001b[0m                                 Traceback (most recent call last)",
      "Cell \u001b[0;32mIn[33], line 2\u001b[0m\n\u001b[1;32m      1\u001b[0m \u001b[38;5;66;03m# Above: throws an error because elements are not ordered.\u001b[39;00m\n\u001b[0;32m----> 2\u001b[0m \u001b[43ms\u001b[49m\u001b[43m[\u001b[49m\u001b[38;5;241;43m0\u001b[39;49m\u001b[43m]\u001b[49m\n",
      "\u001b[0;31mTypeError\u001b[0m: 'set' object is not subscriptable"
     ]
    }
   ],
   "source": [
    "# Above: throws an error because elements are not ordered.\n",
    "s[0]"
   ]
  },
  {
   "cell_type": "code",
   "execution_count": 40,
   "id": "e177d93f",
   "metadata": {},
   "outputs": [
    {
     "name": "stdout",
     "output_type": "stream",
     "text": [
      "3\n",
      "2\n",
      "11\n",
      "5\n"
     ]
    }
   ],
   "source": [
    "for i in s:\n",
    "    print (i)"
   ]
  },
  {
   "cell_type": "markdown",
   "id": "acdfe141",
   "metadata": {},
   "source": [
    "#### Mutable vs. Immutable Types\n",
    "\n",
    "- **Strings** and **tuples** are immutable types which means they cannot be modified.\n",
    "- **Lists** are mutable and we can assign new values for its various entries.\n",
    "- This is the main difference between lists and tuples."
   ]
  },
  {
   "cell_type": "code",
   "execution_count": null,
   "id": "f1634605",
   "metadata": {},
   "outputs": [],
   "source": [
    "# change the items in a list \n",
    "names_list = [\"Kelowna\",\"Kamloops\",\"Toronto\"]\n",
    "names_list"
   ]
  },
  {
   "cell_type": "code",
   "execution_count": null,
   "id": "410c4a97",
   "metadata": {},
   "outputs": [],
   "source": [
    "names_list[2] = \"Vernon\"\n",
    "names_list"
   ]
  },
  {
   "cell_type": "code",
   "execution_count": null,
   "id": "fea922fc",
   "metadata": {},
   "outputs": [],
   "source": [
    "names_tuple = (\"Kelowna\",\"Kamloops\",\"Toronto\")\n",
    "names_tuple"
   ]
  },
  {
   "cell_type": "code",
   "execution_count": null,
   "id": "c62a33e1",
   "metadata": {},
   "outputs": [],
   "source": [
    "names_tuple[2] = \"Vernon\"\n",
    "names_tuple"
   ]
  },
  {
   "cell_type": "markdown",
   "id": "8634d80c",
   "metadata": {},
   "source": [
    "Same goes for strings. Once defined we cannot modifiy the characters of the string."
   ]
  },
  {
   "cell_type": "code",
   "execution_count": 28,
   "id": "b773ce02",
   "metadata": {},
   "outputs": [],
   "source": [
    "thisCourse = \"DATA501\""
   ]
  },
  {
   "cell_type": "code",
   "execution_count": 29,
   "id": "6e8bedfe",
   "metadata": {},
   "outputs": [
    {
     "ename": "TypeError",
     "evalue": "'str' object does not support item assignment",
     "output_type": "error",
     "traceback": [
      "\u001b[0;31m---------------------------------------------------------------------------\u001b[0m",
      "\u001b[0;31mTypeError\u001b[0m                                 Traceback (most recent call last)",
      "Cell \u001b[0;32mIn[29], line 1\u001b[0m\n\u001b[0;32m----> 1\u001b[0m \u001b[43mthisCourse\u001b[49m\u001b[43m[\u001b[49m\u001b[38;5;241;43m-\u001b[39;49m\u001b[38;5;241;43m3\u001b[39;49m\u001b[43m]\u001b[49m \u001b[38;5;241m=\u001b[39m \u001b[38;5;124m'\u001b[39m\u001b[38;5;124m3\u001b[39m\u001b[38;5;124m'\u001b[39m\n",
      "\u001b[0;31mTypeError\u001b[0m: 'str' object does not support item assignment"
     ]
    }
   ],
   "source": [
    "thisCourse[-3] = '3'"
   ]
  },
  {
   "cell_type": "code",
   "execution_count": null,
   "id": "c6abfb9c",
   "metadata": {},
   "outputs": [],
   "source": [
    "x = ([1,2,3],5)\n",
    "x"
   ]
  },
  {
   "cell_type": "code",
   "execution_count": null,
   "id": "218c5b57",
   "metadata": {},
   "outputs": [],
   "source": [
    "x[1] = 7"
   ]
  },
  {
   "cell_type": "code",
   "execution_count": null,
   "id": "9bcebc43",
   "metadata": {},
   "outputs": [],
   "source": [
    "x[0][1] = 4\n",
    "x"
   ]
  },
  {
   "cell_type": "markdown",
   "id": "d643aceb",
   "metadata": {},
   "source": [
    "### Exercise 1"
   ]
  },
  {
   "cell_type": "markdown",
   "id": "e7563923",
   "metadata": {},
   "source": [
    "### String Methods (5 min)\n",
    "\n",
    "- There are various useful string methods in Python."
   ]
  },
  {
   "cell_type": "code",
   "execution_count": 31,
   "id": "213c79ce",
   "metadata": {},
   "outputs": [
    {
     "data": {
      "text/plain": [
       "'HOW ARE YOU TODAY?'"
      ]
     },
     "execution_count": 31,
     "metadata": {},
     "output_type": "execute_result"
    }
   ],
   "source": [
    "all_caps = \"HOW ARE YOU TODAY?\"\n",
    "all_caps"
   ]
  },
  {
   "cell_type": "code",
   "execution_count": 33,
   "id": "e05a7b25",
   "metadata": {},
   "outputs": [
    {
     "data": {
      "text/plain": [
       "'how are you today?'"
      ]
     },
     "execution_count": 33,
     "metadata": {},
     "output_type": "execute_result"
    }
   ],
   "source": [
    "new_str = all_caps.lower()\n",
    "new_str"
   ]
  },
  {
   "cell_type": "markdown",
   "id": "ea71d8e6",
   "metadata": {},
   "source": [
    "Note that the method lower doesn’t change the original string but rather returns a new one."
   ]
  },
  {
   "cell_type": "code",
   "execution_count": 32,
   "id": "9f954066",
   "metadata": {},
   "outputs": [
    {
     "data": {
      "text/plain": [
       "'HOW ARE YOU TODAY?'"
      ]
     },
     "execution_count": 32,
     "metadata": {},
     "output_type": "execute_result"
    }
   ],
   "source": [
    "all_caps.lower()\n",
    "all_caps"
   ]
  },
  {
   "cell_type": "markdown",
   "id": "a6ba2848",
   "metadata": {},
   "source": [
    "There are many string methods. Check out the [documentation](https://docs.python.org/3/library/stdtypes.html#string-methods)."
   ]
  },
  {
   "cell_type": "code",
   "execution_count": 35,
   "id": "ef1b40e9",
   "metadata": {},
   "outputs": [
    {
     "data": {
      "text/plain": [
       "['HOW', 'ARE', 'YOU', 'TODAY?']"
      ]
     },
     "execution_count": 35,
     "metadata": {},
     "output_type": "execute_result"
    }
   ],
   "source": [
    "all_caps.split()\n"
   ]
  },
  {
   "cell_type": "code",
   "execution_count": null,
   "id": "1ce70620",
   "metadata": {},
   "outputs": [],
   "source": [
    "# The count() method returns the number of occurrences of a substring in the given string.\n",
    "all_caps.count(\"O\")"
   ]
  },
  {
   "cell_type": "markdown",
   "id": "dc91e600",
   "metadata": {},
   "source": [
    "One can explicitly cast a string to a list:"
   ]
  },
  {
   "cell_type": "code",
   "execution_count": 34,
   "id": "14b29f01",
   "metadata": {},
   "outputs": [
    {
     "data": {
      "text/plain": [
       "['H',\n",
       " 'O',\n",
       " 'W',\n",
       " ' ',\n",
       " 'A',\n",
       " 'R',\n",
       " 'E',\n",
       " ' ',\n",
       " 'Y',\n",
       " 'O',\n",
       " 'U',\n",
       " ' ',\n",
       " 'T',\n",
       " 'O',\n",
       " 'D',\n",
       " 'A',\n",
       " 'Y',\n",
       " '?']"
      ]
     },
     "execution_count": 34,
     "metadata": {},
     "output_type": "execute_result"
    }
   ],
   "source": [
    "caps_list = list(all_caps)\n",
    "caps_list"
   ]
  },
  {
   "cell_type": "code",
   "execution_count": null,
   "id": "5542b555",
   "metadata": {},
   "outputs": [],
   "source": [
    "len(all_caps)"
   ]
  },
  {
   "cell_type": "code",
   "execution_count": null,
   "id": "aab0e412",
   "metadata": {},
   "outputs": [],
   "source": [
    "len(caps_list)"
   ]
  },
  {
   "cell_type": "code",
   "execution_count": null,
   "id": "fce3006a",
   "metadata": {},
   "outputs": [],
   "source": [
    "all_caps[0] == caps_list[0]"
   ]
  },
  {
   "cell_type": "code",
   "execution_count": null,
   "id": "e10b9903",
   "metadata": {},
   "outputs": [],
   "source": [
    "caps_list[0]"
   ]
  },
  {
   "cell_type": "markdown",
   "id": "cb8b08b5",
   "metadata": {},
   "source": [
    "##### String Methods operators\n",
    "\n",
    "Note: All string methods returns new values. They do not change the original string.\n",
    "\n",
    "| <span style=\"color:darkgreen\">**Method**</span>        | <span style=\"color:darkgreen\">**Description**</span>                                                       |\n",
    "|---------------|-------------------------------------------------------------------|\n",
    "| **capitalize()**  | Converts the first character to upper case                       |\n",
    "| casefold()    | Converts string into lower case                                  |\n",
    "| **count()**       | Returns the number of times a specified value occurs in a string |\n",
    "| encode()      | Returns an encoded version of the string                         |\n",
    "| **endswith()**    | Returns true if the string ends with the specified value         |\n",
    "| expandtabs()  | Sets the tab size of the string                                  |\n",
    "| **find()**    | Searches the string for a specified value and returns the position of where it was found |\n",
    "| format()      | Formats specified values in a string                             |\n",
    "| format_map()  | Formats specified values in a string                             |\n",
    "| index()       | Searches the string for a specified value and returns the position of where it was found |\n",
    "| **isalnum()** | Returns True if all characters in the string are alphanumeric   |\n",
    "| **isalpha()** | Returns True if all characters in the string are in the alphabet |\n",
    "| isascii()     | Returns True if all characters in the string are ascii characters |\n",
    "| isdecimal()   | Returns True if all characters in the string are decimals       |\n",
    "| isdigit()     | Returns True if all characters in the string are digits         |\n",
    "| isidentifier() | Returns True if the string is an identifier                     |\n",
    "| **islower()**  | Returns True if all characters in the string are lower case     |\n",
    "| **isnumeric()**   | Returns True if all characters in the string are numeric       |\n",
    "| isprintable() | Returns True if all characters in the string are printable     |\n",
    "| isspace()     | Returns True if all characters in the string are whitespaces    |\n",
    "| istitle()     | Returns True if the string follows the rules of a title        |\n",
    "| **isupper()** | Returns True if all characters in the string are upper case     |\n",
    "| **join()**        | Converts the elements of an iterable into a string              |\n",
    "| ljust()       | Returns a left justified version of the string                 |\n",
    "| **lower()**   | Converts a string into lower case                               |\n",
    "| lstrip()      | Returns a left trim version of the string                       |\n",
    "| maketrans()   | Returns a translation table to be used in translations         |\n",
    "| **partition()**   | Returns a tuple where the string is parted into three parts     |\n",
    "| **replace()**     | Returns a string where a specified value is replaced with a specified value |\n",
    "| rfind()       | Searches the string for a specified value and returns the last position of where it was found |\n",
    "| rindex()      | Searches the string for a specified value and returns the last position of where it was found |\n",
    "| rjust()       | Returns a right justified version of the string                |\n",
    "| rpartition()  | Returns a tuple where the string is parted into three parts     |\n",
    "| rsplit()      | Splits the string at the specified separator, and returns a list |\n",
    "| rstrip()      | Returns a right trim version of the string                      |\n",
    "| split()       | Splits the string at the specified separator, and returns a list |\n",
    "| splitlines()  | Splits the string at line breaks and returns a list            |\n",
    "| **startswith()**  | Returns true if the string starts with the specified value     |\n",
    "| strip()       | Returns a trimmed version of the string                        |\n",
    "| swapcase()    | Swaps cases, lower case becomes upper case and vice versa      |\n",
    "| title()       | Converts the first character of each word to upper case         |\n",
    "| translate()   | Returns a translated string                                    |\n",
    "| **upper()**   | Converts a string into upper case                              |\n",
    "| zfill()       | Fills the string with a specified number of 0 values at the beginning |"
   ]
  },
  {
   "cell_type": "code",
   "execution_count": 50,
   "id": "bbe6294f",
   "metadata": {},
   "outputs": [
    {
     "data": {
      "text/plain": [
       "12"
      ]
     },
     "execution_count": 50,
     "metadata": {},
     "output_type": "execute_result"
    }
   ],
   "source": [
    "my_string='This is my string FOR the class'\n",
    "#my_string.find(\"i\")\n",
    "# my_string.find(\"i\",3)\n",
    "my_string.find(\"tri\")"
   ]
  },
  {
   "cell_type": "code",
   "execution_count": 42,
   "id": "e2322ca9",
   "metadata": {},
   "outputs": [
    {
     "data": {
      "text/plain": [
       "'Data science is awesome!'"
      ]
     },
     "execution_count": 42,
     "metadata": {},
     "output_type": "execute_result"
    }
   ],
   "source": [
    "txt = \"Python is awesome!\"\n",
    "txt = txt.replace(\"Python\", \"Data science\")\n",
    "txt"
   ]
  },
  {
   "cell_type": "code",
   "execution_count": 52,
   "id": "3e79aa95",
   "metadata": {},
   "outputs": [
    {
     "data": {
      "text/plain": [
       "('Python and data science ', 'and', ' machine learning')"
      ]
     },
     "execution_count": 52,
     "metadata": {},
     "output_type": "execute_result"
    }
   ],
   "source": [
    "txt = \"Python and data science and machine learning\"\n",
    "txt.partition(\"and\")\n",
    "#txt.rpartition(\"and\")"
   ]
  },
  {
   "cell_type": "markdown",
   "id": "a7138807",
   "metadata": {},
   "source": [
    "#### String formatting\n",
    "\n",
    "- Python has ways of creating strings by “filling in the blanks” and formatting them nicely.\n",
    "- There are a few ways of doing this. See [here](https://realpython.com/python-string-formatting/) and [here](https://stackoverflow.com/questions/5082452/string-formatting-vs-format-vs-f-string-literal) for some discussion.\n"
   ]
  },
  {
   "cell_type": "markdown",
   "id": "7f06cdcf",
   "metadata": {},
   "source": [
    "Old formatting style (borrowed from the C programming language):"
   ]
  },
  {
   "cell_type": "code",
   "execution_count": 43,
   "id": "0e0c4988",
   "metadata": {},
   "outputs": [
    {
     "data": {
      "text/plain": [
       "'Hello, my name is %s. I am %.2f years old.'"
      ]
     },
     "execution_count": 43,
     "metadata": {},
     "output_type": "execute_result"
    }
   ],
   "source": [
    "## %i -> for integers\n",
    "# %.Xf -> X is the number of decimals in the float \n",
    "template = \"Hello, my name is %s. I am %.2f years old.\"\n",
    "\n",
    "template"
   ]
  },
  {
   "cell_type": "code",
   "execution_count": 44,
   "id": "87a89dcc",
   "metadata": {},
   "outputs": [
    {
     "data": {
      "text/plain": [
       "'Hello, my name is Newborn Baby. I am 0.33 years old.'"
      ]
     },
     "execution_count": 44,
     "metadata": {},
     "output_type": "execute_result"
    }
   ],
   "source": [
    "template % (\"Newborn Baby\", 4/12)"
   ]
  },
  {
   "cell_type": "markdown",
   "id": "849bcf18",
   "metadata": {},
   "source": [
    "New formatting style (see [documentation](https://docs.python.org/3/library/stdtypes.html#str.format)):"
   ]
  },
  {
   "cell_type": "code",
   "execution_count": 48,
   "id": "b982252d",
   "metadata": {},
   "outputs": [],
   "source": [
    "template_new = \"Hello, my name is {}. I am {:.2f} years old.\""
   ]
  },
  {
   "cell_type": "code",
   "execution_count": 49,
   "id": "04d6809c",
   "metadata": {},
   "outputs": [
    {
     "data": {
      "text/plain": [
       "'Hello, my name is Newborn Baby. I am 0.33 years old.'"
      ]
     },
     "execution_count": 49,
     "metadata": {},
     "output_type": "execute_result"
    }
   ],
   "source": [
    "template_new.format('Newborn Baby', 4/12)\n"
   ]
  },
  {
   "cell_type": "markdown",
   "id": "220ac4a0",
   "metadata": {},
   "source": [
    "Newer formatting style (see [here](https://realpython.com/python-f-strings/#f-strings-a-new-and-improved-way-to-format-strings-in-python)) \n",
    "- note the **f** before the start of the string:"
   ]
  },
  {
   "cell_type": "code",
   "execution_count": 54,
   "id": "3eb36421",
   "metadata": {},
   "outputs": [
    {
     "data": {
      "text/plain": [
       "'Hello, my name is Newborn Baby. I am 0.33 years old.'"
      ]
     },
     "execution_count": 54,
     "metadata": {},
     "output_type": "execute_result"
    }
   ],
   "source": [
    "name = \"Newborn Baby\"\n",
    "age = 4/12\n",
    "template_new = f\"Hello, my name is {name}. I am {age:.2} years old.\"\n",
    "template_new"
   ]
  },
  {
   "cell_type": "markdown",
   "id": "233fd70d",
   "metadata": {},
   "source": [
    "###  Dictionaries (10 min)"
   ]
  },
  {
   "cell_type": "markdown",
   "id": "0dd4443c",
   "metadata": {},
   "source": [
    "A dictionary is a mapping between key-values pairs.\n"
   ]
  },
  {
   "cell_type": "code",
   "execution_count": 55,
   "id": "5119890b",
   "metadata": {},
   "outputs": [],
   "source": [
    "house = {'bedrooms': 3, 'bathrooms': 2, 'city': 'Kelowna', 'price': 2499999, 'date_sold': (1,3,2019)}\n",
    "\n",
    "condo = {'bedrooms' : 2, \n",
    "         'bathrooms': 1, \n",
    "         'city'     : 'Vernon', \n",
    "         'price'    : 699999, \n",
    "         'date_sold': (27,8,2015)\n",
    "        }"
   ]
  },
  {
   "cell_type": "markdown",
   "id": "3017e959",
   "metadata": {},
   "source": [
    "We can access a specific field of a dictionary with square brackets:\n",
    "\n"
   ]
  },
  {
   "cell_type": "code",
   "execution_count": 11,
   "id": "4d83644f",
   "metadata": {},
   "outputs": [
    {
     "data": {
      "text/plain": [
       "2499999"
      ]
     },
     "execution_count": 11,
     "metadata": {},
     "output_type": "execute_result"
    }
   ],
   "source": [
    "house['price']\n"
   ]
  },
  {
   "cell_type": "code",
   "execution_count": null,
   "id": "a47d359a",
   "metadata": {},
   "outputs": [],
   "source": [
    "condo['city']\n"
   ]
  },
  {
   "cell_type": "markdown",
   "id": "7308ae3d",
   "metadata": {},
   "source": [
    "We can also edit dictionaries (they are mutable):"
   ]
  },
  {
   "cell_type": "code",
   "execution_count": null,
   "id": "3b198993",
   "metadata": {},
   "outputs": [],
   "source": [
    "condo['price'] = 500000 # price already in the dict\n",
    "condo"
   ]
  },
  {
   "cell_type": "code",
   "execution_count": null,
   "id": "a3d9ba1f",
   "metadata": {},
   "outputs": [],
   "source": [
    "condo['flooring'] = \"wood\" #add new key-values pair\n",
    "condo"
   ]
  },
  {
   "cell_type": "markdown",
   "id": "de212a61",
   "metadata": {},
   "source": [
    "We can delete fields entirely (though I rarely use this):"
   ]
  },
  {
   "cell_type": "code",
   "execution_count": null,
   "id": "3667f799",
   "metadata": {},
   "outputs": [],
   "source": [
    "del condo[\"city\"]\n",
    "condo"
   ]
  },
  {
   "cell_type": "code",
   "execution_count": 57,
   "id": "f95c73de",
   "metadata": {},
   "outputs": [
    {
     "data": {
      "text/plain": [
       "{'bedrooms': 2,\n",
       " 'bathrooms': 1,\n",
       " 'city': 'Vernon',\n",
       " 'price': 699999,\n",
       " 'date_sold': (27, 8, 2015),\n",
       " (1, 2, 3): 777,\n",
       " 5: 443345}"
      ]
     },
     "execution_count": 57,
     "metadata": {},
     "output_type": "execute_result"
    }
   ],
   "source": [
    "condo[5] = 443345\n",
    "condo"
   ]
  },
  {
   "cell_type": "code",
   "execution_count": 56,
   "id": "68452e9f",
   "metadata": {},
   "outputs": [
    {
     "data": {
      "text/plain": [
       "{'bedrooms': 2,\n",
       " 'bathrooms': 1,\n",
       " 'city': 'Vernon',\n",
       " 'price': 699999,\n",
       " 'date_sold': (27, 8, 2015),\n",
       " (1, 2, 3): 777}"
      ]
     },
     "execution_count": 56,
     "metadata": {},
     "output_type": "execute_result"
    }
   ],
   "source": [
    "condo[(1,2,3)] = 777\n",
    "condo"
   ]
  },
  {
   "cell_type": "code",
   "execution_count": null,
   "id": "1dbb3ca2",
   "metadata": {},
   "outputs": [],
   "source": [
    "condo[\"nothere\"]\n"
   ]
  },
  {
   "cell_type": "markdown",
   "id": "6534a2d5",
   "metadata": {},
   "source": [
    "A sometimes useful trick about default values:\n",
    "\n"
   ]
  },
  {
   "cell_type": "code",
   "execution_count": 58,
   "id": "14f98234",
   "metadata": {},
   "outputs": [
    {
     "data": {
      "text/plain": [
       "2"
      ]
     },
     "execution_count": 58,
     "metadata": {},
     "output_type": "execute_result"
    }
   ],
   "source": [
    "condo[\"bedrooms\"]\n"
   ]
  },
  {
   "cell_type": "code",
   "execution_count": 59,
   "id": "f044a8be",
   "metadata": {},
   "outputs": [
    {
     "data": {
      "text/plain": [
       "2"
      ]
     },
     "execution_count": 59,
     "metadata": {},
     "output_type": "execute_result"
    }
   ],
   "source": [
    "condo.get(\"bedrooms\")"
   ]
  },
  {
   "cell_type": "code",
   "execution_count": 62,
   "id": "c40a9522",
   "metadata": {},
   "outputs": [],
   "source": [
    "condo.get(\"fireplaces\")"
   ]
  },
  {
   "cell_type": "markdown",
   "id": "6fc20aa1",
   "metadata": {},
   "source": [
    "- A common operation is finding the maximum dictionary key by value.\n",
    "- There are a few ways to do this, see this [StackOverflow page](https://stackoverflow.com/questions/268272/getting-key-with-maximum-value-in-dictionary).\n",
    "- One way of doing it:"
   ]
  },
  {
   "cell_type": "code",
   "execution_count": 63,
   "id": "e830aa68",
   "metadata": {},
   "outputs": [
    {
     "data": {
      "text/plain": [
       "'b'"
      ]
     },
     "execution_count": 63,
     "metadata": {},
     "output_type": "execute_result"
    }
   ],
   "source": [
    "word_lengths = {'a': 1, 'b': 3000, 'c': 0}\n",
    "\n",
    "max(word_lengths, key=word_lengths.get)\n"
   ]
  },
  {
   "cell_type": "markdown",
   "id": "bf8db243",
   "metadata": {},
   "source": [
    "#### Empties"
   ]
  },
  {
   "cell_type": "code",
   "execution_count": null,
   "id": "8bb3f21f",
   "metadata": {},
   "outputs": [],
   "source": [
    "lst = list() # empty list\n",
    "lst"
   ]
  },
  {
   "cell_type": "code",
   "execution_count": null,
   "id": "84cbfbdb",
   "metadata": {},
   "outputs": [],
   "source": [
    "lst = [] # empty list\n",
    "lst"
   ]
  },
  {
   "cell_type": "code",
   "execution_count": null,
   "id": "81c886a7",
   "metadata": {},
   "outputs": [],
   "source": [
    "tup = tuple() # empty tuple\n",
    "tup"
   ]
  },
  {
   "cell_type": "code",
   "execution_count": null,
   "id": "a8d79948",
   "metadata": {},
   "outputs": [],
   "source": [
    "tup = () # empty tuple\n",
    "tup"
   ]
  },
  {
   "cell_type": "code",
   "execution_count": null,
   "id": "912f3944",
   "metadata": {},
   "outputs": [],
   "source": [
    "dic = dict() # empty dict\n",
    "dic"
   ]
  },
  {
   "cell_type": "code",
   "execution_count": null,
   "id": "53dc5c36",
   "metadata": {},
   "outputs": [],
   "source": [
    "dic = {} # empty dict\n",
    "dic"
   ]
  },
  {
   "cell_type": "code",
   "execution_count": 65,
   "id": "af0f4a98",
   "metadata": {},
   "outputs": [
    {
     "data": {
      "text/plain": [
       "set"
      ]
     },
     "execution_count": 65,
     "metadata": {},
     "output_type": "execute_result"
    }
   ],
   "source": [
    "st = set() # emtpy set\n",
    "type(st)"
   ]
  },
  {
   "cell_type": "markdown",
   "id": "a7167f76",
   "metadata": {},
   "source": [
    "Empty curly braces <code>{}</code> will make an empty dictionary in Python"
   ]
  },
  {
   "cell_type": "code",
   "execution_count": 66,
   "id": "b62cc71d",
   "metadata": {},
   "outputs": [
    {
     "data": {
      "text/plain": [
       "dict"
      ]
     },
     "execution_count": 66,
     "metadata": {},
     "output_type": "execute_result"
    }
   ],
   "source": [
    "st = {} # NOT an empty set!\n",
    "type(st)"
   ]
  },
  {
   "cell_type": "code",
   "execution_count": 67,
   "id": "b435b356",
   "metadata": {},
   "outputs": [
    {
     "data": {
      "text/plain": [
       "set"
      ]
     },
     "execution_count": 67,
     "metadata": {},
     "output_type": "execute_result"
    }
   ],
   "source": [
    "st = {1}\n",
    "type(st)"
   ]
  },
  {
   "cell_type": "markdown",
   "id": "86688766",
   "metadata": {},
   "source": [
    "### Conditionals (10 min)\n",
    "\n",
    "- [Conditional statements](https://docs.python.org/3/tutorial/controlflow.html) allow us to write programs where only certain blocks of code are executed depending on the state of the program.\n",
    "- Let’s look at some examples and take note of the keywords, syntax and indentation.\n",
    "- Check out the [Python documentation](https://docs.python.org/3/tutorial/controlflow.html) and [Think Python (Chapter 5)](https://greenteapress.com/thinkpython/html/thinkpython006.html) for more information about conditional execution."
   ]
  },
  {
   "cell_type": "code",
   "execution_count": 69,
   "id": "69906dcf",
   "metadata": {},
   "outputs": [
    {
     "name": "stdin",
     "output_type": "stream",
     "text": [
      "What's your name? dhu\n"
     ]
    },
    {
     "name": "stdout",
     "output_type": "stream",
     "text": [
      "Hello dhu! That's a cool name.\n",
      "Nice to meet you!\n"
     ]
    }
   ],
   "source": [
    "name = input(\"What's your name?\")\n",
    "\n",
    "if name.lower() == 'mike':\n",
    "    print(\"That's my name too!\")\n",
    "elif name.lower() == 'santa':\n",
    "    print(\"That's a funny name.\")\n",
    "else:\n",
    "    print(\"Hello {}! That's a cool name.\".format(name))\n",
    "\n",
    "    print('Nice to meet you!')"
   ]
  },
  {
   "cell_type": "code",
   "execution_count": 53,
   "id": "30cf3ec6",
   "metadata": {},
   "outputs": [
    {
     "data": {
      "text/plain": [
       "False"
      ]
     },
     "execution_count": 53,
     "metadata": {},
     "output_type": "execute_result"
    }
   ],
   "source": [
    "bool(None)"
   ]
  },
  {
   "cell_type": "markdown",
   "id": "2bd722b3",
   "metadata": {},
   "source": [
    "The main points to notice:\n",
    "\n",
    "- Use keywords <code>if</code>, <code>elif</code> and <code>else</code>\n",
    "- The colon <code>:</code> ends each conditional expression\n",
    "- Indentation (by 4 empty space) defines code blocks\n",
    "- In an <code>if</code> statement, the first block whose conditional statement returns <span style=\"color:green\">True</span> is executed and the program exits the <code>if</code> block\n",
    "- <code>if</code> statements don’t necessarily need <code>elif</code> or <code>else</code>\n",
    "- <code>elif</code> lets us check several conditions\n",
    "- <code>else</code> lets us evaluate a default block if all other conditions are <span style=\"color:green\">False</span>\n",
    "-the end of the entire <code>if</code> statement is where the indentation returns to the same level as the first <code>if</code> keyword"
   ]
  },
  {
   "cell_type": "markdown",
   "id": "627fd0b9",
   "metadata": {},
   "source": [
    "If statements can also be nested inside of one another:"
   ]
  },
  {
   "cell_type": "code",
   "execution_count": null,
   "id": "b4dc5598",
   "metadata": {},
   "outputs": [],
   "source": [
    "name = input(\"What's your name?\")\n",
    "\n",
    "if name.lower() == 'mike':\n",
    "    print(\"That's my name too!\")\n",
    "elif name.lower() == 'santa':\n",
    "    print(\"That's a funny name.\")\n",
    "else:\n",
    "    print(\"Hello {0}! That's a cool name.\".format(name))\n",
    "    if name.lower().startswith(\"super\"):\n",
    "        print(\"Do you have superpowers?\")\n",
    "\n",
    "print('Nice to meet you!')"
   ]
  },
  {
   "cell_type": "markdown",
   "id": "6062bbaa",
   "metadata": {},
   "source": [
    "#### Inline if/else"
   ]
  },
  {
   "cell_type": "code",
   "execution_count": null,
   "id": "50e84425",
   "metadata": {},
   "outputs": [],
   "source": [
    "words = [\"the\", \"list\", \"of\", \"words\"]\n",
    "\n",
    "x = \"long list\" if len(words) > 10 else \"short list\"\n",
    "x"
   ]
  },
  {
   "cell_type": "code",
   "execution_count": null,
   "id": "e22ccde8",
   "metadata": {},
   "outputs": [],
   "source": [
    "if len(words) > 10:\n",
    "    x = \"long list\"\n",
    "else:\n",
    "    x = \"short list\"\n",
    "    \n",
    "x"
   ]
  }
 ],
 "metadata": {
  "kernelspec": {
   "display_name": "Python 3 (ipykernel)",
   "language": "python",
   "name": "python3"
  },
  "language_info": {
   "codemirror_mode": {
    "name": "ipython",
    "version": 3
   },
   "file_extension": ".py",
   "mimetype": "text/x-python",
   "name": "python",
   "nbconvert_exporter": "python",
   "pygments_lexer": "ipython3",
   "version": "3.10.12"
  },
  "vscode": {
   "interpreter": {
    "hash": "24cac5ef9c603e5145ee0a96d5b150cf4734a7e186add7367dfc94ea0e160b18"
   }
  }
 },
 "nbformat": 4,
 "nbformat_minor": 5
}
