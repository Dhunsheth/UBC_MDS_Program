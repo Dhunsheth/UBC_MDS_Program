{
 "cells": [
  {
   "cell_type": "code",
   "execution_count": null,
   "id": "e287379c-9ca3-43fa-bfbe-b3dedb59ce53",
   "metadata": {},
   "outputs": [],
   "source": [
    "# Python\n",
    "\n",
    "# QuUESTION 1:\n",
    "#     1. imports a module called random\n",
    "#     2. imports a module called random and names it rnd\n",
    "#     3. imports a function called random from the module random\n",
    "#     4. imports a function called random and names it rnd from the module random\n",
    "#     5. imports a sub-package called random of package numpy\n",
    "#     6. imports a module called numpy\n",
    "#     7. imports module Z and renames it T from sub-package Y of package X\n",
    "#     8. imports function NCBIWWW from sub-package Blast of package Bio "
   ]
  },
  {
   "cell_type": "code",
   "execution_count": 86,
   "id": "1c68104a-e386-4d18-b68a-c76cdecfe902",
   "metadata": {},
   "outputs": [
    {
     "name": "stdout",
     "output_type": "stream",
     "text": [
      "ON\n",
      "13.6\n"
     ]
    }
   ],
   "source": [
    "# QUESTION 2\n",
    "import json\n",
    "f = open('provdata.json')\n",
    "data = json.load(f)\n",
    "highest_prov = ''\n",
    "highest_pop = 0\n",
    "for i in data['data']:\n",
    "    for a in i:\n",
    "        try:\n",
    "            if float(i[a]) > highest_pop:\n",
    "                highest_pop = float(i[a])\n",
    "                highest_prov = i\n",
    "        except:\n",
    "            continue\n",
    "            \n",
    "\n",
    "for i in highest_prov:\n",
    "    print(highest_prov[i])"
   ]
  },
  {
   "cell_type": "code",
   "execution_count": 103,
   "id": "5790b178-76c3-431e-99a4-15d297793b2d",
   "metadata": {},
   "outputs": [
    {
     "name": "stdout",
     "output_type": "stream",
     "text": [
      "Data: \n",
      "6\n",
      "Data: \n",
      "5\n",
      "Data: \n",
      "4\n",
      "Data: \n",
      "7\n",
      "Data: \n",
      "8\n"
     ]
    }
   ],
   "source": [
    "# QUESTION 4\n",
    "\n",
    "######### SAMPLE 1\n",
    "# Prints the numbers from 1 to 10\n",
    "\n",
    "# for i in range(1,10):\n",
    "#   print(i)\n",
    "\n",
    "# syntax error - missing a ':' after range(1,10)\n",
    "\n",
    "\n",
    "######### SAMPLE 2\n",
    "# Allows user to enter a number until enters STOP. Multiplies number by 2. Handles incorrect user input.\n",
    "\n",
    "# while num != \"STOP\":\n",
    "#     num = (input(\"Enter a number:\"))\n",
    "#     if num.isnumeric():\n",
    "#         print(int(num)*2)\n",
    "#     else:\n",
    "#         num = num.upper()\n",
    "\n",
    "# syntax, logical and exception error\n",
    "# need to move first line into the while loop in case first thing user enters is STOP\n",
    "# indent for statements in loop was wrong\n",
    "# need to check if input is a number or string before casting it as an int value and multiplying it by 2\n",
    "# upper case all letters so it case sensitivity of user input doesn't matter - they can also enter stop\n",
    "\n",
    "\n",
    "######### SAMPLE 3\n",
    "# Prints out items in a list in between 4 and 8 inclusive -> assume you mean between values 4 and 8 & not in between indices 4 and 8\n",
    "\n",
    "data = [6, 5, 3, 4, 7, 1, 8]\n",
    "for i in range(0,len(data)):\n",
    "  if (data[i] >= 4) & (data[i] <= 8):\n",
    "      print(\"Data: \")\n",
    "      print(data[i])\n",
    "\n",
    "# logical error - length should be just the len(data) because ending is non-inclusive not +1\n",
    "# syntax error - use 1 '&', not 2\n",
    "# logical error - in if statement should be '<=' 8 not '<' 8\n",
    "# syntax error - indent of print statements should line up"
   ]
  },
  {
   "cell_type": "code",
   "execution_count": 129,
   "id": "697aaa16-3ee0-4f5a-8ae6-c20c6081d6e0",
   "metadata": {},
   "outputs": [
    {
     "name": "stdout",
     "output_type": "stream",
     "text": [
      "{1, 2, 3, 4, 5}\n",
      "<class 'set'>\n"
     ]
    }
   ],
   "source": [
    "# QUESTION 5\n",
    "set_example = {1, 2, 3, 4, 5}\n",
    "print(set_example)\n",
    "print(type(set_example))\n",
    "\n",
    "# link to set documentation used: https://docs.python.org/3/library/stdtypes.html#set-types-set-frozenset"
   ]
  }
 ],
 "metadata": {
  "kernelspec": {
   "display_name": "Python 3 (ipykernel)",
   "language": "python",
   "name": "python3"
  },
  "language_info": {
   "codemirror_mode": {
    "name": "ipython",
    "version": 3
   },
   "file_extension": ".py",
   "mimetype": "text/x-python",
   "name": "python",
   "nbconvert_exporter": "python",
   "pygments_lexer": "ipython3",
   "version": "3.10.12"
  }
 },
 "nbformat": 4,
 "nbformat_minor": 5
}
