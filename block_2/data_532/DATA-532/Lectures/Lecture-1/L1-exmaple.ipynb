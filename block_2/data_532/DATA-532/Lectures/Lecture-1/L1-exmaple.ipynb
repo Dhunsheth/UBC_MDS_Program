{
 "cells": [
  {
   "cell_type": "markdown",
   "metadata": {},
   "source": [
    "# LINEAR SEARCH AND  BINARY SEARCH"
   ]
  },
  {
   "cell_type": "markdown",
   "metadata": {},
   "source": [
    "PROBLEM: Emily possesses a set of cards labeled with numerical values. She organizes these cards in a descending order and places them face-down in a row on a table. She presents a challenge to Chris: to identify the card with a specified number by flipping over the minimal number of cards. Develop a function to help Chris in locating the desired card."
   ]
  },
  {
   "cell_type": "markdown",
   "metadata": {},
   "source": [
    "**The Method**\n",
    "Upon reading the problem, you may get some ideas on how to solve it and your first instinct might be to start writing code. This is not the optimal strategy and you may end up spending a longer time trying to solve the problem due to coding errors, or may not be able to solve it at all.\n",
    "\n",
    "Here's a systematic strategy we'll apply for solving problems:\n",
    "1. State the problem clearly. Identify the input & output formats.\n",
    "2. Come up with some example inputs & outputs. Try to cover all edge cases.\n",
    "3. Come up with a correct solution for the problem. State it in plain English.\n",
    "4. Implement the solution and test it using example inputs. Fix bugs, if any.\n",
    "5. Analyze the algorithm's complexity and identify inefficiencies, if any.\n",
    "6. Apply the right technique to overcome the inefficiency. Repeat steps 3 to 6."
   ]
  },
  {
   "cell_type": "markdown",
   "metadata": {},
   "source": [
    "**1. Problem**\n",
    "We need to write a program to find the position of a given number in a list of numbers arranged in decreasing order. We also need to minimize the number of times we access elements from the list.\n",
    "\n"
   ]
  },
  {
   "cell_type": "code",
   "execution_count": null,
   "metadata": {},
   "outputs": [],
   "source": [
    "tests = []\n",
    "\n",
    "# n occurs in the middle\n",
    "tests.append({\n",
    "    'input': {\n",
    "        'A': [12, 9, 7, 5, 4, 3, 1, 0],\n",
    "        'n': 1\n",
    "    },\n",
    "    'x': 6\n",
    "})\n",
    "\n",
    "# n is the first element\n",
    "tests.append({\n",
    "    'input': {\n",
    "        'A': [12, 9, 7, 5, 4, 3, 1, 0],\n",
    "        'n': 12\n",
    "    },\n",
    "    'x': 0\n",
    "})\n",
    "\n",
    "# n is the last element\n",
    "tests.append({\n",
    "    'input': {\n",
    "        'A': [12, 9, 7, 5, 4, 3, 1, 0],\n",
    "        'n': 0\n",
    "    },\n",
    "    'x': 7\n",
    "})\n",
    "\n",
    "# n is the last element\n",
    "tests.append({\n",
    "    'input': {\n",
    "        'A': [12, 9, 7, 5, 4, 3, 1, 0],\n",
    "        'n': 2\n",
    "    },\n",
    "    'x': -1\n",
    "})\n",
    "\n",
    "# A is empty\n",
    "tests.append({\n",
    "    'input': {\n",
    "        'A': [],\n",
    "        'n': 2\n",
    "    },\n",
    "    'x': -1\n",
    "})"
   ]
  },
  {
   "cell_type": "markdown",
   "metadata": {},
   "source": [
    "## Linear Search (brute force)"
   ]
  },
  {
   "cell_type": "code",
   "execution_count": null,
   "metadata": {},
   "outputs": [],
   "source": [
    "def locate_card(A, n):\n",
    "    x = -1\n",
    "    for i in range(0, len(A)):\n",
    "        if A[i]==n:\n",
    "            x=i\n",
    "            break\n",
    "    return (x)"
   ]
  },
  {
   "cell_type": "code",
   "execution_count": null,
   "metadata": {},
   "outputs": [],
   "source": [
    "for i in range (0, len(tests)):\n",
    "    result = locate_card(tests[i]['input']['A'], tests[i]['input']['n'])\n",
    "    print(i,result== tests[i]['x'])"
   ]
  },
  {
   "cell_type": "markdown",
   "metadata": {},
   "source": [
    "**5. Time complexity**\n",
    "\n",
    "Time complexity is O(n). It has linear complexity, so it will grow linearly with N.\n",
    "\n",
    "- Inefficiencies: There is no need to iterate through all the elements in the array.\n",
    "\n",
    "**6. Apply the right technique**\n",
    "\n",
    "Make the algorithm more efficient using binary searach."
   ]
  },
  {
   "cell_type": "markdown",
   "metadata": {},
   "source": [
    "## Binary Search (Homework)"
   ]
  }
 ],
 "metadata": {
  "kernelspec": {
   "display_name": "DATA531",
   "language": "python",
   "name": "python3"
  },
  "language_info": {
   "codemirror_mode": {
    "name": "ipython",
    "version": 3
   },
   "file_extension": ".py",
   "mimetype": "text/x-python",
   "name": "python",
   "nbconvert_exporter": "python",
   "pygments_lexer": "ipython3",
   "version": "3.9.12"
  }
 },
 "nbformat": 4,
 "nbformat_minor": 2
}
