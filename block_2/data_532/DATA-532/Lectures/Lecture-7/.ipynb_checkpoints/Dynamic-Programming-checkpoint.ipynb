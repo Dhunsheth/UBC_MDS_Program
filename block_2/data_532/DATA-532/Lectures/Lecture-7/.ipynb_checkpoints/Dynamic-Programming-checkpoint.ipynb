{
 "cells": [
  {
   "cell_type": "markdown",
   "metadata": {},
   "source": [
    "# DATA 532 Lecture 7\n"
   ]
  },
  {
   "cell_type": "code",
   "execution_count": 14,
   "metadata": {},
   "outputs": [],
   "source": [
    "import functools\n",
    "import numpy as np"
   ]
  },
  {
   "cell_type": "markdown",
   "metadata": {},
   "source": [
    "## Fibonacci sequence\n",
    "\n",
    "- Consider the Fibonacci sequence $0,1,1,2,3,5,8,13,\\ldots$.\n",
    "- How to compute this?"
   ]
  },
  {
   "cell_type": "markdown",
   "metadata": {},
   "source": [
    "#### Simple Loop"
   ]
  },
  {
   "cell_type": "code",
   "execution_count": 16,
   "metadata": {},
   "outputs": [
    {
     "data": {
      "text/plain": [
       "13"
      ]
     },
     "execution_count": 16,
     "metadata": {},
     "output_type": "execute_result"
    }
   ],
   "source": [
    "def ite_fibo(n):\n",
    "    f = np.zeros(n+1, dtype=int)\n",
    "    f[1] = 1\n",
    "    \n",
    "    for i in range(2,n+1):\n",
    "        f[i] = f[i-1] + f[i-2]\n",
    "    \n",
    "    return f[n]\n",
    "\n",
    "ite_fibo(7)"
   ]
  },
  {
   "cell_type": "markdown",
   "metadata": {},
   "source": [
    "#### Recursive Loop :\n",
    "- The code is cleaner than ``ite_fibo``"
   ]
  },
  {
   "cell_type": "code",
   "execution_count": 17,
   "metadata": {},
   "outputs": [
    {
     "data": {
      "text/plain": [
       "13"
      ]
     },
     "execution_count": 17,
     "metadata": {},
     "output_type": "execute_result"
    }
   ],
   "source": [
    "def recur_fibo(n):\n",
    "    if n <= 1:\n",
    "        return n\n",
    "    \n",
    "    return recur_fibo(n-1) + recur_fibo(n-2)\n",
    "\n",
    "recur_fibo(7)"
   ]
  },
  {
   "cell_type": "markdown",
   "metadata": {},
   "source": [
    "#### How about the computation time?"
   ]
  },
  {
   "cell_type": "code",
   "execution_count": 18,
   "metadata": {},
   "outputs": [
    {
     "name": "stdout",
     "output_type": "stream",
     "text": [
      "Iterative:\n",
      "52 µs ± 0 ns per loop (mean ± std. dev. of 1 run, 1 loop each)\n",
      "Recursive:\n",
      "2.42 s ± 0 ns per loop (mean ± std. dev. of 1 run, 1 loop each)\n"
     ]
    }
   ],
   "source": [
    "print (\"Iterative:\")\n",
    "%timeit -n1 -r1 ite_fibo(35)\n",
    "\n",
    "print (\"Recursive:\")\n",
    "%timeit -n1 -r1 recur_fibo(35)\n"
   ]
  },
  {
   "cell_type": "markdown",
   "metadata": {},
   "source": [
    "### Using Dynamic Programming.\n",
    "Python has a a way to enable memoization, which is a technique often used in dynamic programming. It helps improving the performance of recursive functions by storing (caching) the results of previously computed function calls and reusing them when the same inputs are encountered again."
   ]
  },
  {
   "cell_type": "code",
   "execution_count": 22,
   "metadata": {},
   "outputs": [
    {
     "data": {
      "text/plain": [
       "13"
      ]
     },
     "execution_count": 22,
     "metadata": {},
     "output_type": "execute_result"
    }
   ],
   "source": [
    "# memoization in Python: Modify this function remembering what the inputs and outputs are so I don't call it over and over.\n",
    "@functools.lru_cache(maxsize=None) \n",
    "def recur_fibo(n):\n",
    "    if n <= 1:\n",
    "        return n\n",
    "    return recur_fibo(n-1) + recur_fibo(n-2)\n",
    "\n",
    "recur_fibo(7)"
   ]
  },
  {
   "cell_type": "code",
   "execution_count": 23,
   "metadata": {},
   "outputs": [
    {
     "name": "stdout",
     "output_type": "stream",
     "text": [
      "27.3 µs ± 0 ns per loop (mean ± std. dev. of 1 run, 1 loop each)\n"
     ]
    }
   ],
   "source": [
    "%timeit -n1 -r1 recur_fibo(35)"
   ]
  },
  {
   "cell_type": "markdown",
   "metadata": {},
   "source": [
    "## The shortest path in multistage graphs\n",
    "- Forward approach\n",
    "- Backward approach"
   ]
  },
  {
   "cell_type": "code",
   "execution_count": 25,
   "metadata": {},
   "outputs": [
    {
     "name": "stdout",
     "output_type": "stream",
     "text": [
      "Initialized vertex cost:[0, 99999999999999, 99999999999999, 99999999999999, 99999999999999, 99999999999999, 99999999999999, 99999999999999]\n",
      "\n",
      "Computed distance/vertex costs: [0, 1, 2, 5, 5, 7, 7, 9]\n",
      "\n",
      "Shortest path: [7, 6, 3, 0]\n",
      "\n",
      "Min cost of traversal is the cost of the target vertex, i.e. : 9\n"
     ]
    }
   ],
   "source": [
    "##### Forward approach -- Backward reasoning \n",
    "\n",
    "\n",
    "INF = 99999999999999\n",
    "\n",
    "adjMatrix = [\n",
    "    [0, 1, 2, 5, 0, 0, 0, 0],  # Vertex - S 0\n",
    "    [0, 0, 0, 0, 4, 11, 0, 0],  # Vertex - A 1\n",
    "    [0, 0, 0, 0, 9, 5, 16, 0],  # Vertex - B 2\n",
    "    [0, 0, 0, 0, 0, 0, 2, 0],  # Vertex - C 3\n",
    "    [0, 0, 0, 0, 0, 0, 0, 18],  # Vertex - D 4\n",
    "    [0, 0, 0, 0, 0, 0, 0, 13],  # Vertex - E 5\n",
    "    [0, 0, 0, 0, 0, 0, 0, 2],  # Vertex - F 6\n",
    "    [0, 0, 0, 0, 0, 0, 0, 0]  # Vertex - T 7\n",
    "]\n",
    "\n",
    "# Initialize vertex costs with Infinity. Set the source vertex (S) to 0.\n",
    "vertex_cost = [INF] * 8\n",
    "vertex_cost[0] = 0 #Leave the S vertex to 0. Forward approach --> From origin to destination\n",
    "\n",
    "# Initialize the path list\n",
    "path = [-1] * 8\n",
    "\n",
    "print('Initialized vertex cost:{}\\n'.format(vertex_cost))\n",
    "\n",
    "def getVertexCost(i):\n",
    "    other_nodes = adjMatrix[i]\n",
    "    min_cost = vertex_cost[i]\n",
    "\n",
    "    for j in range(len(other_nodes)):\n",
    "        if other_nodes[j]:\n",
    "            cost_j = adjMatrix[i][j] + vertex_cost[i]\n",
    "\n",
    "            if cost_j < vertex_cost[j]:\n",
    "                vertex_cost[j] = cost_j\n",
    "                # Update the path with the new minimum cost vertex\n",
    "                path[j] = i\n",
    "\n",
    "for i in range(0, len(adjMatrix)):\n",
    "    getVertexCost(i)\n",
    "\n",
    "print('Computed distance/vertex costs: {}'.format(vertex_cost))\n",
    "\n",
    "# Reconstruct the path using the 'path' list starting from vertex 7\n",
    "current_vertex = 7 # Backward reasoning --> From destination to origin\n",
    "shortest_path = [current_vertex]\n",
    "\n",
    "while current_vertex != 0:  # Assuming 0 is the target vertex (S).\n",
    "    current_vertex = path[current_vertex]\n",
    "    shortest_path.append(current_vertex)\n",
    "\n",
    "print('\\nShortest path: {}'.format(shortest_path))\n",
    "print('\\nMin cost of traversal is the cost of the target vertex, i.e. : {}'.format(vertex_cost[7]))\n"
   ]
  },
  {
   "cell_type": "code",
   "execution_count": 26,
   "metadata": {},
   "outputs": [
    {
     "name": "stdout",
     "output_type": "stream",
     "text": [
      "Initialized vertex cost:[99999999999999, 99999999999999, 99999999999999, 99999999999999, 99999999999999, 99999999999999, 99999999999999, 0]\n",
      "\n",
      "Computed distance/vertex costs: [9, 22, 18, 4, 18, 13, 2, 0]\n",
      "\n",
      "Shortest path: [0, 3, 6, 7]\n",
      "\n",
      "Min cost of traversal is the cost of start vertex, i.e. : 9\n"
     ]
    }
   ],
   "source": [
    "##### Backward approach -- Forward reasoning \n",
    "\n",
    "INF = 99999999999999\n",
    "\n",
    "adjMatrix = [\n",
    "    [0, 1, 2, 5, 0, 0, 0, 0],  # Vertex - S 0\n",
    "    [0, 0, 0, 0, 4, 11, 0, 0],  # Vertex - A 1\n",
    "    [0, 0, 0, 0, 9, 5, 16, 0],  # Vertex - B 2\n",
    "    [0, 0, 0, 0, 0, 0, 2, 0],  # Vertex - C 3\n",
    "    [0, 0, 0, 0, 0, 0, 0, 18],  # Vertex - D 4\n",
    "    [0, 0, 0, 0, 0, 0, 0, 13],  # Vertex - E 5\n",
    "    [0, 0, 0, 0, 0, 0, 0, 2],  # Vertex - F 6\n",
    "    [0, 0, 0, 0, 0, 0, 0, 0]  # Vertex - T 7\n",
    "]\n",
    "\n",
    "# Initialize vertex costs with Infinity.\n",
    "vertex_cost = [INF] * 8\n",
    "vertex_cost[-1] = 0 #Leave the T vertex to 0. Backward approach --> From destination to origin\n",
    "\n",
    "# Initialize the path list\n",
    "path = [0]*8\n",
    "\n",
    "print('Initialized vertex cost:{}\\n'.format(vertex_cost))\n",
    "\n",
    "def getVertexCost(i):\n",
    "    other_nodes = adjMatrix[i]\n",
    "    min_cost = vertex_cost[i]\n",
    "\n",
    "    if min_cost < INF:\n",
    "        return min_cost\n",
    "\n",
    "    for j in range(len(other_nodes)):\n",
    "        if other_nodes[j]:\n",
    "            cost_j = adjMatrix[i][j] + getVertexCost(j)\n",
    "\n",
    "            if cost_j < min_cost:\n",
    "                min_cost = cost_j\n",
    "                path[i] = j\n",
    "\n",
    "    return min_cost\n",
    "\n",
    "for i in sorted(range(0, len(adjMatrix) - 1), reverse=True):\n",
    "    vertex_cost[i] = getVertexCost(i)\n",
    "\n",
    "print('Computed distance/vertex costs: {}'.format(vertex_cost))\n",
    "\n",
    "# Reconstruct the path using the 'path' list\n",
    "current_vertex = 0 # forward reasoning --> From origin to destination\n",
    "shortest_path = [current_vertex]\n",
    "\n",
    "while current_vertex != 7:  # 7 is the target vertex (T). Backward approach\n",
    "    current_vertex = path[current_vertex]\n",
    "    shortest_path.append(current_vertex)\n",
    "\n",
    "print('\\nShortest path: {}'.format(shortest_path))\n",
    "print('\\nMin cost of traversal is the cost of end vertex, i.e. : {}'.format(vertex_cost[0]))\n"
   ]
  }
 ],
 "metadata": {
  "kernelspec": {
   "display_name": "Python 3.8.2 ('r-kernel')",
   "language": "python",
   "name": "python3"
  },
  "language_info": {
   "codemirror_mode": {
    "name": "ipython",
    "version": 3
   },
   "file_extension": ".py",
   "mimetype": "text/x-python",
   "name": "python",
   "nbconvert_exporter": "python",
   "pygments_lexer": "ipython3",
   "version": "3.9.12"
  },
  "vscode": {
   "interpreter": {
    "hash": "753d7113537b387b72782a0cc951b2283945434542ede86a4702dfaca059ddf6"
   }
  }
 },
 "nbformat": 4,
 "nbformat_minor": 4
}
