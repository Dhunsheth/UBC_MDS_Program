{
 "cells": [
  {
   "cell_type": "markdown",
   "metadata": {},
   "source": [
    "# DATA 532 Lab 2\n"
   ]
  },
  {
   "cell_type": "markdown",
   "metadata": {},
   "source": [
    "#### This lab will be graded based on the following rubrics:\n",
    "   - **1) Code** : \n",
    "      - Accuracy: The code runs perfectly and the output is clear without being unnecessarily verbose.  \n",
    "      - Quality: Code readability is exceptional and code functionality is unambiguous. For example:\n",
    "         * Variable names are clear and self-documenting, an appropriate amount of whitespace is used to maximize visibility, tabs and spaces are not mixed for indentation, sufficient comments are given.\n",
    "         * All functions have proper documentation (docstrings in Python). \n",
    "         * Overall, code organization and documentation is impeccable. \n",
    "         * Code repetition is minimized via the use of loops/mapping functions, functions or classes or scripts/files as needed without becoming overly complicated. \n",
    "         * Functions are short, concise, and cohesive without losing clarity; code can be easily modified. \n",
    "         * Tests are present to ensure functions work as expected. Exceptions are caught and thrown if necessary.\n",
    "      - Efficiency: Code is as fast as it can reasonably be given the specifications of the problem.\n",
    "  - **2) Use a systematic strategy to solve the exercises:**\n",
    "      1. State the problem clearly. Identify the input & output formats.\n",
    "      2. Come up with some example inputs & outputs. Try to cover all edge cases.\n",
    "      3. Come up with a correct solution for the problem. \n",
    "      4. Implement the solution and test it using example inputs.            "
   ]
  },
  {
   "cell_type": "markdown",
   "metadata": {},
   "source": [
    "### Exercise 1 -  Stacks (3 Marks)\n",
    "\n",
    "Write a Python function that uses the 'Stack' class defined below and performs the following tasks:\n",
    "\n",
    "1. Complete the Stack class by completing all of the class methods. Note you cannot add/remove arguments to the given code (0.5 mark)\n",
    "2. Add an auxiliary method to the class, called ``size``, that returns the capacity of the stack (0.25 marks)\n",
    "3. Add an auxiliary method to the class, called ``peek``, that returns the top value on the stack without eliminating it (0.25 mark)\n",
    "4. Add an auxiliary method to the class, called ``getStackItems``, that returns all of the elements in the Stack (0.5 mark)\n",
    "5. Write a python function, called ``reverse``, that uses your stack implementation and takes a string as an input and reverses it (1 mark)"
   ]
  },
  {
   "cell_type": "code",
   "execution_count": 3,
   "metadata": {},
   "outputs": [],
   "source": [
    "class Stack:\n",
    "    def __init__(self):\n",
    "        \"\"\"\n",
    "        Initializing class Stack\n",
    "        \"\"\"\n",
    "        self.items = []\n",
    "        \n",
    "    def isEmpty(self):\n",
    "        \"\"\"\n",
    "        Function takes no arguments and returns True of stack is empty or false if it isn't\n",
    "        \"\"\"\n",
    "        if len(self.items) == 0:\n",
    "            return True\n",
    "        else:\n",
    "            return False\n",
    "         \n",
    "    def push(self,item):\n",
    "        \"\"\"\n",
    "        Adds the item at the top of the stack\n",
    "        \"\"\"\n",
    "        self.items[len(self.items):] = [item]\n",
    "        \n",
    "    def pop(self):\n",
    "        \"\"\"\n",
    "        Pops the top most item in the stack assuming stack is non-empty\n",
    "        \"\"\"\n",
    "        if not self.items: # (not self) return true if stack (list) is empty\n",
    "            raise IndexError('List is empty')\n",
    "        else:\n",
    "            top = self.items[-1]\n",
    "            del self.items[-1]\n",
    "        return top\n",
    "\n",
    "    def size(self):\n",
    "        \"\"\"\n",
    "        Returns size of of stack\n",
    "        \"\"\"\n",
    "        return len(self.items)\n",
    "    \n",
    "    def peek(self):\n",
    "        \"\"\"\n",
    "        Returns top value of stack\n",
    "        \"\"\"\n",
    "        return self.items[-1]\n",
    "\n",
    "    def getStackItems(self):\n",
    "        \"\"\"\n",
    "        returns all items in the stack\n",
    "        \"\"\"\n",
    "        return self.items[:]\n",
    "\n",
    "def reverse(string):\n",
    "    \"\"\"\n",
    "    Reverses the string and returns the reversed string\n",
    "    \"\"\"\n",
    "    val = Stack()\n",
    "    reversed_string = \"\"\n",
    "    for i in string:\n",
    "        val.push(i)\n",
    "    for j in range(0,len(string)):\n",
    "        reversed_string += val.pop() \n",
    "    return reversed_string\n",
    "        \n",
    "        "
   ]
  },
  {
   "cell_type": "code",
   "execution_count": 17,
   "metadata": {},
   "outputs": [
    {
     "name": "stdout",
     "output_type": "stream",
     "text": [
      "Reversed string: 235ATAD\n",
      "Size of stack: 10\n",
      "Peek value of stack: S\n",
      "Get Stack function: ['D', 'H', 'U', 'N', ' ', 'R', 'O', 'C', 'K', 'S']\n"
     ]
    }
   ],
   "source": [
    "import random\n",
    "\n",
    "y = Stack()\n",
    "for i in \"DHUN ROCKS\":\n",
    "    y.push(i)\n",
    "\n",
    "assert y.items == ['D', 'H', 'U', 'N', ' ', 'R', 'O', 'C', 'K', 'S']\n",
    "assert y.isEmpty() == False\n",
    "\n",
    "print(f\"Reversed string: {reverse('DATA532')}\")\n",
    "print(f\"Size of stack: {y.size()}\")\n",
    "print(f\"Peek value of stack: {y.peek()}\")\n",
    "print(f\"Get Stack function: {y.getStackItems()}\")"
   ]
  },
  {
   "cell_type": "markdown",
   "metadata": {},
   "source": [
    "### Exercise 2 -  Queues (4 Marks)\n",
    "\n",
    "You are developing a printer management system. \n",
    "The system receives print jobs from various users. Each print job has a priority assigned to it, with a higher number indicating a higher priority. The system should efficiently handle print jobs based on their priorities.\n",
    "\n",
    "Please complete the implementation of the system using queues. Note that:\n",
    "- The ``PrinterQueue`` class has the ``enqueue`` method that adds the jobs from various users. The job is a doceument (string) and the priority is an integer. (1 mark)\n",
    "- The ``PrinterQueue`` class has the ``dequeue`` method that removes the job and the assigned priority. This method should return both the job and the assigned priority. (2 marks)\n",
    "- The ``PrinterQueue`` class has two auxiliary methods ``is_empty``, which returns whether or not the queue is empty, and ``process_print_jobs``, which process and prints the jobs. (1 mark)\n"
   ]
  },
  {
   "cell_type": "code",
   "execution_count": 18,
   "metadata": {},
   "outputs": [
    {
     "name": "stdout",
     "output_type": "stream",
     "text": [
      "Document A came in first - before Document B, so Document A is dequeued/printed before B\n",
      "Printing job: Document D, Priority: 5\n",
      "Printing job: Document E, Priority: 4\n",
      "Printing job: Document C, Priority: 2\n",
      "Printing job: Document A, Priority: 1\n",
      "Printing job: Document B, Priority: 1\n"
     ]
    }
   ],
   "source": [
    "class PrinterQueue:\n",
    "    def __init__(self):\n",
    "        \"\"\"\n",
    "        Initializing the queue\n",
    "        \"\"\"\n",
    "        self.print_queue = []\n",
    "\n",
    "    def enqueue(self, job, priority):\n",
    "        \"\"\"\n",
    "        The enqueue method inserts the job into the print queue based on its priority (the list is in descending order with highest priority first) \n",
    "        \"\"\"\n",
    "        if len(self.print_queue) == 0:\n",
    "            self.print_queue.append([job,priority])\n",
    "        else:\n",
    "            n = len(self.print_queue)\n",
    "            inserted = False\n",
    "            for i in range(n,0,-1):\n",
    "                if self.print_queue[i-1][1] >= priority:\n",
    "                    self.print_queue.insert(i,[job,priority])\n",
    "                    inserted = True\n",
    "                    break\n",
    "            if inserted == False:\n",
    "                self.print_queue.insert(0,[job,priority])     \n",
    "\n",
    "    def dequeue(self):\n",
    "        \"\"\"\n",
    "        The dequeue method removes the job in the first position of the queue/list because the list is already ordered in descending order.\n",
    "        Checks if queue is empty or not.\n",
    "        \"\"\"\n",
    "        if not self.is_empty():\n",
    "            job = self.print_queue[0][0]\n",
    "            highest_priority = self.print_queue[0][1]\n",
    "            del self.print_queue[0]      \n",
    "            return job, highest_priority\n",
    "        else:\n",
    "            raise Error('Queue is empty')\n",
    "\n",
    "    def is_empty(self):\n",
    "        \"\"\"\n",
    "        Checks if queue is empty or not\n",
    "        \"\"\"\n",
    "        return len(self.print_queue) == 0\n",
    "\n",
    "\n",
    "    def process_print_jobs(self):\n",
    "        \"\"\"\n",
    "        Prints the entire print queue based on priority.\n",
    "        \"\"\"\n",
    "        while not self.is_empty():\n",
    "            # processing the jobs\n",
    "            job, priority = self.dequeue()\n",
    "            print(f\"Printing job: {job}, Priority: {priority}\")\n",
    "            \n",
    "\n",
    "# printer = PrinterQueue()\n",
    "# printer.enqueue(\"Document A\", 3)\n",
    "# printer.enqueue(\"Document B\", 1)\n",
    "# printer.enqueue(\"Document C\", 2)\n",
    "# printer.enqueue(\"Document D\", 5)\n",
    "# printer.enqueue(\"Document E\", 4)\n",
    "\n",
    "# printer.process_print_jobs()\n",
    "\n",
    "print(\"Document A came in first - before Document B, so Document A is dequeued/printed before B\")\n",
    "printer = PrinterQueue()\n",
    "printer.enqueue(\"Document A\", 1)\n",
    "printer.enqueue(\"Document B\", 1)\n",
    "printer.enqueue(\"Document C\", 2)\n",
    "printer.enqueue(\"Document D\", 5)\n",
    "printer.enqueue(\"Document E\", 4)\n",
    "\n",
    "printer.process_print_jobs()\n"
   ]
  },
  {
   "cell_type": "markdown",
   "metadata": {},
   "source": [
    "``Expected Output``:\n",
    "\n",
    "```\n",
    "Printing job: Document D, Priority: 5\n",
    "Printing job: Document E, Priority: 4\n",
    "Printing job: Document A, Priority: 3\n",
    "Printing job: Document C, Priority: 2\n",
    "Printing job: Document B, Priority: 1\n",
    "```"
   ]
  },
  {
   "cell_type": "markdown",
   "metadata": {},
   "source": [
    "### EXERCISE 3: Hashing (3 Marks)\n",
    "\n",
    "Given the following input (4322, 1334, 1471, 9679, 1989, 6171, 6173, 4199) and the hash function x mod 10, which of the inputs map to a same hash value? Write your own implementation of a hash function and pass all the values to it to see. (1 mark)"
   ]
  },
  {
   "cell_type": "code",
   "execution_count": 19,
   "metadata": {},
   "outputs": [
    {
     "name": "stdout",
     "output_type": "stream",
     "text": [
      "Index of original value 3 Original value 9679 Collision Value 1989\n",
      "Index of original value 2 Original value 1471 Collision Value 6171\n",
      "Index of original value 3 Original value 9679 Collision Value 4199\n",
      "[2, 4, 1, 9, 9, 1, 3, 9]\n"
     ]
    }
   ],
   "source": [
    "def myHash(x):\n",
    "    \"\"\"\n",
    "    the hashing function which returns the hashed value of x mod 10\n",
    "    \"\"\"\n",
    "    return x % 10\n",
    "\n",
    "vals_to_check = [4322, 1334, 1471, 9679, 1989, 6171, 6173, 4199]\n",
    "hashed_vals = []\n",
    "for i in vals_to_check:\n",
    "    temp_hash_val = myHash(i)\n",
    "    if temp_hash_val in hashed_vals:\n",
    "        print(f\"Index of original value {hashed_vals.index(temp_hash_val)} Original value {vals_to_check[hashed_vals.index(temp_hash_val)]} Collision Value {i}\" )\n",
    "    hashed_vals.append(temp_hash_val) \n",
    "print(hashed_vals)\n",
    "    "
   ]
  },
  {
   "cell_type": "markdown",
   "metadata": {},
   "source": [
    "In a hash table of size 13 which index positions would the following two keys map to 27, 130 using the idea of direct addressing and linear probing ? (0.5 Marks)"
   ]
  },
  {
   "cell_type": "code",
   "execution_count": 20,
   "metadata": {},
   "outputs": [
    {
     "name": "stdout",
     "output_type": "stream",
     "text": [
      "As seen from the hashed values, there is no collision between the hashed values so direct addressing can be used, linear probing does not need to be used [1, 0]\n"
     ]
    }
   ],
   "source": [
    "# write your explanation here\n",
    "def new_myHash(x):\n",
    "    \"\"\"\n",
    "    the hashing function which returns the hashed value of x mod 13\n",
    "    \"\"\"\n",
    "    return x % 13\n",
    "\n",
    "hashed_val = []\n",
    "for i in [27,130]:\n",
    "    hashed_val.append(new_myHash(i))\n",
    "\n",
    "print(f\"As seen from the hashed values, there is no collision between the hashed values so direct addressing can be used, linear probing does not need to be used {hashed_val}\")\n",
    "\n",
    "# As seen from the hashed values, there is no collision between the hashed values so direct addressing can be used, \n",
    "# Linear probing does not need to be used."
   ]
  },
  {
   "cell_type": "markdown",
   "metadata": {},
   "source": [
    "Write a hash function that takes input as a special class of strings called Anagrams that causes collision for anagrams (examples are listed below) (1.5 mark)\n",
    "\n",
    "- restful and fluster \n",
    "- elbow and below\n",
    "- dusty and study \n",
    "- stressed and desserts\n",
    "\n",
    "\n",
    "HINT: You might want to use the Python function ``ord()`` \n",
    "\n",
    "\n"
   ]
  },
  {
   "cell_type": "code",
   "execution_count": 21,
   "metadata": {},
   "outputs": [
    {
     "name": "stdout",
     "output_type": "stream",
     "text": [
      "As seen by using the anagrams we run into a collision [['restful', 773], ['fluster', 773]]\n",
      "Fix this using linear probing\n",
      "Program now handles collisions through linear probing and following list shows solved collision [['restful', 773], ['fluster', 774]]\n"
     ]
    }
   ],
   "source": [
    "# write your code here\n",
    "def special_hash(string):\n",
    "    \"\"\"\n",
    "    the hashing function which returns the sum of ord(i) for each character in the string\n",
    "    \"\"\"\n",
    "    hashed_val = 0\n",
    "    for i in string:\n",
    "        hashed_val += ord(i)\n",
    "    return hashed_val\n",
    "\n",
    "\n",
    "test = [\"restful\", \"fluster\"]\n",
    "issue = []\n",
    "for i in test:\n",
    "    issue.append([i,special_hash(i)])\n",
    "print(f\"As seen by using the anagrams we run into a collision {issue}\")\n",
    "\n",
    "print(\"Fix this using linear probing\")\n",
    "used_hashed_index = []\n",
    "issue = []\n",
    "for i in test:\n",
    "    val = special_hash(i)\n",
    "    if val in used_hashed_index:\n",
    "        while val in used_hashed_index:\n",
    "            val += 1\n",
    "    used_hashed_index.append(val)\n",
    "    issue.append([i,val])\n",
    "print(f\"Program now handles collisions through linear probing and following list shows solved collision {issue}\")\n",
    "    "
   ]
  }
 ],
 "metadata": {
  "anaconda-cloud": {},
  "kernelspec": {
   "display_name": "Python 3 (ipykernel)",
   "language": "python",
   "name": "python3"
  },
  "language_info": {
   "codemirror_mode": {
    "name": "ipython",
    "version": 3
   },
   "file_extension": ".py",
   "mimetype": "text/x-python",
   "name": "python",
   "nbconvert_exporter": "python",
   "pygments_lexer": "ipython3",
   "version": "3.10.12"
  },
  "vscode": {
   "interpreter": {
    "hash": "31f2aee4e71d21fbe5cf8b01ff0e069b9275f58929596ceb00d14d90e3e16cd6"
   }
  }
 },
 "nbformat": 4,
 "nbformat_minor": 4
}
