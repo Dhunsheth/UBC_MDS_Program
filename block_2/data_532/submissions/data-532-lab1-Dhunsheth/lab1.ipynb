{
 "cells": [
  {
   "cell_type": "markdown",
   "metadata": {},
   "source": [
    "# DATA 532 Lab 1"
   ]
  },
  {
   "cell_type": "markdown",
   "metadata": {},
   "source": [
    "### A note for this lab\n",
    "#### This lab will be graded based on the following rubrics:\n",
    "   - **1) Code** : \n",
    "      - Accuracy: The code runs perfectly and the output is clear without being unnecessarily verbose.  \n",
    "      - Quality: Code readability is exceptional and code functionality is unambiguous. For example:\n",
    "         * Variable names are clear and self-documenting, an appropriate amount of whitespace is used to maximize visibility, tabs and spaces are not mixed for indentation, sufficient comments are given.\n",
    "         * All functions have proper documentation (docstrings in Python). \n",
    "         * Overall, code organization and documentation is impeccable. \n",
    "         * Code repetition is minimized via the use of loops/mapping functions, functions or classes or scripts/files as needed without becoming overly complicated. \n",
    "         * Functions are short, concise, and cohesive without losing clarity; code can be easily modified. \n",
    "         * Tests are present to ensure functions work as expected. Exceptions are caught and thrown if necessary.\n",
    "      - Efficiency: Code is as fast as it can reasonably be given the specifications of the problem.\n",
    "   - **2) Reasoning**: Mastery of the learning material is demonstrated, original ideas may be presented.  In the case of short-answer questions, the correct method was used and the correct result attained. Analysis is thorough and exhaustive without being drawn out or lacking focus. Thesis is clear and the arguments that support it are flawless and very well-reasoned, leaving no obvious gaps, and are communicated clearly.\n",
    "    \n",
    "### Exercise 1 - searching in arrays (2.5 marks)\n",
    "1. Write a Python function `search_unsorted` that takes in an unsorted list/array and a value, and searches to see if that value is in the array. You should use a loop to do this. (0.5 mark) \n",
    "2. Write a Python function `search_sorted` that takes in an _sorted_ list/array and a value, and searches to see if that value is in the array. Use binary search for this. (1 mark) \n",
    "3. What is the time complexity of these two operations? Answer in big-O notatio and explain your answer. You can use LaTeX directly within Markdown here, to write equations. For example, $\\mathcal{O}(n^3)$ is written as `$\\mathcal{O}(n^3)$`. (0.5 mark)\n",
    "4. Test your answer above empirically. Some further info: (0.5 mark)\n",
    "   * Generate the array with random integers between 0 and $10^7$ using `numpy.random.randint` \n",
    "   * check to see if the number 999 is in the array\n",
    "   * To sort the array, use `array.sort()`\n",
    "   * To time a line of code, you can use `timeit`. An example is given below.\n",
    "   * Use array sizes $10^2$, $10^3$, $10^4$, $10^5$, $10^6$, and $10^7$\n",
    "   * Present your results in a Markdown table. A skeleton of the table is given below\n",
    "\n",
    "Note: Python already has syntax for checking whether an array contains a particular value. The syntax is `key in data`. Empirically measure the speed of this method and compare it with your two functions. Try to explain your observations."
   ]
  },
  {
   "cell_type": "code",
   "execution_count": 1,
   "metadata": {},
   "outputs": [
    {
     "name": "stdout",
     "output_type": "stream",
     "text": [
      "[8 1 8 6 0 0 6 5 6 5]\n",
      "True\n"
     ]
    }
   ],
   "source": [
    "import numpy\n",
    "def search_unsorted(data, key):\n",
    "    \"\"\"Does a linear search on data to check if key is in data or not.\n",
    "\n",
    "    Keyword arguments:\n",
    "    data -- unsorted numpy array\n",
    "    key -- the value to search for\n",
    "\n",
    "    Returns a bool True if key is found in data \n",
    "    or false if key not found in data\n",
    "    \"\"\"\n",
    "    for element in data:\n",
    "        if key == element:\n",
    "            return True\n",
    "    return False\n",
    "\n",
    "# Testing function\n",
    "A = numpy.random.randint(0,10, size = 10)\n",
    "print(A)\n",
    "print(search_unsorted(A,8))"
   ]
  },
  {
   "cell_type": "code",
   "execution_count": 2,
   "metadata": {},
   "outputs": [
    {
     "name": "stdout",
     "output_type": "stream",
     "text": [
      "[0 0 1 2 3 3 4 4 5 8]\n",
      "True\n"
     ]
    }
   ],
   "source": [
    "import numpy\n",
    "def search_sorted(data, key):\n",
    "    \"\"\"Does a binary search on data to check if key is in data or not.\n",
    "\n",
    "    Keyword arguments:\n",
    "    data -- sorted numpy array\n",
    "    key -- the value to search for\n",
    "\n",
    "    Returns a bool True if key is found in data \n",
    "    or false if key not found in data\n",
    "    \"\"\"\n",
    "    begin = 0\n",
    "    end = len(data) - 1\n",
    "    if len(data) == 0:\n",
    "        return \"List size 0\"\n",
    "    else:\n",
    "        while begin <= end: # exit condition\n",
    "            mid = (begin + end)//2 # finding middle\n",
    "            if data[mid] == key:\n",
    "                return True\n",
    "                break\n",
    "            elif data[mid] > key: # changing begin or end pointer depending on is key is > or < middle value\n",
    "                end = mid - 1\n",
    "            else:\n",
    "                begin = mid + 1\n",
    "        return False\n",
    "        \n",
    "# Testing function\n",
    "A = numpy.random.randint(0,10, size = 10)\n",
    "A = numpy.sort(A)\n",
    "print(A)\n",
    "print(search_sorted(A,8))"
   ]
  },
  {
   "cell_type": "markdown",
   "metadata": {},
   "source": [
    "## Exercise 1 \n",
    "#### Part 3\n",
    "**search_unsorted()** has time complexity $\\mathcal{O}(n)$ because in a worst-case scenario, you have to check every single value in the array. \n",
    "\n",
    "**search_sorted()** has time complexity $\\mathcal{O}(log(n))$ because in a worst-case scenario, the list is cut in half on each iteration. So suppose we have $n=2^x => x=log(n)$, thus binary search has runtime complexity $\\mathcal{O}(log(n))$.\n"
   ]
  },
  {
   "cell_type": "code",
   "execution_count": 10,
   "metadata": {},
   "outputs": [
    {
     "name": "stdout",
     "output_type": "stream",
     "text": [
      "Unsorted runtime for 100\n",
      "7.08 µs ± 88 ns per loop (mean ± std. dev. of 7 runs, 100,000 loops each)\n",
      "\n",
      "Sorted runtime for 100\n",
      "1.4 µs ± 82.1 ns per loop (mean ± std. dev. of 7 runs, 1,000,000 loops each)\n",
      "\n",
      "Python in function runtime for 100\n",
      "2.27 µs ± 117 ns per loop (mean ± std. dev. of 7 runs, 100,000 loops each)\n",
      "\n",
      "Unsorted runtime for 1000\n",
      "69.8 µs ± 2.75 µs per loop (mean ± std. dev. of 7 runs, 10,000 loops each)\n",
      "\n",
      "Sorted runtime for 1000\n",
      "2.12 µs ± 57.7 ns per loop (mean ± std. dev. of 7 runs, 100,000 loops each)\n",
      "\n",
      "Python in function runtime for 1000\n",
      "2.62 µs ± 91.6 ns per loop (mean ± std. dev. of 7 runs, 100,000 loops each)\n",
      "\n",
      "Unsorted runtime for 10000\n",
      "691 µs ± 27.7 µs per loop (mean ± std. dev. of 7 runs, 1,000 loops each)\n",
      "\n",
      "Sorted runtime for 10000\n",
      "3.12 µs ± 75.8 ns per loop (mean ± std. dev. of 7 runs, 100,000 loops each)\n",
      "\n",
      "Python in function runtime for 10000\n",
      "5.68 µs ± 94.8 ns per loop (mean ± std. dev. of 7 runs, 100,000 loops each)\n",
      "\n",
      "Unsorted runtime for 100000\n",
      "6.88 ms ± 238 µs per loop (mean ± std. dev. of 7 runs, 100 loops each)\n",
      "\n",
      "Sorted runtime for 100000\n",
      "3.75 µs ± 61 ns per loop (mean ± std. dev. of 7 runs, 100,000 loops each)\n",
      "\n",
      "Python in function runtime for 100000\n",
      "36.5 µs ± 683 ns per loop (mean ± std. dev. of 7 runs, 10,000 loops each)\n",
      "\n",
      "Unsorted runtime for 1000000\n",
      "67.3 ms ± 1.39 ms per loop (mean ± std. dev. of 7 runs, 10 loops each)\n",
      "\n",
      "Sorted runtime for 1000000\n",
      "5.68 µs ± 26.2 ns per loop (mean ± std. dev. of 7 runs, 100,000 loops each)\n",
      "\n",
      "Python in function runtime for 1000000\n",
      "470 µs ± 49.2 µs per loop (mean ± std. dev. of 7 runs, 1,000 loops each)\n",
      "\n",
      "Unsorted runtime for 10000000\n",
      "490 ms ± 13.7 ms per loop (mean ± std. dev. of 7 runs, 1 loop each)\n",
      "\n",
      "Sorted runtime for 10000000\n",
      "5.33 µs ± 95.5 ns per loop (mean ± std. dev. of 7 runs, 100,000 loops each)\n",
      "\n",
      "Python in function runtime for 10000000\n",
      "6.59 ms ± 432 µs per loop (mean ± std. dev. of 7 runs, 100 loops each)\n",
      "\n"
     ]
    }
   ],
   "source": [
    "# Example of generating random integers and timing code with timeit\n",
    "import numpy\n",
    "import numpy.random as npr\n",
    "#array_size = int(10e7)\n",
    "x = []\n",
    "size = [int(10**2),int(10**3),int(10**4), int(10**5), int(10**6), int(10**7)]\n",
    "for i in range(len(size)):\n",
    "    x.append(npr.randint(int(10**7), size = size[i]))\n",
    "    # time for unsorted\n",
    "    print(\"Unsorted runtime for \" + str(size[i]))\n",
    "    %timeit search_unsorted(x[i], 999)\n",
    "    print(\"\")\n",
    "    # time for sorted, sorting list before putting it in timeit\n",
    "    print(\"Sorted runtime for \" + str(size[i]))\n",
    "    x_sorted = numpy.sort(x[i])\n",
    "    %timeit search_sorted(x_sorted, 999)\n",
    "    print(\"\")\n",
    "    # time for python \n",
    "    print(\"Python in function runtime for \" + str(size[i]))\n",
    "    %timeit 999 in x[i]\n",
    "    print(\"\")"
   ]
  },
  {
   "cell_type": "markdown",
   "metadata": {},
   "source": [
    "My results:\n",
    "\n",
    "| Array size |  Time spent when unsorted | Time spent when sorted | Time spent by Python's `in` |\n",
    "|------------|---------------------------|------------------------|-----------------------------|\n",
    "| $10^2$     |7.08 µs                    |1.40 µs                 |2.27 µs                      |\n",
    "| $10^3$     |69.8 µs                    |2.12 µs                 |2.62 µs                      |\n",
    "| $10^4$     |691 µs                     |3.12 µs                 |5.68 µs                      |\n",
    "| $10^5$     |6.88 ms                    |3.75 µs                 |36.5 µs                      |\n",
    "| $10^6$     |67.3 ms                    |5.68 µs                 |470 µs                       |\n",
    "| $10^7$     |490 ms                     |5.33 µs                 |6.59 ms                      |"
   ]
  },
  {
   "cell_type": "markdown",
   "metadata": {},
   "source": [
    "### Exercise 2 - More practice with complexity (2.5 marks)\n",
    "\n",
    "For each of the following functions, determine the time complexity AND memory complexity, as a function of the input $N$. If you get stuck, it's fair game to test things empirically and then try to understand what you observe. **Please state your assumptions if you don’t know how long some operation in Python takes.** \n",
    "\n",
    "You can refer to [this](https://wiki.python.org/moin/TimeComplexity) link where you can find the time-complexity of various operations. It is not necessary to refer to this link. You can also have your own reasonable assumptions. \n",
    "\n",
    "The first question is done for you, as an example."
   ]
  },
  {
   "cell_type": "code",
   "execution_count": null,
   "metadata": {
    "collapsed": true,
    "jupyter": {
     "outputs_hidden": true
    }
   },
   "outputs": [],
   "source": [
    "def test(N):\n",
    "    for i in range(N):\n",
    "        print(i)\n",
    "        print(i**2)\n",
    "        x = 9\n",
    "        y = 10"
   ]
  },
  {
   "cell_type": "markdown",
   "metadata": {},
   "source": [
    "_Sample answer_\n",
    "\n",
    "The time complexity of `test` is $O(N)$ because the lines of code will be executed N times, and the times these lines will be executed will grow linearly with the grow of N\n",
    "\n",
    "The memory complexity of `test` is $O(1)$ because we store a constant amount (independent of $N$) "
   ]
  },
  {
   "cell_type": "code",
   "execution_count": null,
   "metadata": {
    "collapsed": true,
    "jupyter": {
     "outputs_hidden": true
    }
   },
   "outputs": [],
   "source": [
    "def bar(N):\n",
    "    i = 0\n",
    "    while i < N:\n",
    "        j = 0\n",
    "        while j < N:\n",
    "            j = j + 1\n",
    "        i = i + 1"
   ]
  },
  {
   "cell_type": "markdown",
   "metadata": {},
   "source": [
    "#### Complexity for bar(N)\n",
    "\n",
    "The time complexity for `bar(N)` is $O(N^2)$ because in a worst-case scenario, in the outer loop `j=0` and `i=i+1` are both run N times, and the line `j=j+1` is run N times for every time the outer loop is run, thus, total complexity is $O((N + N)*N) = O(2N^2) = O(N^2)$.\n",
    "\n",
    "The memory complexity for `bar(N)` is $O(1)$ because we have 2 variables that get overwritten in each loop, so the amount of memory used does not change, so memory complexity is $O(2)=O(1)$."
   ]
  },
  {
   "cell_type": "code",
   "execution_count": null,
   "metadata": {
    "collapsed": true,
    "jupyter": {
     "outputs_hidden": true
    }
   },
   "outputs": [],
   "source": [
    "def foo(N):\n",
    "    i = 0\n",
    "    j = 0\n",
    "    while i < N:\n",
    "        while j < N:\n",
    "            j = j + 1\n",
    "        i = i + 1"
   ]
  },
  {
   "cell_type": "markdown",
   "metadata": {},
   "source": [
    "#### Complexity for foo(N)\n",
    "\n",
    "The time complexity for `foo(N)` is $O(N)$ because in a worst-case scenario, line `j=j+1` runs N times only for the first loop, then the value of j is not reset so it never enters the 2nd loop again, making the time complexity $O(N)$ \n",
    "\n",
    "The memory complexity for `foo(N)` is $O(1)$ because we have 2 variables that get overwritten in each loop, so the amount of memory used does not change, so memory complexity is $O(2)=O(1)$."
   ]
  },
  {
   "cell_type": "code",
   "execution_count": null,
   "metadata": {
    "collapsed": true,
    "jupyter": {
     "outputs_hidden": true
    }
   },
   "outputs": [],
   "source": [
    "def bat(N):\n",
    "    return \"A\"*N"
   ]
  },
  {
   "cell_type": "markdown",
   "metadata": {},
   "source": [
    "#### Complexity for bat(N)\n",
    "\n",
    "The time complexity for `bat(N)` is $O(N)$ because python must duplicate the string, \"A\", N times, making the runtime $O(N)$.\n",
    "\n",
    "The memory complexity for `bat(N)` is $O(N)$ because as N increases, the number of times the string is duplicated also goes up to N and thus the space the string is occupying in memory also increases making the memory complexity $O(N)$."
   ]
  },
  {
   "cell_type": "code",
   "execution_count": null,
   "metadata": {
    "collapsed": true,
    "jupyter": {
     "outputs_hidden": true
    }
   },
   "outputs": [],
   "source": [
    "def oh(N):\n",
    "    i = 0\n",
    "    while i < N:\n",
    "        i = i + 1"
   ]
  },
  {
   "cell_type": "markdown",
   "metadata": {},
   "source": [
    "#### Complexity for oh(N)\n",
    "\n",
    "The time complexity for `oh(N)` is $O(N)$ because `i` starts at 0, so the line `i=i+1` is run N times making the time complexity $O(N)$.\n",
    "\n",
    "The memory complexity for `oh(N)` is $O(1)$ because there is only 1 variable, `i`, which gets overwritten in each iteration of the loop, making the memory complexity $O(1)$."
   ]
  },
  {
   "cell_type": "code",
   "execution_count": null,
   "metadata": {
    "collapsed": true,
    "jupyter": {
     "outputs_hidden": true
    }
   },
   "outputs": [],
   "source": [
    "def oh_no(N):\n",
    "    i = 0\n",
    "    while i < N:\n",
    "        i = i - 1"
   ]
  },
  {
   "cell_type": "markdown",
   "metadata": {},
   "source": [
    "#### Complexity for oh_no(N)\n",
    "\n",
    "If N < 0:\n",
    "The time complexity for `oh_no(N)` is $O(N)$ because i starts at 0, so the line `i=i-1` is run N times making the time complexity $O(N)$.\n",
    "\n",
    "If N>=0:\n",
    "The time complexity for `oh_no(N)` is $O(1)$ because the while loop condition is never satisfied, the program never enters the while loop so only the line `i=0` is run once, making the time complexity $O(1)$.\n",
    "\n",
    "If we assume the worst-case scenario, N is less than 0 making the runtime complexity $O(N)$.\n",
    "\n",
    "In either case of N>0 or N<=0, the memory complexity for `oh_no(N)` is $O(1)$ because there is only 1 variable, `i`, which gets overwritten in each iteration of the loop, making the memory complexity $O(1)$."
   ]
  },
  {
   "cell_type": "code",
   "execution_count": null,
   "metadata": {
    "collapsed": true,
    "jupyter": {
     "outputs_hidden": true
    }
   },
   "outputs": [],
   "source": [
    "import numpy as np\n",
    "def ban(N):\n",
    "    x = np.zeros(N)\n",
    "    x = x * 1000\n",
    "    return x"
   ]
  },
  {
   "cell_type": "markdown",
   "metadata": {},
   "source": [
    "#### Complexity for ban(N)\n",
    "\n",
    "The time complexity for `ban(N)` is $O(N)$ because the first line creates a numpy array of size N -> so it takes $O(N)$ to initialize each element and the line `x=x*1000` multiplies each element of N by 1000, so as N increases, the number of elements in x increases making the total runtime is $O(N+N) = O(2N) = O(N)$.\n",
    "\n",
    "\n",
    "The memory complexity for `ban(N)` is $O(N)$ because N elements are created and the same N elements are multiplied by 1000, so the space in memory is the same, making the memory complexity $O(N)$."
   ]
  },
  {
   "cell_type": "code",
   "execution_count": null,
   "metadata": {
    "collapsed": true,
    "jupyter": {
     "outputs_hidden": true
    }
   },
   "outputs": [],
   "source": [
    "import numpy as np\n",
    "def bam(N):\n",
    "    x = np.zeros(1000)\n",
    "    x = x * N\n",
    "    return x"
   ]
  },
  {
   "cell_type": "markdown",
   "metadata": {},
   "source": [
    "#### Complexity for bam(N)\n",
    "\n",
    "The time complexity for `bam(N)` is $O(1)$ because the first line creates a numpy array of size 1000 -> so it takes $O(1000)$ to initialize each element and the line `x=x*N` multiplies each element of x by N, so regardless of the size of N, the multiplication takes $O(1000)$ time, making the total runtime $O(1000+1000) = O(2000) = O(1)$.\n",
    "\n",
    "\n",
    "The memory complexity for `bam(N)` is $O(1)$ because 1000 elements are created and the same 1000 elements are multiplied by N, so the space in memory is the same, making the memory complexity $O(1)$."
   ]
  },
  {
   "cell_type": "code",
   "execution_count": null,
   "metadata": {
    "collapsed": true,
    "jupyter": {
     "outputs_hidden": true
    }
   },
   "outputs": [],
   "source": [
    "def wham(N):\n",
    "    x = []\n",
    "    for i in range(N):\n",
    "        print(i)\n",
    "        x.append(i**i)\n",
    "    return x"
   ]
  },
  {
   "cell_type": "markdown",
   "metadata": {},
   "source": [
    "#### Complexity for wham(N)\n",
    "\n",
    "The time complexity for `wham(N)` is $O(N)$ because all lines in the loop are run N times. Assuming a single iteration of print and append both take $O(1)$ time, the total complexity would be $O(N+N) = O(2N) = O(N)$.\n",
    "\n",
    "\n",
    "The memory complexity for `wham(N)` is $O(N)$ because the append statement is run N times, making the number of elements in x grow with respect to N, thus total memory complexity is $O(N)$."
   ]
  },
  {
   "cell_type": "code",
   "execution_count": null,
   "metadata": {
    "collapsed": true,
    "jupyter": {
     "outputs_hidden": true
    }
   },
   "outputs": [],
   "source": [
    "def slam(N):\n",
    "    monthly_mb = int(input())\n",
    "    excess = 0\n",
    "    \n",
    "    for i in range(N):\n",
    "        used = int(input())\n",
    "        excess = excess + monthly_mb - used\n",
    "    \n",
    "    return(excess + monthly_mb)"
   ]
  },
  {
   "cell_type": "markdown",
   "metadata": {},
   "source": [
    "#### Complexity for slam(N)\n",
    "\n",
    "The time complexity for `slam(N)` is $O(N)$ because:\n",
    "1. the first 2 lines are run once each, $O(1)$\n",
    "2. the lines in the for loop are each run N times, $O(2N)$\n",
    "3. so total time is $O(2N+2) = O(N)$ because the most dominant term is N.\n",
    "\n",
    "The memory complexity for `slam(N)` is $O(1)$ because there are 4 variables created in memory, and the same variables are used and overwritten making the total memory complexity $O(4)=O(1)$."
   ]
  },
  {
   "cell_type": "code",
   "execution_count": null,
   "metadata": {
    "collapsed": true,
    "jupyter": {
     "outputs_hidden": true
    }
   },
   "outputs": [],
   "source": [
    "import numpy as np\n",
    "def rainbow(N):\n",
    "    x = dict()\n",
    "    array = np.zeros(N)\n",
    "    for i in range(N):\n",
    "        x['key is %d' % i] = array\n",
    "    return x"
   ]
  },
  {
   "cell_type": "markdown",
   "metadata": {},
   "source": [
    "#### Complexity for rainbow(N)\n",
    "\n",
    "The time complexity for `rainbow(N)` is $O(N)$ because:\n",
    "1. creating an array of size N takes, $O(N)$ time\n",
    "2. line in for loop is run N times taking, $O(N)$ time\n",
    "3. then the total runtime is $O(N+N)=O(2N)=O(N)$.\n",
    "\n",
    "\n",
    "The memory complexity for `rainbow(N)` is $O(N)$ because:\n",
    "1. array has N elements so space in memory grows with N, making space $O(N)$\n",
    "2. the dictionary also grows with N, having N keys and N values (assume each key-value being added to dict take $O(1)$ space independent of the size of the value), then this makes space $O(N)$\n",
    "3. so total space is $O(N+N)=O(2N)=O(N)$"
   ]
  }
 ],
 "metadata": {
  "anaconda-cloud": {},
  "kernelspec": {
   "display_name": "Python 3 (ipykernel)",
   "language": "python",
   "name": "python3"
  },
  "language_info": {
   "codemirror_mode": {
    "name": "ipython",
    "version": 3
   },
   "file_extension": ".py",
   "mimetype": "text/x-python",
   "name": "python",
   "nbconvert_exporter": "python",
   "pygments_lexer": "ipython3",
   "version": "3.10.12"
  },
  "vscode": {
   "interpreter": {
    "hash": "753d7113537b387b72782a0cc951b2283945434542ede86a4702dfaca059ddf6"
   }
  }
 },
 "nbformat": 4,
 "nbformat_minor": 4
}
