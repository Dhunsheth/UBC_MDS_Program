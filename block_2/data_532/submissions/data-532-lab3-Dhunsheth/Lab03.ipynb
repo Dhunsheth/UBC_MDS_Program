{
 "cells": [
  {
   "cell_type": "markdown",
   "metadata": {},
   "source": [
    "# DATA 532 Lab 3\n",
    "\n",
    "#### This lab will be graded based on the following rubrics:\n",
    "   - **1) Code** : \n",
    "      - Accuracy: The code runs perfectly and the output is clear without being unnecessarily verbose.  \n",
    "      - Quality: Code readability is exceptional and code functionality is unambiguous. For example:\n",
    "         * Variable names are clear and self-documenting, an appropriate amount of whitespace is used to maximize visibility, tabs and spaces are not mixed for indentation, sufficient comments are given.\n",
    "         * All functions have proper documentation (docstrings in Python). \n",
    "         * Overall, code organization and documentation is impeccable. \n",
    "         * Code repetition is minimized via the use of loops/mapping functions, functions or classes or scripts/files as needed without becoming overly complicated. \n",
    "         * Functions are short, concise, and cohesive without losing clarity; code can be easily modified. \n",
    "         * Tests are present to ensure functions work as expected. Exceptions are caught and thrown if necessary.\n",
    "      - Efficiency: Code is as fast as it can reasonably be given the specifications of the problem.\n",
    "  - **2) Use a systematic strategy to solve the exercises:**\n",
    "      1. State the problem clearly. Identify the input & output formats.\n",
    "      2. Come up with some example inputs & outputs. Try to cover all edge cases.\n",
    "      3. Come up with a correct solution for the problem. \n",
    "      4. Implement the solution and test it using example inputs.            "
   ]
  },
  {
   "cell_type": "markdown",
   "metadata": {},
   "source": [
    "## Recursion - Towers of Hanoi - 1 Marks\n",
    "\n",
    "The Tower of Hanoi puzzle was invented by the French mathematician Edouard Lucas in 1883. He was inspired by a legend that tells of a Hindu temple where the puzzle was presented to young priests. At the beginning of time, the priests were given three poles and a stack of 64 gold disks, each disk a little smaller than the one beneath it. Their assignment was to transfer all 64 disks from one of the three poles to another, with two important constraints. They could only move one disk at a time, and they could never place a larger disk on top of a smaller one. The priests worked very efficiently, day and night, moving one disk every second. When they finished their work, the legend said, the temple would crumble into dust and the world would vanish.\n",
    "\n",
    "You may find a solution to this problem here: https://en.wikipedia.org/wiki/Tower_of_Hanoi\n",
    "\n",
    "I want you to complete the recursive function below to solve the Towers of Hanoi problem\n"
   ]
  },
  {
   "cell_type": "code",
   "execution_count": 2,
   "metadata": {
    "collapsed": false,
    "jupyter": {
     "outputs_hidden": false
    }
   },
   "outputs": [
    {
     "name": "stdout",
     "output_type": "stream",
     "text": [
      "moving disk from First to Second\n",
      "moving disk from First to Third\n",
      "moving disk from Second to Third\n",
      "moving disk from First to Second\n",
      "moving disk from Third to First\n",
      "moving disk from Third to Second\n",
      "moving disk from First to Second\n"
     ]
    }
   ],
   "source": [
    "def SolvingTowers(height,fromPole, toPole, withPole):\n",
    "    if height >= 1:\n",
    "        SolvingTowers(height-1,fromPole, withPole, toPole) # Complete this function call\n",
    "        movingDisk(fromPole,toPole)\n",
    "        SolvingTowers(height-1,withPole,toPole,fromPole) # Complete this function call\n",
    "\n",
    "def movingDisk(frompole,topole):\n",
    "    print(\"moving disk from\",frompole,\"to\",topole)\n",
    "\n",
    "SolvingTowers(3,\"First\",\"Second\",\"Third\")"
   ]
  },
  {
   "cell_type": "markdown",
   "metadata": {},
   "source": [
    "## Binary Trees - 4 Marks\n",
    "\n",
    "Please find below a code that implements a binary search tree. The methods for initialization is already done for you. \n",
    "\n",
    "* Complete the missing parts in the insertion method (1 mark) \n",
    "* Complete the missing parts in the search method (1 mark) \n",
    "* Complete the missing in the PrintTree method (1 mark) \n",
    "* Complete the missing part in InOrder Traversal method. (1 mark) \n",
    "\n",
    "\n",
    "Subsequently test your code by executing the in the subsequent line."
   ]
  },
  {
   "cell_type": "code",
   "execution_count": 2,
   "metadata": {
    "collapsed": false,
    "jupyter": {
     "outputs_hidden": false
    }
   },
   "outputs": [
    {
     "name": "stdout",
     "output_type": "stream",
     "text": [
      "19 is found\n",
      "22 Not Found\n",
      "[10, 14, 19, 27, 31, 35, 42]\n"
     ]
    }
   ],
   "source": [
    "class Node:\n",
    "\n",
    "    def __init__(self, data):\n",
    "\n",
    "        self.left = None\n",
    "        self.right = None\n",
    "        self.data = data\n",
    "\n",
    "    # Insert method to create nodes\n",
    "    def insert(self, data):\n",
    "        \"\"\"\n",
    "        Insert the data into the binary tree. If key value is lower than the node value it goes to the left side or if greater than it goes\n",
    "        right, and re-evaluates until none is hit, then it inserts the node. \n",
    "        \"\"\"\n",
    "        if self.data:\n",
    "            if data < self.data:\n",
    "                if self.left is None:\n",
    "                    self.left = Node(data)\n",
    "                else:\n",
    "                    self.left.insert(data)\n",
    "            elif data > self.data:\n",
    "                if self.right is None:\n",
    "                    self.right = Node(data)\n",
    "                else:\n",
    "                    self.right.insert(data)\n",
    "        else:\n",
    "            self.data = data\n",
    "\n",
    "    #  search method to compare the value with nodes\n",
    "    def search(self, search_value):\n",
    "        \"\"\"\n",
    "        Searches for the key value in the binary tree. If value is lower than node then it goes left and if greater it goes right.\n",
    "        Returns value if found or \"Not Found\"\n",
    "        \"\"\"\n",
    "        if search_value < self.data:\n",
    "            if self.left is None:\n",
    "                return str(search_value)+\" Not Found\"\n",
    "            return self.left.search(search_value)    \n",
    "        elif search_value > self.data:\n",
    "            if self.right is None:\n",
    "                return str(search_value)+\" Not Found\"\n",
    "            return self.right.search(search_value)\n",
    "        else:\n",
    "            return(str(self.data) + ' is found')\n",
    "\n",
    "    # Print the tree\n",
    "    def PrintTree(self):\n",
    "        \"\"\"\n",
    "        Prints the entire tree\n",
    "        \"\"\"\n",
    "        if self.left:\n",
    "            self.left.PrintTree()\n",
    "        print( self.data),\n",
    "        if self.right:\n",
    "            self.right.PrintTree()\n",
    "\n",
    "\n",
    "    # Inorder traversal\n",
    "    # Left -> Visit -> Right\n",
    "    def inorderTraversal(self, root):\n",
    "        \"\"\"\n",
    "        Performs an inorder traversal, left-visit-right, and returns a list of all values from left to right. \n",
    "        \"\"\"\n",
    "        res = []\n",
    "        if root:\n",
    "            res = self.inorderTraversal(root.left)\n",
    "            res.append(root.data)\n",
    "            res = res + self.inorderTraversal(root.right)\n",
    "        return res\n",
    "\n",
    "root = Node(27)\n",
    "root.insert(14)\n",
    "root.insert(35)\n",
    "root.insert(10)\n",
    "root.insert(19)\n",
    "root.insert(31)\n",
    "root.insert(42)\n",
    "print(root.search(19))\n",
    "print(root.search(22))\n",
    "# root.PrintTree()\n",
    "print(root.inorderTraversal(root))"
   ]
  },
  {
   "cell_type": "markdown",
   "metadata": {},
   "source": [
    "### Binary search tree II - 1 Mark\n",
    "\n",
    "Write a recursive function (no  loops allowed!) that returns the smallest element in a binary search tree. You can use the class Node that you have created in the previous exercise to test your function. Remember to add test cases for the function.\n"
   ]
  },
  {
   "cell_type": "code",
   "execution_count": 3,
   "metadata": {},
   "outputs": [
    {
     "name": "stdout",
     "output_type": "stream",
     "text": [
      "10\n"
     ]
    }
   ],
   "source": [
    "## Write your code here.\n",
    "def min_val(root):\n",
    "    \"\"\"\n",
    "    Searches a BST for the smallest value. Because it is a BST, the lowest value is at the bottom of the tree on the left most node. \n",
    "    If the left root exists it goes left and if the left child is none then it returns the node value.\n",
    "    \"\"\"\n",
    "    if root.left:\n",
    "        return min_val(root.left)\n",
    "    else:\n",
    "        return root.data\n",
    "\n",
    "print(min_val(root))\n",
    "\n",
    "assert min_val(root) == 10\n",
    "\n",
    "test = Node(10)\n",
    "elements = [5, 15, 3, 8, 12, 18, 2, 4, 7, 9, 11, 14, 16, 20]\n",
    "for element in elements:\n",
    "    test.insert(element)\n",
    "assert min_val(test) == 2"
   ]
  }
 ],
 "metadata": {
  "kernelspec": {
   "display_name": "Python 3 (ipykernel)",
   "language": "python",
   "name": "python3"
  },
  "language_info": {
   "codemirror_mode": {
    "name": "ipython",
    "version": 3
   },
   "file_extension": ".py",
   "mimetype": "text/x-python",
   "name": "python",
   "nbconvert_exporter": "python",
   "pygments_lexer": "ipython3",
   "version": "3.10.12"
  },
  "vscode": {
   "interpreter": {
    "hash": "31f2aee4e71d21fbe5cf8b01ff0e069b9275f58929596ceb00d14d90e3e16cd6"
   }
  }
 },
 "nbformat": 4,
 "nbformat_minor": 4
}
