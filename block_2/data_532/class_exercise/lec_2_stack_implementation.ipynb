{
 "cells": [
  {
   "cell_type": "code",
   "execution_count": 8,
   "id": "46692220-096f-4588-8bef-0c61fe68f9db",
   "metadata": {},
   "outputs": [],
   "source": [
    "class Stack(list):\n",
    " def push(self, item): \n",
    "    # add item to end of list\n",
    "    # self.append(item)\n",
    "    self[len(self):] = [item]\n",
    "    \n",
    " def pop(self):\n",
    "     if not self: # (not self) return true if stack (list) is empty\n",
    "         raise IndexError('List is empty')\n",
    "     else:\n",
    "         top = self[-1]\n",
    "         del self[-1]\n",
    "         # self = self[:len(self)-1] <- doesn't work because you are losing self when you equate it to a new variable also called self\n",
    "         return top\n",
    "\n",
    " def top(self):\n",
    "     if not self:\n",
    "         return None\n",
    "     else: # return last element if the list\n",
    "         return self[len(self)-1:]\n",
    "\n",
    " def isEmpty(self):\n",
    "     if len(self) == 0:\n",
    "         return True\n",
    "     else:\n",
    "         return False"
   ]
  },
  {
   "cell_type": "code",
   "execution_count": 11,
   "id": "045ba4f5-aed0-4e83-b0ac-814ac2df223f",
   "metadata": {},
   "outputs": [
    {
     "name": "stdout",
     "output_type": "stream",
     "text": [
      "[11, 12, 13, 10]\n",
      "[11, 12, 13]\n"
     ]
    }
   ],
   "source": [
    "my_stack = Stack([11,12,13])\n",
    "\n",
    "my_stack.push(10)\n",
    "print(my_stack)\n",
    "\n",
    "my_stack.pop()\n",
    "print(my_stack)"
   ]
  }
 ],
 "metadata": {
  "kernelspec": {
   "display_name": "Python 3 (ipykernel)",
   "language": "python",
   "name": "python3"
  },
  "language_info": {
   "codemirror_mode": {
    "name": "ipython",
    "version": 3
   },
   "file_extension": ".py",
   "mimetype": "text/x-python",
   "name": "python",
   "nbconvert_exporter": "python",
   "pygments_lexer": "ipython3",
   "version": "3.10.12"
  }
 },
 "nbformat": 4,
 "nbformat_minor": 5
}
