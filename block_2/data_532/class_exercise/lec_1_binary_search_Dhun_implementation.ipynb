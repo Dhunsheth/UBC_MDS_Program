{
 "cells": [
  {
   "cell_type": "code",
   "execution_count": 9,
   "id": "d3ad44a0-9130-4570-84f2-5ee41eda95bc",
   "metadata": {},
   "outputs": [],
   "source": [
    "def binary_search(A, n):\n",
    "    begin = 0\n",
    "    end = len(A) - 1\n",
    "    if len(A) == 0:\n",
    "        return \"List size 0\"\n",
    "    elif abs(begin - end) <= 1:\n",
    "        if A[begin] == n:\n",
    "            return begin\n",
    "        elif A[end] == n:\n",
    "            return end\n",
    "        else:\n",
    "            return \"Not found\" \n",
    "    else:\n",
    "        if n > max(A) or n < min(A):\n",
    "            return \"Not found\"\n",
    "        else:\n",
    "            while abs(begin - end) > 1:\n",
    "                mid = begin + int(len(A[begin:end+1])/2)\n",
    "                if A[mid] == n:\n",
    "                    return mid\n",
    "                    break\n",
    "                elif A[begin] == n:\n",
    "                    return begin\n",
    "                    break\n",
    "                elif A[end] == n:\n",
    "                    return end\n",
    "                    break\n",
    "                elif A[mid] > n:\n",
    "                    begin = mid\n",
    "                else:\n",
    "                    end = mid\n",
    "            return \"Not found\"\n",
    "\n",
    "def binary(A, n):\n",
    "    \"\"\"\n",
    "    Assume A is in ascending order\n",
    "    \"\"\"\n",
    "    begin = 0\n",
    "    end = len(A) - 1\n",
    "    if len(A) == 0:\n",
    "        return \"List size 0\"\n",
    "    else:\n",
    "        while begin <= end:\n",
    "            mid = (begin + end)//2\n",
    "            if A[mid] == n:\n",
    "                return mid\n",
    "                break\n",
    "            elif A[mid] > n:\n",
    "                end = mid - 1\n",
    "            else:\n",
    "                begin = mid + 1\n",
    "        return \"Not found\"\n",
    "\n",
    "def recursive_binary(A,n):\n",
    "    \"\"\"\n",
    "    Assumes A is sorted in ascending order\n",
    "    \"\"\"\n",
    "    mid = len(A)//2\n",
    "    if len(A) == 0:\n",
    "        return None\n",
    "    elif A[mid] == n:\n",
    "        return mid\n",
    "    else:\n",
    "        if A[mid] > n:\n",
    "            return recursive_binary(A[:mid],n)\n",
    "        else:\n",
    "            return 1 + mid + recursive_binary(A[mid + 1:],n)\n",
    "\n",
    "def t_recursive_binary(A,n):\n",
    "    \"\"\"\n",
    "    recursive binary search where A doesn't have to be ordered but I don't think this is useful or very optimal -- not working currently\n",
    "    \"\"\"\n",
    "    mid = len(A)//2\n",
    "    if len(A) == 1 and A[mid] != n:\n",
    "        return None\n",
    "    elif A[mid] == n:\n",
    "        return A[mid]\n",
    "    elif len(A) > 1:\n",
    "        left = t_recursive_binary(A[:mid],n)\n",
    "        right = t_recursive_binary(A[mid:],n)\n",
    "        if left != None:\n",
    "            return left\n",
    "        elif right != None:\n",
    "            return right\n",
    "        else:\n",
    "            return None\n",
    "\n",
    "def linear_search_brute(A, n):\n",
    "    x = -1\n",
    "    for i in range(0, len(A)):\n",
    "        if A[i]==n:\n",
    "            x=i\n",
    "            break\n",
    "    return (x)"
   ]
  },
  {
   "cell_type": "code",
   "execution_count": 8,
   "id": "5fd845a7-6953-40a3-8319-d114a49da805",
   "metadata": {},
   "outputs": [
    {
     "name": "stdout",
     "output_type": "stream",
     "text": [
      "4\n"
     ]
    }
   ],
   "source": [
    "import time\n",
    "\n",
    "# A = [12, 9, 7, 5, 4, 3, 1, 0]\n",
    "A = [1,2,3,4,5,6]\n",
    "n = 5\n",
    "\n",
    "# print(binary_search_better(A,n))\n",
    "print(recursive_binary(A,n))\n",
    "\n",
    "# start = time.time()\n",
    "# linear_search_brute(A,n)\n",
    "# end = time.time()\n",
    "# print(end - start)\n",
    "\n",
    "# start = time.time()\n",
    "# binary_search(A,n)\n",
    "# end = time.time()\n",
    "# print(end - start)"
   ]
  },
  {
   "cell_type": "code",
   "execution_count": 5,
   "id": "62fb871d-20d5-4f55-bbb4-2ace9f485b2c",
   "metadata": {},
   "outputs": [
    {
     "data": {
      "text/plain": [
       "1"
      ]
     },
     "execution_count": 5,
     "metadata": {},
     "output_type": "execute_result"
    }
   ],
   "source": [
    "A = [8,7,6,4,3,2,1]\n",
    "(A[3:])\n",
    "2//2"
   ]
  }
 ],
 "metadata": {
  "kernelspec": {
   "display_name": "Python 3 (ipykernel)",
   "language": "python",
   "name": "python3"
  },
  "language_info": {
   "codemirror_mode": {
    "name": "ipython",
    "version": 3
   },
   "file_extension": ".py",
   "mimetype": "text/x-python",
   "name": "python",
   "nbconvert_exporter": "python",
   "pygments_lexer": "ipython3",
   "version": "3.10.12"
  }
 },
 "nbformat": 4,
 "nbformat_minor": 5
}
