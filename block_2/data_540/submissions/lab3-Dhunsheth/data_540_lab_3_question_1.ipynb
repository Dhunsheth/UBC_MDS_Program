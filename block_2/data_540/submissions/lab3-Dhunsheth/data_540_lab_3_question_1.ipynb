{
 "cells": [
  {
   "cell_type": "code",
   "execution_count": 5,
   "id": "9635ceed-3372-409d-ae75-285da599c7c9",
   "metadata": {},
   "outputs": [
    {
     "name": "stdout",
     "output_type": "stream",
     "text": [
      "<mysql.connector.connection_cext.CMySQLConnection object at 0x7fab86582c50>\n"
     ]
    },
    {
     "name": "stderr",
     "output_type": "stream",
     "text": [
      "/tmp/ipykernel_1919/826128957.py:32: UserWarning: pandas only supports SQLAlchemy connectable (engine/connection) or database string URI or sqlite3 DBAPI2 connection. Other DBAPI2 objects are not tested. Please consider using SQLAlchemy.\n",
      "  df = pd.read_sql(query, mydb)\n"
     ]
    }
   ],
   "source": [
    "########## Question 1 \n",
    "import mysql.connector\n",
    "import pandas as pd\n",
    "\n",
    "### Part 1 - 3\n",
    "\n",
    "# using mysql.connector\n",
    "try:\n",
    "    mydb = mysql.connector.connect(\n",
    "        host = \"cosc304.ok.ubc.ca\",\n",
    "        user = \"dsheth\",\n",
    "        password = \"32376881\"\n",
    "    )\n",
    "\n",
    "    print(mydb)\n",
    "    cursor = mydb.cursor()\n",
    "\n",
    "    # cursor = mydb.cursor()\n",
    "    # cursor.execute(\"select * from tpch.nation limit 5\")\n",
    "    # data = cursor.fetchall()\n",
    "    # df = pd.DataFrame(data)\n",
    "    \n",
    "    query = \"\"\"\n",
    "    select n_name, count(distinct c_custkey) as numCustomers, count(o_orderkey) as numOrders\n",
    "    from tpch.customer join tpch.nation on c_nationkey = n_nationkey\n",
    "    join tpch.orders on o_custkey = c_custkey\n",
    "    where o_orderdate like '2018-%'\n",
    "    group by n_name\n",
    "    having numCustomers > 43;\n",
    "    \"\"\"\n",
    "    \n",
    "    df = pd.read_sql(query, mydb)\n",
    "    \n",
    "except:\n",
    "    print('Error connecting to mysql database')\n",
    "    raise\n",
    "    mydb.close()"
   ]
  },
  {
   "cell_type": "code",
   "execution_count": 6,
   "id": "e80b514e-b1e5-4850-9748-f51bb8045433",
   "metadata": {},
   "outputs": [
    {
     "data": {
      "image/png": "[encoded data removed]",
      "text/plain": [
       "<Figure size 640x480 with 1 Axes>"
      ]
     },
     "metadata": {},
     "output_type": "display_data"
    }
   ],
   "source": [
    "### Part 3\n",
    "df\n",
    "\n",
    "bar_graph = df. plot. bar(x = 'n_name', fontsize='9')"
   ]
  },
  {
   "cell_type": "code",
   "execution_count": 7,
   "id": "6a32efdd-09e4-437d-9930-9b4c115a3993",
   "metadata": {},
   "outputs": [
    {
     "name": "stdin",
     "output_type": "stream",
     "text": [
      "Enter customer_id:  788\n"
     ]
    },
    {
     "name": "stdout",
     "output_type": "stream",
     "text": [
      "Top 5 products for customer: 788\n",
      "   Part Key  Total Quantity\n",
      "0      1835           124.0\n",
      "1       508            91.0\n",
      "2      1264            49.0\n",
      "3      1727            49.0\n",
      "4      1520            47.0\n"
     ]
    },
    {
     "name": "stderr",
     "output_type": "stream",
     "text": [
      "/tmp/ipykernel_1919/1671371604.py:19: UserWarning: pandas only supports SQLAlchemy connectable (engine/connection) or database string URI or sqlite3 DBAPI2 connection. Other DBAPI2 objects are not tested. Please consider using SQLAlchemy.\n",
      "  df = pd.read_sql(query, mydb)\n"
     ]
    }
   ],
   "source": [
    "### Part 5, 6 \n",
    "try:\n",
    "    cust_id = input('Enter customer_id: ')\n",
    "    \n",
    "    if cust_id.isnumeric() == False:\n",
    "        raise ValueError('Entered customer id must be numeric.')\n",
    "    \n",
    "    cust_id = int(cust_id)\n",
    "    query = f\"\"\"\n",
    "    select l_partkey as \"Part Key\", sum(l_quantity) as \"Total Quantity\"\n",
    "    from tpch.lineitem join tpch.orders on l_orderkey = o_orderkey\n",
    "    join tpch.customer on o_custkey = c_custkey\n",
    "    where l_linestatus = 'O' and c_acctbal < 1000 and c_custkey = {cust_id}\n",
    "    group by l_partkey\n",
    "    order by sum(l_quantity) desc\n",
    "    limit 5;\n",
    "    \"\"\"\n",
    "\n",
    "    df = pd.read_sql(query, mydb)\n",
    "    print(f\"Top 5 products for customer: {cust_id}\")\n",
    "    print(df)\n",
    "except:\n",
    "    print('Encountered an error, please try again.')\n",
    "    raise\n",
    "finally:\n",
    "    if mydb.is_connected():\n",
    "        mydb.close()"
   ]
  }
 ],
 "metadata": {
  "kernelspec": {
   "display_name": "Python 3 (ipykernel)",
   "language": "python",
   "name": "python3"
  },
  "language_info": {
   "codemirror_mode": {
    "name": "ipython",
    "version": 3
   },
   "file_extension": ".py",
   "mimetype": "text/x-python",
   "name": "python",
   "nbconvert_exporter": "python",
   "pygments_lexer": "ipython3",
   "version": "3.10.12"
  }
 },
 "nbformat": 4,
 "nbformat_minor": 5
}
