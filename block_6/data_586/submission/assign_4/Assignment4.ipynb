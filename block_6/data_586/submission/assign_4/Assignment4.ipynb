{
 "cells": [
  {
   "cell_type": "markdown",
   "metadata": {
    "colab_type": "text",
    "id": "H2-Tz9PZrzPZ"
   },
   "source": [
    "# Stochastic Gradient Descent, Regularization, and Transfer Learning\n",
    "\n",
    "# **Assignment 4**\n",
    "### 10 Points\n",
    "\n",
    "### Use the code of CNNs that you wrote for Assignment 2 and perform the following tasks on CIFAR10 Images:\n",
    "\n",
    "#### Q1 and Q2 are worth 5 points together, Q3 and Q4 are worth 5 points together.\n",
    "\n",
    "1.   Use Gradient Descent and Stochastic Gradient Descent (SGD) as the learning algorithms and compare the performance for 100 epochs of training. Plot the Loss vs Epochs on the same graph.\n",
    "\n",
    "2.   Using SGD for the same example do the following and comapre the results for each case with the base case done in using SGD in part 1.\n",
    "\n",
    "          1.   Train your network using SGD with momentum = 0.9\n",
    "          2.   Train your network using SGD with Dropout\n",
    "          3.   Train your network using SGD with L2 regularization \n",
    "          \n",
    "   You should be able to compare the training and test performance for all the three cases with the base case.\n",
    "   \n",
    "#### WHAT IS TRANSFER LEARNING?\n",
    "#### Transfer learning, used in machine learning, is the reuse of a pre-trained model on a new problem. In transfer learning, a machine exploits the knowledge gained from a previous task to improve generalization about another. For example, in training a classifier to predict whether an image contains food, you could use the knowledge it gained during training to recognize drinks. Because transfer learning involves retraining an existing model with a new dataset, the retrained model will consist of knowledge gained from multiple datasets.\n",
    "\n",
    "3.   Experiments with different CNN architectures that include: AlexNet, VGG, ResNet, and DenseNet. Fine tune the hyperparameters (Optimizers, batch_size, learning rate, etc.) and compare the performance of these architectures. \n",
    "4. Plot the accuracy and loss for all the architectures on the same plots. Conclude which architecture is best suited for the CIFAR10 dataset.\n",
    "\n"
   ]
  },
  {
   "cell_type": "markdown",
   "metadata": {},
   "source": []
  }
 ],
 "metadata": {
  "colab": {
   "name": "Lab 4 DATA 586.ipynb",
   "provenance": [],
   "version": "0.3.2"
  },
  "kernelspec": {
   "display_name": "Python 3 (ipykernel)",
   "language": "python",
   "name": "python3"
  },
  "language_info": {
   "codemirror_mode": {
    "name": "ipython",
    "version": 3
   },
   "file_extension": ".py",
   "mimetype": "text/x-python",
   "name": "python",
   "nbconvert_exporter": "python",
   "pygments_lexer": "ipython3",
   "version": "3.10.9"
  }
 },
 "nbformat": 4,
 "nbformat_minor": 1
}
