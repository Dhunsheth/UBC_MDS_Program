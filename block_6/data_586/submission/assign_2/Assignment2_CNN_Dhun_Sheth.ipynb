{
 "cells": [
  {
   "cell_type": "markdown",
   "metadata": {
    "colab_type": "text",
    "id": "Ti4jYk_NSJyu"
   },
   "source": [
    "# Convolutional Neural Networks"
   ]
  },
  {
   "cell_type": "markdown",
   "metadata": {
    "colab_type": "text",
    "id": "UXIJ0oDgVP0S"
   },
   "source": [
    "# **Assignment 2**\n",
    "### 10 Points\n",
    "\n",
    "---\n",
    "\n",
    "#### The lab has two parts. \n",
    "\n",
    "The first part of the lab acts as a tutorial for you to get familiar with PyTorch CNN. \n",
    "\n",
    "In the second part you will have to do some real coding:\n",
    "\n",
    "\n",
    "1. Construct a CNN model. [1 point]\n",
    "\n",
    "2. Define the Loss, training device, and any hyperparameters that you wish to tune. [1 point]\n",
    "\n",
    "3. Define a training function that trains the model using training set and test it with testing set. [2 points]\n",
    "\n",
    "4. Train the customized model on CIFAR-10 dataset and ensure the model is trained correctly (fine-tune). [2 points]\n",
    "\n",
    "5. Visualize the loss and accuracy of the model. [1 point]\n",
    "\n",
    "6. Load a pre-trained CNN model and freeze the pre-trained weights. [1 point]\n",
    "\n",
    "7. Replace the final classifier layer (Linear layer) to match the number of classes in the dataset. [1 point]\n",
    "\n",
    "8. Train the pre-trained model and visualize the accuracy and loss. [1 point]\n",
    "---\n",
    "\n"
   ]
  },
  {
   "cell_type": "markdown",
   "metadata": {
    "colab_type": "text",
    "id": "-UCXtW7lSJyz"
   },
   "source": [
    "This lab expects a basic understanding of pytorch and convolutional networks.\n",
    "\n",
    "* `torch.nn` documentation http://pytorch.org/docs/master/nn.html\n",
    "* Convolution animations. Make sure to understand these animations so you can visualize stride, padding, etc. https://github.com/vdumoulin/conv_arithmetic/blob/master/README.md\n",
    "* If you want to look at something more complicated, check out the ResNet implementation in torchvision: https://github.com/pytorch/vision/blob/master/torchvision/models/resnet.py"
   ]
  },
  {
   "cell_type": "code",
   "execution_count": 61,
   "metadata": {
    "colab": {},
    "colab_type": "code",
    "id": "e1mAJyfbSJy0"
   },
   "outputs": [],
   "source": [
    "import torch\n",
    "import torch.nn.functional as F\n",
    "from torch import autograd, nn\n",
    "from torch.autograd import Variable\n",
    "import numpy as np\n",
    "import matplotlib.pyplot as plt\n",
    "import torchvision\n",
    "from torchvision import transforms, datasets\n",
    "from torch.utils.data import random_split\n",
    "from tqdm import tqdm"
   ]
  },
  {
   "cell_type": "markdown",
   "metadata": {
    "colab_type": "text",
    "id": "yLzWNO7nSJy6"
   },
   "source": [
    "## Data Format"
   ]
  },
  {
   "cell_type": "markdown",
   "metadata": {
    "colab_type": "text",
    "id": "bGU4BfdVSJy7"
   },
   "source": [
    "Dimension ordering is very important. For pytorch:\n",
    "\n",
    "* 2D data like images should be `(samples, channels, height, width)` sometimes called \"NCHW\" or \"channels first\"\n",
    "* 1D data like stock prices should be `(samples, channels, time)`\n",
    "* 2D filters should be `(out_channels, in_channels, height, width)`\n",
    "* 1D filters should be `(out_channels, in_channels, time)`\n",
    "\n",
    "Different frameworks (e.g., TensorFlow) use different dimension orderings so be very careful, especially when implementing code or reading data targeted at a different framework.\n",
    "\n",
    "Note most image data is RGB but some is BGR  or ARGB."
   ]
  },
  {
   "cell_type": "code",
   "execution_count": 62,
   "metadata": {
    "colab": {
     "base_uri": "https://localhost:8080/",
     "height": 51
    },
    "colab_type": "code",
    "id": "XrbQgOImSJy9",
    "outputId": "c2d12677-4568-4d59-9093-ea7d4c1fc271"
   },
   "outputs": [
    {
     "name": "stdout",
     "output_type": "stream",
     "text": [
      "torch.Size([1, 3, 32, 32])\n",
      "torch.Size([1, 40, 100])\n"
     ]
    }
   ],
   "source": [
    "input_image = autograd.Variable(torch.randn(1,3,32,32)) # single 32x32 RGB image\n",
    "print(input_image.size())\n",
    "input_signal = autograd.Variable(torch.randn(1,40,100)) # 40 dimensional signal for 100 timesteps\n",
    "print(input_signal.size())"
   ]
  },
  {
   "cell_type": "markdown",
   "metadata": {
    "colab_type": "text",
    "id": "QyckDsMTSJzD"
   },
   "source": [
    "## Convolutional Layers"
   ]
  },
  {
   "cell_type": "markdown",
   "metadata": {
    "colab_type": "text",
    "id": "uqknLcM6SJzE"
   },
   "source": [
    "The `torch.nn` module provides layers for CNNs. Use in the same way as other modules. Please refer to the documentation for details. Some of the most common layers you will use:\n",
    "\n",
    "* `torch.nn.Conv2d`\n",
    "* `torch.nn.ConvTranspose2d`\n",
    "* `torch.nn.MaxPool2d`\n",
    "* `torch.nn.AvgPool2d`\n"
   ]
  },
  {
   "cell_type": "code",
   "execution_count": 63,
   "metadata": {
    "colab": {},
    "colab_type": "code",
    "id": "OlHjCz4ESJzF"
   },
   "outputs": [],
   "source": [
    "# Create layers\n",
    "layer_c2d = torch.nn.Conv2d(in_channels=3, out_channels=20, kernel_size=5, stride=1, padding=2)\n",
    "layer_avg = torch.nn.AvgPool2d(kernel_size=32)"
   ]
  },
  {
   "cell_type": "code",
   "execution_count": 64,
   "metadata": {
    "colab": {
     "base_uri": "https://localhost:8080/",
     "height": 34
    },
    "colab_type": "code",
    "id": "h31ed0W8SJzI",
    "outputId": "e884fafe-1961-44c4-b7cc-9ae75acc3ced"
   },
   "outputs": [
    {
     "name": "stdout",
     "output_type": "stream",
     "text": [
      "torch.Size([1, 20, 32, 32])\n"
     ]
    }
   ],
   "source": [
    "# Use layers directly\n",
    "y = layer_c2d(input_image)\n",
    "print(y.size())"
   ]
  },
  {
   "cell_type": "code",
   "execution_count": 65,
   "metadata": {
    "colab": {
     "base_uri": "https://localhost:8080/",
     "height": 34
    },
    "colab_type": "code",
    "id": "MzgjDWpOSJzN",
    "outputId": "d1c4502d-a78f-44ca-8ba1-cf5c8769c522"
   },
   "outputs": [
    {
     "name": "stdout",
     "output_type": "stream",
     "text": [
      "torch.Size([1, 20, 1, 1])\n"
     ]
    }
   ],
   "source": [
    "# Add layers to model\n",
    "model = torch.nn.Sequential(layer_avg, layer_c2d)\n",
    "y = model(input_image)\n",
    "print(y.size())"
   ]
  },
  {
   "cell_type": "markdown",
   "metadata": {
    "colab_type": "text",
    "id": "gEQrgJWCSJzQ"
   },
   "source": [
    "## Convolutional Functions"
   ]
  },
  {
   "cell_type": "markdown",
   "metadata": {
    "colab_type": "text",
    "id": "61_tagEvSJzS"
   },
   "source": [
    "The `torch.nn.functional` module provides low-level functions. Depending on what kinds of models you are making, you may never have to use these functions, and use pre-made layers instead. When using the functional module, you need to instantiate parameters yourself.\n",
    "\n",
    "http://pytorch.org/docs/0.1.12/nn.html#torch-nn-functional\n",
    "\n",
    "Example low-level functions:\n",
    "\n",
    "* `F.max_pool2d`\n",
    "* `F.dropout2d`\n",
    "* `F.conv2d`"
   ]
  },
  {
   "cell_type": "code",
   "execution_count": 66,
   "metadata": {
    "colab": {
     "base_uri": "https://localhost:8080/",
     "height": 34
    },
    "colab_type": "code",
    "id": "qIdS3aSnSJzT",
    "outputId": "42ee0698-4646-4a55-dc35-4d547691e06d"
   },
   "outputs": [
    {
     "name": "stdout",
     "output_type": "stream",
     "text": [
      "torch.Size([1, 20, 32, 32])\n"
     ]
    }
   ],
   "source": [
    "filters = autograd.Variable(torch.randn(20,3,5,5)) # 5x5 filter from 3 dimensions to 20\n",
    "y=F.conv2d(input_image, filters, padding=2)\n",
    "print(y.size())"
   ]
  },
  {
   "cell_type": "code",
   "execution_count": 67,
   "metadata": {
    "colab": {
     "base_uri": "https://localhost:8080/",
     "height": 34
    },
    "colab_type": "code",
    "id": "WvmmSlvOSJzX",
    "outputId": "c2bd66d0-768d-4663-ba66-cae145d007a5"
   },
   "outputs": [
    {
     "name": "stdout",
     "output_type": "stream",
     "text": [
      "torch.Size([1, 256, 100])\n"
     ]
    }
   ],
   "source": [
    "filters = autograd.Variable(torch.randn(256,40,5)) # 5 wide filter from 40 dimensions to 256\n",
    "y=F.conv1d(input_signal, filters, padding=2)\n",
    "print(y.size())"
   ]
  },
  {
   "cell_type": "markdown",
   "metadata": {
    "colab_type": "text",
    "id": "yL-JqNGeSJzb"
   },
   "source": [
    "For example, if you generate the kernel using a neural network, you will have to use the functional module instead of a standard convolutional layer."
   ]
  },
  {
   "cell_type": "markdown",
   "metadata": {
    "colab_type": "text",
    "id": "KeuXp35SSJzc"
   },
   "source": [
    "## Padding"
   ]
  },
  {
   "cell_type": "markdown",
   "metadata": {
    "colab_type": "text",
    "id": "nVe9SsxrSJzd"
   },
   "source": [
    "Simple 0-padding can be accomplished using the `padding` keyword argument of many functions. Normally, you will be using the same vertical and horizontal padding but you can also pass a tuple `(H,W)`. Padding is applied symmetrically."
   ]
  },
  {
   "cell_type": "code",
   "execution_count": 68,
   "metadata": {
    "colab": {
     "base_uri": "https://localhost:8080/",
     "height": 102
    },
    "colab_type": "code",
    "id": "WrhsnzpBSJze",
    "outputId": "70c9589c-1d4f-4f37-db19-7a42be64e45d"
   },
   "outputs": [
    {
     "name": "stdout",
     "output_type": "stream",
     "text": [
      "torch.Size([1, 20, 26, 26])\n",
      "torch.Size([1, 20, 28, 28])\n",
      "torch.Size([1, 20, 30, 30])\n",
      "torch.Size([1, 20, 32, 32])\n",
      "torch.Size([1, 20, 26, 32])\n"
     ]
    }
   ],
   "source": [
    "inputs = autograd.Variable(torch.randn(1,3,32,32)) # single 32x32 RGB image\n",
    "print(torch.nn.Conv2d(in_channels=3, out_channels=20, kernel_size=7, padding=0)(inputs).size())\n",
    "print(torch.nn.Conv2d(in_channels=3, out_channels=20, kernel_size=7, padding=1)(inputs).size())\n",
    "print(torch.nn.Conv2d(in_channels=3, out_channels=20, kernel_size=7, padding=2)(inputs).size())\n",
    "print(torch.nn.Conv2d(in_channels=3, out_channels=20, kernel_size=7, padding=3)(inputs).size())\n",
    "print(torch.nn.Conv2d(in_channels=3, out_channels=20, kernel_size=7, padding=(0,3))(inputs).size())"
   ]
  },
  {
   "cell_type": "markdown",
   "metadata": {
    "colab_type": "text",
    "id": "1XYSLFDcSJzj"
   },
   "source": [
    "For more complicated padding, use a padding layer before your convolution.\n",
    "\n",
    "* Single int: apply to all sides\n",
    "* tuple (H,W): apply H to top and bottom, W to left and right\n",
    "* tuple (left, right, top, bottom)"
   ]
  },
  {
   "cell_type": "code",
   "execution_count": 69,
   "metadata": {
    "colab": {
     "base_uri": "https://localhost:8080/",
     "height": 34
    },
    "colab_type": "code",
    "id": "GaC-D7k-SJzm",
    "outputId": "5bed12ab-7240-46d6-a585-ee8777887a26"
   },
   "outputs": [
    {
     "name": "stdout",
     "output_type": "stream",
     "text": [
      "torch.Size([1, 20, 32, 32])\n"
     ]
    }
   ],
   "source": [
    "inputs = autograd.Variable(torch.randn(1,3,32,32)) # single 32x32 RGB image\n",
    "y = torch.nn.Conv2d(3, 20, 7)(torch.nn.ReplicationPad2d(3)(inputs))\n",
    "print(y.size())"
   ]
  },
  {
   "cell_type": "markdown",
   "metadata": {
    "colab_type": "text",
    "id": "mkJlTfFUSJzr"
   },
   "source": [
    "Common padding layers:\n",
    "\n",
    "* torch.nn.ReplicationPad2d\n",
    "* torch.nn.ReflectionPad2d\n",
    "* torch.nn.ZeroPad2d\n",
    "* torch.nn.ConstantPad2d"
   ]
  },
  {
   "cell_type": "markdown",
   "metadata": {
    "colab_type": "text",
    "id": "IgZFMlwUSJzs"
   },
   "source": [
    "## Normalization and Dropout"
   ]
  },
  {
   "cell_type": "markdown",
   "metadata": {
    "colab_type": "text",
    "id": "OQj0quvGSJzt"
   },
   "source": [
    "Don't forget BatchNorm2d and Dropout2d if you want to improve performance!"
   ]
  },
  {
   "cell_type": "code",
   "execution_count": 70,
   "metadata": {
    "colab": {
     "base_uri": "https://localhost:8080/",
     "height": 34
    },
    "colab_type": "code",
    "id": "8qbNZ8IESJzu",
    "outputId": "8403c636-3cab-48c1-d2a7-a4173967847e"
   },
   "outputs": [
    {
     "name": "stdout",
     "output_type": "stream",
     "text": [
      "torch.Size([1, 20, 32, 32])\n"
     ]
    }
   ],
   "source": [
    "h = nn.Conv2d(3, 20, 5, padding=2)(input_image)\n",
    "h = nn.BatchNorm2d(20)(h)\n",
    "h = F.relu(h)\n",
    "h = nn.Dropout2d(0.5)(h)\n",
    "print(h.size())"
   ]
  },
  {
   "cell_type": "markdown",
   "metadata": {
    "colab_type": "text",
    "id": "8Bz0fY56SJzy"
   },
   "source": [
    "## Downsampling"
   ]
  },
  {
   "cell_type": "markdown",
   "metadata": {
    "colab_type": "text",
    "id": "HGFRuWwXSJz0"
   },
   "source": [
    "You can downsample using pooling operations or strided convolutions."
   ]
  },
  {
   "cell_type": "code",
   "execution_count": 71,
   "metadata": {
    "colab": {
     "base_uri": "https://localhost:8080/",
     "height": 51
    },
    "colab_type": "code",
    "id": "2P1zlkDASJz1",
    "outputId": "80abe059-2bab-4424-906d-43a51a7c776f"
   },
   "outputs": [
    {
     "name": "stdout",
     "output_type": "stream",
     "text": [
      "torch.Size([1, 3, 16, 16])\n",
      "torch.Size([1, 3, 16, 16])\n"
     ]
    }
   ],
   "source": [
    "# Simple pooling operations\n",
    "print(nn.MaxPool2d(2)(input_image).size())\n",
    "print(nn.AvgPool2d(2)(input_image).size())"
   ]
  },
  {
   "cell_type": "code",
   "execution_count": 72,
   "metadata": {
    "colab": {
     "base_uri": "https://localhost:8080/",
     "height": 34
    },
    "colab_type": "code",
    "id": "1rDjUtIySJz7",
    "outputId": "58aa5032-1dc3-421d-b531-f67c9c8265fa"
   },
   "outputs": [
    {
     "name": "stdout",
     "output_type": "stream",
     "text": [
      "torch.Size([1, 20, 16, 16])\n"
     ]
    }
   ],
   "source": [
    "# Strided convolution\n",
    "layer = torch.nn.Conv2d(in_channels=3, out_channels=20, kernel_size=5, stride=2, padding=2)\n",
    "print(layer(input_image).size())"
   ]
  },
  {
   "cell_type": "markdown",
   "metadata": {
    "colab_type": "text",
    "id": "FjtNTA1WSJ0Q"
   },
   "source": [
    "## Reading Image Data"
   ]
  },
  {
   "cell_type": "markdown",
   "metadata": {},
   "source": [
    "### The CIFAR-10 dataset consists of 60000 32x32 colour images in 10 classes, with 6000 images per class. \n",
    "\n",
    "### There are 50000 training images and 10000 test images."
   ]
  },
  {
   "cell_type": "code",
   "execution_count": 73,
   "metadata": {},
   "outputs": [
    {
     "name": "stdout",
     "output_type": "stream",
     "text": [
      "Files already downloaded and verified\n",
      "Files already downloaded and verified\n",
      "==>>> total training set number: 50000\n",
      "==>>> total test set number: 10000\n"
     ]
    }
   ],
   "source": [
    "## load training dataset\n",
    "BATCH_SIZE = 512\n",
    "\n",
    "Mytransform = transforms.Compose([transforms.ToTensor(),transforms.RandomHorizontalFlip(p=0.3)])\n",
    "\n",
    "trainset = torchvision.datasets.CIFAR10(root='data/train', train=True,\n",
    "                                        download=True, transform=Mytransform)\n",
    "trainloader = torch.utils.data.DataLoader(trainset, batch_size=BATCH_SIZE,\n",
    "                                          shuffle=True, num_workers=0)\n",
    "\n",
    "## download and load testing dataset\n",
    "testset = torchvision.datasets.CIFAR10(root='data/test', train=False,\n",
    "                                       download=True, transform=Mytransform)\n",
    "testloader = torch.utils.data.DataLoader(testset, batch_size=BATCH_SIZE,\n",
    "                                         shuffle=False, num_workers=0)\n",
    "\n",
    "print('==>>> total training set number: {}'.format(len(trainset)))\n",
    "print('==>>> total test set number: {}'.format(len(testset)))"
   ]
  },
  {
   "cell_type": "markdown",
   "metadata": {},
   "source": [
    "### Visualizing the CIFAR-10 dataset"
   ]
  },
  {
   "cell_type": "code",
   "execution_count": 74,
   "metadata": {},
   "outputs": [
    {
     "data": {
      "image/png": "[encoded data removed]",
      "text/plain": [
       "<Figure size 1200x600 with 10 Axes>"
      ]
     },
     "metadata": {},
     "output_type": "display_data"
    }
   ],
   "source": [
    "import matplotlib.pyplot as plt\n",
    "\n",
    "# Define the class labels\n",
    "class_labels = ['airplane', 'automobile', 'bird', 'cat', 'deer', 'dog', 'frog', 'horse', 'ship', 'truck']\n",
    "\n",
    "# Get a batch of images from the test dataset\n",
    "images, labels = next(iter(testloader))\n",
    "\n",
    "# Plot the images\n",
    "fig, axes = plt.subplots(2, 5, figsize=(12, 6))\n",
    "axes = axes.flatten()\n",
    "\n",
    "# Ensure the loop does not exceed the number of axes available\n",
    "for i in range(min(len(images), len(axes))):  # This ensures we don't go out of bounds\n",
    "    image = images[i].numpy().transpose((1, 2, 0))\n",
    "    # If you've applied normalization, ensure to denormalize the image here\n",
    "    label = class_labels[labels[i].item()]\n",
    "    \n",
    "    axes[i].imshow(image)\n",
    "    axes[i].set_title(label)\n",
    "    axes[i].axis('off')\n",
    "\n",
    "plt.tight_layout()\n",
    "plt.show()\n"
   ]
  },
  {
   "cell_type": "markdown",
   "metadata": {
    "colab_type": "text",
    "id": "5pZdgCeUIZYk"
   },
   "source": [
    "# Coding Task 1\n",
    "\n",
    "## Now write a piece of code to train a CNN Model using CIFAR10 images. \n",
    "\n",
    "You are encouraged to reuse your code from Assignment 1.\n",
    "\n",
    "Another useful blog for this assignment would be https://www.analyticsvidhya.com/blog/2021/09/convolutional-neural-network-pytorch-implementation-on-cifar10-dataset/.\n"
   ]
  },
  {
   "cell_type": "markdown",
   "metadata": {},
   "source": [
    "## Define your network architecture. [1 point]"
   ]
  },
  {
   "cell_type": "code",
   "execution_count": 75,
   "metadata": {
    "colab": {},
    "colab_type": "code",
    "id": "WKu312hxOSdE"
   },
   "outputs": [],
   "source": [
    "class ImageClassificationBase(nn.Module):\n",
    "    def training_step(self, batch):\n",
    "        images, labels = batch \n",
    "        out = self(images)                  # Generate predictions\n",
    "        loss = F.cross_entropy(out, labels) # Calculate loss\n",
    "        accu = accuracy(out,labels)\n",
    "        return loss,accu\n",
    "    \n",
    "    def validation_step(self, batch):\n",
    "        images, labels = batch \n",
    "        out = self(images)                    # Generate predictions\n",
    "        loss = F.cross_entropy(out, labels)   # Calculate loss\n",
    "        acc = accuracy(out, labels)           # Calculate accuracy\n",
    "        return {'Loss': loss.detach(), 'Accuracy': acc}\n",
    "        \n",
    "    def validation_epoch_end(self, outputs):\n",
    "        batch_losses = [x['Loss'] for x in outputs]\n",
    "        epoch_loss = torch.stack(batch_losses).mean()   # Combine losses\n",
    "        batch_accs = [x['Accuracy'] for x in outputs]\n",
    "        epoch_acc = torch.stack(batch_accs).mean()      # Combine accuracies\n",
    "        return {'Loss': epoch_loss.item(), 'Accuracy': epoch_acc.item()}\n",
    "    \n",
    "    def epoch_end(self, epoch, result):\n",
    "        print(\"Epoch :\",epoch + 1)\n",
    "        print(f'Train Accuracy:{result[\"train_accuracy\"]*100:.2f}% Validation Accuracy:{result[\"Accuracy\"]*100:.2f}%')\n",
    "        print(f'Train Loss:{result[\"train_loss\"]:.4f} Validation Loss:{result[\"Loss\"]:.4f}')\n",
    "        \n",
    "class Mycnn(ImageClassificationBase):\n",
    "    def __init__(self):\n",
    "        super().__init__()\n",
    "        self.network = nn.Sequential(\n",
    "            nn.Conv2d(3, 32, kernel_size=3, padding=1),\n",
    "            nn.ReLU(),\n",
    "            nn.Conv2d(32, 64, kernel_size=3, stride=1, padding=1),\n",
    "            nn.ReLU(),\n",
    "            nn.MaxPool2d(2, 2), # output: 64 x 16 x 16\n",
    "            nn.BatchNorm2d(64),\n",
    "\n",
    "            nn.Conv2d(64, 128, kernel_size=3, stride=1, padding=1),\n",
    "            nn.ReLU(),\n",
    "            nn.Conv2d(128, 128, kernel_size=3, stride=1, padding=1),\n",
    "            nn.ReLU(),\n",
    "            nn.MaxPool2d(2, 2), # output: 128 x 8 x 8\n",
    "            nn.BatchNorm2d(128),\n",
    "\n",
    "            nn.Conv2d(128, 256, kernel_size=3, stride=1, padding=1),\n",
    "            nn.ReLU(),\n",
    "            nn.Conv2d(256, 256, kernel_size=3, stride=1, padding=1),\n",
    "            nn.ReLU(),\n",
    "            nn.MaxPool2d(2, 2), # output: 256 x 4 x 4\n",
    "            nn.BatchNorm2d(256),\n",
    "\n",
    "            nn.Flatten(), \n",
    "            nn.Linear(256*4*4, 1024),\n",
    "            nn.ReLU(),\n",
    "            nn.Linear(1024, 512),\n",
    "            nn.ReLU(),\n",
    "            nn.Linear(512, 10))\n",
    "\n",
    "\n",
    "    def forward(self, x):\n",
    "        \"YOUR CODE\"\n",
    "        return self.network(x)\n",
    "    \n",
    "model = Mycnn()"
   ]
  },
  {
   "cell_type": "markdown",
   "metadata": {},
   "source": [
    "## Define the Loss, training device, and any hyperparameters that you wish to tune. [1 point]"
   ]
  },
  {
   "cell_type": "code",
   "execution_count": 76,
   "metadata": {},
   "outputs": [],
   "source": [
    "\"YOUR CODE\"\n",
    "loss_function = nn.CrossEntropyLoss()\n",
    "\n",
    "\"YOUR CODE\"\n",
    "cuda = torch.cuda.is_available()\n",
    "device = torch.device(\"cuda\" if cuda else \"cpu\")\n"
   ]
  },
  {
   "cell_type": "markdown",
   "metadata": {},
   "source": [
    "## Define a training function that trains the model using training set and test it with testing set. [2 points]"
   ]
  },
  {
   "cell_type": "code",
   "execution_count": 77,
   "metadata": {},
   "outputs": [],
   "source": [
    "\"YOUR CODE\"\n",
    "\n",
    "def accuracy(outputs, labels):\n",
    "    _, preds = torch.max(outputs, dim=1)\n",
    "    return torch.tensor(torch.sum(preds == labels).item() / len(preds))\n",
    "\n",
    "def evaluate(model, data_loader):\n",
    "    model.eval()\n",
    "    outputs = [model.validation_step(batch) for batch in data_loader]\n",
    "    return model.validation_epoch_end(outputs)\n",
    "\n",
    "def fit(model, train_loader, val_loader,epochs=10,learning_rate=0.001):\n",
    "    best_valid = None\n",
    "    history = []\n",
    "    optimizer = torch.optim.Adam(model.parameters(), learning_rate,weight_decay=0.0005)\n",
    "    for epoch in range(epochs):\n",
    "        # Training Phase \n",
    "        model.train()\n",
    "        train_losses = []\n",
    "        train_accuracy = []\n",
    "        for batch in tqdm(train_loader):\n",
    "            loss,accu = model.training_step(batch)\n",
    "            train_losses.append(loss)\n",
    "            train_accuracy.append(accu)\n",
    "            loss.backward()\n",
    "            optimizer.step()\n",
    "            optimizer.zero_grad()\n",
    "        # Validation phase\n",
    "        result = evaluate(model, val_loader)\n",
    "        result['train_loss'] = torch.stack(train_losses).mean().item()\n",
    "        result['train_accuracy'] = torch.stack(train_accuracy).mean().item()\n",
    "        model.epoch_end(epoch, result)\n",
    "        if(best_valid == None or best_valid<result['Accuracy']):\n",
    "            best_valid=result['Accuracy']\n",
    "            torch.save(model.state_dict(), 'cifar10-cnn.pth')\n",
    "        history.append(result)\n",
    "    return history"
   ]
  },
  {
   "cell_type": "markdown",
   "metadata": {},
   "source": [
    "## Train the customized model on CIFAR-10 dataset and ensure the model is trained correctly (fine-tune). [2 points]"
   ]
  },
  {
   "cell_type": "code",
   "execution_count": 78,
   "metadata": {},
   "outputs": [
    {
     "name": "stderr",
     "output_type": "stream",
     "text": [
      "100%|███████████████████████████████████████████████████████████████████████████████████| 98/98 [03:22<00:00,  2.06s/it]\n"
     ]
    },
    {
     "name": "stdout",
     "output_type": "stream",
     "text": [
      "Epoch : 1\n",
      "Train Accuracy:55.05% Validation Accuracy:61.66%\n",
      "Train Loss:1.2336 Validation Loss:1.0913\n"
     ]
    },
    {
     "name": "stderr",
     "output_type": "stream",
     "text": [
      "100%|███████████████████████████████████████████████████████████████████████████████████| 98/98 [02:57<00:00,  1.81s/it]\n"
     ]
    },
    {
     "name": "stdout",
     "output_type": "stream",
     "text": [
      "Epoch : 2\n",
      "Train Accuracy:73.92% Validation Accuracy:74.10%\n",
      "Train Loss:0.7407 Validation Loss:0.7299\n"
     ]
    },
    {
     "name": "stderr",
     "output_type": "stream",
     "text": [
      "100%|███████████████████████████████████████████████████████████████████████████████████| 98/98 [03:15<00:00,  1.99s/it]\n"
     ]
    },
    {
     "name": "stdout",
     "output_type": "stream",
     "text": [
      "Epoch : 3\n",
      "Train Accuracy:80.61% Validation Accuracy:75.16%\n",
      "Train Loss:0.5562 Validation Loss:0.7138\n"
     ]
    },
    {
     "name": "stderr",
     "output_type": "stream",
     "text": [
      "100%|███████████████████████████████████████████████████████████████████████████████████| 98/98 [03:11<00:00,  1.96s/it]\n"
     ]
    },
    {
     "name": "stdout",
     "output_type": "stream",
     "text": [
      "Epoch : 4\n",
      "Train Accuracy:84.44% Validation Accuracy:76.08%\n",
      "Train Loss:0.4473 Validation Loss:0.7334\n"
     ]
    },
    {
     "name": "stderr",
     "output_type": "stream",
     "text": [
      "100%|███████████████████████████████████████████████████████████████████████████████████| 98/98 [03:15<00:00,  2.00s/it]\n"
     ]
    },
    {
     "name": "stdout",
     "output_type": "stream",
     "text": [
      "Epoch : 5\n",
      "Train Accuracy:87.38% Validation Accuracy:78.94%\n",
      "Train Loss:0.3676 Validation Loss:0.6349\n"
     ]
    },
    {
     "name": "stderr",
     "output_type": "stream",
     "text": [
      "100%|███████████████████████████████████████████████████████████████████████████████████| 98/98 [02:47<00:00,  1.71s/it]\n"
     ]
    },
    {
     "name": "stdout",
     "output_type": "stream",
     "text": [
      "Epoch : 6\n",
      "Train Accuracy:89.14% Validation Accuracy:82.07%\n",
      "Train Loss:0.3164 Validation Loss:0.5530\n"
     ]
    },
    {
     "name": "stderr",
     "output_type": "stream",
     "text": [
      "100%|███████████████████████████████████████████████████████████████████████████████████| 98/98 [02:48<00:00,  1.72s/it]\n"
     ]
    },
    {
     "name": "stdout",
     "output_type": "stream",
     "text": [
      "Epoch : 7\n",
      "Train Accuracy:90.83% Validation Accuracy:82.60%\n",
      "Train Loss:0.2635 Validation Loss:0.5375\n"
     ]
    },
    {
     "name": "stderr",
     "output_type": "stream",
     "text": [
      "100%|███████████████████████████████████████████████████████████████████████████████████| 98/98 [02:50<00:00,  1.74s/it]\n"
     ]
    },
    {
     "name": "stdout",
     "output_type": "stream",
     "text": [
      "Epoch : 8\n",
      "Train Accuracy:92.03% Validation Accuracy:82.72%\n",
      "Train Loss:0.2335 Validation Loss:0.5423\n"
     ]
    },
    {
     "name": "stderr",
     "output_type": "stream",
     "text": [
      "100%|███████████████████████████████████████████████████████████████████████████████████| 98/98 [02:49<00:00,  1.73s/it]\n"
     ]
    },
    {
     "name": "stdout",
     "output_type": "stream",
     "text": [
      "Epoch : 9\n",
      "Train Accuracy:93.05% Validation Accuracy:83.32%\n",
      "Train Loss:0.2040 Validation Loss:0.5287\n"
     ]
    },
    {
     "name": "stderr",
     "output_type": "stream",
     "text": [
      "100%|███████████████████████████████████████████████████████████████████████████████████| 98/98 [03:18<00:00,  2.02s/it]\n"
     ]
    },
    {
     "name": "stdout",
     "output_type": "stream",
     "text": [
      "Epoch : 10\n",
      "Train Accuracy:93.72% Validation Accuracy:80.41%\n",
      "Train Loss:0.1837 Validation Loss:0.6477\n"
     ]
    }
   ],
   "source": [
    "\"YOUR CODE\"\n",
    "history = fit(model, trainloader, testloader)"
   ]
  },
  {
   "cell_type": "markdown",
   "metadata": {},
   "source": [
    "## Visualize the loss and accuracy of the model. [1 point]"
   ]
  },
  {
   "cell_type": "markdown",
   "metadata": {},
   "source": [
    "### Plot the graph of the training accuracy and validation accuracy"
   ]
  },
  {
   "cell_type": "code",
   "execution_count": 79,
   "metadata": {},
   "outputs": [
    {
     "data": {
      "image/png": "[encoded data removed]",
      "text/plain": [
       "<Figure size 640x480 with 1 Axes>"
      ]
     },
     "metadata": {},
     "output_type": "display_data"
    }
   ],
   "source": [
    "\"YOUR CODE\"\n",
    "\n",
    "def plot_accuracies(history):\n",
    "    Validation_accuracies = [x['Accuracy'] for x in history]\n",
    "    Training_Accuracies = [x['train_accuracy'] for x in history]\n",
    "    plt.plot(Training_Accuracies, '-rx')\n",
    "    plt.plot(Validation_accuracies, '-bx')\n",
    "    plt.xlabel('epoch')\n",
    "    plt.ylabel('accuracy')\n",
    "    plt.legend(['Training', 'Validation'])\n",
    "    plt.title('Accuracy vs. No. of epochs');\n",
    "plot_accuracies(history)"
   ]
  },
  {
   "cell_type": "markdown",
   "metadata": {},
   "source": [
    "### Plot the graph of the training loss and validation loss"
   ]
  },
  {
   "cell_type": "code",
   "execution_count": 80,
   "metadata": {},
   "outputs": [
    {
     "data": {
      "image/png": "[encoded data removed]",
      "text/plain": [
       "<Figure size 640x480 with 1 Axes>"
      ]
     },
     "metadata": {},
     "output_type": "display_data"
    }
   ],
   "source": [
    "\"YOUR CODE\"\n",
    "def plot_losses(history):\n",
    "    train_losses = [x.get('train_loss') for x in history]\n",
    "    val_losses = [x['Loss'] for x in history]\n",
    "    plt.plot(train_losses, '-bx')\n",
    "    plt.plot(val_losses, '-rx')\n",
    "    plt.xlabel('epoch')\n",
    "    plt.ylabel('loss')\n",
    "    plt.legend(['Training', 'Validation'])\n",
    "    plt.title('Loss vs. No. of epochs');\n",
    "plot_losses(history)"
   ]
  },
  {
   "cell_type": "markdown",
   "metadata": {
    "colab_type": "text",
    "id": "mdWM8AwFSJ0p"
   },
   "source": [
    "## Pre-trained models\n",
    "\n",
    "Training CNN models from scratch requires a lot of data. Hence we often use pre-trained models to alleviate this problem. For CNNs, pre-trained models are readily available for famous architectures such as VGG, ResNet and Inception Net.\n",
    "\n",
    "When you set `pretrained=True`, torchvision automatically downloads the model for you, and initializes weights from there. If this does not work, run the following:\n",
    "```\n",
    ">> wget https://download.pytorch.org/models/vgg16-397923af.pth\n",
    ">> mv vgg16-397923af.pth ~/.torch/models/vgg16-397923af.pth\n",
    "```\n",
    "\n",
    "You can find other pretrained models included at https://pytorch.org/docs/stable/torchvision/models.html."
   ]
  },
  {
   "cell_type": "code",
   "execution_count": 81,
   "metadata": {
    "colab": {},
    "colab_type": "code",
    "id": "e19YvI2qSJ0q"
   },
   "outputs": [
    {
     "name": "stdout",
     "output_type": "stream",
     "text": [
      "VGG(\n",
      "  (features): Sequential(\n",
      "    (0): Conv2d(3, 64, kernel_size=(3, 3), stride=(1, 1), padding=(1, 1))\n",
      "    (1): ReLU(inplace=True)\n",
      "    (2): Conv2d(64, 64, kernel_size=(3, 3), stride=(1, 1), padding=(1, 1))\n",
      "    (3): ReLU(inplace=True)\n",
      "    (4): MaxPool2d(kernel_size=2, stride=2, padding=0, dilation=1, ceil_mode=False)\n",
      "    (5): Conv2d(64, 128, kernel_size=(3, 3), stride=(1, 1), padding=(1, 1))\n",
      "    (6): ReLU(inplace=True)\n",
      "    (7): Conv2d(128, 128, kernel_size=(3, 3), stride=(1, 1), padding=(1, 1))\n",
      "    (8): ReLU(inplace=True)\n",
      "    (9): MaxPool2d(kernel_size=2, stride=2, padding=0, dilation=1, ceil_mode=False)\n",
      "    (10): Conv2d(128, 256, kernel_size=(3, 3), stride=(1, 1), padding=(1, 1))\n",
      "    (11): ReLU(inplace=True)\n",
      "    (12): Conv2d(256, 256, kernel_size=(3, 3), stride=(1, 1), padding=(1, 1))\n",
      "    (13): ReLU(inplace=True)\n",
      "    (14): Conv2d(256, 256, kernel_size=(3, 3), stride=(1, 1), padding=(1, 1))\n",
      "    (15): ReLU(inplace=True)\n",
      "    (16): MaxPool2d(kernel_size=2, stride=2, padding=0, dilation=1, ceil_mode=False)\n",
      "    (17): Conv2d(256, 512, kernel_size=(3, 3), stride=(1, 1), padding=(1, 1))\n",
      "    (18): ReLU(inplace=True)\n",
      "    (19): Conv2d(512, 512, kernel_size=(3, 3), stride=(1, 1), padding=(1, 1))\n",
      "    (20): ReLU(inplace=True)\n",
      "    (21): Conv2d(512, 512, kernel_size=(3, 3), stride=(1, 1), padding=(1, 1))\n",
      "    (22): ReLU(inplace=True)\n",
      "    (23): MaxPool2d(kernel_size=2, stride=2, padding=0, dilation=1, ceil_mode=False)\n",
      "    (24): Conv2d(512, 512, kernel_size=(3, 3), stride=(1, 1), padding=(1, 1))\n",
      "    (25): ReLU(inplace=True)\n",
      "    (26): Conv2d(512, 512, kernel_size=(3, 3), stride=(1, 1), padding=(1, 1))\n",
      "    (27): ReLU(inplace=True)\n",
      "    (28): Conv2d(512, 512, kernel_size=(3, 3), stride=(1, 1), padding=(1, 1))\n",
      "    (29): ReLU(inplace=True)\n",
      "    (30): MaxPool2d(kernel_size=2, stride=2, padding=0, dilation=1, ceil_mode=False)\n",
      "  )\n",
      "  (avgpool): AdaptiveAvgPool2d(output_size=(7, 7))\n",
      "  (classifier): Sequential(\n",
      "    (0): Linear(in_features=25088, out_features=4096, bias=True)\n",
      "    (1): ReLU(inplace=True)\n",
      "    (2): Dropout(p=0.5, inplace=False)\n",
      "    (3): Linear(in_features=4096, out_features=4096, bias=True)\n",
      "    (4): ReLU(inplace=True)\n",
      "    (5): Dropout(p=0.5, inplace=False)\n",
      "    (6): Linear(in_features=4096, out_features=1000, bias=True)\n",
      "  )\n",
      ")\n"
     ]
    }
   ],
   "source": [
    "import torchvision.models as models\n",
    "\n",
    "vgg16 = models.vgg16(pretrained=True) # this might take a while\n",
    "vgg16.eval()\n",
    "print(vgg16)"
   ]
  },
  {
   "cell_type": "markdown",
   "metadata": {
    "colab_type": "text",
    "id": "GeoNBYIWSJ0u"
   },
   "source": [
    "## We can build a VGG feature extractor. These are often useful in downstream tasks, for example learning deep visual semantic embeddings (https://static.googleusercontent.com/media/research.google.com/en//pubs/archive/41473.pdf). This allows us to use features trained on large datasets like ImageNet, and use on tasks which have lesser data.\n",
    "\n",
    "## ``` vgg16.features ``` gives us convolutional features. Often, even taking all the layers until the last classification layer also suffices.\n"
   ]
  },
  {
   "cell_type": "code",
   "execution_count": 82,
   "metadata": {
    "colab": {},
    "colab_type": "code",
    "id": "8HzLOOCQSJ0v"
   },
   "outputs": [
    {
     "name": "stdout",
     "output_type": "stream",
     "text": [
      "torch.Size([1, 512, 7, 7])\n",
      "torch.Size([1, 25088])\n"
     ]
    }
   ],
   "source": [
    "vgg16_feature_extractor = vgg16.features\n",
    "# print('VGG feature extractor', vgg16_feature_extractor)\n",
    "print(vgg16_feature_extractor(Variable(torch.rand(1, 3, 224, 224))).size())\n",
    "print(vgg16_feature_extractor(Variable(torch.rand(1, 3, 224, 224))).view(1, -1).size()) # flatten conv features"
   ]
  },
  {
   "cell_type": "markdown",
   "metadata": {},
   "source": [
    "# Coding Task 2 \n",
    "\n",
    "### Please see below the section on Pre-Trained Models and how they can be used as feature extractors. \n",
    "\n",
    "### You should now use any pre-trained model such as the one shown below and extract features of an image of your choice and develop a simple  classifer using softmax, MLP or any other one you may want. Keep in mind the input image size before training your model.\n",
    "\n",
    "A useful blog post for completing this piece of code would be https://medium.com/@tsakunelsonz/loading-and-training-a-neural-network-with-custom-dataset-via-transfer-learning-in-pytorch-8e672933469\n",
    "\n"
   ]
  },
  {
   "cell_type": "markdown",
   "metadata": {},
   "source": [
    "## Load a pre-trained CNN model and freeze the pre-trained weights. [1 point]\n",
    "## Replace the final classifier layer (Linear layer) to match the number of classes in the dataset. [1 point]"
   ]
  },
  {
   "cell_type": "code",
   "execution_count": 83,
   "metadata": {},
   "outputs": [],
   "source": [
    "\"YOUR CODE\"\n",
    "from collections import OrderedDict\n",
    "\n",
    "classifier=nn.Sequential(OrderedDict([('fc1', nn.Linear(25088, 512)),\n",
    "                           ('relu', nn.ReLU()), \n",
    "                           ('dropout', nn.Dropout(p=0.337)),\n",
    "                           ('fc2', nn.Linear(512, 10)),\n",
    "                           ('output', nn.LogSoftmax(dim=1))\n",
    "                             ]))\n",
    "# replace the model's classifier with this new classifier \n",
    "# transfer learning connection applied here\n",
    "vgg16.classifier = classifier"
   ]
  },
  {
   "cell_type": "markdown",
   "metadata": {},
   "source": [
    "## Train the pre-trained model and visualize the accuracy and loss. [1 point]"
   ]
  },
  {
   "cell_type": "code",
   "execution_count": 84,
   "metadata": {},
   "outputs": [
    {
     "name": "stdout",
     "output_type": "stream",
     "text": [
      "1\n",
      "Epoch: 1 Train Loss : 1.0796  Train Accuracy: 0.6238\n",
      "Epoch: 1 Validation Loss : 0.8348  Validation Accuracy 0.7068\n",
      "2\n",
      "Epoch: 2 Train Loss : 0.6850  Train Accuracy: 0.7603\n",
      "Epoch: 2 Validation Loss : 0.6180  Validation Accuracy 0.7831\n",
      "3\n",
      "Epoch: 3 Train Loss : 0.5770  Train Accuracy: 0.7973\n",
      "Epoch: 3 Validation Loss : 0.5942  Validation Accuracy 0.7964\n",
      "4\n",
      "Epoch: 4 Train Loss : 0.5159  Train Accuracy: 0.8184\n",
      "Epoch: 4 Validation Loss : 0.5402  Validation Accuracy 0.8104\n",
      "5\n",
      "Epoch: 5 Train Loss : 0.4652  Train Accuracy: 0.8367\n",
      "Epoch: 5 Validation Loss : 0.5335  Validation Accuracy 0.8133\n",
      "6\n",
      "Epoch: 6 Train Loss : 0.4308  Train Accuracy: 0.8501\n",
      "Epoch: 6 Validation Loss : 0.5369  Validation Accuracy 0.8173\n",
      "7\n",
      "Epoch: 7 Train Loss : 0.4000  Train Accuracy: 0.8603\n",
      "Epoch: 7 Validation Loss : 0.4866  Validation Accuracy 0.8326\n",
      "8\n",
      "Epoch: 8 Train Loss : 0.3733  Train Accuracy: 0.8691\n",
      "Epoch: 8 Validation Loss : 0.4736  Validation Accuracy 0.8356\n",
      "9\n",
      "Epoch: 9 Train Loss : 0.3485  Train Accuracy: 0.8790\n",
      "Epoch: 9 Validation Loss : 0.4815  Validation Accuracy 0.8349\n",
      "10\n",
      "Epoch: 10 Train Loss : 0.3261  Train Accuracy: 0.8853\n",
      "Epoch: 10 Validation Loss : 0.4490  Validation Accuracy 0.8502\n"
     ]
    }
   ],
   "source": [
    "\"YOUR CODE\"\n",
    "from torch import optim\n",
    "criteria = nn.CrossEntropyLoss()\n",
    "optimizer = optim.SGD(vgg16.parameters(), lr = 0.005, momentum = 0.5)\n",
    "\n",
    "def train(model, loader, criterion, optimizer):\n",
    "    model.train()\n",
    "    current_loss = 0\n",
    "    current_correct = 0\n",
    "    for train, y_train in iter(loader):\n",
    "        optimizer.zero_grad()\n",
    "        output = model.forward(train)\n",
    "        _, preds = torch.max(output,1)\n",
    "        loss = criterion(output, y_train)\n",
    "        loss.backward()\n",
    "        optimizer.step()\n",
    "        current_loss += loss.item()*train.size(0)\n",
    "        current_correct += torch.sum(preds == y_train.data)\n",
    "    epoch_loss = current_loss / len(trainloader.dataset)\n",
    "    epoch_acc = current_correct.double() / len(trainloader.dataset)\n",
    "    return epoch_loss, epoch_acc\n",
    "\n",
    "def validation(model, loader, criterion):\n",
    "    model.eval()\n",
    "    valid_loss = 0\n",
    "    valid_correct = 0\n",
    "    for valid, y_valid in iter(loader):\n",
    "        output = model.forward(valid)\n",
    "        valid_loss += criterion(output, y_valid).item()*valid.size(0)\n",
    "        equal = (output.max(dim=1)[1] == y_valid.data)\n",
    "        valid_correct += torch.sum(equal)#type(torch.FloatTensor)\n",
    "    \n",
    "    epoch_loss = valid_loss / len(testloader.dataset)\n",
    "    epoch_acc = valid_correct.double() / len(testloader.dataset)\n",
    "    return epoch_loss, epoch_acc\n",
    "\n",
    "for param in vgg16.parameters():\n",
    "    param.require_grad = False\n",
    "#train and validate\n",
    "epochs = 10  \n",
    "epoch = 0\n",
    "\n",
    "history = []\n",
    "    \n",
    "for e in range(epochs):\n",
    "    epoch +=1\n",
    "    print(epoch)\n",
    "    with torch.set_grad_enabled(True):\n",
    "        epoch_train_loss, epoch_train_acc = train(vgg16, trainloader, criteria, optimizer)    \n",
    "        print(\"Epoch: {} Train Loss : {:.4f}  Train Accuracy: {:.4f}\".format(epoch,epoch_train_loss,epoch_train_acc))\n",
    "    with torch.no_grad():\n",
    "        epoch_val_loss, epoch_val_acc = validation(vgg16, testloader, criteria)\n",
    "        print(\"Epoch: {} Validation Loss : {:.4f}  Validation Accuracy {:.4f}\".format(epoch,epoch_val_loss,epoch_val_acc))\n",
    "    history.append({'Loss':epoch_val_loss, 'Accuracy':epoch_val_acc,'train_loss':epoch_train_loss,'train_accuracy':epoch_train_acc})"
   ]
  },
  {
   "cell_type": "markdown",
   "metadata": {},
   "source": [
    "### Plot the graph of the training accuracy and validation accuracy"
   ]
  },
  {
   "cell_type": "code",
   "execution_count": 87,
   "metadata": {},
   "outputs": [
    {
     "data": {
      "image/png": "[encoded data removed]",
      "text/plain": [
       "<Figure size 640x480 with 1 Axes>"
      ]
     },
     "metadata": {},
     "output_type": "display_data"
    }
   ],
   "source": [
    "def plot_accuracies(history):\n",
    "    Validation_accuracies = [x['Accuracy'] for x in history]\n",
    "    Training_Accuracies = [x['train_accuracy'] for x in history]\n",
    "    plt.plot(Training_Accuracies, '-rx')\n",
    "    plt.plot(Validation_accuracies, '-bx')\n",
    "    plt.xlabel('epoch')\n",
    "    plt.ylabel('accuracy')\n",
    "    plt.legend(['Training', 'Validation'])\n",
    "    plt.title('Accuracy vs. No. of epochs');\n",
    "plot_accuracies(history)"
   ]
  },
  {
   "cell_type": "markdown",
   "metadata": {},
   "source": [
    "### Plot the graph of the training loss and validation loss"
   ]
  },
  {
   "cell_type": "code",
   "execution_count": 86,
   "metadata": {},
   "outputs": [
    {
     "data": {
      "image/png": "[encoded data removed]",
      "text/plain": [
       "<Figure size 640x480 with 1 Axes>"
      ]
     },
     "metadata": {},
     "output_type": "display_data"
    }
   ],
   "source": [
    "\"YOUR CODE\"\n",
    "def plot_losses(history):\n",
    "    train_losses = [x.get('train_loss') for x in history]\n",
    "    val_losses = [x['Loss'] for x in history]\n",
    "    plt.plot(train_losses, '-bx')\n",
    "    plt.plot(val_losses, '-rx')\n",
    "    plt.xlabel('epoch')\n",
    "    plt.ylabel('loss')\n",
    "    plt.legend(['Training', 'Validation'])\n",
    "    plt.title('Loss vs. No. of epochs');\n",
    "plot_losses(history)"
   ]
  }
 ],
 "metadata": {
  "colab": {
   "name": "Lab 2_sol.ipynb",
   "provenance": [],
   "toc_visible": true,
   "version": "0.3.2"
  },
  "kernelspec": {
   "display_name": "Python 3 (ipykernel)",
   "language": "python",
   "name": "python3"
  },
  "language_info": {
   "codemirror_mode": {
    "name": "ipython",
    "version": 3
   },
   "file_extension": ".py",
   "mimetype": "text/x-python",
   "name": "python",
   "nbconvert_exporter": "python",
   "pygments_lexer": "ipython3",
   "version": "3.10.12"
  }
 },
 "nbformat": 4,
 "nbformat_minor": 4
}
