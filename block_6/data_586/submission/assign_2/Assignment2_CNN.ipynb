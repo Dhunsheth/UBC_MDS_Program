{
 "cells": [
  {
   "cell_type": "markdown",
   "metadata": {
    "colab_type": "text",
    "id": "Ti4jYk_NSJyu"
   },
   "source": [
    "# Convolutional Neural Networks"
   ]
  },
  {
   "cell_type": "markdown",
   "metadata": {
    "colab_type": "text",
    "id": "UXIJ0oDgVP0S"
   },
   "source": [
    "# **Assignment 2**\n",
    "### 10 Points\n",
    "\n",
    "---\n",
    "\n",
    "#### The lab has two parts. \n",
    "\n",
    "The first part of the lab acts as a tutorial for you to get familiar with PyTorch CNN. \n",
    "\n",
    "In the second part you will have to do some real coding:\n",
    "\n",
    "\n",
    "1. Construct a CNN model. [1 point]\n",
    "\n",
    "2. Define the Loss, training device, and any hyperparameters that you wish to tune. [1 point]\n",
    "\n",
    "3. Define a training function that trains the model using training set and test it with testing set. [2 points]\n",
    "\n",
    "4. Train the customized model on CIFAR-10 dataset and ensure the model is trained correctly (fine-tune). [2 points]\n",
    "\n",
    "5. Visualize the loss and accuracy of the model. [1 point]\n",
    "\n",
    "6. Load a pre-trained CNN model and freeze the pre-trained weights. [1 point]\n",
    "\n",
    "7. Replace the final classifier layer (Linear layer) to match the number of classes in the dataset. [1 point]\n",
    "\n",
    "8. Train the pre-trained model and visualize the accuracy and loss. [1 point]\n",
    "---\n",
    "\n"
   ]
  },
  {
   "cell_type": "markdown",
   "metadata": {
    "colab_type": "text",
    "id": "-UCXtW7lSJyz"
   },
   "source": [
    "This lab expects a basic understanding of pytorch and convolutional networks.\n",
    "\n",
    "* `torch.nn` documentation http://pytorch.org/docs/master/nn.html\n",
    "* Convolution animations. Make sure to understand these animations so you can visualize stride, padding, etc. https://github.com/vdumoulin/conv_arithmetic/blob/master/README.md\n",
    "* If you want to look at something more complicated, check out the ResNet implementation in torchvision: https://github.com/pytorch/vision/blob/master/torchvision/models/resnet.py"
   ]
  },
  {
   "cell_type": "code",
   "execution_count": 1,
   "metadata": {
    "colab": {},
    "colab_type": "code",
    "id": "e1mAJyfbSJy0"
   },
   "outputs": [],
   "source": [
    "import torch\n",
    "import torch.nn.functional as F\n",
    "from torch import autograd, nn\n",
    "from torch.autograd import Variable\n",
    "import numpy as np\n",
    "import matplotlib.pyplot as plt\n",
    "import torchvision\n",
    "from torchvision import transforms, datasets"
   ]
  },
  {
   "cell_type": "markdown",
   "metadata": {
    "colab_type": "text",
    "id": "yLzWNO7nSJy6"
   },
   "source": [
    "## Data Format"
   ]
  },
  {
   "cell_type": "markdown",
   "metadata": {
    "colab_type": "text",
    "id": "bGU4BfdVSJy7"
   },
   "source": [
    "Dimension ordering is very important. For pytorch:\n",
    "\n",
    "* 2D data like images should be `(samples, channels, height, width)` sometimes called \"NCHW\" or \"channels first\"\n",
    "* 1D data like stock prices should be `(samples, channels, time)`\n",
    "* 2D filters should be `(out_channels, in_channels, height, width)`\n",
    "* 1D filters should be `(out_channels, in_channels, time)`\n",
    "\n",
    "Different frameworks (e.g., TensorFlow) use different dimension orderings so be very careful, especially when implementing code or reading data targeted at a different framework.\n",
    "\n",
    "Note most image data is RGB but some is BGR  or ARGB."
   ]
  },
  {
   "cell_type": "code",
   "execution_count": 2,
   "metadata": {
    "colab": {
     "base_uri": "https://localhost:8080/",
     "height": 51
    },
    "colab_type": "code",
    "id": "XrbQgOImSJy9",
    "outputId": "c2d12677-4568-4d59-9093-ea7d4c1fc271"
   },
   "outputs": [
    {
     "name": "stdout",
     "output_type": "stream",
     "text": [
      "torch.Size([1, 3, 32, 32])\n",
      "torch.Size([1, 40, 100])\n"
     ]
    }
   ],
   "source": [
    "input_image = autograd.Variable(torch.randn(1,3,32,32)) # single 32x32 RGB image\n",
    "print(input_image.size())\n",
    "input_signal = autograd.Variable(torch.randn(1,40,100)) # 40 dimensional signal for 100 timesteps\n",
    "print(input_signal.size())"
   ]
  },
  {
   "cell_type": "markdown",
   "metadata": {
    "colab_type": "text",
    "id": "QyckDsMTSJzD"
   },
   "source": [
    "## Convolutional Layers"
   ]
  },
  {
   "cell_type": "markdown",
   "metadata": {
    "colab_type": "text",
    "id": "uqknLcM6SJzE"
   },
   "source": [
    "The `torch.nn` module provides layers for CNNs. Use in the same way as other modules. Please refer to the documentation for details. Some of the most common layers you will use:\n",
    "\n",
    "* `torch.nn.Conv2d`\n",
    "* `torch.nn.ConvTranspose2d`\n",
    "* `torch.nn.MaxPool2d`\n",
    "* `torch.nn.AvgPool2d`\n"
   ]
  },
  {
   "cell_type": "code",
   "execution_count": 3,
   "metadata": {
    "colab": {},
    "colab_type": "code",
    "id": "OlHjCz4ESJzF"
   },
   "outputs": [],
   "source": [
    "# Create layers\n",
    "layer_c2d = torch.nn.Conv2d(in_channels=3, out_channels=20, kernel_size=5, stride=1, padding=2)\n",
    "layer_avg = torch.nn.AvgPool2d(kernel_size=32)"
   ]
  },
  {
   "cell_type": "code",
   "execution_count": 4,
   "metadata": {
    "colab": {
     "base_uri": "https://localhost:8080/",
     "height": 34
    },
    "colab_type": "code",
    "id": "h31ed0W8SJzI",
    "outputId": "e884fafe-1961-44c4-b7cc-9ae75acc3ced"
   },
   "outputs": [
    {
     "name": "stdout",
     "output_type": "stream",
     "text": [
      "torch.Size([1, 20, 32, 32])\n"
     ]
    }
   ],
   "source": [
    "# Use layers directly\n",
    "y = layer_c2d(input_image)\n",
    "print(y.size())"
   ]
  },
  {
   "cell_type": "code",
   "execution_count": 5,
   "metadata": {
    "colab": {
     "base_uri": "https://localhost:8080/",
     "height": 34
    },
    "colab_type": "code",
    "id": "MzgjDWpOSJzN",
    "outputId": "d1c4502d-a78f-44ca-8ba1-cf5c8769c522"
   },
   "outputs": [
    {
     "name": "stdout",
     "output_type": "stream",
     "text": [
      "torch.Size([1, 20, 1, 1])\n"
     ]
    }
   ],
   "source": [
    "# Add layers to model\n",
    "model = torch.nn.Sequential(layer_avg, layer_c2d)\n",
    "y = model(input_image)\n",
    "print(y.size())"
   ]
  },
  {
   "cell_type": "markdown",
   "metadata": {
    "colab_type": "text",
    "id": "gEQrgJWCSJzQ"
   },
   "source": [
    "## Convolutional Functions"
   ]
  },
  {
   "cell_type": "markdown",
   "metadata": {
    "colab_type": "text",
    "id": "61_tagEvSJzS"
   },
   "source": [
    "The `torch.nn.functional` module provides low-level functions. Depending on what kinds of models you are making, you may never have to use these functions, and use pre-made layers instead. When using the functional module, you need to instantiate parameters yourself.\n",
    "\n",
    "http://pytorch.org/docs/0.1.12/nn.html#torch-nn-functional\n",
    "\n",
    "Example low-level functions:\n",
    "\n",
    "* `F.max_pool2d`\n",
    "* `F.dropout2d`\n",
    "* `F.conv2d`"
   ]
  },
  {
   "cell_type": "code",
   "execution_count": 6,
   "metadata": {
    "colab": {
     "base_uri": "https://localhost:8080/",
     "height": 34
    },
    "colab_type": "code",
    "id": "qIdS3aSnSJzT",
    "outputId": "42ee0698-4646-4a55-dc35-4d547691e06d"
   },
   "outputs": [
    {
     "name": "stdout",
     "output_type": "stream",
     "text": [
      "torch.Size([1, 20, 32, 32])\n"
     ]
    }
   ],
   "source": [
    "filters = autograd.Variable(torch.randn(20,3,5,5)) # 5x5 filter from 3 dimensions to 20\n",
    "y=F.conv2d(input_image, filters, padding=2)\n",
    "print(y.size())"
   ]
  },
  {
   "cell_type": "code",
   "execution_count": 7,
   "metadata": {
    "colab": {
     "base_uri": "https://localhost:8080/",
     "height": 34
    },
    "colab_type": "code",
    "id": "WvmmSlvOSJzX",
    "outputId": "c2bd66d0-768d-4663-ba66-cae145d007a5"
   },
   "outputs": [
    {
     "name": "stdout",
     "output_type": "stream",
     "text": [
      "torch.Size([1, 256, 100])\n"
     ]
    }
   ],
   "source": [
    "filters = autograd.Variable(torch.randn(256,40,5)) # 5 wide filter from 40 dimensions to 256\n",
    "y=F.conv1d(input_signal, filters, padding=2)\n",
    "print(y.size())"
   ]
  },
  {
   "cell_type": "markdown",
   "metadata": {
    "colab_type": "text",
    "id": "yL-JqNGeSJzb"
   },
   "source": [
    "For example, if you generate the kernel using a neural network, you will have to use the functional module instead of a standard convolutional layer."
   ]
  },
  {
   "cell_type": "markdown",
   "metadata": {
    "colab_type": "text",
    "id": "KeuXp35SSJzc"
   },
   "source": [
    "## Padding"
   ]
  },
  {
   "cell_type": "markdown",
   "metadata": {
    "colab_type": "text",
    "id": "nVe9SsxrSJzd"
   },
   "source": [
    "Simple 0-padding can be accomplished using the `padding` keyword argument of many functions. Normally, you will be using the same vertical and horizontal padding but you can also pass a tuple `(H,W)`. Padding is applied symmetrically."
   ]
  },
  {
   "cell_type": "code",
   "execution_count": 8,
   "metadata": {
    "colab": {
     "base_uri": "https://localhost:8080/",
     "height": 102
    },
    "colab_type": "code",
    "id": "WrhsnzpBSJze",
    "outputId": "70c9589c-1d4f-4f37-db19-7a42be64e45d"
   },
   "outputs": [
    {
     "name": "stdout",
     "output_type": "stream",
     "text": [
      "torch.Size([1, 20, 26, 26])\n",
      "torch.Size([1, 20, 28, 28])\n",
      "torch.Size([1, 20, 30, 30])\n",
      "torch.Size([1, 20, 32, 32])\n",
      "torch.Size([1, 20, 26, 32])\n"
     ]
    }
   ],
   "source": [
    "inputs = autograd.Variable(torch.randn(1,3,32,32)) # single 32x32 RGB image\n",
    "print(torch.nn.Conv2d(in_channels=3, out_channels=20, kernel_size=7, padding=0)(inputs).size())\n",
    "print(torch.nn.Conv2d(in_channels=3, out_channels=20, kernel_size=7, padding=1)(inputs).size())\n",
    "print(torch.nn.Conv2d(in_channels=3, out_channels=20, kernel_size=7, padding=2)(inputs).size())\n",
    "print(torch.nn.Conv2d(in_channels=3, out_channels=20, kernel_size=7, padding=3)(inputs).size())\n",
    "print(torch.nn.Conv2d(in_channels=3, out_channels=20, kernel_size=7, padding=(0,3))(inputs).size())"
   ]
  },
  {
   "cell_type": "markdown",
   "metadata": {
    "colab_type": "text",
    "id": "1XYSLFDcSJzj"
   },
   "source": [
    "For more complicated padding, use a padding layer before your convolution.\n",
    "\n",
    "* Single int: apply to all sides\n",
    "* tuple (H,W): apply H to top and bottom, W to left and right\n",
    "* tuple (left, right, top, bottom)"
   ]
  },
  {
   "cell_type": "code",
   "execution_count": 9,
   "metadata": {
    "colab": {
     "base_uri": "https://localhost:8080/",
     "height": 34
    },
    "colab_type": "code",
    "id": "GaC-D7k-SJzm",
    "outputId": "5bed12ab-7240-46d6-a585-ee8777887a26"
   },
   "outputs": [
    {
     "name": "stdout",
     "output_type": "stream",
     "text": [
      "torch.Size([1, 20, 32, 32])\n"
     ]
    }
   ],
   "source": [
    "inputs = autograd.Variable(torch.randn(1,3,32,32)) # single 32x32 RGB image\n",
    "y = torch.nn.Conv2d(3, 20, 7)(torch.nn.ReplicationPad2d(3)(inputs))\n",
    "print(y.size())"
   ]
  },
  {
   "cell_type": "markdown",
   "metadata": {
    "colab_type": "text",
    "id": "mkJlTfFUSJzr"
   },
   "source": [
    "Common padding layers:\n",
    "\n",
    "* torch.nn.ReplicationPad2d\n",
    "* torch.nn.ReflectionPad2d\n",
    "* torch.nn.ZeroPad2d\n",
    "* torch.nn.ConstantPad2d"
   ]
  },
  {
   "cell_type": "markdown",
   "metadata": {
    "colab_type": "text",
    "id": "IgZFMlwUSJzs"
   },
   "source": [
    "## Normalization and Dropout"
   ]
  },
  {
   "cell_type": "markdown",
   "metadata": {
    "colab_type": "text",
    "id": "OQj0quvGSJzt"
   },
   "source": [
    "Don't forget BatchNorm2d and Dropout2d if you want to improve performance!"
   ]
  },
  {
   "cell_type": "code",
   "execution_count": 10,
   "metadata": {
    "colab": {
     "base_uri": "https://localhost:8080/",
     "height": 34
    },
    "colab_type": "code",
    "id": "8qbNZ8IESJzu",
    "outputId": "8403c636-3cab-48c1-d2a7-a4173967847e"
   },
   "outputs": [
    {
     "name": "stdout",
     "output_type": "stream",
     "text": [
      "torch.Size([1, 20, 32, 32])\n"
     ]
    }
   ],
   "source": [
    "h = nn.Conv2d(3, 20, 5, padding=2)(input_image)\n",
    "h = nn.BatchNorm2d(20)(h)\n",
    "h = F.relu(h)\n",
    "h = nn.Dropout2d(0.5)(h)\n",
    "print(h.size())"
   ]
  },
  {
   "cell_type": "markdown",
   "metadata": {
    "colab_type": "text",
    "id": "8Bz0fY56SJzy"
   },
   "source": [
    "## Downsampling"
   ]
  },
  {
   "cell_type": "markdown",
   "metadata": {
    "colab_type": "text",
    "id": "HGFRuWwXSJz0"
   },
   "source": [
    "You can downsample using pooling operations or strided convolutions."
   ]
  },
  {
   "cell_type": "code",
   "execution_count": 11,
   "metadata": {
    "colab": {
     "base_uri": "https://localhost:8080/",
     "height": 51
    },
    "colab_type": "code",
    "id": "2P1zlkDASJz1",
    "outputId": "80abe059-2bab-4424-906d-43a51a7c776f"
   },
   "outputs": [
    {
     "name": "stdout",
     "output_type": "stream",
     "text": [
      "torch.Size([1, 3, 16, 16])\n",
      "torch.Size([1, 3, 16, 16])\n"
     ]
    }
   ],
   "source": [
    "# Simple pooling operations\n",
    "print(nn.MaxPool2d(2)(input_image).size())\n",
    "print(nn.AvgPool2d(2)(input_image).size())"
   ]
  },
  {
   "cell_type": "code",
   "execution_count": 12,
   "metadata": {
    "colab": {
     "base_uri": "https://localhost:8080/",
     "height": 34
    },
    "colab_type": "code",
    "id": "1rDjUtIySJz7",
    "outputId": "58aa5032-1dc3-421d-b531-f67c9c8265fa"
   },
   "outputs": [
    {
     "name": "stdout",
     "output_type": "stream",
     "text": [
      "torch.Size([1, 20, 16, 16])\n"
     ]
    }
   ],
   "source": [
    "# Strided convolution\n",
    "layer = torch.nn.Conv2d(in_channels=3, out_channels=20, kernel_size=5, stride=2, padding=2)\n",
    "print(layer(input_image).size())"
   ]
  },
  {
   "cell_type": "markdown",
   "metadata": {
    "colab_type": "text",
    "id": "FjtNTA1WSJ0Q"
   },
   "source": [
    "## Reading Image Data"
   ]
  },
  {
   "cell_type": "markdown",
   "metadata": {},
   "source": [
    "### The CIFAR-10 dataset consists of 60000 32x32 colour images in 10 classes, with 6000 images per class. \n",
    "\n",
    "### There are 50000 training images and 10000 test images."
   ]
  },
  {
   "cell_type": "code",
   "execution_count": 13,
   "metadata": {},
   "outputs": [
    {
     "name": "stdout",
     "output_type": "stream",
     "text": [
      "Files already downloaded and verified\n",
      "Files already downloaded and verified\n",
      "==>>> total training set number: 50000\n",
      "==>>> total test set number: 10000\n"
     ]
    }
   ],
   "source": [
    "## load training dataset\n",
    "BATCH_SIZE = 512\n",
    "\n",
    "Mytransform = transforms.Compose([transforms.ToTensor(),transforms.RandomHorizontalFlip(p=0.3)])\n",
    "\n",
    "trainset = torchvision.datasets.CIFAR10(root='data/train', train=True,\n",
    "                                        download=True, transform=Mytransform)\n",
    "trainloader = torch.utils.data.DataLoader(trainset, batch_size=BATCH_SIZE,\n",
    "                                          shuffle=True, num_workers=0)\n",
    "\n",
    "## download and load testing dataset\n",
    "testset = torchvision.datasets.CIFAR10(root='data/test', train=False,\n",
    "                                       download=True, transform=Mytransform)\n",
    "testloader = torch.utils.data.DataLoader(testset, batch_size=BATCH_SIZE,\n",
    "                                         shuffle=False, num_workers=0)\n",
    "\n",
    "print('==>>> total training set number: {}'.format(len(trainset)))\n",
    "print('==>>> total test set number: {}'.format(len(testset)))"
   ]
  },
  {
   "cell_type": "markdown",
   "metadata": {},
   "source": [
    "### Visualizing the CIFAR-10 dataset"
   ]
  },
  {
   "cell_type": "code",
   "execution_count": 14,
   "metadata": {},
   "outputs": [
    {
     "data": {
      "image/png": "[encoded data removed]",
      "text/plain": [
       "<Figure size 1200x600 with 10 Axes>"
      ]
     },
     "metadata": {},
     "output_type": "display_data"
    }
   ],
   "source": [
    "import matplotlib.pyplot as plt\n",
    "\n",
    "# Define the class labels\n",
    "class_labels = ['airplane', 'automobile', 'bird', 'cat', 'deer', 'dog', 'frog', 'horse', 'ship', 'truck']\n",
    "\n",
    "# Get a batch of images from the test dataset\n",
    "images, labels = next(iter(testloader))\n",
    "\n",
    "# Plot the images\n",
    "fig, axes = plt.subplots(2, 5, figsize=(12, 6))\n",
    "axes = axes.flatten()\n",
    "\n",
    "# Ensure the loop does not exceed the number of axes available\n",
    "for i in range(min(len(images), len(axes))):  # This ensures we don't go out of bounds\n",
    "    image = images[i].numpy().transpose((1, 2, 0))\n",
    "    # If you've applied normalization, ensure to denormalize the image here\n",
    "    label = class_labels[labels[i].item()]\n",
    "    \n",
    "    axes[i].imshow(image)\n",
    "    axes[i].set_title(label)\n",
    "    axes[i].axis('off')\n",
    "\n",
    "plt.tight_layout()\n",
    "plt.show()\n"
   ]
  },
  {
   "cell_type": "markdown",
   "metadata": {
    "colab_type": "text",
    "id": "5pZdgCeUIZYk"
   },
   "source": [
    "# Coding Task 1\n",
    "\n",
    "## Now write a piece of code to train a CNN Model using CIFAR10 images. \n",
    "\n",
    "You are encouraged to reuse your code from Assignment 1.\n",
    "\n",
    "Another useful blog for this assignment would be https://www.analyticsvidhya.com/blog/2021/09/convolutional-neural-network-pytorch-implementation-on-cifar10-dataset/.\n"
   ]
  },
  {
   "cell_type": "markdown",
   "metadata": {},
   "source": [
    "## Define your network architecture. [1 point]"
   ]
  },
  {
   "cell_type": "code",
   "execution_count": 15,
   "metadata": {
    "colab": {},
    "colab_type": "code",
    "id": "WKu312hxOSdE"
   },
   "outputs": [],
   "source": [
    "class Mycnn(nn.Module):\n",
    "    def __init__(self):\n",
    "        super(Mycnn, self).__init__()\n",
    "        \"YOUR CODE\"\n",
    "\n",
    "\n",
    "    def forward(self, x):\n",
    "        \"YOUR CODE\"\n",
    "        return\n",
    "    \n",
    "model = Mycnn()"
   ]
  },
  {
   "cell_type": "markdown",
   "metadata": {},
   "source": [
    "## Define the Loss, training device, and any hyperparameters that you wish to tune. [1 point]"
   ]
  },
  {
   "cell_type": "code",
   "execution_count": 16,
   "metadata": {},
   "outputs": [],
   "source": [
    "loss_function = \"YOUR CODE\"\n",
    "\n",
    "device = \"YOUR CODE\"\n"
   ]
  },
  {
   "cell_type": "markdown",
   "metadata": {},
   "source": [
    "## Define a training function that trains the model using training set and test it with testing set. [2 points]"
   ]
  },
  {
   "cell_type": "code",
   "execution_count": 7,
   "metadata": {},
   "outputs": [
    {
     "data": {
      "text/plain": [
       "'YOUR CODE'"
      ]
     },
     "execution_count": 7,
     "metadata": {},
     "output_type": "execute_result"
    }
   ],
   "source": [
    "\n",
    "\"YOUR CODE\""
   ]
  },
  {
   "cell_type": "markdown",
   "metadata": {},
   "source": [
    "## Train the customized model on CIFAR-10 dataset and ensure the model is trained correctly (fine-tune). [2 points]"
   ]
  },
  {
   "cell_type": "code",
   "execution_count": 6,
   "metadata": {},
   "outputs": [
    {
     "data": {
      "text/plain": [
       "'YOUR CODE'"
      ]
     },
     "execution_count": 6,
     "metadata": {},
     "output_type": "execute_result"
    }
   ],
   "source": [
    "\"YOUR CODE\""
   ]
  },
  {
   "cell_type": "markdown",
   "metadata": {},
   "source": [
    "## Visualize the loss and accuracy of the model. [1 point]"
   ]
  },
  {
   "cell_type": "markdown",
   "metadata": {},
   "source": [
    "### Plot the graph of the training accuracy and validation accuracy"
   ]
  },
  {
   "cell_type": "code",
   "execution_count": 5,
   "metadata": {},
   "outputs": [
    {
     "data": {
      "text/plain": [
       "'YOUR CODE'"
      ]
     },
     "execution_count": 5,
     "metadata": {},
     "output_type": "execute_result"
    }
   ],
   "source": [
    "\"YOUR CODE\""
   ]
  },
  {
   "cell_type": "markdown",
   "metadata": {},
   "source": [
    "### Plot the graph of the training loss and validation loss"
   ]
  },
  {
   "cell_type": "code",
   "execution_count": 4,
   "metadata": {},
   "outputs": [
    {
     "data": {
      "text/plain": [
       "'YOUR CODE'"
      ]
     },
     "execution_count": 4,
     "metadata": {},
     "output_type": "execute_result"
    }
   ],
   "source": [
    "\"YOUR CODE\""
   ]
  },
  {
   "cell_type": "markdown",
   "metadata": {
    "colab_type": "text",
    "id": "mdWM8AwFSJ0p"
   },
   "source": [
    "## Pre-trained models\n",
    "\n",
    "Training CNN models from scratch requires a lot of data. Hence we often use pre-trained models to alleviate this problem. For CNNs, pre-trained models are readily available for famous architectures such as VGG, ResNet and Inception Net.\n",
    "\n",
    "When you set `pretrained=True`, torchvision automatically downloads the model for you, and initializes weights from there. If this does not work, run the following:\n",
    "```\n",
    ">> wget https://download.pytorch.org/models/vgg16-397923af.pth\n",
    ">> mv vgg16-397923af.pth ~/.torch/models/vgg16-397923af.pth\n",
    "```\n",
    "\n",
    "You can find other pretrained models included at https://pytorch.org/docs/stable/torchvision/models.html."
   ]
  },
  {
   "cell_type": "code",
   "execution_count": 21,
   "metadata": {
    "colab": {},
    "colab_type": "code",
    "id": "e19YvI2qSJ0q"
   },
   "outputs": [
    {
     "name": "stderr",
     "output_type": "stream",
     "text": [
      "e:\\Anaconda\\envs\\face_landmark\\lib\\site-packages\\torchvision\\models\\_utils.py:208: UserWarning: The parameter 'pretrained' is deprecated since 0.13 and may be removed in the future, please use 'weights' instead.\n",
      "  warnings.warn(\n",
      "e:\\Anaconda\\envs\\face_landmark\\lib\\site-packages\\torchvision\\models\\_utils.py:223: UserWarning: Arguments other than a weight enum or `None` for 'weights' are deprecated since 0.13 and may be removed in the future. The current behavior is equivalent to passing `weights=VGG16_Weights.IMAGENET1K_V1`. You can also use `weights=VGG16_Weights.DEFAULT` to get the most up-to-date weights.\n",
      "  warnings.warn(msg)\n"
     ]
    },
    {
     "name": "stdout",
     "output_type": "stream",
     "text": [
      "VGG(\n",
      "  (features): Sequential(\n",
      "    (0): Conv2d(3, 64, kernel_size=(3, 3), stride=(1, 1), padding=(1, 1))\n",
      "    (1): ReLU(inplace=True)\n",
      "    (2): Conv2d(64, 64, kernel_size=(3, 3), stride=(1, 1), padding=(1, 1))\n",
      "    (3): ReLU(inplace=True)\n",
      "    (4): MaxPool2d(kernel_size=2, stride=2, padding=0, dilation=1, ceil_mode=False)\n",
      "    (5): Conv2d(64, 128, kernel_size=(3, 3), stride=(1, 1), padding=(1, 1))\n",
      "    (6): ReLU(inplace=True)\n",
      "    (7): Conv2d(128, 128, kernel_size=(3, 3), stride=(1, 1), padding=(1, 1))\n",
      "    (8): ReLU(inplace=True)\n",
      "    (9): MaxPool2d(kernel_size=2, stride=2, padding=0, dilation=1, ceil_mode=False)\n",
      "    (10): Conv2d(128, 256, kernel_size=(3, 3), stride=(1, 1), padding=(1, 1))\n",
      "    (11): ReLU(inplace=True)\n",
      "    (12): Conv2d(256, 256, kernel_size=(3, 3), stride=(1, 1), padding=(1, 1))\n",
      "    (13): ReLU(inplace=True)\n",
      "    (14): Conv2d(256, 256, kernel_size=(3, 3), stride=(1, 1), padding=(1, 1))\n",
      "    (15): ReLU(inplace=True)\n",
      "    (16): MaxPool2d(kernel_size=2, stride=2, padding=0, dilation=1, ceil_mode=False)\n",
      "    (17): Conv2d(256, 512, kernel_size=(3, 3), stride=(1, 1), padding=(1, 1))\n",
      "    (18): ReLU(inplace=True)\n",
      "    (19): Conv2d(512, 512, kernel_size=(3, 3), stride=(1, 1), padding=(1, 1))\n",
      "    (20): ReLU(inplace=True)\n",
      "    (21): Conv2d(512, 512, kernel_size=(3, 3), stride=(1, 1), padding=(1, 1))\n",
      "    (22): ReLU(inplace=True)\n",
      "    (23): MaxPool2d(kernel_size=2, stride=2, padding=0, dilation=1, ceil_mode=False)\n",
      "    (24): Conv2d(512, 512, kernel_size=(3, 3), stride=(1, 1), padding=(1, 1))\n",
      "    (25): ReLU(inplace=True)\n",
      "    (26): Conv2d(512, 512, kernel_size=(3, 3), stride=(1, 1), padding=(1, 1))\n",
      "    (27): ReLU(inplace=True)\n",
      "    (28): Conv2d(512, 512, kernel_size=(3, 3), stride=(1, 1), padding=(1, 1))\n",
      "    (29): ReLU(inplace=True)\n",
      "    (30): MaxPool2d(kernel_size=2, stride=2, padding=0, dilation=1, ceil_mode=False)\n",
      "  )\n",
      "  (avgpool): AdaptiveAvgPool2d(output_size=(7, 7))\n",
      "  (classifier): Sequential(\n",
      "    (0): Linear(in_features=25088, out_features=4096, bias=True)\n",
      "    (1): ReLU(inplace=True)\n",
      "    (2): Dropout(p=0.5, inplace=False)\n",
      "    (3): Linear(in_features=4096, out_features=4096, bias=True)\n",
      "    (4): ReLU(inplace=True)\n",
      "    (5): Dropout(p=0.5, inplace=False)\n",
      "    (6): Linear(in_features=4096, out_features=1000, bias=True)\n",
      "  )\n",
      ")\n"
     ]
    }
   ],
   "source": [
    "import torchvision.models as models\n",
    "\n",
    "vgg16 = models.vgg16(pretrained=True) # this might take a while\n",
    "vgg16.eval()\n",
    "print(vgg16)"
   ]
  },
  {
   "cell_type": "markdown",
   "metadata": {
    "colab_type": "text",
    "id": "GeoNBYIWSJ0u"
   },
   "source": [
    "## We can build a VGG feature extractor. These are often useful in downstream tasks, for example learning deep visual semantic embeddings (https://static.googleusercontent.com/media/research.google.com/en//pubs/archive/41473.pdf). This allows us to use features trained on large datasets like ImageNet, and use on tasks which have lesser data.\n",
    "\n",
    "## ``` vgg16.features ``` gives us convolutional features. Often, even taking all the layers until the last classification layer also suffices.\n"
   ]
  },
  {
   "cell_type": "code",
   "execution_count": 22,
   "metadata": {
    "colab": {},
    "colab_type": "code",
    "id": "8HzLOOCQSJ0v"
   },
   "outputs": [
    {
     "name": "stdout",
     "output_type": "stream",
     "text": [
      "torch.Size([1, 512, 7, 7])\n",
      "torch.Size([1, 25088])\n"
     ]
    }
   ],
   "source": [
    "vgg16_feature_extractor = vgg16.features\n",
    "# print('VGG feature extractor', vgg16_feature_extractor)\n",
    "print(vgg16_feature_extractor(Variable(torch.rand(1, 3, 224, 224))).size())\n",
    "print(vgg16_feature_extractor(Variable(torch.rand(1, 3, 224, 224))).view(1, -1).size()) # flatten conv features"
   ]
  },
  {
   "cell_type": "markdown",
   "metadata": {},
   "source": [
    "# Coding Task 2 \n",
    "\n",
    "### Please see below the section on Pre-Trained Models and how they can be used as feature extractors. \n",
    "\n",
    "### You should now use any pre-trained model such as the one shown below and extract features of an image of your choice and develop a simple  classifer using softmax, MLP or any other one you may want. Keep in mind the input image size before training your model.\n",
    "\n",
    "A useful blog post for completing this piece of code would be https://medium.com/@tsakunelsonz/loading-and-training-a-neural-network-with-custom-dataset-via-transfer-learning-in-pytorch-8e672933469\n",
    "\n"
   ]
  },
  {
   "cell_type": "markdown",
   "metadata": {},
   "source": [
    "## Load a pre-trained CNN model and freeze the pre-trained weights. [1 point]\n",
    "## Replace the final classifier layer (Linear layer) to match the number of classes in the dataset. [1 point]"
   ]
  },
  {
   "cell_type": "code",
   "execution_count": 3,
   "metadata": {},
   "outputs": [
    {
     "data": {
      "text/plain": [
       "'YOUR CODE'"
      ]
     },
     "execution_count": 3,
     "metadata": {},
     "output_type": "execute_result"
    }
   ],
   "source": [
    "\"YOUR CODE\""
   ]
  },
  {
   "cell_type": "markdown",
   "metadata": {},
   "source": [
    "## Train the pre-trained model and visualize the accuracy and loss. [1 point]"
   ]
  },
  {
   "cell_type": "code",
   "execution_count": null,
   "metadata": {},
   "outputs": [],
   "source": [
    "\"YOUR CODE\""
   ]
  },
  {
   "cell_type": "markdown",
   "metadata": {},
   "source": [
    "### Plot the graph of the training accuracy and validation accuracy"
   ]
  },
  {
   "cell_type": "markdown",
   "metadata": {},
   "source": [
    "### Plot the graph of the training loss and validation loss"
   ]
  },
  {
   "cell_type": "code",
   "execution_count": 1,
   "metadata": {},
   "outputs": [
    {
     "data": {
      "text/plain": [
       "'YOUR CODE'"
      ]
     },
     "execution_count": 1,
     "metadata": {},
     "output_type": "execute_result"
    }
   ],
   "source": [
    "\"YOUR CODE\""
   ]
  }
 ],
 "metadata": {
  "colab": {
   "name": "Lab 2_sol.ipynb",
   "provenance": [],
   "toc_visible": true,
   "version": "0.3.2"
  },
  "kernelspec": {
   "display_name": "Python 3 (ipykernel)",
   "language": "python",
   "name": "python3"
  },
  "language_info": {
   "codemirror_mode": {
    "name": "ipython",
    "version": 3
   },
   "file_extension": ".py",
   "mimetype": "text/x-python",
   "name": "python",
   "nbconvert_exporter": "python",
   "pygments_lexer": "ipython3",
   "version": "3.10.9"
  }
 },
 "nbformat": 4,
 "nbformat_minor": 1
}
