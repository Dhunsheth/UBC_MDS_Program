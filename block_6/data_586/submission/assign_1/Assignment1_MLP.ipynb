{
 "cells": [
  {
   "cell_type": "markdown",
   "metadata": {
    "colab_type": "text",
    "id": "XxnEs4_8ri94"
   },
   "source": [
    "# **Assignment 1**\n",
    "### 10 Points\n",
    "\n",
    "---\n",
    "\n",
    "\n",
    "\n",
    "This lab will help you understand the concept of implementing an MLP using  backpropagation algorithm. You are free to use any ML library such as Tensorflow, PyTorch or any other. However, this lab is supported using PyTorch.\n",
    "\n",
    "1. Prepare the MNIST dataset. [1 point]\n",
    "\n",
    "    1.1 Download the training set and test set from `torchvision.datasets`\n",
    "    \n",
    "    1.2 Set a batch size and push the training set and test set to dataloaders.\n",
    "   \n",
    "2. Compute the basic statistics of the training set that includes shape, min, max, mean, variance. You can use either `torch` or `numpy`. [1 point]\n",
    "\n",
    "3. Prepare model.\n",
    "\n",
    "    3.1 Define your own MLP network class from `nn.Module`. [1 point]\n",
    "    \n",
    "    3.2 Define your optimizer and loss function. [1 point]\n",
    "\n",
    "4. Write a function that can train the model on training set and output the perfomance of the model on testing set. [4 points]\n",
    "\n",
    "    4.1 The function should be able to train the model for N epochs and validate the model on the test set after each epoch.  \n",
    "    4.2 The function should print the loss and accuracy on the training set and test set after each epoch.\n",
    "    \n",
    "    4.3 The function should store and return lists containing the loss and accuracy history on the training set and test set, so we can print the plot of accuracy and loss. \n",
    "\n",
    "5. Train the model for N epochs (N is any integer chosen by you) and print the loss and accuracy for each epoch and for both training set and test set. [1 point]\n",
    "\n",
    "6. Visualize the accuracy and loss with respect to each epoch [1 point]\n",
    "    \n",
    "    6.1 One plot that contains accuracy curves for training set and testing set.    \n",
    "    6.2 One plot that contains loss curves for both sets."
   ]
  },
  {
   "cell_type": "markdown",
   "metadata": {
    "colab_type": "text",
    "id": "8AiKD0CStUYo"
   },
   "source": [
    "Important Reference: To be able to understand and code Deep Learning Models that are easy and ready for production, one should seriously refer to the documentation and tutorial of PyTorch (https://pytorch.org/tutorials/)."
   ]
  },
  {
   "cell_type": "markdown",
   "metadata": {
    "colab_type": "text",
    "id": "Pb5Zhq0apKB3"
   },
   "source": [
    "# MNIST Images - Our best friend!"
   ]
  },
  {
   "cell_type": "markdown",
   "metadata": {
    "colab_type": "text",
    "id": "8BG-L-x2pKB5"
   },
   "source": [
    "The MNIST dataset is a large database of handwritten digits that is commonly used for training various image processing systems. The database is also widely used for training and testing in the field of machine learning. \n",
    "\n",
    "It consists of 60,000 training images and 10,000 testing images.\n",
    "\n",
    "Original source of MNIST Dataset: (http://yann.lecun.com/exdb/mnist/). The link is just for reference, you don't need to download anything from the link.\n",
    "\n",
    "![alt text](https://cdn-images-1.medium.com/max/1200/1*9Mjoc_J0JR294YwHGXwCeg.jpeg)"
   ]
  },
  {
   "cell_type": "markdown",
   "metadata": {
    "colab_type": "text",
    "id": "Mk1eK0PtpKB6"
   },
   "source": [
    "## Necesary libraries"
   ]
  },
  {
   "cell_type": "code",
   "execution_count": 3,
   "metadata": {
    "colab": {},
    "colab_type": "code",
    "id": "AJnPBYxopKB8"
   },
   "outputs": [],
   "source": [
    "import numpy as np\n",
    "import torch\n",
    "import torch.nn as nn\n",
    "import torch.nn.functional as F\n",
    "import torch.utils.data.dataloader as dataloader\n",
    "import torch.optim as optim\n",
    "\n",
    "from torch.utils.data import TensorDataset\n",
    "from torchvision import transforms\n",
    "from torchvision.datasets import MNIST\n",
    "\n",
    "import matplotlib.pyplot as plt\n",
    "import time"
   ]
  },
  {
   "cell_type": "markdown",
   "metadata": {
    "colab_type": "text",
    "id": "myFS9eCUpKCA"
   },
   "source": [
    "## Download the MNIST train and test set [1 point]\n",
    "Using the torch.utils.data DataLoader, we shuffle the data and set the batch size to be 256. It is very important for everyone to focus on how the dataloader works. Please refer to the documentation."
   ]
  },
  {
   "cell_type": "code",
   "execution_count": 4,
   "metadata": {
    "colab": {},
    "colab_type": "code",
    "id": "PA0FcMHPpKCC"
   },
   "outputs": [],
   "source": [
    "batch_size = \"YOUR CODE\"\n",
    "\n",
    "train = \"YOUR CODE\" # Load the training data\n",
    "\n",
    "test = \"YOUR CODE\" # Load the test data\n",
    "\n",
    "train_loader = \"YOUR CODE\" # Push the training data to the dataloader\n",
    "\n",
    "test_loader = \"YOUR CODE\" # Push the test data to the dataloader\n",
    "\n",
    "cuda = torch.cuda.is_available() # Check if GPU CUDA is available\n"
   ]
  },
  {
   "attachments": {},
   "cell_type": "markdown",
   "metadata": {
    "colab_type": "text",
    "id": "oRXn_YW6pKCG"
   },
   "source": [
    "## Compute basic data statistics [1 point]\n",
    "It is always important to know the shape of the data, as well as the min/max and mean/variance. Print all the values. You may use the following functions in pytorch:\n",
    "\n",
    "Shape (train_data.shape), min (torch.min), max (torch.max), mean (torch.mean), variance (torch.var), standard deviation (torch.std)"
   ]
  },
  {
   "cell_type": "code",
   "execution_count": 168,
   "metadata": {
    "colab": {},
    "colab_type": "code",
    "id": "QvoJUdCEpKCH"
   },
   "outputs": [
    {
     "name": "stdout",
     "output_type": "stream",
     "text": [
      "Train data shape:  torch.Size([60000, 28, 28])\n",
      "Mean of all the pixels:  tensor(33.3184)\n",
      "Maximum of all the pixels:  tensor(255.)\n",
      "Minimum of all the pixels:  tensor(0.)\n",
      "Variance of all the pixels:  tensor(6172.8506)\n"
     ]
    }
   ],
   "source": [
    "train_data = train.train_data\n",
    "\n",
    "shape = \"YOUR CODE\"\n",
    "print('Train data shape: ',shape)\n",
    "\n",
    "mean = \"YOUR CODE\"# Calculate the mean of the training data\n",
    "print('Mean of all the pixels: ',mean)\n",
    "\n",
    "max_value = \"YOUR CODE\" # Calculate the maximum value of the training data\n",
    "print('Maximum of all the pixels: ',max_value)\n",
    "\n",
    "min_value = \"YOUR CODE\" # Calculate the minimum value of the training data\n",
    "print('Minimum of all the pixels: ',min_value)\n",
    "\n",
    "Variance = \"YOUR CODE\" # Calculate the variance of the training data\n",
    "print('Variance of all the pixels: ',Variance)\n",
    "\n"
   ]
  },
  {
   "cell_type": "markdown",
   "metadata": {
    "colab_type": "text",
    "id": "eQX6tSdgpKCL"
   },
   "source": [
    "## Visualize a few training samples\n",
    "Using the matplotlib.pyplot library, we can visualize our input data.\n"
   ]
  },
  {
   "cell_type": "code",
   "execution_count": 169,
   "metadata": {
    "colab": {},
    "colab_type": "code",
    "id": "d4jc9hRMpKCM"
   },
   "outputs": [
    {
     "data": {
      "text/plain": [
       "<matplotlib.image.AxesImage at 0x2170e9f9f00>"
      ]
     },
     "execution_count": 169,
     "metadata": {},
     "output_type": "execute_result"
    },
    {
     "data": {
      "image/png": "[encoded data removed]",
      "text/plain": [
       "<Figure size 640x480 with 1 Axes>"
      ]
     },
     "metadata": {},
     "output_type": "display_data"
    }
   ],
   "source": [
    "# Visualize a training instance with matplotlib\n",
    "plt.imshow(train.train_data.cpu().numpy()[0], cmap='gray')"
   ]
  },
  {
   "cell_type": "code",
   "execution_count": 170,
   "metadata": {
    "colab": {},
    "colab_type": "code",
    "id": "PK0YNQIvpKCQ"
   },
   "outputs": [
    {
     "data": {
      "text/plain": [
       "<matplotlib.image.AxesImage at 0x2170ea72110>"
      ]
     },
     "execution_count": 170,
     "metadata": {},
     "output_type": "execute_result"
    },
    {
     "data": {
      "image/png": "[encoded data removed]",
      "text/plain": [
       "<Figure size 640x480 with 1 Axes>"
      ]
     },
     "metadata": {},
     "output_type": "display_data"
    }
   ],
   "source": [
    "plt.imshow(train.train_data.cpu().numpy()[1], cmap='gray')"
   ]
  },
  {
   "cell_type": "markdown",
   "metadata": {
    "colab_type": "text",
    "id": "8TN1YQ1HpKCT"
   },
   "source": [
    "## Defining a Neural Network Model \n",
    "\n"
   ]
  },
  {
   "cell_type": "markdown",
   "metadata": {
    "colab_type": "text",
    "id": "Aj-gUObVpKCY"
   },
   "source": [
    "## Create the model and define the loss and optimizer [2 points]\n",
    "\n",
    "Define your model using the torch.nn.Module class.\n",
    "\n",
    "You create an instance of the Simple_MLP model by passing it a list of layer sizes. The input layer contains 28*28 = 784 neurons. You may define hidden layers of different hidden dimension, and output will be the class probabilities for each of the 10 digits (0-9).\n",
    "\n",
    "How many neurons will be there in the output layer?\n",
    "\n",
    "This is a classification task, I recommend you use Cross Entropy Loss (It is your error function or divergence function). We define our criterion using the torch.nn.CrossEntropyLoss.\n",
    "\n",
    "In order to train our network, we use the torch.optim.SGD optimizer. You may use the optimizer **Adam**."
   ]
  },
  {
   "cell_type": "code",
   "execution_count": 172,
   "metadata": {
    "colab": {},
    "colab_type": "code",
    "id": "M6vx0wRvpKCa"
   },
   "outputs": [
    {
     "name": "stdout",
     "output_type": "stream",
     "text": [
      "Simple_MLP(\n",
      "  (net): Sequential(\n",
      "    (0): Linear(in_features=784, out_features=512, bias=True)\n",
      "    (1): ReLU()\n",
      "    (2): Linear(in_features=512, out_features=128, bias=True)\n",
      "    (3): ReLU()\n",
      "    (4): Linear(in_features=128, out_features=10, bias=True)\n",
      "  )\n",
      ")\n"
     ]
    }
   ],
   "source": [
    "# Please complete the code below. Hint: Each comment is a line of code\n",
    "\n",
    "# Create an instance of Simple MLP model\n",
    "# Specify the activation function to use\n",
    "\n",
    "class Simple_MLP(nn.Module):\n",
    "    def __init__(self):\n",
    "        super(Simple_MLP, self).__init__()\n",
    "        \"YOUR CODE\"    \n",
    "\n",
    "    def forward(self, x):\n",
    "        \"YOUR CODE\"\n",
    "\n",
    "\n",
    "# Define your Loss function\n",
    "criterion = \"YOUR CODE\"\n",
    "\n",
    "# Intilialize and print the model\n",
    "model = Simple_MLP()\n",
    "print(model)\n",
    "\n",
    "# Choose an optimizer for the model parameters (ex. optimizer = optim.Adam(model.parameters()))\n",
    "optimizer = \"YOUR CODE\"\n",
    "\n",
    "# device is the hardware you are using (CPU or GPU)\n",
    "device = torch.device(\"cuda\" if cuda else \"cpu\")\n"
   ]
  },
  {
   "cell_type": "markdown",
   "metadata": {
    "colab_type": "text",
    "id": "PBPet9qUpKCd"
   },
   "source": [
    "## Complete the below function that will train the network [4 points]\n",
    "### The function should be able to train the model for N epochs and validate the model on the test set after each epoch. \n",
    "### The function should print the loss and accuracy on the training set and test set after each epoch. \n",
    "### The function should store and return lists containing the loss and accuracy history on the training set and test set, so we can print the plot of accuracy and loss. \n",
    "\n"
   ]
  },
  {
   "cell_type": "code",
   "execution_count": 173,
   "metadata": {},
   "outputs": [],
   "source": [
    "def train_model(\"YOUR CODE\"):\n",
    "    \"YOUR CODE\""
   ]
  },
  {
   "cell_type": "markdown",
   "metadata": {
    "colab_type": "text",
    "id": "YF15pFtwpKCj"
   },
   "source": [
    "## Train the model for N epochs [1 point]\n",
    "Train and test your network in a loop, while keeping track of the **losses and accuracy**.   "
   ]
  },
  {
   "cell_type": "code",
   "execution_count": 174,
   "metadata": {
    "colab": {},
    "colab_type": "code",
    "id": "y6pyjuMmpKCk"
   },
   "outputs": [
    {
     "name": "stdout",
     "output_type": "stream",
     "text": [
      "Epoch 1 \t\t Training Accuracy: 86.403 \t\t Validation Accuracy: 93.610\n",
      " \t\t\t Training Loss: 0.519 \t\t\t Validation Loss: 0.220\n",
      "\n",
      "----------------------------------------------------------------------------------------------------\n",
      "Epoch 2 \t\t Training Accuracy: 94.362 \t\t Validation Accuracy: 95.420\n",
      " \t\t\t Training Loss: 0.192 \t\t\t Validation Loss: 0.153\n",
      "\n",
      "----------------------------------------------------------------------------------------------------\n",
      "Epoch 3 \t\t Training Accuracy: 96.278 \t\t Validation Accuracy: 96.470\n",
      " \t\t\t Training Loss: 0.130 \t\t\t Validation Loss: 0.118\n",
      "\n",
      "----------------------------------------------------------------------------------------------------\n",
      "Epoch 4 \t\t Training Accuracy: 97.155 \t\t Validation Accuracy: 96.820\n",
      " \t\t\t Training Loss: 0.097 \t\t\t Validation Loss: 0.102\n",
      "\n",
      "----------------------------------------------------------------------------------------------------\n",
      "Epoch 5 \t\t Training Accuracy: 97.840 \t\t Validation Accuracy: 97.150\n",
      " \t\t\t Training Loss: 0.075 \t\t\t Validation Loss: 0.094\n",
      "\n",
      "----------------------------------------------------------------------------------------------------\n",
      "Epoch 6 \t\t Training Accuracy: 98.203 \t\t Validation Accuracy: 97.580\n",
      " \t\t\t Training Loss: 0.060 \t\t\t Validation Loss: 0.079\n",
      "\n",
      "----------------------------------------------------------------------------------------------------\n",
      "Epoch 7 \t\t Training Accuracy: 98.520 \t\t Validation Accuracy: 97.790\n",
      " \t\t\t Training Loss: 0.049 \t\t\t Validation Loss: 0.074\n",
      "\n",
      "----------------------------------------------------------------------------------------------------\n",
      "Epoch 8 \t\t Training Accuracy: 98.870 \t\t Validation Accuracy: 97.630\n",
      " \t\t\t Training Loss: 0.039 \t\t\t Validation Loss: 0.078\n",
      "\n",
      "----------------------------------------------------------------------------------------------------\n",
      "Epoch 9 \t\t Training Accuracy: 99.045 \t\t Validation Accuracy: 97.810\n",
      " \t\t\t Training Loss: 0.032 \t\t\t Validation Loss: 0.075\n",
      "\n",
      "----------------------------------------------------------------------------------------------------\n",
      "Epoch 10 \t\t Training Accuracy: 99.315 \t\t Validation Accuracy: 97.920\n",
      " \t\t\t Training Loss: 0.025 \t\t\t Validation Loss: 0.069\n",
      "\n",
      "----------------------------------------------------------------------------------------------------\n",
      "Epoch 11 \t\t Training Accuracy: 99.480 \t\t Validation Accuracy: 97.990\n",
      " \t\t\t Training Loss: 0.019 \t\t\t Validation Loss: 0.068\n",
      "\n",
      "----------------------------------------------------------------------------------------------------\n",
      "Epoch 12 \t\t Training Accuracy: 99.595 \t\t Validation Accuracy: 98.080\n",
      " \t\t\t Training Loss: 0.016 \t\t\t Validation Loss: 0.068\n",
      "\n",
      "----------------------------------------------------------------------------------------------------\n",
      "Epoch 13 \t\t Training Accuracy: 99.723 \t\t Validation Accuracy: 98.250\n",
      " \t\t\t Training Loss: 0.012 \t\t\t Validation Loss: 0.065\n",
      "\n",
      "----------------------------------------------------------------------------------------------------\n",
      "Epoch 14 \t\t Training Accuracy: 99.767 \t\t Validation Accuracy: 98.060\n",
      " \t\t\t Training Loss: 0.010 \t\t\t Validation Loss: 0.069\n",
      "\n",
      "----------------------------------------------------------------------------------------------------\n",
      "Epoch 15 \t\t Training Accuracy: 99.783 \t\t Validation Accuracy: 98.220\n",
      " \t\t\t Training Loss: 0.009 \t\t\t Validation Loss: 0.067\n",
      "\n",
      "----------------------------------------------------------------------------------------------------\n",
      "Epoch 16 \t\t Training Accuracy: 99.865 \t\t Validation Accuracy: 97.990\n",
      " \t\t\t Training Loss: 0.007 \t\t\t Validation Loss: 0.073\n",
      "\n",
      "----------------------------------------------------------------------------------------------------\n",
      "Epoch 17 \t\t Training Accuracy: 99.905 \t\t Validation Accuracy: 98.030\n",
      " \t\t\t Training Loss: 0.006 \t\t\t Validation Loss: 0.073\n",
      "\n",
      "----------------------------------------------------------------------------------------------------\n",
      "Epoch 18 \t\t Training Accuracy: 99.893 \t\t Validation Accuracy: 98.160\n",
      " \t\t\t Training Loss: 0.004 \t\t\t Validation Loss: 0.074\n",
      "\n",
      "----------------------------------------------------------------------------------------------------\n",
      "Epoch 19 \t\t Training Accuracy: 99.958 \t\t Validation Accuracy: 98.150\n",
      " \t\t\t Training Loss: 0.003 \t\t\t Validation Loss: 0.073\n",
      "\n",
      "----------------------------------------------------------------------------------------------------\n",
      "Epoch 20 \t\t Training Accuracy: 99.973 \t\t Validation Accuracy: 98.110\n",
      " \t\t\t Training Loss: 0.002 \t\t\t Validation Loss: 0.075\n",
      "\n",
      "----------------------------------------------------------------------------------------------------\n"
     ]
    }
   ],
   "source": [
    "# Write your piece of code to run train and test the network for 10 epochs.  \n",
    "n_epochs = \"YOUR CODE\"\n",
    "train_acc_list,valid_acc_list,train_loss_list,valid_loss_list = train_model(\"YOUR CODE\")"
   ]
  },
  {
   "cell_type": "markdown",
   "metadata": {
    "colab_type": "text",
    "id": "SjeexQLTpKCo"
   },
   "source": [
    "## Visualize the accuracy and loss with respect to each epoch [1 point]\n",
    "\n",
    "Draw a graph for Training Loss percentage with respect to the number of epochs. "
   ]
  },
  {
   "cell_type": "code",
   "execution_count": 5,
   "metadata": {
    "colab": {},
    "colab_type": "code",
    "id": "fttK9GMnpKCp"
   },
   "outputs": [
    {
     "data": {
      "text/plain": [
       "'YOUR CODE'"
      ]
     },
     "execution_count": 5,
     "metadata": {},
     "output_type": "execute_result"
    }
   ],
   "source": [
    "# Insert your code here\n",
    "# plot the train accuray and validation accuracy in the same plot \n",
    "\"YOUR CODE\""
   ]
  },
  {
   "cell_type": "markdown",
   "metadata": {
    "colab_type": "text",
    "id": "t2bbqnZcaOZt"
   },
   "source": [
    "Draw a graph for Testing Loss percentage with respect to number of epochs."
   ]
  },
  {
   "cell_type": "code",
   "execution_count": 176,
   "metadata": {
    "colab": {},
    "colab_type": "code",
    "id": "OEegIduppKCs",
    "scrolled": false
   },
   "outputs": [
    {
     "data": {
      "text/plain": [
       "<matplotlib.legend.Legend at 0x2170d4a7e80>"
      ]
     },
     "execution_count": 176,
     "metadata": {},
     "output_type": "execute_result"
    },
    {
     "data": {
      "image/png": "[encoded data removed]",
      "text/plain": [
       "<Figure size 640x480 with 1 Axes>"
      ]
     },
     "metadata": {},
     "output_type": "display_data"
    }
   ],
   "source": [
    "# plot the train loss and validation loss in the same plot \n",
    "\"YOUR CODE\""
   ]
  }
 ],
 "metadata": {
  "accelerator": "GPU",
  "colab": {
   "name": "Lab 1 DATA 586 AML.ipynb",
   "provenance": [],
   "version": "0.3.2"
  },
  "kernelspec": {
   "display_name": "Python 3 (ipykernel)",
   "language": "python",
   "name": "python3"
  },
  "language_info": {
   "codemirror_mode": {
    "name": "ipython",
    "version": 3
   },
   "file_extension": ".py",
   "mimetype": "text/x-python",
   "name": "python",
   "nbconvert_exporter": "python",
   "pygments_lexer": "ipython3",
   "version": "3.10.9"
  }
 },
 "nbformat": 4,
 "nbformat_minor": 1
}
