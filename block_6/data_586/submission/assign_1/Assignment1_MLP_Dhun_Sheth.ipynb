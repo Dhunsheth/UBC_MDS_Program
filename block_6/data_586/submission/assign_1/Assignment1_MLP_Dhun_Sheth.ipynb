{
 "cells": [
  {
   "cell_type": "markdown",
   "metadata": {
    "colab_type": "text",
    "id": "XxnEs4_8ri94"
   },
   "source": [
    "# **Assignment 1**\n",
    "### 10 Points\n",
    "\n",
    "---\n",
    "\n",
    "\n",
    "\n",
    "This lab will help you understand the concept of implementing an MLP using  backpropagation algorithm. You are free to use any ML library such as Tensorflow, PyTorch or any other. However, this lab is supported using PyTorch.\n",
    "\n",
    "1. Prepare the MNIST dataset. [1 point]\n",
    "\n",
    "    1.1 Download the training set and test set from `torchvision.datasets`\n",
    "    \n",
    "    1.2 Set a batch size and push the training set and test set to dataloaders.\n",
    "   \n",
    "2. Compute the basic statistics of the training set that includes shape, min, max, mean, variance. You can use either `torch` or `numpy`. [1 point]\n",
    "\n",
    "3. Prepare model.\n",
    "\n",
    "    3.1 Define your own MLP network class from `nn.Module`. [1 point]\n",
    "    \n",
    "    3.2 Define your optimizer and loss function. [1 point]\n",
    "\n",
    "4. Write a function that can train the model on training set and output the perfomance of the model on testing set. [4 points]\n",
    "\n",
    "    4.1 The function should be able to train the model for N epochs and validate the model on the test set after each epoch.  \n",
    "    4.2 The function should print the loss and accuracy on the training set and test set after each epoch.\n",
    "    \n",
    "    4.3 The function should store and return lists containing the loss and accuracy history on the training set and test set, so we can print the plot of accuracy and loss. \n",
    "\n",
    "5. Train the model for N epochs (N is any integer chosen by you) and print the loss and accuracy for each epoch and for both training set and test set. [1 point]\n",
    "\n",
    "6. Visualize the accuracy and loss with respect to each epoch [1 point]\n",
    "    \n",
    "    6.1 One plot that contains accuracy curves for training set and testing set.    \n",
    "    6.2 One plot that contains loss curves for both sets."
   ]
  },
  {
   "cell_type": "markdown",
   "metadata": {
    "colab_type": "text",
    "id": "8AiKD0CStUYo"
   },
   "source": [
    "Important Reference: To be able to understand and code Deep Learning Models that are easy and ready for production, one should seriously refer to the documentation and tutorial of PyTorch (https://pytorch.org/tutorials/)."
   ]
  },
  {
   "cell_type": "markdown",
   "metadata": {
    "colab_type": "text",
    "id": "Pb5Zhq0apKB3"
   },
   "source": [
    "# MNIST Images - Our best friend!"
   ]
  },
  {
   "cell_type": "markdown",
   "metadata": {
    "colab_type": "text",
    "id": "8BG-L-x2pKB5"
   },
   "source": [
    "The MNIST dataset is a large database of handwritten digits that is commonly used for training various image processing systems. The database is also widely used for training and testing in the field of machine learning. \n",
    "\n",
    "It consists of 60,000 training images and 10,000 testing images.\n",
    "\n",
    "Original source of MNIST Dataset: (http://yann.lecun.com/exdb/mnist/). The link is just for reference, you don't need to download anything from the link.\n",
    "\n",
    "![alt text](https://cdn-images-1.medium.com/max/1200/1*9Mjoc_J0JR294YwHGXwCeg.jpeg)"
   ]
  },
  {
   "cell_type": "markdown",
   "metadata": {
    "colab_type": "text",
    "id": "Mk1eK0PtpKB6"
   },
   "source": [
    "## Necesary libraries"
   ]
  },
  {
   "cell_type": "code",
   "execution_count": 1,
   "metadata": {
    "colab": {},
    "colab_type": "code",
    "id": "AJnPBYxopKB8"
   },
   "outputs": [],
   "source": [
    "import numpy as np\n",
    "import torch\n",
    "import torch.nn as nn\n",
    "import torch.nn.functional as F\n",
    "import torch.utils.data.dataloader as dataloader\n",
    "import torch.optim as optim\n",
    "from torchvision.transforms import ToTensor\n",
    "\n",
    "from torch.utils.data import TensorDataset\n",
    "from torchvision import transforms\n",
    "from torchvision.datasets import MNIST\n",
    "\n",
    "import matplotlib.pyplot as plt\n",
    "import time"
   ]
  },
  {
   "cell_type": "markdown",
   "metadata": {
    "colab_type": "text",
    "id": "myFS9eCUpKCA"
   },
   "source": [
    "## Download the MNIST train and test set [1 point]\n",
    "Using the torch.utils.data DataLoader, we shuffle the data and set the batch size to be 256. It is very important for everyone to focus on how the dataloader works. Please refer to the documentation."
   ]
  },
  {
   "cell_type": "code",
   "execution_count": 2,
   "metadata": {
    "colab": {},
    "colab_type": "code",
    "id": "PA0FcMHPpKCC"
   },
   "outputs": [],
   "source": [
    "\"YOUR CODE\"\n",
    "batch_size = 256\n",
    "\n",
    "\"YOUR CODE\" # Load the training data\n",
    "train = MNIST(\n",
    "    root=\"data\",\n",
    "    train=True,\n",
    "    download=True,\n",
    "    transform=ToTensor()\n",
    ")\n",
    "\n",
    "\"YOUR CODE\" # Load the test data\n",
    "test = MNIST(\n",
    "    root=\"data\",\n",
    "    train=False,\n",
    "    download=True,\n",
    "    transform=ToTensor()\n",
    ")\n",
    "\n",
    "\"YOUR CODE\" # Push the training data to the dataloader\n",
    "train_loader = dataloader.DataLoader(train, batch_size= batch_size, shuffle=True)\n",
    "\n",
    "\"YOUR CODE\" # Push the test data to the dataloader\n",
    "test_loader = dataloader.DataLoader(test, batch_size= batch_size, shuffle=True)\n",
    "\n",
    "cuda = torch.cuda.is_available() # Check if GPU CUDA is available"
   ]
  },
  {
   "attachments": {},
   "cell_type": "markdown",
   "metadata": {
    "colab_type": "text",
    "id": "oRXn_YW6pKCG"
   },
   "source": [
    "## Compute basic data statistics [1 point]\n",
    "It is always important to know the shape of the data, as well as the min/max and mean/variance. Print all the values. You may use the following functions in pytorch:\n",
    "\n",
    "Shape (train_data.shape), min (torch.min), max (torch.max), mean (torch.mean), variance (torch.var), standard deviation (torch.std)"
   ]
  },
  {
   "cell_type": "code",
   "execution_count": 3,
   "metadata": {
    "colab": {},
    "colab_type": "code",
    "id": "QvoJUdCEpKCH"
   },
   "outputs": [
    {
     "name": "stdout",
     "output_type": "stream",
     "text": [
      "Train data shape:  torch.Size([60000, 28, 28])\n",
      "Mean of all the pixels:  tensor(33.3184)\n",
      "Maximum of all the pixels:  tensor(255.)\n",
      "Minimum of all the pixels:  tensor(0.)\n",
      "Variance of all the pixels:  tensor(6172.8506)\n"
     ]
    },
    {
     "name": "stderr",
     "output_type": "stream",
     "text": [
      "/home/dhun97/.local/lib/python3.10/site-packages/torchvision/datasets/mnist.py:75: UserWarning: train_data has been renamed data\n",
      "  warnings.warn(\"train_data has been renamed data\")\n"
     ]
    }
   ],
   "source": [
    "train_data = train.train_data\n",
    "\n",
    "\"YOUR CODE\"\n",
    "shape = train_data.size()\n",
    "print('Train data shape: ',shape)\n",
    "\n",
    "\"YOUR CODE\"# Calculate the mean of the training data\n",
    "mean = torch.mean(train_data.float())\n",
    "print('Mean of all the pixels: ',mean)\n",
    "\n",
    "\"YOUR CODE\" # Calculate the maximum value of the training data\n",
    "max_value = torch.max(train_data.float())\n",
    "print('Maximum of all the pixels: ',max_value)\n",
    "\n",
    "\"YOUR CODE\" # Calculate the minimum value of the training data\n",
    "min_value = torch.min(train_data.float())\n",
    "print('Minimum of all the pixels: ',min_value)\n",
    "\n",
    "\"YOUR CODE\" # Calculate the variance of the training data\n",
    "Variance = torch.var(train_data.float())\n",
    "print('Variance of all the pixels: ',Variance)"
   ]
  },
  {
   "cell_type": "markdown",
   "metadata": {
    "colab_type": "text",
    "id": "eQX6tSdgpKCL"
   },
   "source": [
    "## Visualize a few training samples\n",
    "Using the matplotlib.pyplot library, we can visualize our input data.\n"
   ]
  },
  {
   "cell_type": "code",
   "execution_count": 4,
   "metadata": {
    "colab": {},
    "colab_type": "code",
    "id": "d4jc9hRMpKCM"
   },
   "outputs": [
    {
     "data": {
      "text/plain": [
       "<matplotlib.image.AxesImage at 0x7fd7226105b0>"
      ]
     },
     "execution_count": 4,
     "metadata": {},
     "output_type": "execute_result"
    },
    {
     "data": {
      "image/png": "[encoded data removed]",
      "text/plain": [
       "<Figure size 640x480 with 1 Axes>"
      ]
     },
     "metadata": {},
     "output_type": "display_data"
    }
   ],
   "source": [
    "# Visualize a training instance with matplotlib\n",
    "plt.imshow(train.train_data.cpu().numpy()[0], cmap='gray')"
   ]
  },
  {
   "cell_type": "code",
   "execution_count": 5,
   "metadata": {
    "colab": {},
    "colab_type": "code",
    "id": "PK0YNQIvpKCQ"
   },
   "outputs": [
    {
     "data": {
      "text/plain": [
       "<matplotlib.image.AxesImage at 0x7fd722610e20>"
      ]
     },
     "execution_count": 5,
     "metadata": {},
     "output_type": "execute_result"
    },
    {
     "data": {
      "image/png": "[encoded data removed]",
      "text/plain": [
       "<Figure size 640x480 with 1 Axes>"
      ]
     },
     "metadata": {},
     "output_type": "display_data"
    }
   ],
   "source": [
    "plt.imshow(train.train_data.cpu().numpy()[1], cmap='gray')"
   ]
  },
  {
   "cell_type": "markdown",
   "metadata": {
    "colab_type": "text",
    "id": "8TN1YQ1HpKCT"
   },
   "source": [
    "## Defining a Neural Network Model \n",
    "\n"
   ]
  },
  {
   "cell_type": "markdown",
   "metadata": {
    "colab_type": "text",
    "id": "Aj-gUObVpKCY"
   },
   "source": [
    "## Create the model and define the loss and optimizer [2 points]\n",
    "\n",
    "Define your model using the torch.nn.Module class.\n",
    "\n",
    "You create an instance of the Simple_MLP model by passing it a list of layer sizes. The input layer contains 28*28 = 784 neurons. You may define hidden layers of different hidden dimension, and output will be the class probabilities for each of the 10 digits (0-9).\n",
    "\n",
    "How many neurons will be there in the output layer?\n",
    "\n",
    "This is a classification task, I recommend you use Cross Entropy Loss (It is your error function or divergence function). We define our criterion using the torch.nn.CrossEntropyLoss.\n",
    "\n",
    "In order to train our network, we use the torch.optim.SGD optimizer. You may use the optimizer **Adam**."
   ]
  },
  {
   "cell_type": "code",
   "execution_count": 6,
   "metadata": {
    "colab": {},
    "colab_type": "code",
    "id": "M6vx0wRvpKCa"
   },
   "outputs": [
    {
     "name": "stdout",
     "output_type": "stream",
     "text": [
      "Simple_MLP(\n",
      "  (flatten): Flatten(start_dim=1, end_dim=-1)\n",
      "  (linear_relu_stack): Sequential(\n",
      "    (0): Linear(in_features=784, out_features=512, bias=True)\n",
      "    (1): ReLU()\n",
      "    (2): Linear(in_features=512, out_features=128, bias=True)\n",
      "    (3): ReLU()\n",
      "    (4): Linear(in_features=128, out_features=10, bias=True)\n",
      "  )\n",
      ")\n"
     ]
    }
   ],
   "source": [
    "# Please complete the code below. Hint: Each comment is a line of code\n",
    "\n",
    "# Create an instance of Simple MLP model\n",
    "# Specify the activation function to use\n",
    "\n",
    "class Simple_MLP(nn.Module):\n",
    "    def __init__(self):\n",
    "        super(Simple_MLP, self).__init__()\n",
    "        \"YOUR CODE\"\n",
    "        self.flatten = nn.Flatten()\n",
    "        self.linear_relu_stack = nn.Sequential(\n",
    "            nn.Linear(28*28, 512),\n",
    "            nn.ReLU(),\n",
    "            nn.Linear(512, 128),\n",
    "            nn.ReLU(),\n",
    "            nn.Linear(128, 10),\n",
    "        )\n",
    "\n",
    "    def forward(self, x):\n",
    "        \"YOUR CODE\"\n",
    "        x = self.flatten(x)\n",
    "        logits = self.linear_relu_stack(x)\n",
    "        return logits\n",
    "\n",
    "\n",
    "# Define your Loss function\n",
    "\"YOUR CODE\"\n",
    "criterion = nn.CrossEntropyLoss()\n",
    "\n",
    "# Intilialize and print the model\n",
    "model = Simple_MLP()\n",
    "print(model)\n",
    "\n",
    "# Choose an optimizer for the model parameters (ex. optimizer = optim.Adam(model.parameters()))\n",
    "\"YOUR CODE\"\n",
    "optimizer = optim.Adam(model.parameters(), lr=0.001)\n",
    "\n",
    "\n",
    "# device is the hardware you are using (CPU or GPU)\n",
    "device = torch.device(\"cuda\" if cuda else \"cpu\")\n"
   ]
  },
  {
   "cell_type": "markdown",
   "metadata": {
    "colab_type": "text",
    "id": "PBPet9qUpKCd"
   },
   "source": [
    "## Complete the below function that will train the network [4 points]\n",
    "### The function should be able to train the model for N epochs and validate the model on the test set after each epoch. \n",
    "### The function should print the loss and accuracy on the training set and test set after each epoch. \n",
    "### The function should store and return lists containing the loss and accuracy history on the training set and test set, so we can print the plot of accuracy and loss. \n",
    "\n"
   ]
  },
  {
   "cell_type": "code",
   "execution_count": 7,
   "metadata": {},
   "outputs": [],
   "source": [
    "def train_model(train_loader, test_loader, model, loss_fn, optimizer, num_epochs):\n",
    "    \"YOUR CODE\"\n",
    "    train_acc_history = []\n",
    "    valid_acc_history = []\n",
    "    train_loss_history = []\n",
    "    valid_loss_history = []\n",
    "    \n",
    "    for epoch in range(num_epochs):\n",
    "        print(f\"Epoch {epoch+1}\")\n",
    "        \n",
    "        # Training phase\n",
    "        model.train()\n",
    "        train_acc = []\n",
    "        train_loss = [] \n",
    "        for batch, (X, y) in enumerate(train_loader):\n",
    "          # Compute prediction and loss\n",
    "          pred = model(X)\n",
    "          loss = loss_fn(pred, y)\n",
    "        \n",
    "          # Backpropagation\n",
    "          loss.backward()\n",
    "          optimizer.step()\n",
    "          optimizer.zero_grad()\n",
    "\n",
    "          # Calculate accuracy\n",
    "          _, predicted = torch.max(pred.data, 1)\n",
    "          correct = (predicted == y).sum().item()\n",
    "          acc = 100 * correct / len(y)\n",
    "          train_acc.append(acc)\n",
    "          train_loss.append(loss.item())\n",
    "        \n",
    "        train_acc_history.append(np.mean(train_acc))\n",
    "        train_loss_history.append(np.mean(train_loss))\n",
    "        \n",
    "        # Evaluation phase\n",
    "        with torch.no_grad():\n",
    "          model.eval()\n",
    "          test_loss = []\n",
    "          test_acc = []\n",
    "          correct = 0\n",
    "          for data, target in test_loader:\n",
    "            pred = model(data)\n",
    "            # Calculate accuracy\n",
    "            _, predicted = torch.max(pred.data, 1)\n",
    "            correct += (predicted == target).sum().item()\n",
    "            test_loss.append(loss_fn(pred, target).item())\n",
    "        valid_acc_history.append(100 * correct / len(test_loader.dataset))\n",
    "        valid_loss_history.append(np.mean(test_loss))\n",
    "        \n",
    "        # Print epoch results\n",
    "        print(f\"Training Accuracy: {train_acc_history[epoch]:.3f}, Validation Accuracy: {valid_acc_history[epoch]:.3f}\")\n",
    "        print(f\"Training Loss: {train_loss_history[epoch]:.3f}, Validation Loss: {valid_loss_history[epoch]:.3f}\")\n",
    "        print('\\n')\n",
    "        print(\"-------------------------------\")\n",
    "\n",
    "    return [train_acc_history, valid_acc_history, train_loss_history, valid_loss_history]"
   ]
  },
  {
   "cell_type": "markdown",
   "metadata": {
    "colab_type": "text",
    "id": "YF15pFtwpKCj"
   },
   "source": [
    "## Train the model for N epochs [1 point]\n",
    "Train and test your network in a loop, while keeping track of the **losses and accuracy**.   "
   ]
  },
  {
   "cell_type": "code",
   "execution_count": 8,
   "metadata": {
    "colab": {},
    "colab_type": "code",
    "id": "y6pyjuMmpKCk"
   },
   "outputs": [
    {
     "name": "stdout",
     "output_type": "stream",
     "text": [
      "Epoch 1\n",
      "Training Accuracy: 89.448, Validation Accuracy: 94.590\n",
      "Training Loss: 0.389, Validation Loss: 0.185\n",
      "\n",
      "\n",
      "-------------------------------\n",
      "Epoch 2\n",
      "Training Accuracy: 95.772, Validation Accuracy: 96.600\n",
      "Training Loss: 0.142, Validation Loss: 0.114\n",
      "\n",
      "\n",
      "-------------------------------\n",
      "Epoch 3\n",
      "Training Accuracy: 97.190, Validation Accuracy: 97.300\n",
      "Training Loss: 0.094, Validation Loss: 0.089\n",
      "\n",
      "\n",
      "-------------------------------\n",
      "Epoch 4\n",
      "Training Accuracy: 97.958, Validation Accuracy: 97.450\n",
      "Training Loss: 0.068, Validation Loss: 0.086\n",
      "\n",
      "\n",
      "-------------------------------\n",
      "Epoch 5\n",
      "Training Accuracy: 98.426, Validation Accuracy: 97.720\n",
      "Training Loss: 0.051, Validation Loss: 0.069\n",
      "\n",
      "\n",
      "-------------------------------\n",
      "Epoch 6\n",
      "Training Accuracy: 98.812, Validation Accuracy: 97.870\n",
      "Training Loss: 0.040, Validation Loss: 0.075\n",
      "\n",
      "\n",
      "-------------------------------\n",
      "Epoch 7\n",
      "Training Accuracy: 99.099, Validation Accuracy: 98.090\n",
      "Training Loss: 0.029, Validation Loss: 0.062\n",
      "\n",
      "\n",
      "-------------------------------\n",
      "Epoch 8\n",
      "Training Accuracy: 99.263, Validation Accuracy: 97.860\n",
      "Training Loss: 0.024, Validation Loss: 0.070\n",
      "\n",
      "\n",
      "-------------------------------\n",
      "Epoch 9\n",
      "Training Accuracy: 99.466, Validation Accuracy: 97.860\n",
      "Training Loss: 0.018, Validation Loss: 0.076\n",
      "\n",
      "\n",
      "-------------------------------\n",
      "Epoch 10\n",
      "Training Accuracy: 99.535, Validation Accuracy: 98.050\n",
      "Training Loss: 0.016, Validation Loss: 0.069\n",
      "\n",
      "\n",
      "-------------------------------\n",
      "Epoch 11\n",
      "Training Accuracy: 99.688, Validation Accuracy: 98.020\n",
      "Training Loss: 0.011, Validation Loss: 0.075\n",
      "\n",
      "\n",
      "-------------------------------\n",
      "Epoch 12\n",
      "Training Accuracy: 99.735, Validation Accuracy: 97.930\n",
      "Training Loss: 0.010, Validation Loss: 0.076\n",
      "\n",
      "\n",
      "-------------------------------\n",
      "Epoch 13\n",
      "Training Accuracy: 99.658, Validation Accuracy: 98.210\n",
      "Training Loss: 0.011, Validation Loss: 0.072\n",
      "\n",
      "\n",
      "-------------------------------\n",
      "Epoch 14\n",
      "Training Accuracy: 99.839, Validation Accuracy: 98.070\n",
      "Training Loss: 0.006, Validation Loss: 0.077\n",
      "\n",
      "\n",
      "-------------------------------\n",
      "Epoch 15\n",
      "Training Accuracy: 99.869, Validation Accuracy: 98.010\n",
      "Training Loss: 0.005, Validation Loss: 0.083\n",
      "\n",
      "\n",
      "-------------------------------\n",
      "Epoch 16\n",
      "Training Accuracy: 99.864, Validation Accuracy: 98.160\n",
      "Training Loss: 0.005, Validation Loss: 0.086\n",
      "\n",
      "\n",
      "-------------------------------\n",
      "Epoch 17\n",
      "Training Accuracy: 99.666, Validation Accuracy: 97.950\n",
      "Training Loss: 0.010, Validation Loss: 0.087\n",
      "\n",
      "\n",
      "-------------------------------\n",
      "Epoch 18\n",
      "Training Accuracy: 99.707, Validation Accuracy: 98.160\n",
      "Training Loss: 0.009, Validation Loss: 0.082\n",
      "\n",
      "\n",
      "-------------------------------\n",
      "Epoch 19\n",
      "Training Accuracy: 99.801, Validation Accuracy: 98.240\n",
      "Training Loss: 0.007, Validation Loss: 0.080\n",
      "\n",
      "\n",
      "-------------------------------\n",
      "Epoch 20\n",
      "Training Accuracy: 99.905, Validation Accuracy: 98.170\n",
      "Training Loss: 0.003, Validation Loss: 0.083\n",
      "\n",
      "\n",
      "-------------------------------\n"
     ]
    }
   ],
   "source": [
    "# Write your piece of code to run train and test the network for N epochs.  \n",
    "n_epochs = 20\n",
    "train_acc_list,valid_acc_list,train_loss_list,valid_loss_list = train_model(train_loader, test_loader, model, criterion, optimizer, n_epochs)"
   ]
  },
  {
   "cell_type": "markdown",
   "metadata": {
    "colab_type": "text",
    "id": "SjeexQLTpKCo"
   },
   "source": [
    "## Visualize the accuracy and loss with respect to each epoch [1 point]\n",
    "\n",
    "Draw a graph for Training Loss percentage with respect to the number of epochs. "
   ]
  },
  {
   "cell_type": "code",
   "execution_count": 9,
   "metadata": {
    "colab": {},
    "colab_type": "code",
    "id": "fttK9GMnpKCp"
   },
   "outputs": [
    {
     "data": {
      "image/png": "[encoded data removed]",
      "text/plain": [
       "<Figure size 640x480 with 1 Axes>"
      ]
     },
     "metadata": {},
     "output_type": "display_data"
    }
   ],
   "source": [
    "# Insert your code here\n",
    "# plot the train accuray and validation accuracy in the same plot \n",
    "x = range(n_epochs)\n",
    "plt.plot(x, train_acc_list, label='Training Accuracy')\n",
    "plt.plot(x, valid_acc_list, label='Validation Accuracy')\n",
    "plt.title('Training and Validation Accuracy')\n",
    "plt.xlabel('Epoch')\n",
    "plt.ylabel('Accuracy')\n",
    "plt.legend()\n",
    "\n",
    "plt.show()"
   ]
  },
  {
   "cell_type": "markdown",
   "metadata": {
    "colab_type": "text",
    "id": "t2bbqnZcaOZt"
   },
   "source": [
    "Draw a graph for Testing Loss percentage with respect to number of epochs."
   ]
  },
  {
   "cell_type": "code",
   "execution_count": 10,
   "metadata": {
    "colab": {},
    "colab_type": "code",
    "id": "OEegIduppKCs"
   },
   "outputs": [
    {
     "data": {
      "image/png": "[encoded data removed]",
      "text/plain": [
       "<Figure size 640x480 with 1 Axes>"
      ]
     },
     "metadata": {},
     "output_type": "display_data"
    }
   ],
   "source": [
    "# plot the train loss and validation loss in the same plot \n",
    "\"YOUR CODE\"\n",
    "\n",
    "x = range(len(train_loss_list))\n",
    "plt.plot(x, [x * 100 for x in train_loss_list], label='Training Loss')\n",
    "plt.plot(x, [x * 100 for x in valid_loss_list], label='Validation Loss')\n",
    "plt.title('Training and Validation Loss as a Percent')\n",
    "plt.xlabel('Epoch')\n",
    "plt.ylabel('Loss as Percent')\n",
    "plt.legend()\n",
    "\n",
    "plt.show()"
   ]
  }
 ],
 "metadata": {
  "accelerator": "GPU",
  "colab": {
   "name": "Lab 1 DATA 586 AML.ipynb",
   "provenance": [],
   "version": "0.3.2"
  },
  "kernelspec": {
   "display_name": "Python 3 (ipykernel)",
   "language": "python",
   "name": "python3"
  },
  "language_info": {
   "codemirror_mode": {
    "name": "ipython",
    "version": 3
   },
   "file_extension": ".py",
   "mimetype": "text/x-python",
   "name": "python",
   "nbconvert_exporter": "python",
   "pygments_lexer": "ipython3",
   "version": "3.10.12"
  }
 },
 "nbformat": 4,
 "nbformat_minor": 4
}
