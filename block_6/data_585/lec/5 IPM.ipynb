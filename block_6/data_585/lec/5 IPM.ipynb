{
 "cells": [
  {
   "cell_type": "code",
   "execution_count": 1,
   "metadata": {
    "collapsed": false
   },
   "outputs": [
   ],
   "source": [
    "using LinearAlgebra"
   ]
  },
  {
   "cell_type": "code",
   "execution_count": 2,
   "metadata": {
    "collapsed": false
   },
   "outputs": [
    {
     "data": {
      "text/plain": [
       "5-element Vector{Int64}:\n",
       " 2\n",
       " 3\n",
       " 0\n",
       " 0\n",
       " 0"
      ]
     },
     "execution_count": 2,
     "metadata": {
     },
     "output_type": "execute_result"
    }
   ],
   "source": [
    "c = [2;3;0;0;0]"
   ]
  },
  {
   "cell_type": "code",
   "execution_count": 3,
   "metadata": {
    "collapsed": false
   },
   "outputs": [
    {
     "data": {
      "text/plain": [
       "3×5 Matrix{Int64}:\n",
       "  2  1  1  0  0\n",
       "  1  1  0  1  0\n",
       " -1  1  0  0  1"
      ]
     },
     "execution_count": 3,
     "metadata": {
     },
     "output_type": "execute_result"
    }
   ],
   "source": [
    "A = [2 1 1 0 0;1 1 0 1 0;-1 1 0 0 1]"
   ]
  },
  {
   "cell_type": "code",
   "execution_count": 4,
   "metadata": {
    "collapsed": false
   },
   "outputs": [
    {
     "data": {
      "text/plain": [
       "3-element Vector{Int64}:\n",
       " 10\n",
       "  6\n",
       "  4"
      ]
     },
     "execution_count": 4,
     "metadata": {
     },
     "output_type": "execute_result"
    }
   ],
   "source": [
    "b = [10;6;4]"
   ]
  },
  {
   "cell_type": "code",
   "execution_count": 5,
   "metadata": {
    "collapsed": false
   },
   "outputs": [
    {
     "data": {
      "text/plain": [
       "5-element Vector{Int64}:\n",
       " 1\n",
       " 3\n",
       " 5\n",
       " 2\n",
       " 2"
      ]
     },
     "execution_count": 5,
     "metadata": {
     },
     "output_type": "execute_result"
    }
   ],
   "source": [
    "x = [1;3;5;2;2]\n"
   ]
  },
  {
   "cell_type": "code",
   "execution_count": 6,
   "metadata": {
    "collapsed": false
   },
   "outputs": [
    {
     "data": {
      "text/plain": [
       "3-element Vector{Int64}:\n",
       " 10\n",
       "  6\n",
       "  4"
      ]
     },
     "execution_count": 6,
     "metadata": {
     },
     "output_type": "execute_result"
    }
   ],
   "source": [
    "A*x"
   ]
  },
  {
   "cell_type": "code",
   "execution_count": 7,
   "metadata": {
    "collapsed": false
   },
   "outputs": [
    {
     "data": {
      "text/plain": [
       "3-element Vector{Int64}:\n",
       " 2\n",
       " 2\n",
       " 2"
      ]
     },
     "execution_count": 7,
     "metadata": {
     },
     "output_type": "execute_result"
    }
   ],
   "source": [
    "y=[2;2;2]"
   ]
  },
  {
   "cell_type": "code",
   "execution_count": 8,
   "metadata": {
    "collapsed": false
   },
   "outputs": [
    {
     "data": {
      "text/plain": [
       "5-element Vector{Int64}:\n",
       " 2\n",
       " 3\n",
       " 2\n",
       " 2\n",
       " 2"
      ]
     },
     "execution_count": 8,
     "metadata": {
     },
     "output_type": "execute_result"
    }
   ],
   "source": [
    "s=[2;3;2;2;2]"
   ]
  },
  {
   "cell_type": "code",
   "execution_count": 9,
   "metadata": {
    "collapsed": false
   },
   "outputs": [
    {
     "data": {
      "text/plain": [
       "5-element Vector{Int64}:\n",
       " 2\n",
       " 3\n",
       " 0\n",
       " 0\n",
       " 0"
      ]
     },
     "execution_count": 9,
     "metadata": {
     },
     "output_type": "execute_result"
    }
   ],
   "source": [
    "A'*y-s"
   ]
  },
  {
   "cell_type": "code",
   "execution_count": 10,
   "metadata": {
    "collapsed": false
   },
   "outputs": [
    {
     "data": {
      "text/plain": [
       "5×5 Diagonal{Int64, Vector{Int64}}:\n",
       " 1  ⋅  ⋅  ⋅  ⋅\n",
       " ⋅  3  ⋅  ⋅  ⋅\n",
       " ⋅  ⋅  5  ⋅  ⋅\n",
       " ⋅  ⋅  ⋅  2  ⋅\n",
       " ⋅  ⋅  ⋅  ⋅  2"
      ]
     },
     "execution_count": 10,
     "metadata": {
     },
     "output_type": "execute_result"
    }
   ],
   "source": [
    "X = Diagonal(x)"
   ]
  },
  {
   "cell_type": "code",
   "execution_count": 11,
   "metadata": {
    "collapsed": false
   },
   "outputs": [
    {
     "data": {
      "text/plain": [
       "5×5 Diagonal{Int64, Vector{Int64}}:\n",
       " 2  ⋅  ⋅  ⋅  ⋅\n",
       " ⋅  3  ⋅  ⋅  ⋅\n",
       " ⋅  ⋅  2  ⋅  ⋅\n",
       " ⋅  ⋅  ⋅  2  ⋅\n",
       " ⋅  ⋅  ⋅  ⋅  2"
      ]
     },
     "execution_count": 11,
     "metadata": {
     },
     "output_type": "execute_result"
    }
   ],
   "source": [
    "S = Diagonal(s)"
   ]
  },
  {
   "cell_type": "code",
   "execution_count": 12,
   "metadata": {
    "collapsed": false
   },
   "outputs": [
    {
     "data": {
      "text/plain": [
       "3-element Vector{Float64}:\n",
       " -1.4782608695652173\n",
       " -0.934782608695652\n",
       " -1.4130434782608696"
      ]
     },
     "execution_count": 12,
     "metadata": {
     },
     "output_type": "execute_result"
    }
   ],
   "source": [
    "dy = -(A*X*inv(S)*A')\\b"
   ]
  },
  {
   "cell_type": "code",
   "execution_count": 13,
   "metadata": {
    "collapsed": false
   },
   "outputs": [
    {
     "data": {
      "text/plain": [
       "5-element Vector{Float64}:\n",
       " -2.478260869565217\n",
       " -3.826086956521739\n",
       " -1.4782608695652173\n",
       " -0.934782608695652\n",
       " -1.4130434782608696"
      ]
     },
     "execution_count": 13,
     "metadata": {
     },
     "output_type": "execute_result"
    }
   ],
   "source": [
    "ds = A'*dy"
   ]
  },
  {
   "cell_type": "code",
   "execution_count": 14,
   "metadata": {
    "collapsed": false
   },
   "outputs": [
    {
     "data": {
      "text/plain": [
       "5-element Vector{Float64}:\n",
       "  0.23913043478260843\n",
       "  0.8260869565217388\n",
       " -1.304347826086957\n",
       " -1.0652173913043481\n",
       " -0.5869565217391304"
      ]
     },
     "execution_count": 14,
     "metadata": {
     },
     "output_type": "execute_result"
    }
   ],
   "source": [
    "dx = -x -X*inv(S)*ds"
   ]
  },
  {
   "cell_type": "code",
   "execution_count": 15,
   "metadata": {
    "collapsed": false
   },
   "outputs": [
    {
     "data": {
      "text/plain": [
       "0.7833068181818182"
      ]
     },
     "execution_count": 15,
     "metadata": {
     },
     "output_type": "execute_result"
    }
   ],
   "source": [
    "alpha = 0.999*min(minimum(-x[dx.<0]./dx[dx.<0]),minimum(-s[ds.<0]./ds[ ds.<0]))"
   ]
  },
  {
   "cell_type": "code",
   "execution_count": 16,
   "metadata": {
    "collapsed": false
   },
   "outputs": [
   ],
   "source": [
    "xnew = x+alpha*dx;\n",
    "ynew = y+alpha*dy;\n",
    "snew = s+alpha*ds;"
   ]
  },
  {
   "cell_type": "code",
   "execution_count": 17,
   "metadata": {
    "collapsed": false
   },
   "outputs": [
    {
     "data": {
      "text/plain": [
       "5-element Vector{Float64}:\n",
       " 1.1873124999999998\n",
       " 3.6470795454545453\n",
       " 3.978295454545454\n",
       " 1.1656079545454543\n",
       " 1.5402329545454545"
      ]
     },
     "execution_count": 17,
     "metadata": {
     },
     "output_type": "execute_result"
    }
   ],
   "source": [
    "xnew"
   ]
  },
  {
   "cell_type": "code",
   "execution_count": 18,
   "metadata": {
    "collapsed": false
   },
   "outputs": [
    {
     "data": {
      "text/plain": [
       "3-element Vector{Float64}:\n",
       " 0.8420681818181819\n",
       " 1.2677784090909092\n",
       " 0.893153409090909"
      ]
     },
     "execution_count": 18,
     "metadata": {
     },
     "output_type": "execute_result"
    }
   ],
   "source": [
    "ynew"
   ]
  },
  {
   "cell_type": "code",
   "execution_count": 19,
   "metadata": {
    "collapsed": false
   },
   "outputs": [
    {
     "data": {
      "text/plain": [
       "5-element Vector{Float64}:\n",
       " 0.05876136363636397\n",
       " 0.0030000000000001137\n",
       " 0.8420681818181819\n",
       " 1.2677784090909092\n",
       " 0.893153409090909"
      ]
     },
     "execution_count": 19,
     "metadata": {
     },
     "output_type": "execute_result"
    }
   ],
   "source": [
    "snew"
   ]
  },
  {
   "cell_type": "code",
   "execution_count": 20,
   "metadata": {
    "collapsed": false
   },
   "outputs": [
    {
     "name": "stdout",
     "output_type": "stream",
     "text": [
      "Old duality gap 29\n"
     ]
    }
   ],
   "source": [
    "println(\"Old duality gap \",dot(x,s))"
   ]
  },
  {
   "cell_type": "code",
   "execution_count": 21,
   "metadata": {
    "collapsed": false
   },
   "outputs": [
    {
     "name": "stdout",
     "output_type": "stream",
     "text": [
      "New duality gap 6.284102272727273\n"
     ]
    }
   ],
   "source": [
    "println(\"New duality gap \",dot(xnew,snew))"
   ]
  },
  {
   "cell_type": "code",
   "execution_count": 22,
   "metadata": {
    "collapsed": false
   },
   "outputs": [
    {
     "data": {
      "text/plain": [
       "6.284102272727271"
      ]
     },
     "execution_count": 22,
     "metadata": {
     },
     "output_type": "execute_result"
    }
   ],
   "source": [
    "29*(1-alpha)"
   ]
  },
  {
   "cell_type": "code",
   "execution_count": 23,
   "metadata": {
    "collapsed": false
   },
   "outputs": [
    {
     "data": {
      "text/plain": [
       "my_update (generic function with 1 method)"
      ]
     },
     "execution_count": 23,
     "metadata": {
     },
     "output_type": "execute_result"
    }
   ],
   "source": [
    "function my_update(x,y,s) \n",
    "    X = Diagonal(x);\n",
    "    S = Diagonal(s);\n",
    "    dy = -(A*X*inv(S)*A')\\b;\n",
    "    ds = A'*dy;\n",
    "    dx = -x-X*inv(S)*ds;\n",
    "    alpha = 0.999*min(minimum(-x[dx.<0]./dx[dx.<0]),minimum(-s[ds.<0]./ds[ds.<0]));\n",
    "    return x+alpha*dx,y+alpha*dy,s+alpha*ds;\n",
    "end"
   ]
  },
  {
   "cell_type": "code",
   "execution_count": 24,
   "metadata": {
    "collapsed": false
   },
   "outputs": [
    {
     "name": "stdout",
     "output_type": "stream",
     "text": [
      "Iteration 1 has duality gap = 6.284102272727273\n",
      "         and current vector = "
     ]
    },
    {
     "name": "stdout",
     "output_type": "stream",
     "text": [
      "[1.1873124999999998, 3.6470795454545453]\n",
      "Iteration 2 has duality gap = "
     ]
    },
    {
     "name": "stdout",
     "output_type": "stream",
     "text": [
      "2.0276946093013004\n",
      "         and current vector = [1.3529654854108517, 4.645868906634567]\n",
      "Iteration 3 has duality gap = 0.7062211123362846\n",
      "         and current vector = [1.2111773633132354, 4.7888214710785]\n",
      "Iteration 4 has duality gap = 0.07324236405558202\n",
      "         and current vector = [1.0496376658496855, 4.950362332983572]\n",
      "Iteration 5 has duality gap = 0.0012761945793081555\n",
      "         and current vector = [1.0011801230439668, 4.998819876941948]\n",
      "Iteration 6 has duality gap = 1.7777478137116754e-6\n",
      "         and current vector = [1.000001566224943, 4.999998433773508]\n",
      "Iteration 7 has duality gap = 1.7786750019277094e-9\n",
      "         and current vector = [1.0000000015669273, 4.999999998432191]\n"
     ]
    }
   ],
   "source": [
    "x = [1;3;5;2;2];\n",
    "y = [2;2;2];\n",
    "s = [2;3;2;2;2];\n",
    "\n",
    "counter = 0; \n",
    "while dot(x,s)>10^(-6)\n",
    "counter = counter+1;\n",
    "(x,y,s) = my_update(x,y,s);\n",
    "println(\"Iteration $counter has duality gap = \",dot(x,s),\n",
    "        \"\\n         and current vector = \",x[1:2])\n",
    "end"
   ]
  },
  {
   "cell_type": "markdown",
   "metadata": {
    "collapsed": false
   },
   "source": [
    "Yay!"
   ]
  }
 ],
 "metadata": {
  "kernelspec": {
   "display_name": "Julia 1.8",
   "env": {
    "JULIA_DEPOT_PATH": "/home/user/.julia/:/ext/julia/depot/",
    "JULIA_PROJECT": "/home/user/.julia/environment/v1.8"
   },
   "language": "julia",
   "metadata": {
    "cocalc": {
     "description": "The Julia Programming Language",
     "priority": 10,
     "url": "https://julialang.org/"
    }
   },
   "name": "julia-1.8",
   "resource_dir": "/ext/jupyter/kernels/julia-1.8"
  },
  "language_info": {
   "file_extension": ".jl",
   "mimetype": "application/julia",
   "name": "julia",
   "version": "1.7.2"
  }
 },
 "nbformat": 4,
 "nbformat_minor": 4
}