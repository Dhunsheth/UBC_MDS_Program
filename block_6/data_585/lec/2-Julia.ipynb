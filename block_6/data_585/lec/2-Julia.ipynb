{
 "cells": [
  {
   "cell_type": "markdown",
   "metadata": {},
   "source": [
    "Welcome - we start by loading a package for plotting in Julia"
   ]
  },
  {
   "cell_type": "code",
   "execution_count": 1,
   "metadata": {},
   "outputs": [
    {
     "name": "stderr",
     "output_type": "stream",
     "text": [
      "\u001b[32m\u001b[1m   Resolving\u001b[22m\u001b[39m package versions...\n",
      "\u001b[32m\u001b[1m  No Changes\u001b[22m\u001b[39m to `C:\\Users\\ylucet\\.julia\\environments\\v1.10\\Project.toml`\n",
      "\u001b[32m\u001b[1m  No Changes\u001b[22m\u001b[39m to `C:\\Users\\ylucet\\.julia\\environments\\v1.10\\Manifest.toml`\n"
     ]
    }
   ],
   "source": [
    "import Pkg; Pkg.add(\"Plots\");"
   ]
  },
  {
   "cell_type": "code",
   "execution_count": 1,
   "metadata": {},
   "outputs": [],
   "source": [
    "using Plots"
   ]
  },
  {
   "cell_type": "markdown",
   "metadata": {},
   "source": [
    "The hard function we discussed in the lecture was\n",
    "$$f(x)=\\exp(x)+x^4+x^2.$$\n",
    "In Julia this becomes "
   ]
  },
  {
   "cell_type": "code",
   "execution_count": 2,
   "metadata": {},
   "outputs": [
    {
     "data": {
      "text/plain": [
       "f (generic function with 1 method)"
      ]
     },
     "metadata": {},
     "output_type": "display_data"
    }
   ],
   "source": [
    "f(x)=exp(x)+x^4+x^2"
   ]
  },
  {
   "cell_type": "markdown",
   "metadata": {},
   "source": [
    "Let's take a look!"
   ]
  },
  {
   "cell_type": "code",
   "execution_count": 3,
   "metadata": {},
   "outputs": [],
   "source": [
    " xrange = range(-2, stop = 2, length = 40);"
   ]
  },
  {
   "cell_type": "code",
   "execution_count": 4,
   "metadata": {},
   "outputs": [
    {
     "data": {
      "image/png": "[encoded data removed]",
      "image/svg+xml": [
       "<?xml version=\"1.0\" encoding=\"utf-8\"?>\n",
       "<svg xmlns=\"http://www.w3.org/2000/svg\" xmlns:xlink=\"http://www.w3.org/1999/xlink\" width=\"600\" height=\"400\" viewBox=\"0 0 2400 1600\">\n",
       "<defs>\n",
       "  <clipPath id=\"clip900\">\n",
       "    <rect x=\"0\" y=\"0\" width=\"2400\" height=\"1600\"/>\n",
       "  </clipPath>\n",
       "</defs>\n",
       "<path clip-path=\"url(#clip900)\" d=\"M0 1600 L2400 1600 L2400 0 L0 0  Z\" fill=\"#ffffff\" fill-rule=\"evenodd\" fill-opacity=\"1\"/>\n",
       "<defs>\n",
       "  <clipPath id=\"clip901\">\n",
       "    <rect x=\"480\" y=\"0\" width=\"1681\" height=\"1600\"/>\n",
       "  </clipPath>\n",
       "</defs>\n",
       "<path clip-path=\"url(#clip900)\" d=\"M140.696 1486.45 L2352.76 1486.45 L2352.76 47.2441 L140.696 47.2441  Z\" fill=\"#ffffff\" fill-rule=\"evenodd\" fill-opacity=\"1\"/>\n",
       "<defs>\n",
       "  <clipPath id=\"clip902\">\n",
       "    <rect x=\"140\" y=\"47\" width=\"2213\" height=\"1440\"/>\n",
       "  </clipPath>\n",
       "</defs>\n",
       "<polyline clip-path=\"url(#clip902)\" style=\"stroke:#000000; stroke-linecap:round; stroke-linejoin:round; stroke-width:2; stroke-opacity:0.1; fill:none\" points=\"203.301,1486.45 203.301,47.2441 \"/>\n",
       "<polyline clip-path=\"url(#clip902)\" style=\"stroke:#000000; stroke-linecap:round; stroke-linejoin:round; stroke-width:2; stroke-opacity:0.1; fill:none\" points=\"725.013,1486.45 725.013,47.2441 \"/>\n",
       "<polyline clip-path=\"url(#clip902)\" style=\"stroke:#000000; stroke-linecap:round; stroke-linejoin:round; stroke-width:2; stroke-opacity:0.1; fill:none\" points=\"1246.73,1486.45 1246.73,47.2441 \"/>\n",
       "<polyline clip-path=\"url(#clip902)\" style=\"stroke:#000000; stroke-linecap:round; stroke-linejoin:round; stroke-width:2; stroke-opacity:0.1; fill:none\" points=\"1768.44,1486.45 1768.44,47.2441 \"/>\n",
       "<polyline clip-path=\"url(#clip902)\" style=\"stroke:#000000; stroke-linecap:round; stroke-linejoin:round; stroke-width:2; stroke-opacity:0.1; fill:none\" points=\"2290.15,1486.45 2290.15,47.2441 \"/>\n",
       "<polyline clip-path=\"url(#clip900)\" style=\"stroke:#000000; stroke-linecap:round; stroke-linejoin:round; stroke-width:4; stroke-opacity:1; fill:none\" points=\"140.696,1486.45 2352.76,1486.45 \"/>\n",
       "<polyline clip-path=\"url(#clip900)\" style=\"stroke:#000000; stroke-linecap:round; stroke-linejoin:round; stroke-width:4; stroke-opacity:1; fill:none\" points=\"203.301,1486.45 203.301,1467.55 \"/>\n",
       "<polyline clip-path=\"url(#clip900)\" style=\"stroke:#000000; stroke-linecap:round; stroke-linejoin:round; stroke-width:4; stroke-opacity:1; fill:none\" points=\"725.013,1486.45 725.013,1467.55 \"/>\n",
       "<polyline clip-path=\"url(#clip900)\" style=\"stroke:#000000; stroke-linecap:round; stroke-linejoin:round; stroke-width:4; stroke-opacity:1; fill:none\" points=\"1246.73,1486.45 1246.73,1467.55 \"/>\n",
       "<polyline clip-path=\"url(#clip900)\" style=\"stroke:#000000; stroke-linecap:round; stroke-linejoin:round; stroke-width:4; stroke-opacity:1; fill:none\" points=\"1768.44,1486.45 1768.44,1467.55 \"/>\n",
       "<polyline clip-path=\"url(#clip900)\" style=\"stroke:#000000; stroke-linecap:round; stroke-linejoin:round; stroke-width:4; stroke-opacity:1; fill:none\" points=\"2290.15,1486.45 2290.15,1467.55 \"/>\n",
       "<path clip-path=\"url(#clip900)\" d=\"M173.243 1532.02 L202.919 1532.02 L202.919 1535.95 L173.243 1535.95 L173.243 1532.02 Z\" fill=\"#000000\" fill-rule=\"nonzero\" fill-opacity=\"1\" /><path clip-path=\"url(#clip900)\" d=\"M217.039 1544.91 L233.359 1544.91 L233.359 1548.85 L211.414 1548.85 L211.414 1544.91 Q214.076 1542.16 218.66 1537.53 Q223.266 1532.88 224.447 1531.53 Q226.692 1529.01 227.572 1527.27 Q228.475 1525.51 228.475 1523.82 Q228.475 1521.07 226.53 1519.33 Q224.609 1517.6 221.507 1517.6 Q219.308 1517.6 216.854 1518.36 Q214.424 1519.13 211.646 1520.68 L211.646 1515.95 Q214.47 1514.82 216.924 1514.24 Q219.377 1513.66 221.414 1513.66 Q226.785 1513.66 229.979 1516.35 Q233.174 1519.03 233.174 1523.52 Q233.174 1525.65 232.363 1527.57 Q231.576 1529.47 229.47 1532.07 Q228.891 1532.74 225.789 1535.95 Q222.687 1539.15 217.039 1544.91 Z\" fill=\"#000000\" fill-rule=\"nonzero\" fill-opacity=\"1\" /><path clip-path=\"url(#clip900)\" d=\"M694.77 1532.02 L724.446 1532.02 L724.446 1535.95 L694.77 1535.95 L694.77 1532.02 Z\" fill=\"#000000\" fill-rule=\"nonzero\" fill-opacity=\"1\" /><path clip-path=\"url(#clip900)\" d=\"M735.349 1544.91 L742.988 1544.91 L742.988 1518.55 L734.678 1520.21 L734.678 1515.95 L742.942 1514.29 L747.617 1514.29 L747.617 1544.91 L755.256 1544.91 L755.256 1548.85 L735.349 1548.85 L735.349 1544.91 Z\" fill=\"#000000\" fill-rule=\"nonzero\" fill-opacity=\"1\" /><path clip-path=\"url(#clip900)\" d=\"M1246.73 1517.37 Q1243.11 1517.37 1241.29 1520.93 Q1239.48 1524.47 1239.48 1531.6 Q1239.48 1538.71 1241.29 1542.27 Q1243.11 1545.82 1246.73 1545.82 Q1250.36 1545.82 1252.17 1542.27 Q1253.99 1538.71 1253.99 1531.6 Q1253.99 1524.47 1252.17 1520.93 Q1250.36 1517.37 1246.73 1517.37 M1246.73 1513.66 Q1252.54 1513.66 1255.59 1518.27 Q1258.67 1522.85 1258.67 1531.6 Q1258.67 1540.33 1255.59 1544.94 Q1252.54 1549.52 1246.73 1549.52 Q1240.92 1549.52 1237.84 1544.94 Q1234.78 1540.33 1234.78 1531.6 Q1234.78 1522.85 1237.84 1518.27 Q1240.92 1513.66 1246.73 1513.66 Z\" fill=\"#000000\" fill-rule=\"nonzero\" fill-opacity=\"1\" /><path clip-path=\"url(#clip900)\" d=\"M1758.82 1544.91 L1766.46 1544.91 L1766.46 1518.55 L1758.15 1520.21 L1758.15 1515.95 L1766.41 1514.29 L1771.09 1514.29 L1771.09 1544.91 L1778.73 1544.91 L1778.73 1548.85 L1758.82 1548.85 L1758.82 1544.91 Z\" fill=\"#000000\" fill-rule=\"nonzero\" fill-opacity=\"1\" /><path clip-path=\"url(#clip900)\" d=\"M2284.8 1544.91 L2301.12 1544.91 L2301.12 1548.85 L2279.18 1548.85 L2279.18 1544.91 Q2281.84 1542.16 2286.42 1537.53 Q2291.03 1532.88 2292.21 1531.53 Q2294.46 1529.01 2295.34 1527.27 Q2296.24 1525.51 2296.24 1523.82 Q2296.24 1521.07 2294.29 1519.33 Q2292.37 1517.6 2289.27 1517.6 Q2287.07 1517.6 2284.62 1518.36 Q2282.19 1519.13 2279.41 1520.68 L2279.41 1515.95 Q2282.23 1514.82 2284.69 1514.24 Q2287.14 1513.66 2289.18 1513.66 Q2294.55 1513.66 2297.74 1516.35 Q2300.94 1519.03 2300.94 1523.52 Q2300.94 1525.65 2300.13 1527.57 Q2299.34 1529.47 2297.23 1532.07 Q2296.66 1532.74 2293.55 1535.95 Q2290.45 1539.15 2284.8 1544.91 Z\" fill=\"#000000\" fill-rule=\"nonzero\" fill-opacity=\"1\" /><polyline clip-path=\"url(#clip902)\" style=\"stroke:#000000; stroke-linecap:round; stroke-linejoin:round; stroke-width:2; stroke-opacity:0.1; fill:none\" points=\"140.696,1233.14 2352.76,1233.14 \"/>\n",
       "<polyline clip-path=\"url(#clip902)\" style=\"stroke:#000000; stroke-linecap:round; stroke-linejoin:round; stroke-width:2; stroke-opacity:0.1; fill:none\" points=\"140.696,977.395 2352.76,977.395 \"/>\n",
       "<polyline clip-path=\"url(#clip902)\" style=\"stroke:#000000; stroke-linecap:round; stroke-linejoin:round; stroke-width:2; stroke-opacity:0.1; fill:none\" points=\"140.696,721.654 2352.76,721.654 \"/>\n",
       "<polyline clip-path=\"url(#clip902)\" style=\"stroke:#000000; stroke-linecap:round; stroke-linejoin:round; stroke-width:2; stroke-opacity:0.1; fill:none\" points=\"140.696,465.913 2352.76,465.913 \"/>\n",
       "<polyline clip-path=\"url(#clip902)\" style=\"stroke:#000000; stroke-linecap:round; stroke-linejoin:round; stroke-width:2; stroke-opacity:0.1; fill:none\" points=\"140.696,210.172 2352.76,210.172 \"/>\n",
       "<polyline clip-path=\"url(#clip900)\" style=\"stroke:#000000; stroke-linecap:round; stroke-linejoin:round; stroke-width:4; stroke-opacity:1; fill:none\" points=\"140.696,1486.45 140.696,47.2441 \"/>\n",
       "<polyline clip-path=\"url(#clip900)\" style=\"stroke:#000000; stroke-linecap:round; stroke-linejoin:round; stroke-width:4; stroke-opacity:1; fill:none\" points=\"140.696,1233.14 159.593,1233.14 \"/>\n",
       "<polyline clip-path=\"url(#clip900)\" style=\"stroke:#000000; stroke-linecap:round; stroke-linejoin:round; stroke-width:4; stroke-opacity:1; fill:none\" points=\"140.696,977.395 159.593,977.395 \"/>\n",
       "<polyline clip-path=\"url(#clip900)\" style=\"stroke:#000000; stroke-linecap:round; stroke-linejoin:round; stroke-width:4; stroke-opacity:1; fill:none\" points=\"140.696,721.654 159.593,721.654 \"/>\n",
       "<polyline clip-path=\"url(#clip900)\" style=\"stroke:#000000; stroke-linecap:round; stroke-linejoin:round; stroke-width:4; stroke-opacity:1; fill:none\" points=\"140.696,465.913 159.593,465.913 \"/>\n",
       "<polyline clip-path=\"url(#clip900)\" style=\"stroke:#000000; stroke-linecap:round; stroke-linejoin:round; stroke-width:4; stroke-opacity:1; fill:none\" points=\"140.696,210.172 159.593,210.172 \"/>\n",
       "<path clip-path=\"url(#clip900)\" d=\"M83.7929 1215.86 L102.149 1215.86 L102.149 1219.79 L88.0753 1219.79 L88.0753 1228.26 Q89.0938 1227.92 90.1123 1227.75 Q91.1308 1227.57 92.1493 1227.57 Q97.9363 1227.57 101.316 1230.74 Q104.696 1233.91 104.696 1239.33 Q104.696 1244.91 101.223 1248.01 Q97.7511 1251.09 91.4317 1251.09 Q89.2558 1251.09 86.9873 1250.72 Q84.7419 1250.35 82.3346 1249.61 L82.3346 1244.91 Q84.4179 1246.04 86.6401 1246.6 Q88.8623 1247.15 91.3391 1247.15 Q95.3437 1247.15 97.6817 1245.05 Q100.02 1242.94 100.02 1239.33 Q100.02 1235.72 97.6817 1233.61 Q95.3437 1231.5 91.3391 1231.5 Q89.4641 1231.5 87.5892 1231.92 Q85.7373 1232.34 83.7929 1233.22 L83.7929 1215.86 Z\" fill=\"#000000\" fill-rule=\"nonzero\" fill-opacity=\"1\" /><path clip-path=\"url(#clip900)\" d=\"M53.3995 990.74 L61.0384 990.74 L61.0384 964.375 L52.7282 966.041 L52.7282 961.782 L60.9921 960.115 L65.668 960.115 L65.668 990.74 L73.3068 990.74 L73.3068 994.675 L53.3995 994.675 L53.3995 990.74 Z\" fill=\"#000000\" fill-rule=\"nonzero\" fill-opacity=\"1\" /><path clip-path=\"url(#clip900)\" d=\"M92.7512 963.194 Q89.1401 963.194 87.3114 966.759 Q85.5058 970.301 85.5058 977.43 Q85.5058 984.537 87.3114 988.101 Q89.1401 991.643 92.7512 991.643 Q96.3854 991.643 98.1909 988.101 Q100.02 984.537 100.02 977.43 Q100.02 970.301 98.1909 966.759 Q96.3854 963.194 92.7512 963.194 M92.7512 959.49 Q98.5613 959.49 101.617 964.097 Q104.696 968.68 104.696 977.43 Q104.696 986.157 101.617 990.763 Q98.5613 995.347 92.7512 995.347 Q86.941 995.347 83.8623 990.763 Q80.8068 986.157 80.8068 977.43 Q80.8068 968.68 83.8623 964.097 Q86.941 959.49 92.7512 959.49 Z\" fill=\"#000000\" fill-rule=\"nonzero\" fill-opacity=\"1\" /><path clip-path=\"url(#clip900)\" d=\"M54.3949 734.999 L62.0337 734.999 L62.0337 708.634 L53.7236 710.3 L53.7236 706.041 L61.9874 704.374 L66.6633 704.374 L66.6633 734.999 L74.3022 734.999 L74.3022 738.934 L54.3949 738.934 L54.3949 734.999 Z\" fill=\"#000000\" fill-rule=\"nonzero\" fill-opacity=\"1\" /><path clip-path=\"url(#clip900)\" d=\"M83.7929 704.374 L102.149 704.374 L102.149 708.31 L88.0753 708.31 L88.0753 716.782 Q89.0938 716.435 90.1123 716.272 Q91.1308 716.087 92.1493 716.087 Q97.9363 716.087 101.316 719.259 Q104.696 722.43 104.696 727.846 Q104.696 733.425 101.223 736.527 Q97.7511 739.606 91.4317 739.606 Q89.2558 739.606 86.9873 739.235 Q84.7419 738.865 82.3346 738.124 L82.3346 733.425 Q84.4179 734.559 86.6401 735.115 Q88.8623 735.671 91.3391 735.671 Q95.3437 735.671 97.6817 733.564 Q100.02 731.458 100.02 727.846 Q100.02 724.235 97.6817 722.129 Q95.3437 720.022 91.3391 720.022 Q89.4641 720.022 87.5892 720.439 Q85.7373 720.856 83.7929 721.735 L83.7929 704.374 Z\" fill=\"#000000\" fill-rule=\"nonzero\" fill-opacity=\"1\" /><path clip-path=\"url(#clip900)\" d=\"M56.6171 479.258 L72.9365 479.258 L72.9365 483.193 L50.9921 483.193 L50.9921 479.258 Q53.6541 476.504 58.2375 471.874 Q62.8439 467.221 64.0245 465.879 Q66.2698 463.355 67.1494 461.619 Q68.0522 459.86 68.0522 458.17 Q68.0522 455.416 66.1078 453.68 Q64.1865 451.943 61.0847 451.943 Q58.8856 451.943 56.4319 452.707 Q54.0014 453.471 51.2236 455.022 L51.2236 450.3 Q54.0477 449.166 56.5014 448.587 Q58.955 448.008 60.9921 448.008 Q66.3624 448.008 69.5568 450.693 Q72.7513 453.379 72.7513 457.869 Q72.7513 459.999 71.9411 461.92 Q71.1541 463.818 69.0476 466.411 Q68.4689 467.082 65.367 470.3 Q62.2652 473.494 56.6171 479.258 Z\" fill=\"#000000\" fill-rule=\"nonzero\" fill-opacity=\"1\" /><path clip-path=\"url(#clip900)\" d=\"M92.7512 451.712 Q89.1401 451.712 87.3114 455.277 Q85.5058 458.818 85.5058 465.948 Q85.5058 473.054 87.3114 476.619 Q89.1401 480.161 92.7512 480.161 Q96.3854 480.161 98.1909 476.619 Q100.02 473.054 100.02 465.948 Q100.02 458.818 98.1909 455.277 Q96.3854 451.712 92.7512 451.712 M92.7512 448.008 Q98.5613 448.008 101.617 452.615 Q104.696 457.198 104.696 465.948 Q104.696 474.675 101.617 479.281 Q98.5613 483.865 92.7512 483.865 Q86.941 483.865 83.8623 479.281 Q80.8068 474.675 80.8068 465.948 Q80.8068 457.198 83.8623 452.615 Q86.941 448.008 92.7512 448.008 Z\" fill=\"#000000\" fill-rule=\"nonzero\" fill-opacity=\"1\" /><path clip-path=\"url(#clip900)\" d=\"M57.6125 223.517 L73.9318 223.517 L73.9318 227.452 L51.9875 227.452 L51.9875 223.517 Q54.6495 220.762 59.2328 216.133 Q63.8393 211.48 65.0198 210.138 Q67.2652 207.614 68.1448 205.878 Q69.0476 204.119 69.0476 202.429 Q69.0476 199.675 67.1032 197.939 Q65.1819 196.202 62.08 196.202 Q59.881 196.202 57.4273 196.966 Q54.9967 197.73 52.219 199.281 L52.219 194.559 Q55.043 193.425 57.4967 192.846 Q59.9504 192.267 61.9874 192.267 Q67.3578 192.267 70.5522 194.952 Q73.7466 197.638 73.7466 202.128 Q73.7466 204.258 72.9365 206.179 Q72.1494 208.077 70.0429 210.67 Q69.4642 211.341 66.3624 214.559 Q63.2606 217.753 57.6125 223.517 Z\" fill=\"#000000\" fill-rule=\"nonzero\" fill-opacity=\"1\" /><path clip-path=\"url(#clip900)\" d=\"M83.7929 192.892 L102.149 192.892 L102.149 196.827 L88.0753 196.827 L88.0753 205.3 Q89.0938 204.952 90.1123 204.79 Q91.1308 204.605 92.1493 204.605 Q97.9363 204.605 101.316 207.776 Q104.696 210.948 104.696 216.364 Q104.696 221.943 101.223 225.045 Q97.7511 228.124 91.4317 228.124 Q89.2558 228.124 86.9873 227.753 Q84.7419 227.383 82.3346 226.642 L82.3346 221.943 Q84.4179 223.077 86.6401 223.633 Q88.8623 224.188 91.3391 224.188 Q95.3437 224.188 97.6817 222.082 Q100.02 219.975 100.02 216.364 Q100.02 212.753 97.6817 210.647 Q95.3437 208.54 91.3391 208.54 Q89.4641 208.54 87.5892 208.957 Q85.7373 209.374 83.7929 210.253 L83.7929 192.892 Z\" fill=\"#000000\" fill-rule=\"nonzero\" fill-opacity=\"1\" /><polyline clip-path=\"url(#clip902)\" style=\"stroke:#009af9; stroke-linecap:round; stroke-linejoin:round; stroke-width:4; stroke-opacity:1; fill:none\" points=\"203.301,458.991 256.81,634.083 310.319,784.761 363.828,913.463 417.337,1022.49 470.846,1113.99 524.355,1190.01 577.864,1252.43 631.373,1303 684.882,1343.34 738.391,1374.91 791.9,1399.07 845.409,1417 898.917,1429.78 952.426,1438.33 1005.94,1443.42 1059.44,1445.72 1112.95,1445.71 1166.46,1443.78 1219.97,1440.15 1273.48,1434.9 1326.99,1427.98 1380.5,1419.2 1434.01,1408.2 1487.52,1394.51 1541.02,1377.51 1594.53,1356.42 1648.04,1330.32 1701.55,1298.15 1755.06,1258.7 1808.57,1210.61 1862.08,1152.36 1915.59,1082.29 1969.1,998.573 2022.61,899.245 2076.11,782.166 2129.62,645.041 2183.13,485.414 2236.64,300.657 2290.15,87.9763 \"/>\n",
       "<path clip-path=\"url(#clip900)\" d=\"M214.431 198.898 L488.067 198.898 L488.067 95.2176 L214.431 95.2176  Z\" fill=\"#ffffff\" fill-rule=\"evenodd\" fill-opacity=\"1\"/>\n",
       "<polyline clip-path=\"url(#clip900)\" style=\"stroke:#000000; stroke-linecap:round; stroke-linejoin:round; stroke-width:4; stroke-opacity:1; fill:none\" points=\"214.431,198.898 488.067,198.898 488.067,95.2176 214.431,95.2176 214.431,198.898 \"/>\n",
       "<polyline clip-path=\"url(#clip900)\" style=\"stroke:#009af9; stroke-linecap:round; stroke-linejoin:round; stroke-width:4; stroke-opacity:1; fill:none\" points=\"239.009,147.058 386.48,147.058 \"/>\n",
       "<path clip-path=\"url(#clip900)\" d=\"M424.901 166.745 Q423.095 171.375 421.382 172.787 Q419.67 174.199 416.799 174.199 L413.396 174.199 L413.396 170.634 L415.896 170.634 Q417.656 170.634 418.628 169.8 Q419.6 168.967 420.781 165.865 L421.545 163.921 L411.058 138.412 L415.572 138.412 L423.674 158.689 L431.776 138.412 L436.29 138.412 L424.901 166.745 Z\" fill=\"#000000\" fill-rule=\"nonzero\" fill-opacity=\"1\" /><path clip-path=\"url(#clip900)\" d=\"M443.581 160.402 L451.22 160.402 L451.22 134.037 L442.91 135.703 L442.91 131.444 L451.174 129.778 L455.85 129.778 L455.85 160.402 L463.489 160.402 L463.489 164.338 L443.581 164.338 L443.581 160.402 Z\" fill=\"#000000\" fill-rule=\"nonzero\" fill-opacity=\"1\" /></svg>\n"
      ],
      "text/html": [
       "<?xml version=\"1.0\" encoding=\"utf-8\"?>\n",
       "<svg xmlns=\"http://www.w3.org/2000/svg\" xmlns:xlink=\"http://www.w3.org/1999/xlink\" width=\"600\" height=\"400\" viewBox=\"0 0 2400 1600\">\n",
       "<defs>\n",
       "  <clipPath id=\"clip950\">\n",
       "    <rect x=\"0\" y=\"0\" width=\"2400\" height=\"1600\"/>\n",
       "  </clipPath>\n",
       "</defs>\n",
       "<path clip-path=\"url(#clip950)\" d=\"M0 1600 L2400 1600 L2400 0 L0 0  Z\" fill=\"#ffffff\" fill-rule=\"evenodd\" fill-opacity=\"1\"/>\n",
       "<defs>\n",
       "  <clipPath id=\"clip951\">\n",
       "    <rect x=\"480\" y=\"0\" width=\"1681\" height=\"1600\"/>\n",
       "  </clipPath>\n",
       "</defs>\n",
       "<path clip-path=\"url(#clip950)\" d=\"M140.696 1486.45 L2352.76 1486.45 L2352.76 47.2441 L140.696 47.2441  Z\" fill=\"#ffffff\" fill-rule=\"evenodd\" fill-opacity=\"1\"/>\n",
       "<defs>\n",
       "  <clipPath id=\"clip952\">\n",
       "    <rect x=\"140\" y=\"47\" width=\"2213\" height=\"1440\"/>\n",
       "  </clipPath>\n",
       "</defs>\n",
       "<polyline clip-path=\"url(#clip952)\" style=\"stroke:#000000; stroke-linecap:round; stroke-linejoin:round; stroke-width:2; stroke-opacity:0.1; fill:none\" points=\"203.301,1486.45 203.301,47.2441 \"/>\n",
       "<polyline clip-path=\"url(#clip952)\" style=\"stroke:#000000; stroke-linecap:round; stroke-linejoin:round; stroke-width:2; stroke-opacity:0.1; fill:none\" points=\"725.013,1486.45 725.013,47.2441 \"/>\n",
       "<polyline clip-path=\"url(#clip952)\" style=\"stroke:#000000; stroke-linecap:round; stroke-linejoin:round; stroke-width:2; stroke-opacity:0.1; fill:none\" points=\"1246.73,1486.45 1246.73,47.2441 \"/>\n",
       "<polyline clip-path=\"url(#clip952)\" style=\"stroke:#000000; stroke-linecap:round; stroke-linejoin:round; stroke-width:2; stroke-opacity:0.1; fill:none\" points=\"1768.44,1486.45 1768.44,47.2441 \"/>\n",
       "<polyline clip-path=\"url(#clip952)\" style=\"stroke:#000000; stroke-linecap:round; stroke-linejoin:round; stroke-width:2; stroke-opacity:0.1; fill:none\" points=\"2290.15,1486.45 2290.15,47.2441 \"/>\n",
       "<polyline clip-path=\"url(#clip950)\" style=\"stroke:#000000; stroke-linecap:round; stroke-linejoin:round; stroke-width:4; stroke-opacity:1; fill:none\" points=\"140.696,1486.45 2352.76,1486.45 \"/>\n",
       "<polyline clip-path=\"url(#clip950)\" style=\"stroke:#000000; stroke-linecap:round; stroke-linejoin:round; stroke-width:4; stroke-opacity:1; fill:none\" points=\"203.301,1486.45 203.301,1467.55 \"/>\n",
       "<polyline clip-path=\"url(#clip950)\" style=\"stroke:#000000; stroke-linecap:round; stroke-linejoin:round; stroke-width:4; stroke-opacity:1; fill:none\" points=\"725.013,1486.45 725.013,1467.55 \"/>\n",
       "<polyline clip-path=\"url(#clip950)\" style=\"stroke:#000000; stroke-linecap:round; stroke-linejoin:round; stroke-width:4; stroke-opacity:1; fill:none\" points=\"1246.73,1486.45 1246.73,1467.55 \"/>\n",
       "<polyline clip-path=\"url(#clip950)\" style=\"stroke:#000000; stroke-linecap:round; stroke-linejoin:round; stroke-width:4; stroke-opacity:1; fill:none\" points=\"1768.44,1486.45 1768.44,1467.55 \"/>\n",
       "<polyline clip-path=\"url(#clip950)\" style=\"stroke:#000000; stroke-linecap:round; stroke-linejoin:round; stroke-width:4; stroke-opacity:1; fill:none\" points=\"2290.15,1486.45 2290.15,1467.55 \"/>\n",
       "<path clip-path=\"url(#clip950)\" d=\"M173.243 1532.02 L202.919 1532.02 L202.919 1535.95 L173.243 1535.95 L173.243 1532.02 Z\" fill=\"#000000\" fill-rule=\"nonzero\" fill-opacity=\"1\" /><path clip-path=\"url(#clip950)\" d=\"M217.039 1544.91 L233.359 1544.91 L233.359 1548.85 L211.414 1548.85 L211.414 1544.91 Q214.076 1542.16 218.66 1537.53 Q223.266 1532.88 224.447 1531.53 Q226.692 1529.01 227.572 1527.27 Q228.475 1525.51 228.475 1523.82 Q228.475 1521.07 226.53 1519.33 Q224.609 1517.6 221.507 1517.6 Q219.308 1517.6 216.854 1518.36 Q214.424 1519.13 211.646 1520.68 L211.646 1515.95 Q214.47 1514.82 216.924 1514.24 Q219.377 1513.66 221.414 1513.66 Q226.785 1513.66 229.979 1516.35 Q233.174 1519.03 233.174 1523.52 Q233.174 1525.65 232.363 1527.57 Q231.576 1529.47 229.47 1532.07 Q228.891 1532.74 225.789 1535.95 Q222.687 1539.15 217.039 1544.91 Z\" fill=\"#000000\" fill-rule=\"nonzero\" fill-opacity=\"1\" /><path clip-path=\"url(#clip950)\" d=\"M694.77 1532.02 L724.446 1532.02 L724.446 1535.95 L694.77 1535.95 L694.77 1532.02 Z\" fill=\"#000000\" fill-rule=\"nonzero\" fill-opacity=\"1\" /><path clip-path=\"url(#clip950)\" d=\"M735.349 1544.91 L742.988 1544.91 L742.988 1518.55 L734.678 1520.21 L734.678 1515.95 L742.942 1514.29 L747.617 1514.29 L747.617 1544.91 L755.256 1544.91 L755.256 1548.85 L735.349 1548.85 L735.349 1544.91 Z\" fill=\"#000000\" fill-rule=\"nonzero\" fill-opacity=\"1\" /><path clip-path=\"url(#clip950)\" d=\"M1246.73 1517.37 Q1243.11 1517.37 1241.29 1520.93 Q1239.48 1524.47 1239.48 1531.6 Q1239.48 1538.71 1241.29 1542.27 Q1243.11 1545.82 1246.73 1545.82 Q1250.36 1545.82 1252.17 1542.27 Q1253.99 1538.71 1253.99 1531.6 Q1253.99 1524.47 1252.17 1520.93 Q1250.36 1517.37 1246.73 1517.37 M1246.73 1513.66 Q1252.54 1513.66 1255.59 1518.27 Q1258.67 1522.85 1258.67 1531.6 Q1258.67 1540.33 1255.59 1544.94 Q1252.54 1549.52 1246.73 1549.52 Q1240.92 1549.52 1237.84 1544.94 Q1234.78 1540.33 1234.78 1531.6 Q1234.78 1522.85 1237.84 1518.27 Q1240.92 1513.66 1246.73 1513.66 Z\" fill=\"#000000\" fill-rule=\"nonzero\" fill-opacity=\"1\" /><path clip-path=\"url(#clip950)\" d=\"M1758.82 1544.91 L1766.46 1544.91 L1766.46 1518.55 L1758.15 1520.21 L1758.15 1515.95 L1766.41 1514.29 L1771.09 1514.29 L1771.09 1544.91 L1778.73 1544.91 L1778.73 1548.85 L1758.82 1548.85 L1758.82 1544.91 Z\" fill=\"#000000\" fill-rule=\"nonzero\" fill-opacity=\"1\" /><path clip-path=\"url(#clip950)\" d=\"M2284.8 1544.91 L2301.12 1544.91 L2301.12 1548.85 L2279.18 1548.85 L2279.18 1544.91 Q2281.84 1542.16 2286.42 1537.53 Q2291.03 1532.88 2292.21 1531.53 Q2294.46 1529.01 2295.34 1527.27 Q2296.24 1525.51 2296.24 1523.82 Q2296.24 1521.07 2294.29 1519.33 Q2292.37 1517.6 2289.27 1517.6 Q2287.07 1517.6 2284.62 1518.36 Q2282.19 1519.13 2279.41 1520.68 L2279.41 1515.95 Q2282.23 1514.82 2284.69 1514.24 Q2287.14 1513.66 2289.18 1513.66 Q2294.55 1513.66 2297.74 1516.35 Q2300.94 1519.03 2300.94 1523.52 Q2300.94 1525.65 2300.13 1527.57 Q2299.34 1529.47 2297.23 1532.07 Q2296.66 1532.74 2293.55 1535.95 Q2290.45 1539.15 2284.8 1544.91 Z\" fill=\"#000000\" fill-rule=\"nonzero\" fill-opacity=\"1\" /><polyline clip-path=\"url(#clip952)\" style=\"stroke:#000000; stroke-linecap:round; stroke-linejoin:round; stroke-width:2; stroke-opacity:0.1; fill:none\" points=\"140.696,1233.14 2352.76,1233.14 \"/>\n",
       "<polyline clip-path=\"url(#clip952)\" style=\"stroke:#000000; stroke-linecap:round; stroke-linejoin:round; stroke-width:2; stroke-opacity:0.1; fill:none\" points=\"140.696,977.395 2352.76,977.395 \"/>\n",
       "<polyline clip-path=\"url(#clip952)\" style=\"stroke:#000000; stroke-linecap:round; stroke-linejoin:round; stroke-width:2; stroke-opacity:0.1; fill:none\" points=\"140.696,721.654 2352.76,721.654 \"/>\n",
       "<polyline clip-path=\"url(#clip952)\" style=\"stroke:#000000; stroke-linecap:round; stroke-linejoin:round; stroke-width:2; stroke-opacity:0.1; fill:none\" points=\"140.696,465.913 2352.76,465.913 \"/>\n",
       "<polyline clip-path=\"url(#clip952)\" style=\"stroke:#000000; stroke-linecap:round; stroke-linejoin:round; stroke-width:2; stroke-opacity:0.1; fill:none\" points=\"140.696,210.172 2352.76,210.172 \"/>\n",
       "<polyline clip-path=\"url(#clip950)\" style=\"stroke:#000000; stroke-linecap:round; stroke-linejoin:round; stroke-width:4; stroke-opacity:1; fill:none\" points=\"140.696,1486.45 140.696,47.2441 \"/>\n",
       "<polyline clip-path=\"url(#clip950)\" style=\"stroke:#000000; stroke-linecap:round; stroke-linejoin:round; stroke-width:4; stroke-opacity:1; fill:none\" points=\"140.696,1233.14 159.593,1233.14 \"/>\n",
       "<polyline clip-path=\"url(#clip950)\" style=\"stroke:#000000; stroke-linecap:round; stroke-linejoin:round; stroke-width:4; stroke-opacity:1; fill:none\" points=\"140.696,977.395 159.593,977.395 \"/>\n",
       "<polyline clip-path=\"url(#clip950)\" style=\"stroke:#000000; stroke-linecap:round; stroke-linejoin:round; stroke-width:4; stroke-opacity:1; fill:none\" points=\"140.696,721.654 159.593,721.654 \"/>\n",
       "<polyline clip-path=\"url(#clip950)\" style=\"stroke:#000000; stroke-linecap:round; stroke-linejoin:round; stroke-width:4; stroke-opacity:1; fill:none\" points=\"140.696,465.913 159.593,465.913 \"/>\n",
       "<polyline clip-path=\"url(#clip950)\" style=\"stroke:#000000; stroke-linecap:round; stroke-linejoin:round; stroke-width:4; stroke-opacity:1; fill:none\" points=\"140.696,210.172 159.593,210.172 \"/>\n",
       "<path clip-path=\"url(#clip950)\" d=\"M83.7929 1215.86 L102.149 1215.86 L102.149 1219.79 L88.0753 1219.79 L88.0753 1228.26 Q89.0938 1227.92 90.1123 1227.75 Q91.1308 1227.57 92.1493 1227.57 Q97.9363 1227.57 101.316 1230.74 Q104.696 1233.91 104.696 1239.33 Q104.696 1244.91 101.223 1248.01 Q97.7511 1251.09 91.4317 1251.09 Q89.2558 1251.09 86.9873 1250.72 Q84.7419 1250.35 82.3346 1249.61 L82.3346 1244.91 Q84.4179 1246.04 86.6401 1246.6 Q88.8623 1247.15 91.3391 1247.15 Q95.3437 1247.15 97.6817 1245.05 Q100.02 1242.94 100.02 1239.33 Q100.02 1235.72 97.6817 1233.61 Q95.3437 1231.5 91.3391 1231.5 Q89.4641 1231.5 87.5892 1231.92 Q85.7373 1232.34 83.7929 1233.22 L83.7929 1215.86 Z\" fill=\"#000000\" fill-rule=\"nonzero\" fill-opacity=\"1\" /><path clip-path=\"url(#clip950)\" d=\"M53.3995 990.74 L61.0384 990.74 L61.0384 964.375 L52.7282 966.041 L52.7282 961.782 L60.9921 960.115 L65.668 960.115 L65.668 990.74 L73.3068 990.74 L73.3068 994.675 L53.3995 994.675 L53.3995 990.74 Z\" fill=\"#000000\" fill-rule=\"nonzero\" fill-opacity=\"1\" /><path clip-path=\"url(#clip950)\" d=\"M92.7512 963.194 Q89.1401 963.194 87.3114 966.759 Q85.5058 970.301 85.5058 977.43 Q85.5058 984.537 87.3114 988.101 Q89.1401 991.643 92.7512 991.643 Q96.3854 991.643 98.1909 988.101 Q100.02 984.537 100.02 977.43 Q100.02 970.301 98.1909 966.759 Q96.3854 963.194 92.7512 963.194 M92.7512 959.49 Q98.5613 959.49 101.617 964.097 Q104.696 968.68 104.696 977.43 Q104.696 986.157 101.617 990.763 Q98.5613 995.347 92.7512 995.347 Q86.941 995.347 83.8623 990.763 Q80.8068 986.157 80.8068 977.43 Q80.8068 968.68 83.8623 964.097 Q86.941 959.49 92.7512 959.49 Z\" fill=\"#000000\" fill-rule=\"nonzero\" fill-opacity=\"1\" /><path clip-path=\"url(#clip950)\" d=\"M54.3949 734.999 L62.0337 734.999 L62.0337 708.634 L53.7236 710.3 L53.7236 706.041 L61.9874 704.374 L66.6633 704.374 L66.6633 734.999 L74.3022 734.999 L74.3022 738.934 L54.3949 738.934 L54.3949 734.999 Z\" fill=\"#000000\" fill-rule=\"nonzero\" fill-opacity=\"1\" /><path clip-path=\"url(#clip950)\" d=\"M83.7929 704.374 L102.149 704.374 L102.149 708.31 L88.0753 708.31 L88.0753 716.782 Q89.0938 716.435 90.1123 716.272 Q91.1308 716.087 92.1493 716.087 Q97.9363 716.087 101.316 719.259 Q104.696 722.43 104.696 727.846 Q104.696 733.425 101.223 736.527 Q97.7511 739.606 91.4317 739.606 Q89.2558 739.606 86.9873 739.235 Q84.7419 738.865 82.3346 738.124 L82.3346 733.425 Q84.4179 734.559 86.6401 735.115 Q88.8623 735.671 91.3391 735.671 Q95.3437 735.671 97.6817 733.564 Q100.02 731.458 100.02 727.846 Q100.02 724.235 97.6817 722.129 Q95.3437 720.022 91.3391 720.022 Q89.4641 720.022 87.5892 720.439 Q85.7373 720.856 83.7929 721.735 L83.7929 704.374 Z\" fill=\"#000000\" fill-rule=\"nonzero\" fill-opacity=\"1\" /><path clip-path=\"url(#clip950)\" d=\"M56.6171 479.258 L72.9365 479.258 L72.9365 483.193 L50.9921 483.193 L50.9921 479.258 Q53.6541 476.504 58.2375 471.874 Q62.8439 467.221 64.0245 465.879 Q66.2698 463.355 67.1494 461.619 Q68.0522 459.86 68.0522 458.17 Q68.0522 455.416 66.1078 453.68 Q64.1865 451.943 61.0847 451.943 Q58.8856 451.943 56.4319 452.707 Q54.0014 453.471 51.2236 455.022 L51.2236 450.3 Q54.0477 449.166 56.5014 448.587 Q58.955 448.008 60.9921 448.008 Q66.3624 448.008 69.5568 450.693 Q72.7513 453.379 72.7513 457.869 Q72.7513 459.999 71.9411 461.92 Q71.1541 463.818 69.0476 466.411 Q68.4689 467.082 65.367 470.3 Q62.2652 473.494 56.6171 479.258 Z\" fill=\"#000000\" fill-rule=\"nonzero\" fill-opacity=\"1\" /><path clip-path=\"url(#clip950)\" d=\"M92.7512 451.712 Q89.1401 451.712 87.3114 455.277 Q85.5058 458.818 85.5058 465.948 Q85.5058 473.054 87.3114 476.619 Q89.1401 480.161 92.7512 480.161 Q96.3854 480.161 98.1909 476.619 Q100.02 473.054 100.02 465.948 Q100.02 458.818 98.1909 455.277 Q96.3854 451.712 92.7512 451.712 M92.7512 448.008 Q98.5613 448.008 101.617 452.615 Q104.696 457.198 104.696 465.948 Q104.696 474.675 101.617 479.281 Q98.5613 483.865 92.7512 483.865 Q86.941 483.865 83.8623 479.281 Q80.8068 474.675 80.8068 465.948 Q80.8068 457.198 83.8623 452.615 Q86.941 448.008 92.7512 448.008 Z\" fill=\"#000000\" fill-rule=\"nonzero\" fill-opacity=\"1\" /><path clip-path=\"url(#clip950)\" d=\"M57.6125 223.517 L73.9318 223.517 L73.9318 227.452 L51.9875 227.452 L51.9875 223.517 Q54.6495 220.762 59.2328 216.133 Q63.8393 211.48 65.0198 210.138 Q67.2652 207.614 68.1448 205.878 Q69.0476 204.119 69.0476 202.429 Q69.0476 199.675 67.1032 197.939 Q65.1819 196.202 62.08 196.202 Q59.881 196.202 57.4273 196.966 Q54.9967 197.73 52.219 199.281 L52.219 194.559 Q55.043 193.425 57.4967 192.846 Q59.9504 192.267 61.9874 192.267 Q67.3578 192.267 70.5522 194.952 Q73.7466 197.638 73.7466 202.128 Q73.7466 204.258 72.9365 206.179 Q72.1494 208.077 70.0429 210.67 Q69.4642 211.341 66.3624 214.559 Q63.2606 217.753 57.6125 223.517 Z\" fill=\"#000000\" fill-rule=\"nonzero\" fill-opacity=\"1\" /><path clip-path=\"url(#clip950)\" d=\"M83.7929 192.892 L102.149 192.892 L102.149 196.827 L88.0753 196.827 L88.0753 205.3 Q89.0938 204.952 90.1123 204.79 Q91.1308 204.605 92.1493 204.605 Q97.9363 204.605 101.316 207.776 Q104.696 210.948 104.696 216.364 Q104.696 221.943 101.223 225.045 Q97.7511 228.124 91.4317 228.124 Q89.2558 228.124 86.9873 227.753 Q84.7419 227.383 82.3346 226.642 L82.3346 221.943 Q84.4179 223.077 86.6401 223.633 Q88.8623 224.188 91.3391 224.188 Q95.3437 224.188 97.6817 222.082 Q100.02 219.975 100.02 216.364 Q100.02 212.753 97.6817 210.647 Q95.3437 208.54 91.3391 208.54 Q89.4641 208.54 87.5892 208.957 Q85.7373 209.374 83.7929 210.253 L83.7929 192.892 Z\" fill=\"#000000\" fill-rule=\"nonzero\" fill-opacity=\"1\" /><polyline clip-path=\"url(#clip952)\" style=\"stroke:#009af9; stroke-linecap:round; stroke-linejoin:round; stroke-width:4; stroke-opacity:1; fill:none\" points=\"203.301,458.991 256.81,634.083 310.319,784.761 363.828,913.463 417.337,1022.49 470.846,1113.99 524.355,1190.01 577.864,1252.43 631.373,1303 684.882,1343.34 738.391,1374.91 791.9,1399.07 845.409,1417 898.917,1429.78 952.426,1438.33 1005.94,1443.42 1059.44,1445.72 1112.95,1445.71 1166.46,1443.78 1219.97,1440.15 1273.48,1434.9 1326.99,1427.98 1380.5,1419.2 1434.01,1408.2 1487.52,1394.51 1541.02,1377.51 1594.53,1356.42 1648.04,1330.32 1701.55,1298.15 1755.06,1258.7 1808.57,1210.61 1862.08,1152.36 1915.59,1082.29 1969.1,998.573 2022.61,899.245 2076.11,782.166 2129.62,645.041 2183.13,485.414 2236.64,300.657 2290.15,87.9763 \"/>\n",
       "<path clip-path=\"url(#clip950)\" d=\"M214.431 198.898 L488.067 198.898 L488.067 95.2176 L214.431 95.2176  Z\" fill=\"#ffffff\" fill-rule=\"evenodd\" fill-opacity=\"1\"/>\n",
       "<polyline clip-path=\"url(#clip950)\" style=\"stroke:#000000; stroke-linecap:round; stroke-linejoin:round; stroke-width:4; stroke-opacity:1; fill:none\" points=\"214.431,198.898 488.067,198.898 488.067,95.2176 214.431,95.2176 214.431,198.898 \"/>\n",
       "<polyline clip-path=\"url(#clip950)\" style=\"stroke:#009af9; stroke-linecap:round; stroke-linejoin:round; stroke-width:4; stroke-opacity:1; fill:none\" points=\"239.009,147.058 386.48,147.058 \"/>\n",
       "<path clip-path=\"url(#clip950)\" d=\"M424.901 166.745 Q423.095 171.375 421.382 172.787 Q419.67 174.199 416.799 174.199 L413.396 174.199 L413.396 170.634 L415.896 170.634 Q417.656 170.634 418.628 169.8 Q419.6 168.967 420.781 165.865 L421.545 163.921 L411.058 138.412 L415.572 138.412 L423.674 158.689 L431.776 138.412 L436.29 138.412 L424.901 166.745 Z\" fill=\"#000000\" fill-rule=\"nonzero\" fill-opacity=\"1\" /><path clip-path=\"url(#clip950)\" d=\"M443.581 160.402 L451.22 160.402 L451.22 134.037 L442.91 135.703 L442.91 131.444 L451.174 129.778 L455.85 129.778 L455.85 160.402 L463.489 160.402 L463.489 164.338 L443.581 164.338 L443.581 160.402 Z\" fill=\"#000000\" fill-rule=\"nonzero\" fill-opacity=\"1\" /></svg>\n"
      ]
     },
     "metadata": {},
     "output_type": "display_data"
    }
   ],
   "source": [
    "plot(xrange,f)"
   ]
  },
  {
   "cell_type": "markdown",
   "metadata": {},
   "source": [
    "For future use, we record the first and second derivatives of $f$:\n",
    "\\begin{align*} f_1(x) &:= f'(x) = \\exp(x)+4x^3+2x \\\\ f_2(x) &:= f''(x) = \\exp(x)+12x^2+2\\end{align*}\n",
    "You can find these derivatives by hand, by Maple, by WolframAlpha, etc.  \n",
    "As an aside, we can do this actually also in Julia."
   ]
  },
  {
   "cell_type": "code",
   "execution_count": 6,
   "metadata": {},
   "outputs": [
    {
     "name": "stderr",
     "output_type": "stream",
     "text": [
      "\u001b[32m\u001b[1m   Resolving\u001b[22m\u001b[39m package versions...\n",
      "\u001b[32m\u001b[1m  No Changes\u001b[22m\u001b[39m to `C:\\Users\\ylucet\\.julia\\environments\\v1.10\\Project.toml`\n",
      "\u001b[32m\u001b[1m  No Changes\u001b[22m\u001b[39m to `C:\\Users\\ylucet\\.julia\\environments\\v1.10\\Manifest.toml`\n"
     ]
    }
   ],
   "source": [
    "Pkg.add(\"Calculus\"); "
   ]
  },
  {
   "cell_type": "code",
   "execution_count": 5,
   "metadata": {},
   "outputs": [],
   "source": [
    "using Calculus;"
   ]
  },
  {
   "cell_type": "code",
   "execution_count": 6,
   "metadata": {},
   "outputs": [
    {
     "data": {
      "text/plain": [
       "#1 (generic function with 1 method)"
      ]
     },
     "metadata": {},
     "output_type": "display_data"
    }
   ],
   "source": [
    "f1=derivative(f)"
   ]
  },
  {
   "cell_type": "code",
   "execution_count": 7,
   "metadata": {},
   "outputs": [
    {
     "data": {
      "text/plain": [
       "8.718281828550825"
      ]
     },
     "metadata": {},
     "output_type": "display_data"
    }
   ],
   "source": [
    "f1(1)"
   ]
  },
  {
   "cell_type": "code",
   "execution_count": 8,
   "metadata": {},
   "outputs": [
    {
     "data": {
      "text/plain": [
       "\"exp(x) + 4 * x ^ 3 + 2 * x\""
      ]
     },
     "metadata": {},
     "output_type": "display_data"
    }
   ],
   "source": [
    "deparse(simplify(differentiate(\"exp(x)+x^4+x^2\", :x)))"
   ]
  },
  {
   "cell_type": "code",
   "execution_count": 9,
   "metadata": {},
   "outputs": [
    {
     "data": {
      "text/plain": [
       "#1 (generic function with 1 method)"
      ]
     },
     "metadata": {},
     "output_type": "display_data"
    }
   ],
   "source": [
    "f2=derivative(f1)"
   ]
  },
  {
   "cell_type": "markdown",
   "metadata": {},
   "source": [
    "Actually, the \"Calculus package\" can also work directly with $f'$ as we illustrate."
   ]
  },
  {
   "cell_type": "code",
   "execution_count": 10,
   "metadata": {},
   "outputs": [
    {
     "data": {
      "text/plain": [
       "16.718283108764254"
      ]
     },
     "metadata": {},
     "output_type": "display_data"
    }
   ],
   "source": [
    "f2(1)"
   ]
  },
  {
   "cell_type": "markdown",
   "metadata": {},
   "source": [
    "Back to business. We start by running Newton's method for 10 iterations, starting at $1$."
   ]
  },
  {
   "cell_type": "code",
   "execution_count": 11,
   "metadata": {},
   "outputs": [
    {
     "data": {
      "text/plain": [
       "1"
      ]
     },
     "metadata": {},
     "output_type": "display_data"
    }
   ],
   "source": [
    "xcurrent = 1"
   ]
  },
  {
   "cell_type": "code",
   "execution_count": 12,
   "metadata": {},
   "outputs": [
    {
     "name": "stdout",
     "output_type": "stream",
     "text": [
      "n=1 x=1 f(x)=4.718281828459045 f'(x)=8.718281828550825\n",
      "n=2 x=0.4785181126655029 f(x)=1.8950925696761507 f'(x)=3.0090010747431633\n",
      "n=3 x=0.005511689111974805 f(x)=1.0055572860549775 f'(x)=1.0165509543962956\n",
      "n=4 x=-0.33267434470196255 f(x)=0.839924211997394 f'(x)=-0.09561626982951739\n",
      "n=5 x=-0.3090366245967567 f(x)=0.8387784611497338 f'(x)=-0.00197585220336112\n",
      "n=6 x=-0.308527410251854 f(x)=0.8387779579366258 f'(x)=-8.658264650258997e-7\n",
      "n=7 x=-0.30852718691635433 f(x)=0.8387779579365291 f'(x)=-1.8334264312505154e-11\n",
      "n=8 x=-0.3085271869116251 f(x)=0.838777957936529 f'(x)=0.0\n",
      "n=9 x=-0.3085271869116251 f(x)=0.838777957936529 f'(x)=0.0\n",
      "n=10 x=-0.3085271869116251 f(x)=0.838777957936529 f'(x)=0.0\n"
     ]
    }
   ],
   "source": [
    "for n in 1:10  \n",
    "       println(\"n=\",n,\" x=\",xcurrent,\" f(x)=\",f(xcurrent),\" f'(x)=\",f1(xcurrent))       \n",
    "       xcurrent = xcurrent - f1(xcurrent)/f2(xcurrent) # or use f1 and f2\n",
    "end"
   ]
  },
  {
   "cell_type": "markdown",
   "metadata": {},
   "source": [
    "We observe that Newton's method converges very quickly, to the values seen in the lecture."
   ]
  },
  {
   "cell_type": "markdown",
   "metadata": {},
   "source": [
    "Next, we run gradient descent, with *constant* stepsize $1$:"
   ]
  },
  {
   "cell_type": "code",
   "execution_count": 13,
   "metadata": {},
   "outputs": [
    {
     "name": "stdout",
     "output_type": "stream",
     "text": [
      "n=1 x=1 f(x)=4.718281828459045 f'(x)=8.718281828550825\n",
      "n=2 x=-7.7182818285508255 f(x)=3608.3805367436435 f'(x)=-1854.6061813305062\n",
      "n=3 x=1846.8878995019554 f(x)=Inf f'(x)=NaN\n",
      "n=4 x=NaN f(x)=NaN f'(x)=NaN\n",
      "n=5 x=NaN f(x)=NaN f'(x)=NaN\n",
      "n=6 x=NaN f(x)=NaN f'(x)=NaN\n",
      "n=7 x=NaN f(x)=NaN f'(x)=NaN\n",
      "n=8 x=NaN f(x)=NaN f'(x)=NaN\n",
      "n=9 x=NaN f(x)=NaN f'(x)=NaN\n",
      "n=10 x=NaN f(x)=NaN f'(x)=NaN\n"
     ]
    }
   ],
   "source": [
    "xcurrent = 1\n",
    "for n in 1:10  \n",
    "       println(\"n=\",n,\" x=\",xcurrent,\" f(x)=\",f(xcurrent),\" f'(x)=\",f1(xcurrent))  \n",
    "       xcurrent = xcurrent - f1(xcurrent)\n",
    "end"
   ]
  },
  {
   "cell_type": "markdown",
   "metadata": {},
   "source": [
    "That didn't work out well at all. The reason for failure is that $f'(x)$ is not Lipschitz continuous, because of the exponential term present. However, we can now try backtracking as discussed in the lecture."
   ]
  },
  {
   "cell_type": "code",
   "execution_count": 14,
   "metadata": {},
   "outputs": [
    {
     "name": "stdout",
     "output_type": "stream",
     "text": [
      "n=1 x=1 f(x)=4.718281828459045 f'(x)=8.718281828550825  t found through backtracking is 0.0625\n",
      "n=2 x=0.4551073857155734 f(x)=1.8263652094936382 f'(x)=2.863609763413101  t found through backtracking is 0.125\n",
      "n=3 x=0.09715616528893578 f(x)=1.1115608806254647 f'(x)=1.3000131427169808  t found through backtracking is 0.25\n",
      "n=4 x=-0.2278471203903094 f(x)=0.8508553861865966 f'(x)=0.2932376350951671  t found through backtracking is 0.25\n",
      "n=5 x=-0.3011565291641012 f(x)=0.8388828224057941 f'(x)=0.028395006778761257  t found through backtracking is 0.25\n",
      "n=6 x=-0.3082552808587915 f(x)=0.8387781012255981 f'(x)=0.0010538778880871999  t found through backtracking is 0.25\n",
      "n=7 x=-0.30851875033081333 f(x)=0.8387779580744961 f'(x)=3.2706668282588916e-5  t found through backtracking is 0.25\n",
      "n=8 x=-0.308526926997884 f(x)=0.8387779579366601 f'(x)=1.0076511666152835e-6  t found through backtracking is 0.25\n",
      "n=9 x=-0.3085271789106756 f(x)=0.8387779579365292 f'(x)=3.103074234891498e-8  t found through backtracking is 0.25\n",
      "n=10 x=-0.3085271866683612 f(x)=0.838777957936529 f'(x)=9.533817442502682e-10  t found through backtracking is 1\n"
     ]
    }
   ],
   "source": [
    "xcurrent = 1\n",
    "for n in 1:10  \n",
    "    print(\"n=\",n,\" x=\",xcurrent,\" f(x)=\",f(xcurrent),\" f'(x)=\",f1(xcurrent))  \n",
    "    t = 1\n",
    "    while f(xcurrent-t*f1(xcurrent))>f(xcurrent)- 1/2*t*(f1(xcurrent))^2\n",
    "        t = t/2\n",
    "    end\n",
    "       println(\"  t found through backtracking is \",t)\n",
    "       xcurrent = xcurrent - t*f1(xcurrent)\n",
    "end"
   ]
  },
  {
   "cell_type": "markdown",
   "metadata": {},
   "source": [
    "That worked great! Finally, we solve this using a solver."
   ]
  },
  {
   "cell_type": "code",
   "execution_count": 19,
   "metadata": {},
   "outputs": [
    {
     "name": "stderr",
     "output_type": "stream",
     "text": [
      "\u001b[32m\u001b[1m   Resolving\u001b[22m\u001b[39m package versions...\n",
      "\u001b[32m\u001b[1m   Installed\u001b[22m\u001b[39m JuMP ─ v1.20.0\n",
      "\u001b[32m\u001b[1m    Updating\u001b[22m\u001b[39m `C:\\Users\\ylucet\\.julia\\environments\\v1.10\\Project.toml`\n",
      "  \u001b[90m[4076af6c] \u001b[39m\u001b[92m+ JuMP v1.20.0\u001b[39m\n",
      "\u001b[32m\u001b[1m    Updating\u001b[22m\u001b[39m `C:\\Users\\ylucet\\.julia\\environments\\v1.10\\Manifest.toml`\n",
      "  \u001b[90m[4076af6c] \u001b[39m\u001b[92m+ JuMP v1.20.0\u001b[39m\n",
      "\u001b[32m\u001b[1mPrecompiling\u001b[22m\u001b[39m project...\n",
      "\u001b[32m  ✓ \u001b[39mJuMP\n",
      "  1 dependency successfully precompiled in 21 seconds. 166 already precompiled.\n",
      "\u001b[32m\u001b[1m   Resolving\u001b[22m\u001b[39m package versions...\n",
      "\u001b[32m\u001b[1m   Installed\u001b[22m\u001b[39m MUMPS_seq_jll ── v500.600.201+0\n",
      "\u001b[32m\u001b[1m   Installed\u001b[22m\u001b[39m Hwloc_jll ────── v2.10.0+0\n",
      "\u001b[32m\u001b[1m   Installed\u001b[22m\u001b[39m ASL_jll ──────── v0.1.3+0\n",
      "\u001b[32m\u001b[1m   Installed\u001b[22m\u001b[39m Ipopt_jll ────── v300.1400.1400+0\n",
      "\u001b[32m\u001b[1m   Installed\u001b[22m\u001b[39m OpenBLAS32_jll ─ v0.3.24+0\n",
      "\u001b[32m\u001b[1m   Installed\u001b[22m\u001b[39m SPRAL_jll ────── v2024.1.18+0\n",
      "\u001b[32m\u001b[1m   Installed\u001b[22m\u001b[39m METIS_jll ────── v5.1.2+0\n",
      "\u001b[32m\u001b[1m   Installed\u001b[22m\u001b[39m Ipopt ────────── v1.6.2\n",
      "\u001b[32m\u001b[1m    Updating\u001b[22m\u001b[39m `C:\\Users\\ylucet\\.julia\\environments\\v1.10\\Project.toml`\n",
      "  \u001b[90m[b6b21f68] \u001b[39m\u001b[92m+ Ipopt v1.6.2\u001b[39m\n",
      "\u001b[32m\u001b[1m    Updating\u001b[22m\u001b[39m `C:\\Users\\ylucet\\.julia\\environments\\v1.10\\Manifest.toml`\n",
      "  \u001b[90m[b6b21f68] \u001b[39m\u001b[92m+ Ipopt v1.6.2\u001b[39m\n",
      "  \u001b[90m[ae81ac8f] \u001b[39m\u001b[92m+ ASL_jll v0.1.3+0\u001b[39m\n",
      "  \u001b[90m[e33a78d0] \u001b[39m\u001b[92m+ Hwloc_jll v2.10.0+0\u001b[39m\n",
      "  \u001b[90m[9cc047cb] \u001b[39m\u001b[92m+ Ipopt_jll v300.1400.1400+0\u001b[39m\n",
      "  \u001b[90m[d00139f3] \u001b[39m\u001b[92m+ METIS_jll v5.1.2+0\u001b[39m\n",
      "  \u001b[90m[d7ed1dd3] \u001b[39m\u001b[92m+ MUMPS_seq_jll v500.600.201+0\u001b[39m\n",
      "\u001b[33m⌅\u001b[39m \u001b[90m[656ef2d0] \u001b[39m\u001b[92m+ OpenBLAS32_jll v0.3.24+0\u001b[39m\n",
      "  \u001b[90m[319450e9] \u001b[39m\u001b[92m+ SPRAL_jll v2024.1.18+0\u001b[39m\n",
      "\u001b[36m\u001b[1m        Info\u001b[22m\u001b[39m Packages marked with \u001b[33m⌅\u001b[39m have new versions available but compatibility constraints restrict them from upgrading. To see why use `status --outdated -m`\n",
      "\u001b[32m\u001b[1mPrecompiling\u001b[22m\u001b[39m project...\n",
      "\u001b[32m  ✓ \u001b[39m\u001b[90mOpenBLAS32_jll\u001b[39m\n",
      "\u001b[32m  ✓ \u001b[39m\u001b[90mASL_jll\u001b[39m\n",
      "\u001b[32m  ✓ \u001b[39m\u001b[90mHwloc_jll\u001b[39m\n",
      "\u001b[32m  ✓ \u001b[39m\u001b[90mMETIS_jll\u001b[39m\n",
      "\u001b[32m  ✓ \u001b[39m\u001b[90mSPRAL_jll\u001b[39m\n",
      "\u001b[32m  ✓ \u001b[39m\u001b[90mMUMPS_seq_jll\u001b[39m\n",
      "\u001b[32m  ✓ \u001b[39m\u001b[90mIpopt_jll\u001b[39m\n",
      "\u001b[32m  ✓ \u001b[39mIpopt\n",
      "  8 dependencies successfully precompiled in 22 seconds. 167 already precompiled.\n"
     ]
    }
   ],
   "source": [
    "Pkg.add(\"JuMP\"); Pkg.add(\"Ipopt\");"
   ]
  },
  {
   "cell_type": "code",
   "execution_count": 15,
   "metadata": {},
   "outputs": [],
   "source": [
    "using JuMP; using Ipopt;"
   ]
  },
  {
   "cell_type": "code",
   "execution_count": 19,
   "metadata": {},
   "outputs": [
    {
     "name": "stdout",
     "output_type": "stream",
     "text": [
      "\n",
      "******************************************************************************\n",
      "This program contains Ipopt, a library for large-scale nonlinear optimization.\n",
      " Ipopt is released as open source code under the Eclipse Public License (EPL).\n",
      "         For more information visit https://github.com/coin-or/Ipopt\n",
      "******************************************************************************\n",
      "\n",
      "This is Ipopt version 3.14.14, running with linear solver MUMPS 5.6.2.\n",
      "\n",
      "Number of nonzeros in equality constraint Jacobian...:        0\n",
      "Number of nonzeros in inequality constraint Jacobian.:        0\n",
      "Number of nonzeros in Lagrangian Hessian.............:        1\n",
      "\n",
      "Total number of variables............................:        1\n",
      "                     variables with only lower bounds:        0\n",
      "                variables with lower and upper bounds:        0\n",
      "                     variables with only upper bounds:        0\n",
      "Total number of equality constraints.................:        0\n",
      "Total number of inequality constraints...............:        0\n",
      "        inequality constraints with only lower bounds:        0\n",
      "   inequality constraints with lower and upper bounds:        0\n",
      "        inequality constraints with only upper bounds:        0\n",
      "\n",
      "iter    objective    inf_pr   inf_du lg(mu)  ||d||  lg(rg) alpha_du alpha_pr  ls\n",
      "   0  1.0000000e+00 0.00e+00 1.00e+00  -1.0 0.00e+00    -  0.00e+00 0.00e+00   0\n",
      "   1  8.3998810e-01 0.00e+00 9.83e-02  -1.7 3.33e-01    -  1.00e+00 1.00e+00f  1\n",
      "   2  8.3877852e-01 0.00e+00 2.09e-03  -2.5 2.43e-02    -  1.00e+00 1.00e+00f  1\n",
      "   3  8.3877796e-01 0.00e+00 9.65e-07  -3.8 5.38e-04    -  1.00e+00 1.00e+00f  1\n",
      "   4  8.3877796e-01 0.00e+00 2.07e-13  -8.6 2.49e-07    -  1.00e+00 1.00e+00f  1\n",
      "\n",
      "Number of Iterations....: 4\n",
      "\n",
      "                                   (scaled)                 (unscaled)\n",
      "Objective...............:   8.3877795793652898e-01    8.3877795793652898e-01\n",
      "Dual infeasibility......:   2.0650148258027912e-13    2.0650148258027912e-13\n",
      "Constraint violation....:   0.0000000000000000e+00    0.0000000000000000e+00\n",
      "Variable bound violation:   0.0000000000000000e+00    0.0000000000000000e+00\n",
      "Complementarity.........:   0.0000000000000000e+00    0.0000000000000000e+00\n",
      "Overall NLP error.......:   2.0650148258027912e-13    2.0650148258027912e-13\n",
      "\n",
      "\n",
      "Number of objective function evaluations             = 5\n",
      "Number of objective gradient evaluations             = 5\n",
      "Number of equality constraint evaluations            = 0\n",
      "Number of inequality constraint evaluations          = 0\n",
      "Number of equality constraint Jacobian evaluations   = 0\n",
      "Number of inequality constraint Jacobian evaluations = 0\n",
      "Number of Lagrangian Hessian evaluations             = 4\n",
      "Total seconds in IPOPT                               = 0.012\n",
      "\n",
      "EXIT: Optimal Solution Found.\n"
     ]
    }
   ],
   "source": [
    "m = Model(Ipopt.Optimizer)\n",
    "@variable(m, x);\n",
    "@NLobjective(m,Min,exp(x)+x^4+x^2);\n",
    "optimize!(m);"
   ]
  },
  {
   "cell_type": "code",
   "execution_count": 20,
   "metadata": {},
   "outputs": [
    {
     "name": "stdout",
     "output_type": "stream",
     "text": [
      "x = -0.30852718692359216 f(x)=0.838777957936529\n"
     ]
    }
   ],
   "source": [
    "optimal_x = value(x)\n",
    "println(\"x = \", optimal_x,\" f(x)=\",f(optimal_x))\n"
   ]
  },
  {
   "cell_type": "code",
   "execution_count": null,
   "metadata": {},
   "outputs": [],
   "source": []
  }
 ],
 "metadata": {
  "kernelspec": {
   "display_name": "Julia 1.10.2",
   "language": "julia",
   "name": "julia-1.10"
  },
  "language_info": {
   "file_extension": ".jl",
   "mimetype": "application/julia",
   "name": "julia",
   "version": "1.10.2"
  }
 },
 "nbformat": 4,
 "nbformat_minor": 2
}
