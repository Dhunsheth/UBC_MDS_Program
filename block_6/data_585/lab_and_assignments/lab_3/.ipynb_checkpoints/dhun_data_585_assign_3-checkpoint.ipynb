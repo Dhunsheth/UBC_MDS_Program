{
 "cells": [
  {
   "cell_type": "markdown",
   "id": "311d8a64-39da-4a2f-a4c1-579fde36dc83",
   "metadata": {},
   "source": [
    "# Data-585 Assignment 3\n",
    "\n",
    "By: Dhun Sheth (32376881)\n",
    "\n",
    "## Part I"
   ]
  },
  {
   "cell_type": "code",
   "execution_count": 1,
   "id": "bf23f6b9-9ca7-4c4e-8496-5911d6ff64fd",
   "metadata": {},
   "outputs": [
    {
     "name": "stderr",
     "output_type": "stream",
     "text": [
      "/usr/lib/python3/dist-packages/scipy/__init__.py:146: UserWarning: A NumPy version >=1.17.3 and <1.25.0 is required for this version of SciPy (detected version 1.25.2\n",
      "  warnings.warn(f\"A NumPy version >={np_minversion} and <{np_maxversion}\"\n"
     ]
    }
   ],
   "source": [
    "import cvxpy as cp\n",
    "from scipy.optimize import linprog"
   ]
  },
  {
   "cell_type": "code",
   "execution_count": 2,
   "id": "1d88ccbd-1640-4d13-a8a8-0f5d64d07347",
   "metadata": {},
   "outputs": [
    {
     "name": "stdout",
     "output_type": "stream",
     "text": [
      "Status: optimal\n",
      "Optimal value of x1: 1.0000000091631853\n",
      "Optimal value of x2: 4.999999988815516\n",
      "Objective Function Value:  16.99999998477292\n"
     ]
    },
    {
     "name": "stderr",
     "output_type": "stream",
     "text": [
      "/home/dhun97/.local/lib/python3.10/site-packages/cvxpy/reductions/solvers/solving_chain.py:336: FutureWarning: \n",
      "    Your problem is being solved with the ECOS solver by default. Starting in \n",
      "    CVXPY 1.5.0, Clarabel will be used as the default solver instead. To continue \n",
      "    using ECOS, specify the ECOS solver explicitly using the ``solver=cp.ECOS`` \n",
      "    argument to the ``problem.solve`` method.\n",
      "    \n",
      "  warnings.warn(ECOS_DEPRECATION_MSG, FutureWarning)\n"
     ]
    }
   ],
   "source": [
    "x1 = cp.Variable()\n",
    "x2 = cp.Variable()\n",
    "\n",
    "\n",
    "# Define the constraints\n",
    "constraints = [\n",
    "    2*x1 + x2 <= 10,\n",
    "    x1 + x2 <= 6,\n",
    "    -x1 + x2 <= 4,\n",
    "    x2 >= 0\n",
    "]\n",
    "\n",
    "# Define the objective\n",
    "objective = cp.Maximize(2*x1 + 3*x2)\n",
    "\n",
    "# Define the problem\n",
    "problem = cp.Problem(objective, constraints)\n",
    "\n",
    "# Solve the problem\n",
    "problem.solve()\n",
    "\n",
    "print(\"Status:\", problem.status)\n",
    "print(\"Optimal value of x1:\", x1.value)\n",
    "print(\"Optimal value of x2:\", x2.value)\n",
    "print(\"Objective Function Value: \", problem.value)"
   ]
  },
  {
   "cell_type": "markdown",
   "id": "e889fcd2-7f33-4312-ab47-cdd6d0be4bf7",
   "metadata": {},
   "source": [
    "## Part II\n",
    "\n",
    "**Problem Formulation**    \n",
    "\n",
    "let:\n",
    "- m{i} be the number of i'th meals chosen. Ex: m1 = Snowblast Mini\n",
    "\n",
    "Then: \n",
    "\n",
    "$\\text{Min }$     \n",
    "$m1*2.89 + m2*4.69 + m3*2.19 + m4*2.69 + m5*2.19 + m6*2.19$     \n",
    "\n",
    "$\\text{subject to:}$    \n",
    "$500 <= m1*360 + m2*1020 + m3*380 + m4*490 + m5*25 + m6*380 <= 800$     \n",
    "$m1*180 + m2*540 + m3*790 + m4*1030 + m5*15 + m6*930 <= 1200$     \n",
    "$m1*43 + m2*118 + m3*0 + m4*0 + m5*3 + m6*8 <= 40$    \n",
    "$m1,m2,m3,m4,m5,m6 >= 0$     "
   ]
  },
  {
   "cell_type": "code",
   "execution_count": 21,
   "id": "4f844572-565e-46be-bc7f-3d2da955baef",
   "metadata": {},
   "outputs": [
    {
     "name": "stdout",
     "output_type": "stream",
     "text": [
      "Status: optimal\n",
      "Optimal value of m1: 0.0\n",
      "Optimal value of m2: 0.3389830508474576\n",
      "Optimal value of m3: 0.0\n",
      "Optimal value of m4: 0.3147699757869249\n",
      "Optimal value of m5: 0.0\n",
      "Optimal value of m6: 0.0\n",
      "Objective Function Value:  2.436561743341404\n"
     ]
    }
   ],
   "source": [
    "m1 = cp.Variable()\n",
    "m2 = cp.Variable()\n",
    "m3 = cp.Variable()\n",
    "m4 = cp.Variable()\n",
    "m5 = cp.Variable()\n",
    "m6 = cp.Variable()\n",
    "\n",
    "\n",
    "# Define the constraints\n",
    "constraints = [\n",
    "    m1*360 + m2*1020 + m3*380 + m4*490 + m5*25 + m6*380 >= 500,\n",
    "    m1*360 + m2*1020 + m3*380 + m4*490 + m5*25 + m6*380 <= 800,\n",
    "    m1*180 + m2*540 + m3*790 + m4*1030 + m5*15 + m6*930 <= 1200,\n",
    "    m1*43 + m2*118 + m3*0 + m4*0 + m5*3 + m6*8 <= 40,\n",
    "    m1 >= 0, m2 >= 0, m3 >= 0, m4 >= 0, m5 >= 0, m6 >= 0\n",
    "]\n",
    "\n",
    "# Define the objective\n",
    "objective = cp.Minimize(m1*2.89 + m2*4.69 + m3*2.19 + m4*2.69 + m5*2.19 + m6*2.19)\n",
    "\n",
    "# Define the problem\n",
    "problem = cp.Problem(objective, constraints)\n",
    "\n",
    "solver = cp.GUROBI\n",
    "\n",
    "# Solve the problem\n",
    "problem.solve(solver=solver)\n",
    "\n",
    "print(\"Status:\", problem.status)\n",
    "print(\"Optimal value of m1:\", m1.value)\n",
    "print(\"Optimal value of m2:\", m2.value)\n",
    "print(\"Optimal value of m3:\", m3.value)\n",
    "print(\"Optimal value of m4:\", m4.value)\n",
    "print(\"Optimal value of m5:\", m5.value)\n",
    "print(\"Optimal value of m6:\", m6.value)\n",
    "print(\"Objective Function Value: \", problem.value)"
   ]
  },
  {
   "cell_type": "markdown",
   "id": "92781795-ff69-43ea-ad9d-9668a0cfecec",
   "metadata": {},
   "source": [
    "## Part III"
   ]
  },
  {
   "cell_type": "code",
   "execution_count": 20,
   "id": "6c67017a-9974-429d-ba9c-270ab87f7487",
   "metadata": {},
   "outputs": [
    {
     "name": "stdout",
     "output_type": "stream",
     "text": [
      "Status: optimal\n",
      "Optimal value of m1: 0.0\n",
      "Optimal value of m2: 0.0\n",
      "Optimal value of m3: -0.0\n",
      "Optimal value of m4: 1.0\n",
      "Optimal value of m5: 1.0\n",
      "Optimal value of m6: -0.0\n",
      "Objective Function Value:  4.88\n"
     ]
    }
   ],
   "source": [
    "m1 = cp.Variable(integer=True)\n",
    "m2 = cp.Variable(integer=True)\n",
    "m3 = cp.Variable(integer=True)\n",
    "m4 = cp.Variable(integer=True)\n",
    "m5 = cp.Variable(integer=True)\n",
    "m6 = cp.Variable(integer=True)\n",
    "\n",
    "\n",
    "# Define the constraints\n",
    "constraints = [\n",
    "    m1*360 + m2*1020 + m3*380 + m4*490 + m5*25 + m6*380 >= 500,\n",
    "    m1*360 + m2*1020 + m3*380 + m4*490 + m5*25 + m6*380 <= 800,\n",
    "    m1*180 + m2*540 + m3*790 + m4*1030 + m5*15 + m6*930 <= 1200,\n",
    "    m1*43 + m2*118 + m3*0 + m4*0 + m5*3 + m6*8 <= 40,\n",
    "    m1 >= 0, m2 >= 0, m3 >= 0, m4 >= 0, m5 >= 0, m6 >= 0\n",
    "]\n",
    "\n",
    "# Define the objective\n",
    "objective = cp.Minimize(m1*2.89 + m2*4.69 + m3*2.19 + m4*2.69 + m5*2.19 + m6*2.19)\n",
    "\n",
    "# Define the problem\n",
    "problem = cp.Problem(objective, constraints)\n",
    "\n",
    "solver = cp.GUROBI\n",
    "\n",
    "# Solve the problem\n",
    "problem.solve(solver=solver)\n",
    "\n",
    "print(\"Status:\", problem.status)\n",
    "print(\"Optimal value of m1:\", m1.value)\n",
    "print(\"Optimal value of m2:\", m2.value)\n",
    "print(\"Optimal value of m3:\", m3.value)\n",
    "print(\"Optimal value of m4:\", m4.value)\n",
    "print(\"Optimal value of m5:\", m5.value)\n",
    "print(\"Optimal value of m6:\", m6.value)\n",
    "print(\"Objective Function Value: \", problem.value)"
   ]
  },
  {
   "cell_type": "markdown",
   "id": "a63c54c1-9d98-4012-a013-9d0aef63cd2f",
   "metadata": {},
   "source": [
    "## Part IV"
   ]
  },
  {
   "cell_type": "markdown",
   "id": "201857ca-73b7-463d-8e41-c773b77736a9",
   "metadata": {},
   "source": [
    "### Possibility 2"
   ]
  },
  {
   "cell_type": "code",
   "execution_count": 3,
   "id": "3b60a720-bb3e-45e7-a648-407611555c22",
   "metadata": {},
   "outputs": [
    {
     "name": "stdout",
     "output_type": "stream",
     "text": [
      "Status: Optimization terminated successfully.\n",
      "Optimal value: -0.0\n",
      "x = [-0.]\n"
     ]
    }
   ],
   "source": [
    "c = [-1]  # we use -1 because linprog by default minimizes\n",
    "\n",
    "# Since we have the constraint x = 0\n",
    "A_eq = [[1]] \n",
    "b_eq = [0]   \n",
    "\n",
    "x_bounds = (0, None) \n",
    "\n",
    "result = linprog(c, A_eq=A_eq, b_eq=b_eq, bounds=[x_bounds], method='highs')\n",
    "\n",
    "# Output the results\n",
    "print(\"Status:\", result.message)\n",
    "print(\"Optimal value:\", -result.fun) \n",
    "print(\"x =\", result.x)"
   ]
  },
  {
   "cell_type": "markdown",
   "id": "260c95ab-1e60-47bf-b302-a0f656287d74",
   "metadata": {},
   "source": [
    "### Possibility 3"
   ]
  },
  {
   "cell_type": "code",
   "execution_count": 13,
   "id": "3556ed3c-e7ab-4e0b-95bc-c56e8f8e3502",
   "metadata": {},
   "outputs": [
    {
     "name": "stdout",
     "output_type": "stream",
     "text": [
      "Optimization failed\n",
      "Status: The problem is (trivially) infeasible because a singleton row in the equality constraints is inconsistent with the bounds.\n"
     ]
    }
   ],
   "source": [
    "c_primal = [-1]  # Objective function coefficients for primal problem\n",
    "A_eq_primal = [[1]]  \n",
    "b_eq_primal = [-1]  \n",
    "bounds_primal = (0, None)  \n",
    "\n",
    "# Solve primal problem\n",
    "primal_result = linprog(c_primal, A_eq=A_eq_primal, b_eq=b_eq_primal, bounds=[bounds_primal])\n",
    "\n",
    "if primal_result.success:\n",
    "    print(\"Status: Optimization succeeded\")\n",
    "    print(\"Optimal value:\", -primal_result.fun)\n",
    "    print(\"x =\", primal_result.x)\n",
    "else:\n",
    "    print(\"Optimization failed\")\n",
    "    print(\"Status:\", primal_result.message)"
   ]
  },
  {
   "cell_type": "markdown",
   "id": "c0ac6f17-3615-4777-8b53-b824030e7f8f",
   "metadata": {},
   "source": [
    "The above error status makes sense because the primal problem is infeasible due the the conflicting constraints."
   ]
  },
  {
   "cell_type": "markdown",
   "id": "98096341-e95d-49ba-9ccb-7e0b29630192",
   "metadata": {},
   "source": [
    "### Possibility 4"
   ]
  },
  {
   "cell_type": "code",
   "execution_count": 12,
   "id": "662adb67-e0f3-4c99-9248-b4af26c0d9e4",
   "metadata": {},
   "outputs": [
    {
     "name": "stdout",
     "output_type": "stream",
     "text": [
      "Optimization failed\n",
      "Reason: The problem is (trivially) infeasible because a singleton row in the equality constraints is inconsistent with the bounds.\n"
     ]
    }
   ],
   "source": [
    "c = [-1, 0, 0]  \n",
    "\n",
    "# Coefficients for the constraints\n",
    "A_eq = [[1, -1, 0], [0,0,1]]  \n",
    "b_eq = [1, -1]           \n",
    "\n",
    "bounds = [(0, None), (0, None), (0, None)]\n",
    "\n",
    "# Solve the problem\n",
    "result = linprog(c, A_eq=A_eq, b_eq=b_eq, bounds=bounds)\n",
    "\n",
    "# Output the results\n",
    "if result.success:\n",
    "    print(\"Optimization succeeded\")\n",
    "    print(\"Optimal value:\", -result.fun)\n",
    "    print(\"x1, x2, x3 =\", result.x)\n",
    "else:\n",
    "    print(\"Optimization failed\")\n",
    "    print(\"Reason:\", result.message)"
   ]
  },
  {
   "cell_type": "markdown",
   "id": "4020655b-c739-4da2-aa38-09cfa807ec90",
   "metadata": {},
   "source": [
    "The above error status makes sense because the problem is infeasible due the the conflicting constraint for x3."
   ]
  }
 ],
 "metadata": {
  "kernelspec": {
   "display_name": "Python 3 (ipykernel)",
   "language": "python",
   "name": "python3"
  },
  "language_info": {
   "codemirror_mode": {
    "name": "ipython",
    "version": 3
   },
   "file_extension": ".py",
   "mimetype": "text/x-python",
   "name": "python",
   "nbconvert_exporter": "python",
   "pygments_lexer": "ipython3",
   "version": "3.10.12"
  }
 },
 "nbformat": 4,
 "nbformat_minor": 5
}
