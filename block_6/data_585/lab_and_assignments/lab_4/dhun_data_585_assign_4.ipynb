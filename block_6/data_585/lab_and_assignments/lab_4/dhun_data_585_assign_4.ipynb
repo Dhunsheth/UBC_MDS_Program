{
 "cells": [
  {
   "cell_type": "markdown",
   "id": "37c7da0e-57e5-44ac-80a5-82d7b8ea431e",
   "metadata": {},
   "source": [
    "# DATA-585 Assignment 4\n",
    "\n",
    "By: Dhun Sheth"
   ]
  },
  {
   "cell_type": "code",
   "execution_count": 1,
   "id": "5aeeb9ba-d2e3-4bde-84ef-cd4c61429c96",
   "metadata": {},
   "outputs": [
    {
     "name": "stderr",
     "output_type": "stream",
     "text": [
      "/usr/lib/python3/dist-packages/scipy/__init__.py:146: UserWarning: A NumPy version >=1.17.3 and <1.25.0 is required for this version of SciPy (detected version 1.25.2\n",
      "  warnings.warn(f\"A NumPy version >={np_minversion} and <{np_maxversion}\"\n"
     ]
    }
   ],
   "source": [
    "import cvxpy as cp\n",
    "import numpy as np\n",
    "import matplotlib.pyplot as plt"
   ]
  },
  {
   "cell_type": "markdown",
   "id": "6dc38593-c6ad-4f6c-94e2-ba507f01f091",
   "metadata": {},
   "source": [
    "# 1. Classifing the Lasso Optimization Problem\n",
    "\n",
    "The problem can be re-written as:\n",
    "$\\text{min} \\ \\sum{(y_i - x_i^T\\beta)^2} + \\lambda||\\beta||$    \n",
    "\n",
    "Where the first part is the residual sum of squares and the second part is the sum of absolute value of the coefficients. The second part is a simple sum and therefore is convex. The residual sum of squares is also a convex function, and therefore the objective function of the Lasso problem is a convex function. In addition, although there are no explicit constraints, the $\\lambda$, ie. the penalty term imposes restrictions on the coefficients forcing them towards 0, because the sum of absolute values of the coefficients should be less than the penalty term. \n",
    "\n",
    "As a result, the Lasso optimization problem can be classified as a **constrained convex optimization problem.**"
   ]
  },
  {
   "cell_type": "markdown",
   "id": "b99f292e-8416-4660-b2d0-5d9017a013a1",
   "metadata": {},
   "source": [
    "Re-formulating the optimization problem: \n",
    "\n",
    "To handle the absolute value, introduce auxiliary variables s.t $\\beta_i = u_i - v_i$ for all coefficients. \n",
    "\n",
    "Then problem becomes:\n",
    "\n",
    "$\\text{min} \\ \\sum{(y_i - x_i^T(u-v))^2} + \\lambda\\sum{(u_j-v_j)}$   \n",
    "\n",
    "subject to: $\\text{for all j} \\in [0,...,p] \\ u_j>=0 \\ and \\ v_j>=0$ \n",
    "\n",
    "hence, if there are p coefficients in the model, 2p additional constraints are needed to reformulate the problem. \n",
    "\n",
    "**Note:** Because we can use any solver of our choice, I am using the CVXPY solver which can handle the absolute value via the cp.norm call and so I do not need to explicitly define all additional constraints, however, I have shown the reformulation above if I needed to use a solver which could not handle this."
   ]
  },
  {
   "cell_type": "code",
   "execution_count": 2,
   "id": "4636741d-a618-4b75-9366-84a6bb2cd807",
   "metadata": {},
   "outputs": [],
   "source": [
    "def solve_lasso(x, y, lam):\n",
    "    p = x.shape[1]\n",
    "    \n",
    "    beta = cp.Variable(p)\n",
    "    \n",
    "    loss = cp.sum_squares(x @ beta - y)\n",
    "    regularization = lam * cp.norm(beta, 1)\n",
    "    objective = cp.Minimize(loss + regularization)\n",
    "    \n",
    "    problem = cp.Problem(objective)\n",
    "    \n",
    "    problem.solve()\n",
    "    \n",
    "    beta_opt = beta.value\n",
    "    \n",
    "    print(\"Status:\", problem.status)\n",
    "    print(\"Objective Function Value: \", problem.value)\n",
    "    print(\"Optimal coefficients:\", beta_opt)\n",
    "\n",
    "    return [problem.status, problem.value, beta.value]"
   ]
  },
  {
   "cell_type": "markdown",
   "id": "7c62a7a2-5ecf-42e6-b137-cc78ef560506",
   "metadata": {},
   "source": [
    "# 2. Unit Tests"
   ]
  },
  {
   "cell_type": "code",
   "execution_count": 8,
   "id": "5f7e84aa-8460-4c91-87a3-444d116177f9",
   "metadata": {},
   "outputs": [
    {
     "name": "stdout",
     "output_type": "stream",
     "text": [
      "1st Unit Case Soln:\n",
      "Status: optimal\n",
      "Objective Function Value:  30.0\n",
      "Optimal coefficients: [1.08730301e-35 1.08730301e-35]\n",
      "\n",
      "2nd Unit Case Soln:\n",
      "Status: optimal\n",
      "Objective Function Value:  4.914127644913172\n",
      "Optimal coefficients: [ 1.92000204e+00  1.08730301e-35 -4.29468305e-01]\n",
      "\n",
      "3rd Unit Case Soln:\n",
      "Status: optimal\n",
      "Objective Function Value:  90.13537009438649\n",
      "Optimal coefficients: [1.10556384]\n"
     ]
    }
   ],
   "source": [
    "# 1st unit case\n",
    "x1 = np.array([[0,0],[0,0], [0,0]]) # all zeros indicating does not predict y at all, would expect both coefficients to be practically 0.\n",
    "y1 = np.array([5,1,2])\n",
    "lam1 = 4\n",
    "\n",
    "print(\"1st Unit Case Soln:\")\n",
    "soln = solve_lasso(x1, y1, lam1)\n",
    "\n",
    "# 2nd unit case\n",
    "x2 = np.array([[1, 0, 5], [2, 0, 4], [3, 0, 3], [4, 0, 2]]) # 2nd feature is irrelevant, would expect 2nd coefficient to be practically 0.\n",
    "y2 = 2 * x2[:, 0] + np.random.normal(0, 0.1, 4) - 0.5 * x2[:, 2]\n",
    "lam2 = 2\n",
    "\n",
    "print(\"\\n2nd Unit Case Soln:\")\n",
    "soln = solve_lasso(x2, y2, lam2)\n",
    "\n",
    "# 3rd unit case\n",
    "x3 = np.array([[20], [5], [60], [1], [0]])\n",
    "y3 = np.array([25, 10, 65, 6, 5]) # just adding 5 to the x=value, would expect coefficient to be close to 1 and intercept to be 5.\n",
    "lam3 = 10\n",
    "\n",
    "print(\"\\n3rd Unit Case Soln:\")\n",
    "soln = solve_lasso(x3, y3, lam3)"
   ]
  },
  {
   "cell_type": "markdown",
   "id": "7469b893-291b-413c-9bb4-9952a2ece895",
   "metadata": {},
   "source": [
    "# 3. Randomly Generated Data\n",
    "\n",
    "In the below example, I randomly generate x which has 3 features and generate y from x only using its first feature plus some error term. I do this because when I use the Lasso solver from above to solve for the coefficients, I would expect the 2nd and 3rd feature coefficients to be 0 becuase y was only calculated using the first feature. I also plot the y against x (first feature) with the lasso prediction line. \n",
    "\n",
    "Setting a very large lambda, it forces irrelavent coefficients to 0 faster and from the below results, we do see in the optimal solution for the coefficients, feature 1 is the only non-zero feature whereas features 2 and 3 are practically 0, as hypothesized."
   ]
  },
  {
   "cell_type": "code",
   "execution_count": 4,
   "id": "657459f2-0076-4904-81ea-d1bdfbd2db6e",
   "metadata": {},
   "outputs": [
    {
     "name": "stdout",
     "output_type": "stream",
     "text": [
      "Random Data Solution:\n",
      "Status: optimal\n",
      "Objective Function Value:  4199.091203576702\n",
      "Optimal coefficients: [ 1.92677852e+01 -9.11583061e-22  1.29558778e-21]\n"
     ]
    },
    {
     "data": {
      "image/png": "[encoded data removed]",
      "text/plain": [
       "<Figure size 640x480 with 1 Axes>"
      ]
     },
     "metadata": {},
     "output_type": "display_data"
    }
   ],
   "source": [
    "np.random.seed(0)\n",
    "n = 100\n",
    "p = 3 # number of features for x\n",
    "rand_x = np.random.randn(n,p) # Random x with 3 features\n",
    "rand_y = 20 * rand_x[:,0] + np.random.normal(0, 5, 100)  # y generated from only the first feature of random x plus some error term.\n",
    "lam = 100\n",
    "\n",
    "print(\"Random Data Solution:\")\n",
    "soln = solve_lasso(rand_x, rand_y, lam)\n",
    "\n",
    "plt.scatter(rand_x[:,0], rand_y, color='blue', label='Data Points')\n",
    "plt.plot(rand_x[:,0], rand_x @ soln[2], color='red', label='LASSO Fit')\n",
    "plt.xlabel('X')\n",
    "plt.ylabel('y')\n",
    "plt.title('LASSO Regression Fit')\n",
    "plt.legend()\n",
    "plt.show()"
   ]
  }
 ],
 "metadata": {
  "kernelspec": {
   "display_name": "Python 3 (ipykernel)",
   "language": "python",
   "name": "python3"
  },
  "language_info": {
   "codemirror_mode": {
    "name": "ipython",
    "version": 3
   },
   "file_extension": ".py",
   "mimetype": "text/x-python",
   "name": "python",
   "nbconvert_exporter": "python",
   "pygments_lexer": "ipython3",
   "version": "3.10.12"
  }
 },
 "nbformat": 4,
 "nbformat_minor": 5
}
