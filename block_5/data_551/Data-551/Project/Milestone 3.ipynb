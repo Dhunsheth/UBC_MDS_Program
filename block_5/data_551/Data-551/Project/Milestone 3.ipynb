{
  "cells": [
    {
      "cell_type": "markdown",
      "id": "7cdc78ea",
      "metadata": {
        "id": "7cdc78ea"
      },
      "source": [
        "# Milestone 3 - User feedback\n",
        "\n",
        "In this milestone,\n",
        "you will test your app with users and reflect on the modifications that needs to be finalized for the forth milestone.\n",
        "\n",
        "\n",
        "In this milestone, you need to ask your peers (one or two other groups in the class) to provide feedback. This feedback will be used to improve your dashboard.\n",
        "\n",
        "A common framework used in HCI is the **System Usability Scale (SUS)** or NASA TLX. SUS is a simple template and you can modify the questions as needed.\n",
        "These are some ideas about the aspects of your dashboard to ask from users: ask about user experience, ease of navigation, usefulness of visualizations, clarity of presented data, and any additional features users might want based on your “audience” for whom you developed the dashboard initially.\n",
        "Provide an option for users to leave additional comments or suggestions.\n",
        "\n",
        "**Some detailed Usability Features to Ask:**\n",
        "-\tEase of Navigation: Ask users if they found it easy to navigate through different sections and features of the dashboard.\n",
        "-\tInteractivity: Inquire about the usefulness and intuitiveness of interactive elements like filters, tooltips, and drill-down options.\n",
        "-\tPerformance: Gather feedback on the loading speed and responsiveness of the dashboard, especially when handling large datasets.\n",
        "-\tVisual Appeal: Assess whether users find the visualizations visually appealing and if they aid in understanding the data effectively.\n",
        "-\tAccessibility: Check if users with disabilities find the dashboard accessible and if there are any improvements needed in terms of accessibility features.\n",
        "-\tExpectations: Ask which other features they might have expected to see, or have in a different format, which is currently missing.\n",
        "\n",
        "**Some other aspects to consider based on your audience:**\n",
        "-\tDemographic Information: Collect demographic data to understand your user base better. Include questions about users' roles, industries, experience level, etc.\n",
        "-\tUsage Patterns: Ask about how frequently users utilize the dashboard, which features they use most often, and what tasks they typically perform with it.\n",
        "-\tComparison to Alternatives: If users have used similar dashboards or tools before, inquire about how yours compares and what improvements could differentiate it.\n",
        "-\tFuture Expectations: Probe users for their expectations regarding future updates or features they would like to see implemented.\n",
        "\n",
        "**Analyzing and Acting on Feedback:**\n",
        "-\tOnce you've collected feedback, analyze it systematically to identify common themes, pain points, and areas for improvement.\n",
        "-\tPrioritize feedback based on its impact and feasibility of implementation.\n",
        "-\tCommunicate with your users about the changes made based on their feedback to demonstrate that their input is valued. (You don’t need this step).\n",
        "By implementing a structured feedback collection process, you can gather valuable insights to enhance the usability and effectiveness of your interactive data visualization dashboard.\n",
        "\n",
        "\n",
        "\n",
        "## 1. Submission instructions\n",
        "\n",
        "Submit your answers as a short report on Canvas. You don't have to include any code or plots for this milestone. This is just an analysis of the feedback you have received and how to incorporate it to your app.\n",
        "\n",
        "**What to deliver:**\n",
        "\n",
        "1. The list of questions you asked from the users and which aspects of your app you evaluated.\n",
        "rubric={Feedback questions:5, quality:5}\n",
        "\n",
        "2.\tList the received feedback.\n",
        "rubric={List of feedback:5}\n",
        "3.\tReflect on how you will improve your app based on user feedback.\n",
        "rubric={Plan the revisions:5, quality:5}\n",
        "\n"
      ]
    }
  ],
  "metadata": {
    "colab": {
      "provenance": []
    },
    "kernelspec": {
      "display_name": "Python 3 (ipykernel)",
      "language": "python",
      "name": "python3"
    },
    "language_info": {
      "codemirror_mode": {
        "name": "ipython",
        "version": 3
      },
      "file_extension": ".py",
      "mimetype": "text/x-python",
      "name": "python",
      "nbconvert_exporter": "python",
      "pygments_lexer": "ipython3",
      "version": "3.11.5"
    }
  },
  "nbformat": 4,
  "nbformat_minor": 5
}
