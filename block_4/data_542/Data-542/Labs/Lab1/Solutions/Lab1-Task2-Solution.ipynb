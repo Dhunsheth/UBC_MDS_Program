{
 "cells": [
  {
   "cell_type": "markdown",
   "id": "ae6a7b48-b71e-489d-b9d5-12ac751a3ac4",
   "metadata": {},
   "source": [
    "## Task 3: `numpy`\n",
    "\n",
    "In this section, we will practice using the `numpy` library.\n",
    "First, import the `numpy` library\n",
    "\n",
    "```\n",
    "import numpy as np\n",
    "```"
   ]
  },
  {
   "cell_type": "code",
   "execution_count": 1,
   "id": "826bf41e-7fbc-435e-aed0-96d2e8a56195",
   "metadata": {},
   "outputs": [],
   "source": [
    "#import numpy\n",
    "import numpy as np"
   ]
  },
  {
   "cell_type": "markdown",
   "id": "9d367c1e-b109-467f-85d2-ab288dfb41eb",
   "metadata": {},
   "source": [
    "### 3.1: Create a vector\n",
    "\n",
    "**Task: Create an empty vector of size 10 filled with NaN.**\n",
    "\n",
    "*Hint: you need to use [`zeros()` method](https://numpy.org/doc/stable/reference/generated/numpy.zeros.html) or the [`empty()` method](https://numpy.org/doc/stable/reference/generated/numpy.empty.html?highlight=empty#numpy.empty)*"
   ]
  },
  {
   "cell_type": "code",
   "execution_count": 10,
   "id": "b3ffdfa4-b82f-4316-a37b-03bff608be9a",
   "metadata": {},
   "outputs": [
    {
     "data": {
      "text/plain": [
       "array([nan, nan, nan, nan, nan, nan, nan, nan, nan, nan])"
      ]
     },
     "execution_count": 10,
     "metadata": {},
     "output_type": "execute_result"
    }
   ],
   "source": [
    "vec = np.zeros(10)\n",
    "vec[:] = np.nan\n",
    "vec"
   ]
  },
  {
   "cell_type": "markdown",
   "id": "cc17959b-d292-4e57-9873-0a1f8d921ba1",
   "metadata": {},
   "source": [
    "### 3.2: Working with Vectors\n",
    "\n",
    "**Task: Create a random vector of size 10 and then find its mean, max, min, and sum value.**\n",
    "\n",
    "*Hint: for random vector you need to use `np.random.random()` and for the mean, max, min, sum you need to use build-in numpy methods `mean()`,`max()`,`min()`,`sum()`*.\n",
    "\n",
    "#### Sample output (Your numbers will be different)\n",
    "\n",
    ">[0.66698639 0.32937943 0.12074085 0.21788496 0.75628444 0.56461791\n",
    " 0.38162184 0.60966053 0.00491222 0.80007239]<br/>\n",
    ">The max is: 0.800<br/>\n",
    ">The min is: 0.005<br/>\n",
    ">The sum is: 4.452<br/>\n",
    ">The mean is: 0.445<br/>"
   ]
  },
  {
   "cell_type": "code",
   "execution_count": 12,
   "id": "530022dd-30e1-46a4-9d91-2cd0ec7ee07f",
   "metadata": {},
   "outputs": [
    {
     "name": "stdout",
     "output_type": "stream",
     "text": [
      "[0.81754972 0.07051457 0.30129807 0.46526846 0.40634651 0.45304841\n",
      " 0.70856427 0.2995753  0.49609779 0.63031501]\n",
      "The max is: 0.8175497155348582\n",
      "The min is: 0.07051457222851698\n",
      "The sum is: 4.648578104244058\n",
      "The mean is: 0.4648578104244058\n"
     ]
    }
   ],
   "source": [
    "randoms = np.random.random(10)\n",
    "print(randoms)\n",
    "print(\"The max is: \" + str(np.max(randoms)))\n",
    "print(\"The min is: \" + str(np.min(randoms)))\n",
    "print(\"The sum is: \" + str(np.sum(randoms)))\n",
    "print(\"The mean is: \" + str(np.mean(randoms)))"
   ]
  },
  {
   "cell_type": "markdown",
   "id": "553352f9-afe2-4c0d-abe1-4a7b2c1092f4",
   "metadata": {},
   "source": [
    "### 3.4: More vectors\n",
    "\n",
    "**Task: This is a multi-step question. Read all the directions before you start working on the question and plan out your solution.**\n",
    "\n",
    "- **First, using `numpy`, create a vector of size 15 which contains random values ranging from 10 to 90**\n",
    "- **Then, replace the maximum value of your vector with 500.**\n",
    "- **Then, replace and the minimum value with -500.**\n",
    "- **Print the list (sorted by ascending order) and its mean before replacement, as well as the sorted list after replacement with the new mean.**\n",
    "\n",
    "*Hint: To do this problem as intended, you may need to use the following numpy functions: [`copy()`](https://numpy.org/doc/stable/reference/generated/numpy.copy.html), [`sort()`](https://numpy.org/doc/stable/reference/generated/numpy.sort.html), [`argmax()`](https://numpy.org/doc/stable/reference/generated/numpy.argmax.html), and [`argmin()`](https://numpy.org/doc/stable/reference/generated/numpy.argmin.html). Also, don't forget about `f-strings` and triple-quoted strings for printing.*\n",
    "\n",
    "\n",
    "#### Sample output\n",
    "\n",
    "> **Before number replacement**\n",
    "> \n",
    "> vector: [12 14 14 19 22 25 25 28 28 35 45 47 68 69 73]\n",
    "> \n",
    "> vector_mean = 34.93\n",
    "> \n",
    "> **After number replacement**\n",
    "> \n",
    "> vector: [-500   14   14   19   22   25   25   28   28   35   45   47   68   69\n",
    ">   500]\n",
    "> \n",
    "> new_vector_mean = 29.27"
   ]
  },
  {
   "cell_type": "code",
   "execution_count": 1,
   "id": "38d86ef1-63eb-4cc1-8f92-1bf2e6925111",
   "metadata": {},
   "outputs": [
    {
     "name": "stdout",
     "output_type": "stream",
     "text": [
      "**Before number replacement**\n",
      " vector: [16 25 26 27 31 32 34 38 46 64 69 83 84 87 89]\n",
      " vector_mean = 50.07\n",
      "\n",
      " **After number replacement**\n",
      "\n",
      " vector: [-500   25   26   27   31   32   34   38   46   64   69   83   84   87\n",
      "  500]\n",
      " new_vector_mean = 43.07\n",
      " \n"
     ]
    }
   ],
   "source": [
    "import numpy as np\n",
    "l = np.random.randint(10,90,15)\n",
    "l.sort()\n",
    "m = l.copy()\n",
    "m[m.argmax()] = 500\n",
    "m[m.argmin()] = -500\n",
    "m.sort()\n",
    "\n",
    "print(f\"\"\"**Before number replacement**\n",
    " vector: {l}\n",
    " vector_mean = {np.mean(l):.2f}\n",
    "\n",
    " **After number replacement**\n",
    "\n",
    " vector: {m}\n",
    " new_vector_mean = {np.mean(m):.2f}\n",
    " \"\"\")"
   ]
  },
  {
   "cell_type": "code",
   "execution_count": null,
   "id": "e094b2b2-77dc-4da8-82e7-267ed465f3c4",
   "metadata": {},
   "outputs": [],
   "source": []
  }
 ],
 "metadata": {
  "kernelspec": {
   "display_name": "Python 3",
   "language": "python",
   "name": "python3"
  },
  "language_info": {
   "codemirror_mode": {
    "name": "ipython",
    "version": 3
   },
   "file_extension": ".py",
   "mimetype": "text/x-python",
   "name": "python",
   "nbconvert_exporter": "python",
   "pygments_lexer": "ipython3",
   "version": "3.9.5"
  }
 },
 "nbformat": 4,
 "nbformat_minor": 5
}
