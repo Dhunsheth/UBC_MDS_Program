{
 "cells": [
  {
   "cell_type": "markdown",
   "metadata": {},
   "source": [
    "# Task 3: Introduction to Pandas\n",
    "\n",
    "In this lab you work on applying your new Pandas skills to work with data - finally!"
   ]
  },
  {
   "cell_type": "markdown",
   "metadata": {},
   "source": [
    "## Objectives\n",
    "\n",
    "In this lab you will:\n",
    "\n",
    "1. Practice working with data using the pandas package\n",
    "2. Practice some data wrangling mathematical operations."
   ]
  },
  {
   "cell_type": "code",
   "execution_count": 1,
   "metadata": {},
   "outputs": [],
   "source": [
    "# Usually all the import statements are at the top of the file\n",
    "\n",
    "import pandas as pd\n",
    "import seaborn as sns\n",
    "import numpy as np\n",
    "import os\n",
    "import matplotlib.pyplot as plt"
   ]
  },
  {
   "cell_type": "markdown",
   "metadata": {},
   "source": [
    "## Working with data using pandas\n",
    "\n",
    "In this part of the lab, we will practice loading in a sample data set using pandas, and doing some basic operations."
   ]
  },
  {
   "cell_type": "markdown",
   "metadata": {},
   "source": [
    "### 3.1: Load in the data\n",
    "\n",
    "There is a CSV file (`pokemon.csv`) inside a directory called `data`.\n",
    "\n",
    "Your task is to use the pandas [`read_csv()`](https://pandas.pydata.org/pandas-docs/stable/reference/api/pandas.read_csv.html) function to read this dataset, assign it to a dataframe called `df`, and then print its [`head`](https://pandas.pydata.org/pandas-docs/stable/reference/api/pandas.DataFrame.head.html) also known as the first 5 lines of the dataframe.\n",
    "\n",
    "*Hint: don't forget to first `import pandas as pd` to use `read_csv` and other pandas function.*"
   ]
  },
  {
   "cell_type": "code",
   "execution_count": 4,
   "metadata": {},
   "outputs": [],
   "source": [
    "### Your solution here"
   ]
  },
  {
   "cell_type": "markdown",
   "metadata": {},
   "source": [
    "### 3.2: How many total pokemon are there in the dataset?\n",
    "\n",
    "Make sure to use the `dataframe.count()` function to print the total number of entries in each column of the dataframe before you answer!"
   ]
  },
  {
   "cell_type": "code",
   "execution_count": null,
   "metadata": {},
   "outputs": [],
   "source": [
    "### Your solution here"
   ]
  },
  {
   "cell_type": "markdown",
   "metadata": {},
   "source": [
    "### 3.3: Create a new dataframe `df2` that only includes the Pokemon from the first generation. \n",
    "\n",
    "*Hint: Remember that you can subset dataframes using the `[]` syntax. [More on this here](https://pandas.pydata.org/docs/getting_started/intro_tutorials/03_subset_data.html)*"
   ]
  },
  {
   "cell_type": "code",
   "execution_count": null,
   "metadata": {},
   "outputs": [],
   "source": [
    "### Your solution here"
   ]
  },
  {
   "cell_type": "markdown",
   "metadata": {},
   "source": [
    "### 3.4: Print ONLY the mean HP, Attack, Defense, and Speed of all pokemon in the first generation using pandas functions "
   ]
  },
  {
   "cell_type": "code",
   "execution_count": null,
   "metadata": {},
   "outputs": [],
   "source": [
    "### Your solution here"
   ]
  },
  {
   "cell_type": "markdown",
   "metadata": {},
   "source": [
    "\n"
   ]
  }
 ],
 "metadata": {
  "kernelspec": {
   "display_name": "Python 3 (ipykernel)",
   "language": "python",
   "name": "python3"
  },
  "language_info": {
   "codemirror_mode": {
    "name": "ipython",
    "version": 3
   },
   "file_extension": ".py",
   "mimetype": "text/x-python",
   "name": "python",
   "nbconvert_exporter": "python",
   "pygments_lexer": "ipython3",
   "version": "3.9.7"
  }
 },
 "nbformat": 4,
 "nbformat_minor": 4
}
