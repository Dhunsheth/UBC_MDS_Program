{
 "cells": [
  {
   "cell_type": "markdown",
   "id": "b173a884-dfe1-4928-8c64-eb3cce5e4658",
   "metadata": {},
   "source": [
    "# Task 2: Mind the gap\n",
    "---"
   ]
  },
  {
   "cell_type": "markdown",
   "id": "6cd0a96d-12c6-4afd-b2d2-2d177d5e4b20",
   "metadata": {},
   "source": [
    "In this exercise, we'll practice some basic Pandas operations on the [Gapminder dataset](https://www.gapminder.org/about/). Gapminder is an educational foundation that aims to use data to unbiasedly describe trends in health and socioeconomics; it is a great source of geographical, socioeconomic, and health data - a subset of which we'll be exploring here. In particular, we'll be exploring a dataframe of the following features in this exercise:\n",
    "\n",
    "|     | country     | continent | year | lifeExp | pop      | gdpPercap  |\n",
    "|:---:|:-----------:|:---------:|:----:|:-------:|:--------:|:----------:|\n",
    "|  0  | Afghanistan | Asia      | 1952 | 28.801  | 8425333  | 779.445314 |\n",
    "|  1  | Afghanistan | Asia      | 1957 | 30.332  | 9240934  | 820.853030 |\n",
    "|  2  | Afghanistan | Asia      | 1962 | 31.997  | 10267083 | 853.100710 |\n",
    "|  3  | Afghanistan | Asia      | 1967 | 34.020  | 11537966 | 836.197138 |\n",
    "|  4  | Afghanistan | Asia      | 1972 | 36.088  | 13079460 | 739.981106 |\n",
    "| ... |     ...     |    ...    | ...  |   ...   |   ...    |    ...     |"
   ]
  },
  {
   "cell_type": "code",
   "execution_count": 2,
   "id": "45d90b50-8156-4792-9af8-b11773f6889b",
   "metadata": {},
   "outputs": [],
   "source": [
    "import pandas as pd"
   ]
  },
  {
   "cell_type": "markdown",
   "id": "6cb019d2-b572-434d-a854-969c937cf934",
   "metadata": {},
   "source": [
    "## 2.1"
   ]
  },
  {
   "cell_type": "markdown",
   "id": "35f3f1e6-4877-4a5e-90c9-a86807d3a09a",
   "metadata": {},
   "source": [
    "Read the gapminder dataset into a dataframe called `df` from this url: <https://raw.githubusercontent.com/jstaf/gapminder/master/gapminder/gapminder.csv>"
   ]
  },
  {
   "cell_type": "code",
   "execution_count": 1,
   "id": "f192b3c0-ddce-464e-8405-d9b60698133e",
   "metadata": {},
   "outputs": [],
   "source": [
    "# Your solution here"
   ]
  },
  {
   "cell_type": "markdown",
   "id": "0816e8a6-2bf3-4c60-b993-e0077b7deb0f",
   "metadata": {},
   "source": [
    "## 2.2"
   ]
  },
  {
   "cell_type": "markdown",
   "id": "e47dd937-fb42-4d21-9d3e-6894728c03f3",
   "metadata": {},
   "source": [
    "Which continent has the most observations in the gapminder dataset? You can leave your answer as the output of a dataframe operation (*hint*: `.value_counts()`)."
   ]
  },
  {
   "cell_type": "code",
   "execution_count": 2,
   "id": "0d740a88-4647-435b-8945-c83513ca30de",
   "metadata": {},
   "outputs": [],
   "source": [
    "# Your solution here"
   ]
  },
  {
   "cell_type": "markdown",
   "id": "9304a590-548a-4c76-a1bc-e2b1f099c69d",
   "metadata": {},
   "source": [
    "## 2.3"
   ]
  },
  {
   "cell_type": "markdown",
   "id": "9bcb0ed5-d18d-45c3-9b2c-d82c9c35b389",
   "metadata": {},
   "source": [
    "What are the minimum and maximum life expectancies in the dataset, and what are the corresponding countries and the years? (*hint*: `.argmin()`/`.argmax()`)"
   ]
  },
  {
   "cell_type": "code",
   "execution_count": 3,
   "id": "8fe61181-61f4-40d8-af5f-7a55322813eb",
   "metadata": {},
   "outputs": [],
   "source": [
    "# Your solution here"
   ]
  },
  {
   "cell_type": "markdown",
   "id": "d432b2d3-a419-4d2e-9f63-6c6b5be31ee8",
   "metadata": {},
   "source": [
    "## 2.4"
   ]
  },
  {
   "cell_type": "markdown",
   "id": "1cb9281b-09a2-4108-91c9-2a79bf5e3498",
   "metadata": {},
   "source": [
    "How much larger is the total population in this dataset in 2007 compared to 1952? You can give you answer as a float, e.g., \"the population is 1.8 times larger in 2007 than in 1952.\" (*hint*: you can use `.query()` to subset the dataframe for 1952 and then calculate the `.sum()` of the population, then repeat for 2007)."
   ]
  },
  {
   "cell_type": "code",
   "execution_count": 4,
   "id": "6dde019b-11de-403c-ba3c-d95f7dbcc07d",
   "metadata": {},
   "outputs": [],
   "source": [
    "# Your solution here"
   ]
  },
  {
   "cell_type": "markdown",
   "id": "945c5306-9c85-4342-bfe4-dae32f899133",
   "metadata": {},
   "source": [
    "## 2.5"
   ]
  },
  {
   "cell_type": "markdown",
   "id": "a8e571e1-8546-4a5d-a90a-350f9a310c71",
   "metadata": {},
   "source": [
    "What is the mean life expectancy of countries with the highest 50% of `gdpPercap` and countries with the lowest 50% of `gdpPercap`? (*hint*: try combining `.query()` and `.median()`)"
   ]
  },
  {
   "cell_type": "code",
   "execution_count": 5,
   "id": "a6e84a68-9b54-4168-91e6-aae103850d07",
   "metadata": {},
   "outputs": [],
   "source": [
    "# Your solution here"
   ]
  }
 ],
 "metadata": {
  "kernelspec": {
   "display_name": "Python 3 (ipykernel)",
   "language": "python",
   "name": "python3"
  },
  "language_info": {
   "codemirror_mode": {
    "name": "ipython",
    "version": 3
   },
   "file_extension": ".py",
   "mimetype": "text/x-python",
   "name": "python",
   "nbconvert_exporter": "python",
   "pygments_lexer": "ipython3",
   "version": "3.9.7"
  }
 },
 "nbformat": 4,
 "nbformat_minor": 5
}
