{
 "cells": [
  {
   "cell_type": "markdown",
   "id": "8e3920e7-cf53-4778-84db-0b4c6e0efe97",
   "metadata": {},
   "source": [
    "# Task 1: Treasure hunt with Pandas\n",
    "---"
   ]
  },
  {
   "cell_type": "markdown",
   "id": "85595b9b-b369-41b4-bb1b-ffb2d89259cd",
   "metadata": {},
   "source": [
    "Learning how to index with Pandas is kind of like having to eat your vegetables: it's not the funnest thing, but you need to know it! In this exercise, I'll provide you with clues that you need to use to index a dataframe and find the \"Treasure\". For example, if the clue is \"The first ten rows\" then you might try:\n",
    "\n",
    "```python\n",
    ">>> df.iloc[:10]\n",
    "```\n",
    "\n",
    "The above is just an example, but the result of your indexing should always be the string `'TREASURE'`."
   ]
  },
  {
   "cell_type": "code",
   "execution_count": 2,
   "id": "02ddb600-a75f-4d3b-9661-e8bc5054a1d4",
   "metadata": {},
   "outputs": [],
   "source": [
    "import pandas as pd"
   ]
  },
  {
   "cell_type": "markdown",
   "id": "e1b69546-0c9a-4720-a04b-3222cdea6d8c",
   "metadata": {},
   "source": [
    "## 1.1"
   ]
  },
  {
   "cell_type": "markdown",
   "id": "3785b3e2-4d4f-4852-b96a-7409047e7a13",
   "metadata": {},
   "source": [
    "Load in the file `treasure_hunt.csv` as a dataframe called `treasure_df`. Read in the first column as the dataframe index column and the first row as the dataframe columns."
   ]
  },
  {
   "cell_type": "code",
   "execution_count": null,
   "id": "f287e1a2-7930-415f-9e50-3681e84d0577",
   "metadata": {},
   "outputs": [],
   "source": [
    "# Your solution here"
   ]
  },
  {
   "cell_type": "markdown",
   "id": "ccb97ff4-6b1f-4ad8-88e9-978d124c3bf9",
   "metadata": {},
   "source": [
    "## 1.2"
   ]
  },
  {
   "cell_type": "markdown",
   "id": "69e9af27-41a5-4b82-982e-c56550db882f",
   "metadata": {},
   "source": [
    "**CLUE:** C20, R1"
   ]
  },
  {
   "cell_type": "code",
   "execution_count": 1,
   "id": "a9c7fd89-bada-46aa-8a93-d431a4cb7c7f",
   "metadata": {},
   "outputs": [],
   "source": [
    "# Your solution here"
   ]
  },
  {
   "cell_type": "markdown",
   "id": "0e169cdf-8749-468a-832e-d0af11167db7",
   "metadata": {},
   "source": [
    "## 1.3"
   ]
  },
  {
   "cell_type": "markdown",
   "id": "2c5ac0e8-c500-4d93-b0e1-afd39eb4c6e5",
   "metadata": {},
   "source": [
    "**CLUE:** thirteenth column, thirteenth row (*hint*: recall that indexing starts at 0!)"
   ]
  },
  {
   "cell_type": "code",
   "execution_count": 2,
   "id": "c76ee623-00ec-4de7-afc4-9be10fb4ffcb",
   "metadata": {},
   "outputs": [],
   "source": [
    "# Your solution here"
   ]
  },
  {
   "cell_type": "markdown",
   "id": "9e746239-d08c-4543-bf04-d687d0b7d266",
   "metadata": {},
   "source": [
    "## 1.4"
   ]
  },
  {
   "cell_type": "markdown",
   "id": "ff75980b-607b-4e93-b769-ba26bbffd068",
   "metadata": {},
   "source": [
    "**CLUE:** R28, tenth column"
   ]
  },
  {
   "cell_type": "code",
   "execution_count": null,
   "id": "5737b765-5650-4276-a9c5-59d10b452a35",
   "metadata": {},
   "outputs": [],
   "source": [
    "# Your solution here"
   ]
  },
  {
   "cell_type": "markdown",
   "id": "1a33ea6a-afc8-48a3-8c1a-27b1ce9e3167",
   "metadata": {},
   "source": [
    "## 1.5\n",
    "rubric={autograde:1}"
   ]
  },
  {
   "cell_type": "markdown",
   "id": "f9484252-ff9e-41e2-9371-9e9553b06bdb",
   "metadata": {},
   "source": [
    "# Your solution here**CLUE:** C26, R19 to R26\n",
    "\n",
    "**HINT:** You might need to do a bit of extra wrangling (e.g. joining stuff, maybe?) to get a result of \"TREASURE\" here..."
   ]
  },
  {
   "cell_type": "code",
   "execution_count": null,
   "id": "93a9eb88-927d-46bf-ae59-0a64002713cb",
   "metadata": {},
   "outputs": [],
   "source": [
    "# Your solution here"
   ]
  },
  {
   "cell_type": "markdown",
   "id": "51d6746d-1032-42ed-9fda-55727c7368e2",
   "metadata": {},
   "source": [
    "## 1.6"
   ]
  },
  {
   "cell_type": "markdown",
   "id": "cadf27e9-9100-418f-ac05-a48e204d5274",
   "metadata": {},
   "source": [
    "**CLUE:** The first rows of C29 *plus* the first row of C30"
   ]
  },
  {
   "cell_type": "code",
   "execution_count": null,
   "id": "720db3a2-8d2b-44e1-92cd-8bed3727379e",
   "metadata": {},
   "outputs": [],
   "source": [
    "# Your solution here"
   ]
  },
  {
   "cell_type": "markdown",
   "id": "891b9084-05c6-4d83-ae18-fca58e69c297",
   "metadata": {},
   "source": [
    "## 1.7"
   ]
  },
  {
   "cell_type": "markdown",
   "id": "558e78e0-1784-4659-8f7f-41f0e8f5e343",
   "metadata": {},
   "source": [
    "**CLUE:** The first row of all columns that **do not** have a \"Z\" in the last row.\n",
    "\n",
    "**HINT:** You might need to do a bit of extra wrangling to get a result of \"TREASURE\" here..."
   ]
  },
  {
   "cell_type": "code",
   "execution_count": null,
   "id": "752023c5-e0c6-4db5-aaf4-efd3f1db11df",
   "metadata": {},
   "outputs": [],
   "source": [
    "# Your solution here"
   ]
  },
  {
   "cell_type": "markdown",
   "id": "ae67b7c8-ba57-4467-8dee-0b4ef7e4648e",
   "metadata": {},
   "source": [
    "## 1.8"
   ]
  },
  {
   "cell_type": "markdown",
   "id": "96aaa837-05d8-43d8-a81d-9dc94b7ef411",
   "metadata": {},
   "source": [
    "**CLUE:** C1 for C1 < C2 (remember, in Python, comparison operators work on string too, e.g., `\"a\" < \"b\" = True` because `a` occurs before `b` alphabetically. Also, don't forget about `.query()`!)\n",
    "\n",
    "**HINT:** You might need to do a bit of extra wrangling to get a result of \"TREASURE\" here..."
   ]
  },
  {
   "cell_type": "code",
   "execution_count": null,
   "id": "e50342c3-9c10-4103-bdd0-167abfa239b8",
   "metadata": {},
   "outputs": [],
   "source": [
    "# Your solution here"
   ]
  }
 ],
 "metadata": {
  "kernelspec": {
   "display_name": "Python 3 (ipykernel)",
   "language": "python",
   "name": "python3"
  },
  "language_info": {
   "codemirror_mode": {
    "name": "ipython",
    "version": 3
   },
   "file_extension": ".py",
   "mimetype": "text/x-python",
   "name": "python",
   "nbconvert_exporter": "python",
   "pygments_lexer": "ipython3",
   "version": "3.9.7"
  }
 },
 "nbformat": 4,
 "nbformat_minor": 5
}
