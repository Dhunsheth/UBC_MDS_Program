{
 "cells": [
  {
   "cell_type": "markdown",
   "metadata": {},
   "source": [
    "# Let's talk about DataFrames (100 Points)\n",
    "In DATA 542 we learn much about DataFrames. What is the real advantage of DataFrames? In this lab, you will explore a bit by analyzing data, using the concepts learned in lectures 2 and 3. \n",
    "\n",
    "## Dataset\n",
    "There are three datasets:\n",
    "1. Bison-observation-2002.csv\n",
    "2. Bison-dataset2.csv\n",
    "3. NPSpecies_ABLI.xlsx\n"
   ]
  },
  {
   "cell_type": "markdown",
   "metadata": {},
   "source": [
    "## Part I (25 Points)\n",
    "The first dataset (Bison-observation-2002.csv) contains parts of the observation of Bisons in Wood Buffalo National Park in 2002. \n",
    "For the following questions, use **Python only (not Pandas)** to read the dataset and do the analytics.\n",
    "1. What is the sum of the Bisons observed in the dataset? (10 points)\n",
    "2. How many different types of Bisons are observed in the 'Sub Population' column? (10 points)\n",
    "\n",
    "**Provide your code and answer** in the following."
   ]
  },
  {
   "cell_type": "code",
   "execution_count": null,
   "metadata": {},
   "outputs": [],
   "source": [
    "# code"
   ]
  },
  {
   "cell_type": "markdown",
   "metadata": {},
   "source": [
    "## Part II (25 Points)\n",
    "Use the same dataset in Part I and answer the following questions using DataFrames:\n",
    "3. What is the sum of the Bisons observed in the dataset? (10 points)\n",
    "4. How many different types of Bisons are observed in the 'Sub Population' column? (10 points)\n",
    "\n",
    "**Provide your code and answer** in the following."
   ]
  },
  {
   "cell_type": "code",
   "execution_count": null,
   "metadata": {},
   "outputs": [],
   "source": [
    "# code"
   ]
  },
  {
   "cell_type": "markdown",
   "metadata": {},
   "source": [
    "## Part III (25 points)\n",
    "In this section, we will use the visualization packages to explore the missing values. \n",
    "\n",
    "Use the missingno package to explore the percentage of missing values in Bison-dataset2.csv dataset. \n",
    "\n",
    "5. What columns can be imputed with other values based on your observations? (10 points)\n",
    "6. Which columns should be omitted? (10 points)\n",
    "7. For the columns you find that can be imputed, write code to replace the null values. (10 points)\n",
    "\n",
    "**Provide your code and answer** in the following."
   ]
  },
  {
   "cell_type": "code",
   "execution_count": null,
   "metadata": {},
   "outputs": [],
   "source": [
    "# code"
   ]
  },
  {
   "cell_type": "markdown",
   "metadata": {},
   "source": [
    "## Part IV (25 points)\n",
    "Load the third dataset NPSpecies_ABLI.xlsx in Pandas. \n",
    "\n",
    "Note: You may receive an error that mentions you need to install another library. \n",
    "\n",
    "8. How many different categories are there in the 'Category' column? (10 points)\n",
    "9. How many data records are there in each of the categories you extracted in question 8? (10 points)\n",
    "10. Which data records have value 'Inactive' for 'Taxon Record Status' column? (10 points)"
   ]
  },
  {
   "cell_type": "code",
   "execution_count": null,
   "metadata": {},
   "outputs": [],
   "source": [
    "# code"
   ]
  },
  {
   "cell_type": "code",
   "execution_count": null,
   "metadata": {},
   "outputs": [],
   "source": []
  }
 ],
 "metadata": {
  "kernelspec": {
   "display_name": "Python 3",
   "language": "python",
   "name": "python3"
  },
  "language_info": {
   "codemirror_mode": {
    "name": "ipython",
    "version": 3
   },
   "file_extension": ".py",
   "mimetype": "text/x-python",
   "name": "python",
   "nbconvert_exporter": "python",
   "pygments_lexer": "ipython3",
   "version": "3.7.0"
  }
 },
 "nbformat": 4,
 "nbformat_minor": 2
}
