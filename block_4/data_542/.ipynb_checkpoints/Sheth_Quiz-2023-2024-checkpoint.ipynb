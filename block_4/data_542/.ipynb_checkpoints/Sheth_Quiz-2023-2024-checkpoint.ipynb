{
 "cells": [
  {
   "attachments": {},
   "cell_type": "markdown",
   "metadata": {},
   "source": [
    "# DATA542 Quiz (20 points)\n",
    "This quiz has 20% of your total score in this course. \n",
    "\n",
    "**Exam Format and Submission:**\n",
    "\n",
    "You will be asked to answer the following questions within this Jupyter notebook. \n",
    "\n",
    "Instructions: \n",
    "\n",
    "1. Answer within the same notebook and provide answers in the cell below each question. Do NOT create a separate cell that includes all your answers. It will waste your time!\n",
    "\n",
    "2. Enter your name within the notebook at first.\n",
    "\n",
    "3. For your convenience, the results are shown below each question. So you know what you are asked for in each quesiton.\n",
    "\n",
    "4. You need to upload your notebook to *Canvas*. \n",
    "\n",
    "5. The submission link on Canvas will be closed at 10:50 AM. Make sure to submit ontime, or you will lose all marks for the exam. \n",
    "\n",
    "6. Answering the academic Honesty question is MANDATORY. This question has no marks. But leaving it empty means a report to the program coordinators and probably dean's office and could have consequences.\n",
    "\n",
    "\n",
    "**IMPORTANT NOTE: The exam is closed book. You are not allowed to use lecture notes, internet, or get help of any kind. You are allowed to use the help function or look into the documentations WITHIN the ipython notebook only.** \n",
    "\n",
    "**Exam Time:**\n",
    "\n",
    "You have 75 minutes to answer the questions. Five extra minutes is considered for the submission. If you do not submit on time, your exam is considered as NOT submitted and receive no points. \n",
    " \n",
    " \n",
    "**Violations to the use of internet, specially communicating with others during the exam will lead to immediate _FAILURE_ in the course. The incident will be reported to the program coordinator and has its own consequences, even one might have to leave the program.**\n",
    "\n",
    "### Student Name \n",
    "\n",
    "**Add your last name to the file name when you upload this notebook.**\n",
    "\n"
   ]
  },
  {
   "cell_type": "markdown",
   "metadata": {},
   "source": [
    "### Question 0.0 (0 points)\n",
    "\n",
    "Academic honesty is an expectation of all members of UBCs community, from first-year undergraduates to professors. All UBC students are expected to behave as honest and responsible members of an academic community. This includes, but is not limited to, never taking credit for work completed by another individual. All tests, assignments, and other forms of assessment must be completed by the individual being assessed, and only by the individual being assessed.\n",
    "\n",
    "a) Do you agree to abide by the UBC expectations of academic honesty? [yes/no]\n",
    "\n",
    "b) Write “I hereby declare that all work within this exam is my own and only my own.” Then print your name, (sign your name if you can), and write the date below the declaration.\n",
    "\n",
    " \n",
    "\n",
    "Failure to answer this question honestly will result in a 0 on the exam and a report to the Dean\n",
    "Failure to write the note as mentioned above will result in a 0 on the exam and a report to the Dean. \n",
    "Answering “no” on this question will result in a report to the Dean."
   ]
  },
  {
   "cell_type": "markdown",
   "metadata": {},
   "source": [
    "#answer here   \n",
    "a) yes    \n",
    "b) Dhun Sheth   \n",
    "\"Feb 8th, 2024\"   "
   ]
  },
  {
   "cell_type": "markdown",
   "metadata": {},
   "source": [
    "### Question 0.1 (0 points)\n",
    "\n",
    "Enter your name in the following: Dhun Sheth"
   ]
  },
  {
   "attachments": {},
   "cell_type": "markdown",
   "metadata": {},
   "source": [
    "### Preparing the required steps (0.5 points)\n",
    "\n",
    "Import the pandas and numoy libraries\n",
    "\n",
    "Read the sales_data.csv file and name the dataframe as sales. \n",
    "If you see errors, use ('file_name.csv', encoding = \"ISO-8859-1\") \n",
    "or ('file_name.csv', encoding='unicode_escape') while reading your file. "
   ]
  },
  {
   "cell_type": "code",
   "execution_count": 2,
   "metadata": {},
   "outputs": [],
   "source": [
    "import pandas as pd\n",
    "import numpy as np"
   ]
  },
  {
   "cell_type": "code",
   "execution_count": 3,
   "metadata": {},
   "outputs": [
    {
     "data": {
      "text/html": [
       "<div>\n",
       "<style scoped>\n",
       "    .dataframe tbody tr th:only-of-type {\n",
       "        vertical-align: middle;\n",
       "    }\n",
       "\n",
       "    .dataframe tbody tr th {\n",
       "        vertical-align: top;\n",
       "    }\n",
       "\n",
       "    .dataframe thead th {\n",
       "        text-align: right;\n",
       "    }\n",
       "</style>\n",
       "<table border=\"1\" class=\"dataframe\">\n",
       "  <thead>\n",
       "    <tr style=\"text-align: right;\">\n",
       "      <th></th>\n",
       "      <th>ORDERNUMBER</th>\n",
       "      <th>QUANTITYORDERED</th>\n",
       "      <th>PRICEEACH</th>\n",
       "      <th>ORDERLINENUMBER</th>\n",
       "      <th>SALES</th>\n",
       "      <th>ORDERDATE</th>\n",
       "      <th>STATUS</th>\n",
       "      <th>QTR_ID</th>\n",
       "      <th>MONTH_ID</th>\n",
       "      <th>YEAR_ID</th>\n",
       "      <th>...</th>\n",
       "      <th>ADDRESSLINE1</th>\n",
       "      <th>ADDRESSLINE2</th>\n",
       "      <th>CITY</th>\n",
       "      <th>STATE</th>\n",
       "      <th>POSTALCODE</th>\n",
       "      <th>COUNTRY</th>\n",
       "      <th>TERRITORY</th>\n",
       "      <th>CONTACTLASTNAME</th>\n",
       "      <th>CONTACTFIRSTNAME</th>\n",
       "      <th>DEALSIZE</th>\n",
       "    </tr>\n",
       "  </thead>\n",
       "  <tbody>\n",
       "    <tr>\n",
       "      <th>0</th>\n",
       "      <td>10107</td>\n",
       "      <td>30</td>\n",
       "      <td>95.70</td>\n",
       "      <td>2</td>\n",
       "      <td>2871.00</td>\n",
       "      <td>2/24/2003 0:00</td>\n",
       "      <td>Shipped</td>\n",
       "      <td>1</td>\n",
       "      <td>2</td>\n",
       "      <td>2003</td>\n",
       "      <td>...</td>\n",
       "      <td>897 Long Airport Avenue</td>\n",
       "      <td>NaN</td>\n",
       "      <td>NYC</td>\n",
       "      <td>NY</td>\n",
       "      <td>10022</td>\n",
       "      <td>USA</td>\n",
       "      <td>NaN</td>\n",
       "      <td>Yu</td>\n",
       "      <td>Kwai</td>\n",
       "      <td>Small</td>\n",
       "    </tr>\n",
       "    <tr>\n",
       "      <th>1</th>\n",
       "      <td>10121</td>\n",
       "      <td>34</td>\n",
       "      <td>81.35</td>\n",
       "      <td>5</td>\n",
       "      <td>2765.90</td>\n",
       "      <td>5/7/2003 0:00</td>\n",
       "      <td>Shipped</td>\n",
       "      <td>2</td>\n",
       "      <td>5</td>\n",
       "      <td>2003</td>\n",
       "      <td>...</td>\n",
       "      <td>59 rue de l'Abbaye</td>\n",
       "      <td>NaN</td>\n",
       "      <td>Reims</td>\n",
       "      <td>NaN</td>\n",
       "      <td>51100</td>\n",
       "      <td>France</td>\n",
       "      <td>EMEA</td>\n",
       "      <td>Henriot</td>\n",
       "      <td>Paul</td>\n",
       "      <td>Small</td>\n",
       "    </tr>\n",
       "    <tr>\n",
       "      <th>2</th>\n",
       "      <td>10134</td>\n",
       "      <td>41</td>\n",
       "      <td>94.74</td>\n",
       "      <td>2</td>\n",
       "      <td>3884.34</td>\n",
       "      <td>7/1/2003 0:00</td>\n",
       "      <td>Shipped</td>\n",
       "      <td>3</td>\n",
       "      <td>7</td>\n",
       "      <td>2003</td>\n",
       "      <td>...</td>\n",
       "      <td>27 rue du Colonel Pierre Avia</td>\n",
       "      <td>NaN</td>\n",
       "      <td>Paris</td>\n",
       "      <td>NaN</td>\n",
       "      <td>75508</td>\n",
       "      <td>France</td>\n",
       "      <td>EMEA</td>\n",
       "      <td>Da Cunha</td>\n",
       "      <td>Daniel</td>\n",
       "      <td>Medium</td>\n",
       "    </tr>\n",
       "    <tr>\n",
       "      <th>3</th>\n",
       "      <td>10145</td>\n",
       "      <td>45</td>\n",
       "      <td>83.26</td>\n",
       "      <td>6</td>\n",
       "      <td>3746.70</td>\n",
       "      <td>8/25/2003 0:00</td>\n",
       "      <td>Shipped</td>\n",
       "      <td>3</td>\n",
       "      <td>8</td>\n",
       "      <td>2003</td>\n",
       "      <td>...</td>\n",
       "      <td>78934 Hillside Dr.</td>\n",
       "      <td>NaN</td>\n",
       "      <td>Pasadena</td>\n",
       "      <td>CA</td>\n",
       "      <td>90003</td>\n",
       "      <td>USA</td>\n",
       "      <td>NaN</td>\n",
       "      <td>Young</td>\n",
       "      <td>Julie</td>\n",
       "      <td>Medium</td>\n",
       "    </tr>\n",
       "    <tr>\n",
       "      <th>4</th>\n",
       "      <td>10159</td>\n",
       "      <td>49</td>\n",
       "      <td>100.00</td>\n",
       "      <td>14</td>\n",
       "      <td>5205.27</td>\n",
       "      <td>10/10/2003 0:00</td>\n",
       "      <td>Shipped</td>\n",
       "      <td>4</td>\n",
       "      <td>10</td>\n",
       "      <td>2003</td>\n",
       "      <td>...</td>\n",
       "      <td>7734 Strong St.</td>\n",
       "      <td>NaN</td>\n",
       "      <td>San Francisco</td>\n",
       "      <td>CA</td>\n",
       "      <td>NaN</td>\n",
       "      <td>USA</td>\n",
       "      <td>NaN</td>\n",
       "      <td>Brown</td>\n",
       "      <td>Julie</td>\n",
       "      <td>Medium</td>\n",
       "    </tr>\n",
       "  </tbody>\n",
       "</table>\n",
       "<p>5 rows × 25 columns</p>\n",
       "</div>"
      ],
      "text/plain": [
       "   ORDERNUMBER  QUANTITYORDERED  PRICEEACH  ORDERLINENUMBER    SALES  \\\n",
       "0        10107               30      95.70                2  2871.00   \n",
       "1        10121               34      81.35                5  2765.90   \n",
       "2        10134               41      94.74                2  3884.34   \n",
       "3        10145               45      83.26                6  3746.70   \n",
       "4        10159               49     100.00               14  5205.27   \n",
       "\n",
       "         ORDERDATE   STATUS  QTR_ID  MONTH_ID  YEAR_ID  ...  \\\n",
       "0   2/24/2003 0:00  Shipped       1         2     2003  ...   \n",
       "1    5/7/2003 0:00  Shipped       2         5     2003  ...   \n",
       "2    7/1/2003 0:00  Shipped       3         7     2003  ...   \n",
       "3   8/25/2003 0:00  Shipped       3         8     2003  ...   \n",
       "4  10/10/2003 0:00  Shipped       4        10     2003  ...   \n",
       "\n",
       "                    ADDRESSLINE1  ADDRESSLINE2           CITY STATE  \\\n",
       "0        897 Long Airport Avenue           NaN            NYC    NY   \n",
       "1             59 rue de l'Abbaye           NaN          Reims   NaN   \n",
       "2  27 rue du Colonel Pierre Avia           NaN          Paris   NaN   \n",
       "3             78934 Hillside Dr.           NaN       Pasadena    CA   \n",
       "4                7734 Strong St.           NaN  San Francisco    CA   \n",
       "\n",
       "  POSTALCODE COUNTRY TERRITORY CONTACTLASTNAME CONTACTFIRSTNAME DEALSIZE  \n",
       "0      10022     USA       NaN              Yu             Kwai    Small  \n",
       "1      51100  France      EMEA         Henriot             Paul    Small  \n",
       "2      75508  France      EMEA        Da Cunha           Daniel   Medium  \n",
       "3      90003     USA       NaN           Young            Julie   Medium  \n",
       "4        NaN     USA       NaN           Brown            Julie   Medium  \n",
       "\n",
       "[5 rows x 25 columns]"
      ]
     },
     "execution_count": 3,
     "metadata": {},
     "output_type": "execute_result"
    }
   ],
   "source": [
    "sales = pd.read_csv('sales_data.csv', encoding='unicode_escape')\n",
    "sales.head()"
   ]
  },
  {
   "attachments": {},
   "cell_type": "markdown",
   "metadata": {},
   "source": [
    "### Question 1 (1 points)\n",
    "\n",
    "Q1. How many records are for each year? The result can be like the following output."
   ]
  },
  {
   "cell_type": "code",
   "execution_count": 4,
   "metadata": {},
   "outputs": [
    {
     "data": {
      "text/plain": [
       "YEAR_ID\n",
       "2004    1345\n",
       "2003    1000\n",
       "2005     478\n",
       "Name: count, dtype: int64"
      ]
     },
     "execution_count": 4,
     "metadata": {},
     "output_type": "execute_result"
    }
   ],
   "source": [
    "sales['YEAR_ID'].value_counts()"
   ]
  },
  {
   "attachments": {},
   "cell_type": "markdown",
   "metadata": {},
   "source": [
    "### Question 2 (1 points)\n",
    "Q2. What is the sum of SALES for the 'QTR_ID' in each 'YEAR_ID'? \n"
   ]
  },
  {
   "cell_type": "code",
   "execution_count": 53,
   "metadata": {},
   "outputs": [
    {
     "data": {
      "text/plain": [
       "YEAR_ID  QTR_ID\n",
       "2003     1          445094.69\n",
       "         2          562365.22\n",
       "         3          649514.54\n",
       "         4         1860005.09\n",
       "2004     1          833730.68\n",
       "         2          766260.73\n",
       "         3         1109396.27\n",
       "         4         2014774.92\n",
       "2005     1         1071992.36\n",
       "         2          719494.35\n",
       "Name: SALES, dtype: float64"
      ]
     },
     "execution_count": 53,
     "metadata": {},
     "output_type": "execute_result"
    }
   ],
   "source": [
    "sales.groupby(['YEAR_ID', 'QTR_ID'])['SALES'].sum()"
   ]
  },
  {
   "attachments": {},
   "cell_type": "markdown",
   "metadata": {},
   "source": [
    "### Question 3 (1 points)\n",
    "\n",
    "Q3. Show how many null values the dataset has for each of the columns?  \n"
   ]
  },
  {
   "cell_type": "code",
   "execution_count": 56,
   "metadata": {},
   "outputs": [
    {
     "data": {
      "text/plain": [
       "ORDERNUMBER            0\n",
       "QUANTITYORDERED        0\n",
       "PRICEEACH              0\n",
       "ORDERLINENUMBER        0\n",
       "SALES                  0\n",
       "ORDERDATE              0\n",
       "STATUS                 0\n",
       "QTR_ID                 0\n",
       "MONTH_ID               0\n",
       "YEAR_ID                0\n",
       "PRODUCTLINE            0\n",
       "MSRP                   0\n",
       "PRODUCTCODE            0\n",
       "CUSTOMERNAME           0\n",
       "PHONE                  0\n",
       "ADDRESSLINE1           0\n",
       "ADDRESSLINE2        2521\n",
       "CITY                   0\n",
       "STATE               1486\n",
       "POSTALCODE            76\n",
       "COUNTRY                0\n",
       "TERRITORY           1074\n",
       "CONTACTLASTNAME        0\n",
       "CONTACTFIRSTNAME       0\n",
       "DEALSIZE               0\n",
       "dtype: int64"
      ]
     },
     "execution_count": 56,
     "metadata": {},
     "output_type": "execute_result"
    }
   ],
   "source": [
    "sales.isnull().sum()"
   ]
  },
  {
   "attachments": {},
   "cell_type": "markdown",
   "metadata": {},
   "source": [
    "### Question 4 (1 points)\n",
    "Q4. Drop the ADDRESSLINE2 and STATE columns. The dropped columns should be applied on the sales dataframe, not its view (not on copy of the dataframe). \n",
    "\n",
    "Check again by printing the information of the sales data. "
   ]
  },
  {
   "cell_type": "code",
   "execution_count": 97,
   "metadata": {},
   "outputs": [
    {
     "name": "stdout",
     "output_type": "stream",
     "text": [
      "<class 'pandas.core.frame.DataFrame'>\n",
      "RangeIndex: 2823 entries, 0 to 2822\n",
      "Data columns (total 23 columns):\n",
      " #   Column            Non-Null Count  Dtype  \n",
      "---  ------            --------------  -----  \n",
      " 0   ORDERNUMBER       2823 non-null   int64  \n",
      " 1   QUANTITYORDERED   2823 non-null   int64  \n",
      " 2   PRICEEACH         2823 non-null   float64\n",
      " 3   ORDERLINENUMBER   2823 non-null   int64  \n",
      " 4   SALES             2823 non-null   float64\n",
      " 5   ORDERDATE         2823 non-null   object \n",
      " 6   STATUS            2823 non-null   object \n",
      " 7   QTR_ID            2823 non-null   int64  \n",
      " 8   MONTH_ID          2823 non-null   int64  \n",
      " 9   YEAR_ID           2823 non-null   int64  \n",
      " 10  PRODUCTLINE       2823 non-null   object \n",
      " 11  MSRP              2823 non-null   int64  \n",
      " 12  PRODUCTCODE       2823 non-null   object \n",
      " 13  CUSTOMERNAME      2823 non-null   object \n",
      " 14  PHONE             2823 non-null   object \n",
      " 15  ADDRESSLINE1      2823 non-null   object \n",
      " 16  CITY              2823 non-null   object \n",
      " 17  POSTALCODE        2747 non-null   object \n",
      " 18  COUNTRY           2823 non-null   object \n",
      " 19  TERRITORY         1749 non-null   object \n",
      " 20  CONTACTLASTNAME   2823 non-null   object \n",
      " 21  CONTACTFIRSTNAME  2823 non-null   object \n",
      " 22  DEALSIZE          2823 non-null   object \n",
      "dtypes: float64(2), int64(7), object(14)\n",
      "memory usage: 507.4+ KB\n"
     ]
    }
   ],
   "source": [
    "sales.drop(['ADDRESSLINE2','STATE'], axis=1, inplace=True)\n",
    "sales.info()"
   ]
  },
  {
   "attachments": {},
   "cell_type": "markdown",
   "metadata": {},
   "source": [
    "### Question 5 (1 points)\n",
    "\n",
    "Q5. Select the SALES, STATUS, YEAR_ID, COUNTRY, and PRODUCTLINE and assign it to a dataframe called df.\n",
    "\n",
    "Show the last five rows. \n"
   ]
  },
  {
   "cell_type": "code",
   "execution_count": 99,
   "metadata": {},
   "outputs": [
    {
     "data": {
      "text/html": [
       "<div>\n",
       "<style scoped>\n",
       "    .dataframe tbody tr th:only-of-type {\n",
       "        vertical-align: middle;\n",
       "    }\n",
       "\n",
       "    .dataframe tbody tr th {\n",
       "        vertical-align: top;\n",
       "    }\n",
       "\n",
       "    .dataframe thead th {\n",
       "        text-align: right;\n",
       "    }\n",
       "</style>\n",
       "<table border=\"1\" class=\"dataframe\">\n",
       "  <thead>\n",
       "    <tr style=\"text-align: right;\">\n",
       "      <th></th>\n",
       "      <th>SALES</th>\n",
       "      <th>STATUS</th>\n",
       "      <th>YEAR_ID</th>\n",
       "      <th>COUNTRY</th>\n",
       "      <th>PRODUCTLINE</th>\n",
       "    </tr>\n",
       "  </thead>\n",
       "  <tbody>\n",
       "    <tr>\n",
       "      <th>2818</th>\n",
       "      <td>2244.40</td>\n",
       "      <td>Shipped</td>\n",
       "      <td>2004</td>\n",
       "      <td>Spain</td>\n",
       "      <td>Ships</td>\n",
       "    </tr>\n",
       "    <tr>\n",
       "      <th>2819</th>\n",
       "      <td>3978.51</td>\n",
       "      <td>Shipped</td>\n",
       "      <td>2005</td>\n",
       "      <td>Finland</td>\n",
       "      <td>Ships</td>\n",
       "    </tr>\n",
       "    <tr>\n",
       "      <th>2820</th>\n",
       "      <td>5417.57</td>\n",
       "      <td>Resolved</td>\n",
       "      <td>2005</td>\n",
       "      <td>Spain</td>\n",
       "      <td>Ships</td>\n",
       "    </tr>\n",
       "    <tr>\n",
       "      <th>2821</th>\n",
       "      <td>2116.16</td>\n",
       "      <td>Shipped</td>\n",
       "      <td>2005</td>\n",
       "      <td>France</td>\n",
       "      <td>Ships</td>\n",
       "    </tr>\n",
       "    <tr>\n",
       "      <th>2822</th>\n",
       "      <td>3079.44</td>\n",
       "      <td>On Hold</td>\n",
       "      <td>2005</td>\n",
       "      <td>USA</td>\n",
       "      <td>Ships</td>\n",
       "    </tr>\n",
       "  </tbody>\n",
       "</table>\n",
       "</div>"
      ],
      "text/plain": [
       "        SALES    STATUS  YEAR_ID  COUNTRY PRODUCTLINE\n",
       "2818  2244.40   Shipped     2004    Spain       Ships\n",
       "2819  3978.51   Shipped     2005  Finland       Ships\n",
       "2820  5417.57  Resolved     2005    Spain       Ships\n",
       "2821  2116.16   Shipped     2005   France       Ships\n",
       "2822  3079.44   On Hold     2005      USA       Ships"
      ]
     },
     "execution_count": 99,
     "metadata": {},
     "output_type": "execute_result"
    }
   ],
   "source": [
    "df = sales[['SALES', 'STATUS', 'YEAR_ID','COUNTRY', 'PRODUCTLINE']]\n",
    "df.tail(5)"
   ]
  },
  {
   "attachments": {},
   "cell_type": "markdown",
   "metadata": {},
   "source": [
    "### Question 6 (1 points)\n",
    "\n",
    "value_count() returns counts of unique values. \n",
    "\n",
    "Q6. What is the value_count() of the PRODUCTLINE of sales data?"
   ]
  },
  {
   "cell_type": "code",
   "execution_count": 103,
   "metadata": {},
   "outputs": [
    {
     "data": {
      "text/plain": [
       "PRODUCTLINE\n",
       "Classic Cars        967\n",
       "Vintage Cars        607\n",
       "Motorcycles         331\n",
       "Planes              306\n",
       "Trucks and Buses    301\n",
       "Ships               234\n",
       "Trains               77\n",
       "Name: count, dtype: int64"
      ]
     },
     "execution_count": 103,
     "metadata": {},
     "output_type": "execute_result"
    }
   ],
   "source": [
    "sales['PRODUCTLINE'].value_counts()"
   ]
  },
  {
   "attachments": {},
   "cell_type": "markdown",
   "metadata": {},
   "source": [
    "### Question 7 (1 points)\n",
    "\n",
    "Q7. Find the sum of the SALES and QUANTITYORDERED based on the STATUS of the records for **Spain**. In the results shown below, the values of the SALES column are summed based on the STATUS, and the same for QUANTITYORDER. \n"
   ]
  },
  {
   "cell_type": "code",
   "execution_count": 107,
   "metadata": {},
   "outputs": [
    {
     "data": {
      "text/html": [
       "<div>\n",
       "<style scoped>\n",
       "    .dataframe tbody tr th:only-of-type {\n",
       "        vertical-align: middle;\n",
       "    }\n",
       "\n",
       "    .dataframe tbody tr th {\n",
       "        vertical-align: top;\n",
       "    }\n",
       "\n",
       "    .dataframe thead th {\n",
       "        text-align: right;\n",
       "    }\n",
       "</style>\n",
       "<table border=\"1\" class=\"dataframe\">\n",
       "  <thead>\n",
       "    <tr style=\"text-align: right;\">\n",
       "      <th></th>\n",
       "      <th>SALES</th>\n",
       "      <th>QUANTITYORDERED</th>\n",
       "    </tr>\n",
       "    <tr>\n",
       "      <th>STATUS</th>\n",
       "      <th></th>\n",
       "      <th></th>\n",
       "    </tr>\n",
       "  </thead>\n",
       "  <tbody>\n",
       "    <tr>\n",
       "      <th>Cancelled</th>\n",
       "      <td>50010.65</td>\n",
       "      <td>605</td>\n",
       "    </tr>\n",
       "    <tr>\n",
       "      <th>Disputed</th>\n",
       "      <td>31821.90</td>\n",
       "      <td>259</td>\n",
       "    </tr>\n",
       "    <tr>\n",
       "      <th>In Process</th>\n",
       "      <td>35133.34</td>\n",
       "      <td>269</td>\n",
       "    </tr>\n",
       "    <tr>\n",
       "      <th>Resolved</th>\n",
       "      <td>53815.72</td>\n",
       "      <td>650</td>\n",
       "    </tr>\n",
       "    <tr>\n",
       "      <th>Shipped</th>\n",
       "      <td>1044905.31</td>\n",
       "      <td>10646</td>\n",
       "    </tr>\n",
       "  </tbody>\n",
       "</table>\n",
       "</div>"
      ],
      "text/plain": [
       "                 SALES  QUANTITYORDERED\n",
       "STATUS                                 \n",
       "Cancelled     50010.65              605\n",
       "Disputed      31821.90              259\n",
       "In Process    35133.34              269\n",
       "Resolved      53815.72              650\n",
       "Shipped     1044905.31            10646"
      ]
     },
     "execution_count": 107,
     "metadata": {},
     "output_type": "execute_result"
    }
   ],
   "source": [
    "sales[sales['COUNTRY']=='Spain'].groupby('STATUS')[['SALES', 'QUANTITYORDERED']].sum()"
   ]
  },
  {
   "attachments": {},
   "cell_type": "markdown",
   "metadata": {},
   "source": [
    "### Question 8 (1 points)\n",
    "Q8. Suppose that the ordered quantity is doubled for all the records. Use the QUANTITYORDERED column and double the amounts in the sales data. Assign it to sales_orders_doubled and show the first 3 rows. "
   ]
  },
  {
   "cell_type": "code",
   "execution_count": 112,
   "metadata": {},
   "outputs": [
    {
     "name": "stdout",
     "output_type": "stream",
     "text": [
      "0    60\n",
      "1    68\n",
      "2    82\n",
      "Name: QUANTITYORDERED, dtype: int64\n"
     ]
    }
   ],
   "source": [
    "sales_orders_doubled = sales['QUANTITYORDERED']*2\n",
    "print(sales_orders_doubled[0:3])"
   ]
  },
  {
   "attachments": {},
   "cell_type": "markdown",
   "metadata": {},
   "source": [
    "### Question 9 (2 points)\n",
    "\n",
    "Q9. Double the QUANTITYORDERED for all records, if its values is greater than 30. Do not modify the dataframe. "
   ]
  },
  {
   "cell_type": "code",
   "execution_count": 121,
   "metadata": {},
   "outputs": [
    {
     "name": "stdout",
     "output_type": "stream",
     "text": [
      "0       30\n",
      "1       68\n",
      "2       82\n",
      "3       90\n",
      "4       98\n",
      "        ..\n",
      "2818    20\n",
      "2819    29\n",
      "2820    86\n",
      "2821    68\n",
      "2822    94\n",
      "Length: 2823, dtype: int64\n"
     ]
    }
   ],
   "source": [
    "double = []\n",
    "for value in sales['QUANTITYORDERED']:\n",
    "    if value > 30:\n",
    "        double.append(value*2)\n",
    "    else:\n",
    "        double.append(value)\n",
    "\n",
    "double = pd.Series(double)\n",
    "print(double)"
   ]
  },
  {
   "attachments": {},
   "cell_type": "markdown",
   "metadata": {},
   "source": [
    "### Question 10 (2 points)\n",
    "\n",
    "Q10. Make a MultiIndex (hierarchical indexing) dataframe using YEAR_ID and PRODUCTLINE as the two indexing levels. Year is the outer level index. Name this dataframe as sales_hdf."
   ]
  },
  {
   "cell_type": "code",
   "execution_count": 126,
   "metadata": {},
   "outputs": [
    {
     "data": {
      "text/plain": [
       "PRODUCTLINE\n",
       "Classic Cars        967\n",
       "Vintage Cars        607\n",
       "Motorcycles         331\n",
       "Planes              306\n",
       "Trucks and Buses    301\n",
       "Ships               234\n",
       "Trains               77\n",
       "Name: count, dtype: int64"
      ]
     },
     "execution_count": 126,
     "metadata": {},
     "output_type": "execute_result"
    }
   ],
   "source": [
    "sales['PRODUCTLINE'].value_counts()"
   ]
  },
  {
   "cell_type": "code",
   "execution_count": 133,
   "metadata": {},
   "outputs": [
    {
     "ename": "ValueError",
     "evalue": "Length of levels and codes must be the same.",
     "output_type": "error",
     "traceback": [
      "\u001b[0;31m---------------------------------------------------------------------------\u001b[0m",
      "\u001b[0;31mValueError\u001b[0m                                Traceback (most recent call last)",
      "Cell \u001b[0;32mIn[133], line 1\u001b[0m\n\u001b[0;32m----> 1\u001b[0m idx \u001b[38;5;241m=\u001b[39m \u001b[43mpd\u001b[49m\u001b[38;5;241;43m.\u001b[39;49m\u001b[43mMultiIndex\u001b[49m\u001b[43m(\u001b[49m\u001b[43mlevels\u001b[49m\u001b[43m \u001b[49m\u001b[38;5;241;43m=\u001b[39;49m\u001b[43m \u001b[49m\u001b[43m[\u001b[49m\u001b[43m[\u001b[49m\u001b[38;5;124;43m'\u001b[39;49m\u001b[38;5;124;43mYEAR_ID\u001b[39;49m\u001b[38;5;124;43m'\u001b[39;49m\u001b[43m,\u001b[49m\u001b[43m \u001b[49m\u001b[38;5;124;43m'\u001b[39;49m\u001b[38;5;124;43mPRODUCTLINE\u001b[39;49m\u001b[38;5;124;43m'\u001b[39;49m\u001b[43m]\u001b[49m\u001b[43m]\u001b[49m\u001b[43m,\u001b[49m\u001b[43m \u001b[49m\u001b[43mcodes\u001b[49m\u001b[43m \u001b[49m\u001b[38;5;241;43m=\u001b[39;49m\u001b[43m \u001b[49m\u001b[43m[\u001b[49m\u001b[43m[\u001b[49m\u001b[38;5;241;43m2003\u001b[39;49m\u001b[43m,\u001b[49m\u001b[43m \u001b[49m\u001b[38;5;241;43m2004\u001b[39;49m\u001b[43m,\u001b[49m\u001b[43m \u001b[49m\u001b[38;5;241;43m2005\u001b[39;49m\u001b[43m]\u001b[49m\u001b[43m,\u001b[49m\u001b[43m[\u001b[49m\u001b[38;5;124;43m'\u001b[39;49m\u001b[38;5;124;43mClassic Cars\u001b[39;49m\u001b[38;5;124;43m'\u001b[39;49m\u001b[43m,\u001b[49m\u001b[38;5;124;43m'\u001b[39;49m\u001b[38;5;124;43mVintage Cars\u001b[39;49m\u001b[38;5;124;43m'\u001b[39;49m\u001b[43m,\u001b[49m\u001b[38;5;124;43m'\u001b[39;49m\u001b[38;5;124;43mMotorcycles\u001b[39;49m\u001b[38;5;124;43m'\u001b[39;49m\u001b[43m,\u001b[49m\n\u001b[1;32m      2\u001b[0m \u001b[43m                                                                                                  \u001b[49m\u001b[38;5;124;43m'\u001b[39;49m\u001b[38;5;124;43mPlanes\u001b[39;49m\u001b[38;5;124;43m'\u001b[39;49m\u001b[43m,\u001b[49m\u001b[38;5;124;43m'\u001b[39;49m\u001b[38;5;124;43mTrucks and Buses\u001b[39;49m\u001b[38;5;124;43m'\u001b[39;49m\u001b[43m,\u001b[49m\u001b[43m \u001b[49m\u001b[38;5;124;43m'\u001b[39;49m\u001b[38;5;124;43mShips\u001b[39;49m\u001b[38;5;124;43m'\u001b[39;49m\u001b[43m,\u001b[49m\u001b[38;5;124;43m'\u001b[39;49m\u001b[38;5;124;43mTrains\u001b[39;49m\u001b[38;5;124;43m'\u001b[39;49m\u001b[43m]\u001b[49m\u001b[43m]\u001b[49m\u001b[43m)\u001b[49m\n\u001b[1;32m      4\u001b[0m sales_hdf \u001b[38;5;241m=\u001b[39m pd\u001b[38;5;241m.\u001b[39mDateFrame(data, index\u001b[38;5;241m=\u001b[39midx)\n",
      "File \u001b[0;32m~/.local/lib/python3.10/site-packages/pandas/core/indexes/multi.py:340\u001b[0m, in \u001b[0;36mMultiIndex.__new__\u001b[0;34m(cls, levels, codes, sortorder, names, dtype, copy, name, verify_integrity)\u001b[0m\n\u001b[1;32m    338\u001b[0m     \u001b[38;5;28;01mraise\u001b[39;00m \u001b[38;5;167;01mTypeError\u001b[39;00m(\u001b[38;5;124m\"\u001b[39m\u001b[38;5;124mMust pass both levels and codes\u001b[39m\u001b[38;5;124m\"\u001b[39m)\n\u001b[1;32m    339\u001b[0m \u001b[38;5;28;01mif\u001b[39;00m \u001b[38;5;28mlen\u001b[39m(levels) \u001b[38;5;241m!=\u001b[39m \u001b[38;5;28mlen\u001b[39m(codes):\n\u001b[0;32m--> 340\u001b[0m     \u001b[38;5;28;01mraise\u001b[39;00m \u001b[38;5;167;01mValueError\u001b[39;00m(\u001b[38;5;124m\"\u001b[39m\u001b[38;5;124mLength of levels and codes must be the same.\u001b[39m\u001b[38;5;124m\"\u001b[39m)\n\u001b[1;32m    341\u001b[0m \u001b[38;5;28;01mif\u001b[39;00m \u001b[38;5;28mlen\u001b[39m(levels) \u001b[38;5;241m==\u001b[39m \u001b[38;5;241m0\u001b[39m:\n\u001b[1;32m    342\u001b[0m     \u001b[38;5;28;01mraise\u001b[39;00m \u001b[38;5;167;01mValueError\u001b[39;00m(\u001b[38;5;124m\"\u001b[39m\u001b[38;5;124mMust pass non-zero number of levels/codes\u001b[39m\u001b[38;5;124m\"\u001b[39m)\n",
      "\u001b[0;31mValueError\u001b[0m: Length of levels and codes must be the same."
     ]
    }
   ],
   "source": [
    "idx = pd.MultiIndex(levels = [['YEAR_ID', 'PRODUCTLINE']], codes = [[2003, 2004, 2005],['Classic Cars','Vintage Cars','Motorcycles',\n",
    "                                                                                                  'Planes','Trucks and Buses', 'Ships','Trains']])\n",
    "\n",
    "sales_hdf = pd.DateFrame(data, index=idx)"
   ]
  },
  {
   "attachments": {},
   "cell_type": "markdown",
   "metadata": {},
   "source": [
    "### Question 11 (1 points)\n",
    "\n",
    "Q11. What is the sum of the ORDERLINENUMBER for each PRODUCTLINE in each year?"
   ]
  },
  {
   "cell_type": "code",
   "execution_count": 135,
   "metadata": {},
   "outputs": [
    {
     "data": {
      "text/plain": [
       "YEAR_ID  PRODUCTLINE     \n",
       "2003     Classic Cars        2497\n",
       "         Motorcycles          772\n",
       "         Planes               548\n",
       "         Ships                570\n",
       "         Trains               190\n",
       "         Trucks and Buses     737\n",
       "         Vintage Cars        1395\n",
       "2004     Classic Cars        2819\n",
       "         Motorcycles          890\n",
       "         Planes              1184\n",
       "         Ships                787\n",
       "         Trains               270\n",
       "         Trucks and Buses     844\n",
       "         Vintage Cars        1896\n",
       "2005     Classic Cars         917\n",
       "         Motorcycles          301\n",
       "         Planes               478\n",
       "         Ships                234\n",
       "         Trains                90\n",
       "         Trucks and Buses     292\n",
       "         Vintage Cars         543\n",
       "Name: ORDERLINENUMBER, dtype: int64"
      ]
     },
     "execution_count": 135,
     "metadata": {},
     "output_type": "execute_result"
    }
   ],
   "source": [
    "sales.groupby(['YEAR_ID', 'PRODUCTLINE'])['ORDERLINENUMBER'].sum()"
   ]
  },
  {
   "attachments": {},
   "cell_type": "markdown",
   "metadata": {},
   "source": [
    "### Question 12 (2.5 points)\n",
    "Q12. Suppose that we have a DataFrame that contains two columns: group IDs, 'ID', and values as 'valuess'. Replace any negative values in 'valuess' with the group mean. Modify the dataframe.\n",
    "\n",
    "group_id = [1,2,3,4,2,1,1,2,2,3,4,4,2,3,1,4]\n",
    "\n",
    "values = [1,2,-3,-2,-7,6,-8,5,9,12,11,-1,6,8,9,0]\n",
    "\n",
    "q12_df = pd.DataFrame( {'ID' : group_id, 'values': values})"
   ]
  },
  {
   "cell_type": "code",
   "execution_count": 196,
   "metadata": {},
   "outputs": [],
   "source": [
    "group_id = [1,2,3,4,2,1,1,2,2,3,4,4,2,3,1,4]\n",
    "\n",
    "values = [1,2,-3,-2,-7,6,-8,5,9,12,11,-1,6,8,9,0]\n",
    "\n",
    "q12_df = pd.DataFrame( {'ID' : group_id, 'values': values})\n",
    "\n",
    "means = q12_df.groupby('ID').mean().values\n",
    "\n",
    "q12_df.replace(q12_df.query('ID == 1 and values < 0')['values'], means[0][0], inplace=True)\n",
    "q12_df.replace(q12_df.query('ID == 2 and values < 0')['values'], means[1][0], inplace=True)\n",
    "q12_df.replace(q12_df.query('ID == 3 and values < 0')['values'], means[2][0], inplace=True)\n",
    "q12_df.replace(q12_df.query('ID == 4 and values < 0')['values'], means[3][0], inplace=True)"
   ]
  },
  {
   "attachments": {},
   "cell_type": "markdown",
   "metadata": {},
   "source": [
    "### Question 13 (2 points)\n",
    "Q13. Create a DateTimeIndex consisting of the second Friday in each month for the years 2018 and 2019. Call it q17_df."
   ]
  },
  {
   "cell_type": "code",
   "execution_count": 20,
   "metadata": {},
   "outputs": [
    {
     "data": {
      "text/plain": [
       "DatetimeIndex(['2015-01-09', '2015-02-13', '2015-03-13', '2015-04-10',\n",
       "               '2015-05-08', '2015-06-12', '2015-07-10', '2015-08-14',\n",
       "               '2015-09-11', '2015-10-09', '2015-11-13', '2015-12-11',\n",
       "               '2016-01-08', '2016-02-12', '2016-03-11', '2016-04-08',\n",
       "               '2016-05-13', '2016-06-10', '2016-07-08', '2016-08-12',\n",
       "               '2016-09-09', '2016-10-14', '2016-11-11', '2016-12-09'],\n",
       "              dtype='datetime64[ns]', freq='WOM-2FRI')"
      ]
     },
     "execution_count": 20,
     "metadata": {},
     "output_type": "execute_result"
    }
   ],
   "source": []
  },
  {
   "attachments": {},
   "cell_type": "markdown",
   "metadata": {},
   "source": [
    "### Question 14 (2 points)\n",
    "Q14. Slice the Series s; slice up to label 'B' for the first level and from label 5 onwards for the second level. It should include data from 'A' and 'B' index and index 5 to 9 (inclusive)."
   ]
  },
  {
   "cell_type": "code",
   "execution_count": 180,
   "metadata": {},
   "outputs": [
    {
     "data": {
      "text/plain": [
       "A  0    0.852636\n",
       "   1    0.291975\n",
       "   2    0.257290\n",
       "   3    0.567549\n",
       "   4    0.710103\n",
       "   5    0.378544\n",
       "   6    0.536839\n",
       "   7    0.363999\n",
       "   8    0.630400\n",
       "   9    0.184784\n",
       "B  0    0.338120\n",
       "   1    0.230423\n",
       "   2    0.301794\n",
       "   3    0.305725\n",
       "   4    0.997096\n",
       "   5    0.579600\n",
       "   6    0.057559\n",
       "   7    0.801852\n",
       "   8    0.021397\n",
       "   9    0.811478\n",
       "C  0    0.485714\n",
       "   1    0.361833\n",
       "   2    0.133366\n",
       "   3    0.878530\n",
       "   4    0.300470\n",
       "   5    0.736730\n",
       "   6    0.092022\n",
       "   7    0.247078\n",
       "   8    0.987490\n",
       "   9    0.664564\n",
       "dtype: float64"
      ]
     },
     "execution_count": 180,
     "metadata": {},
     "output_type": "execute_result"
    }
   ],
   "source": [
    "letters = ['A', 'B', 'C']\n",
    "numbers = list(range(10))\n",
    "\n",
    "mi = pd.MultiIndex.from_product([letters, numbers])\n",
    "s = pd.Series(np.random.rand(30), index=mi)\n",
    "\n",
    "s"
   ]
  },
  {
   "cell_type": "code",
   "execution_count": 194,
   "metadata": {},
   "outputs": [
    {
     "data": {
      "text/plain": [
       "A  0    0.852636\n",
       "   1    0.291975\n",
       "   2    0.257290\n",
       "   3    0.567549\n",
       "   4    0.710103\n",
       "   5    0.378544\n",
       "   6    0.536839\n",
       "   7    0.363999\n",
       "   8    0.630400\n",
       "   9    0.184784\n",
       "B  0    0.338120\n",
       "   1    0.230423\n",
       "   2    0.301794\n",
       "   3    0.305725\n",
       "   4    0.997096\n",
       "   5    0.579600\n",
       "   6    0.057559\n",
       "   7    0.801852\n",
       "   8    0.021397\n",
       "   9    0.811478\n",
       "dtype: float64"
      ]
     },
     "execution_count": 194,
     "metadata": {},
     "output_type": "execute_result"
    }
   ],
   "source": [
    "s[['A','B']]"
   ]
  }
 ],
 "metadata": {
  "kernelspec": {
   "display_name": "Python 3 (ipykernel)",
   "language": "python",
   "name": "python3"
  },
  "language_info": {
   "codemirror_mode": {
    "name": "ipython",
    "version": 3
   },
   "file_extension": ".py",
   "mimetype": "text/x-python",
   "name": "python",
   "nbconvert_exporter": "python",
   "pygments_lexer": "ipython3",
   "version": "3.10.12"
  }
 },
 "nbformat": 4,
 "nbformat_minor": 4
}
