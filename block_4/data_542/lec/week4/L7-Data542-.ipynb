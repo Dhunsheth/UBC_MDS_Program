{
 "cells": [
  {
   "cell_type": "code",
   "execution_count": 1,
   "metadata": {},
   "outputs": [],
   "source": [
    "import pandas as pd\n",
    "import numpy as np"
   ]
  },
  {
   "cell_type": "markdown",
   "metadata": {},
   "source": [
    "## Datetime"
   ]
  },
  {
   "cell_type": "code",
   "execution_count": 1,
   "metadata": {},
   "outputs": [],
   "source": [
    "from  datetime  import  datetime\n",
    "#now = datetime.now()\n",
    "#now"
   ]
  },
  {
   "cell_type": "code",
   "execution_count": 2,
   "metadata": {},
   "outputs": [],
   "source": [
    "#now.year"
   ]
  },
  {
   "cell_type": "code",
   "execution_count": 16,
   "metadata": {},
   "outputs": [],
   "source": [
    "#delta  =  datetime ( 2018 ,  12 ,  11 )  -  datetime ( 2018 ,  9 ,  1 ,  8 ,  15 )"
   ]
  },
  {
   "cell_type": "code",
   "execution_count": 3,
   "metadata": {},
   "outputs": [],
   "source": [
    "#delta.days"
   ]
  },
  {
   "cell_type": "code",
   "execution_count": 4,
   "metadata": {},
   "outputs": [],
   "source": [
    "#delta.seconds"
   ]
  },
  {
   "cell_type": "markdown",
   "metadata": {},
   "source": [
    "## timedelta"
   ]
  },
  {
   "cell_type": "code",
   "execution_count": 5,
   "metadata": {},
   "outputs": [],
   "source": [
    "from  datetime  import  timedelta\n",
    "#start  =  datetime ( 2018 ,  9 ,  1 )\n",
    "\n",
    "# Use arithmetics on time\n",
    "#start  +  timedelta ( 101 )"
   ]
  },
  {
   "cell_type": "markdown",
   "metadata": {},
   "source": [
    "## Converting Between String and Datetime"
   ]
  },
  {
   "cell_type": "code",
   "execution_count": 6,
   "metadata": {},
   "outputs": [],
   "source": [
    "#stamp = datetime(2019, 12, 21)\n",
    "#str(stamp)"
   ]
  },
  {
   "cell_type": "code",
   "execution_count": 7,
   "metadata": {},
   "outputs": [],
   "source": [
    "#stamp.strftime('%Y- %m- %d')"
   ]
  },
  {
   "cell_type": "code",
   "execution_count": 8,
   "metadata": {},
   "outputs": [],
   "source": [
    "#stamp.strftime('%Y- %d- %m')"
   ]
  },
  {
   "cell_type": "code",
   "execution_count": 9,
   "metadata": {},
   "outputs": [],
   "source": [
    "#value  =  '2011-01-03'\n",
    "#datetime.strptime(value ,'%Y-%m-%d')"
   ]
  },
  {
   "cell_type": "code",
   "execution_count": 10,
   "metadata": {},
   "outputs": [],
   "source": [
    "#datestrs = '7/6/2011'\n",
    "#datetime.strptime (datestrs, '%m/%d/%Y')"
   ]
  },
  {
   "cell_type": "markdown",
   "metadata": {},
   "source": [
    "### parsing strings to time"
   ]
  },
  {
   "cell_type": "code",
   "execution_count": 11,
   "metadata": {},
   "outputs": [],
   "source": [
    "from  dateutil.parser  import  parse\n",
    "#parse ( '2011-01-03' )"
   ]
  },
  {
   "cell_type": "code",
   "execution_count": 12,
   "metadata": {},
   "outputs": [],
   "source": [
    "#parse ( 'Jan 31, 1997 10:45 PM' )"
   ]
  },
  {
   "cell_type": "code",
   "execution_count": 13,
   "metadata": {},
   "outputs": [],
   "source": [
    "#parse ( '6/12/2011' ,  dayfirst = True )"
   ]
  },
  {
   "cell_type": "markdown",
   "metadata": {},
   "source": [
    "**Issue with the parse() from python dateutil**"
   ]
  },
  {
   "cell_type": "code",
   "execution_count": 14,
   "metadata": {},
   "outputs": [],
   "source": [
    "#parse ( '42-01-03' )"
   ]
  },
  {
   "cell_type": "markdown",
   "metadata": {},
   "source": [
    "## Pandas datetime "
   ]
  },
  {
   "cell_type": "code",
   "execution_count": 15,
   "metadata": {},
   "outputs": [],
   "source": [
    "#datestrs  =  [ '2011-07-06 12:00:00' ,  '2011-08-06 00:00:00' , None]\n",
    "#idx = pd.to_datetime ( datestrs )\n",
    "#idx"
   ]
  },
  {
   "cell_type": "code",
   "execution_count": 16,
   "metadata": {},
   "outputs": [],
   "source": [
    "#idx[2]"
   ]
  },
  {
   "cell_type": "code",
   "execution_count": 17,
   "metadata": {},
   "outputs": [],
   "source": [
    "#idx.isnull()"
   ]
  },
  {
   "cell_type": "markdown",
   "metadata": {},
   "source": [
    "## Time Series"
   ]
  },
  {
   "cell_type": "code",
   "execution_count": 43,
   "metadata": {},
   "outputs": [],
   "source": [
    "dates = [datetime(2011,1,2),datetime(2011,1,5 ),datetime(2011, 1 ,7 ),\n",
    "         datetime(2011,1,8),datetime(2011,1,10),datetime(2011,1,12)]"
   ]
  },
  {
   "cell_type": "code",
   "execution_count": 18,
   "metadata": {},
   "outputs": [],
   "source": [
    "#ts  =  pd.Series ( np.random.randn(6), index = dates )\n",
    "#ts"
   ]
  },
  {
   "cell_type": "markdown",
   "metadata": {},
   "source": [
    "Under the hood, these datetime  objects have been put in a DatetimeIndex"
   ]
  },
  {
   "cell_type": "code",
   "execution_count": 19,
   "metadata": {},
   "outputs": [],
   "source": [
    "#ts.index"
   ]
  },
  {
   "cell_type": "markdown",
   "metadata": {},
   "source": [
    "Arithmetic operations between differently indexed time series auto‐ matically align on the dates"
   ]
  },
  {
   "cell_type": "code",
   "execution_count": 20,
   "metadata": {},
   "outputs": [],
   "source": [
    "#ts  +  ts [:: 2 ]"
   ]
  },
  {
   "cell_type": "markdown",
   "metadata": {},
   "source": [
    "## Slicing time series"
   ]
  },
  {
   "cell_type": "code",
   "execution_count": 21,
   "metadata": {},
   "outputs": [],
   "source": [
    "#ts [ '1/10/2011' ]"
   ]
  },
  {
   "cell_type": "code",
   "execution_count": 22,
   "metadata": {},
   "outputs": [],
   "source": [
    "#ts [ '20110110' ]"
   ]
  },
  {
   "cell_type": "code",
   "execution_count": 55,
   "metadata": {},
   "outputs": [],
   "source": [
    "#longer_ts  =  pd.Series ( np . random . randn ( 1000 ), \n",
    "#                           index = pd . date_range ( '1/1/2000' ,  periods = 1000 ))"
   ]
  },
  {
   "cell_type": "code",
   "execution_count": 23,
   "metadata": {},
   "outputs": [],
   "source": [
    "#longer_ts.tail(5)"
   ]
  },
  {
   "cell_type": "code",
   "execution_count": 24,
   "metadata": {},
   "outputs": [],
   "source": [
    "#longer_ts['2001']"
   ]
  },
  {
   "cell_type": "code",
   "execution_count": 25,
   "metadata": {},
   "outputs": [],
   "source": [
    "#longer_ts['2002-02']"
   ]
  },
  {
   "cell_type": "code",
   "execution_count": 26,
   "metadata": {},
   "outputs": [],
   "source": [
    "#longer_ts[datetime(2002,9,15):]"
   ]
  },
  {
   "cell_type": "code",
   "execution_count": 27,
   "metadata": {},
   "outputs": [],
   "source": [
    "#longer_ts['2002-9-9':'2002/9/20']"
   ]
  },
  {
   "cell_type": "markdown",
   "metadata": {},
   "source": [
    "## Time series on dataframes"
   ]
  },
  {
   "cell_type": "code",
   "execution_count": 29,
   "metadata": {},
   "outputs": [],
   "source": [
    "#dates2 = pd.date_range('1,1,2019', periods=100 , freq='W-TUE')\n",
    "#dates2"
   ]
  },
  {
   "cell_type": "code",
   "execution_count": 70,
   "metadata": {},
   "outputs": [],
   "source": [
    "long_df = pd.DataFrame(np.random.rand(100,4), \n",
    "                      index = dates2, \n",
    "                      columns = ['BC', 'AB', 'ON', 'QC'])"
   ]
  },
  {
   "cell_type": "code",
   "execution_count": 30,
   "metadata": {},
   "outputs": [],
   "source": [
    "#long_df.truncate(after = '1/2/2020')"
   ]
  },
  {
   "cell_type": "code",
   "execution_count": 31,
   "metadata": {},
   "outputs": [],
   "source": [
    "#long_df.loc['2020/5']"
   ]
  },
  {
   "cell_type": "code",
   "execution_count": 32,
   "metadata": {},
   "outputs": [],
   "source": [
    "#long_df.loc['2020-5']"
   ]
  },
  {
   "cell_type": "code",
   "execution_count": 33,
   "metadata": {},
   "outputs": [],
   "source": [
    "#long_df.loc['5-2020']"
   ]
  },
  {
   "cell_type": "markdown",
   "metadata": {},
   "source": [
    "## Frequencsies, daterange() and date offset"
   ]
  },
  {
   "cell_type": "code",
   "execution_count": 34,
   "metadata": {},
   "outputs": [],
   "source": [
    "#pd.date_range('2014-5-1', '2015/4/1')"
   ]
  },
  {
   "cell_type": "code",
   "execution_count": 35,
   "metadata": {},
   "outputs": [],
   "source": [
    "#pd.date_range(start = '2014-5-1', periods = 20)"
   ]
  },
  {
   "cell_type": "code",
   "execution_count": 36,
   "metadata": {},
   "outputs": [],
   "source": [
    "#pd.date_range(end = '2014-5-1 12:54:21', periods = 20)"
   ]
  },
  {
   "cell_type": "code",
   "execution_count": 37,
   "metadata": {},
   "outputs": [],
   "source": [
    "# the 'BM' in freq is refered to as time series frequencies\n",
    "#pd.date_range('2014-5-1', '2015/4/1', freq='BM')"
   ]
  },
  {
   "cell_type": "code",
   "execution_count": 93,
   "metadata": {},
   "outputs": [],
   "source": [
    "from pandas.tseries.offsets import Hour, Minute\n"
   ]
  },
  {
   "cell_type": "code",
   "execution_count": 38,
   "metadata": {},
   "outputs": [],
   "source": [
    "#hour = Hour()\n",
    "#hour"
   ]
  },
  {
   "cell_type": "code",
   "execution_count": 39,
   "metadata": {},
   "outputs": [],
   "source": [
    "#four_hour = Hour(4)\n",
    "#four_hour"
   ]
  },
  {
   "cell_type": "code",
   "execution_count": 40,
   "metadata": {},
   "outputs": [],
   "source": [
    "#pd.date_range('2014-5-1', '2014/5/2', freq='4H')"
   ]
  },
  {
   "cell_type": "code",
   "execution_count": 41,
   "metadata": {},
   "outputs": [],
   "source": [
    "#pd.date_range('2014-5-1', '2014/5/2', freq='1H30Min')"
   ]
  },
  {
   "cell_type": "markdown",
   "metadata": {},
   "source": [
    "### week of month \n",
    "For example third friday of each month"
   ]
  },
  {
   "cell_type": "code",
   "execution_count": 42,
   "metadata": {},
   "outputs": [],
   "source": [
    "#pd.date_range('2014-5-1', '2015/5/2', freq='WOM-3FRI')"
   ]
  },
  {
   "cell_type": "markdown",
   "metadata": {},
   "source": [
    "## Shifting and lagging"
   ]
  },
  {
   "cell_type": "code",
   "execution_count": 44,
   "metadata": {},
   "outputs": [],
   "source": [
    "#df2 = pd.DataFrame(np.random.rand(10,4), \n",
    " #                     index = pd.date_range('1/1/2000', periods=10, freq='M'), \n",
    "  #                    columns = ['BC', 'AB', 'ON', 'QC'])\n",
    "#df2"
   ]
  },
  {
   "cell_type": "code",
   "execution_count": 45,
   "metadata": {},
   "outputs": [],
   "source": [
    "#df2.shift(2)"
   ]
  },
  {
   "cell_type": "code",
   "execution_count": 46,
   "metadata": {},
   "outputs": [],
   "source": [
    "#df2.shift(2, freq='M')"
   ]
  },
  {
   "cell_type": "code",
   "execution_count": 47,
   "metadata": {},
   "outputs": [],
   "source": [
    "#df2\n"
   ]
  },
  {
   "cell_type": "code",
   "execution_count": 48,
   "metadata": {},
   "outputs": [],
   "source": [
    "#df2.shift(2, freq='D')"
   ]
  },
  {
   "cell_type": "markdown",
   "metadata": {},
   "source": [
    "## Resampling"
   ]
  },
  {
   "cell_type": "code",
   "execution_count": 49,
   "metadata": {},
   "outputs": [],
   "source": [
    "#df3 = pd.DataFrame(np.random.rand(100,4), \n",
    " #                     index = pd.date_range('1/1/2000', periods=100, freq='D'), \n",
    "  #                    columns = ['BC', 'AB', 'ON', 'QC'])\n",
    "#df3.head(4)"
   ]
  },
  {
   "cell_type": "code",
   "execution_count": 50,
   "metadata": {},
   "outputs": [],
   "source": [
    "#df3.resample('M').mean()"
   ]
  },
  {
   "cell_type": "markdown",
   "metadata": {},
   "source": [
    "## Aggregation"
   ]
  },
  {
   "cell_type": "code",
   "execution_count": 51,
   "metadata": {},
   "outputs": [],
   "source": [
    "#df4 = pd.DataFrame(np.arange(100), \n",
    " #                     index = pd.date_range('1/1/2000', periods=100, freq='T'), \n",
    "  #                    columns = ['BC'])\n",
    "#df4.head(8)"
   ]
  },
  {
   "cell_type": "code",
   "execution_count": 52,
   "metadata": {},
   "outputs": [],
   "source": [
    "#df4.resample('5Min', closed='right').sum()"
   ]
  },
  {
   "cell_type": "markdown",
   "metadata": {},
   "source": [
    "# Example\n",
    "\n",
    "This example is from \n",
    "\n",
    "https://www.datacamp.com/community/tutorials/converting-strings-datetime-objects\n",
    "\n",
    "eth that contains some historical data on ether, a cryptocurrency whose blockchain is generated by the Ethereum platform. Your dataset has the following columns:\n",
    " \n",
    "date: Date, daily at 00:00 UTC.\n",
    "\n",
    "txVolume: Unadjusted measure of the total value, in US dollars, of outputs on the blockchain.\n",
    "\n",
    "txCount: Number of transactions happening on the public blockchain.\n",
    "\n",
    "marketCap: Unit price in US dollars multiplied by the number of units in circulation.\n",
    "\n",
    "price: Opening price in US dollars at 00:00 UTC.\n",
    "\n",
    "generatedCoins: Number of new coins that have been mined into existence.\n",
    "\n",
    "exchangeVolume: The volume, measured by US dollars, at exchanges like GDAX and Bitfinex.\n",
    "\n",
    "Read the dataset:"
   ]
  },
  {
   "cell_type": "code",
   "execution_count": null,
   "metadata": {},
   "outputs": [],
   "source": []
  },
  {
   "cell_type": "markdown",
   "metadata": {},
   "source": [
    "And let's confirm that the date column needs to be converted:\n"
   ]
  },
  {
   "cell_type": "code",
   "execution_count": null,
   "metadata": {},
   "outputs": [],
   "source": []
  },
  {
   "cell_type": "markdown",
   "metadata": {},
   "source": [
    "change the date column to datetime"
   ]
  },
  {
   "cell_type": "code",
   "execution_count": null,
   "metadata": {},
   "outputs": [],
   "source": []
  },
  {
   "cell_type": "markdown",
   "metadata": {},
   "source": [
    "Now that you have datetime objects as your date column, you can extract specific components of the date such as the month, day, or year, all of which are available as the object's attributes:"
   ]
  },
  {
   "cell_type": "code",
   "execution_count": 53,
   "metadata": {},
   "outputs": [],
   "source": [
    "#print(eth['date'][0].month)\n",
    "#print the day of the same record\n",
    "#print the year of the same record"
   ]
  },
  {
   "cell_type": "markdown",
   "metadata": {},
   "source": [
    "Date attributes are frequently used to group data by a particular time frame. For example, you can see how many ethers were generated on a yearly basis:"
   ]
  },
  {
   "cell_type": "code",
   "execution_count": null,
   "metadata": {},
   "outputs": [],
   "source": [
    "\n",
    "%matplotlib inline\n",
    "from collections import defaultdict\n",
    "import matplotlib.pyplot as plt\n",
    "\n",
    "# Initialize defaultdict of type float\n",
    "yearly_total_coins = defaultdict(float)\n",
    "\n",
    "# Loop over the rows of eth\n",
    "for day in eth.iterrows():\n",
    "    # Get the date\n",
    "    dates = day[1][0]\n",
    "\n",
    "    # Get the number of coins generated\n",
    "    num_coins = day[1][5]\n",
    "\n",
    "    # Add the total number of coins to the current value for the year\n",
    "    yearly_total_coins[dates.year] += num_coins\n",
    "\n",
    "# Print yearly_total_coins\n",
    "print(yearly_total_coins)\n",
    "\n",
    "# Visualize aggregated data\n",
    "plt.bar(range(len(yearly_total_coins)), list(yearly_total_coins.values()), align='center')\n",
    "plt.xticks(range(len(yearly_total_coins)), list(yearly_total_coins.keys()))\n",
    "plt.title('# of ethers generated by year')\n",
    "plt.show()\n",
    "\n"
   ]
  }
 ],
 "metadata": {
  "kernelspec": {
   "display_name": "Python 3",
   "language": "python",
   "name": "python3"
  },
  "language_info": {
   "codemirror_mode": {
    "name": "ipython",
    "version": 3
   },
   "file_extension": ".py",
   "mimetype": "text/x-python",
   "name": "python",
   "nbconvert_exporter": "python",
   "pygments_lexer": "ipython3",
   "version": "3.7.3"
  }
 },
 "nbformat": 4,
 "nbformat_minor": 2
}
