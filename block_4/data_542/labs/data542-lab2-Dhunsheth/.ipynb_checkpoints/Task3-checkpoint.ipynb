{
 "cells": [
  {
   "cell_type": "markdown",
   "id": "053b7c65-9742-4cf0-b691-00183105e565",
   "metadata": {
    "tags": []
   },
   "source": [
    "# Task 3\n",
    "---"
   ]
  },
  {
   "cell_type": "markdown",
   "id": "fade4d55-5c8b-4a7b-8376-7321f545c311",
   "metadata": {
    "nbgrader": {
     "grade": false,
     "grade_id": "cell-6cd0b7f72a4c69db",
     "locked": true,
     "schema_version": 3,
     "solution": false,
     "task": false
    }
   },
   "source": [
    "In Task 2, you performed some basic Pandas operations on the Gapminder dataset. However, this dataset was given to you clean and shiny and ready-to-go. In the real world, that's rarely the case, and in this exercise you'll have to clean up a \"dirty\" version of the Gapminder dataset.\n",
    "\n",
    "Your goal is to load in \"dirty Gapminder\" as a dataframe called `dirty` and \"clean Gapminder\" as a dataframe called `clean`, and wrangle `dirty` until it is the same as `clean`:\n",
    "- [Dirty Gapminder](https://raw.githubusercontent.com/STAT545-UBC/STAT545-UBC.github.io/master/gapminderDataFiveYear_dirty.txt)\n",
    "- [Clean Gapminder](https://raw.githubusercontent.com/STAT545-UBC/STAT545-UBC.github.io/master/gapminderDataFiveYear.txt)\n",
    "\n",
    "A test has been provided to check that `dirty` is the same as `clean`. Things you might want to do to clean up `dirty`:\n",
    "\n",
    "- Check that `dirty` and `clean` have the same columns;\n",
    "- Check if there is any missing data, if there is missing data (NaNs or empty strings) fill them with sensible values;\n",
    "- Check for things like capitalization, spelling, etc;\n",
    "- There may be entries that appear to have the exact same spelling and capitalization in both `dirty` and `clean`, but still don't match... Extra whitespace is often a frustrating (and invisible) problem when wrangling text data. You can use `Series.str.strip()` to trim any additional unwanted whitespace around a string.\n",
    "- At any time, you can check which rows in `dirty` are not equal to `clean` using something like: `dirty[dirty.ne(clean).any(axis=1)]`."
   ]
  },
  {
   "cell_type": "code",
   "execution_count": 1,
   "id": "10804107-778c-446b-b50b-40da773b1508",
   "metadata": {},
   "outputs": [],
   "source": [
    "import pandas as pd"
   ]
  },
  {
   "cell_type": "code",
   "execution_count": 4,
   "id": "e84b1d34-d91b-4fc0-8b68-683ae39372a8",
   "metadata": {},
   "outputs": [
    {
     "name": "stdout",
     "output_type": "stream",
     "text": [
      "Index(['year', 'pop', 'lifeExp', 'gdpPercap', 'region'], dtype='object')\n",
      "Index(['country', 'year', 'pop', 'continent', 'lifeExp', 'gdpPercap'], dtype='object')\n",
      "Index(['country', 'year', 'pop', 'continent', 'lifeExp', 'gdpPercap'], dtype='object')\n",
      "Index(['country', 'year', 'pop', 'continent', 'lifeExp', 'gdpPercap'], dtype='object')\n",
      "country      False\n",
      "year         False\n",
      "pop          False\n",
      "continent    False\n",
      "lifeExp      False\n",
      "gdpPercap    False\n",
      "dtype: bool\n",
      "country      False\n",
      "year         False\n",
      "pop          False\n",
      "continent    False\n",
      "lifeExp      False\n",
      "gdpPercap    False\n",
      "dtype: bool\n",
      "country      False\n",
      "year         False\n",
      "pop          False\n",
      "continent     True\n",
      "lifeExp      False\n",
      "gdpPercap    False\n",
      "dtype: bool\n",
      "Empty DataFrame\n",
      "Columns: [country, year, pop, continent, lifeExp, gdpPercap]\n",
      "Index: []\n"
     ]
    },
    {
     "name": "stderr",
     "output_type": "stream",
     "text": [
      "/tmp/ipykernel_3069/3215398363.py:26: FutureWarning: DataFrame.applymap has been deprecated. Use DataFrame.map instead.\n",
      "  print((dirty.applymap(lambda x: x == ' ')).any())\n",
      "/tmp/ipykernel_3069/3215398363.py:27: FutureWarning: DataFrame.applymap has been deprecated. Use DataFrame.map instead.\n",
      "  print((dirty.applymap(lambda x: x == '')).any())\n"
     ]
    }
   ],
   "source": [
    "# Your solution here\n",
    "dirty = pd.read_csv('https://raw.githubusercontent.com/STAT545-UBC/STAT545-UBC.github.io/master/gapminderDataFiveYear_dirty.txt', sep='\\t')\n",
    "clean = pd.read_csv('https://raw.githubusercontent.com/STAT545-UBC/STAT545-UBC.github.io/master/gapminderDataFiveYear.txt', sep='\\t')\n",
    "\n",
    "print(dirty.columns)\n",
    "print(clean.columns)\n",
    "\n",
    "country = []\n",
    "continent = []\n",
    "for i in dirty['region'].values:\n",
    "    p = i.split('_')\n",
    "    continent.append(p[0].strip())\n",
    "    country.append(p[1].strip())\n",
    "\n",
    "dirty['country'] = country\n",
    "dirty['continent'] = continent\n",
    "\n",
    "dirty = dirty[['country', 'year', 'pop', 'continent', 'lifeExp', 'gdpPercap']]\n",
    "\n",
    "# Columns are the same\n",
    "print(dirty.columns)\n",
    "print(clean.columns)\n",
    "\n",
    "# Nan or empty\n",
    "print(dirty.isna().any())\n",
    "print((dirty.applymap(lambda x: x == ' ')).any())\n",
    "print((dirty.applymap(lambda x: x == '')).any())\n",
    "\n",
    "dirty['country'] = dirty['country'].replace('china', 'China')\n",
    "dirty['country'] = dirty['country'].replace('Central african republic', 'Central African Republic')\n",
    "dirty['country'] = dirty['country'].replace('Democratic Republic of the Congo', 'Congo, Dem. Rep.')\n",
    "dirty['country'] = dirty['country'].replace('Congo, Democratic Republic', 'Congo, Dem. Rep.')\n",
    "dirty['country'] = dirty['country'].replace(\"Cote d'Ivore\", \"Cote d'Ivoire\")\n",
    "dirty['continent'] = dirty['continent'].replace(\"\", \"Americas\")\n",
    "\n",
    "print(dirty[dirty.ne(clean).any(axis=1)])"
   ]
  }
 ],
 "metadata": {
  "kernelspec": {
   "display_name": "Python 3 (ipykernel)",
   "language": "python",
   "name": "python3"
  },
  "language_info": {
   "codemirror_mode": {
    "name": "ipython",
    "version": 3
   },
   "file_extension": ".py",
   "mimetype": "text/x-python",
   "name": "python",
   "nbconvert_exporter": "python",
   "pygments_lexer": "ipython3",
   "version": "3.10.12"
  }
 },
 "nbformat": 4,
 "nbformat_minor": 5
}
