{
 "cells": [
  {
   "cell_type": "markdown",
   "id": "0ec89a8d-4ff0-4906-a6a4-65f572ff6488",
   "metadata": {},
   "source": [
    "## Task 2: Using `numpy` with `random`\n",
    "\n",
    "In this section, we will practice using the `numpy` library.\n",
    "First, import the `numpy` library\n",
    "\n",
    "```\n",
    "import numpy as np\n",
    "```\n"
   ]
  },
  {
   "cell_type": "code",
   "execution_count": 1,
   "id": "c50e2a7d-866f-4e67-9b5c-8f17e0fec544",
   "metadata": {},
   "outputs": [],
   "source": [
    "# Your Solution here\n",
    "import numpy as np"
   ]
  },
  {
   "cell_type": "markdown",
   "id": "eabe50bb-2156-4bec-b886-6f9e28aa52ab",
   "metadata": {},
   "source": [
    "### 2.1: Create a vector\n",
    "\n",
    "**Task: Create an empty vector of size 10 filled with NaN.**\n",
    "\n",
    "*Hint: you need to use [`zeros()` method](https://numpy.org/doc/stable/reference/generated/numpy.zeros.html) or the [`empty()` method](https://numpy.org/doc/stable/reference/generated/numpy.empty.html?highlight=empty#numpy.empty)*"
   ]
  },
  {
   "cell_type": "code",
   "execution_count": 15,
   "id": "69f89096-d8cf-4423-9e51-c6525fb8fffa",
   "metadata": {},
   "outputs": [
    {
     "data": {
      "text/plain": [
       "array([nan, nan, nan, nan, nan, nan, nan, nan, nan, nan])"
      ]
     },
     "execution_count": 15,
     "metadata": {},
     "output_type": "execute_result"
    }
   ],
   "source": [
    "# Your Solution here\n",
    "a = np.full(10, np.NaN)\n",
    "a"
   ]
  },
  {
   "cell_type": "markdown",
   "id": "e770faa5-6059-4277-bd94-5356c49b0339",
   "metadata": {},
   "source": [
    "### 2.2: Working with Vectors\n",
    "\n",
    "**Task: Create a random vector of size 10 and then find its mean, max, min, and sum value.**\n",
    "\n",
    "*Hint: for random vector you need to use `np.random.random()` and for the mean, max, min, sum you need to use build-in numpy methods `mean()`,`max()`,`min()`,`sum()`*.\n",
    "\n",
    "#### Sample output (Your numbers will be different)\n",
    "\n",
    ">[0.66698639 0.32937943 0.12074085 0.21788496 0.75628444 0.56461791\n",
    " 0.38162184 0.60966053 0.00491222 0.80007239]<br/>\n",
    ">The max is: 0.800<br/>\n",
    ">The min is: 0.005<br/>\n",
    ">The sum is: 4.452<br/>\n",
    ">The mean is: 0.445<br/>"
   ]
  },
  {
   "cell_type": "code",
   "execution_count": 21,
   "id": "9b637c65-095a-4af4-98a5-783783954c1f",
   "metadata": {},
   "outputs": [
    {
     "name": "stdout",
     "output_type": "stream",
     "text": [
      "[0.62731498 0.70660936 0.33754543 0.32018301 0.43026119 0.95437389\n",
      " 0.36322218 0.74153507 0.37471974 0.78567102]\n",
      "The max is:  0.9543738887860065\n",
      "The min is:  0.3201830072450854\n",
      "The sum  is:  5.6414358679920475\n",
      "The mean is:  0.5641435867992047\n"
     ]
    }
   ],
   "source": [
    "# Your Solution Here\n",
    "rand_vect = np.random.random(10)\n",
    "vect_mean = np.mean(rand_vect)\n",
    "vect_max = np.max(rand_vect)\n",
    "vect_min = np.min(rand_vect)\n",
    "vect_sum = np.sum(rand_vect)\n",
    "print(rand_vect)\n",
    "print(\"The max is: \", vect_max)\n",
    "print(\"The min is: \", vect_min)\n",
    "print(\"The sum  is: \", vect_sum)\n",
    "print(\"The mean is: \", vect_mean)"
   ]
  },
  {
   "cell_type": "markdown",
   "id": "15252ec5-df44-493a-bc81-c8acefcefa7a",
   "metadata": {},
   "source": [
    "### 2.4: More vectors\n",
    "\n",
    "**Task: This is a multi-step question. Read all the directions before you start working on the question and plan out your solution.**\n",
    "\n",
    "- **First, using `numpy`, create a vector of size 15 which contains random values ranging from 10 to 90**\n",
    "- **Then, replace the maximum value of your vector with 500.**\n",
    "- **Then, replace and the minimum value with -500.**\n",
    "- **Print the list (sorted by ascending order) and its mean before replacement, as well as the sorted list after replacement with the new mean.**\n",
    "\n",
    "*Hint: To do this problem as intended, you may need to use the following numpy functions: [`copy()`](https://numpy.org/doc/stable/reference/generated/numpy.copy.html), [`sort()`](https://numpy.org/doc/stable/reference/generated/numpy.sort.html), [`argmax()`](https://numpy.org/doc/stable/reference/generated/numpy.argmax.html), and [`argmin()`](https://numpy.org/doc/stable/reference/generated/numpy.argmin.html). Also, don't forget about `f-strings` and triple-quoted strings for printing.*\n",
    "\n",
    "\n",
    "#### Sample output\n",
    "\n",
    "> **Before number replacement**\n",
    "> \n",
    "> vector: [12 14 14 19 22 25 25 28 28 35 45 47 68 69 73]\n",
    "> \n",
    "> vector_mean = 34.93\n",
    "> \n",
    "> **After number replacement**\n",
    "> \n",
    "> vector: [-500   14   14   19   22   25   25   28   28   35   45   47   68   69\n",
    ">   500]\n",
    "> \n",
    "> new_vector_mean = 29.27"
   ]
  },
  {
   "cell_type": "code",
   "execution_count": 59,
   "id": "0a6d8545-c058-48e0-9c99-c0e38ca81b6b",
   "metadata": {},
   "outputs": [
    {
     "name": "stdout",
     "output_type": "stream",
     "text": [
      "Vector:  [18 21 24 25 29 31 34 50 53 57 58 64 70 75 88]\n",
      "vector_mean:  46.46666666666667\n",
      "Vector after replacement:  [-500   21   24   25   29   31   34   50   53   57   58   64   70   75\n",
      "  500]\n",
      "vector_mean after replacement:  39.4\n"
     ]
    }
   ],
   "source": [
    "# Your solution here\n",
    "vect = np.random.uniform(10, 90, 15).astype(int)\n",
    "vect_copy = vect.copy()\n",
    "max_index = vect.argmax()\n",
    "vect_copy[max_index] = 500\n",
    "min_index = vect.argmin()\n",
    "vect_copy[min_index] = -500\n",
    "\n",
    "print(\"Vector: \", np.sort(vect))\n",
    "print(\"vector_mean: \", np.mean(vect))\n",
    "print(\"Vector after replacement: \", np.sort(vect_copy))\n",
    "print(\"vector_mean after replacement: \", np.mean(vect_copy))"
   ]
  }
 ],
 "metadata": {
  "kernelspec": {
   "display_name": "Python 3 (ipykernel)",
   "language": "python",
   "name": "python3"
  },
  "language_info": {
   "codemirror_mode": {
    "name": "ipython",
    "version": 3
   },
   "file_extension": ".py",
   "mimetype": "text/x-python",
   "name": "python",
   "nbconvert_exporter": "python",
   "pygments_lexer": "ipython3",
   "version": "3.10.12"
  }
 },
 "nbformat": 4,
 "nbformat_minor": 5
}
