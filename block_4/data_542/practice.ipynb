{
 "cells": [
  {
   "cell_type": "code",
   "execution_count": 1,
   "id": "ca751b78-d4e9-44ad-9fd1-a01ee662eadd",
   "metadata": {},
   "outputs": [],
   "source": [
    "import pandas as pd\n",
    "import numpy as np"
   ]
  },
  {
   "cell_type": "code",
   "execution_count": 24,
   "id": "ce914d51-6497-495c-88d4-f47b25bc5fd2",
   "metadata": {},
   "outputs": [],
   "source": [
    "%run 11.ipynb"
   ]
  },
  {
   "cell_type": "markdown",
   "id": "01f6a234-b8ab-449e-b966-fc67ff510f21",
   "metadata": {},
   "source": [
    "Lecture 1 Notes: Numpy arrays / operations"
   ]
  },
  {
   "cell_type": "code",
   "execution_count": 2,
   "id": "898ce94e-9930-4e94-ab88-3d8a09b80f70",
   "metadata": {},
   "outputs": [
    {
     "data": {
      "text/plain": [
       "array([0, 0, 0, 0, 0, 0, 0, 0, 0, 0])"
      ]
     },
     "execution_count": 2,
     "metadata": {},
     "output_type": "execute_result"
    }
   ],
   "source": [
    "# create a numpy arrary from scratch\n",
    "\n",
    "a = np.zeros(10, dtype=int)\n",
    "b = np.ones((2,3), dtype=int) # 2x3 matrix of ones\n",
    "c = np.full((2,3),3.14) # matrix size and specific number to fill it with\n",
    "d = np.arange(0,5,2) # range from 0 to 5, step size is 2\n",
    "e = np.linspace(0,2,5) # start from 0 to 2, have 5 numbers equally spaced between 0 and 2\n",
    "f = np.eye(3) # 3x3 identity matrix\n",
    "g = np.empty((2,3)) # 2 by 3 matrix - values will be whatever is at that memory location\n",
    "g.size # total elements in a numpy array - g\n",
    "g.shape # dimension of a numpy array - g\n",
    "g.ndim\n",
    "\n",
    "# Random integers in the interval [0, 10) (3 X 3 array)\n",
    "np.random.randint(0, 10, (3,3))\n",
    "\n",
    "vect = np.random.uniform(10, 90, 15).astype(int)\n",
    "\n",
    "### Array slicing  x[start:stop:step] -> for multi-dimensional sepearte with a comma x[:2, :3]\n",
    "\n",
    "g[:1,:2]\n",
    "\n",
    "### concatenate\n",
    "add = np.concatenate([b,c])\n",
    "\n",
    "### splitting\n",
    "x = [1, 2, 3, 99, 99, 3, 2, 1]\n",
    "x1, x2, x3 = np.split (x, [3,5])\n",
    "a"
   ]
  },
  {
   "cell_type": "markdown",
   "id": "b813c822-7784-48dd-bd0f-0202ec039d25",
   "metadata": {},
   "source": [
    "Lecture 1 practice"
   ]
  },
  {
   "cell_type": "code",
   "execution_count": 60,
   "id": "04e44edb-04b2-4da1-b186-042055e18de8",
   "metadata": {},
   "outputs": [
    {
     "data": {
      "text/plain": [
       "99"
      ]
     },
     "execution_count": 60,
     "metadata": {},
     "output_type": "execute_result"
    }
   ],
   "source": [
    "# Question 1\n",
    "p = np.random.random((3,4))\n",
    "o = np.full((3,4), 1)\n",
    "np.concatenate([p,o])\n",
    "\n",
    "# Question 2\n",
    "first = np.arange(2,11)\n",
    "second = np.random.randint(25,100, (9))\n",
    "third = first + second\n",
    "third.mean()\n",
    "third.sum()\n",
    "third.min()\n",
    "third.max()"
   ]
  },
  {
   "cell_type": "markdown",
   "id": "666c5459-24af-4f12-9046-a94f1ec5c713",
   "metadata": {},
   "source": [
    "Lecture 2 Notes: Pandas Dataframes, Indexing, Filtering, Selecting"
   ]
  },
  {
   "cell_type": "code",
   "execution_count": 85,
   "id": "6c7f170e-c371-4273-a0a8-e94a8ca17f11",
   "metadata": {},
   "outputs": [
    {
     "data": {
      "text/plain": [
       "array([[0.58421716, 0.17567651],\n",
       "       [0.81689102, 0.65718551],\n",
       "       [0.2108819 , 0.92063803]])"
      ]
     },
     "execution_count": 85,
     "metadata": {},
     "output_type": "execute_result"
    }
   ],
   "source": [
    "population_dict = {'California': 38332521, 'Texas': 26448193,\n",
    "'New York': 19651127, 'Florida': 19552860}\n",
    "population = pd.Series ( population_dict)\n",
    "\n",
    "population['Texas':'Florida']\n",
    "\n",
    "# data.loc[data.density > 100, ['population', 'area']] rows where density is > 100, and select columns population and area\n",
    "\n",
    "my_list  = [2, 3, '2', 5,'me']\n",
    "index = ['i', 'j', 'k', 2, 3]\n",
    "data = pd.Series(my_list , index)\n",
    "\n",
    "\n",
    "df = pd.DataFrame(np.random.rand (3, 2), columns=['foo', 'bar'], index=['a', 'b', 'c'])\n",
    "df.index\n",
    "df.columns\n",
    "df.values\n",
    "\n"
   ]
  },
  {
   "cell_type": "markdown",
   "id": "ecc6245b-e070-4394-a27e-5bba4348b1a7",
   "metadata": {},
   "source": [
    "Lecture 3 Notes: Data Profiling / Cleaning, \n",
    "Handling Missing Values"
   ]
  },
  {
   "cell_type": "code",
   "execution_count": 96,
   "id": "bda55080-7bc1-4c2c-a9f3-5cb9513674c9",
   "metadata": {},
   "outputs": [
    {
     "name": "stdout",
     "output_type": "stream",
     "text": [
      "<class 'pandas.core.frame.DataFrame'>\n",
      "Index: 3 entries, a to c\n",
      "Data columns (total 2 columns):\n",
      " #   Column  Non-Null Count  Dtype  \n",
      "---  ------  --------------  -----  \n",
      " 0   foo     3 non-null      float64\n",
      " 1   bar     3 non-null      float64\n",
      "dtypes: float64(2)\n",
      "memory usage: 180.0+ bytes\n"
     ]
    }
   ],
   "source": [
    "df.head(2)\n",
    "df.tail(2)\n",
    "df.info()\n",
    "df.sample(2)\n",
    "df.describe()\n",
    "df.dropna(subset=['foo'], axis=0, inplace=True)\n",
    "df.foo.fillna(1, inplace=True)\n",
    "df.foo.replace(np.nan, 0, inplace=True)"
   ]
  },
  {
   "cell_type": "markdown",
   "id": "8a9ce822-e369-41ef-bd62-83904ccadb7b",
   "metadata": {},
   "source": [
    "Lecture 4 Notes: Data preparation: Duplicates, filtering, binning, transformation"
   ]
  },
  {
   "cell_type": "code",
   "execution_count": 114,
   "id": "e2614429-6e2a-46ff-b672-c463a3d1e328",
   "metadata": {},
   "outputs": [
    {
     "data": {
      "text/plain": [
       "[[18, 25), [18, 25), [25, 35), [25, 35), [18, 25), ..., [25, 35), [60, 100), [35, 60), [35, 60), [25, 35)]\n",
       "Length: 12\n",
       "Categories (4, interval[int64, left]): [[18, 25) < [25, 35) < [35, 60) < [60, 100)]"
      ]
     },
     "execution_count": 114,
     "metadata": {},
     "output_type": "execute_result"
    }
   ],
   "source": [
    "# Duplicates / replacing\n",
    "data = pd.DataFrame({'k1': ['one', 'two'] * 3 + ['two'],\n",
    "                     'k2': [1, 1, 2, 3, 3, 4, 4]})\n",
    "data.duplicated()\n",
    "data.drop_duplicates(['k1','k2'], inplace=True)\n",
    "data.replace([1, 4], ['h', 'hello'], inplace=True)\n",
    "\n",
    "# Binning\n",
    "ages = [20, 22, 25, 27, 21, 23, 37, 31, 61, 45, 41, 32]\n",
    "bins = [18,25,35,60,100]\n",
    "cats = pd.cut(ages,bins, right=False)\n",
    "cats\n"
   ]
  },
  {
   "cell_type": "markdown",
   "id": "1239f02b-de00-4bba-9ddc-588307b90c41",
   "metadata": {},
   "source": [
    "Lecture 5 Notes: Aggregation and Transformation"
   ]
  },
  {
   "cell_type": "code",
   "execution_count": 13,
   "id": "c7f07ea1-51e7-4349-b4e7-84ae5d0741c1",
   "metadata": {},
   "outputs": [
    {
     "name": "stderr",
     "output_type": "stream",
     "text": [
      "/tmp/ipykernel_951/1645254878.py:5: FutureWarning: The provided callable <function median at 0x7f7334787f40> is currently using SeriesGroupBy.median. In a future version of pandas, the provided callable will be used directly. To keep current behavior pass 'median' instead.\n",
      "  df.groupby('key').aggregate(['min', np.median, 'max', 'sum'])\n"
     ]
    },
    {
     "data": {
      "text/html": [
       "<div>\n",
       "<style scoped>\n",
       "    .dataframe tbody tr th:only-of-type {\n",
       "        vertical-align: middle;\n",
       "    }\n",
       "\n",
       "    .dataframe tbody tr th {\n",
       "        vertical-align: top;\n",
       "    }\n",
       "\n",
       "    .dataframe thead th {\n",
       "        text-align: right;\n",
       "    }\n",
       "</style>\n",
       "<table border=\"1\" class=\"dataframe\">\n",
       "  <thead>\n",
       "    <tr style=\"text-align: right;\">\n",
       "      <th></th>\n",
       "      <th>key</th>\n",
       "      <th>data1</th>\n",
       "      <th>data2</th>\n",
       "    </tr>\n",
       "  </thead>\n",
       "  <tbody>\n",
       "    <tr>\n",
       "      <th>1</th>\n",
       "      <td>B</td>\n",
       "      <td>1</td>\n",
       "      <td>0</td>\n",
       "    </tr>\n",
       "    <tr>\n",
       "      <th>2</th>\n",
       "      <td>C</td>\n",
       "      <td>2</td>\n",
       "      <td>3</td>\n",
       "    </tr>\n",
       "    <tr>\n",
       "      <th>4</th>\n",
       "      <td>B</td>\n",
       "      <td>4</td>\n",
       "      <td>7</td>\n",
       "    </tr>\n",
       "    <tr>\n",
       "      <th>5</th>\n",
       "      <td>C</td>\n",
       "      <td>5</td>\n",
       "      <td>9</td>\n",
       "    </tr>\n",
       "  </tbody>\n",
       "</table>\n",
       "</div>"
      ],
      "text/plain": [
       "  key  data1  data2\n",
       "1   B      1      0\n",
       "2   C      2      3\n",
       "4   B      4      7\n",
       "5   C      5      9"
      ]
     },
     "execution_count": 13,
     "metadata": {},
     "output_type": "execute_result"
    }
   ],
   "source": [
    "df = pd.DataFrame({'key': ['A', 'B', 'C', 'A', 'B', 'C'],\n",
    "                   'data': range(6)}, columns=['key', 'data'])\n",
    "\n",
    "# groupby and aggregation\n",
    "df.groupby('key').aggregate(['min', np.median, 'max', 'sum'])\n",
    "\n",
    "# filtering\n",
    "rng = np.random.RandomState(0)\n",
    "df = pd.DataFrame({'key': ['A', 'B', 'C', 'A', 'B', 'C'],\n",
    "                   'data1': range(6),\n",
    "                   'data2': rng.randint(0, 10, 6)},\n",
    "                   columns = ['key', 'data1', 'data2'])\n",
    "\n",
    "def filter_func(x):\n",
    "    return x['data2'].std() > 4\n",
    "\n",
    "df.groupby('key').filter(filter_func)"
   ]
  },
  {
   "cell_type": "markdown",
   "id": "4fc19296-338e-4b5f-8cbc-fb71604e5983",
   "metadata": {},
   "source": [
    "Lecture 6 and 7 Notes:Data concatenation and string functions , Manipulating Time"
   ]
  },
  {
   "cell_type": "code",
   "execution_count": 35,
   "id": "81db8cf3-e3d9-4a73-b4fb-26553969ed05",
   "metadata": {},
   "outputs": [
    {
     "data": {
      "text/plain": [
       "0    graham chapman\n",
       "1       john cleese\n",
       "2     terry gilliam\n",
       "3         eric idle\n",
       "4       terry jones\n",
       "5     michael palin\n",
       "dtype: object"
      ]
     },
     "execution_count": 35,
     "metadata": {},
     "output_type": "execute_result"
    }
   ],
   "source": [
    "s1 = pd.Series([0, 1], index=['a', 'b'])\n",
    "s2 = pd.Series([2, 3, 4], index=['c','d', 'e'])\n",
    "s3 = pd.Series([5, 6], index=['f', 'g'])\n",
    "\n",
    "pd.concat([s1, s2, s3], axis=1)\n",
    "\n",
    "\n",
    "monte = pd.Series(['Graham Chapman', 'John Cleese', 'Terry Gilliam', 'Eric Idle', 'Terry Jones', 'Michael Palin'])\n",
    "monte.str.lower()"
   ]
  },
  {
   "cell_type": "markdown",
   "id": "7e86bd0d-5580-45bd-8ba3-e87f3c0ade11",
   "metadata": {},
   "source": [
    "Lec 8"
   ]
  },
  {
   "cell_type": "code",
   "execution_count": 42,
   "id": "ade34f8a-2897-4b00-8c45-174142e82797",
   "metadata": {},
   "outputs": [
    {
     "data": {
      "text/html": [
       "<div>\n",
       "<style scoped>\n",
       "    .dataframe tbody tr th:only-of-type {\n",
       "        vertical-align: middle;\n",
       "    }\n",
       "\n",
       "    .dataframe tbody tr th {\n",
       "        vertical-align: top;\n",
       "    }\n",
       "\n",
       "    .dataframe thead th {\n",
       "        text-align: right;\n",
       "    }\n",
       "</style>\n",
       "<table border=\"1\" class=\"dataframe\">\n",
       "  <thead>\n",
       "    <tr style=\"text-align: right;\">\n",
       "      <th></th>\n",
       "      <th>2000</th>\n",
       "      <th>2010</th>\n",
       "    </tr>\n",
       "  </thead>\n",
       "  <tbody>\n",
       "    <tr>\n",
       "      <th>California</th>\n",
       "      <td>33871648</td>\n",
       "      <td>37253956</td>\n",
       "    </tr>\n",
       "    <tr>\n",
       "      <th>New York</th>\n",
       "      <td>18976457</td>\n",
       "      <td>19378102</td>\n",
       "    </tr>\n",
       "    <tr>\n",
       "      <th>Texas</th>\n",
       "      <td>20851820</td>\n",
       "      <td>25145561</td>\n",
       "    </tr>\n",
       "  </tbody>\n",
       "</table>\n",
       "</div>"
      ],
      "text/plain": [
       "                2000      2010\n",
       "California  33871648  37253956\n",
       "New York    18976457  19378102\n",
       "Texas       20851820  25145561"
      ]
     },
     "execution_count": 42,
     "metadata": {},
     "output_type": "execute_result"
    }
   ],
   "source": [
    "index = [('California', 2000), ('California', 2010), ('New York', 2000), ('New York', 2010), ('Texas', 2000), ('Texas', 2010)]\n",
    "populations = [33871648, 37253956, 18976457,19378102, 20851820, 25145561]\n",
    "pop = pd.Series(populations, index=index)\n",
    "index = pd.MultiIndex.from_tuples(index)\n",
    "pop = pop.reindex(index)\n",
    "pop.unstack()"
   ]
  }
 ],
 "metadata": {
  "kernelspec": {
   "display_name": "Python 3 (ipykernel)",
   "language": "python",
   "name": "python3"
  },
  "language_info": {
   "codemirror_mode": {
    "name": "ipython",
    "version": 3
   },
   "file_extension": ".py",
   "mimetype": "text/x-python",
   "name": "python",
   "nbconvert_exporter": "python",
   "pygments_lexer": "ipython3",
   "version": "3.10.12"
  }
 },
 "nbformat": 4,
 "nbformat_minor": 5
}
