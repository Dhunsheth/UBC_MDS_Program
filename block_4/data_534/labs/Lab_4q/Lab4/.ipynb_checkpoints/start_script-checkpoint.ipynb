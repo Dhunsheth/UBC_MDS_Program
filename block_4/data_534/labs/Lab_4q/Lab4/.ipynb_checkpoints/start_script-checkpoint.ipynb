{
 "cells": [
  {
   "cell_type": "markdown",
   "metadata": {},
   "source": [
    "### Working with Dynamo DB\n",
    "\n",
    "Create `words.csv` file and list at least two words separated by comma in the file. For example, mathematics,statistics,computer science.\n",
    "\n",
    "Since we do not have an user interface like Google Ngrams viewer, we will pretend that we are passed in a list of words from the user in the `words.csv`.\n"
   ]
  },
  {
   "cell_type": "code",
   "execution_count": 150,
   "metadata": {
    "collapsed": false
   },
   "outputs": [
    {
     "name": "stdout",
     "output_type": "stream",
     "text": [
      "set(['Google', 'Microsoft', 'Apple'])\n"
     ]
    }
   ],
   "source": [
    "# Read in the file containing the words to be processed.\n",
    "words = set([])\n",
    "\n",
    "with open('words.csv', 'r') as f:\n",
    "    for line in f:\n",
    "        line_words = line.split(',')\n",
    "        for w in line_words:\n",
    "            words.add(w.rstrip())\n",
    "\n",
    "print(words)"
   ]
  },
  {
   "cell_type": "markdown",
   "metadata": {},
   "source": [
    "AWS CLI and Python boto3 should have been installed and configured. For example, the below code, listing the S3 buckets should work without error."
   ]
  },
  {
   "cell_type": "code",
   "execution_count": 152,
   "metadata": {
    "collapsed": false
   },
   "outputs": [
    {
     "name": "stdout",
     "output_type": "stream",
     "text": [
      "seonghwan-jun-ngrams\n",
      "ubcbucket123\n"
     ]
    }
   ],
   "source": [
    "import boto3\n",
    "\n",
    "s3 = boto3.resource('s3')\n",
    "for bucket in s3.buckets.all():\n",
    "    print(bucket.name)\n"
   ]
  },
  {
   "cell_type": "markdown",
   "metadata": {},
   "source": [
    "We will start by creating a Dynamo DB table. You can do this programmatically using boto3. Ensure that your user has access to DynamoDB services (you learned how to do this through AWS IAM console as part of lab 3).\n",
    "\n",
    "Refer to the boto3 documentation on DynamoDB [here](http://boto3.readthedocs.io/en/latest/reference/services/dynamodb.html) as you work through this tutorial. You may also find Amazon's [guide](http://docs.aws.amazon.com/amazondynamodb/latest/gettingstartedguide/GettingStarted.Python.03.html#GettingStarted.Python.03.03) on accessing Dynamo DB services using Python.\n",
    "\n",
    "Set the table name as **unigrams**, with **word** as a primary key taking on the String values and **year** as a sort key taking on Number values."
   ]
  },
  {
   "cell_type": "code",
   "execution_count": 153,
   "metadata": {
    "collapsed": false
   },
   "outputs": [],
   "source": [
    "def create_table(dynamodb, table_name):\n",
    "    table = dynamodb.create_table(\n",
    "        TableName=table_name, \n",
    "        AttributeDefinitions=[\n",
    "            {\n",
    "                'AttributeName': 'word',\n",
    "                'AttributeType': 'S'\n",
    "            },\n",
    "            {\n",
    "                'AttributeName': 'year',\n",
    "                'AttributeType': 'N'\n",
    "                \n",
    "            },\n",
    "        ],\n",
    "        KeySchema=[\n",
    "            {\n",
    "                'AttributeName': 'word',\n",
    "                'KeyType': 'HASH'\n",
    "            },\n",
    "            {\n",
    "                'AttributeName': 'year',\n",
    "                'KeyType': 'RANGE'\n",
    "            },\n",
    "        ],\n",
    "        ProvisionedThroughput={\n",
    "            'ReadCapacityUnits': 5,\n",
    "            'WriteCapacityUnits': 5\n",
    "        })\n",
    "    return(table)\n",
    "        "
   ]
  },
  {
   "cell_type": "code",
   "execution_count": 154,
   "metadata": {
    "collapsed": false
   },
   "outputs": [
    {
     "name": "stdout",
     "output_type": "stream",
     "text": [
      "Table unigrams already exists.\n"
     ]
    }
   ],
   "source": [
    "# create the table if not created already\n",
    "dynamodb = boto3.client('dynamodb')\n",
    "response = dynamodb.list_tables()\n",
    "table_name = 'unigrams'\n",
    "if table_name not in response[\"TableNames\"]:\n",
    "    print(\"create table: \" + table_name)\n",
    "    create_table(dynamodb, 'unigrams')\n",
    "else:\n",
    "    print(\"Table \" + table_name + \" already exists.\")"
   ]
  },
  {
   "cell_type": "markdown",
   "metadata": {},
   "source": [
    "We will add some data to our table first. Insert the follow entry: {'word': Google, 'year': 2005, 'count': 19590}.\n"
   ]
  },
  {
   "cell_type": "code",
   "execution_count": 155,
   "metadata": {
    "collapsed": false
   },
   "outputs": [],
   "source": [
    "dynamodb = boto3.resource('dynamodb', region_name = 'us-west-1')\n",
    "table = dynamodb.Table(table_name)\n",
    "response = table.put_item(Item={'word': 'Google', 'year': 2005, 'count': 19590})"
   ]
  },
  {
   "cell_type": "markdown",
   "metadata": {},
   "source": [
    "Let's query this table and compare it to the `words` variable. The goal here is to find the words that are not present in the table."
   ]
  },
  {
   "cell_type": "code",
   "execution_count": 156,
   "metadata": {
    "collapsed": false
   },
   "outputs": [
    {
     "name": "stdout",
     "output_type": "stream",
     "text": [
      "The word 'Google' already exists in the table.\n",
      "['Microsoft', 'Apple']\n"
     ]
    }
   ],
   "source": [
    "from boto3.dynamodb.conditions import Key, Attr\n",
    "\n",
    "#print(table.scan())\n",
    "\n",
    "words_to_process = list()\n",
    "for word in words:\n",
    "    response = table.query(KeyConditionExpression=Key('word').eq(word))\n",
    "    if len(response['Items']) == 0:\n",
    "        words_to_process.append(word)\n",
    "    else:\n",
    "        print(\"The word '\" + word + \"' already exists in the table.\")\n",
    "\n",
    "# these words need to be processed \n",
    "print(words_to_process)"
   ]
  },
  {
   "cell_type": "markdown",
   "metadata": {},
   "source": [
    "Your turn: delete the entry with word: Google from the unigrams table."
   ]
  },
  {
   "cell_type": "code",
   "execution_count": null,
   "metadata": {
    "collapsed": true
   },
   "outputs": [],
   "source": [
    "# Your code to delete the entry containing primary key = Google goes here\n",
    "\n",
    "\n"
   ]
  },
  {
   "cell_type": "markdown",
   "metadata": {},
   "source": [
    "### Launching EMR cluster\n",
    "\n",
    "Now we will learn how to launch EMR programmatically. We will refer to the boto3's [documentation](http://boto3.readthedocs.io/en/latest/reference/services/emr.html#client) on EMR. "
   ]
  },
  {
   "cell_type": "code",
   "execution_count": null,
   "metadata": {
    "collapsed": false
   },
   "outputs": [],
   "source": [
    "# List the existing clusters. There should be at least one (if you have completed Exercise 2).\n",
    "client = boto3.client('emr')\n",
    "clusters = client.list_clusters()['Clusters']\n",
    "\n",
    "# view the details of the existing cluster, this will be helpful to launch EMR cluster programmatically\n",
    "client.describe_cluster(ClusterId=clusters[0][\"Id\"])"
   ]
  },
  {
   "cell_type": "code",
   "execution_count": 193,
   "metadata": {
    "collapsed": false
   },
   "outputs": [
    {
     "data": {
      "text/plain": [
       "{u'Args': [u'hadoop-streaming',\n",
       "  u'-files',\n",
       "  u's3://seonghwan-jun-ngrams/scripts/mapper.py,s3://seonghwan-jun-ngrams/scripts/reduce.py',\n",
       "  u'-mapper',\n",
       "  u'mapper.py',\n",
       "  u'-reducer',\n",
       "  u'reduce.py',\n",
       "  u'-input',\n",
       "  u's3://seonghwan-jun-ngrams/unigrams/',\n",
       "  u'-output',\n",
       "  u's3://seonghwan-jun-ngrams/output-ngrams2/',\n",
       "  u'-numReduceTasks',\n",
       "  u'1'],\n",
       " u'Jar': u'command-runner.jar',\n",
       " u'Properties': {}}"
      ]
     },
     "execution_count": 193,
     "metadata": {},
     "output_type": "execute_result"
    }
   ],
   "source": [
    "# view the existing steps to help construct the steps object\n",
    "step = client.list_steps(ClusterId=clusters[0][\"Id\"])\n",
    "#step['Steps'][0]\n",
    "config = step['Steps'][0]['Config']\n",
    "\n",
    "# view the contents of config\n",
    "config"
   ]
  },
  {
   "cell_type": "code",
   "execution_count": 195,
   "metadata": {
    "collapsed": false
   },
   "outputs": [
    {
     "data": {
      "text/plain": [
       "u'command-runner.jar'"
      ]
     },
     "execution_count": 195,
     "metadata": {},
     "output_type": "execute_result"
    }
   ],
   "source": [
    "# we need the Jar and the Args\n",
    "jar = config['Jar']\n",
    "args = config['Args'][:]\n"
   ]
  },
  {
   "cell_type": "markdown",
   "metadata": {},
   "source": [
    "We will launch the cluster to perform job from exercise 2 (counting the word **google**). You do not have to modify the mapper or reducer for now but keep in mind that before you launch the cluster, make sure that the output directory specified in the `Args` variables is deleted from the previous run. Recall that output directory is newly created by Hadoop. You can easily write a code to do this:"
   ]
  },
  {
   "cell_type": "code",
   "execution_count": null,
   "metadata": {
    "collapsed": true
   },
   "outputs": [],
   "source": [
    "# your code to ensure that the output directory is deleted goes here (if needed)\n"
   ]
  },
  {
   "cell_type": "code",
   "execution_count": null,
   "metadata": {
    "collapsed": false
   },
   "outputs": [],
   "source": [
    "cluster_name = 'Ngrams-job'\n",
    "# specify the key pair to be used for accessing the EC2 instances\n",
    "keypair = 'your-key-pair'\n",
    "# specify the path to your log -- ensure that you replace firstname-lastname with your own\n",
    "log_uri = 's3://firstname-lastname-ngrams/logs' \n",
    "response = client.run_job_flow(\n",
    "                    Name=cluster_name,\n",
    "                    LogUri=log_uri,\n",
    "                    ReleaseLabel='emr-5.0.0',\n",
    "                    Instances={'MasterInstanceType':'m3.xlarge','SlaveInstanceType':'m3.xlarge','InstanceCount':3,'Ec2KeyName':keypair,'KeepJobFlowAliveWhenNoSteps':True},\n",
    "                    Steps=[\n",
    "                        {\n",
    "                            'Name': 'Ngrams-step', \n",
    "                            'ActionOnFailure': 'CONTINUE', \n",
    "                            #'ActionOnFailure': 'TERMINATE_CLUSTER', \n",
    "                            'HadoopJarStep': {'Args': args, 'Jar': jar},\n",
    "                        }\n",
    "                    ],\n",
    "                    JobFlowRole='EMR_EC2_DefaultRole',\n",
    "                    ServiceRole='EMR_DefaultRole')\n",
    "\n",
    "print(response)\n",
    "\n",
    "# open the EMR console, check that your cluster is running"
   ]
  },
  {
   "cell_type": "markdown",
   "metadata": {},
   "source": [
    "Now you know how to work with Dynamo DB to query for items, put items, and delete items programmatically. You also know how to launch and terminate an EMR cluster programmatically. The materials covered in this tutorial form important steps in a data processing pipeline, allowing you to access and control Amazon's cloud computing services from your local machine.\n"
   ]
  },
  {
   "cell_type": "markdown",
   "metadata": {
    "collapsed": false
   },
   "source": [
    "### Completing the data processing\n",
    "\n",
    "The data processing is not quite complete yet, we need to terminate the cluster once it's done, download the output, merge the output files to get the counts for each of the words by year, delete the S3 output directory, and finally to insert the data to database. **Your turn**:\n",
    "\n",
    "1. Wait for the job to finish, then terminate the cluster programmatically. Alternatively, modify the EMR lauch code to terminate the cluster upon completion of the steps.\n",
    "2. Download the output files from the S3 bucket that you specified to run the job. Refer to boto3 [documentation on S3](http://boto3.readthedocs.io/en/latest/reference/services/s3.html).\n",
    "3. Delete the S3 output bucket.\n",
    "4. Merge the output files (if needed) to obtain the (word, year, counts) for each word. Insert the items to Dynamo DB table.\n"
   ]
  },
  {
   "cell_type": "code",
   "execution_count": null,
   "metadata": {
    "collapsed": false
   },
   "outputs": [],
   "source": [
    "# your code for terminating the cluster goes here\n",
    "\n",
    "client = boto3.client('emr')\n",
    "\n",
    "# wait for the running cluster\n",
    "waiter = client.get_waiter('cluster_running')\n",
    "cluster=clusters[0]\n",
    "waiter.wait(ClusterId=cluster['Id'])"
   ]
  },
  {
   "cell_type": "markdown",
   "metadata": {},
   "source": [
    "The previous step  allows the client to launch your code when the cluster is up and running. Sending job to a cluster which is not ready, will cause errors. Now that we have a working cluster, we can do our analysis."
   ]
  },
  {
   "cell_type": "code",
   "execution_count": null,
   "metadata": {
    "collapsed": true
   },
   "outputs": [],
   "source": [
    "#Execute your code here, now that we know the cluster is running\n",
    "\n",
    "#To check whether a certain execution step has been completed you can use the following code:\n",
    "client.list_steps(ClusterId=cluster['Id'], StepStates=['COMPLETED'])"
   ]
  },
  {
   "cell_type": "markdown",
   "metadata": {},
   "source": [
    "When the analysis on the cluster is finished, you can terminate it using the code in the following cell."
   ]
  },
  {
   "cell_type": "code",
   "execution_count": null,
   "metadata": {
    "collapsed": true
   },
   "outputs": [],
   "source": [
    "# terminate the cluster\n",
    "clusters = client.list_clusters()['Clusters']\n",
    "for cluster in clusters:\n",
    "        if cluster['Name'].find(cluster_name) >= 0:\n",
    "            response = client.terminate_job_flows(JobFlowIds=[cluster['Id']])\n",
    "            break"
   ]
  },
  {
   "cell_type": "code",
   "execution_count": null,
   "metadata": {
    "collapsed": false
   },
   "outputs": [],
   "source": [
    "# code to download the output goes here\n"
   ]
  },
  {
   "cell_type": "code",
   "execution_count": 158,
   "metadata": {
    "collapsed": false
   },
   "outputs": [],
   "source": [
    "# code to delete the output directory in you S3 goes here\n"
   ]
  },
  {
   "cell_type": "code",
   "execution_count": 159,
   "metadata": {
    "collapsed": true
   },
   "outputs": [],
   "source": [
    "# code to merge the output files to compute the counts for each word by year goes here\n"
   ]
  },
  {
   "cell_type": "code",
   "execution_count": null,
   "metadata": {
    "collapsed": true
   },
   "outputs": [],
   "source": [
    "# code to put the items to the DB goes here\n"
   ]
  }
 ],
 "metadata": {
  "kernelspec": {
   "display_name": "Python 3",
   "language": "python",
   "name": "python3"
  },
  "language_info": {
   "codemirror_mode": {
    "name": "ipython",
    "version": 3
   },
   "file_extension": ".py",
   "mimetype": "text/x-python",
   "name": "python",
   "nbconvert_exporter": "python",
   "pygments_lexer": "ipython3",
   "version": "3.5.2"
  }
 },
 "nbformat": 4,
 "nbformat_minor": 0
}
