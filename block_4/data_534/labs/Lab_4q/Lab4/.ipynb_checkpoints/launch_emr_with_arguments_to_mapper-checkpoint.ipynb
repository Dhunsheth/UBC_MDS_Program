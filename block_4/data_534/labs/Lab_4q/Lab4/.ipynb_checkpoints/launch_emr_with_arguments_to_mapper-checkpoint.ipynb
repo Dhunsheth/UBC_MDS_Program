{
 "cells": [
  {
   "cell_type": "code",
   "execution_count": 1,
   "metadata": {
    "collapsed": false
   },
   "outputs": [
    {
     "name": "stdout",
     "output_type": "stream",
     "text": [
      "set(['Google', 'Microsoft', 'Apple'])\n"
     ]
    }
   ],
   "source": [
    "# Read in the file containing the words to be processed.\n",
    "words = set([])\n",
    "\n",
    "with open('words.csv', 'r') as f:\n",
    "    for line in f:\n",
    "        line_words = line.split(',')\n",
    "        for w in line_words:\n",
    "            words.add(w.rstrip())\n",
    "\n",
    "print(words)"
   ]
  },
  {
   "cell_type": "code",
   "execution_count": 12,
   "metadata": {
    "collapsed": false
   },
   "outputs": [
    {
     "name": "stdout",
     "output_type": "stream",
     "text": [
      "mapper.py Microsoft Apple\n"
     ]
    }
   ],
   "source": [
    "# List the existing clusters. There should be at least one (if you have completed Exercise 2).\n",
    "client = boto3.client('emr')\n",
    "clusters = client.list_clusters()['Clusters']\n",
    "\n",
    "# view the existing steps to help construct the steps object\n",
    "step = client.list_steps(ClusterId=clusters[0][\"Id\"])\n",
    "config = step['Steps'][0]['Config']\n",
    "\n",
    "jar = config['Jar']\n",
    "args = config['Args'][:] # copy the Args\n"
   ]
  },
  {
   "cell_type": "code",
   "execution_count": null,
   "metadata": {
    "collapsed": true
   },
   "outputs": [],
   "source": [
    "# identify the index of the args list that specifies the mapper script\n",
    "idx = args.index('mapper.py')\n",
    "# append the words as argument to be passed to the mapper.py\n",
    "for w in words_to_process:\n",
    "    args[idx] += ' ' + w\n",
    "print args[idx]"
   ]
  },
  {
   "cell_type": "code",
   "execution_count": 14,
   "metadata": {
    "collapsed": false
   },
   "outputs": [
    {
     "name": "stdout",
     "output_type": "stream",
     "text": [
      "{'ResponseMetadata': {'HTTPStatusCode': 200, 'RequestId': '06f4d024-789b-11e6-a425-cffe5fd69965', 'HTTPHeaders': {'x-amzn-requestid': '06f4d024-789b-11e6-a425-cffe5fd69965', 'date': 'Mon, 12 Sep 2016 03:43:11 GMT', 'content-length': '31', 'content-type': 'application/x-amz-json-1.1'}}, u'JobFlowId': u'j-36ENCSTILG1GX'}\n"
     ]
    }
   ],
   "source": [
    "# launch EMR\n",
    "cluster_name = 'Ngrams-job'\n",
    "# specify the key pair to be used for accessing the EC2 instances\n",
    "keypair = 'lab4-key-pair'\n",
    "# specify the path to your log -- ensure that you replace firstname-lastname with your own\n",
    "log_uri = 's3://seonghwan-jun-ngrams/logs' \n",
    "response = client.run_job_flow(\n",
    "                    Name=cluster_name,\n",
    "                    LogUri=log_uri,\n",
    "                    ReleaseLabel='emr-5.0.0',\n",
    "                    Instances={'MasterInstanceType':'m3.xlarge','SlaveInstanceType':'m3.xlarge','InstanceCount':3,'Ec2KeyName':keypair,'KeepJobFlowAliveWhenNoSteps':True},\n",
    "                    Steps=[\n",
    "                        {\n",
    "                            'Name': 'Ngrams-step', \n",
    "                            #'ActionOnFailure': 'CONTINUE', \n",
    "                            'ActionOnFailure': 'TERMINATE_CLUSTER', \n",
    "                            'HadoopJarStep': {'Args': args, 'Jar': jar},\n",
    "                        }\n",
    "                    ],\n",
    "                    JobFlowRole='EMR_EC2_DefaultRole',\n",
    "                    ServiceRole='EMR_DefaultRole')\n",
    "\n",
    "print(response)\n",
    "\n",
    "# open the EMR console, check that your cluster is running"
   ]
  },
  {
   "cell_type": "code",
   "execution_count": null,
   "metadata": {
    "collapsed": true
   },
   "outputs": [],
   "source": []
  }
 ],
 "metadata": {
  "kernelspec": {
   "display_name": "Python 2",
   "language": "python",
   "name": "python2"
  },
  "language_info": {
   "codemirror_mode": {
    "name": "ipython",
    "version": 2
   },
   "file_extension": ".py",
   "mimetype": "text/x-python",
   "name": "python",
   "nbconvert_exporter": "python",
   "pygments_lexer": "ipython2",
   "version": "2.7.12"
  }
 },
 "nbformat": 4,
 "nbformat_minor": 0
}
