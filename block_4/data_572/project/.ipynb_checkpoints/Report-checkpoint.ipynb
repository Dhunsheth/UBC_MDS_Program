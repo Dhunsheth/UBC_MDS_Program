{
 "cells": [
  {
   "cell_type": "code",
   "execution_count": 1,
   "id": "5a76ec33-7a0c-4e1c-8145-942e608a578b",
   "metadata": {},
   "outputs": [],
   "source": [
    "import pandas as pd"
   ]
  },
  {
   "cell_type": "markdown",
   "id": "e0379b0c-2bd0-4b65-9e4f-cc7f2f2eb92a",
   "metadata": {},
   "source": [
    "# <center>Milk Quality Classification Report</center>\n",
    "<center> Tim Pulfer, Jacob Rosen, Dhun Sheth </center>\n",
    "\n",
    "<br>\n",
    "<br>\n",
    "<br>\n",
    "\n",
    " |   | Table of Contents                |  \n",
    "|---|----------------------------------|  \n",
    "| 1 | Abstract                         |  \n",
    "| 2 | Introduction of Dataset          |  \n",
    "| 3 | Methodology                      |  \n",
    "| 4 | Experiment                       |  \n",
    "| 5 | Future Work                      |          |         |nclusionee21)\n",
    "       "
   ]
  },
  {
   "cell_type": "markdown",
   "id": "125d6f56-bf79-4cca-a720-3e898544a293",
   "metadata": {},
   "source": [
    "## 1 - Abstract"
   ]
  },
  {
   "cell_type": "markdown",
   "id": "447ce2d2-881d-4e86-950e-7dad8d378998",
   "metadata": {},
   "source": [
    "## 2 - Introduction\n",
    "<br>\n",
    "\n",
    "The following analysis was conducted so that machine learning techniques can be applied to the dairy industry. The motivation is to predict milk grade based on the 7 predictors outlined below\n",
    "\n",
    "The dataset consists of 1059 manually collected observations with the following independent fields:\n",
    "- **pH**: the pH level of the milk.\n",
    "- **Temperature**: the temperature of the milk.\n",
    "- **Taste**: the taste of the milk - if optimal conditions were met, the taste was given a value of 1, else 0. \n",
    "- **Odor**: the odor of the milk - if optimal conditions were met, the odor was given a value of 1, else 0. \n",
    "- **Fat**: the fattiness of the milk - if optimal conditions were met, the fat was given a value of 1, else 0. \n",
    "- **Turbidity**: the cloudiness or haziness of the milk - if optimal conditions were met, the turbidity was given a value of 1, else 0.\n",
    "- **Color**: the color of the milk - if optimal conditions were met, the color was given a value of 1, else 0.\n",
    "- **Grade**: the variable to predict based on the previous fields - {low, medium, high}.\n",
    "\n",
    "The data was cleaned, "
   ]
  },
  {
   "cell_type": "code",
   "execution_count": 5,
   "id": "dcf319bd-e81d-49f0-8a5b-fd5e8affd980",
   "metadata": {},
   "outputs": [
    {
     "data": {
      "text/html": [
       "<div>\n",
       "<style scoped>\n",
       "    .dataframe tbody tr th:only-of-type {\n",
       "        vertical-align: middle;\n",
       "    }\n",
       "\n",
       "    .dataframe tbody tr th {\n",
       "        vertical-align: top;\n",
       "    }\n",
       "\n",
       "    .dataframe thead th {\n",
       "        text-align: right;\n",
       "    }\n",
       "</style>\n",
       "<table border=\"1\" class=\"dataframe\">\n",
       "  <thead>\n",
       "    <tr style=\"text-align: right;\">\n",
       "      <th></th>\n",
       "      <th>pH</th>\n",
       "      <th>Temprature</th>\n",
       "      <th>Taste</th>\n",
       "      <th>Odor</th>\n",
       "      <th>Fat</th>\n",
       "      <th>Turbidity</th>\n",
       "      <th>Colour</th>\n",
       "      <th>Grade</th>\n",
       "    </tr>\n",
       "  </thead>\n",
       "  <tbody>\n",
       "    <tr>\n",
       "      <th>1054</th>\n",
       "      <td>6.7</td>\n",
       "      <td>45</td>\n",
       "      <td>1</td>\n",
       "      <td>1</td>\n",
       "      <td>0</td>\n",
       "      <td>0</td>\n",
       "      <td>247</td>\n",
       "      <td>medium</td>\n",
       "    </tr>\n",
       "    <tr>\n",
       "      <th>1055</th>\n",
       "      <td>6.7</td>\n",
       "      <td>38</td>\n",
       "      <td>1</td>\n",
       "      <td>0</td>\n",
       "      <td>1</td>\n",
       "      <td>0</td>\n",
       "      <td>255</td>\n",
       "      <td>high</td>\n",
       "    </tr>\n",
       "    <tr>\n",
       "      <th>1056</th>\n",
       "      <td>3.0</td>\n",
       "      <td>40</td>\n",
       "      <td>1</td>\n",
       "      <td>1</td>\n",
       "      <td>1</td>\n",
       "      <td>1</td>\n",
       "      <td>255</td>\n",
       "      <td>low</td>\n",
       "    </tr>\n",
       "    <tr>\n",
       "      <th>1057</th>\n",
       "      <td>6.8</td>\n",
       "      <td>43</td>\n",
       "      <td>1</td>\n",
       "      <td>0</td>\n",
       "      <td>1</td>\n",
       "      <td>0</td>\n",
       "      <td>250</td>\n",
       "      <td>high</td>\n",
       "    </tr>\n",
       "    <tr>\n",
       "      <th>1058</th>\n",
       "      <td>8.6</td>\n",
       "      <td>55</td>\n",
       "      <td>0</td>\n",
       "      <td>1</td>\n",
       "      <td>1</td>\n",
       "      <td>1</td>\n",
       "      <td>255</td>\n",
       "      <td>low</td>\n",
       "    </tr>\n",
       "  </tbody>\n",
       "</table>\n",
       "</div>"
      ],
      "text/plain": [
       "       pH  Temprature  Taste  Odor  Fat   Turbidity  Colour   Grade\n",
       "1054  6.7          45      1     1     0          0     247  medium\n",
       "1055  6.7          38      1     0     1          0     255    high\n",
       "1056  3.0          40      1     1     1          1     255     low\n",
       "1057  6.8          43      1     0     1          0     250    high\n",
       "1058  8.6          55      0     1     1          1     255     low"
      ]
     },
     "execution_count": 5,
     "metadata": {},
     "output_type": "execute_result"
    }
   ],
   "source": [
    "data = pd.read_csv(\"milknew.csv\")\n",
    "data.tail()"
   ]
  },
  {
   "cell_type": "markdown",
   "id": "6f477e48-f6f5-44d4-ae76-4e90334ddbeb",
   "metadata": {},
   "source": [
    "## 3 - Methodology"
   ]
  },
  {
   "cell_type": "markdown",
   "id": "f930c049-af60-4e59-84fd-98889823e0a9",
   "metadata": {},
   "source": [
    "## 4 - Experiment"
   ]
  },
  {
   "cell_type": "markdown",
   "id": "ecd05c6f-7c43-417f-989b-152de3a74b71",
   "metadata": {},
   "source": [
    "## 5 - Future Work"
   ]
  }
 ],
 "metadata": {
  "kernelspec": {
   "display_name": "Python 3 (ipykernel)",
   "language": "python",
   "name": "python3"
  },
  "language_info": {
   "codemirror_mode": {
    "name": "ipython",
    "version": 3
   },
   "file_extension": ".py",
   "mimetype": "text/x-python",
   "name": "python",
   "nbconvert_exporter": "python",
   "pygments_lexer": "ipython3",
   "version": "3.10.12"
  }
 },
 "nbformat": 4,
 "nbformat_minor": 5
}
