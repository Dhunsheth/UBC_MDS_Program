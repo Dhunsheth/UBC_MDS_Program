{
 "cells": [
  {
   "cell_type": "markdown",
   "metadata": {},
   "source": [
    "## CLASS PROBLEMS:"
   ]
  },
  {
   "cell_type": "markdown",
   "metadata": {},
   "source": [
    "### Problem #1: Word Count\n",
    "\n",
    "Now it’s time for our first problem! We’re going to use Python to write a little word-count program. We’ll learn how to read input from the user, process the input to solve the problem, and output the result. We’ll also learn how to manipulate text and numbers in our programs, make use of built-in Python operations, and store intermediate results on our way to the solution."
   ]
  },
  {
   "cell_type": "markdown",
   "metadata": {},
   "source": [
    "**The Challenge**\n",
    "\n",
    "Count the number of words provided. For this problem, a word is any sequence of lowercase letters. For example, hello is a word, but so are non-\n",
    "English “words” like bbaabbb.\n",
    "\n",
    "**Input**\n",
    "\n",
    "The input is one line of text, consisting of lowercase letters and spaces. There is exactly one space between each pair of words, and there are no spaces before the first word or after the last word.\n",
    "\n",
    "The maximum length of the line is 80 characters.\n",
    "\n",
    "**Output**\n",
    "\n",
    "Output the number of words in the input line."
   ]
  },
  {
   "cell_type": "markdown",
   "metadata": {},
   "source": [
    "### Problem #2: Winning Team\n",
    "\n",
    "In this problem, we’ll need to output a message that depends on the outcome of a basketball game. To do that, we’ll learn all about if statements. We’ll also learn how we can store and manipulate true and false values in our programs"
   ]
  },
  {
   "cell_type": "markdown",
   "metadata": {},
   "source": [
    "**The Challenge**\n",
    "\n",
    "In basketball, three plays score points: a three-point shot, a two-point shot, and a one-point free throw.\n",
    "\n",
    "You just watched a basketball game between the Apples and Bananas and recorded the number of successful three-point, two-point, and onepoint\n",
    "plays for each team. Indicate whether the game was won by the Apples, the game was won by the Bananas, or the game was a tie.\n",
    "\n",
    "**Input**\n",
    "\n",
    "There are six lines of input. The first three give the scoring for the Apples, and the latter three give the scoring for the Bananas.\n",
    "\n",
    "- The first line gives the number of successful three-point shots for the Apples.\n",
    "- The second line gives the number of successful two-point shots for the Apples.\n",
    "- The third line gives the number of successful one-point free throws for the Apples.\n",
    "- The fourth line gives the number of successful three-point shots for the Bananas.\n",
    "- The fifth line gives the number of successful two-point shots for the Bananas.\n",
    "- The sixth line gives the number of successful one-point free throws for the Bananas.\n",
    "\n",
    "Each number is an integer between 0 and 100.\n",
    "\n",
    "**Output**\n",
    "\n",
    "The output is a single character.\n",
    "- If the Apples scored more points than the Bananas, output A (A for Apples).\n",
    "- If the Bananas scored more points than the Apples, output B (B for Bananas).\n",
    "- If the Apples and Bananas scored the same number of points, outputT (T for Tie)."
   ]
  }
 ],
 "metadata": {
  "kernelspec": {
   "display_name": "DATA531",
   "language": "python",
   "name": "python3"
  },
  "language_info": {
   "codemirror_mode": {
    "name": "ipython",
    "version": 3
   },
   "file_extension": ".py",
   "mimetype": "text/x-python",
   "name": "python",
   "nbconvert_exporter": "python",
   "pygments_lexer": "ipython3",
   "version": "3.9.12"
  },
  "orig_nbformat": 4
 },
 "nbformat": 4,
 "nbformat_minor": 2
}
