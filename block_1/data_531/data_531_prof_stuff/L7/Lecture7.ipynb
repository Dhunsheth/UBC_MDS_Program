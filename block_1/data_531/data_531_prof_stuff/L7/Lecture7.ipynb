{
 "cells": [
  {
   "cell_type": "markdown",
   "id": "268eb132",
   "metadata": {},
   "source": [
    "# Lecture 7: Functional-style programming and Hypothesis testing"
   ]
  },
  {
   "cell_type": "markdown",
   "id": "a79178ee",
   "metadata": {},
   "source": [
    "#### FROM THE PREVIOUS CLASS:\n"
   ]
  },
  {
   "cell_type": "code",
   "execution_count": 33,
   "id": "6a830eea",
   "metadata": {
    "vscode": {
     "languageId": "r"
    }
   },
   "outputs": [],
   "source": [
    "square <- function(x) {\n",
    "    x^2\n",
    "}\n",
    "deviation <- function(x, y=0) {\n",
    "    -y + y + x - mean(x)\n",
    "}\n",
    "x <- runif(100) # runif(X) generates X random deviates \n",
    "y <- runif(100)"
   ]
  },
  {
   "cell_type": "code",
   "execution_count": 34,
   "id": "5220d3d9",
   "metadata": {
    "vscode": {
     "languageId": "r"
    }
   },
   "outputs": [
    {
     "data": {
      "text/html": [
       "0.292608017532731"
      ],
      "text/latex": [
       "0.292608017532731"
      ],
      "text/markdown": [
       "0.292608017532731"
      ],
      "text/plain": [
       "[1] 0.292608"
      ]
     },
     "metadata": {},
     "output_type": "display_data"
    }
   ],
   "source": [
    "library(tidyverse)\n",
    "x %>%\n",
    "  deviation(y) %>%\n",
    "  square() %>%\n",
    "  mean() %>%\n",
    "  sqrt()"
   ]
  },
  {
   "cell_type": "markdown",
   "id": "36012451",
   "metadata": {},
   "source": [
    "## Reading in functions from an R script\n",
    "\n",
    "Usually the step before packaging your code, is having some functions in another script that you want to read into your analysis. We use the `source` function to do this:"
   ]
  },
  {
   "cell_type": "code",
   "execution_count": 2,
   "id": "e94b924e",
   "metadata": {
    "vscode": {
     "languageId": "r"
    }
   },
   "outputs": [],
   "source": [
    "source(\"convertemp.R\")"
   ]
  },
  {
   "cell_type": "markdown",
   "id": "b4182919",
   "metadata": {},
   "source": [
    "Once you do this, you have access to all functions contained within that script:"
   ]
  },
  {
   "cell_type": "code",
   "execution_count": 3,
   "id": "c00410c5",
   "metadata": {
    "vscode": {
     "languageId": "r"
    }
   },
   "outputs": [
    {
     "data": {
      "text/html": [
       "273.15"
      ],
      "text/latex": [
       "273.15"
      ],
      "text/markdown": [
       "273.15"
      ],
      "text/plain": [
       "[1] 273.15"
      ]
     },
     "metadata": {},
     "output_type": "display_data"
    }
   ],
   "source": [
    "celsius_to_kelvin(0)"
   ]
  },
  {
   "cell_type": "markdown",
   "id": "94a5fea2",
   "metadata": {},
   "source": [
    "## Introduction to R packages\n",
    "\n",
    "- `source(\"script_with_functions.R\")` is useful, but when you start using these functions in different projects you need to keep copying the script, or having overly specific paths...\n",
    "- The next step is packaging your R code so that it can be installed and then used across multiple projects on your (and others) machines without directly pointing to where the code is stored, but instead accessed using the `library` function.\n",
    "- Let's tour a simple R package to get a better understanding of what they are: https://github.com/ttimbers/convertemp"
   ]
  },
  {
   "cell_type": "markdown",
   "id": "61135449",
   "metadata": {},
   "source": [
    "### Install the convertemp R package:\n",
    "\n",
    "In RStudio, type: `devtools::install_github(\"ttimbers/convertemp\")`"
   ]
  },
  {
   "cell_type": "code",
   "execution_count": 1,
   "id": "a5879455",
   "metadata": {
    "vscode": {
     "languageId": "r"
    }
   },
   "outputs": [],
   "source": [
    "library(convertemp)"
   ]
  },
  {
   "cell_type": "code",
   "execution_count": 2,
   "id": "c9d94f75",
   "metadata": {
    "vscode": {
     "languageId": "r"
    }
   },
   "outputs": [
    {
     "name": "stdout",
     "output_type": "stream",
     "text": [
      "celsius_to_kelvin          package:convertemp          R Documentation\n",
      "\n",
      "_\bC_\bo_\bn_\bv_\be_\br_\bt _\bC_\be_\bl_\bs_\bi_\bu_\bs _\bt_\bo _\bK_\be_\bl_\bv_\bi_\bn\n",
      "\n",
      "_\bD_\be_\bs_\bc_\br_\bi_\bp_\bt_\bi_\bo_\bn:\n",
      "\n",
      "     Convert a temperature from Celsius to Kelvin\n",
      "\n",
      "_\bU_\bs_\ba_\bg_\be:\n",
      "\n",
      "     celsius_to_kelvin(temp)\n",
      "     \n",
      "_\bA_\br_\bg_\bu_\bm_\be_\bn_\bt_\bs:\n",
      "\n",
      "    temp: numeric\n",
      "\n",
      "_\bV_\ba_\bl_\bu_\be:\n",
      "\n",
      "     numeric\n",
      "\n",
      "_\bE_\bx_\ba_\bm_\bp_\bl_\be_\bs:\n",
      "\n",
      "     celsius_to_kelvin(0)\n",
      "     "
     ]
    }
   ],
   "source": [
    "?celsius_to_kelvin"
   ]
  },
  {
   "cell_type": "code",
   "execution_count": 3,
   "id": "8b640708",
   "metadata": {
    "vscode": {
     "languageId": "r"
    }
   },
   "outputs": [
    {
     "data": {
      "text/html": [
       "273.15"
      ],
      "text/latex": [
       "273.15"
      ],
      "text/markdown": [
       "273.15"
      ],
      "text/plain": [
       "[1] 273.15"
      ]
     },
     "metadata": {},
     "output_type": "display_data"
    }
   ],
   "source": [
    "celsius_to_kelvin(0)"
   ]
  },
  {
   "cell_type": "markdown",
   "id": "b0133ddb",
   "metadata": {},
   "source": [
    "### Packages and environments\n",
    "\n",
    "- Each package attached by library() becomes one of the parents of the global environment\n",
    "- The immediate parent of the global environment is the last package you attached, the parent of that package is the second to last package you attached, …\n",
    "- This is known as the search path because all objects in these environments can be found from the top-level interactive workspace"
   ]
  },
  {
   "cell_type": "markdown",
   "id": "2156c592",
   "metadata": {},
   "source": [
    "<img src=\"https://d33wubrfki0l68.cloudfront.net/038b2da4f5db1d2a8acaf4ee1e7d08d04ab36ebc/ac22a/diagrams/environments/search-path.png\" width=800>\n",
    "\n",
    "*Source: [Advanced R](https://adv-r.hadley.nz/) by Hadley Wickham*"
   ]
  },
  {
   "cell_type": "code",
   "execution_count": 114,
   "id": "c950a399",
   "metadata": {
    "vscode": {
     "languageId": "r"
    }
   },
   "outputs": [
    {
     "data": {
      "text/html": [
       "<ol class=list-inline>\n",
       "\t<li>'.GlobalEnv'</li>\n",
       "\t<li>'package:forcats'</li>\n",
       "\t<li>'package:stringr'</li>\n",
       "\t<li>'package:dplyr'</li>\n",
       "\t<li>'package:readr'</li>\n",
       "\t<li>'package:tidyr'</li>\n",
       "\t<li>'package:tibble'</li>\n",
       "\t<li>'package:ggplot2'</li>\n",
       "\t<li>'package:tidyverse'</li>\n",
       "\t<li>'package:purrr'</li>\n",
       "\t<li>'package:convertemp'</li>\n",
       "\t<li>'jupyter:irkernel'</li>\n",
       "\t<li>'package:stats'</li>\n",
       "\t<li>'package:graphics'</li>\n",
       "\t<li>'package:grDevices'</li>\n",
       "\t<li>'package:utils'</li>\n",
       "\t<li>'package:datasets'</li>\n",
       "\t<li>'package:methods'</li>\n",
       "\t<li>'Autoloads'</li>\n",
       "\t<li>'package:base'</li>\n",
       "</ol>\n"
      ],
      "text/latex": [
       "\\begin{enumerate*}\n",
       "\\item '.GlobalEnv'\n",
       "\\item 'package:forcats'\n",
       "\\item 'package:stringr'\n",
       "\\item 'package:dplyr'\n",
       "\\item 'package:readr'\n",
       "\\item 'package:tidyr'\n",
       "\\item 'package:tibble'\n",
       "\\item 'package:ggplot2'\n",
       "\\item 'package:tidyverse'\n",
       "\\item 'package:purrr'\n",
       "\\item 'package:convertemp'\n",
       "\\item 'jupyter:irkernel'\n",
       "\\item 'package:stats'\n",
       "\\item 'package:graphics'\n",
       "\\item 'package:grDevices'\n",
       "\\item 'package:utils'\n",
       "\\item 'package:datasets'\n",
       "\\item 'package:methods'\n",
       "\\item 'Autoloads'\n",
       "\\item 'package:base'\n",
       "\\end{enumerate*}\n"
      ],
      "text/markdown": [
       "1. '.GlobalEnv'\n",
       "2. 'package:forcats'\n",
       "3. 'package:stringr'\n",
       "4. 'package:dplyr'\n",
       "5. 'package:readr'\n",
       "6. 'package:tidyr'\n",
       "7. 'package:tibble'\n",
       "8. 'package:ggplot2'\n",
       "9. 'package:tidyverse'\n",
       "10. 'package:purrr'\n",
       "11. 'package:convertemp'\n",
       "12. 'jupyter:irkernel'\n",
       "13. 'package:stats'\n",
       "14. 'package:graphics'\n",
       "15. 'package:grDevices'\n",
       "16. 'package:utils'\n",
       "17. 'package:datasets'\n",
       "18. 'package:methods'\n",
       "19. 'Autoloads'\n",
       "20. 'package:base'\n",
       "\n",
       "\n"
      ],
      "text/plain": [
       " [1] \".GlobalEnv\"         \"package:forcats\"    \"package:stringr\"   \n",
       " [4] \"package:dplyr\"      \"package:readr\"      \"package:tidyr\"     \n",
       " [7] \"package:tibble\"     \"package:ggplot2\"    \"package:tidyverse\" \n",
       "[10] \"package:purrr\"      \"package:convertemp\" \"jupyter:irkernel\"  \n",
       "[13] \"package:stats\"      \"package:graphics\"   \"package:grDevices\" \n",
       "[16] \"package:utils\"      \"package:datasets\"   \"package:methods\"   \n",
       "[19] \"Autoloads\"          \"package:base\"      "
      ]
     },
     "metadata": {},
     "output_type": "display_data"
    }
   ],
   "source": [
    "# You can see the names of these environments with \n",
    "base::search()"
   ]
  },
  {
   "cell_type": "markdown",
   "id": "b22fcc19",
   "metadata": {},
   "source": [
    "### Packages and environments\n",
    "\n",
    "When you attach another package with library(), the parent environment of the global environment changes:"
   ]
  },
  {
   "cell_type": "markdown",
   "id": "39bf1229",
   "metadata": {},
   "source": [
    "<img src=\"https://d33wubrfki0l68.cloudfront.net/7c87a5711e92f0269cead3e59fc1e1e45f3667e9/0290f/diagrams/environments/search-path-2.png\" width=800>\n",
    "\n",
    "*Source: [Advanced R](https://adv-r.hadley.nz/) by Hadley Wickham*"
   ]
  },
  {
   "cell_type": "markdown",
   "id": "e4b03ec8",
   "metadata": {},
   "source": [
    "## Functional style programming in R with `purrr` (Continue)\n",
    "\n",
    "\n",
    "![](https://ih1.redbubble.net/image.329884292.2339/sticker,375x360-bg,ffffff.u1.png)\n",
    "\n",
    "https://purrr.tidyverse.org/"
   ]
  },
  {
   "cell_type": "markdown",
   "id": "234013f0",
   "metadata": {},
   "source": [
    "### Let's start at the beginning with the most general `purrr` function: `map`\n",
    "\n",
    "```\n",
    "map(.x, .f, ...)\n",
    "```\n",
    "\n",
    "Above reads as: `for` every element of `.x` apply `.f`.\n",
    "\n",
    "It takes a vector and a function, calls the function once for each element of the vector, and returns the results in a list. "
   ]
  },
  {
   "cell_type": "markdown",
   "id": "155a6d37",
   "metadata": {},
   "source": [
    "and can be pictured as:\n",
    "\n",
    "<img src=\"https://d33wubrfki0l68.cloudfront.net/12f6af8404d9723dff9cc665028a35f07759299d/d0d9a/diagrams/functionals/map-list.png\" width=500>"
   ]
  },
  {
   "cell_type": "markdown",
   "id": "f3d01a3b",
   "metadata": {},
   "source": [
    "All map functions always return an output vector the same length as the input, which implies that each call to .f must return a single value. If it does not, you’ll get an error:"
   ]
  },
  {
   "cell_type": "code",
   "execution_count": 122,
   "id": "a77fd60d",
   "metadata": {
    "vscode": {
     "languageId": "r"
    }
   },
   "outputs": [
    {
     "data": {
      "text/html": [
       "<ol>\n",
       "\t<li><ol class=list-inline>\n",
       "\t<li>1</li>\n",
       "\t<li>1</li>\n",
       "</ol>\n",
       "</li>\n",
       "\t<li><ol class=list-inline>\n",
       "\t<li>2</li>\n",
       "\t<li>2</li>\n",
       "</ol>\n",
       "</li>\n",
       "\t<li><ol class=list-inline>\n",
       "\t<li>3</li>\n",
       "\t<li>3</li>\n",
       "</ol>\n",
       "</li>\n",
       "</ol>\n"
      ],
      "text/latex": [
       "\\begin{enumerate}\n",
       "\\item \\begin{enumerate*}\n",
       "\\item 1\n",
       "\\item 1\n",
       "\\end{enumerate*}\n",
       "\n",
       "\\item \\begin{enumerate*}\n",
       "\\item 2\n",
       "\\item 2\n",
       "\\end{enumerate*}\n",
       "\n",
       "\\item \\begin{enumerate*}\n",
       "\\item 3\n",
       "\\item 3\n",
       "\\end{enumerate*}\n",
       "\n",
       "\\end{enumerate}\n"
      ],
      "text/markdown": [
       "1. 1. 1\n",
       "2. 1\n",
       "\n",
       "\n",
       "\n",
       "2. 1. 2\n",
       "2. 2\n",
       "\n",
       "\n",
       "\n",
       "3. 1. 3\n",
       "2. 3\n",
       "\n",
       "\n",
       "\n",
       "\n",
       "\n"
      ],
      "text/plain": [
       "[[1]]\n",
       "[1] 1 1\n",
       "\n",
       "[[2]]\n",
       "[1] 2 2\n",
       "\n",
       "[[3]]\n",
       "[1] 3 3\n"
      ]
     },
     "metadata": {},
     "output_type": "display_data"
    }
   ],
   "source": [
    "pair <- function(x) c(x, x)\n",
    "map(1:3, pair)"
   ]
  },
  {
   "cell_type": "code",
   "execution_count": 123,
   "id": "8959d029",
   "metadata": {
    "vscode": {
     "languageId": "r"
    }
   },
   "outputs": [
    {
     "data": {
      "text/html": [
       "<ol>\n",
       "\t<li><ol class=list-inline>\n",
       "\t<li>1</li>\n",
       "\t<li>1</li>\n",
       "</ol>\n",
       "</li>\n",
       "\t<li><ol class=list-inline>\n",
       "\t<li>2</li>\n",
       "\t<li>2</li>\n",
       "</ol>\n",
       "</li>\n",
       "\t<li><ol class=list-inline>\n",
       "\t<li>3</li>\n",
       "\t<li>3</li>\n",
       "</ol>\n",
       "</li>\n",
       "</ol>\n"
      ],
      "text/latex": [
       "\\begin{enumerate}\n",
       "\\item \\begin{enumerate*}\n",
       "\\item 1\n",
       "\\item 1\n",
       "\\end{enumerate*}\n",
       "\n",
       "\\item \\begin{enumerate*}\n",
       "\\item 2\n",
       "\\item 2\n",
       "\\end{enumerate*}\n",
       "\n",
       "\\item \\begin{enumerate*}\n",
       "\\item 3\n",
       "\\item 3\n",
       "\\end{enumerate*}\n",
       "\n",
       "\\end{enumerate}\n"
      ],
      "text/markdown": [
       "1. 1. 1\n",
       "2. 1\n",
       "\n",
       "\n",
       "\n",
       "2. 1. 2\n",
       "2. 2\n",
       "\n",
       "\n",
       "\n",
       "3. 1. 3\n",
       "2. 3\n",
       "\n",
       "\n",
       "\n",
       "\n",
       "\n"
      ],
      "text/plain": [
       "[[1]]\n",
       "[1] 1 1\n",
       "\n",
       "[[2]]\n",
       "[1] 2 2\n",
       "\n",
       "[[3]]\n",
       "[1] 3 3\n"
      ]
     },
     "metadata": {},
     "output_type": "display_data"
    }
   ],
   "source": [
    "#The base equivalent to map() is lapply()\n",
    "lapply(1:3, pair)"
   ]
  },
  {
   "cell_type": "markdown",
   "id": "2d4eb7f2",
   "metadata": {},
   "source": [
    "- Sometimes it is inconvenient to return a list when a simpler data structure would do.\n",
    "- There are four more specific variants: map_lgl(), map_int(), map_dbl(), and map_chr():"
   ]
  },
  {
   "cell_type": "code",
   "execution_count": 52,
   "id": "00d227f3",
   "metadata": {
    "vscode": {
     "languageId": "r"
    }
   },
   "outputs": [
    {
     "data": {
      "text/html": [
       "<dl class=dl-horizontal>\n",
       "\t<dt>mpg</dt>\n",
       "\t\t<dd>'double'</dd>\n",
       "\t<dt>cyl</dt>\n",
       "\t\t<dd>'double'</dd>\n",
       "\t<dt>disp</dt>\n",
       "\t\t<dd>'double'</dd>\n",
       "\t<dt>hp</dt>\n",
       "\t\t<dd>'double'</dd>\n",
       "\t<dt>drat</dt>\n",
       "\t\t<dd>'double'</dd>\n",
       "\t<dt>wt</dt>\n",
       "\t\t<dd>'double'</dd>\n",
       "\t<dt>qsec</dt>\n",
       "\t\t<dd>'double'</dd>\n",
       "\t<dt>vs</dt>\n",
       "\t\t<dd>'double'</dd>\n",
       "\t<dt>am</dt>\n",
       "\t\t<dd>'double'</dd>\n",
       "\t<dt>gear</dt>\n",
       "\t\t<dd>'double'</dd>\n",
       "\t<dt>carb</dt>\n",
       "\t\t<dd>'double'</dd>\n",
       "</dl>\n"
      ],
      "text/latex": [
       "\\begin{description*}\n",
       "\\item[mpg] 'double'\n",
       "\\item[cyl] 'double'\n",
       "\\item[disp] 'double'\n",
       "\\item[hp] 'double'\n",
       "\\item[drat] 'double'\n",
       "\\item[wt] 'double'\n",
       "\\item[qsec] 'double'\n",
       "\\item[vs] 'double'\n",
       "\\item[am] 'double'\n",
       "\\item[gear] 'double'\n",
       "\\item[carb] 'double'\n",
       "\\end{description*}\n"
      ],
      "text/markdown": [
       "mpg\n",
       ":   'double'cyl\n",
       ":   'double'disp\n",
       ":   'double'hp\n",
       ":   'double'drat\n",
       ":   'double'wt\n",
       ":   'double'qsec\n",
       ":   'double'vs\n",
       ":   'double'am\n",
       ":   'double'gear\n",
       ":   'double'carb\n",
       ":   'double'\n",
       "\n"
      ],
      "text/plain": [
       "     mpg      cyl     disp       hp     drat       wt     qsec       vs \n",
       "\"double\" \"double\" \"double\" \"double\" \"double\" \"double\" \"double\" \"double\" \n",
       "      am     gear     carb \n",
       "\"double\" \"double\" \"double\" "
      ]
     },
     "metadata": {},
     "output_type": "display_data"
    }
   ],
   "source": [
    "# map_chr() always returns a character vector\n",
    "map_chr(mtcars, typeof)"
   ]
  },
  {
   "cell_type": "code",
   "execution_count": 53,
   "id": "7b7b3871",
   "metadata": {
    "vscode": {
     "languageId": "r"
    }
   },
   "outputs": [
    {
     "data": {
      "text/html": [
       "<dl class=dl-horizontal>\n",
       "\t<dt>mpg</dt>\n",
       "\t\t<dd>TRUE</dd>\n",
       "\t<dt>cyl</dt>\n",
       "\t\t<dd>TRUE</dd>\n",
       "\t<dt>disp</dt>\n",
       "\t\t<dd>TRUE</dd>\n",
       "\t<dt>hp</dt>\n",
       "\t\t<dd>TRUE</dd>\n",
       "\t<dt>drat</dt>\n",
       "\t\t<dd>TRUE</dd>\n",
       "\t<dt>wt</dt>\n",
       "\t\t<dd>TRUE</dd>\n",
       "\t<dt>qsec</dt>\n",
       "\t\t<dd>TRUE</dd>\n",
       "\t<dt>vs</dt>\n",
       "\t\t<dd>TRUE</dd>\n",
       "\t<dt>am</dt>\n",
       "\t\t<dd>TRUE</dd>\n",
       "\t<dt>gear</dt>\n",
       "\t\t<dd>TRUE</dd>\n",
       "\t<dt>carb</dt>\n",
       "\t\t<dd>TRUE</dd>\n",
       "</dl>\n"
      ],
      "text/latex": [
       "\\begin{description*}\n",
       "\\item[mpg] TRUE\n",
       "\\item[cyl] TRUE\n",
       "\\item[disp] TRUE\n",
       "\\item[hp] TRUE\n",
       "\\item[drat] TRUE\n",
       "\\item[wt] TRUE\n",
       "\\item[qsec] TRUE\n",
       "\\item[vs] TRUE\n",
       "\\item[am] TRUE\n",
       "\\item[gear] TRUE\n",
       "\\item[carb] TRUE\n",
       "\\end{description*}\n"
      ],
      "text/markdown": [
       "mpg\n",
       ":   TRUEcyl\n",
       ":   TRUEdisp\n",
       ":   TRUEhp\n",
       ":   TRUEdrat\n",
       ":   TRUEwt\n",
       ":   TRUEqsec\n",
       ":   TRUEvs\n",
       ":   TRUEam\n",
       ":   TRUEgear\n",
       ":   TRUEcarb\n",
       ":   TRUE\n",
       "\n"
      ],
      "text/plain": [
       " mpg  cyl disp   hp drat   wt qsec   vs   am gear carb \n",
       "TRUE TRUE TRUE TRUE TRUE TRUE TRUE TRUE TRUE TRUE TRUE "
      ]
     },
     "metadata": {},
     "output_type": "display_data"
    }
   ],
   "source": [
    "# map_lgl() always returns a logical vector\n",
    "map_lgl(mtcars, is.double)"
   ]
  },
  {
   "cell_type": "code",
   "execution_count": 54,
   "id": "c246de80",
   "metadata": {
    "vscode": {
     "languageId": "r"
    }
   },
   "outputs": [
    {
     "data": {
      "text/html": [
       "<dl class=dl-horizontal>\n",
       "\t<dt>mpg</dt>\n",
       "\t\t<dd>20.090625</dd>\n",
       "\t<dt>cyl</dt>\n",
       "\t\t<dd>6.1875</dd>\n",
       "\t<dt>disp</dt>\n",
       "\t\t<dd>230.721875</dd>\n",
       "\t<dt>hp</dt>\n",
       "\t\t<dd>146.6875</dd>\n",
       "\t<dt>drat</dt>\n",
       "\t\t<dd>3.5965625</dd>\n",
       "\t<dt>wt</dt>\n",
       "\t\t<dd>3.21725</dd>\n",
       "\t<dt>qsec</dt>\n",
       "\t\t<dd>17.84875</dd>\n",
       "\t<dt>vs</dt>\n",
       "\t\t<dd>0.4375</dd>\n",
       "\t<dt>am</dt>\n",
       "\t\t<dd>0.40625</dd>\n",
       "\t<dt>gear</dt>\n",
       "\t\t<dd>3.6875</dd>\n",
       "\t<dt>carb</dt>\n",
       "\t\t<dd>2.8125</dd>\n",
       "</dl>\n"
      ],
      "text/latex": [
       "\\begin{description*}\n",
       "\\item[mpg] 20.090625\n",
       "\\item[cyl] 6.1875\n",
       "\\item[disp] 230.721875\n",
       "\\item[hp] 146.6875\n",
       "\\item[drat] 3.5965625\n",
       "\\item[wt] 3.21725\n",
       "\\item[qsec] 17.84875\n",
       "\\item[vs] 0.4375\n",
       "\\item[am] 0.40625\n",
       "\\item[gear] 3.6875\n",
       "\\item[carb] 2.8125\n",
       "\\end{description*}\n"
      ],
      "text/markdown": [
       "mpg\n",
       ":   20.090625cyl\n",
       ":   6.1875disp\n",
       ":   230.721875hp\n",
       ":   146.6875drat\n",
       ":   3.5965625wt\n",
       ":   3.21725qsec\n",
       ":   17.84875vs\n",
       ":   0.4375am\n",
       ":   0.40625gear\n",
       ":   3.6875carb\n",
       ":   2.8125\n",
       "\n"
      ],
      "text/plain": [
       "       mpg        cyl       disp         hp       drat         wt       qsec \n",
       " 20.090625   6.187500 230.721875 146.687500   3.596563   3.217250  17.848750 \n",
       "        vs         am       gear       carb \n",
       "  0.437500   0.406250   3.687500   2.812500 "
      ]
     },
     "metadata": {},
     "output_type": "display_data"
    }
   ],
   "source": [
    "# map_dbl() always returns a double vector\n",
    "map_dbl(mtcars, mean)"
   ]
  },
  {
   "cell_type": "markdown",
   "id": "cba15914",
   "metadata": {},
   "source": [
    "### Back to anonymous function calls within `purrr::map*`\n",
    "\n",
    "Long form:\n",
    "\n",
    "```\n",
    "map_dbl(mtcars, function(x) median(x, na.rm  = TRUE))\n",
    "```\n",
    "\n",
    "Short form:\n",
    "```\n",
    "map_dbl(mtcars, ~ median(., na.rm  = TRUE))\n",
    "```\n",
    "\n",
    "In the shortcut we replace `function(VARIABLE)` with a `~` and replace the `VARIABLE` in the function call with a `.`"
   ]
  },
  {
   "cell_type": "code",
   "execution_count": 57,
   "id": "f1566311",
   "metadata": {
    "vscode": {
     "languageId": "r"
    }
   },
   "outputs": [
    {
     "data": {
      "text/html": [
       "<dl class=dl-horizontal>\n",
       "\t<dt>mpg</dt>\n",
       "\t\t<dd>19.2</dd>\n",
       "\t<dt>cyl</dt>\n",
       "\t\t<dd>6</dd>\n",
       "\t<dt>disp</dt>\n",
       "\t\t<dd>196.3</dd>\n",
       "\t<dt>hp</dt>\n",
       "\t\t<dd>123</dd>\n",
       "\t<dt>drat</dt>\n",
       "\t\t<dd>3.695</dd>\n",
       "\t<dt>wt</dt>\n",
       "\t\t<dd>3.325</dd>\n",
       "\t<dt>qsec</dt>\n",
       "\t\t<dd>17.71</dd>\n",
       "\t<dt>vs</dt>\n",
       "\t\t<dd>0</dd>\n",
       "\t<dt>am</dt>\n",
       "\t\t<dd>0</dd>\n",
       "\t<dt>gear</dt>\n",
       "\t\t<dd>4</dd>\n",
       "\t<dt>carb</dt>\n",
       "\t\t<dd>2</dd>\n",
       "</dl>\n"
      ],
      "text/latex": [
       "\\begin{description*}\n",
       "\\item[mpg] 19.2\n",
       "\\item[cyl] 6\n",
       "\\item[disp] 196.3\n",
       "\\item[hp] 123\n",
       "\\item[drat] 3.695\n",
       "\\item[wt] 3.325\n",
       "\\item[qsec] 17.71\n",
       "\\item[vs] 0\n",
       "\\item[am] 0\n",
       "\\item[gear] 4\n",
       "\\item[carb] 2\n",
       "\\end{description*}\n"
      ],
      "text/markdown": [
       "mpg\n",
       ":   19.2cyl\n",
       ":   6disp\n",
       ":   196.3hp\n",
       ":   123drat\n",
       ":   3.695wt\n",
       ":   3.325qsec\n",
       ":   17.71vs\n",
       ":   0am\n",
       ":   0gear\n",
       ":   4carb\n",
       ":   2\n",
       "\n"
      ],
      "text/plain": [
       "    mpg     cyl    disp      hp    drat      wt    qsec      vs      am    gear \n",
       " 19.200   6.000 196.300 123.000   3.695   3.325  17.710   0.000   0.000   4.000 \n",
       "   carb \n",
       "  2.000 "
      ]
     },
     "metadata": {},
     "output_type": "display_data"
    }
   ],
   "source": [
    "#Short form:\n",
    "map_dbl(mtcars, ~ median(., na.rm  = TRUE))"
   ]
  },
  {
   "cell_type": "markdown",
   "id": "62fcd40c",
   "metadata": {},
   "source": [
    "### Mapping with > 1 data objects\n",
    "\n",
    "What if the function you want to map takes in > 1 data objects?\n",
    "\n",
    "- `map2*` and `pmap*` are your friends here!"
   ]
  },
  {
   "cell_type": "markdown",
   "id": "b2df1358",
   "metadata": {},
   "source": [
    "### `purrr::map2*`\n",
    "\n",
    "```\n",
    "map2*(.x, .y, .f, ...)\n",
    "```\n",
    "\n",
    "Above reads as: `for` every element of `.x` and `.y` apply `.f` "
   ]
  },
  {
   "cell_type": "markdown",
   "id": "f1d42184",
   "metadata": {},
   "source": [
    "### `purrr::map2_df` example:\n",
    "\n",
    "\n",
    "For example, say you want to calculate a weighted means (using `weighted.mean`) for columns of a data frame where you had another data frame containing those weights.\n",
    "\n",
    "Let's make some data:"
   ]
  },
  {
   "cell_type": "code",
   "execution_count": 71,
   "id": "74abfe4b",
   "metadata": {
    "vscode": {
     "languageId": "r"
    }
   },
   "outputs": [
    {
     "data": {
      "text/html": [
       "<table>\n",
       "<thead><tr><th scope=col>x1</th><th scope=col>x2</th><th scope=col>x3</th></tr></thead>\n",
       "<tbody>\n",
       "\t<tr><td>        NA</td><td>0.67625640</td><td>0.81602506</td></tr>\n",
       "\t<tr><td>0.54606039</td><td>0.41532448</td><td>0.46129659</td></tr>\n",
       "\t<tr><td>0.08700938</td><td>0.08818477</td><td>0.23009321</td></tr>\n",
       "\t<tr><td>0.01897722</td><td>0.80902725</td><td>0.57036964</td></tr>\n",
       "\t<tr><td>0.35342173</td><td>0.27682371</td><td>0.15864191</td></tr>\n",
       "\t<tr><td>0.16385471</td><td>0.78204922</td><td>0.05006447</td></tr>\n",
       "\t<tr><td>0.18127121</td><td>0.74944675</td><td>0.53457803</td></tr>\n",
       "\t<tr><td>0.06350928</td><td>0.45075040</td><td>0.14705411</td></tr>\n",
       "\t<tr><td>0.79162966</td><td>0.03095526</td><td>0.29811671</td></tr>\n",
       "\t<tr><td>0.88780919</td><td>0.89267576</td><td>0.43712769</td></tr>\n",
       "</tbody>\n",
       "</table>\n"
      ],
      "text/latex": [
       "\\begin{tabular}{r|lll}\n",
       " x1 & x2 & x3\\\\\n",
       "\\hline\n",
       "\t         NA & 0.67625640 & 0.81602506\\\\\n",
       "\t 0.54606039 & 0.41532448 & 0.46129659\\\\\n",
       "\t 0.08700938 & 0.08818477 & 0.23009321\\\\\n",
       "\t 0.01897722 & 0.80902725 & 0.57036964\\\\\n",
       "\t 0.35342173 & 0.27682371 & 0.15864191\\\\\n",
       "\t 0.16385471 & 0.78204922 & 0.05006447\\\\\n",
       "\t 0.18127121 & 0.74944675 & 0.53457803\\\\\n",
       "\t 0.06350928 & 0.45075040 & 0.14705411\\\\\n",
       "\t 0.79162966 & 0.03095526 & 0.29811671\\\\\n",
       "\t 0.88780919 & 0.89267576 & 0.43712769\\\\\n",
       "\\end{tabular}\n"
      ],
      "text/markdown": [
       "\n",
       "| x1 | x2 | x3 |\n",
       "|---|---|---|\n",
       "|         NA | 0.67625640 | 0.81602506 |\n",
       "| 0.54606039 | 0.41532448 | 0.46129659 |\n",
       "| 0.08700938 | 0.08818477 | 0.23009321 |\n",
       "| 0.01897722 | 0.80902725 | 0.57036964 |\n",
       "| 0.35342173 | 0.27682371 | 0.15864191 |\n",
       "| 0.16385471 | 0.78204922 | 0.05006447 |\n",
       "| 0.18127121 | 0.74944675 | 0.53457803 |\n",
       "| 0.06350928 | 0.45075040 | 0.14705411 |\n",
       "| 0.79162966 | 0.03095526 | 0.29811671 |\n",
       "| 0.88780919 | 0.89267576 | 0.43712769 |\n",
       "\n"
      ],
      "text/plain": [
       "   x1         x2         x3        \n",
       "1          NA 0.67625640 0.81602506\n",
       "2  0.54606039 0.41532448 0.46129659\n",
       "3  0.08700938 0.08818477 0.23009321\n",
       "4  0.01897722 0.80902725 0.57036964\n",
       "5  0.35342173 0.27682371 0.15864191\n",
       "6  0.16385471 0.78204922 0.05006447\n",
       "7  0.18127121 0.74944675 0.53457803\n",
       "8  0.06350928 0.45075040 0.14705411\n",
       "9  0.79162966 0.03095526 0.29811671\n",
       "10 0.88780919 0.89267576 0.43712769"
      ]
     },
     "metadata": {},
     "output_type": "display_data"
    },
    {
     "data": {
      "text/html": [
       "<table>\n",
       "<thead><tr><th scope=col>x1</th><th scope=col>x2</th><th scope=col>x3</th></tr></thead>\n",
       "<tbody>\n",
       "\t<tr><td>6 </td><td>8 </td><td> 7</td></tr>\n",
       "\t<tr><td>3 </td><td>6 </td><td>11</td></tr>\n",
       "\t<tr><td>4 </td><td>6 </td><td> 6</td></tr>\n",
       "\t<tr><td>6 </td><td>6 </td><td> 8</td></tr>\n",
       "\t<tr><td>8 </td><td>3 </td><td> 6</td></tr>\n",
       "\t<tr><td>5 </td><td>8 </td><td> 6</td></tr>\n",
       "\t<tr><td>4 </td><td>2 </td><td> 6</td></tr>\n",
       "\t<tr><td>7 </td><td>3 </td><td> 4</td></tr>\n",
       "\t<tr><td>3 </td><td>6 </td><td> 6</td></tr>\n",
       "\t<tr><td>7 </td><td>4 </td><td> 2</td></tr>\n",
       "</tbody>\n",
       "</table>\n"
      ],
      "text/latex": [
       "\\begin{tabular}{r|lll}\n",
       " x1 & x2 & x3\\\\\n",
       "\\hline\n",
       "\t 6  & 8  &  7\\\\\n",
       "\t 3  & 6  & 11\\\\\n",
       "\t 4  & 6  &  6\\\\\n",
       "\t 6  & 6  &  8\\\\\n",
       "\t 8  & 3  &  6\\\\\n",
       "\t 5  & 8  &  6\\\\\n",
       "\t 4  & 2  &  6\\\\\n",
       "\t 7  & 3  &  4\\\\\n",
       "\t 3  & 6  &  6\\\\\n",
       "\t 7  & 4  &  2\\\\\n",
       "\\end{tabular}\n"
      ],
      "text/markdown": [
       "\n",
       "| x1 | x2 | x3 |\n",
       "|---|---|---|\n",
       "| 6  | 8  |  7 |\n",
       "| 3  | 6  | 11 |\n",
       "| 4  | 6  |  6 |\n",
       "| 6  | 6  |  8 |\n",
       "| 8  | 3  |  6 |\n",
       "| 5  | 8  |  6 |\n",
       "| 4  | 2  |  6 |\n",
       "| 7  | 3  |  4 |\n",
       "| 3  | 6  |  6 |\n",
       "| 7  | 4  |  2 |\n",
       "\n"
      ],
      "text/plain": [
       "   x1 x2 x3\n",
       "1  6  8   7\n",
       "2  3  6  11\n",
       "3  4  6   6\n",
       "4  6  6   8\n",
       "5  8  3   6\n",
       "6  5  8   6\n",
       "7  4  2   6\n",
       "8  7  3   4\n",
       "9  3  6   6\n",
       "10 7  4   2"
      ]
     },
     "metadata": {},
     "output_type": "display_data"
    }
   ],
   "source": [
    "#library(dplyr, quietly = TRUE)\n",
    "data <- tibble(x1 = runif(10),\n",
    "               x2 = runif(10),\n",
    "               x3 = runif(10))\n",
    "data[1, 1] <- NA\n",
    "weights <- tibble(x1 = rpois(10, 5) + 1,\n",
    "                 x2 = rpois(10, 5) + 1,\n",
    "                 x3 = rpois(10, 5) + 1,)\n",
    "\n",
    "data\n",
    "weights"
   ]
  },
  {
   "cell_type": "markdown",
   "id": "f01dafab",
   "metadata": {},
   "source": [
    "### `purrr::map2_df` example:\n",
    "\n",
    "Let's use `map2_df` to calculate the weighted mean using these two data frames."
   ]
  },
  {
   "cell_type": "code",
   "execution_count": 72,
   "id": "1a926317",
   "metadata": {
    "vscode": {
     "languageId": "r"
    }
   },
   "outputs": [
    {
     "name": "stdout",
     "output_type": "stream",
     "text": [
      "weighted.mean              package:stats               R Documentation\n",
      "\n",
      "_\bW_\be_\bi_\bg_\bh_\bt_\be_\bd _\bA_\br_\bi_\bt_\bh_\bm_\be_\bt_\bi_\bc _\bM_\be_\ba_\bn\n",
      "\n",
      "_\bD_\be_\bs_\bc_\br_\bi_\bp_\bt_\bi_\bo_\bn:\n",
      "\n",
      "     Compute a weighted mean.\n",
      "\n",
      "_\bU_\bs_\ba_\bg_\be:\n",
      "\n",
      "     weighted.mean(x, w, ...)\n",
      "     \n",
      "     ## Default S3 method:\n",
      "     weighted.mean(x, w, ..., na.rm = FALSE)\n",
      "     \n",
      "_\bA_\br_\bg_\bu_\bm_\be_\bn_\bt_\bs:\n",
      "\n",
      "       x: an object containing the values whose weighted mean is to be\n",
      "          computed.\n",
      "\n",
      "       w: a numerical vector of weights the same length as ‘x’ giving\n",
      "          the weights to use for elements of ‘x’.\n",
      "\n",
      "     ...: arguments to be passed to or from methods.\n",
      "\n",
      "   na.rm: a logical value indicating whether ‘NA’ values in ‘x’ should\n",
      "          be stripped before the computation proceeds.\n",
      "\n",
      "_\bD_\be_\bt_\ba_\bi_\bl_\bs:\n",
      "\n",
      "     This is a generic function and methods can be defined for the\n",
      "     first argument ‘x’: apart from the default methods there are\n",
      "     methods for the date-time classes ‘\"POSIXct\"’, ‘\"POSIXlt\"’,\n",
      "     ‘\"difftime\"’ and ‘\"Date\"’.  The default method will work for any\n",
      "     numeric-like object for which ‘[’, multiplication, division and\n",
      "     ‘sum’ have suitable methods, including complex vectors.\n",
      "\n",
      "     If ‘w’ is missing then all elements of ‘x’ are given the same\n",
      "     weight, otherwise the weights coerced to numeric by ‘as.numeric’\n",
      "     and normalized to sum to one (if possible: if their sum is zero or\n",
      "     infinite the value is likely to be ‘NaN’).\n",
      "\n",
      "     Missing values in ‘w’ are not handled specially and so give a\n",
      "     missing value as the result.  However, zero weights _are_ handled\n",
      "     specially and the corresponding ‘x’ values are omitted from the\n",
      "     sum.\n",
      "\n",
      "_\bV_\ba_\bl_\bu_\be:\n",
      "\n",
      "     For the default method, a length-one numeric vector.\n",
      "\n",
      "_\bS_\be_\be _\bA_\bl_\bs_\bo:\n",
      "\n",
      "     ‘mean’\n",
      "\n",
      "_\bE_\bx_\ba_\bm_\bp_\bl_\be_\bs:\n",
      "\n",
      "     ## GPA from Siegel 1994\n",
      "     wt <- c(5,  5,  4,  1)/15\n",
      "     x <- c(3.7,3.3,3.5,2.8)\n",
      "     xm <- weighted.mean(x, wt)\n",
      "     "
     ]
    }
   ],
   "source": [
    "?weighted.mean"
   ]
  },
  {
   "cell_type": "code",
   "execution_count": 73,
   "id": "73a0c1a2",
   "metadata": {
    "vscode": {
     "languageId": "r"
    }
   },
   "outputs": [
    {
     "data": {
      "text/html": [
       "<table>\n",
       "<thead><tr><th scope=col>x1</th><th scope=col>x2</th><th scope=col>x3</th></tr></thead>\n",
       "<tbody>\n",
       "\t<tr><td>NA       </td><td>0.5188407</td><td>0.394207 </td></tr>\n",
       "</tbody>\n",
       "</table>\n"
      ],
      "text/latex": [
       "\\begin{tabular}{r|lll}\n",
       " x1 & x2 & x3\\\\\n",
       "\\hline\n",
       "\t NA        & 0.5188407 & 0.394207 \\\\\n",
       "\\end{tabular}\n"
      ],
      "text/markdown": [
       "\n",
       "| x1 | x2 | x3 |\n",
       "|---|---|---|\n",
       "| NA        | 0.5188407 | 0.394207  |\n",
       "\n"
      ],
      "text/plain": [
       "  x1 x2        x3      \n",
       "1 NA 0.5188407 0.394207"
      ]
     },
     "metadata": {},
     "output_type": "display_data"
    }
   ],
   "source": [
    "map2_df(data, weights, weighted.mean)"
   ]
  },
  {
   "cell_type": "markdown",
   "id": "80977b23",
   "metadata": {},
   "source": [
    "Ah! That NA got us again! We need to write this an an anonymous function so that we can pass in `na.rm = TRUE`"
   ]
  },
  {
   "cell_type": "markdown",
   "id": "8a05c434",
   "metadata": {},
   "source": [
    "### `purrr::map2_df` example:\n",
    "\n",
    "Now using an anonymous function with the long form:"
   ]
  },
  {
   "cell_type": "code",
   "execution_count": 74,
   "id": "50d7cc17",
   "metadata": {
    "vscode": {
     "languageId": "r"
    }
   },
   "outputs": [
    {
     "data": {
      "text/html": [
       "<table>\n",
       "<thead><tr><th scope=col>x1</th><th scope=col>x2</th><th scope=col>x3</th></tr></thead>\n",
       "<tbody>\n",
       "\t<tr><td>0.3299135</td><td>0.5188407</td><td>0.394207 </td></tr>\n",
       "</tbody>\n",
       "</table>\n"
      ],
      "text/latex": [
       "\\begin{tabular}{r|lll}\n",
       " x1 & x2 & x3\\\\\n",
       "\\hline\n",
       "\t 0.3299135 & 0.5188407 & 0.394207 \\\\\n",
       "\\end{tabular}\n"
      ],
      "text/markdown": [
       "\n",
       "| x1 | x2 | x3 |\n",
       "|---|---|---|\n",
       "| 0.3299135 | 0.5188407 | 0.394207  |\n",
       "\n"
      ],
      "text/plain": [
       "  x1        x2        x3      \n",
       "1 0.3299135 0.5188407 0.394207"
      ]
     },
     "metadata": {},
     "output_type": "display_data"
    }
   ],
   "source": [
    "map2_df(data, weights, function(x, y) weighted.mean(x, y, na.rm = TRUE))"
   ]
  },
  {
   "cell_type": "code",
   "execution_count": 84,
   "id": "ebd54c67",
   "metadata": {
    "vscode": {
     "languageId": "r"
    }
   },
   "outputs": [
    {
     "data": {
      "text/html": [
       "<table>\n",
       "<thead><tr><th scope=col>x1</th><th scope=col>x2</th><th scope=col>x3</th></tr></thead>\n",
       "<tbody>\n",
       "\t<tr><td>0.3299135</td><td>0.5188407</td><td>0.394207 </td></tr>\n",
       "</tbody>\n",
       "</table>\n"
      ],
      "text/latex": [
       "\\begin{tabular}{r|lll}\n",
       " x1 & x2 & x3\\\\\n",
       "\\hline\n",
       "\t 0.3299135 & 0.5188407 & 0.394207 \\\\\n",
       "\\end{tabular}\n"
      ],
      "text/markdown": [
       "\n",
       "| x1 | x2 | x3 |\n",
       "|---|---|---|\n",
       "| 0.3299135 | 0.5188407 | 0.394207  |\n",
       "\n"
      ],
      "text/plain": [
       "  x1        x2        x3      \n",
       "1 0.3299135 0.5188407 0.394207"
      ]
     },
     "metadata": {},
     "output_type": "display_data"
    }
   ],
   "source": [
    "#Now with the short form:\n",
    "map2_df(data, weights, ~ weighted.mean(.x, .y, na.rm = TRUE))"
   ]
  },
  {
   "cell_type": "markdown",
   "id": "d8350667",
   "metadata": {},
   "source": [
    "### `purrr::map2*`\n",
    "\n",
    "Also, if `y` has less elements than `x`, it recycles `y`:\n",
    "\n",
    "<img src=\"https://d33wubrfki0l68.cloudfront.net/55032525ec77409e381dcd200a47e1787e65b964/dcaef/diagrams/functionals/map2-recycle.png\" width=400>"
   ]
  },
  {
   "cell_type": "markdown",
   "id": "14304aff",
   "metadata": {},
   "source": [
    "This is most useful when y has only one element."
   ]
  },
  {
   "cell_type": "markdown",
   "id": "33e3a496",
   "metadata": {},
   "source": [
    "### `purrr::pmap*`\n",
    "\n",
    "```\n",
    "pmap*(list(.x1, .x2, ... .xn), .f, ...)\n",
    "```\n",
    "\n",
    "Above reads as: `for` every element of in the **list** (that contains `.x1, .x2, ... .xn`) apply `.f` "
   ]
  },
  {
   "cell_type": "markdown",
   "id": "a14a4af5",
   "metadata": {},
   "source": [
    "### Example of using `pmap_df` to calculate the weighted means:"
   ]
  },
  {
   "cell_type": "code",
   "execution_count": 86,
   "id": "60c0baf8",
   "metadata": {
    "vscode": {
     "languageId": "r"
    }
   },
   "outputs": [
    {
     "data": {
      "text/html": [
       "<table>\n",
       "<thead><tr><th scope=col>x1</th><th scope=col>x2</th><th scope=col>x3</th></tr></thead>\n",
       "<tbody>\n",
       "\t<tr><td>0.6172998</td><td>0.6851068</td><td>0.5054811</td></tr>\n",
       "</tbody>\n",
       "</table>\n"
      ],
      "text/latex": [
       "\\begin{tabular}{r|lll}\n",
       " x1 & x2 & x3\\\\\n",
       "\\hline\n",
       "\t 0.6172998 & 0.6851068 & 0.5054811\\\\\n",
       "\\end{tabular}\n"
      ],
      "text/markdown": [
       "\n",
       "| x1 | x2 | x3 |\n",
       "|---|---|---|\n",
       "| 0.6172998 | 0.6851068 | 0.5054811 |\n",
       "\n"
      ],
      "text/plain": [
       "  x1        x2        x3       \n",
       "1 0.6172998 0.6851068 0.5054811"
      ]
     },
     "metadata": {},
     "output_type": "display_data"
    }
   ],
   "source": [
    "pmap_df(list(data, weights), ~ weighted.mean(.x, .y, na.rm = TRUE))"
   ]
  },
  {
   "cell_type": "markdown",
   "id": "15d368d6",
   "metadata": {},
   "source": [
    "But what happens when you have > 2 arguments?"
   ]
  },
  {
   "cell_type": "markdown",
   "id": "0fb916df",
   "metadata": {},
   "source": [
    "### More than two arguments\n",
    "\n",
    "Without an anonymous function, works as so:"
   ]
  },
  {
   "cell_type": "code",
   "execution_count": 90,
   "id": "9ef44f50",
   "metadata": {
    "vscode": {
     "languageId": "r"
    }
   },
   "outputs": [
    {
     "data": {
      "text/html": [
       "<ol class=list-inline>\n",
       "\t<li>4</li>\n",
       "\t<li>5</li>\n",
       "</ol>\n"
      ],
      "text/latex": [
       "\\begin{enumerate*}\n",
       "\\item 4\n",
       "\\item 5\n",
       "\\end{enumerate*}\n"
      ],
      "text/markdown": [
       "1. 4\n",
       "2. 5\n",
       "\n",
       "\n"
      ],
      "text/plain": [
       "[1] 4 5"
      ]
     },
     "metadata": {},
     "output_type": "display_data"
    }
   ],
   "source": [
    "f1 <- function(x, y, z) {\n",
    "    x + y + z\n",
    "}\n",
    "\n",
    "pmap_dbl(list(c(1, 1), c(1, 2), c(2, 2)), f1)"
   ]
  },
  {
   "cell_type": "markdown",
   "id": "0e88ab50",
   "metadata": {},
   "source": [
    "If you want to use an anonymous function, then use `..1`, `..2`, `..3`, and so on to specify where the mapped objets go in your function:"
   ]
  },
  {
   "cell_type": "code",
   "execution_count": 89,
   "id": "2b0823e4",
   "metadata": {
    "vscode": {
     "languageId": "r"
    }
   },
   "outputs": [
    {
     "data": {
      "text/html": [
       "<ol class=list-inline>\n",
       "\t<li>3</li>\n",
       "\t<li>4</li>\n",
       "</ol>\n"
      ],
      "text/latex": [
       "\\begin{enumerate*}\n",
       "\\item 3\n",
       "\\item 4\n",
       "\\end{enumerate*}\n"
      ],
      "text/markdown": [
       "1. 3\n",
       "2. 4\n",
       "\n",
       "\n"
      ],
      "text/plain": [
       "[1] 3 4"
      ]
     },
     "metadata": {},
     "output_type": "display_data"
    }
   ],
   "source": [
    "f2 <- function(x, y, z, a = 0) {\n",
    "    x + y + z + a\n",
    "}\n",
    "\n",
    "pmap_dbl(list(c(1, 1), c(1, 2), c(2, 2)), ~ f2(..1, ..2, ..3, a = -1))"
   ]
  },
  {
   "cell_type": "markdown",
   "id": "232ddf18",
   "metadata": {},
   "source": [
    "We only used two inputs to our function here, but we can use any number with `pmap`, we just need to add them to our list!"
   ]
  },
  {
   "cell_type": "markdown",
   "id": "be78ce3a",
   "metadata": {},
   "source": [
    "### Want to iterate row-wise, instead of column-wise?\n",
    "\n",
    "Here you can use `purrr::pmap` on a single data frame!\n",
    "\n",
    "This: ```purrr::pmap(df, .f)```\n",
    "\n",
    "reads as: `for` every tuple in `.l` (*i.e.*, each row of `df`) apply `.f`"
   ]
  },
  {
   "cell_type": "markdown",
   "id": "04468fad",
   "metadata": {},
   "source": [
    "The key point is that `pmap()` iterates over tuples = the collection of `i`-th elements of `k` lists. A data frame row is an interesting special case."
   ]
  },
  {
   "cell_type": "markdown",
   "id": "bc4ec978",
   "metadata": {},
   "source": [
    "### Here's an example of row-wise iteration \n",
    "\n",
    "Here we calculate the sum for each row in the `mtcars` data frame:"
   ]
  },
  {
   "cell_type": "code",
   "execution_count": 91,
   "id": "f33ccef5",
   "metadata": {
    "vscode": {
     "languageId": "r"
    }
   },
   "outputs": [
    {
     "data": {
      "text/html": [
       "<ol>\n",
       "\t<li>328.98</li>\n",
       "\t<li>329.795</li>\n",
       "\t<li>259.58</li>\n",
       "\t<li>426.135</li>\n",
       "\t<li>590.31</li>\n",
       "\t<li>385.54</li>\n",
       "\t<li>656.92</li>\n",
       "\t<li>270.98</li>\n",
       "\t<li>299.57</li>\n",
       "\t<li>350.46</li>\n",
       "\t<li>349.66</li>\n",
       "\t<li>510.74</li>\n",
       "\t<li>511.5</li>\n",
       "\t<li>509.85</li>\n",
       "\t<li>728.56</li>\n",
       "\t<li>726.644</li>\n",
       "\t<li>725.695</li>\n",
       "\t<li>213.85</li>\n",
       "\t<li>195.165</li>\n",
       "\t<li>206.955</li>\n",
       "\t<li>273.775</li>\n",
       "\t<li>519.65</li>\n",
       "\t<li>506.085</li>\n",
       "\t<li>646.28</li>\n",
       "\t<li>631.175</li>\n",
       "\t<li>208.215</li>\n",
       "\t<li>272.57</li>\n",
       "\t<li>273.683</li>\n",
       "\t<li>670.69</li>\n",
       "\t<li>379.59</li>\n",
       "\t<li>694.71</li>\n",
       "\t<li>288.89</li>\n",
       "</ol>\n"
      ],
      "text/latex": [
       "\\begin{enumerate}\n",
       "\\item 328.98\n",
       "\\item 329.795\n",
       "\\item 259.58\n",
       "\\item 426.135\n",
       "\\item 590.31\n",
       "\\item 385.54\n",
       "\\item 656.92\n",
       "\\item 270.98\n",
       "\\item 299.57\n",
       "\\item 350.46\n",
       "\\item 349.66\n",
       "\\item 510.74\n",
       "\\item 511.5\n",
       "\\item 509.85\n",
       "\\item 728.56\n",
       "\\item 726.644\n",
       "\\item 725.695\n",
       "\\item 213.85\n",
       "\\item 195.165\n",
       "\\item 206.955\n",
       "\\item 273.775\n",
       "\\item 519.65\n",
       "\\item 506.085\n",
       "\\item 646.28\n",
       "\\item 631.175\n",
       "\\item 208.215\n",
       "\\item 272.57\n",
       "\\item 273.683\n",
       "\\item 670.69\n",
       "\\item 379.59\n",
       "\\item 694.71\n",
       "\\item 288.89\n",
       "\\end{enumerate}\n"
      ],
      "text/markdown": [
       "1. 328.98\n",
       "2. 329.795\n",
       "3. 259.58\n",
       "4. 426.135\n",
       "5. 590.31\n",
       "6. 385.54\n",
       "7. 656.92\n",
       "8. 270.98\n",
       "9. 299.57\n",
       "10. 350.46\n",
       "11. 349.66\n",
       "12. 510.74\n",
       "13. 511.5\n",
       "14. 509.85\n",
       "15. 728.56\n",
       "16. 726.644\n",
       "17. 725.695\n",
       "18. 213.85\n",
       "19. 195.165\n",
       "20. 206.955\n",
       "21. 273.775\n",
       "22. 519.65\n",
       "23. 506.085\n",
       "24. 646.28\n",
       "25. 631.175\n",
       "26. 208.215\n",
       "27. 272.57\n",
       "28. 273.683\n",
       "29. 670.69\n",
       "30. 379.59\n",
       "31. 694.71\n",
       "32. 288.89\n",
       "\n",
       "\n"
      ],
      "text/plain": [
       "[[1]]\n",
       "[1] 328.98\n",
       "\n",
       "[[2]]\n",
       "[1] 329.795\n",
       "\n",
       "[[3]]\n",
       "[1] 259.58\n",
       "\n",
       "[[4]]\n",
       "[1] 426.135\n",
       "\n",
       "[[5]]\n",
       "[1] 590.31\n",
       "\n",
       "[[6]]\n",
       "[1] 385.54\n",
       "\n",
       "[[7]]\n",
       "[1] 656.92\n",
       "\n",
       "[[8]]\n",
       "[1] 270.98\n",
       "\n",
       "[[9]]\n",
       "[1] 299.57\n",
       "\n",
       "[[10]]\n",
       "[1] 350.46\n",
       "\n",
       "[[11]]\n",
       "[1] 349.66\n",
       "\n",
       "[[12]]\n",
       "[1] 510.74\n",
       "\n",
       "[[13]]\n",
       "[1] 511.5\n",
       "\n",
       "[[14]]\n",
       "[1] 509.85\n",
       "\n",
       "[[15]]\n",
       "[1] 728.56\n",
       "\n",
       "[[16]]\n",
       "[1] 726.644\n",
       "\n",
       "[[17]]\n",
       "[1] 725.695\n",
       "\n",
       "[[18]]\n",
       "[1] 213.85\n",
       "\n",
       "[[19]]\n",
       "[1] 195.165\n",
       "\n",
       "[[20]]\n",
       "[1] 206.955\n",
       "\n",
       "[[21]]\n",
       "[1] 273.775\n",
       "\n",
       "[[22]]\n",
       "[1] 519.65\n",
       "\n",
       "[[23]]\n",
       "[1] 506.085\n",
       "\n",
       "[[24]]\n",
       "[1] 646.28\n",
       "\n",
       "[[25]]\n",
       "[1] 631.175\n",
       "\n",
       "[[26]]\n",
       "[1] 208.215\n",
       "\n",
       "[[27]]\n",
       "[1] 272.57\n",
       "\n",
       "[[28]]\n",
       "[1] 273.683\n",
       "\n",
       "[[29]]\n",
       "[1] 670.69\n",
       "\n",
       "[[30]]\n",
       "[1] 379.59\n",
       "\n",
       "[[31]]\n",
       "[1] 694.71\n",
       "\n",
       "[[32]]\n",
       "[1] 288.89\n"
      ]
     },
     "metadata": {},
     "output_type": "display_data"
    }
   ],
   "source": [
    "pmap(mtcars, sum)"
   ]
  },
  {
   "cell_type": "markdown",
   "id": "74a9a880",
   "metadata": {
    "vscode": {
     "languageId": "r"
    }
   },
   "source": [
    "## R Hypothesis Testing and Linear Regression"
   ]
  },
  {
   "cell_type": "markdown",
   "id": "cfd3e5ff",
   "metadata": {},
   "source": [
    "### HYPOTHESIS TESTING: \n",
    "It is used to determine if a relationship exists between two sets of data and make decisions/conclusions about that relationship."
   ]
  },
  {
   "cell_type": "markdown",
   "id": "e9935a8d",
   "metadata": {},
   "source": [
    "#### Useful for:\n",
    "1. business - determining effectiveness of marketing, identifying customer buying properties, online advertising optimization\n",
    "2. science/social science - determining if data sets match a model, understanding scientific process based on collected data values, analysis of study data\n"
   ]
  },
  {
   "cell_type": "markdown",
   "id": "47306e47",
   "metadata": {},
   "source": [
    "#### STEPS\n",
    "\n",
    "1. Declare hypotheses statement and null hypothesis\n",
    "2. Decide on test statistic\n",
    "3. Use P-value and/or confidence interval to make decision/conclusion"
   ]
  },
  {
   "cell_type": "markdown",
   "id": "1568a23b",
   "metadata": {},
   "source": [
    "- A p-value of 0.05 “signifies that if the null hypothesis is true, and all other assumptions made are valid, there is a 5% chance of obtaining a result at least as extreme as the one observed” (http://www.nature.com/news/statisticians-issue-warning-over-misuse-of-p-values-1.19503)\n",
    "- Data is used as evidence. Perform a test in order to make a decision: reject the null hypothesis or fail to reject the null hypothesis.\n",
    "- NOTE: We cannot prove if the null hypothesis is true or false. We can only show that there is evidence to suggest one conclusion or another. "
   ]
  },
  {
   "cell_type": "markdown",
   "id": "5d4e9f3a",
   "metadata": {},
   "source": [
    "#### Assumptions\n",
    "\n",
    "There are assumptions that need to be met before performing statistical tests. \n",
    "\n",
    "- For the one sample case\n",
    "    - Population of interest is normally distributed\n",
    "    - Independent random samples are taken\n",
    "\n",
    "- For the two sample case:\n",
    "    - The two samples are independent\n",
    "    - Populations of interest are normally distributed\n"
   ]
  },
  {
   "cell_type": "markdown",
   "id": "662ac80b",
   "metadata": {},
   "source": [
    "### One Sample Test\n",
    "\n",
    "A one sample test is used when a sample is compared to a model or known population/estimate. For example, it used to determine whether the sample mean is different from a specific value.\n",
    "\n",
    "As an example, using the car data test if the average mileage is different than 10 km/L. "
   ]
  },
  {
   "cell_type": "code",
   "execution_count": 103,
   "id": "5182c7a0",
   "metadata": {
    "vscode": {
     "languageId": "r"
    }
   },
   "outputs": [
    {
     "data": {
      "text/html": [
       "<table>\n",
       "<thead><tr><th scope=col>Total.km</th><th scope=col>Distance</th><th scope=col>Litres</th><th scope=col>Price</th><th scope=col>Total</th><th scope=col>km.L</th><th scope=col>mi.gal</th></tr></thead>\n",
       "<tbody>\n",
       "\t<tr><td>    NA</td><td>487   </td><td>44.29 </td><td>1.169 </td><td>51.78 </td><td>10.99 </td><td>25.86 </td></tr>\n",
       "\t<tr><td>    NA</td><td>304   </td><td>27.59 </td><td>1.109 </td><td>30.60 </td><td>11.02 </td><td>25.91 </td></tr>\n",
       "\t<tr><td>244270</td><td>290   </td><td>26.97 </td><td>1.219 </td><td>32.88 </td><td>10.75 </td><td>25.29 </td></tr>\n",
       "\t<tr><td>244728</td><td>458   </td><td>48.34 </td><td>1.219 </td><td>58.92 </td><td> 9.48 </td><td>22.29 </td></tr>\n",
       "\t<tr><td>245155</td><td>427   </td><td>42.94 </td><td>1.259 </td><td>54.06 </td><td> 9.94 </td><td>23.39 </td></tr>\n",
       "\t<tr><td>245631</td><td>476   </td><td>45.21 </td><td>1.259 </td><td>56.92 </td><td>10.53 </td><td>24.76 </td></tr>\n",
       "\t<tr><td>246131</td><td>500   </td><td>47.38 </td><td>1.299 </td><td>61.54 </td><td>10.55 </td><td>24.82 </td></tr>\n",
       "\t<tr><td>246515</td><td>384   </td><td>36.22 </td><td>1.249 </td><td>45.24 </td><td>10.60 </td><td>24.94 </td></tr>\n",
       "\t<tr><td>247019</td><td>504   </td><td>47.28 </td><td>1.269 </td><td>60.00 </td><td>10.66 </td><td>25.07 </td></tr>\n",
       "\t<tr><td>247372</td><td>353   </td><td>37.41 </td><td>1.209 </td><td>45.23 </td><td> 9.44 </td><td>22.19 </td></tr>\n",
       "\t<tr><td>247662</td><td>290   </td><td>30.40 </td><td>1.209 </td><td>36.75 </td><td> 9.54 </td><td>22.44 </td></tr>\n",
       "\t<tr><td>248164</td><td>502   </td><td>50.11 </td><td>1.179 </td><td>59.08 </td><td>10.02 </td><td>23.56 </td></tr>\n",
       "\t<tr><td>248535</td><td>371   </td><td>37.39 </td><td>1.179 </td><td>44.08 </td><td> 9.92 </td><td>23.34 </td></tr>\n",
       "\t<tr><td>249043</td><td>508   </td><td>49.88 </td><td>1.199 </td><td>59.80 </td><td>10.19 </td><td>23.96 </td></tr>\n",
       "\t<tr><td>249543</td><td>500   </td><td>49.68 </td><td>1.159 </td><td>57.58 </td><td>10.06 </td><td>23.67 </td></tr>\n",
       "\t<tr><td>250126</td><td>143   </td><td>16.33 </td><td>1.149 </td><td>18.76 </td><td> 8.76 </td><td>20.60 </td></tr>\n",
       "\t<tr><td>250449</td><td>323   </td><td>24.68 </td><td>1.239 </td><td>30.58 </td><td>13.09 </td><td>30.78 </td></tr>\n",
       "\t<tr><td>250714</td><td>265   </td><td>21.18 </td><td>0.989 </td><td>20.95 </td><td>12.51 </td><td>29.43 </td></tr>\n",
       "\t<tr><td>251002</td><td>288   </td><td>23.08 </td><td>0.959 </td><td>22.13 </td><td>12.48 </td><td>29.36 </td></tr>\n",
       "\t<tr><td>251414</td><td>412   </td><td>29.94 </td><td>1.199 </td><td>35.90 </td><td>13.76 </td><td>32.37 </td></tr>\n",
       "\t<tr><td>249983</td><td>440   </td><td>41.85 </td><td>1.159 </td><td>48.50 </td><td>10.51 </td><td>24.73 </td></tr>\n",
       "\t<tr><td>251917</td><td>503   </td><td>48.83 </td><td>1.039 </td><td>50.73 </td><td>10.30 </td><td>24.23 </td></tr>\n",
       "\t<tr><td>252349</td><td>432   </td><td>45.70 </td><td>0.979 </td><td>44.74 </td><td> 9.45 </td><td>22.23 </td></tr>\n",
       "\t<tr><td>252831</td><td>482   </td><td>49.16 </td><td>1.079 </td><td>53.04 </td><td> 9.81 </td><td>23.06 </td></tr>\n",
       "\t<tr><td>253233</td><td>402   </td><td>45.76 </td><td>1.059 </td><td>48.46 </td><td> 8.78 </td><td>20.66 </td></tr>\n",
       "\t<tr><td>253535</td><td>302   </td><td>31.94 </td><td>0.999 </td><td>31.91 </td><td> 9.45 </td><td>22.24 </td></tr>\n",
       "\t<tr><td>253977</td><td>442   </td><td>46.13 </td><td>0.939 </td><td>43.32 </td><td> 9.58 </td><td>22.54 </td></tr>\n",
       "\t<tr><td>254250</td><td>273   </td><td>30.33 </td><td>0.909 </td><td>27.57 </td><td> 9.00 </td><td>21.17 </td></tr>\n",
       "\t<tr><td>254684</td><td>434   </td><td>44.73 </td><td>0.999 </td><td>44.68 </td><td> 9.70 </td><td>22.82 </td></tr>\n",
       "\t<tr><td>255014</td><td>330   </td><td>33.71 </td><td>0.969 </td><td>32.66 </td><td> 9.79 </td><td>23.03 </td></tr>\n",
       "</tbody>\n",
       "</table>\n"
      ],
      "text/latex": [
       "\\begin{tabular}{r|lllllll}\n",
       " Total.km & Distance & Litres & Price & Total & km.L & mi.gal\\\\\n",
       "\\hline\n",
       "\t     NA & 487    & 44.29  & 1.169  & 51.78  & 10.99  & 25.86 \\\\\n",
       "\t     NA & 304    & 27.59  & 1.109  & 30.60  & 11.02  & 25.91 \\\\\n",
       "\t 244270 & 290    & 26.97  & 1.219  & 32.88  & 10.75  & 25.29 \\\\\n",
       "\t 244728 & 458    & 48.34  & 1.219  & 58.92  &  9.48  & 22.29 \\\\\n",
       "\t 245155 & 427    & 42.94  & 1.259  & 54.06  &  9.94  & 23.39 \\\\\n",
       "\t 245631 & 476    & 45.21  & 1.259  & 56.92  & 10.53  & 24.76 \\\\\n",
       "\t 246131 & 500    & 47.38  & 1.299  & 61.54  & 10.55  & 24.82 \\\\\n",
       "\t 246515 & 384    & 36.22  & 1.249  & 45.24  & 10.60  & 24.94 \\\\\n",
       "\t 247019 & 504    & 47.28  & 1.269  & 60.00  & 10.66  & 25.07 \\\\\n",
       "\t 247372 & 353    & 37.41  & 1.209  & 45.23  &  9.44  & 22.19 \\\\\n",
       "\t 247662 & 290    & 30.40  & 1.209  & 36.75  &  9.54  & 22.44 \\\\\n",
       "\t 248164 & 502    & 50.11  & 1.179  & 59.08  & 10.02  & 23.56 \\\\\n",
       "\t 248535 & 371    & 37.39  & 1.179  & 44.08  &  9.92  & 23.34 \\\\\n",
       "\t 249043 & 508    & 49.88  & 1.199  & 59.80  & 10.19  & 23.96 \\\\\n",
       "\t 249543 & 500    & 49.68  & 1.159  & 57.58  & 10.06  & 23.67 \\\\\n",
       "\t 250126 & 143    & 16.33  & 1.149  & 18.76  &  8.76  & 20.60 \\\\\n",
       "\t 250449 & 323    & 24.68  & 1.239  & 30.58  & 13.09  & 30.78 \\\\\n",
       "\t 250714 & 265    & 21.18  & 0.989  & 20.95  & 12.51  & 29.43 \\\\\n",
       "\t 251002 & 288    & 23.08  & 0.959  & 22.13  & 12.48  & 29.36 \\\\\n",
       "\t 251414 & 412    & 29.94  & 1.199  & 35.90  & 13.76  & 32.37 \\\\\n",
       "\t 249983 & 440    & 41.85  & 1.159  & 48.50  & 10.51  & 24.73 \\\\\n",
       "\t 251917 & 503    & 48.83  & 1.039  & 50.73  & 10.30  & 24.23 \\\\\n",
       "\t 252349 & 432    & 45.70  & 0.979  & 44.74  &  9.45  & 22.23 \\\\\n",
       "\t 252831 & 482    & 49.16  & 1.079  & 53.04  &  9.81  & 23.06 \\\\\n",
       "\t 253233 & 402    & 45.76  & 1.059  & 48.46  &  8.78  & 20.66 \\\\\n",
       "\t 253535 & 302    & 31.94  & 0.999  & 31.91  &  9.45  & 22.24 \\\\\n",
       "\t 253977 & 442    & 46.13  & 0.939  & 43.32  &  9.58  & 22.54 \\\\\n",
       "\t 254250 & 273    & 30.33  & 0.909  & 27.57  &  9.00  & 21.17 \\\\\n",
       "\t 254684 & 434    & 44.73  & 0.999  & 44.68  &  9.70  & 22.82 \\\\\n",
       "\t 255014 & 330    & 33.71  & 0.969  & 32.66  &  9.79  & 23.03 \\\\\n",
       "\\end{tabular}\n"
      ],
      "text/markdown": [
       "\n",
       "| Total.km | Distance | Litres | Price | Total | km.L | mi.gal |\n",
       "|---|---|---|---|---|---|---|\n",
       "|     NA | 487    | 44.29  | 1.169  | 51.78  | 10.99  | 25.86  |\n",
       "|     NA | 304    | 27.59  | 1.109  | 30.60  | 11.02  | 25.91  |\n",
       "| 244270 | 290    | 26.97  | 1.219  | 32.88  | 10.75  | 25.29  |\n",
       "| 244728 | 458    | 48.34  | 1.219  | 58.92  |  9.48  | 22.29  |\n",
       "| 245155 | 427    | 42.94  | 1.259  | 54.06  |  9.94  | 23.39  |\n",
       "| 245631 | 476    | 45.21  | 1.259  | 56.92  | 10.53  | 24.76  |\n",
       "| 246131 | 500    | 47.38  | 1.299  | 61.54  | 10.55  | 24.82  |\n",
       "| 246515 | 384    | 36.22  | 1.249  | 45.24  | 10.60  | 24.94  |\n",
       "| 247019 | 504    | 47.28  | 1.269  | 60.00  | 10.66  | 25.07  |\n",
       "| 247372 | 353    | 37.41  | 1.209  | 45.23  |  9.44  | 22.19  |\n",
       "| 247662 | 290    | 30.40  | 1.209  | 36.75  |  9.54  | 22.44  |\n",
       "| 248164 | 502    | 50.11  | 1.179  | 59.08  | 10.02  | 23.56  |\n",
       "| 248535 | 371    | 37.39  | 1.179  | 44.08  |  9.92  | 23.34  |\n",
       "| 249043 | 508    | 49.88  | 1.199  | 59.80  | 10.19  | 23.96  |\n",
       "| 249543 | 500    | 49.68  | 1.159  | 57.58  | 10.06  | 23.67  |\n",
       "| 250126 | 143    | 16.33  | 1.149  | 18.76  |  8.76  | 20.60  |\n",
       "| 250449 | 323    | 24.68  | 1.239  | 30.58  | 13.09  | 30.78  |\n",
       "| 250714 | 265    | 21.18  | 0.989  | 20.95  | 12.51  | 29.43  |\n",
       "| 251002 | 288    | 23.08  | 0.959  | 22.13  | 12.48  | 29.36  |\n",
       "| 251414 | 412    | 29.94  | 1.199  | 35.90  | 13.76  | 32.37  |\n",
       "| 249983 | 440    | 41.85  | 1.159  | 48.50  | 10.51  | 24.73  |\n",
       "| 251917 | 503    | 48.83  | 1.039  | 50.73  | 10.30  | 24.23  |\n",
       "| 252349 | 432    | 45.70  | 0.979  | 44.74  |  9.45  | 22.23  |\n",
       "| 252831 | 482    | 49.16  | 1.079  | 53.04  |  9.81  | 23.06  |\n",
       "| 253233 | 402    | 45.76  | 1.059  | 48.46  |  8.78  | 20.66  |\n",
       "| 253535 | 302    | 31.94  | 0.999  | 31.91  |  9.45  | 22.24  |\n",
       "| 253977 | 442    | 46.13  | 0.939  | 43.32  |  9.58  | 22.54  |\n",
       "| 254250 | 273    | 30.33  | 0.909  | 27.57  |  9.00  | 21.17  |\n",
       "| 254684 | 434    | 44.73  | 0.999  | 44.68  |  9.70  | 22.82  |\n",
       "| 255014 | 330    | 33.71  | 0.969  | 32.66  |  9.79  | 23.03  |\n",
       "\n"
      ],
      "text/plain": [
       "   Total.km Distance Litres Price Total km.L  mi.gal\n",
       "1      NA   487      44.29  1.169 51.78 10.99 25.86 \n",
       "2      NA   304      27.59  1.109 30.60 11.02 25.91 \n",
       "3  244270   290      26.97  1.219 32.88 10.75 25.29 \n",
       "4  244728   458      48.34  1.219 58.92  9.48 22.29 \n",
       "5  245155   427      42.94  1.259 54.06  9.94 23.39 \n",
       "6  245631   476      45.21  1.259 56.92 10.53 24.76 \n",
       "7  246131   500      47.38  1.299 61.54 10.55 24.82 \n",
       "8  246515   384      36.22  1.249 45.24 10.60 24.94 \n",
       "9  247019   504      47.28  1.269 60.00 10.66 25.07 \n",
       "10 247372   353      37.41  1.209 45.23  9.44 22.19 \n",
       "11 247662   290      30.40  1.209 36.75  9.54 22.44 \n",
       "12 248164   502      50.11  1.179 59.08 10.02 23.56 \n",
       "13 248535   371      37.39  1.179 44.08  9.92 23.34 \n",
       "14 249043   508      49.88  1.199 59.80 10.19 23.96 \n",
       "15 249543   500      49.68  1.159 57.58 10.06 23.67 \n",
       "16 250126   143      16.33  1.149 18.76  8.76 20.60 \n",
       "17 250449   323      24.68  1.239 30.58 13.09 30.78 \n",
       "18 250714   265      21.18  0.989 20.95 12.51 29.43 \n",
       "19 251002   288      23.08  0.959 22.13 12.48 29.36 \n",
       "20 251414   412      29.94  1.199 35.90 13.76 32.37 \n",
       "21 249983   440      41.85  1.159 48.50 10.51 24.73 \n",
       "22 251917   503      48.83  1.039 50.73 10.30 24.23 \n",
       "23 252349   432      45.70  0.979 44.74  9.45 22.23 \n",
       "24 252831   482      49.16  1.079 53.04  9.81 23.06 \n",
       "25 253233   402      45.76  1.059 48.46  8.78 20.66 \n",
       "26 253535   302      31.94  0.999 31.91  9.45 22.24 \n",
       "27 253977   442      46.13  0.939 43.32  9.58 22.54 \n",
       "28 254250   273      30.33  0.909 27.57  9.00 21.17 \n",
       "29 254684   434      44.73  0.999 44.68  9.70 22.82 \n",
       "30 255014   330      33.71  0.969 32.66  9.79 23.03 "
      ]
     },
     "metadata": {},
     "output_type": "display_data"
    },
    {
     "data": {
      "text/plain": [
       "\n",
       "\tOne Sample t-test\n",
       "\n",
       "data:  car_data$km.L\n",
       "t = 1.608, df = 29, p-value = 0.1187\n",
       "alternative hypothesis: true mean is not equal to 10\n",
       "95 percent confidence interval:\n",
       "  9.90338 10.80729\n",
       "sample estimates:\n",
       "mean of x \n",
       " 10.35533 \n"
      ]
     },
     "metadata": {},
     "output_type": "display_data"
    }
   ],
   "source": [
    "car_data <- read.csv(\"car_data.csv\")\n",
    "car_data\n",
    "\n",
    "\n",
    "t.test(x = car_data$km.L, alternative = c(\"two.sided\"), mu = 10)\n"
   ]
  },
  {
   "cell_type": "markdown",
   "id": "5740c5e3",
   "metadata": {},
   "source": [
    "- If p-value > 0.05, the probability of seeing a sample mean more extreme is not that unlikely. \n",
    "    1. Fail to reject the null hypothesis \n",
    "    2. There is no evidence to suggest that the mean value of VARIABLE is less than, greater than, or different than the test value.\n",
    "\n",
    "- If p-value < 0.05, \n",
    "    1. Reject the null hypothesis\n",
    "    2. There is evidence to suggest that the mean value of VARIABLE is less than, greater than, or different than the test value.\n"
   ]
  },
  {
   "cell_type": "markdown",
   "id": "31e99a00",
   "metadata": {},
   "source": [
    "### Two Sample Unpaired\n",
    "\n",
    "An unpaired (independent) two sample test compares two independent samples to determine if there is a difference between the groups. \n",
    "\n",
    "Examples:\n",
    "- Compare effectiveness of two different drugs tested on two sets of patients\n"
   ]
  },
  {
   "cell_type": "code",
   "execution_count": 106,
   "id": "b38bb9fe",
   "metadata": {
    "vscode": {
     "languageId": "r"
    }
   },
   "outputs": [
    {
     "data": {
      "text/html": [
       "<table>\n",
       "<thead><tr><th scope=col>day</th><th scope=col>time</th><th scope=col>temp</th><th scope=col>activ</th></tr></thead>\n",
       "<tbody>\n",
       "\t<tr><td>307  </td><td> 930 </td><td>36.58</td><td>0    </td></tr>\n",
       "\t<tr><td>307  </td><td> 940 </td><td>36.73</td><td>0    </td></tr>\n",
       "\t<tr><td>307  </td><td> 950 </td><td>36.93</td><td>0    </td></tr>\n",
       "\t<tr><td>307  </td><td>1000 </td><td>37.15</td><td>0    </td></tr>\n",
       "\t<tr><td>307  </td><td>1010 </td><td>37.23</td><td>0    </td></tr>\n",
       "\t<tr><td>307  </td><td>1020 </td><td>37.24</td><td>0    </td></tr>\n",
       "\t<tr><td>307  </td><td>1030 </td><td>37.24</td><td>0    </td></tr>\n",
       "\t<tr><td>307  </td><td>1040 </td><td>36.90</td><td>0    </td></tr>\n",
       "\t<tr><td>307  </td><td>1050 </td><td>36.95</td><td>0    </td></tr>\n",
       "\t<tr><td>307  </td><td>1100 </td><td>36.89</td><td>0    </td></tr>\n",
       "\t<tr><td>307  </td><td>1110 </td><td>36.95</td><td>0    </td></tr>\n",
       "\t<tr><td>307  </td><td>1120 </td><td>37.00</td><td>0    </td></tr>\n",
       "\t<tr><td>307  </td><td>1130 </td><td>36.90</td><td>0    </td></tr>\n",
       "\t<tr><td>307  </td><td>1140 </td><td>36.99</td><td>0    </td></tr>\n",
       "\t<tr><td>307  </td><td>1150 </td><td>36.99</td><td>0    </td></tr>\n",
       "\t<tr><td>307  </td><td>1200 </td><td>37.01</td><td>0    </td></tr>\n",
       "\t<tr><td>307  </td><td>1210 </td><td>37.04</td><td>0    </td></tr>\n",
       "\t<tr><td>307  </td><td>1220 </td><td>37.04</td><td>0    </td></tr>\n",
       "\t<tr><td>307  </td><td>1230 </td><td>37.14</td><td>0    </td></tr>\n",
       "\t<tr><td>307  </td><td>1240 </td><td>37.07</td><td>0    </td></tr>\n",
       "\t<tr><td>307  </td><td>1250 </td><td>36.98</td><td>0    </td></tr>\n",
       "\t<tr><td>307  </td><td>1300 </td><td>37.01</td><td>0    </td></tr>\n",
       "\t<tr><td>307  </td><td>1310 </td><td>36.97</td><td>0    </td></tr>\n",
       "\t<tr><td>307  </td><td>1320 </td><td>36.97</td><td>0    </td></tr>\n",
       "\t<tr><td>307  </td><td>1330 </td><td>37.12</td><td>0    </td></tr>\n",
       "\t<tr><td>307  </td><td>1340 </td><td>37.13</td><td>0    </td></tr>\n",
       "\t<tr><td>307  </td><td>1350 </td><td>37.14</td><td>0    </td></tr>\n",
       "\t<tr><td>307  </td><td>1400 </td><td>37.15</td><td>0    </td></tr>\n",
       "\t<tr><td>307  </td><td>1410 </td><td>37.17</td><td>0    </td></tr>\n",
       "\t<tr><td>307  </td><td>1420 </td><td>37.12</td><td>0    </td></tr>\n",
       "\t<tr><td>...</td><td>...</td><td>...</td><td>...</td></tr>\n",
       "\t<tr><td>307  </td><td>2110 </td><td>37.95</td><td>1    </td></tr>\n",
       "\t<tr><td>307  </td><td>2120 </td><td>37.95</td><td>1    </td></tr>\n",
       "\t<tr><td>307  </td><td>2130 </td><td>37.76</td><td>1    </td></tr>\n",
       "\t<tr><td>307  </td><td>2140 </td><td>37.60</td><td>1    </td></tr>\n",
       "\t<tr><td>307  </td><td>2150 </td><td>37.89</td><td>1    </td></tr>\n",
       "\t<tr><td>307  </td><td>2200 </td><td>37.86</td><td>1    </td></tr>\n",
       "\t<tr><td>307  </td><td>2210 </td><td>37.71</td><td>1    </td></tr>\n",
       "\t<tr><td>307  </td><td>2220 </td><td>37.78</td><td>1    </td></tr>\n",
       "\t<tr><td>307  </td><td>2230 </td><td>37.82</td><td>1    </td></tr>\n",
       "\t<tr><td>307  </td><td>2240 </td><td>37.76</td><td>1    </td></tr>\n",
       "\t<tr><td>307  </td><td>2250 </td><td>37.81</td><td>1    </td></tr>\n",
       "\t<tr><td>307  </td><td>2300 </td><td>37.84</td><td>1    </td></tr>\n",
       "\t<tr><td>307  </td><td>2310 </td><td>38.01</td><td>1    </td></tr>\n",
       "\t<tr><td>307  </td><td>2320 </td><td>38.10</td><td>1    </td></tr>\n",
       "\t<tr><td>307  </td><td>2330 </td><td>38.15</td><td>1    </td></tr>\n",
       "\t<tr><td>307  </td><td>2340 </td><td>37.92</td><td>1    </td></tr>\n",
       "\t<tr><td>307  </td><td>2350 </td><td>37.64</td><td>1    </td></tr>\n",
       "\t<tr><td>308  </td><td>   0 </td><td>37.70</td><td>1    </td></tr>\n",
       "\t<tr><td>308  </td><td>  10 </td><td>37.46</td><td>1    </td></tr>\n",
       "\t<tr><td>308  </td><td>  20 </td><td>37.41</td><td>1    </td></tr>\n",
       "\t<tr><td>308  </td><td>  30 </td><td>37.46</td><td>1    </td></tr>\n",
       "\t<tr><td>308  </td><td>  40 </td><td>37.56</td><td>1    </td></tr>\n",
       "\t<tr><td>308  </td><td>  50 </td><td>37.55</td><td>1    </td></tr>\n",
       "\t<tr><td>308  </td><td> 100 </td><td>37.75</td><td>1    </td></tr>\n",
       "\t<tr><td>308  </td><td> 110 </td><td>37.76</td><td>1    </td></tr>\n",
       "\t<tr><td>308  </td><td> 120 </td><td>37.73</td><td>1    </td></tr>\n",
       "\t<tr><td>308  </td><td> 130 </td><td>37.77</td><td>1    </td></tr>\n",
       "\t<tr><td>308  </td><td> 140 </td><td>38.01</td><td>1    </td></tr>\n",
       "\t<tr><td>308  </td><td> 150 </td><td>38.04</td><td>1    </td></tr>\n",
       "\t<tr><td>308  </td><td> 200 </td><td>38.07</td><td>1    </td></tr>\n",
       "</tbody>\n",
       "</table>\n"
      ],
      "text/latex": [
       "\\begin{tabular}{r|llll}\n",
       " day & time & temp & activ\\\\\n",
       "\\hline\n",
       "\t 307   &  930  & 36.58 & 0    \\\\\n",
       "\t 307   &  940  & 36.73 & 0    \\\\\n",
       "\t 307   &  950  & 36.93 & 0    \\\\\n",
       "\t 307   & 1000  & 37.15 & 0    \\\\\n",
       "\t 307   & 1010  & 37.23 & 0    \\\\\n",
       "\t 307   & 1020  & 37.24 & 0    \\\\\n",
       "\t 307   & 1030  & 37.24 & 0    \\\\\n",
       "\t 307   & 1040  & 36.90 & 0    \\\\\n",
       "\t 307   & 1050  & 36.95 & 0    \\\\\n",
       "\t 307   & 1100  & 36.89 & 0    \\\\\n",
       "\t 307   & 1110  & 36.95 & 0    \\\\\n",
       "\t 307   & 1120  & 37.00 & 0    \\\\\n",
       "\t 307   & 1130  & 36.90 & 0    \\\\\n",
       "\t 307   & 1140  & 36.99 & 0    \\\\\n",
       "\t 307   & 1150  & 36.99 & 0    \\\\\n",
       "\t 307   & 1200  & 37.01 & 0    \\\\\n",
       "\t 307   & 1210  & 37.04 & 0    \\\\\n",
       "\t 307   & 1220  & 37.04 & 0    \\\\\n",
       "\t 307   & 1230  & 37.14 & 0    \\\\\n",
       "\t 307   & 1240  & 37.07 & 0    \\\\\n",
       "\t 307   & 1250  & 36.98 & 0    \\\\\n",
       "\t 307   & 1300  & 37.01 & 0    \\\\\n",
       "\t 307   & 1310  & 36.97 & 0    \\\\\n",
       "\t 307   & 1320  & 36.97 & 0    \\\\\n",
       "\t 307   & 1330  & 37.12 & 0    \\\\\n",
       "\t 307   & 1340  & 37.13 & 0    \\\\\n",
       "\t 307   & 1350  & 37.14 & 0    \\\\\n",
       "\t 307   & 1400  & 37.15 & 0    \\\\\n",
       "\t 307   & 1410  & 37.17 & 0    \\\\\n",
       "\t 307   & 1420  & 37.12 & 0    \\\\\n",
       "\t ... & ... & ... & ...\\\\\n",
       "\t 307   & 2110  & 37.95 & 1    \\\\\n",
       "\t 307   & 2120  & 37.95 & 1    \\\\\n",
       "\t 307   & 2130  & 37.76 & 1    \\\\\n",
       "\t 307   & 2140  & 37.60 & 1    \\\\\n",
       "\t 307   & 2150  & 37.89 & 1    \\\\\n",
       "\t 307   & 2200  & 37.86 & 1    \\\\\n",
       "\t 307   & 2210  & 37.71 & 1    \\\\\n",
       "\t 307   & 2220  & 37.78 & 1    \\\\\n",
       "\t 307   & 2230  & 37.82 & 1    \\\\\n",
       "\t 307   & 2240  & 37.76 & 1    \\\\\n",
       "\t 307   & 2250  & 37.81 & 1    \\\\\n",
       "\t 307   & 2300  & 37.84 & 1    \\\\\n",
       "\t 307   & 2310  & 38.01 & 1    \\\\\n",
       "\t 307   & 2320  & 38.10 & 1    \\\\\n",
       "\t 307   & 2330  & 38.15 & 1    \\\\\n",
       "\t 307   & 2340  & 37.92 & 1    \\\\\n",
       "\t 307   & 2350  & 37.64 & 1    \\\\\n",
       "\t 308   &    0  & 37.70 & 1    \\\\\n",
       "\t 308   &   10  & 37.46 & 1    \\\\\n",
       "\t 308   &   20  & 37.41 & 1    \\\\\n",
       "\t 308   &   30  & 37.46 & 1    \\\\\n",
       "\t 308   &   40  & 37.56 & 1    \\\\\n",
       "\t 308   &   50  & 37.55 & 1    \\\\\n",
       "\t 308   &  100  & 37.75 & 1    \\\\\n",
       "\t 308   &  110  & 37.76 & 1    \\\\\n",
       "\t 308   &  120  & 37.73 & 1    \\\\\n",
       "\t 308   &  130  & 37.77 & 1    \\\\\n",
       "\t 308   &  140  & 38.01 & 1    \\\\\n",
       "\t 308   &  150  & 38.04 & 1    \\\\\n",
       "\t 308   &  200  & 38.07 & 1    \\\\\n",
       "\\end{tabular}\n"
      ],
      "text/markdown": [
       "\n",
       "| day | time | temp | activ |\n",
       "|---|---|---|---|\n",
       "| 307   |  930  | 36.58 | 0     |\n",
       "| 307   |  940  | 36.73 | 0     |\n",
       "| 307   |  950  | 36.93 | 0     |\n",
       "| 307   | 1000  | 37.15 | 0     |\n",
       "| 307   | 1010  | 37.23 | 0     |\n",
       "| 307   | 1020  | 37.24 | 0     |\n",
       "| 307   | 1030  | 37.24 | 0     |\n",
       "| 307   | 1040  | 36.90 | 0     |\n",
       "| 307   | 1050  | 36.95 | 0     |\n",
       "| 307   | 1100  | 36.89 | 0     |\n",
       "| 307   | 1110  | 36.95 | 0     |\n",
       "| 307   | 1120  | 37.00 | 0     |\n",
       "| 307   | 1130  | 36.90 | 0     |\n",
       "| 307   | 1140  | 36.99 | 0     |\n",
       "| 307   | 1150  | 36.99 | 0     |\n",
       "| 307   | 1200  | 37.01 | 0     |\n",
       "| 307   | 1210  | 37.04 | 0     |\n",
       "| 307   | 1220  | 37.04 | 0     |\n",
       "| 307   | 1230  | 37.14 | 0     |\n",
       "| 307   | 1240  | 37.07 | 0     |\n",
       "| 307   | 1250  | 36.98 | 0     |\n",
       "| 307   | 1300  | 37.01 | 0     |\n",
       "| 307   | 1310  | 36.97 | 0     |\n",
       "| 307   | 1320  | 36.97 | 0     |\n",
       "| 307   | 1330  | 37.12 | 0     |\n",
       "| 307   | 1340  | 37.13 | 0     |\n",
       "| 307   | 1350  | 37.14 | 0     |\n",
       "| 307   | 1400  | 37.15 | 0     |\n",
       "| 307   | 1410  | 37.17 | 0     |\n",
       "| 307   | 1420  | 37.12 | 0     |\n",
       "| ... | ... | ... | ... |\n",
       "| 307   | 2110  | 37.95 | 1     |\n",
       "| 307   | 2120  | 37.95 | 1     |\n",
       "| 307   | 2130  | 37.76 | 1     |\n",
       "| 307   | 2140  | 37.60 | 1     |\n",
       "| 307   | 2150  | 37.89 | 1     |\n",
       "| 307   | 2200  | 37.86 | 1     |\n",
       "| 307   | 2210  | 37.71 | 1     |\n",
       "| 307   | 2220  | 37.78 | 1     |\n",
       "| 307   | 2230  | 37.82 | 1     |\n",
       "| 307   | 2240  | 37.76 | 1     |\n",
       "| 307   | 2250  | 37.81 | 1     |\n",
       "| 307   | 2300  | 37.84 | 1     |\n",
       "| 307   | 2310  | 38.01 | 1     |\n",
       "| 307   | 2320  | 38.10 | 1     |\n",
       "| 307   | 2330  | 38.15 | 1     |\n",
       "| 307   | 2340  | 37.92 | 1     |\n",
       "| 307   | 2350  | 37.64 | 1     |\n",
       "| 308   |    0  | 37.70 | 1     |\n",
       "| 308   |   10  | 37.46 | 1     |\n",
       "| 308   |   20  | 37.41 | 1     |\n",
       "| 308   |   30  | 37.46 | 1     |\n",
       "| 308   |   40  | 37.56 | 1     |\n",
       "| 308   |   50  | 37.55 | 1     |\n",
       "| 308   |  100  | 37.75 | 1     |\n",
       "| 308   |  110  | 37.76 | 1     |\n",
       "| 308   |  120  | 37.73 | 1     |\n",
       "| 308   |  130  | 37.77 | 1     |\n",
       "| 308   |  140  | 38.01 | 1     |\n",
       "| 308   |  150  | 38.04 | 1     |\n",
       "| 308   |  200  | 38.07 | 1     |\n",
       "\n"
      ],
      "text/plain": [
       "    day time temp  activ\n",
       "1   307  930 36.58 0    \n",
       "2   307  940 36.73 0    \n",
       "3   307  950 36.93 0    \n",
       "4   307 1000 37.15 0    \n",
       "5   307 1010 37.23 0    \n",
       "6   307 1020 37.24 0    \n",
       "7   307 1030 37.24 0    \n",
       "8   307 1040 36.90 0    \n",
       "9   307 1050 36.95 0    \n",
       "10  307 1100 36.89 0    \n",
       "11  307 1110 36.95 0    \n",
       "12  307 1120 37.00 0    \n",
       "13  307 1130 36.90 0    \n",
       "14  307 1140 36.99 0    \n",
       "15  307 1150 36.99 0    \n",
       "16  307 1200 37.01 0    \n",
       "17  307 1210 37.04 0    \n",
       "18  307 1220 37.04 0    \n",
       "19  307 1230 37.14 0    \n",
       "20  307 1240 37.07 0    \n",
       "21  307 1250 36.98 0    \n",
       "22  307 1300 37.01 0    \n",
       "23  307 1310 36.97 0    \n",
       "24  307 1320 36.97 0    \n",
       "25  307 1330 37.12 0    \n",
       "26  307 1340 37.13 0    \n",
       "27  307 1350 37.14 0    \n",
       "28  307 1400 37.15 0    \n",
       "29  307 1410 37.17 0    \n",
       "30  307 1420 37.12 0    \n",
       "... ... ...  ...   ...  \n",
       "71  307 2110 37.95 1    \n",
       "72  307 2120 37.95 1    \n",
       "73  307 2130 37.76 1    \n",
       "74  307 2140 37.60 1    \n",
       "75  307 2150 37.89 1    \n",
       "76  307 2200 37.86 1    \n",
       "77  307 2210 37.71 1    \n",
       "78  307 2220 37.78 1    \n",
       "79  307 2230 37.82 1    \n",
       "80  307 2240 37.76 1    \n",
       "81  307 2250 37.81 1    \n",
       "82  307 2300 37.84 1    \n",
       "83  307 2310 38.01 1    \n",
       "84  307 2320 38.10 1    \n",
       "85  307 2330 38.15 1    \n",
       "86  307 2340 37.92 1    \n",
       "87  307 2350 37.64 1    \n",
       "88  308    0 37.70 1    \n",
       "89  308   10 37.46 1    \n",
       "90  308   20 37.41 1    \n",
       "91  308   30 37.46 1    \n",
       "92  308   40 37.56 1    \n",
       "93  308   50 37.55 1    \n",
       "94  308  100 37.75 1    \n",
       "95  308  110 37.76 1    \n",
       "96  308  120 37.73 1    \n",
       "97  308  130 37.77 1    \n",
       "98  308  140 38.01 1    \n",
       "99  308  150 38.04 1    \n",
       "100 308  200 38.07 1    "
      ]
     },
     "metadata": {},
     "output_type": "display_data"
    },
    {
     "data": {
      "text/plain": [
       "\n",
       "\tWelch Two Sample t-test\n",
       "\n",
       "data:  temp by activ\n",
       "t = -18.548, df = 80.852, p-value < 2.2e-16\n",
       "alternative hypothesis: true difference in means is not equal to 0\n",
       "95 percent confidence interval:\n",
       " -0.8927106 -0.7197342\n",
       "sample estimates:\n",
       "mean in group 0 mean in group 1 \n",
       "       37.09684        37.90306 \n"
      ]
     },
     "metadata": {},
     "output_type": "display_data"
    }
   ],
   "source": [
    "library(datasets)\n",
    "\n",
    "# Test the hypothesis that there is no difference between the mean active temperature and the mean non-active temperatures.\n",
    "#H0: µ1 = µ2 → µ1 - µ2 = 0\n",
    "#HA: µ1 ≠ µ2 → µ1 - µ2 ≠ 0\n",
    "\n",
    "beaver2\n",
    "\n",
    "t.test(temp~activ, data=beaver2, \n",
    "  alternative=c(\"two.sided\"), mu=0, \n",
    "  paired=FALSE)\n"
   ]
  },
  {
   "cell_type": "markdown",
   "id": "f36a75e7",
   "metadata": {},
   "source": [
    "The p-value << 0.05.\n",
    "\n",
    "Reject the null hypothesis. There is evidence to suggest that there is a difference between active and non active temperatures. \n"
   ]
  },
  {
   "cell_type": "markdown",
   "id": "2be2df84",
   "metadata": {},
   "source": [
    "### Two Sample Paired\n",
    "\n",
    "A paired (dependent) two sample test compares two dependent samples to see if there is a difference between the groups. This test typically uses multiple measurements on one subject. Also called a \"repeated measures\" test.\n",
    "\n",
    "Examples:\n",
    "- Affect of treatment on a patient (before and after)\n",
    "- Apply something to test subjects to see if there is an effect\n",
    "- Car example: Do cars get better mileage with different grades of gasoline?"
   ]
  },
  {
   "cell_type": "code",
   "execution_count": 109,
   "id": "3862ef41",
   "metadata": {
    "vscode": {
     "languageId": "r"
    }
   },
   "outputs": [
    {
     "data": {
      "text/html": [
       "<table>\n",
       "<thead><tr><th scope=col>Athlete</th><th scope=col>Time</th><th scope=col>Training</th></tr></thead>\n",
       "<tbody>\n",
       "\t<tr><td> 1   </td><td>12.90</td><td>0    </td></tr>\n",
       "\t<tr><td> 2   </td><td>13.50</td><td>0    </td></tr>\n",
       "\t<tr><td> 3   </td><td>12.80</td><td>0    </td></tr>\n",
       "\t<tr><td> 4   </td><td>15.60</td><td>0    </td></tr>\n",
       "\t<tr><td> 5   </td><td>17.30</td><td>0    </td></tr>\n",
       "\t<tr><td> 6   </td><td>19.32</td><td>0    </td></tr>\n",
       "\t<tr><td> 7   </td><td>12.60</td><td>0    </td></tr>\n",
       "\t<tr><td> 8   </td><td>15.30</td><td>0    </td></tr>\n",
       "\t<tr><td> 9   </td><td>14.40</td><td>0    </td></tr>\n",
       "\t<tr><td>10   </td><td>11.30</td><td>0    </td></tr>\n",
       "\t<tr><td> 1   </td><td>12.70</td><td>1    </td></tr>\n",
       "\t<tr><td> 2   </td><td>13.60</td><td>1    </td></tr>\n",
       "\t<tr><td> 3   </td><td>12.00</td><td>1    </td></tr>\n",
       "\t<tr><td> 4   </td><td>15.20</td><td>1    </td></tr>\n",
       "\t<tr><td> 5   </td><td>16.80</td><td>1    </td></tr>\n",
       "\t<tr><td> 6   </td><td>20.00</td><td>1    </td></tr>\n",
       "\t<tr><td> 7   </td><td>12.00</td><td>1    </td></tr>\n",
       "\t<tr><td> 8   </td><td>15.90</td><td>1    </td></tr>\n",
       "\t<tr><td> 9   </td><td>16.00</td><td>1    </td></tr>\n",
       "\t<tr><td>10   </td><td>11.10</td><td>1    </td></tr>\n",
       "</tbody>\n",
       "</table>\n"
      ],
      "text/latex": [
       "\\begin{tabular}{r|lll}\n",
       " Athlete & Time & Training\\\\\n",
       "\\hline\n",
       "\t  1    & 12.90 & 0    \\\\\n",
       "\t  2    & 13.50 & 0    \\\\\n",
       "\t  3    & 12.80 & 0    \\\\\n",
       "\t  4    & 15.60 & 0    \\\\\n",
       "\t  5    & 17.30 & 0    \\\\\n",
       "\t  6    & 19.32 & 0    \\\\\n",
       "\t  7    & 12.60 & 0    \\\\\n",
       "\t  8    & 15.30 & 0    \\\\\n",
       "\t  9    & 14.40 & 0    \\\\\n",
       "\t 10    & 11.30 & 0    \\\\\n",
       "\t  1    & 12.70 & 1    \\\\\n",
       "\t  2    & 13.60 & 1    \\\\\n",
       "\t  3    & 12.00 & 1    \\\\\n",
       "\t  4    & 15.20 & 1    \\\\\n",
       "\t  5    & 16.80 & 1    \\\\\n",
       "\t  6    & 20.00 & 1    \\\\\n",
       "\t  7    & 12.00 & 1    \\\\\n",
       "\t  8    & 15.90 & 1    \\\\\n",
       "\t  9    & 16.00 & 1    \\\\\n",
       "\t 10    & 11.10 & 1    \\\\\n",
       "\\end{tabular}\n"
      ],
      "text/markdown": [
       "\n",
       "| Athlete | Time | Training |\n",
       "|---|---|---|\n",
       "|  1    | 12.90 | 0     |\n",
       "|  2    | 13.50 | 0     |\n",
       "|  3    | 12.80 | 0     |\n",
       "|  4    | 15.60 | 0     |\n",
       "|  5    | 17.30 | 0     |\n",
       "|  6    | 19.32 | 0     |\n",
       "|  7    | 12.60 | 0     |\n",
       "|  8    | 15.30 | 0     |\n",
       "|  9    | 14.40 | 0     |\n",
       "| 10    | 11.30 | 0     |\n",
       "|  1    | 12.70 | 1     |\n",
       "|  2    | 13.60 | 1     |\n",
       "|  3    | 12.00 | 1     |\n",
       "|  4    | 15.20 | 1     |\n",
       "|  5    | 16.80 | 1     |\n",
       "|  6    | 20.00 | 1     |\n",
       "|  7    | 12.00 | 1     |\n",
       "|  8    | 15.90 | 1     |\n",
       "|  9    | 16.00 | 1     |\n",
       "| 10    | 11.10 | 1     |\n",
       "\n"
      ],
      "text/plain": [
       "   Athlete Time  Training\n",
       "1   1      12.90 0       \n",
       "2   2      13.50 0       \n",
       "3   3      12.80 0       \n",
       "4   4      15.60 0       \n",
       "5   5      17.30 0       \n",
       "6   6      19.32 0       \n",
       "7   7      12.60 0       \n",
       "8   8      15.30 0       \n",
       "9   9      14.40 0       \n",
       "10 10      11.30 0       \n",
       "11  1      12.70 1       \n",
       "12  2      13.60 1       \n",
       "13  3      12.00 1       \n",
       "14  4      15.20 1       \n",
       "15  5      16.80 1       \n",
       "16  6      20.00 1       \n",
       "17  7      12.00 1       \n",
       "18  8      15.90 1       \n",
       "19  9      16.00 1       \n",
       "20 10      11.10 1       "
      ]
     },
     "metadata": {},
     "output_type": "display_data"
    },
    {
     "data": {
      "text/plain": [
       "\n",
       "\tPaired t-test\n",
       "\n",
       "data:  Time by Training\n",
       "t = -0.12031, df = 9, p-value = 0.9069\n",
       "alternative hypothesis: true difference in means is not equal to 0\n",
       "95 percent confidence interval:\n",
       " -0.5544647  0.4984647\n",
       "sample estimates:\n",
       "mean of the differences \n",
       "                 -0.028 \n"
      ]
     },
     "metadata": {},
     "output_type": "display_data"
    }
   ],
   "source": [
    "#The athlete.csv dataset contains data on ten athletes and their speeds for the 100m dash before training (Training = 0) and after (Training = 1). \n",
    "#Test the hypothesis that their training has no affect on the times of the athletes. Test to see if the mean of the difference is different than 0.\n",
    "#H0: d= 0\n",
    "#HA: d≠ 0\n",
    "\n",
    "\n",
    "athletes_data <- read.csv(\"athletes.csv\")\n",
    "athletes_data\n",
    "\n",
    "t.test(Time~Training, data = athletes_data, alternative=c(\"two.sided\"), mu=0, paired=TRUE)"
   ]
  },
  {
   "cell_type": "markdown",
   "id": "8982756c",
   "metadata": {},
   "source": [
    "The two sample case tests for a difference between the groups (d ≠ 0). The CI is for the difference.\n",
    "\n",
    "Fail to reject the null hypothesis, p-value >> 0.05"
   ]
  },
  {
   "cell_type": "markdown",
   "id": "0892a69b",
   "metadata": {},
   "source": [
    "### Question: How many of the following hypothesis questions should use two sample unpaired tests?\n",
    "\n",
    "1. Is the average student mark in courses 70%?\n",
    "2. Does a student's mark improve after studying?\n",
    "3. Has the average student height increased since 1990?\n",
    "4. Does radiation reduce the size of tumors when used to treat patients?\n",
    "5. Is aspirin more effective than Tylenol for treating headaches?\n",
    "6. Are college graduates better than high school graduates at standardized tests? \n"
   ]
  },
  {
   "cell_type": "markdown",
   "id": "ce20de7f",
   "metadata": {},
   "source": [
    "### Try It: Hypothesis Testing\n",
    "\n",
    "Using the airquality dataset that containes a random sample of air quality measurements in New York City:\n",
    "1. An official claims that the average wind speed in the city is 9 miles per hours. Is that plausible?\n",
    "2. A certain solar array will only be cost effective if mean solar radiation is over 175 Langleys. Would ut be a sound investemnet in light of this data?\n"
   ]
  },
  {
   "cell_type": "code",
   "execution_count": 130,
   "id": "ffe68153",
   "metadata": {
    "vscode": {
     "languageId": "r"
    }
   },
   "outputs": [
    {
     "data": {
      "text/html": [
       "<table>\n",
       "<thead><tr><th scope=col>Ozone</th><th scope=col>Solar.R</th><th scope=col>Wind</th><th scope=col>Temp</th><th scope=col>Month</th><th scope=col>Day</th></tr></thead>\n",
       "<tbody>\n",
       "\t<tr><td>41  </td><td>190 </td><td> 7.4</td><td>67  </td><td>5   </td><td>1   </td></tr>\n",
       "\t<tr><td>36  </td><td>118 </td><td> 8.0</td><td>72  </td><td>5   </td><td>2   </td></tr>\n",
       "\t<tr><td>12  </td><td>149 </td><td>12.6</td><td>74  </td><td>5   </td><td>3   </td></tr>\n",
       "</tbody>\n",
       "</table>\n"
      ],
      "text/latex": [
       "\\begin{tabular}{r|llllll}\n",
       " Ozone & Solar.R & Wind & Temp & Month & Day\\\\\n",
       "\\hline\n",
       "\t 41   & 190  &  7.4 & 67   & 5    & 1   \\\\\n",
       "\t 36   & 118  &  8.0 & 72   & 5    & 2   \\\\\n",
       "\t 12   & 149  & 12.6 & 74   & 5    & 3   \\\\\n",
       "\\end{tabular}\n"
      ],
      "text/markdown": [
       "\n",
       "| Ozone | Solar.R | Wind | Temp | Month | Day |\n",
       "|---|---|---|---|---|---|\n",
       "| 41   | 190  |  7.4 | 67   | 5    | 1    |\n",
       "| 36   | 118  |  8.0 | 72   | 5    | 2    |\n",
       "| 12   | 149  | 12.6 | 74   | 5    | 3    |\n",
       "\n"
      ],
      "text/plain": [
       "  Ozone Solar.R Wind Temp Month Day\n",
       "1 41    190      7.4 67   5     1  \n",
       "2 36    118      8.0 72   5     2  \n",
       "3 12    149     12.6 74   5     3  "
      ]
     },
     "metadata": {},
     "output_type": "display_data"
    }
   ],
   "source": [
    "head(airquality,3)"
   ]
  },
  {
   "cell_type": "markdown",
   "id": "4d7883f6",
   "metadata": {},
   "source": [
    "### Fitting a Linear Model\n",
    "- We use the function ``lm(y~x, data=dataset)`` \n",
    "- Lm stands for linear model\n",
    "- ``y ~ x ``, Formula: ``y-values = y-intercept + slope * x-values``\n",
    "- The linear models function model then calculate the least-square stimates for the ``y-intercept`` and the ``slope``\n"
   ]
  },
  {
   "cell_type": "code",
   "execution_count": 135,
   "id": "b483c773",
   "metadata": {
    "vscode": {
     "languageId": "r"
    }
   },
   "outputs": [
    {
     "data": {
      "text/plain": [
       "\n",
       "Call:\n",
       "lm(formula = km.L ~ Litres, data = car_data)\n",
       "\n",
       "Coefficients:\n",
       "(Intercept)       Litres  \n",
       "   12.06973     -0.04455  \n"
      ]
     },
     "metadata": {},
     "output_type": "display_data"
    }
   ],
   "source": [
    "car.regression <- lm(km.L~Litres, data = car_data)\n",
    "car.regression"
   ]
  },
  {
   "cell_type": "code",
   "execution_count": 136,
   "id": "bdb1a0f7",
   "metadata": {
    "vscode": {
     "languageId": "r"
    }
   },
   "outputs": [
    {
     "data": {
      "text/plain": [
       "\n",
       "Call:\n",
       "lm(formula = km.L ~ Litres, data = car_data)\n",
       "\n",
       "Residuals:\n",
       "     Min       1Q   Median       3Q      Max \n",
       "-2.58220 -0.55879  0.03717  0.45726  3.02414 \n",
       "\n",
       "Coefficients:\n",
       "            Estimate Std. Error t value Pr(>|t|)    \n",
       "(Intercept) 12.06973    0.84075  14.356 1.95e-14 ***\n",
       "Litres      -0.04455    0.02116  -2.105   0.0444 *  \n",
       "---\n",
       "Signif. codes:  0 ‘***’ 0.001 ‘**’ 0.01 ‘*’ 0.05 ‘.’ 0.1 ‘ ’ 1\n",
       "\n",
       "Residual standard error: 1.145 on 28 degrees of freedom\n",
       "Multiple R-squared:  0.1367,\tAdjusted R-squared:  0.1058 \n",
       "F-statistic: 4.432 on 1 and 28 DF,  p-value: 0.04437\n"
      ]
     },
     "metadata": {},
     "output_type": "display_data"
    }
   ],
   "source": [
    "summary(car.regression)\n"
   ]
  },
  {
   "cell_type": "markdown",
   "id": "2c242573",
   "metadata": {},
   "source": [
    "- Residuals: Summary of the residuals (the distance from the datat to the fitted line). Ideally they shoynd be symmetrically disributted arround the line. Meaning that ideally you want the max and min values to be the same distant from 0.\n",
    "- Coefficients: It tells us about the least-square estimates for the fitted line. The Std. Error and t values show you how the P values were calculated. P-values << 0.5 means that our ``x`` is statistically significant."
   ]
  }
 ],
 "metadata": {
  "kernelspec": {
   "display_name": "R",
   "language": "R",
   "name": "ir"
  },
  "language_info": {
   "codemirror_mode": "r",
   "file_extension": ".r",
   "mimetype": "text/x-r-source",
   "name": "R",
   "pygments_lexer": "r",
   "version": "3.6.0"
  }
 },
 "nbformat": 4,
 "nbformat_minor": 5
}
