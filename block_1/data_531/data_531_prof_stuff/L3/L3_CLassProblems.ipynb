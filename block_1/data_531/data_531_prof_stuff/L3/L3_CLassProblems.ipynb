{
 "cells": [
  {
   "cell_type": "markdown",
   "metadata": {},
   "source": [
    "## CLASS PROBLEMS:"
   ]
  },
  {
   "cell_type": "markdown",
   "metadata": {},
   "source": [
    "### Structured Arrays\n",
    "Originally, you learned that array items all have to be the same data type, but that wasn’t entirely correct. NumPy has a special kind of array, called a record array or structured array, with which you can specify a type and, optionally, a name on a per-column basis. This makes sorting and filtering even more powerful, and it can feel similar to working with data in Excel, CSVs, or relational databases."
   ]
  },
  {
   "cell_type": "code",
   "execution_count": null,
   "metadata": {},
   "outputs": [],
   "source": [
    "import numpy as np\n",
    "\n",
    "data = np.array([\n",
    "    (\"joe\", 32, 6),\n",
    "    (\"mary\", 15, 20),\n",
    "    (\"felipe\", 80, 100),\n",
    "    (\"beyonce\", 38, 9001),\n",
    "], dtype=[(\"name\", str, 10), (\"age\", int), (\"power\", int)])"
   ]
  },
  {
   "cell_type": "code",
   "execution_count": null,
   "metadata": {},
   "outputs": [],
   "source": [
    "# Access all records of joe\n",
    "# Output: ('joe', 32, 6)"
   ]
  },
  {
   "cell_type": "code",
   "execution_count": null,
   "metadata": {},
   "outputs": [],
   "source": [
    "# Access all names from the data\n",
    "# Output:  array(['joe', 'mary', 'felipe', 'beyonce'], dtype='<U10')"
   ]
  },
  {
   "cell_type": "code",
   "execution_count": null,
   "metadata": {},
   "outputs": [],
   "source": [
    "# Who has a power higher that 9000 from the data?\n",
    "# Output: array(['beyonce'], dtype='<U10')"
   ]
  },
  {
   "cell_type": "markdown",
   "metadata": {},
   "source": [
    "### Array Manipulation Challenge\n",
    "\n",
    "You're provided with a 1D array original_array containing integers from 1 to 12. \n",
    "\n",
    "\n",
    "**Instructions**:\n",
    "\n",
    "1. Create the ``original_array`` as a NumPy array containing values from 1 to 12.\n",
    "2. Reshape ``original_array`` into a 2D array with dimensions (3, 4).\n",
    "3. Flatten the 2D array to a 1D array.\n",
    "4. Transpose the 2D array.\n",
    "5. Create another array and concatenate it with the 2D array along rows and columns.\n",
    "6. Split the concatenated array into multiple smaller arrays."
   ]
  }
 ],
 "metadata": {
  "kernelspec": {
   "display_name": "DATA531",
   "language": "python",
   "name": "python3"
  },
  "language_info": {
   "codemirror_mode": {
    "name": "ipython",
    "version": 3
   },
   "file_extension": ".py",
   "mimetype": "text/x-python",
   "name": "python",
   "nbconvert_exporter": "python",
   "pygments_lexer": "ipython3",
   "version": "3.9.12"
  },
  "orig_nbformat": 4
 },
 "nbformat": 4,
 "nbformat_minor": 2
}
