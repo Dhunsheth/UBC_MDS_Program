{
 "cells": [
  {
   "cell_type": "markdown",
   "id": "159d608a",
   "metadata": {},
   "source": [
    "# Lecture 6: Functions, Testing and Documentation in R"
   ]
  },
  {
   "cell_type": "markdown",
   "id": "c18e3617",
   "metadata": {},
   "source": [
    "## Attribution:\n",
    "- [Advanced R](https://adv-r.hadley.nz/) by Hadley Wickham\n",
    "- [The Tidynomicon](http://tidynomicon.tech/) by Greg Wilson"
   ]
  },
  {
   "cell_type": "markdown",
   "id": "c6878241",
   "metadata": {},
   "source": [
    "### Lecture learning objectives:\n",
    "\n",
    "* In R, define and use a named function that accepts parameters and returns values\n",
    "* Describe lazy evaluation (variable arguments) and how it affects functions in R\n",
    "* explain the importance of scoping and environments in R as they relate to functions\n",
    "* Handle errors gracefully via exception handling\n",
    "* Use `roxygen2` friendly function documentation to describe parameters, return values, description and example(s).\n",
    "* Write comments within a function to improve readability"
   ]
  },
  {
   "cell_type": "markdown",
   "id": "d3e2d876",
   "metadata": {},
   "source": [
    "## Lexical scoping in R\n",
    "\n",
    "R’s lexical scoping is a set of rules that helps to determine how R represents the value of a symbol. It follows several rules, we will see the following 3:\n",
    "\n",
    "- Name masking\n",
    "- A fresh start\n",
    "- Dynamic lookup"
   ]
  },
  {
   "cell_type": "markdown",
   "id": "df53120e",
   "metadata": {},
   "source": [
    "#### Name masking\n",
    "\n",
    "- Names defined inside a function mask names defined outside a function\n",
    "- If a name isn’t defined inside a function, R looks one level up (and then all the way up into the global environment and even loaded packages!)\n",
    "    "
   ]
  },
  {
   "cell_type": "code",
   "execution_count": null,
   "id": "d8aa24c6",
   "metadata": {
    "vscode": {
     "languageId": "r"
    }
   },
   "outputs": [],
   "source": [
    "f <- function() {\n",
    "  x <- 1\n",
    "  y <- 2\n",
    "  c(x, y)\n",
    "}\n",
    "f()\n",
    "rm(f)"
   ]
  },
  {
   "cell_type": "code",
   "execution_count": null,
   "id": "f2008ed8",
   "metadata": {
    "vscode": {
     "languageId": "r"
    }
   },
   "outputs": [],
   "source": [
    "# When a name is not define inside the function, R will look one level up\n",
    "x <- 1\n",
    "g04 <- function() {\n",
    "  y <- 2\n",
    "  c(x,y)\n",
    "}"
   ]
  },
  {
   "cell_type": "code",
   "execution_count": null,
   "id": "0ea5d847",
   "metadata": {
    "vscode": {
     "languageId": "r"
    }
   },
   "outputs": [],
   "source": [
    "g04()\n",
    "rm(g04,x)"
   ]
  },
  {
   "cell_type": "code",
   "execution_count": null,
   "id": "4be10e66",
   "metadata": {
    "vscode": {
     "languageId": "r"
    }
   },
   "outputs": [],
   "source": [
    "#The same rules apply if a function is defined inside another function:\n",
    "x <- 1\n",
    "g04 <- function() {\n",
    "  y <- 2\n",
    "  i <- function() {\n",
    "    z <- 3\n",
    "    c(x, y, z)\n",
    "  }\n",
    "  i()\n",
    "}"
   ]
  },
  {
   "cell_type": "code",
   "execution_count": null,
   "id": "8ad074d0",
   "metadata": {
    "vscode": {
     "languageId": "r"
    }
   },
   "outputs": [],
   "source": [
    "g04()\n",
    "rm(g04,x)"
   ]
  },
  {
   "cell_type": "markdown",
   "id": "3359d63d",
   "metadata": {},
   "source": [
    "#### Dynamic lookup\n",
    "\n",
    "- Lexical scoping determines where to look for values, not when to look for them. \n",
    "- R looks for values when the function is run, not when the function is created. \n",
    "- This means that the output of a function can differ depending on the objects outside the function’s environment."
   ]
  },
  {
   "cell_type": "code",
   "execution_count": null,
   "id": "4cd73719",
   "metadata": {
    "vscode": {
     "languageId": "r"
    }
   },
   "outputs": [],
   "source": [
    "g12 <- function() x + 1\n",
    "x <- 15\n",
    "g12()\n",
    "\n",
    "x <- 20\n",
    "g12()"
   ]
  },
  {
   "cell_type": "code",
   "execution_count": null,
   "id": "eaccc4e8",
   "metadata": {
    "vscode": {
     "languageId": "r"
    }
   },
   "outputs": [],
   "source": [
    "x <- 10\n",
    "f1 <- function(x) {\n",
    "  function() {\n",
    "    x + 10\n",
    "  }\n",
    "}\n",
    "f1(1)()"
   ]
  },
  {
   "cell_type": "markdown",
   "id": "5295c56d",
   "metadata": {},
   "source": [
    "#### A fresh start\n",
    "\n",
    "- Every time a function is called a new environment is created to host its execution.\n",
    "\n",
    "- This means that a function has no way to tell what happened the last time it was run; each invocation is completely independent.\n",
    "\n",
    "- NOTE: ``exists()`` returns ``TRUE`` if there’s a variable of that name, otherwise it returns ``FALSE``"
   ]
  },
  {
   "cell_type": "markdown",
   "id": "b802983a",
   "metadata": {},
   "source": [
    "Talk through the following code with your neighbour and predict the output, then let's confirm the result by running the code."
   ]
  },
  {
   "cell_type": "code",
   "execution_count": null,
   "id": "d20eb068",
   "metadata": {
    "vscode": {
     "languageId": "r"
    }
   },
   "outputs": [],
   "source": [
    "g11 <- function() {\n",
    "  if (!exists(\"a\")) {\n",
    "    a <- 1\n",
    "  } else {\n",
    "    a <- a + 1\n",
    "  }\n",
    "  a\n",
    "}\n",
    "\n",
    "g11()\n",
    "g11()\n",
    "g11()"
   ]
  },
  {
   "cell_type": "markdown",
   "id": "ccc86fe9",
   "metadata": {},
   "source": [
    "## Defining functions in R\n",
    "\n",
    "- Use `variable <- function(…arguments…) { …body… }` to create a function and give it a name\n",
    "\n",
    "Example:"
   ]
  },
  {
   "cell_type": "code",
   "execution_count": null,
   "id": "5ff676cd",
   "metadata": {
    "vscode": {
     "languageId": "r"
    }
   },
   "outputs": [],
   "source": [
    "add <- function(x, y) {\n",
    "  print(paste(\"The sum of\",x, \"+\", y,\"is\", x+y))\n",
    "\treturn (x + y)\n",
    "}\n",
    "\n",
    "add(5, 10)"
   ]
  },
  {
   "cell_type": "markdown",
   "id": "af87c678",
   "metadata": {},
   "source": [
    "- As in Python, functions in R are objects. This is referred to as “first-class functions”.\n",
    "- The last line of the function returns a value, to return a value early use the special word `return`"
   ]
  },
  {
   "cell_type": "code",
   "execution_count": null,
   "id": "91ba90a7",
   "metadata": {
    "vscode": {
     "languageId": "r"
    }
   },
   "outputs": [],
   "source": [
    "add <- function(x, y) {\n",
    "    if (!is.numeric(x) | !is.numeric(y)) {\n",
    "        return(\"ERROR: one argument is not numeric\") #missing value (Not available)\n",
    "    }\n",
    "    x + y\n",
    "}\n",
    "\n",
    "add(5, 2)\n",
    "#add(5, \"a\")"
   ]
  },
  {
   "cell_type": "markdown",
   "id": "12e0882c",
   "metadata": {},
   "source": [
    "### Lazy evaluation\n",
    "\n",
    "In R, function arguments are lazily evaluated: they’re only evaluated if accessed.\n",
    "\n"
   ]
  },
  {
   "cell_type": "code",
   "execution_count": null,
   "id": "29368783",
   "metadata": {
    "vscode": {
     "languageId": "r"
    }
   },
   "outputs": [],
   "source": [
    "add_one <- function(x, y) {\n",
    "    x <- x + 1\n",
    "    x\n",
    "} \n",
    "\n",
    "add_one(5)"
   ]
  },
  {
   "cell_type": "markdown",
   "id": "05549bf3",
   "metadata": {},
   "source": [
    "Knowing that, now consider the `add_one` function written in Python below:\n",
    "\n",
    "```\n",
    "# Python code (would this work?)\n",
    "def add_one(x, y):\n",
    "    x = x + 1\n",
    "    return x\n",
    "\n",
    "add_one(5)\n",
    "```"
   ]
  },
  {
   "cell_type": "markdown",
   "id": "65339714",
   "metadata": {},
   "source": [
    "From the list below, select the reason why the above add_one function will work in R, but the equivalent version of the function in python would break.\n",
    "\n",
    "1. Python evaluates the function arguments before it evaluates the function and because it doesn't know what y is, it will break even though it is not used in the function.\n",
    "2. R performs lazy evaluation, meaning it delays the evaluation of the function arguments until its value is needed within/inside the function.\n",
    "3. The question is wrong, both functions would work in their respective languages. \n",
    "4. answer 1 & 2 are correct"
   ]
  },
  {
   "cell_type": "markdown",
   "id": "419e5598",
   "metadata": {},
   "source": [
    "### anonymous functions\n",
    "- If you choose not to give a function a name, you get an anonymous function. \n",
    "- Anonymys functions are not bound to an identifier.\n",
    "- This is useful when it’s not worth the effort to figure out a name:\n"
   ]
  },
  {
   "cell_type": "code",
   "execution_count": null,
   "id": "38d33888",
   "metadata": {
    "vscode": {
     "languageId": "r"
    }
   },
   "outputs": [],
   "source": [
    "# mtcars is a dataset provided in dplyr\n",
    "# lapply: applies a Function over a List or Vector. This is a functional\n",
    "lapply(mtcars, function(x) length(unique(x)))\n"
   ]
  },
  {
   "cell_type": "markdown",
   "id": "7ece534e",
   "metadata": {},
   "source": [
    "## Functionals\n",
    "\n",
    "A functional is a function that takes a function (and other things) as an input and returns a vector as output.\n",
    "\n",
    "R has several other functionals like: `lapply`, `apply`, `tapply`, `integrate` or `optim`. In tydiverse we use  `purrr` for writing functionals"
   ]
  },
  {
   "cell_type": "markdown",
   "id": "3fc912fb",
   "metadata": {},
   "source": [
    "### How do we apply a function to all columns of a data frame?\n",
    "\n",
    "Say, for example we wanted to calculate the median for each column in the `mtcars` data frame:"
   ]
  },
  {
   "cell_type": "code",
   "execution_count": null,
   "id": "b2255116",
   "metadata": {
    "vscode": {
     "languageId": "r"
    }
   },
   "outputs": [],
   "source": [
    "head(mtcars, 2)"
   ]
  },
  {
   "cell_type": "code",
   "execution_count": null,
   "id": "1f26be18",
   "metadata": {
    "vscode": {
     "languageId": "r"
    }
   },
   "outputs": [],
   "source": [
    "medians <- vector(\"double\", ncol(mtcars))\n",
    "for (i in seq_along(mtcars)) {\n",
    "    #How do we tell `median` to ignore NA's? Using `na.rm = TRUE`!\n",
    "    medians[i] <- median(mtcars[[i]], na.rm = TRUE)\n",
    "}"
   ]
  },
  {
   "cell_type": "markdown",
   "id": "44ff18a6",
   "metadata": {},
   "source": [
    "OK, then next we want to calculate the mean for all of the columns:"
   ]
  },
  {
   "cell_type": "code",
   "execution_count": null,
   "id": "41e3f5b7",
   "metadata": {
    "vscode": {
     "languageId": "r"
    }
   },
   "outputs": [],
   "source": [
    "means <- vector(\"double\", ncol(mtcars))\n",
    "for (i in seq_along(mtcars)) {\n",
    "    means[i] <- mean(mtcars[[i]], na.rm = TRUE)\n",
    "}"
   ]
  },
  {
   "cell_type": "markdown",
   "id": "4790fe82",
   "metadata": {},
   "source": [
    "OK, and then the variance..."
   ]
  },
  {
   "cell_type": "code",
   "execution_count": null,
   "id": "fe65309e",
   "metadata": {
    "vscode": {
     "languageId": "r"
    }
   },
   "outputs": [],
   "source": [
    "variances <- vector(\"double\", ncol(mtcars))\n",
    "for (i in seq_along(mtcars)) {\n",
    "    variances[i] <- var(mtcars[[i]], na.rm = TRUE)\n",
    "}"
   ]
  },
  {
   "cell_type": "markdown",
   "id": "3d4e7cf9",
   "metadata": {},
   "source": [
    "This is getting a little repetitive... What are we repeating?"
   ]
  },
  {
   "cell_type": "markdown",
   "id": "df6e75e4",
   "metadata": {},
   "source": [
    "### Can we write this as a function?\n",
    "\n",
    "Given that functions are objects in R, this seems reasonable!"
   ]
  },
  {
   "cell_type": "code",
   "execution_count": null,
   "id": "847886b8",
   "metadata": {
    "vscode": {
     "languageId": "r"
    }
   },
   "outputs": [],
   "source": [
    "mds_map <- function(x, fun)  {\n",
    "    out <- vector(\"double\", ncol(x))\n",
    "    for (i in seq_along(x)) {\n",
    "        out[i] <- fun(x[[i]], na.rm = TRUE)\n",
    "    }\n",
    "    out\n",
    "}\n",
    "mds_map(mtcars, min)"
   ]
  },
  {
   "cell_type": "markdown",
   "id": "8382026e",
   "metadata": {},
   "source": [
    "This is essentially the guts of `purrr::map_dbl`."
   ]
  },
  {
   "cell_type": "code",
   "execution_count": null,
   "id": "44040577",
   "metadata": {
    "vscode": {
     "languageId": "r"
    }
   },
   "outputs": [],
   "source": [
    "# This looks different from our mds_map function! Now, the output is of type list.\n",
    "library(purrr)\n",
    "map_dbl(mtcars, min)"
   ]
  },
  {
   "cell_type": "markdown",
   "id": "a24a871a",
   "metadata": {},
   "source": [
    "### What if our data frame had missing values?\n",
    "\n",
    "Let's make some to see the consequences.."
   ]
  },
  {
   "cell_type": "code",
   "execution_count": null,
   "id": "b1bfd51e",
   "metadata": {
    "vscode": {
     "languageId": "r"
    }
   },
   "outputs": [],
   "source": [
    "mtcars_NA <- mtcars\n",
    "mtcars_NA[1, 1] <- NA\n",
    "head(mtcars_NA, 2)"
   ]
  },
  {
   "cell_type": "code",
   "execution_count": null,
   "id": "f2dee2c4",
   "metadata": {
    "vscode": {
     "languageId": "r"
    }
   },
   "outputs": [],
   "source": [
    "map_dbl(mtcars_NA, median)"
   ]
  },
  {
   "cell_type": "markdown",
   "id": "b3ea1c35",
   "metadata": {},
   "source": [
    "`map_dbl` returns a vector of type double.\n",
    "\n",
    "How do we tell `median` to ignore NA's? Using `na.rm = TRUE`! But how do we add this to our `map_dbl` call?"
   ]
  },
  {
   "cell_type": "markdown",
   "id": "9582495b",
   "metadata": {},
   "source": [
    "### Solution!\n",
    "\n",
    "Creating an anonymous function within the `purrr::map_dbl` function!"
   ]
  },
  {
   "cell_type": "code",
   "execution_count": null,
   "id": "7213d841",
   "metadata": {
    "vscode": {
     "languageId": "r"
    }
   },
   "outputs": [],
   "source": [
    "map_dbl(mtcars_NA, function(x) median(x, na.rm  = TRUE))"
   ]
  },
  {
   "cell_type": "markdown",
   "id": "5201ae32",
   "metadata": {},
   "source": [
    "### Function composition\n",
    "\n",
    "You have 3 options in R:\n",
    "\n",
    "- assigning values to intermediate objects,\n",
    "- nested function calls, or \n",
    "- the binary operator `%>%`, which is called the pipe and is pronounced as “and then”.\n"
   ]
  },
  {
   "cell_type": "markdown",
   "id": "099163b3",
   "metadata": {},
   "source": [
    "For example, imagine you want to compute the population standard deviation using `sqrt()` and `mean()` as building blocks, and we create the two functions:"
   ]
  },
  {
   "cell_type": "code",
   "execution_count": null,
   "id": "ac437430",
   "metadata": {
    "vscode": {
     "languageId": "r"
    }
   },
   "outputs": [],
   "source": [
    "square <- function(x) {\n",
    "    x^2\n",
    "}\n",
    "deviation <- function(x) {\n",
    "    x - mean(x)\n",
    "}\n",
    "x <- runif(100) # runif(X) generates X random deviates "
   ]
  },
  {
   "cell_type": "markdown",
   "id": "c8a32f81",
   "metadata": {},
   "source": [
    "Option 1: assigning values to intermediate objects"
   ]
  },
  {
   "cell_type": "code",
   "execution_count": null,
   "id": "402ad61d",
   "metadata": {
    "vscode": {
     "languageId": "r"
    }
   },
   "outputs": [],
   "source": [
    "out <- deviation(x)\n",
    "out <- square(out)\n",
    "out <- mean(out)\n",
    "out <- sqrt(out)\n",
    "out"
   ]
  },
  {
   "cell_type": "markdown",
   "id": "cc8b395f",
   "metadata": {},
   "source": [
    "Option 2: nested function calls"
   ]
  },
  {
   "cell_type": "code",
   "execution_count": null,
   "id": "f9b9bee4",
   "metadata": {
    "vscode": {
     "languageId": "r"
    }
   },
   "outputs": [],
   "source": [
    "sqrt(mean(square(deviation(x))))"
   ]
  },
  {
   "cell_type": "markdown",
   "id": "d4f250e0",
   "metadata": {},
   "source": [
    "Option 3: the binary operator `%>%`, which is called the pipe and is pronounced as “and then”."
   ]
  },
  {
   "cell_type": "code",
   "execution_count": null,
   "id": "d80b5511",
   "metadata": {
    "vscode": {
     "languageId": "r"
    }
   },
   "outputs": [],
   "source": [
    "library(magrittr, quietly = TRUE) # also loaded as a dependency of dplyr and tidyverse\n",
    "\n",
    "x %>%\n",
    "  deviation() %>%\n",
    "  square() %>%\n",
    "  mean() %>%\n",
    "  sqrt()"
   ]
  },
  {
   "cell_type": "markdown",
   "id": "ad0bc0bc",
   "metadata": {},
   "source": [
    "#### What to choose?\n",
    "\n",
    "Each of the three options has its own strengths and weaknesses:"
   ]
  },
  {
   "cell_type": "markdown",
   "id": "bcccf813",
   "metadata": {},
   "source": [
    "Intermediate objects:\n",
    "- requires you to name intermediate objects. This is a strength when objects are important, but a weakness when values are truly intermediate."
   ]
  },
  {
   "cell_type": "markdown",
   "id": "6e71d24c",
   "metadata": {},
   "source": [
    "Nesting:\n",
    "- is concise, and well suited for short sequences. \n",
    "- But longer sequences are hard to read because they are read inside out and right to left. "
   ]
  },
  {
   "cell_type": "markdown",
   "id": "41b9a1d2",
   "metadata": {},
   "source": [
    "Piping:\n",
    "- allows you to read code in straightforward left-to-right fashion and doesn’t require you to name intermediate objects. \n",
    "- But you can only use it with linear sequences of transformations of a single object.\n",
    "- It also requires an additional third party package and assumes that the reader understands piping."
   ]
  },
  {
   "cell_type": "markdown",
   "id": "3adf2744",
   "metadata": {},
   "source": [
    "## Writing tests in R with test_that\n",
    "\n",
    "- Industry standard tool for writing tests in R is the [`testthat` package](https://testthat.r-lib.org/).\n",
    "- To use an R package, we typically load the package into R using the `library` function:"
   ]
  },
  {
   "cell_type": "code",
   "execution_count": null,
   "id": "9918c00a",
   "metadata": {
    "vscode": {
     "languageId": "r"
    }
   },
   "outputs": [],
   "source": [
    "library(testthat)"
   ]
  },
  {
   "cell_type": "markdown",
   "id": "5578d723",
   "metadata": {},
   "source": [
    "#### How to write a test with `testthat::test_that`\n",
    "\n",
    "```\n",
    "test_that(\"Message to print if test fails\", expect_*(...))\n",
    "```\n",
    "\n",
    "Often our `test_that` function calls are longer than 80 characters, so we use `{` to split the code across multiple lines, for example:"
   ]
  },
  {
   "cell_type": "code",
   "execution_count": null,
   "id": "2f4aa7e0",
   "metadata": {
    "vscode": {
     "languageId": "r"
    }
   },
   "outputs": [],
   "source": [
    "x <- c(3.5, 3.5, 3.5)\n",
    "y <- c(3.5, 3.5, 3.49999)\n",
    "test_that(\"x and y should contain the same values\", {\n",
    "    expect_equal(x, y)\n",
    "})"
   ]
  },
  {
   "cell_type": "markdown",
   "id": "8e73b7c9",
   "metadata": {},
   "source": [
    "#### Common `expect_*` statements for use with `test_that`\n",
    "\n",
    "#### Is the object equal to a value? \n",
    "- `expect_identical` - test two objects for being exactly equal\n",
    "- `expect_equal` - compare R objects x and y testing ‘near equality’ (can set a tolerance)\n",
    "- `expect_equivalent` - compare R objects x and y testing ‘near equality’ (can set a tolerance) and does not assess attributes\n",
    "\n",
    "#### Does code produce an output/message/warning/error?\n",
    "- `expect_error` - tests if an expression throws an error\n",
    "- `expect_warning` - tests whether an expression outputs a warning\n",
    "- `expect_output` - tests that ``print()`` output matches a specified value"
   ]
  },
  {
   "cell_type": "code",
   "execution_count": null,
   "metadata": {
    "vscode": {
     "languageId": "r"
    }
   },
   "outputs": [],
   "source": [
    "#expect_error\n",
    "f_error <- function() stop(\"My error!\")\n",
    "\n",
    "expect_error(f_error())\n",
    "expect_error(f_error(), \"My error!\")"
   ]
  },
  {
   "cell_type": "code",
   "execution_count": null,
   "id": "46860cbf",
   "metadata": {
    "vscode": {
     "languageId": "r"
    }
   },
   "outputs": [],
   "source": [
    "f <- function(x) {\n",
    "  if (x < 0) {\n",
    "    warning(\"*x* is already negative\")\n",
    "    return(x)\n",
    "  }\n",
    "  -x\n",
    "}\n",
    "expect_warning(f(-1))\n",
    "expect_warning(f(-1), \"is already negative\")\n",
    "expect_warning(f(1), NA) \n"
   ]
  },
  {
   "cell_type": "code",
   "execution_count": null,
   "id": "59191bab",
   "metadata": {
    "vscode": {
     "languageId": "r"
    }
   },
   "outputs": [],
   "source": [
    "str(mtcars)"
   ]
  },
  {
   "cell_type": "code",
   "execution_count": null,
   "id": "98dff005",
   "metadata": {
    "vscode": {
     "languageId": "r"
    }
   },
   "outputs": [],
   "source": [
    "expect_output(str(mtcars),\"32 obs.\")\n",
    "expect_output(str(mtcars),\"$ mpg\", fixed = TRUE)"
   ]
  },
  {
   "cell_type": "markdown",
   "id": "2842d4af",
   "metadata": {},
   "source": [
    "#### Is the object true/false?\n",
    "\n",
    "These are fall-back expectations that you can use when none of the other more specific expectations apply. The disadvantage is that you may get a less informative error message.\n",
    "\n",
    "- `expect_true` - tests if the object returns `TRUE`\n",
    "- `expect_false` - tests if the object returns `FALSE`"
   ]
  },
  {
   "cell_type": "markdown",
   "id": "3bdc8d04",
   "metadata": {},
   "source": [
    "#### Challenge 1: \n",
    "\n",
    "Add a tolerance arguement to the `expect_equal` statement such that the observed difference between these very similar vectors doesn't cause the test to fail."
   ]
  },
  {
   "cell_type": "code",
   "execution_count": null,
   "id": "a8f86438",
   "metadata": {
    "vscode": {
     "languageId": "r"
    }
   },
   "outputs": [],
   "source": [
    "x <- c(3.5, 3.5, 3.5)\n",
    "y <- c(3.5, 3.5, 3.49999)\n",
    "test_that(\"x and y should contain the same values\", {\n",
    "    expect_equal(x, y)\n",
    "})"
   ]
  },
  {
   "cell_type": "markdown",
   "id": "4e89fde2",
   "metadata": {},
   "source": [
    "#### Unit test example "
   ]
  },
  {
   "cell_type": "code",
   "execution_count": null,
   "id": "9ef36684",
   "metadata": {
    "vscode": {
     "languageId": "r"
    }
   },
   "outputs": [],
   "source": [
    "celsius_to_fahr <- function(temp) {\n",
    "  (temp * (9 / 5)) + 32\n",
    "}"
   ]
  },
  {
   "cell_type": "code",
   "execution_count": null,
   "id": "97f4bf49",
   "metadata": {
    "vscode": {
     "languageId": "r"
    }
   },
   "outputs": [],
   "source": [
    "test_that(\"Temperature should be the same in Celcius and Fahrenheit at -40\", {\n",
    "        expect_identical(celsius_to_fahr(-40), -40)\n",
    "    })\n",
    "test_that(\"Room temperature should be about 23 degrees in Celcius and 73 degrees Fahrenheit\", {\n",
    "        expect_equal(celsius_to_fahr(23), 73, tolerance = 1)\n",
    "    })"
   ]
  },
  {
   "cell_type": "markdown",
   "id": "cbdf7e7e",
   "metadata": {},
   "source": [
    "### Exception handling in R\n",
    "\n",
    "How to check type and throw an error if not the expected type:"
   ]
  },
  {
   "cell_type": "code",
   "execution_count": null,
   "id": "1db36cf0",
   "metadata": {
    "vscode": {
     "languageId": "r"
    }
   },
   "outputs": [],
   "source": [
    "if (!is.numeric(c(1, 2, \"c\")))\n",
    "  stop(\"Cannot compute of a vector of characters.\")"
   ]
  },
  {
   "cell_type": "markdown",
   "id": "5fa4cf78",
   "metadata": {},
   "source": [
    "Example of defensive programming at the beginning of a function:"
   ]
  },
  {
   "cell_type": "code",
   "execution_count": null,
   "id": "2e97d64b",
   "metadata": {
    "vscode": {
     "languageId": "r"
    }
   },
   "outputs": [],
   "source": [
    "fahr_to_celsius <- function(temp) {\n",
    "    if(!is.numeric(temp)){\n",
    "        stop(\"Cannot calculate temperature in Farenheit for non-numerical values\")\n",
    "    }\n",
    "    (temp - 32) * 5/9\n",
    "}"
   ]
  },
  {
   "cell_type": "code",
   "execution_count": null,
   "id": "ce88a556",
   "metadata": {
    "vscode": {
     "languageId": "r"
    }
   },
   "outputs": [],
   "source": [
    "fahr_to_celsius(\"thirty\")"
   ]
  },
  {
   "cell_type": "markdown",
   "id": "5c133265",
   "metadata": {},
   "source": [
    "If you wanted to issue a warning instead of an error, you could use warning in place of stop in the example above. However, in most cases it is better practice to throw an error than to print a warning..."
   ]
  },
  {
   "cell_type": "markdown",
   "id": "33d39680",
   "metadata": {},
   "source": [
    "#### We can test our exceptions using test_that:"
   ]
  },
  {
   "cell_type": "code",
   "execution_count": null,
   "id": "5fee8f6c",
   "metadata": {
    "vscode": {
     "languageId": "r"
    }
   },
   "outputs": [],
   "source": [
    "test_that(\"Non-numeric values for temp should throw an error\", {\n",
    "    expect_error(fahr_to_celsius(\"thirty\"))\n",
    "    expect_error(fahr_to_celsius(list(4)))\n",
    "    })"
   ]
  },
  {
   "cell_type": "markdown",
   "metadata": {},
   "source": [
    "### Test-driven development (TDD) review\n",
    "\n",
    "1. Write your tests first (that call the function you haven't yet written), based on edge cases you expect or can calculate by hand\n",
    "\n",
    "2. If necessary, create some \"helper\" data to test your function with (this might be done in conjunction with step 1)\n",
    "\n",
    "3. Write your function to make the tests pass (in this process you might think of more tests that you want to add)"
   ]
  },
  {
   "cell_type": "markdown",
   "id": "0a07020f",
   "metadata": {},
   "source": [
    "#### `try` in R\n",
    "\n",
    "Similar to Python, R has a `try` function to attempt to run code, and continue running subsequent code even if code in the try block does not work:\n",
    "\n",
    "```\n",
    "try({\n",
    "    # some code\n",
    "    # that can be \n",
    "    # split across several\n",
    "    # lines\n",
    "})\n",
    "\n",
    "# code to continue even if error in code \n",
    "# in try code block above\n",
    "```"
   ]
  },
  {
   "cell_type": "markdown",
   "id": "40e791b6",
   "metadata": {},
   "source": [
    "This code normally results in an error that stops following code from running:"
   ]
  },
  {
   "cell_type": "code",
   "execution_count": null,
   "id": "49617271",
   "metadata": {
    "vscode": {
     "languageId": "r"
    }
   },
   "outputs": [],
   "source": [
    "x <- data.frame(col1 = c(1, 2, 3, 2, 1), \n",
    "                col2 = c(0, 1, 0, 0 , 1))\n",
    "x[3]\n",
    "dim(x)"
   ]
  },
  {
   "cell_type": "markdown",
   "id": "c77e605e",
   "metadata": {},
   "source": [
    "Try let's the code following the error run:"
   ]
  },
  {
   "cell_type": "code",
   "execution_count": null,
   "id": "772d6eeb",
   "metadata": {
    "vscode": {
     "languageId": "r"
    }
   },
   "outputs": [],
   "source": [
    "try({x <- data.frame(col1 = c(1, 2, 3, 2, 1), \n",
    "                     col2 = c(0, 1, 0, 0 , 1))\n",
    "     x[3]\n",
    "})\n",
    "dim(x)"
   ]
  },
  {
   "cell_type": "markdown",
   "id": "a48bd38d",
   "metadata": {},
   "source": [
    "### `roxygen2` friendly function documentation "
   ]
  },
  {
   "cell_type": "code",
   "execution_count": null,
   "id": "8aca0ce3",
   "metadata": {
    "vscode": {
     "languageId": "r"
    }
   },
   "outputs": [],
   "source": [
    "#' Converts temperatures from Fahrenheit to Celsius.\n",
    "#'    \n",
    "#' @param temp a vector of temperatures in Fahrenheit\n",
    "#' \n",
    "#' @return a vector of temperatures in Celsius\n",
    "#' \n",
    "#' @examples\n",
    "#' fahr_to_celcius(-20)\n",
    "fahr_to_celsius <- function(temp) {\n",
    "    (temp - 32) * 5/9\n",
    "}"
   ]
  },
  {
   "cell_type": "markdown",
   "id": "ce1d567d",
   "metadata": {},
   "source": [
    "Why `roxygen2` documentation? If you document your functions like this, *when* you create an R package to share them they will be set up to have the fancy documentation that we get using `?function_name`."
   ]
  },
  {
   "cell_type": "markdown",
   "id": "1a9d123a",
   "metadata": {},
   "source": [
    "#### RStudio has template for `roxygen2` documentation\n",
    "\n",
    "<img src=\"insert_roxygen.png\" width=500>"
   ]
  }
 ],
 "metadata": {
  "kernelspec": {
   "display_name": "R",
   "language": "R",
   "name": "ir"
  },
  "language_info": {
   "codemirror_mode": "r",
   "file_extension": ".r",
   "mimetype": "text/x-r-source",
   "name": "R",
   "pygments_lexer": "r",
   "version": "3.6.0"
  }
 },
 "nbformat": 4,
 "nbformat_minor": 5
}
