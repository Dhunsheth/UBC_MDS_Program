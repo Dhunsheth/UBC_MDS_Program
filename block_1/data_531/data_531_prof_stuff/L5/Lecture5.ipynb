{
 "cells": [
  {
   "cell_type": "markdown",
   "id": "d7c976b6",
   "metadata": {},
   "source": [
    "# Lecture 5: Introduction to R and the tidyverse"
   ]
  },
  {
   "cell_type": "markdown",
   "id": "8f0915b3",
   "metadata": {},
   "source": [
    "## Attribution:\n",
    "- [Advanced R](https://adv-r.hadley.nz/) by Hadley Wickham\n",
    "- [Why do we use arrow as an assignment operator?](https://colinfay.me/r-assignment/) by Colin Fay"
   ]
  },
  {
   "cell_type": "markdown",
   "id": "d914fafb",
   "metadata": {},
   "source": [
    "### Lecture 5 Outline:\n",
    "\n",
    "- **What is R a why learn it** \n",
    "- **Basics of R and RStudio** \n",
    "- **Datatypes and Structures** \n",
    "- **Control Flow**\n",
    "- **Tydiverse** \n",
    "\n"
   ]
  },
  {
   "cell_type": "markdown",
   "id": "fb9c45b9",
   "metadata": {},
   "source": [
    "### What is R? Why learn R?\n",
    "- R is a free and open source programming language for statistical computing and graphics.\n",
    "- One of the most widely used programming laguages for statistical analysis\n",
    "- Popular in academia and companies like Google, Microsoft, and Facebook.\n",
    "- There are over 12,000 packages.\n",
    "- Large community and good documentation \n",
    "- R crates high quality graphs and visualiations.\n",
    "- R is built to handle and analyze data\n",
    "- One of the most widely used programming laguages for statistical analysis\n"
   ]
  },
  {
   "cell_type": "markdown",
   "id": "62eb64ee",
   "metadata": {},
   "source": [
    "## Basics of R and RStudio"
   ]
  },
  {
   "cell_type": "markdown",
   "id": "91a0fcf5",
   "metadata": {},
   "source": [
    "- R is case sensitive\n",
    "- R commands may be separate either by a semi-colon or a newline\n",
    "- Brackets { } are used to group commands together\n",
    "- varibales are assigned using ``<-``"
   ]
  },
  {
   "cell_type": "code",
   "execution_count": 1,
   "id": "e40cde0b",
   "metadata": {
    "vscode": {
     "languageId": "r"
    }
   },
   "outputs": [],
   "source": [
    "x <- 1\n",
    "y <- 2\n",
    "z <- 3"
   ]
  },
  {
   "cell_type": "code",
   "execution_count": 3,
   "id": "2c3523a1",
   "metadata": {
    "vscode": {
     "languageId": "r"
    }
   },
   "outputs": [],
   "source": [
    "x <- 1; y <- 2; z <- 3"
   ]
  },
  {
   "cell_type": "markdown",
   "id": "e2310bc4",
   "metadata": {},
   "source": [
    "- RStudio is an integrated development environment (IDE) for R\n",
    "- Install it [here](https://www.rstudio.com/products/rstudio/download/), you first need to install R: "
   ]
  },
  {
   "cell_type": "markdown",
   "id": "8a6e0007",
   "metadata": {},
   "source": [
    "**RSTUDIO IDE**\n",
    "\n",
    "1. Script Window\n",
    "    - Draft and save code\n",
    "    - Write a script to run in the console \n",
    "2. Console\n",
    "    - here the code goes once run\n",
    "    - Shows input, output  and any errors or warnings\n",
    "3. Environment\n",
    "    - Shows saved variables and datasets\n",
    "4. File Browser/Plots/Help…\n",
    "    - Show files in working directory and generated plots\n",
    "    - Help window opens here\n",
    "\n",
    "<img src=\"https://www.uvm.edu/~tdonovan/RforFledglings/figure/02_RStudio.PNG\">"
   ]
  },
  {
   "cell_type": "markdown",
   "id": "f7acb2fc",
   "metadata": {},
   "source": [
    "#### Basic Syntax"
   ]
  },
  {
   "cell_type": "code",
   "execution_count": 4,
   "id": "ed82bfa2",
   "metadata": {
    "vscode": {
     "languageId": "r"
    }
   },
   "outputs": [
    {
     "name": "stdout",
     "output_type": "stream",
     "text": [
      "[1] \"We use # for comments\"\n"
     ]
    }
   ],
   "source": [
    "# This is a comment\n",
    "print ('We use # for comments')"
   ]
  },
  {
   "cell_type": "code",
   "execution_count": null,
   "id": "fb63c455",
   "metadata": {
    "vscode": {
     "languageId": "r"
    }
   },
   "outputs": [],
   "source": [
    "# to get help for any function use help(function) or ?function\n",
    "help(print)"
   ]
  },
  {
   "cell_type": "markdown",
   "id": "3cc009c9",
   "metadata": {},
   "source": [
    "#### Basic computing"
   ]
  },
  {
   "cell_type": "code",
   "execution_count": null,
   "id": "2c062a79",
   "metadata": {
    "vscode": {
     "languageId": "r"
    }
   },
   "outputs": [],
   "source": [
    "# Addition (this is a comment in R)\n",
    "2+5"
   ]
  },
  {
   "cell_type": "code",
   "execution_count": null,
   "id": "db248d5c",
   "metadata": {
    "vscode": {
     "languageId": "r"
    }
   },
   "outputs": [],
   "source": [
    "# Substraction\n",
    "2-5"
   ]
  },
  {
   "cell_type": "code",
   "execution_count": null,
   "id": "69df9ba2",
   "metadata": {
    "vscode": {
     "languageId": "r"
    }
   },
   "outputs": [],
   "source": [
    "# Multiplication\n",
    "2 * 3"
   ]
  },
  {
   "cell_type": "code",
   "execution_count": null,
   "id": "593426b7",
   "metadata": {
    "vscode": {
     "languageId": "r"
    }
   },
   "outputs": [],
   "source": [
    "# Division \n",
    "2/10"
   ]
  },
  {
   "cell_type": "code",
   "execution_count": 5,
   "id": "0c22f5bb",
   "metadata": {
    "vscode": {
     "languageId": "r"
    }
   },
   "outputs": [
    {
     "data": {
      "text/html": [
       "16"
      ],
      "text/latex": [
       "16"
      ],
      "text/markdown": [
       "16"
      ],
      "text/plain": [
       "[1] 16"
      ]
     },
     "metadata": {},
     "output_type": "display_data"
    }
   ],
   "source": [
    "# Power \n",
    "4^2"
   ]
  },
  {
   "cell_type": "code",
   "execution_count": 6,
   "id": "88806fd6",
   "metadata": {
    "vscode": {
     "languageId": "r"
    }
   },
   "outputs": [
    {
     "data": {
      "text/html": [
       "2.82842712474619"
      ],
      "text/latex": [
       "2.82842712474619"
      ],
      "text/markdown": [
       "2.82842712474619"
      ],
      "text/plain": [
       "[1] 2.828427"
      ]
     },
     "metadata": {},
     "output_type": "display_data"
    }
   ],
   "source": [
    "# Roots\n",
    "8^(1/2)"
   ]
  },
  {
   "cell_type": "code",
   "execution_count": 7,
   "id": "6037e407",
   "metadata": {
    "vscode": {
     "languageId": "r"
    }
   },
   "outputs": [
    {
     "data": {
      "text/html": [
       "1"
      ],
      "text/latex": [
       "1"
      ],
      "text/markdown": [
       "1"
      ],
      "text/plain": [
       "[1] 1"
      ]
     },
     "metadata": {},
     "output_type": "display_data"
    }
   ],
   "source": [
    "# Modulus (remainder from division)\n",
    "5%%2"
   ]
  },
  {
   "cell_type": "code",
   "execution_count": 8,
   "id": "28b8e013",
   "metadata": {
    "vscode": {
     "languageId": "r"
    }
   },
   "outputs": [
    {
     "data": {
      "text/html": [
       "3"
      ],
      "text/latex": [
       "3"
      ],
      "text/markdown": [
       "3"
      ],
      "text/plain": [
       "[1] 3"
      ]
     },
     "metadata": {},
     "output_type": "display_data"
    }
   ],
   "source": [
    "# Integer Division\n",
    "16%/%5"
   ]
  },
  {
   "cell_type": "code",
   "execution_count": 9,
   "id": "b2216d0b",
   "metadata": {
    "vscode": {
     "languageId": "r"
    }
   },
   "outputs": [
    {
     "data": {
      "text/html": [
       "10"
      ],
      "text/latex": [
       "10"
      ],
      "text/markdown": [
       "10"
      ],
      "text/plain": [
       "[1] 10"
      ]
     },
     "metadata": {},
     "output_type": "display_data"
    }
   ],
   "source": [
    "#R follows the order of operations (PEMDAS).\n",
    "3^2 + 2 * 1/2"
   ]
  },
  {
   "cell_type": "markdown",
   "id": "0b56b6fc",
   "metadata": {},
   "source": [
    "#### Predefined functions in R\n",
    "- Trigonometric functions: sin , cos , tan\n",
    "- Exponential: exp, log (natural log), log10 ,  pi ,  abs\n",
    "- Aggregate functions: sum , length, unique, min, max, range\n",
    "- Other functions: sort\n"
   ]
  },
  {
   "cell_type": "code",
   "execution_count": 11,
   "id": "ab89cf4e",
   "metadata": {
    "vscode": {
     "languageId": "r"
    }
   },
   "outputs": [
    {
     "data": {
      "text/html": [
       "15"
      ],
      "text/latex": [
       "15"
      ],
      "text/markdown": [
       "15"
      ],
      "text/plain": [
       "[1] 15"
      ]
     },
     "metadata": {},
     "output_type": "display_data"
    },
    {
     "data": {
      "text/html": [
       "1"
      ],
      "text/latex": [
       "1"
      ],
      "text/markdown": [
       "1"
      ],
      "text/plain": [
       "[1] 1"
      ]
     },
     "metadata": {},
     "output_type": "display_data"
    }
   ],
   "source": [
    "x <- 1:5\n",
    "sum(x)"
   ]
  },
  {
   "cell_type": "code",
   "execution_count": null,
   "id": "576909fd",
   "metadata": {
    "vscode": {
     "languageId": "r"
    }
   },
   "outputs": [],
   "source": [
    "length(x)"
   ]
  },
  {
   "cell_type": "code",
   "execution_count": null,
   "id": "38ea9026",
   "metadata": {
    "vscode": {
     "languageId": "r"
    }
   },
   "outputs": [],
   "source": [
    "unique(x)"
   ]
  },
  {
   "cell_type": "code",
   "execution_count": null,
   "id": "1aa40844",
   "metadata": {
    "vscode": {
     "languageId": "r"
    }
   },
   "outputs": [],
   "source": [
    "max(x)"
   ]
  },
  {
   "cell_type": "code",
   "execution_count": null,
   "id": "5c2a6872",
   "metadata": {
    "vscode": {
     "languageId": "r"
    }
   },
   "outputs": [],
   "source": [
    "sort(x, decreasing = TRUE)"
   ]
  },
  {
   "cell_type": "markdown",
   "id": "766619ca",
   "metadata": {},
   "source": [
    "#### Storing values in Objects"
   ]
  },
  {
   "cell_type": "markdown",
   "id": "11b08046",
   "metadata": {},
   "source": [
    "The assignment symbol, `<-`\n",
    "\n",
    "- R came from S, S used `<-`\n",
    "- S was inspired from APL, which also used `<-`\n",
    "- APL was designed on a specific keyboard, which had a key for `<-`\n",
    "- At that time there was no `==` for testing equality, it was tested with `=`, so something else need to be used for assignment.\n",
    "\n",
    "<img src=\"https://upload.wikimedia.org/wikipedia/commons/thumb/9/9f/APL-keybd2.svg/410px-APL-keybd2.svg.png\">\n",
    "\n",
    "source: https://colinfay.me/r-assignment/"
   ]
  },
  {
   "cell_type": "code",
   "execution_count": null,
   "id": "441a0397",
   "metadata": {
    "vscode": {
     "languageId": "r"
    }
   },
   "outputs": [],
   "source": [
    "# To save the outcome we need to use a varible\n",
    "x<-7; y<-3\n",
    "product <- x*y\n",
    "product"
   ]
  },
  {
   "cell_type": "markdown",
   "id": "6d539014",
   "metadata": {},
   "source": [
    "- Nowadays, `=` can also be used for assignment, however there are some things to be aware of...\n",
    "- stylistically, `<-` is preferred over `=` for readability\n",
    "- `<-` and `->` are valid in R, the latter can be useful in pipelines\n",
    "- `<-` and `=` have different emphasis in regards to environments\n",
    "- **we expect you to use `<-` in MDS for object assignment in R** "
   ]
  },
  {
   "cell_type": "markdown",
   "id": "2f11a13b",
   "metadata": {},
   "source": [
    "#### Assignment readability\n"
   ]
  },
  {
   "cell_type": "code",
   "execution_count": null,
   "id": "05057a6c",
   "metadata": {
    "vscode": {
     "languageId": "r"
    }
   },
   "outputs": [],
   "source": [
    "c <- 12\n",
    "d <- 14\n",
    "\n",
    "e = c==d"
   ]
  },
  {
   "cell_type": "code",
   "execution_count": null,
   "id": "f9c27b8c",
   "metadata": {
    "vscode": {
     "languageId": "r"
    }
   },
   "outputs": [],
   "source": [
    "e <- c == d"
   ]
  },
  {
   "cell_type": "markdown",
   "id": "8385c855",
   "metadata": {},
   "source": [
    "When you type this into R: `x <- c(1, 2, 3)` ; we are **not** creating an object named `x`, containing the values `1, 2, and 3`. \n",
    "\n",
    "This is what R does: \n",
    "\n",
    "- (1) It’s creating an object, a vector of values, c(1, 2, 3).\n",
    "- (2) It’s binding that object to a name, x.\n",
    "- \"In other words, the object, or value, doesn’t have a name; it’s actually the name that has a value.\"\n",
    "\n",
    "<img src=\"https://d33wubrfki0l68.cloudfront.net/bd90c87ac98708b1731c92900f2f53ec6a71edaf/ce375/diagrams/name-value/binding-1.png\" width=300 algin=\"left\">\n",
    "\n",
    "*Source: [Advanced R](https://adv-r.hadley.nz/) by Hadley Wickham*"
   ]
  },
  {
   "cell_type": "markdown",
   "id": "345615ba",
   "metadata": {},
   "source": [
    "And then if you type `y <- c(1, 2, 3)`\n",
    "\n",
    "Then R does this:\n",
    "\n",
    "<img src=\"https://d33wubrfki0l68.cloudfront.net/bdc72c04d3135f19fb3ab13731129eb84c9170af/f0ab9/diagrams/name-value/binding-2.png\" width=300 algin=\"left\">\n",
    "\n",
    "*We are binding names like \"x\" and/or \"y\" to objects, not creating objects named something like \"x\" or \"y\".*\n",
    "\n",
    "*Source: [Advanced R](https://adv-r.hadley.nz/) by Hadley Wickham*"
   ]
  },
  {
   "cell_type": "markdown",
   "id": "4b76dccd",
   "metadata": {},
   "source": [
    "#### Naming Variables"
   ]
  },
  {
   "cell_type": "markdown",
   "id": "994baf8b",
   "metadata": {},
   "source": [
    "1. The object names must start with a letter\n",
    "2. They can contain alphanumeric characters, \"_\", and \".\"\n",
    "3. Cannot begin with `_` or a digit\n",
    "4. Cannot use reserved words (e.g., `for`, `if`, `return`)\n",
    "5. R is case sensitive, so A and a would be different variables\n",
    "6. When naming an object it is preferred to use lowercase letters, numbers and underscores _ to separate the words in a name. \n",
    "5. Follow the [tidyverse style](https://style.tidyverse.org)"
   ]
  },
  {
   "cell_type": "markdown",
   "id": "7840fae2",
   "metadata": {},
   "source": [
    "##### Comparison operators\n",
    "\n",
    "Are used to compare between values. The result is a Boolean value.\n",
    "\n",
    "|<span style=\"color:blue\">Operator</span> | <span style=\"color:blue\">Description</span> |\n",
    "| :--- | :--- |\n",
    "|<span style=\"color:green\">x == y</span>|is <span style=\"color:green\">x</span> equal to <span style=\"color:green\">y</span>?|\n",
    "|<span style=\"color:green\">x != y</span>|is <span style=\"color:green\">x</span> not equal to <span style=\"color:green\">y</span>?|\n",
    "|<span style=\"color:green\">x > y</span>|is <span style=\"color:green\">x</span> greater than <span style=\"color:green\">y</span>?|\n",
    "|<span style=\"color:green\">x >= y</span>|is <span style=\"color:green\">x</span> greater than or equal to <span style=\"color:green\">y</span>?|\n",
    "|<span style=\"color:green\">x < y</span>|is <span style=\"color:green\">x</span> less than <span style=\"color:green\">y</span>?|\n",
    "|<span style=\"color:green\">x <= y</span>|is <span style=\"color:green\">x</span> less than or equal to <span style=\"color:green\">y</span>?|"
   ]
  },
  {
   "cell_type": "code",
   "execution_count": null,
   "id": "fda98f48",
   "metadata": {
    "vscode": {
     "languageId": "r"
    }
   },
   "outputs": [],
   "source": [
    "x <- 5\n",
    "y <- 16"
   ]
  },
  {
   "cell_type": "code",
   "execution_count": null,
   "id": "3633b781",
   "metadata": {
    "vscode": {
     "languageId": "r"
    }
   },
   "outputs": [],
   "source": [
    "x<y"
   ]
  },
  {
   "cell_type": "code",
   "execution_count": null,
   "id": "15126eb2",
   "metadata": {
    "vscode": {
     "languageId": "r"
    }
   },
   "outputs": [],
   "source": [
    "x>y"
   ]
  },
  {
   "cell_type": "code",
   "execution_count": null,
   "id": "4ad5a2d7",
   "metadata": {
    "vscode": {
     "languageId": "r"
    }
   },
   "outputs": [],
   "source": [
    "x<=5\n",
    "y>=20\n",
    "y == 16\n",
    "x != 5"
   ]
  },
  {
   "cell_type": "markdown",
   "id": "3e201535",
   "metadata": {},
   "source": [
    "##### Logical operators\n",
    "\n",
    "Are used to carry out Boolean operations like AND, OR etc.\n",
    "\n",
    "|<span style=\"color:blue\">Operator</span> | <span style=\"color:blue\">Description</span> |\n",
    "| :--- | :--- |\n",
    "|<span style=\"color:green\">!</span>|logical NOT|\n",
    "|<span style=\"color:green\">&</span>|Element-wise logical AND|\n",
    "|<span style=\"color:green\">&&</span>|Logical AND|\n",
    "|<span style=\"color:green\">\\|</span>|Element-wise logical OR|\n",
    "|<span style=\"color:green\">\\|\\|</span>|Logical OR|"
   ]
  },
  {
   "cell_type": "code",
   "execution_count": null,
   "id": "477f1f76",
   "metadata": {
    "vscode": {
     "languageId": "r"
    }
   },
   "outputs": [],
   "source": [
    "x <- c(TRUE,FALSE,0,6) # Zero is considered FALSE and non-zero numbers are taken as TRUE\n",
    "y <- c(FALSE,TRUE,FALSE,TRUE)"
   ]
  },
  {
   "cell_type": "code",
   "execution_count": null,
   "id": "06e931f4",
   "metadata": {
    "vscode": {
     "languageId": "r"
    }
   },
   "outputs": [],
   "source": [
    "!x"
   ]
  },
  {
   "cell_type": "code",
   "execution_count": null,
   "id": "0dddc643",
   "metadata": {
    "vscode": {
     "languageId": "r"
    }
   },
   "outputs": [],
   "source": [
    "x&y #produces result having length of the longer operand"
   ]
  },
  {
   "cell_type": "code",
   "execution_count": 6,
   "id": "63bc9136",
   "metadata": {
    "vscode": {
     "languageId": "r"
    }
   },
   "outputs": [
    {
     "data": {
      "text/html": [
       "<ol class=list-inline>\n",
       "\t<li>TRUE</li>\n",
       "\t<li>FALSE</li>\n",
       "\t<li>FALSE</li>\n",
       "\t<li>FALSE</li>\n",
       "</ol>\n"
      ],
      "text/latex": [
       "\\begin{enumerate*}\n",
       "\\item TRUE\n",
       "\\item FALSE\n",
       "\\item FALSE\n",
       "\\item FALSE\n",
       "\\end{enumerate*}\n"
      ],
      "text/markdown": [
       "1. TRUE\n",
       "2. FALSE\n",
       "3. FALSE\n",
       "4. FALSE\n",
       "\n",
       "\n"
      ],
      "text/plain": [
       "[1]  TRUE FALSE FALSE FALSE"
      ]
     },
     "metadata": {},
     "output_type": "display_data"
    }
   ],
   "source": [
    "(c(20,30,0,0) & c(1,0))"
   ]
  },
  {
   "cell_type": "code",
   "execution_count": null,
   "id": "28882b92",
   "metadata": {
    "vscode": {
     "languageId": "r"
    }
   },
   "outputs": [],
   "source": [
    "x&&y # resulting into a single length logical vector."
   ]
  },
  {
   "cell_type": "markdown",
   "id": "83ae96f1",
   "metadata": {},
   "source": [
    "## Data types and Structures"
   ]
  },
  {
   "cell_type": "markdown",
   "id": "00b75a0e",
   "metadata": {},
   "source": [
    "#### Common data types in R\n",
    "\n",
    "| <span style=\"color:blue\">Type</span>  | <span style=\"color:blue\">Description</span>  | <span style=\"color:blue\">Example</span>   |\n",
    "| :---         | :---:     | :---:                           | \n",
    "|integer       |whole numbers from -Inf to +Inf  |<span style=\"color:green\">1L, -2L  </span>       |\n",
    "|Double|  numbers, fractions & decimals   |<span style=\"color:green\">-7, 0.2, -5/2</span>|\n",
    "|Character       |quoted strings of letters, numbers, and allowed symbols            |<span style=\"color:green\">\"1\", \"one\", \"o-n-e\", \"o.n.e\"</span>|\n",
    "|Logical       | Logical\tlogical constants of true or false     |<span style=\"color:green\"> TRUE, FALSE</span>|\n",
    "|Factor          |ordered, labelled variable |<span style=\"color:green\">\"Monday\", \"Tuesday\", etc.</span>|\n",
    "\n",
    "\n",
    "We use integers when we want to get our code to run faster and consum less memory. A double vector uses 8 bytes per element. An integer vector uses only 4 bytes per element\n"
   ]
  },
  {
   "cell_type": "code",
   "execution_count": null,
   "id": "5bd12d5a",
   "metadata": {
    "vscode": {
     "languageId": "r"
    }
   },
   "outputs": [],
   "source": [
    "# to find out the type of a value or object\n",
    "typeof(1L)\n",
    "typeof(0.2)\n",
    "typeof(TRUE)\n",
    "typeof(\"Hi, everyone!\")\n",
    "\n",
    "pets <- factor(c(\"cat\",\"cat\",\"dog\"),levels = c(\"cat\",\"dog\",\"bird\") )\n",
    "typeof(pets)"
   ]
  },
  {
   "cell_type": "code",
   "execution_count": null,
   "id": "f543012d",
   "metadata": {
    "vscode": {
     "languageId": "r"
    }
   },
   "outputs": [],
   "source": [
    "is.factor(pets)\n",
    "is.factor(TRUE)"
   ]
  },
  {
   "cell_type": "markdown",
   "id": "9a9ce4ef",
   "metadata": {},
   "source": [
    "**special values**\n",
    "\n",
    "| <span style=\"color:blue\">Value</span>  | <span style=\"color:blue\">Description</span>  \n",
    "| :---         | :---:   \n",
    "|<span style=\"color:green\">NA</span>       |Missing value (\"not available\") |\n",
    "|<span style=\"color:green\">NAN</span>|  Not a Number (e.g. 0/0)|\n",
    "|<span style=\"color:green\">Inf</span>       |Positive infinity|\n",
    "|<span style=\"color:green\">-Inf</span>      | Negative infinity|\n",
    "|<span style=\"color:green\">NULL </span>     |An object that exists but is completely empty|"
   ]
  },
  {
   "cell_type": "markdown",
   "id": "8cdc8851",
   "metadata": {},
   "source": [
    "#### Data Structures\n",
    "- Vectors: A group of single type data\n",
    "- Lists: A group of variety of data\n",
    "- Dataframes: collections of values that are each associated with a variable (column) and an observation (row)\n"
   ]
  },
  {
   "cell_type": "markdown",
   "id": "3c950e4c",
   "metadata": {},
   "source": [
    "**VECTORS**\n",
    "\n",
    "- are objects that can contain 1 or more elements\n",
    "- must all be of the same type (e.g., double, integer, character, logical)\n",
    "- We can create a vector of any numbers we want using `c()`, which is a function. \n"
   ]
  },
  {
   "cell_type": "code",
   "execution_count": null,
   "id": "de9dffc9",
   "metadata": {
    "vscode": {
     "languageId": "r"
    }
   },
   "outputs": [],
   "source": [
    "# Create a vector of ordered numbers:\n",
    "vect_1 <- c(5,6,7,8,9,10)\n",
    "#vect_1 <- c(5:10)#both numbers are inclusive\n",
    "#vect_1 <- c(-2, 2:10, 20)#both numbers are inclusive\n",
    "vect_1\n",
    "typeof(vect_1)"
   ]
  },
  {
   "cell_type": "markdown",
   "id": "414f9664",
   "metadata": {},
   "source": [
    "Also, we can create a sequence of numbers using the function `seq()`."
   ]
  },
  {
   "cell_type": "code",
   "execution_count": null,
   "id": "0e61f148",
   "metadata": {
    "vscode": {
     "languageId": "r"
    }
   },
   "outputs": [],
   "source": [
    "vect_2 <- seq(5,10) # The first two arguments are from and to\n",
    "vect_2\n",
    "typeof(vect_2)"
   ]
  },
  {
   "cell_type": "code",
   "execution_count": null,
   "id": "0463166c",
   "metadata": {
    "vscode": {
     "languageId": "r"
    }
   },
   "outputs": [],
   "source": [
    "vect_2 <- seq() # By default from = 1 and to = 1\n",
    "vect_2"
   ]
  },
  {
   "cell_type": "code",
   "execution_count": null,
   "id": "151cd4f6",
   "metadata": {
    "vscode": {
     "languageId": "r"
    }
   },
   "outputs": [],
   "source": [
    "vect_2 <- seq(1,10,2) # The third argument allows us to change the increment of the sequence\n",
    "vect_2"
   ]
  },
  {
   "cell_type": "markdown",
   "id": "87ca3bf8",
   "metadata": {},
   "source": [
    "We can use ``sample()`` to generated sampled vectors"
   ]
  },
  {
   "cell_type": "code",
   "execution_count": null,
   "id": "6cdad030",
   "metadata": {
    "vscode": {
     "languageId": "r"
    }
   },
   "outputs": [],
   "source": [
    "#Create a vector of size 3 sampled from x without replacement:\n",
    "y <- sample(x=c(1,2,3), size=3)\n",
    "y"
   ]
  },
  {
   "cell_type": "code",
   "execution_count": null,
   "id": "f22bcd87",
   "metadata": {
    "vscode": {
     "languageId": "r"
    }
   },
   "outputs": [],
   "source": [
    "#Create a vector of size 5 sampled from x with replacement\n",
    "y <- sample(x=c(1,2,3), size=5, replace=TRUE)\n",
    "y"
   ]
  },
  {
   "cell_type": "code",
   "execution_count": null,
   "id": "3ae5944b",
   "metadata": {
    "vscode": {
     "languageId": "r"
    }
   },
   "outputs": [],
   "source": [
    "weekdays <- c(\"Mon\", \"Tues\", \"Wed\", \"Thur\", \"Fri\")\n",
    "weekdays\n",
    "typeof(weekdays)"
   ]
  },
  {
   "cell_type": "code",
   "execution_count": null,
   "id": "9e618623",
   "metadata": {
    "vscode": {
     "languageId": "r"
    }
   },
   "outputs": [],
   "source": [
    "# When we call a function with an argument of the wrong type, \n",
    "# R will try to coerce values to a different type so that the function will work\n",
    "\n",
    "mixed_vec <- c(vect_2, weekdays)\n",
    "mixed_vec\n",
    "typeof(mixed_vec)"
   ]
  },
  {
   "cell_type": "markdown",
   "id": "3ac32a63",
   "metadata": {},
   "source": [
    "**Hierarchy for coercion**\n",
    "\n",
    "character → double → integer → logical\n",
    "\n"
   ]
  },
  {
   "cell_type": "markdown",
   "id": "3d83644a",
   "metadata": {},
   "source": [
    "`str` is a useful command to get even more information about an object:"
   ]
  },
  {
   "cell_type": "code",
   "execution_count": null,
   "id": "6e8edf4b",
   "metadata": {
    "vscode": {
     "languageId": "r"
    }
   },
   "outputs": [],
   "source": [
    "str(mixed_vec)"
   ]
  },
  {
   "cell_type": "markdown",
   "id": "36128775",
   "metadata": {},
   "source": [
    "**Useful functions for testing type and forcing coercion**\n",
    "\n",
    "- `is.logical()`, `is.integer()`, `is.double()`, and `is.character()` returns `TRUE` or `FALSE`, depending on type of object and function used.\n",
    "- `as.logical()`, `as.integer()`,` as.double()`, or `as.character()` coerce vector to type specified by function name. "
   ]
  },
  {
   "cell_type": "markdown",
   "id": "240acb26",
   "metadata": {},
   "source": [
    "#### EXERCISE 1:\n",
    "1. Create an object called x with value 2\n",
    "2. Created an object called y that is a sequence of numbers from 5 to 30 by 5\n",
    "3. Add x and y. What happens?"
   ]
  },
  {
   "cell_type": "markdown",
   "id": "1129ac3b",
   "metadata": {},
   "source": [
    "#### EXERCISE 2:\n",
    "1. Create an object called ``a`` that is just the letter \"a\" and an object ``x`` that is assigned the number 8. Add a to x. What happens?\n",
    "2. Create a vector called b that is just the number 8 in quotes. Add b to x (from above). What happens?\n",
    "3. Find some way to add b to x. (Hint: Don't forget about coercion.)"
   ]
  },
  {
   "cell_type": "markdown",
   "id": "1217a108",
   "metadata": {},
   "source": [
    "**Indexing vectors**\n",
    "\n",
    "There are a number of methods for indexing that are good to be familiar with:\n",
    "- Indexing by position\n",
    "- Negative indexing\n",
    "- Indexing by name\n",
    "\n",
    "We can see the names of a vector using the function `names()`."
   ]
  },
  {
   "cell_type": "code",
   "execution_count": null,
   "id": "b6348239",
   "metadata": {
    "vscode": {
     "languageId": "r"
    }
   },
   "outputs": [],
   "source": [
    "x <- c(6:10)\n",
    "x"
   ]
  },
  {
   "cell_type": "code",
   "execution_count": null,
   "id": "c42c1341",
   "metadata": {
    "vscode": {
     "languageId": "r"
    }
   },
   "outputs": [],
   "source": [
    "#Indexing by position\n",
    "x[1] # starting with 1 (not 0)!!!!!!"
   ]
  },
  {
   "cell_type": "code",
   "execution_count": null,
   "id": "e54491df",
   "metadata": {
    "vscode": {
     "languageId": "r"
    }
   },
   "outputs": [],
   "source": [
    "#Passing indexes as a vector using c() -> Get the first and third element \n",
    "x[c(1,3)]"
   ]
  },
  {
   "cell_type": "code",
   "execution_count": null,
   "id": "d9b0e3b7",
   "metadata": {
    "vscode": {
     "languageId": "r"
    }
   },
   "outputs": [],
   "source": [
    "x[-1] # access all but 1st element"
   ]
  },
  {
   "cell_type": "code",
   "execution_count": null,
   "id": "4c6dbf42",
   "metadata": {
    "vscode": {
     "languageId": "r"
    }
   },
   "outputs": [],
   "source": [
    "x[-c(1,3)] # access all but 1st and 3rd elements"
   ]
  },
  {
   "cell_type": "code",
   "execution_count": null,
   "id": "824c82a5",
   "metadata": {
    "vscode": {
     "languageId": "r"
    }
   },
   "outputs": [],
   "source": [
    "x[c(2, -1)] #cannot mix positive and negative integers"
   ]
  },
  {
   "cell_type": "markdown",
   "id": "cb594b23",
   "metadata": {},
   "source": [
    "``names(object)`` -> Function to get or set the names of an object."
   ]
  },
  {
   "cell_type": "code",
   "execution_count": null,
   "id": "3b408c39",
   "metadata": {
    "vscode": {
     "languageId": "r"
    }
   },
   "outputs": [],
   "source": [
    "names(x) "
   ]
  },
  {
   "cell_type": "code",
   "execution_count": null,
   "id": "d43dd568",
   "metadata": {
    "vscode": {
     "languageId": "r"
    }
   },
   "outputs": [],
   "source": [
    "names(x) <- c(\"first\", \"second\", \"third\", \"fourth\", \"fifth\")\n",
    "x"
   ]
  },
  {
   "cell_type": "code",
   "execution_count": null,
   "id": "55e2fe61",
   "metadata": {
    "vscode": {
     "languageId": "r"
    }
   },
   "outputs": [],
   "source": [
    "x['fourth']"
   ]
  },
  {
   "cell_type": "code",
   "execution_count": null,
   "id": "e9e1974d",
   "metadata": {
    "vscode": {
     "languageId": "r"
    }
   },
   "outputs": [],
   "source": [
    "x <- c(first = 1, second = 2, third = 3, fourth = 4, fifth = 5)\n",
    "x"
   ]
  },
  {
   "cell_type": "markdown",
   "id": "af744a63",
   "metadata": {},
   "source": [
    "We can use indexing to modify the elements within a vector."
   ]
  },
  {
   "cell_type": "code",
   "execution_count": null,
   "id": "0e70335a",
   "metadata": {
    "vscode": {
     "languageId": "r"
    }
   },
   "outputs": [],
   "source": [
    "x[1] <- NA\n",
    "x"
   ]
  },
  {
   "cell_type": "markdown",
   "id": "b0415ae7",
   "metadata": {},
   "source": [
    "##### What happens when you modify a vector in R?\n",
    "\n",
    "Consider:\n",
    "\n",
    "```\n",
    "x <- c(1, 2, 3)\n",
    "y <- x\n",
    "\n",
    "y[3] <- 4\n",
    "x\n",
    "#> [1] 1 2 3\n",
    "```\n",
    "\n",
    "|Code | R's memory representation |\n",
    "|---|---| \n",
    "| `x <- c(1, 2, 3)` | <img src=\"https://d33wubrfki0l68.cloudfront.net/bd90c87ac98708b1731c92900f2f53ec6a71edaf/ce375/diagrams/name-value/binding-1.png\" width=200 algin=\"left\"> |\n",
    "| `y <- x` | <img src=\"https://d33wubrfki0l68.cloudfront.net/bdc72c04d3135f19fb3ab13731129eb84c9170af/f0ab9/diagrams/name-value/binding-2.png\" width=200 algin=\"left\"> |\n",
    "| `y[[3]] <- 4` | <img src=\"https://d33wubrfki0l68.cloudfront.net/ef9f480effa2f1d0e401d1f94218d0cf118433c0/b56e9/diagrams/name-value/binding-3.png\" width=200 algin=\"left\"> |\n",
    "\n",
    "This is called \"copy-on-modify\".\n",
    "\n",
    "*Source: [Advanced R](https://adv-r.hadley.nz/) by Hadley Wickham*\n",
    "\n"
   ]
  },
  {
   "cell_type": "markdown",
   "id": "d646f6e2",
   "metadata": {},
   "source": [
    "##### Copy-on-modify\n",
    "- If you change one element of the vector, you have to copy the whole thing to update it\n",
    "- Given that data frames are built on-top of vectors, this has implications for speed when working with large data frames more [here](https://bookdown.dongzhuoer.com/hadley/adv-r/copy-on-modify.html)"
   ]
  },
  {
   "cell_type": "markdown",
   "id": "ed049226",
   "metadata": {},
   "source": [
    "A list of vector operators here:  [R Operators cheat sheet](https://cran.r-project.org/doc/contrib/Baggott-refcard-v2.pdf)"
   ]
  },
  {
   "cell_type": "markdown",
   "id": "580a9008",
   "metadata": {},
   "source": [
    "**LISTS**\n",
    "\n",
    "- To store diferent type of data in a single object. Lists are bery flexible\n",
    "- We can use the function `list()` for this"
   ]
  },
  {
   "cell_type": "code",
   "execution_count": null,
   "id": "fd7eeb8b",
   "metadata": {
    "vscode": {
     "languageId": "r"
    }
   },
   "outputs": [],
   "source": [
    "# Example, save my information:\n",
    "# Name: Gema\n",
    "# height: 5.4\n",
    "# Right handed: TRUE\n",
    "\n",
    "c(\"Gema\", 5.4, TRUE) #every element is coerced to a character"
   ]
  },
  {
   "cell_type": "code",
   "execution_count": null,
   "id": "3d98e056",
   "metadata": {
    "vscode": {
     "languageId": "r"
    }
   },
   "outputs": [],
   "source": [
    "my_info <- list(\"Gema\", 5.4, TRUE)\n",
    "my_info"
   ]
  },
  {
   "cell_type": "code",
   "execution_count": null,
   "id": "28b8ae4d",
   "metadata": {
    "vscode": {
     "languageId": "r"
    }
   },
   "outputs": [],
   "source": [
    "my_info <- list(name = \"Gema\",\n",
    "                height = 5.4,\n",
    "                right_handed = TRUE)"
   ]
  },
  {
   "cell_type": "code",
   "execution_count": null,
   "id": "c6b58821",
   "metadata": {
    "vscode": {
     "languageId": "r"
    }
   },
   "outputs": [],
   "source": [
    "names(my_info)"
   ]
  },
  {
   "cell_type": "code",
   "execution_count": null,
   "id": "b900d425",
   "metadata": {
    "vscode": {
     "languageId": "r"
    }
   },
   "outputs": [],
   "source": [
    "my_info <- list(name = \"Gema\",\n",
    "                height = 5.4,\n",
    "                right_handed = TRUE,\n",
    "                courses = c(\"DATA531\",\"DATA532\"))\n",
    "\n",
    "my_info"
   ]
  },
  {
   "cell_type": "markdown",
   "id": "9d33cbe5",
   "metadata": {},
   "source": [
    "**Indexing Lists**\n",
    "\n",
    "- Like vectors, lists can be indexed by their name or their position (numerically).\n",
    "- We can use `list$name` to get the object stored with a particular name"
   ]
  },
  {
   "cell_type": "code",
   "execution_count": null,
   "id": "4638bd2e",
   "metadata": {
    "vscode": {
     "languageId": "r"
    }
   },
   "outputs": [],
   "source": [
    "my_info[2]"
   ]
  },
  {
   "cell_type": "code",
   "execution_count": null,
   "id": "eee7739d",
   "metadata": {
    "vscode": {
     "languageId": "r"
    }
   },
   "outputs": [],
   "source": [
    "#compute my height in inches\n",
    "my_info[2] *12"
   ]
  },
  {
   "cell_type": "markdown",
   "id": "7213b429",
   "metadata": {},
   "source": [
    "The error happened because indexing list with single brackets returns a list. And what we need is the value or content of the list."
   ]
  },
  {
   "cell_type": "code",
   "execution_count": null,
   "id": "5377d367",
   "metadata": {
    "vscode": {
     "languageId": "r"
    }
   },
   "outputs": [],
   "source": [
    "my_info[[2]] *12"
   ]
  },
  {
   "cell_type": "code",
   "execution_count": null,
   "id": "624e6826",
   "metadata": {
    "vscode": {
     "languageId": "r"
    }
   },
   "outputs": [],
   "source": [
    "my_info[\"height\"]"
   ]
  },
  {
   "cell_type": "code",
   "execution_count": null,
   "id": "353fb64e",
   "metadata": {
    "vscode": {
     "languageId": "r"
    }
   },
   "outputs": [],
   "source": [
    "my_info[[\"height\"]]*12"
   ]
  },
  {
   "cell_type": "code",
   "execution_count": null,
   "id": "b67f8eee",
   "metadata": {
    "vscode": {
     "languageId": "r"
    }
   },
   "outputs": [],
   "source": [
    "my_info$height*12"
   ]
  },
  {
   "cell_type": "code",
   "execution_count": null,
   "id": "2be09646",
   "metadata": {
    "vscode": {
     "languageId": "r"
    }
   },
   "outputs": [],
   "source": [
    "my_info$courses"
   ]
  },
  {
   "cell_type": "code",
   "execution_count": null,
   "id": "5a5c9c51",
   "metadata": {
    "vscode": {
     "languageId": "r"
    }
   },
   "outputs": [],
   "source": [
    "my_info[[4]][2]\n",
    "my_info[['courses']][2]\n",
    "my_info$courses[2]"
   ]
  },
  {
   "cell_type": "markdown",
   "id": "a06087d9",
   "metadata": {},
   "source": [
    "**Modifying Lists**\n",
    "\n",
    "We can change or add elements to our list using indexing.\n",
    "\n"
   ]
  },
  {
   "cell_type": "code",
   "execution_count": null,
   "id": "859e26b0",
   "metadata": {
    "vscode": {
     "languageId": "r"
    }
   },
   "outputs": [],
   "source": [
    "my_info$height_in <- my_info$height * 12\n",
    "my_info"
   ]
  },
  {
   "cell_type": "markdown",
   "id": "7eccfb7b",
   "metadata": {},
   "source": [
    "**DATAFRAMES**\n",
    "- From a computer programming perspective, in R, a data frame is a special subtype of a list object whose elements (columns) are vectors.\n",
    "- They can contain different data types in each column, but all columns must be the same length\n",
    "- We can use `data.frame()` to create a dataframe.\n",
    "- We can use the `str()`  to inspect the data and see the type of each column."
   ]
  },
  {
   "cell_type": "code",
   "execution_count": null,
   "id": "045afb71",
   "metadata": {
    "vscode": {
     "languageId": "r"
    }
   },
   "outputs": [],
   "source": [
    "df<- data.frame( name = c(\"I\", \"She\", \"They\"),\n",
    "                hight = c(5.4, 6, 5.8), \n",
    "                right_handed = c(TRUE, FALSE, FALSE))\n",
    "df\n"
   ]
  },
  {
   "cell_type": "markdown",
   "id": "666ccadc",
   "metadata": {},
   "source": [
    "**Indexing Dataframes**\n",
    "- to index dataframes we use `[row, column]` as they have 2 dimensions"
   ]
  },
  {
   "cell_type": "code",
   "execution_count": null,
   "id": "da2ad0dc",
   "metadata": {
    "vscode": {
     "languageId": "r"
    }
   },
   "outputs": [],
   "source": [
    "df[1, 2]"
   ]
  },
  {
   "cell_type": "code",
   "execution_count": null,
   "id": "bb421b36",
   "metadata": {
    "vscode": {
     "languageId": "r"
    }
   },
   "outputs": [],
   "source": [
    "df[, 1]"
   ]
  },
  {
   "cell_type": "code",
   "execution_count": null,
   "id": "4d23d421",
   "metadata": {
    "vscode": {
     "languageId": "r"
    }
   },
   "outputs": [],
   "source": [
    "df[, \"right_handed\"]"
   ]
  },
  {
   "cell_type": "code",
   "execution_count": null,
   "id": "3eaca78f",
   "metadata": {
    "vscode": {
     "languageId": "r"
    }
   },
   "outputs": [],
   "source": [
    "df$right_handed"
   ]
  },
  {
   "cell_type": "code",
   "execution_count": null,
   "id": "f57cff5e",
   "metadata": {
    "vscode": {
     "languageId": "r"
    }
   },
   "outputs": [],
   "source": [
    "df$right_handed[1]"
   ]
  },
  {
   "cell_type": "markdown",
   "id": "22f7c66a",
   "metadata": {},
   "source": [
    "**Modifying Dataframes**"
   ]
  },
  {
   "cell_type": "code",
   "execution_count": null,
   "id": "7ab34cf0",
   "metadata": {
    "vscode": {
     "languageId": "r"
    }
   },
   "outputs": [],
   "source": [
    "df$height_in <- df$hight * 12\n",
    "df"
   ]
  },
  {
   "cell_type": "code",
   "execution_count": null,
   "id": "3ba35658",
   "metadata": {
    "vscode": {
     "languageId": "r"
    }
   },
   "outputs": [],
   "source": [
    "str(df)"
   ]
  },
  {
   "cell_type": "markdown",
   "id": "216e4d77",
   "metadata": {},
   "source": [
    "**What happens when we modify an entire column? or a row?**\n",
    "\n",
    "To answer this we need to look at how data frames are represented in R's memory.\n",
    "\n",
    "**How R represents data frames:**\n",
    "\n",
    "- Remember that data frames are lists of vectors\n",
    "- As such, they don't store the values themselves, they store references to them:\n",
    "\n",
    "```d1 <- data.frame(x = c(1, 5, 6), y = c(2, 4, 3))```\n",
    "\n",
    "<img src=\"https://d33wubrfki0l68.cloudfront.net/80d8995999aa240ff4bc91bb6aba2c7bf72afc24/95ee6/diagrams/name-value/dataframe.png\" width=\"200\">\n",
    "\n",
    "*Source: [Advanced R](https://adv-r.hadley.nz/) by Hadley Wickham*"
   ]
  },
  {
   "cell_type": "markdown",
   "id": "dda0858d",
   "metadata": {},
   "source": [
    "\n",
    "If you modify a column, only that column needs to be modified; the others will still point to their original references:\n",
    "\n",
    "` d2 <- d1`\n",
    "\n",
    "`d2[, 2] <- d2[, 2] * 2`\n",
    "\n",
    "<img src=\"https://d33wubrfki0l68.cloudfront.net/c19fd7e31bf34ceff73d0fac6e3ea22b09429e4a/23d8d/diagrams/name-value/d-modify-c.png\" width=\"250\">\n",
    "\n",
    "*Source: [Advanced R](https://adv-r.hadley.nz/) by Hadley Wickham*"
   ]
  },
  {
   "cell_type": "markdown",
   "id": "94416a01",
   "metadata": {},
   "source": [
    "However, if you modify a row, every column is modified, which means every column must be copied:\n",
    "\n",
    "`d3 <- d1`\n",
    "\n",
    "`d3[1, ] <- d3[1, ] * 3`\n",
    "\n",
    "<img src=\"https://d33wubrfki0l68.cloudfront.net/36df61f54d1ac62e066fb814cb7ba38ea6047a74/facf8/diagrams/name-value/d-modify-r.png\" width=\"400\">\n",
    "\n",
    "*Source: [Advanced R](https://adv-r.hadley.nz/) by Hadley Wickham*"
   ]
  },
  {
   "cell_type": "markdown",
   "id": "ed5f13ef",
   "metadata": {},
   "source": [
    "## Control Flow"
   ]
  },
  {
   "cell_type": "markdown",
   "id": "2e4231be",
   "metadata": {},
   "source": [
    "### `for` loops\n",
    "- For loops in R, work like this: `for (item in vector) perform_action`\n",
    "- When code needs to be split across lines in R, we use the `{` operator to surround it"
   ]
  },
  {
   "cell_type": "markdown",
   "id": "701a01ca",
   "metadata": {},
   "source": [
    "EXERCISE:\n",
    "\n",
    "Rearrange this code to make a working for loop in R."
   ]
  },
  {
   "cell_type": "code",
   "execution_count": null,
   "id": "fa233730",
   "metadata": {
    "vscode": {
     "languageId": "r"
    }
   },
   "outputs": [],
   "source": [
    "i <- i * 2\n",
    "}\n",
    "  print(i) \n",
    "for (i in 1:3) {"
   ]
  },
  {
   "cell_type": "markdown",
   "id": "5e534032",
   "metadata": {},
   "source": [
    "Beware of this:"
   ]
  },
  {
   "cell_type": "code",
   "execution_count": null,
   "id": "618d0125",
   "metadata": {
    "vscode": {
     "languageId": "r"
    }
   },
   "outputs": [],
   "source": [
    "means <- c()\n",
    "for (i in 1:length(means)) {\n",
    "  print(i)\n",
    "}"
   ]
  },
  {
   "cell_type": "markdown",
   "id": "3c2845c6",
   "metadata": {},
   "source": [
    "What went wrong here and how can we avoid it?\n",
    "\n",
    "- This occurs because `:` works with both increasing and decreasing sequences.\n",
    "\n",
    "- Use `seq_along(x)` instead. It always returns a value the same length as `x`:"
   ]
  },
  {
   "cell_type": "code",
   "execution_count": null,
   "id": "e1576a44",
   "metadata": {
    "vscode": {
     "languageId": "r"
    }
   },
   "outputs": [],
   "source": [
    "means <- c()\n",
    "for (i in seq_along(means)) {\n",
    "  print(i)\n",
    "}"
   ]
  },
  {
   "cell_type": "markdown",
   "id": "2e83875a",
   "metadata": {},
   "source": [
    "### `if`, `else if` and `else` statements \n",
    "\n",
    "The basic form of an if statement in R is as follows:\n",
    "\n",
    "`if (condition) true_action`\n",
    "\n",
    "`if (condition) true_action else false_action`\n",
    "\n",
    "- Again, when code needs to be split across lines in R, we use the `{` operator to surround it to create code blocks"
   ]
  },
  {
   "cell_type": "code",
   "execution_count": null,
   "id": "f806fa3a",
   "metadata": {
    "vscode": {
     "languageId": "r"
    }
   },
   "outputs": [],
   "source": [
    "x <- 5\n",
    "if(x > 0){\n",
    "    print(\"Positive number\")\n",
    "}"
   ]
  },
  {
   "cell_type": "code",
   "execution_count": null,
   "id": "f4b1957b",
   "metadata": {
    "vscode": {
     "languageId": "r"
    }
   },
   "outputs": [],
   "source": [
    "x <- -5\n",
    "if(x > 0){\n",
    "    print(\"Non-negative number\")\n",
    "} else {\n",
    "    print(\"Negative number\")\n",
    "}"
   ]
  },
  {
   "cell_type": "code",
   "execution_count": null,
   "id": "9eff0663",
   "metadata": {
    "vscode": {
     "languageId": "r"
    }
   },
   "outputs": [],
   "source": [
    "if(x > 0) print(\"Non-negative number\") else print(\"Negative number\")"
   ]
  },
  {
   "cell_type": "code",
   "execution_count": null,
   "id": "ea815b13",
   "metadata": {
    "vscode": {
     "languageId": "r"
    }
   },
   "outputs": [],
   "source": [
    "x <- -5\n",
    "y <- if(x > 0) 5 else 6\n",
    "y"
   ]
  },
  {
   "cell_type": "markdown",
   "id": "cfbcc996",
   "metadata": {},
   "source": [
    "## Tydiverse Intro\n",
    "\n",
    "The tidyverse is an opinionated collection of R packages designed for data science. All packages share an underlying design philosophy, grammar, and data structures.\n",
    "\n",
    "install the complete tidyverse with ``install.packages(\"tidyverse\")``\n",
    "\n",
    "<img src=\"Pictures/tidyverse.png\" width=800>"
   ]
  },
  {
   "cell_type": "markdown",
   "id": "18395222",
   "metadata": {},
   "source": [
    "### Loading a tabular data set"
   ]
  },
  {
   "cell_type": "code",
   "execution_count": null,
   "id": "b7c301e8",
   "metadata": {
    "vscode": {
     "languageId": "r"
    }
   },
   "outputs": [],
   "source": [
    "library(tidyverse,quietly = TRUE)"
   ]
  },
  {
   "cell_type": "markdown",
   "metadata": {},
   "source": [
    "To read data in tidyverse we use the ``read_csv()`` function. This function imports data into R as a [tibble](https://r4ds.had.co.nz/tibbles.html). \n",
    "\n",
    "- Tibbles are data frames, but they tweak some older behaviours to make life a little easier\n",
    "- Most other R packages use regular data frames. To coerce a data frame to a tibble you can use ``as_tibble()``"
   ]
  },
  {
   "cell_type": "code",
   "execution_count": null,
   "id": "510e0d87",
   "metadata": {
    "vscode": {
     "languageId": "r"
    }
   },
   "outputs": [],
   "source": [
    "us_2016_econ <- read_csv(\"../Data/state_property_vote.csv\")\n",
    "head(us_2016_econ)"
   ]
  },
  {
   "cell_type": "code",
   "execution_count": null,
   "id": "ac6f0344",
   "metadata": {
    "vscode": {
     "languageId": "r"
    }
   },
   "outputs": [],
   "source": [
    "str(us_2016_econ) #get more information about an object"
   ]
  },
  {
   "cell_type": "code",
   "execution_count": null,
   "id": "59e20380",
   "metadata": {
    "vscode": {
     "languageId": "r"
    }
   },
   "outputs": [],
   "source": [
    "us_2016_vote <- read_csv(\"../Data/2016_presidential_election_state_vote.csv\")\n",
    "head(us_2016_vote)"
   ]
  },
  {
   "cell_type": "markdown",
   "id": "8b7e65a1",
   "metadata": {},
   "source": [
    "We can use the dplyr package for mutating joins.\n",
    "\n",
    "- ``inner_join()``: includes all rows in x and y.\n",
    "- ``left_join()``: includes all rows in x.\n",
    "- ``right_join()``: includes all rows in y.\n",
    "- ``full_join()``: includes all rows in x or y.\n",
    "\n",
    "If a row in x matches multiple rows in y, all the rows in y will be returned once for each matching row in x."
   ]
  },
  {
   "cell_type": "code",
   "execution_count": null,
   "id": "7086ba89",
   "metadata": {
    "vscode": {
     "languageId": "r"
    }
   },
   "outputs": [],
   "source": [
    "us_data <- left_join(us_2016_econ, us_2016_vote)\n",
    "head(us_data)"
   ]
  },
  {
   "cell_type": "code",
   "execution_count": null,
   "id": "6c1ae01e",
   "metadata": {
    "vscode": {
     "languageId": "r"
    }
   },
   "outputs": [],
   "source": [
    "options(repr.plot.height = 3, repr.plot.width = 5)\n",
    "ggplot(us_data, aes(x = med_income, y = med_prop_val, color = party)) +\n",
    "  geom_point() +\n",
    "  xlab(\"Income (USD)\") +\n",
    "  ylab(\"Median property value (USD)\")"
   ]
  },
  {
   "cell_type": "markdown",
   "id": "dad1e440",
   "metadata": {},
   "source": [
    "### Creating subsets of data frames\n",
    "- We will use the `filter`,  `select`, `arrange`, `slice` functions from the `tidyverse` package. \n",
    "- The `filter` function allows you to obtain a subset of the rows with specific values.\n",
    "- The `select` function allows you to obtain a subset of the columns.\n",
    "- The `arrange` function allows you to order the rows of a dataframe by the values of a particular column\n",
    "- The `slice` function allows you to select rows according to the row number."
   ]
  },
  {
   "cell_type": "markdown",
   "id": "37c81459",
   "metadata": {},
   "source": [
    "#### Filter \n",
    "- `filter(dataset_name, column_name==wanted_value)`\n",
    "- It returns a data frame with all the collumns but only the rows that we want."
   ]
  },
  {
   "cell_type": "code",
   "execution_count": null,
   "id": "33c06ed6",
   "metadata": {
    "vscode": {
     "languageId": "r"
    }
   },
   "outputs": [],
   "source": [
    "# Filtering the Democratic parties in the dataset\n",
    "democratic_parties <-filter(us_data, party==\"Democratic\")\n",
    "head(democratic_parties)\n",
    "\n",
    "#No tidyverse:\n",
    "democratic_parties_2 = subset(us_data, party == 'Democratic')\n",
    "head(democratic_parties_2)"
   ]
  },
  {
   "cell_type": "code",
   "execution_count": null,
   "id": "8c7d8ef9",
   "metadata": {
    "vscode": {
     "languageId": "r"
    }
   },
   "outputs": [],
   "source": [
    "state_data <- filter(us_data, party != \"Not Applicable\")\n",
    "ggplot(state_data, aes(x = med_income, y = med_prop_val, color = party)) +\n",
    "    geom_point() +\n",
    "    xlab(\"Income (USD)\") +\n",
    "    ylab(\"Median property value (USD)\") +\n",
    "    scale_colour_manual(values = c(\"blue\", \"red\")) +\n",
    "    scale_x_continuous(labels = scales::dollar_format()) +\n",
    "    scale_y_continuous(labels = scales::dollar_format())"
   ]
  },
  {
   "cell_type": "markdown",
   "id": "71a7e1c9",
   "metadata": {},
   "source": [
    "#### Select\n",
    "- `select(dataset_name, column_names_wanted)`\n",
    "-  `select` returns the columns we want as a data frame."
   ]
  },
  {
   "cell_type": "code",
   "execution_count": null,
   "id": "fc937b1b",
   "metadata": {
    "vscode": {
     "languageId": "r"
    }
   },
   "outputs": [],
   "source": [
    "# Select the columns that we want\n",
    "democratic_states <- select(democratic_parties, \"state\",\"pop\")\n",
    "head(democratic_states)"
   ]
  },
  {
   "cell_type": "markdown",
   "id": "e459132d",
   "metadata": {},
   "source": [
    "#### Arrange\n",
    "- `arrange(dataset_name, by= order_choice(column_name))`\n",
    "- It returns a data frame ordered"
   ]
  },
  {
   "cell_type": "code",
   "execution_count": null,
   "id": "c3c13a6f",
   "metadata": {
    "vscode": {
     "languageId": "r"
    }
   },
   "outputs": [],
   "source": [
    "# Democratic states ordered by population\n",
    "democratic_states_desc <- arrange(democratic_states, by=desc(pop))\n",
    "democratic_states_desc"
   ]
  },
  {
   "cell_type": "markdown",
   "id": "cfed1fd1",
   "metadata": {},
   "source": [
    "#### Slice\n",
    "- `slice(dataset_name, rows)`"
   ]
  },
  {
   "cell_type": "code",
   "execution_count": null,
   "id": "3bc61862",
   "metadata": {
    "vscode": {
     "languageId": "r"
    }
   },
   "outputs": [],
   "source": [
    "# Choose the ten democratic states with higher population\n",
    "ten_democratic_states <- slice(democratic_states_desc, 1:10)\n",
    "ten_democratic_states"
   ]
  },
  {
   "cell_type": "markdown",
   "id": "dce5863f",
   "metadata": {},
   "source": [
    "#### Subsetting and modifying data frames\n",
    "\n",
    "There are 3 operators that can be used when subsetting data frames: `[`, `$` and `[[`\n",
    "\n",
    "| Operator | Example use | What it returns |\n",
    "|----------|-------------|-----------------|\n",
    "| `[`      | `us_data[1:10, 2:4]`     | rows 1-10 for columns 2-4 of the data frame, as a data frame |\n",
    "| `[`      | `us_data[1:10, ]`     | rows 1-10 for all columns of the data frame, as a data frame |\n",
    "| `[`     | `us_data[1]` | the first column of the data frame, as a data frame |\n",
    "| `[[`     | `us_data[[1]]` | the first column of the data frame, as a vector |\n",
    "| `$`      | `us_data$state` | the column the corresponds to the name that follows the `$`, as a vector | \n",
    "\n",
    "Note that `$` and `[[` remove a level of structure from the data frame object (this happens with lists too)."
   ]
  },
  {
   "cell_type": "markdown",
   "id": "578fbe6e",
   "metadata": {},
   "source": [
    "#### Logical indexing of data frames\n",
    "We can also use logical statements to filter for rows containing certain values, or values above or below a threshold:"
   ]
  },
  {
   "cell_type": "code",
   "execution_count": null,
   "id": "73ddffcc",
   "metadata": {
    "vscode": {
     "languageId": "r"
    }
   },
   "outputs": [],
   "source": [
    "head(us_data[us_data$party == \"Democratic\", ])"
   ]
  },
  {
   "cell_type": "code",
   "execution_count": null,
   "id": "94c96835",
   "metadata": {
    "vscode": {
     "languageId": "r"
    }
   },
   "outputs": [],
   "source": [
    "head(us_data[us_data$avg_commute > 25, ])"
   ]
  },
  {
   "cell_type": "markdown",
   "id": "da071cde",
   "metadata": {
    "vscode": {
     "languageId": "r"
    }
   },
   "source": [
    "## Defining functions in R\n",
    "\n",
    "- Use `variable <- function(…arguments…) { …body… }` to create a function and give it a name\n",
    "\n",
    "Example:"
   ]
  },
  {
   "cell_type": "code",
   "execution_count": null,
   "id": "17ad2b38",
   "metadata": {
    "vscode": {
     "languageId": "r"
    }
   },
   "outputs": [],
   "source": [
    "add <- function(x, y) {\n",
    "  print(paste(\"The sum of\",x, \"+\", y,\"is\", x+y))\n",
    "\treturn (x + y)\n",
    "}\n",
    "\n",
    "add(5, 10)"
   ]
  },
  {
   "cell_type": "markdown",
   "id": "41e1726d",
   "metadata": {},
   "source": [
    "- As in Python, functions in R are objects. This is referred to as “first-class functions”.\n",
    "- The last line of the function returns a value, to return a value early use the special word `return`"
   ]
  },
  {
   "cell_type": "code",
   "execution_count": null,
   "id": "0e5ac03c",
   "metadata": {
    "vscode": {
     "languageId": "r"
    }
   },
   "outputs": [],
   "source": [
    "add <- function(x, y) {\n",
    "    if (!is.numeric(x) | !is.numeric(y)) {\n",
    "        return(NA) #missing value (Not available)\n",
    "    }\n",
    "    x + y\n",
    "}\n",
    "\n",
    "add(5, \"a\")\n"
   ]
  },
  {
   "cell_type": "markdown",
   "id": "8976ca4a",
   "metadata": {},
   "source": [
    "**Note**: you probably want to throw an error here instead of return NA, this example was purely for illustrating early returns*"
   ]
  },
  {
   "cell_type": "markdown",
   "id": "d79cf18f",
   "metadata": {},
   "source": [
    "### Default function arguments\n",
    "\n",
    "Same as in Python!"
   ]
  },
  {
   "cell_type": "code",
   "execution_count": null,
   "id": "754546da",
   "metadata": {
    "vscode": {
     "languageId": "r"
    }
   },
   "outputs": [],
   "source": [
    "repeat_string <- function(x, n = 2) {\n",
    "    repeated <- \"\"\n",
    "    for (i in seq_along(1:n)) {\n",
    "        repeated <- paste0(repeated, x)\n",
    "    }\n",
    "    repeated\n",
    "}\n",
    "\n",
    "repeat_string(\"MDS\")"
   ]
  },
  {
   "cell_type": "markdown",
   "id": "e20e5ec2",
   "metadata": {},
   "source": [
    "### Writing readable R code\n",
    "\n",
    "- WriTing AND reading    (code) TaKes cognitive RESOURCES, & We only hAvE so MUCh! \n",
    "\n",
    "- To help free up cognitive capacity, we will follow the [tidyverse style guide](https://style.tidyverse.org/index.html)"
   ]
  },
  {
   "cell_type": "markdown",
   "id": "e8b89c28",
   "metadata": {},
   "source": [
    "### Lecture learning objectives:\n",
    "\n",
    "By then end of the lecture & lab 3, students should be able to:\n",
    "- Use the assignment symbol, `<-`, to assign values to objects in R and explain how it differs from `=`\n",
    "- Create in R, and define and differentiate in English, the below listed key datatypes in R:\n",
    "    - logical, numeric and character vectors\n",
    "    - lists\n",
    "    - data frames and tibbles\n",
    "- Use R to determine the type and structure of an object\n",
    "- Explain the distinction between names and values, and when R will copy an object\n",
    "- Use the three subsetting operators, `[[`, `[`, and `$`, to subset single and multiple elements from vectors and data frames\n",
    "- Compute numeric and boolean values using their respective types and operations\n",
    "- Write conditional statements in R with `if`, `else if` and `else` to run different code depending on the input\n",
    "- Write for loops in R to repeatedly run code\n",
    "- Write R code that is human readable and follows the tidyverse style guide\n"
   ]
  }
 ],
 "metadata": {
  "kernelspec": {
   "display_name": "R",
   "language": "R",
   "name": "ir"
  },
  "language_info": {
   "codemirror_mode": "r",
   "file_extension": ".r",
   "mimetype": "text/x-r-source",
   "name": "R",
   "pygments_lexer": "r",
   "version": "3.6.0"
  },
  "vscode": {
   "interpreter": {
    "hash": "753d7113537b387b72782a0cc951b2283945434542ede86a4702dfaca059ddf6"
   }
  }
 },
 "nbformat": 4,
 "nbformat_minor": 5
}
