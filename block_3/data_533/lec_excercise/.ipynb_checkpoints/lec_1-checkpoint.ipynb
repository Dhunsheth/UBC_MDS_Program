{
 "cells": [
  {
   "cell_type": "code",
   "execution_count": 9,
   "id": "5ec65f24-c725-4ede-816d-c09f154af75a",
   "metadata": {},
   "outputs": [
    {
     "name": "stdout",
     "output_type": "stream",
     "text": [
      "200\n",
      "Width: 10 Length: 20 Perimeter: 60\n",
      "2000\n"
     ]
    }
   ],
   "source": [
    "class Rectangle():\n",
    "    def __init__(self, width, length):\n",
    "        self.width = width\n",
    "        self.length = length\n",
    "    def area(self):\n",
    "        return self.width*self.length\n",
    "    def perimeter(self):\n",
    "        return 2*self.width+2*self.length\n",
    "    def __repr__(self):\n",
    "        output = 'Width: %s' % self.width\n",
    "        output += ' Length: %s' % self.length\n",
    "        output += ' Perimeter: %s' % self.perimeter()\n",
    "        return output\n",
    "\n",
    "class Parallelepipede(Rectangle):\n",
    "    def __init__(self, width, length, height):\n",
    "        Rectangle.__init__(self, width, length)\n",
    "        self.height = height\n",
    "    def volume(self):\n",
    "        return self.area()*self.height\n",
    "\n",
    "rect = Rectangle(10,20)\n",
    "print(rect.area())\n",
    "print(rect)\n",
    "b = Parallelepipede(10,20,10)\n",
    "print(b.volume())"
   ]
  },
  {
   "cell_type": "code",
   "execution_count": 8,
   "id": "47e5945d-a9cd-4209-a23d-71c554e499b8",
   "metadata": {},
   "outputs": [
    {
     "name": "stdout",
     "output_type": "stream",
     "text": [
      "200\n",
      "1.0\n"
     ]
    }
   ],
   "source": [
    "class Line():\n",
    "    def __init__(self, coord1=(), coord2=()):\n",
    "        self.x1 = coord1[0]\n",
    "        self.y1 = coord1[1]\n",
    "        self.x2 = coord2[0]\n",
    "        self.y2 = coord2[1]\n",
    "        \n",
    "    def length(self):\n",
    "        return ((self.y2-self.y1)* (self.y2-self.y1) + (self.x2-self.x1)*(self.x2-self.x1))\n",
    "    def slope(self):\n",
    "        return (self.y2-self.y1)/(self.x2-self.x1)\n",
    "\n",
    "coord1 = (10,10)\n",
    "coord2 = (20,20)\n",
    "line = Line(coord1, coord2)\n",
    "print(line.length())\n",
    "print(line.slope())"
   ]
  },
  {
   "cell_type": "code",
   "execution_count": null,
   "id": "96f780b8-3bb1-4fd5-a079-f2f1ee82d20e",
   "metadata": {},
   "outputs": [],
   "source": []
  }
 ],
 "metadata": {
  "kernelspec": {
   "display_name": "Python 3 (ipykernel)",
   "language": "python",
   "name": "python3"
  },
  "language_info": {
   "codemirror_mode": {
    "name": "ipython",
    "version": 3
   },
   "file_extension": ".py",
   "mimetype": "text/x-python",
   "name": "python",
   "nbconvert_exporter": "python",
   "pygments_lexer": "ipython3",
   "version": "3.10.12"
  }
 },
 "nbformat": 4,
 "nbformat_minor": 5
}
