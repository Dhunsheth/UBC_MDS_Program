{
 "cells": [
  {
   "cell_type": "markdown",
   "id": "f12b23c0-4045-4577-abee-88df86ac369d",
   "metadata": {},
   "source": [
    "## Question 1"
   ]
  },
  {
   "cell_type": "code",
   "execution_count": 10,
   "id": "2556cab3-23e2-4521-bad6-5a1164ea3faf",
   "metadata": {},
   "outputs": [
    {
     "name": "stdout",
     "output_type": "stream",
     "text": [
      "[30, 20, 10]\n",
      "[30, 20]\n",
      "[40, 30, 20]\n",
      "[40, 30]\n"
     ]
    }
   ],
   "source": [
    "class Queue():\n",
    "    def __init__(self, A=[]):\n",
    "        self.a =  A\n",
    "    def enqueue(self, item):\n",
    "        self.a.insert(0,item)\n",
    "    def dequeue(self):\n",
    "        removed_item = self.a[-1]\n",
    "        del self.a[-1]\n",
    "        return removed_item\n",
    "    def size(self):\n",
    "        return len(self.a)\n",
    "    def __str__(self):\n",
    "        output = self.a[:]\n",
    "        return str(output)\n",
    "\n",
    "queue = Queue()\n",
    "queue.enqueue(10)\n",
    "queue.enqueue(20)\n",
    "queue.enqueue(30)\n",
    "print(queue)\n",
    "queue.dequeue()\n",
    "print(queue)\n",
    "queue.enqueue(40)\n",
    "print(queue)\n",
    "queue.dequeue()\n",
    "print(queue)"
   ]
  },
  {
   "cell_type": "markdown",
   "id": "c8c5f645-e60d-47c6-b7fc-84209fdc7ccd",
   "metadata": {},
   "source": [
    "## Question 2"
   ]
  },
  {
   "cell_type": "code",
   "execution_count": 43,
   "id": "3b997c38-9bb5-4920-b082-fb2a87f1c543",
   "metadata": {},
   "outputs": [
    {
     "name": "stdout",
     "output_type": "stream",
     "text": [
      "Alex\n",
      "Total Contacts: 1\n",
      "David\n",
      "Total Contacts: 2\n",
      "2\n"
     ]
    }
   ],
   "source": [
    "class Contact():\n",
    "    count = 0\n",
    "    def __init__(self, name, phoneNo, email):\n",
    "        self.__name = name\n",
    "        self.__phoneNo = phoneNo\n",
    "        self.__email = email\n",
    "        Contact.count += 1\n",
    "    \n",
    "    @property\n",
    "    def name(self):\n",
    "        return self.__name\n",
    "   \n",
    "    @name.setter\n",
    "    def name(self, value):\n",
    "        self.__name = value\n",
    "    \n",
    "    @property\n",
    "    def phoneNo(self):\n",
    "        return self.__phoneNo\n",
    "    \n",
    "    @phoneNo.setter\n",
    "    def phoneNo(self, value):\n",
    "        self.__phoneNo = value\n",
    "    \n",
    "    @property\n",
    "    def email(self):\n",
    "        return self.__email\n",
    "    \n",
    "    @email.setter\n",
    "    def email(self, value):\n",
    "        self.__email = value\n",
    "    \n",
    "    def displayCount(self):\n",
    "        print(\"Total Contacts: %s\" % Contact.count)\n",
    "\n",
    "\n",
    "c1 = Contact('Ale', '123-456-0123', 'alex@test.ca')\n",
    "c1.name = 'Alex'\n",
    "print(c1.name)\n",
    "c1.displayCount()\n",
    "c2 = Contact('David', '123-456-0124', 'dave@test.ca')\n",
    "print(c2.name)\n",
    "c2.displayCount()\n",
    "print(Contact.count)"
   ]
  },
  {
   "cell_type": "markdown",
   "id": "f9630b52-6976-494e-bf83-b40e3a6b90f4",
   "metadata": {},
   "source": [
    "## Question 3"
   ]
  },
  {
   "cell_type": "code",
   "execution_count": 46,
   "id": "c6fd4dff-d1de-4d47-a52f-e3129818d39c",
   "metadata": {},
   "outputs": [
    {
     "name": "stdout",
     "output_type": "stream",
     "text": [
      "Make: Ford Model: F150 Year: 2018 \n",
      "Tonnage: 0.5\n",
      "Make: Tesla Model: Model S Year: 2008 \n",
      "Battery: 60 kWh\n"
     ]
    }
   ],
   "source": [
    "class Vechicle():\n",
    "    def __init__(self, make, model, year):\n",
    "        self.make = make\n",
    "        self.model = model\n",
    "        self.year = year\n",
    "    def display(self):\n",
    "        output = \"Make: %s \" % self.make\n",
    "        output += \"Model: %s \" % self.model\n",
    "        output += \"Year: %s \" % self.year\n",
    "        print(output)\n",
    "\n",
    "class Truck(Vechicle):\n",
    "    def __init__(self, make, model, year, tonnage):\n",
    "        Vechicle.__init__(self, make, model, year)\n",
    "        self.tonnage = tonnage\n",
    "    def display(self):\n",
    "        Vechicle.display(self)\n",
    "        output = \"Tonnage: %s\" % self.tonnage\n",
    "        print(output)\n",
    "\n",
    "class ElectricCar(Vechicle):\n",
    "    def __init__(self, make, model, year, battery):\n",
    "        Vechicle.__init__(self, make, model, year)\n",
    "        self.battery = battery\n",
    "    def display(self):\n",
    "        Vechicle.display(self)\n",
    "        output = \"Battery: %s\" % self.battery\n",
    "        print(output)\n",
    "\n",
    "v1 = Truck('Ford', 'F150', 2018, 0.5);\n",
    "v2 = ElectricCar('Tesla', 'Model S', 2008, '60 kWh');\n",
    "vehicles = [v1, v2]\n",
    "for vehicle in vehicles:\n",
    "    vehicle.display()\n",
    "\n"
   ]
  },
  {
   "cell_type": "markdown",
   "id": "dabe4476-c48b-45c5-a671-6c16410a44f8",
   "metadata": {},
   "source": [
    "## Question 4"
   ]
  },
  {
   "cell_type": "code",
   "execution_count": 62,
   "id": "1c0df108-d925-4431-8208-b269c5d5052f",
   "metadata": {},
   "outputs": [
    {
     "name": "stdout",
     "output_type": "stream",
     "text": [
      "Total converted distance is 3.31 km\n",
      "Total converted distance is 13.94 in\n",
      "Total converted distance is -0.61 km\n",
      "Total converted distance is -2.0 ft\n"
     ]
    }
   ],
   "source": [
    "class Conversion():\n",
    "    def __init__(self, value, unit='m'):\n",
    "        self.value = value\n",
    "        self.unit = unit\n",
    "\n",
    "    def __add__(self, other):\n",
    "        val_1 = self.convert(self.value)\n",
    "        val_2 = other.convert(other.value)\n",
    "        total = val_1 + val_2\n",
    "        total = Conversion(total, self.unit)\n",
    "        total.value = round(1/total.convert()*total.value,2)\n",
    "        return total\n",
    "\n",
    "    def __sub__(self, other):\n",
    "        val_1 = self.convert(self.value)\n",
    "        val_2 = other.convert(other.value)\n",
    "        total = val_1 - val_2\n",
    "        total = Conversion(total, self.unit)\n",
    "        total.value = round(1/total.convert()*total.value,2)\n",
    "        return total\n",
    "    \n",
    "    def __str__(self):\n",
    "        return \"Total converted distance is %s \" % self.value + \"%s\" % self.unit\n",
    "\n",
    "    def convert(self, value=1):\n",
    "        if self.unit == 'mm':\n",
    "            return value/1000\n",
    "        elif self.unit == 'cm':\n",
    "            return value/100\n",
    "        elif self.unit == 'km':\n",
    "            return value/0.001\n",
    "        elif self.unit == 'in':\n",
    "            return value/39.3701\n",
    "        elif self.unit == 'ft':\n",
    "            return value/3.28084\n",
    "        elif self.unit == 'yd':\n",
    "            return value/1.09361\n",
    "        elif self.unit == 'mi':\n",
    "            return value/0.000621371\n",
    "        else:\n",
    "            return value\n",
    "\n",
    "print(Conversion(3.3, \"km\") + Conversion(10))\n",
    "print(Conversion(10, \"in\") + Conversion(10, \"cm\"))\n",
    "print(Conversion(1, \"km\") - Conversion(1,\"mi\"))\n",
    "print(Conversion(1, \"ft\") - Conversion(1,\"yd\"))"
   ]
  }
 ],
 "metadata": {
  "kernelspec": {
   "display_name": "Python 3 (ipykernel)",
   "language": "python",
   "name": "python3"
  },
  "language_info": {
   "codemirror_mode": {
    "name": "ipython",
    "version": 3
   },
   "file_extension": ".py",
   "mimetype": "text/x-python",
   "name": "python",
   "nbconvert_exporter": "python",
   "pygments_lexer": "ipython3",
   "version": "3.10.12"
  }
 },
 "nbformat": 4,
 "nbformat_minor": 5
}
